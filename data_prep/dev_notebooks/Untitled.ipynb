{
 "cells": [
  {
   "cell_type": "code",
   "execution_count": null,
   "id": "9c6a5af2-a4eb-47e9-b020-e8d99282b0a8",
   "metadata": {},
   "outputs": [],
   "source": []
  }
 ],
 "metadata": {
  "kernelspec": {
   "display_name": ".conda-prd_data_prep Python (Conda)",
   "language": "python",
   "name": "conda-env-.conda-prd_data_prep-py"
  },
  "language_info": {
   "codemirror_mode": {
    "name": "ipython",
    "version": 3
   },
   "file_extension": ".py",
   "mimetype": "text/x-python",
   "name": "python",
   "nbconvert_exporter": "python",
   "pygments_lexer": "ipython3",
   "version": "3.8.12"
  }
 },
 "nbformat": 4,
 "nbformat_minor": 5
}
