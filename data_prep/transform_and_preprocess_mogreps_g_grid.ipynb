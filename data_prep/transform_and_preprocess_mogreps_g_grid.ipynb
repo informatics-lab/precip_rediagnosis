{
 "cells": [
  {
   "cell_type": "markdown",
   "id": "exact-valentine",
   "metadata": {},
   "source": [
    "# Pre-processing the data - output intermidiate gridded\n",
    "This notebook follows on from `transform_and_preprocess_spice.ipynb`, and aims to output the intermediate MOGREPS-G data for the UK in gridded form in a single file, which was proving problematic intially in other notebook due to resource issues."
   ]
  },
  {
   "cell_type": "code",
   "execution_count": 1,
   "id": "willing-tenant",
   "metadata": {},
   "outputs": [],
   "source": [
    "import pathlib\n",
    "import datetime\n",
    "import functools\n",
    "import os"
   ]
  },
  {
   "cell_type": "code",
   "execution_count": 2,
   "id": "desperate-thousand",
   "metadata": {},
   "outputs": [],
   "source": [
    "import numpy"
   ]
  },
  {
   "cell_type": "code",
   "execution_count": 3,
   "id": "explicit-hamilton",
   "metadata": {
    "tags": []
   },
   "outputs": [],
   "source": [
    "import pandas"
   ]
  },
  {
   "cell_type": "code",
   "execution_count": 4,
   "id": "devoted-syria",
   "metadata": {},
   "outputs": [],
   "source": [
    "import xarray\n",
    "import iris\n",
    "import iris.quickplot\n",
    "import iris.coord_categorisation"
   ]
  },
  {
   "cell_type": "code",
   "execution_count": 5,
   "id": "216c2d69-2655-44b3-80a4-c12d3e637800",
   "metadata": {},
   "outputs": [],
   "source": [
    "import matplotlib.pyplot"
   ]
  },
  {
   "cell_type": "markdown",
   "id": "documented-campus",
   "metadata": {},
   "source": [
    "# Set parameters for notebook\n",
    "Set the paths and lists of things to process"
   ]
  },
  {
   "cell_type": "code",
   "execution_count": 6,
   "id": "c725213e-5ab1-45da-89f1-750b5dbbf334",
   "metadata": {},
   "outputs": [],
   "source": [
    "project_name = 'precip_rediagnosis'\n",
    "mogreps_g_name = 'mogreps-g'\n",
    "ilab_project_dir = pathlib.Path('/project/informatics_lab/')\n",
    "output_dir =  pathlib.Path('/scratch')/ os.environ['USER'] / project_name"
   ]
  },
  {
   "cell_type": "code",
   "execution_count": 7,
   "id": "union-agent",
   "metadata": {},
   "outputs": [],
   "source": [
    "root_data_dir = ilab_project_dir / project_name\n",
    "mogreps_g_data_dir = root_data_dir / mogreps_g_name\n",
    "radar_data_dir = root_data_dir / 'radar'"
   ]
  },
  {
   "cell_type": "code",
   "execution_count": 8,
   "id": "aac0f0e8-2b5c-4b36-b8c6-246e3e887bbd",
   "metadata": {},
   "outputs": [],
   "source": [
    "date_fname_template = '{start.year:04d}{start.month:02d}{start.day:02d}T{start.hour:02d}{start.minute:02d}Z_{end.year:04d}{end.month:02d}{end.day:02d}T{end.hour:02d}{end.minute:02d}Z'\n",
    "fname_extension_grid = '.nc'\n",
    "fname_extension_tabular = '.csv'\n",
    "leadtime_template = '{lt:03d}H'\n",
    "mogreps_g_tab_fname_template = 'prd_mogreps_g_' + leadtime_template + '_' + date_fname_template + fname_extension_tabular\n",
    "mogreps_g_grid_fname_template = 'prd_mogreps_g_' + leadtime_template + '_' + date_fname_template + fname_extension_grid\n",
    "radar_tab_fname_template = 'prd_radar_' + date_fname_template + fname_extension_tabular\n",
    "radar_grid_fname_template = 'prd_radar_' + date_fname_template + fname_extension_grid\n",
    "output_fname_template = 'prd_merged_' + leadtime_template + '_' + date_fname_template + fname_extension_tabular"
   ]
  },
  {
   "cell_type": "code",
   "execution_count": 9,
   "id": "operational-fundamentals",
   "metadata": {},
   "outputs": [],
   "source": [
    "variables_single_level = [\n",
    "    \"cloud_amount_of_total_cloud\",\n",
    "    \"rainfall_accumulation-PT03H\",\n",
    "    \"snowfall_accumulation-PT03H\",\n",
    "    \"rainfall_rate\",\n",
    "    \"snowfall_rate\",\n",
    "    \"height_of_orography\",\n",
    "    \"pressure_at_mean_sea_level\",\n",
    "]\n",
    "\n",
    "variables_height_levels = [\n",
    "    \"cloud_amount_on_height_levels\",\n",
    "    \"pressure_on_height_levels\",\n",
    "    \"temperature_on_height_levels\",\n",
    "    \"relative_humidity_on_height_levels\",\n",
    "    \"wind_direction_on_height_levels\",\n",
    "    \"wind_speed_on_height_levels\",\n",
    "    \n",
    "]"
   ]
  },
  {
   "cell_type": "code",
   "execution_count": 10,
   "id": "cooked-effort",
   "metadata": {},
   "outputs": [],
   "source": [
    "num_periods = 10\n",
    "start_ref_time = datetime.datetime(2020,2,14,12)\n",
    "forecast_ref_time_range = [start_ref_time + datetime.timedelta(hours=6)*i1 for i1 in range(num_periods)]\n",
    "leadtime_hours = 15\n",
    "realizations_list = list(range(35))"
   ]
  },
  {
   "cell_type": "code",
   "execution_count": 11,
   "id": "passing-infection",
   "metadata": {},
   "outputs": [],
   "source": [
    "dataset = 'mogreps-g'\n",
    "subset = 'lev1'\n",
    "forecast_ref_template = '{frt.year:04d}{frt.month:02d}{frt.day:02d}T{frt.hour:02d}00Z.nc.file'\n",
    "fname_template = '{vt.year:04d}{vt.month:02d}{vt.day:02d}T{vt.hour:02d}00Z-PT{lead_time:04d}H00M-{var_name}.nc'"
   ]
  },
  {
   "cell_type": "code",
   "execution_count": 12,
   "id": "neural-meter",
   "metadata": {},
   "outputs": [],
   "source": [
    "variables_to_extract = variables_height_levels + variables_single_level"
   ]
  },
  {
   "cell_type": "code",
   "execution_count": 13,
   "id": "finite-leeds",
   "metadata": {},
   "outputs": [],
   "source": [
    "path_lists_vars = {\n",
    "    var_name: [f1 for f1 in mogreps_g_data_dir.iterdir() if var_name in str(f1)]\n",
    "    for var_name in variables_to_extract\n",
    "}\n"
   ]
  },
  {
   "cell_type": "code",
   "execution_count": 14,
   "id": "70e6e4ad-0b11-4dce-8e2f-be0d276b9095",
   "metadata": {},
   "outputs": [],
   "source": [
    "uk_bounds={'latitude':(50,58), 'longitude': (-6,2)}\n",
    "xarray_select_uk = {k1: slice(*v1) for k1,v1 in uk_bounds.items()}"
   ]
  },
  {
   "cell_type": "code",
   "execution_count": 15,
   "id": "be44302a-caae-4062-8941-643170e9860b",
   "metadata": {},
   "outputs": [],
   "source": [
    "def cftime_to_datetime(input_cft):\n",
    "    return datetime.datetime(input_cft.year,\n",
    "                             input_cft.month,\n",
    "                             input_cft.day,\n",
    "                             input_cft.hour,\n",
    "                             input_cft.minute,\n",
    "                             input_cft.second,\n",
    "                            )"
   ]
  },
  {
   "cell_type": "markdown",
   "id": "binary-worker",
   "metadata": {},
   "source": [
    "## Create a dataset from MOGREPS-G data\n",
    "Information on Met Office Ensmble forecasts - https://www.metoffice.gov.uk/research/weather/ensemble-forecasting#\n",
    "Paper - https://www.metoffice.gov.uk/research/weather/ensemble-forecasting "
   ]
  },
  {
   "cell_type": "markdown",
   "id": "8a5086ee-9112-47dc-8d1e-2053c9e5af29",
   "metadata": {},
   "source": [
    "### Get the mapping of variable names \n",
    "Load some files and get the actual variable names."
   ]
  },
  {
   "cell_type": "code",
   "execution_count": 16,
   "id": "ruled-effort",
   "metadata": {},
   "outputs": [],
   "source": [
    "fcst_ref_time = forecast_ref_time_range[0]\n",
    "real1 = realizations_list[10]\n",
    "validity_time = fcst_ref_time + datetime.timedelta(hours=leadtime_hours)"
   ]
  },
  {
   "cell_type": "code",
   "execution_count": 17,
   "id": "russian-letter",
   "metadata": {},
   "outputs": [
    {
     "name": "stdout",
     "output_type": "stream",
     "text": [
      "CPU times: user 850 ms, sys: 88.5 ms, total: 939 ms\n",
      "Wall time: 2.07 s\n"
     ]
    },
    {
     "data": {
      "text/plain": [
       "{'cloud_amount_of_total_cloud': 'cloud_area_fraction',\n",
       " 'rainfall_accumulation-PT03H': 'thickness_of_rainfall_amount',\n",
       " 'snowfall_accumulation-PT03H': 'lwe_thickness_of_snowfall_amount',\n",
       " 'rainfall_rate': 'rainfall_rate',\n",
       " 'snowfall_rate': 'lwe_snowfall_rate',\n",
       " 'height_of_orography': 'surface_altitude',\n",
       " 'pressure_at_mean_sea_level': 'air_pressure_at_sea_level',\n",
       " 'cloud_amount_on_height_levels': 'cloud_volume_fraction_in_atmosphere_layer',\n",
       " 'pressure_on_height_levels': 'air_pressure',\n",
       " 'temperature_on_height_levels': 'air_temperature',\n",
       " 'relative_humidity_on_height_levels': 'relative_humidity',\n",
       " 'wind_direction_on_height_levels': 'wind_from_direction',\n",
       " 'wind_speed_on_height_levels': 'wind_speed'}"
      ]
     },
     "execution_count": 17,
     "metadata": {},
     "output_type": "execute_result"
    }
   ],
   "source": [
    "%%time\n",
    "# load a cube for each variable in iris to get the actual variable name, and populate dictionary mapping from the var name in the file name to the variable as loaded into iris/xarray\n",
    "file_to_var_mapping = {\n",
    "    var_file_name: iris.load_cube(str(mogreps_g_data_dir / fname_template.format(vt=validity_time,\n",
    "                                                                                 lead_time=leadtime_hours,\n",
    "                                                                                 var_name=var_file_name))).name()\n",
    "    for var_file_name in variables_single_level + variables_height_levels}\n",
    "file_to_var_mapping"
   ]
  },
  {
   "cell_type": "code",
   "execution_count": 18,
   "id": "4cf31e36-7d2b-4de9-9671-bfa81b4ac24a",
   "metadata": {},
   "outputs": [],
   "source": [
    "heights = iris.load_cube(str(mogreps_g_data_dir / fname_template.format(vt=validity_time,\n",
    "                                                                                 lead_time=leadtime_hours,\n",
    "                                                                                 var_name=variables_height_levels[0]))).coord('height').points"
   ]
  },
  {
   "cell_type": "code",
   "execution_count": 19,
   "id": "db38977d-efa7-4098-b189-0d2bba3db717",
   "metadata": {},
   "outputs": [],
   "source": [
    "merge_coords = ['latitude', 'longitude', 'time', 'realization']"
   ]
  },
  {
   "cell_type": "code",
   "execution_count": 20,
   "id": "dbc762f8-8aa7-4e90-bbd4-1b52d664aecc",
   "metadata": {},
   "outputs": [],
   "source": [
    "single_level_var_mappings = {v1: file_to_var_mapping[v1] for v1 in variables_single_level}\n",
    "height_level_var_mappings = {v1: file_to_var_mapping[v1] for v1 in variables_height_levels}"
   ]
  },
  {
   "cell_type": "code",
   "execution_count": 21,
   "id": "demanding-checkout",
   "metadata": {},
   "outputs": [],
   "source": [
    "def load_ds(ds_path, selected_bounds):\n",
    "    try:\n",
    "        subset1 = dict(selected_bounds)\n",
    "        subset1['bnds'] = 0\n",
    "        single_level_ds = xarray.load_dataset(ds_path).sel(**subset1)\n",
    "    except KeyError as e1:\n",
    "        single_level_ds = None\n",
    "    return single_level_ds"
   ]
  },
  {
   "cell_type": "code",
   "execution_count": 22,
   "id": "3350c30d-7af8-42c5-a183-ba48f5e44f1a",
   "metadata": {},
   "outputs": [
    {
     "name": "stdout",
     "output_type": "stream",
     "text": [
      "2020-02-14 12:00:00\n",
      "2020-02-14 18:00:00\n",
      "2020-02-15 00:00:00\n",
      "2020-02-15 06:00:00\n",
      "2020-02-15 12:00:00\n",
      "2020-02-15 18:00:00\n",
      "2020-02-16 00:00:00\n",
      "2020-02-16 06:00:00\n",
      "2020-02-16 12:00:00\n",
      "2020-02-16 18:00:00\n",
      "CPU times: user 22min 11s, sys: 2min 37s, total: 24min 48s\n",
      "Wall time: 33min 22s\n"
     ]
    }
   ],
   "source": [
    "%%time\n",
    "# gridded_data_list = []\n",
    "for fcst_ref_time in forecast_ref_time_range:\n",
    "    print(fcst_ref_time)\n",
    "    validity_time = fcst_ref_time + datetime.timedelta(hours=leadtime_hours)\n",
    "    single_level_ds = xarray.merge([load_ds(ds_path= mogreps_g_data_dir / fname_template.format(vt=validity_time,\n",
    "                                                                                                lead_time=leadtime_hours,\n",
    "                                                                                                var_name=var1),\n",
    "                                            selected_bounds=xarray_select_uk,\n",
    "                                           )\n",
    "                                    for var1 in variables_single_level]\n",
    "                                  )\n",
    "\n",
    "    height_levels_ds = xarray.merge([load_ds(ds_path=mogreps_g_data_dir / fname_template.format(vt=validity_time,\n",
    "                                                                                                lead_time=leadtime_hours,\n",
    "                                                                                                var_name=var1),\n",
    "                                             selected_bounds=xarray_select_uk,\n",
    "                                            )\n",
    "                                     for var1 in variables_height_levels])\n",
    "    \n",
    "    ts_mogg_ds1 = xarray.merge([height_levels_ds, single_level_ds])\n",
    "    ts_mogg_ds1.to_netcdf(output_dir / (\n",
    "        'prd_mg_ts_'+ f'{validity_time.year:04d}{validity_time.month:02d}{validity_time.day:02d}{validity_time.hour:02d}{validity_time.minute:02d}' \n",
    "        + fname_extension_grid)\n",
    "    )\n",
    "    # gridded_data_list += [xarray.merge([height_levels_ds, single_level_ds])]"
   ]
  },
  {
   "cell_type": "code",
   "execution_count": 23,
   "id": "aef83807-6b16-41c4-b520-300c4603ed33",
   "metadata": {},
   "outputs": [],
   "source": [
    "merged_ds = xarray.concat([xarray.load_dataset(f1) for f1 in output_dir.iterdir() if 'prd_mg_ts' in str(f1)], dim='time')"
   ]
  },
  {
   "cell_type": "code",
   "execution_count": 24,
   "id": "4d2942b3-8431-4ab2-81f7-9e59670c07bb",
   "metadata": {},
   "outputs": [],
   "source": [
    "start_dt = min(forecast_ref_time_range) + datetime.timedelta(hours=leadtime_hours)\n",
    "end_dt = max(forecast_ref_time_range) + datetime.timedelta(hours=leadtime_hours)"
   ]
  },
  {
   "cell_type": "code",
   "execution_count": 25,
   "id": "54ea4267-fa4b-4f34-848c-e061ce0579a4",
   "metadata": {},
   "outputs": [
    {
     "name": "stderr",
     "output_type": "stream",
     "text": [
      "/var/tmp/ipykernel_31413/3187837745.py:1: SerializationWarning: saving variable forecast_reference_time with floating point data as an integer dtype without any _FillValue to use for NaNs\n",
      "  merged_ds.to_netcdf(\n",
      "/var/tmp/ipykernel_31413/3187837745.py:1: SerializationWarning: saving variable time_bnds with floating point data as an integer dtype without any _FillValue to use for NaNs\n",
      "  merged_ds.to_netcdf(\n"
     ]
    }
   ],
   "source": [
    "merged_ds.to_netcdf(\n",
    "    output_dir / mogreps_g_grid_fname_template.format(start=start_dt,\n",
    "                                               end=end_dt,\n",
    "                                               lt=leadtime_hours,\n",
    "                                              )\n",
    ")"
   ]
  },
  {
   "cell_type": "code",
   "execution_count": null,
   "id": "5d82dd98-2950-4935-a976-171468d04ede",
   "metadata": {},
   "outputs": [],
   "source": []
  }
 ],
 "metadata": {
  "kernelspec": {
   "display_name": "prd_data_prep (Conda)",
   "language": "python",
   "name": "prd_data_prep"
  },
  "language_info": {
   "codemirror_mode": {
    "name": "ipython",
    "version": 3
   },
   "file_extension": ".py",
   "mimetype": "text/x-python",
   "name": "python",
   "nbconvert_exporter": "python",
   "pygments_lexer": "ipython3",
   "version": "3.8.12"
  }
 },
 "nbformat": 4,
 "nbformat_minor": 5
}
