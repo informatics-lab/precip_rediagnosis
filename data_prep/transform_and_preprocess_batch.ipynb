{
 "cells": [
  {
   "cell_type": "markdown",
   "id": "exact-valentine",
   "metadata": {
    "tags": []
   },
   "source": [
    "# Pre-processing the data - batch\n",
    "This notebook follows on from `transform_and_preprocess_spice.ipynb`, so look at that first for an explanation of processing. This notebook has the same processing in fewer commands and in a loop across forecast ref times. Along the way intermediate data is also output, including:\n",
    "* MOGREPS-G gridded data for UK, all variables in one file.\n",
    "* MOGREPS-G data for UK in tabular form\n",
    "* Radar data regridded onto MOGREPS-G grid and summed to 3hr accumualtions, one file\n",
    "* Radar data on MOGREPS-G grid and summed to 3hr accumualtions in tabular form\n",
    "* Final output: Merged MOGREPS-G and radar data in tabular\n",
    "\n",
    "Changing the initial parameter (such as time and location) should allow duplicated o f this notebook to work for other timeperiods."
   ]
  },
  {
   "cell_type": "code",
   "execution_count": 1,
   "id": "willing-tenant",
   "metadata": {},
   "outputs": [],
   "source": [
    "import pathlib\n",
    "import datetime\n",
    "import functools\n",
    "import os"
   ]
  },
  {
   "cell_type": "code",
   "execution_count": 2,
   "id": "desperate-thousand",
   "metadata": {},
   "outputs": [],
   "source": [
    "import numpy"
   ]
  },
  {
   "cell_type": "code",
   "execution_count": 3,
   "id": "explicit-hamilton",
   "metadata": {
    "tags": []
   },
   "outputs": [],
   "source": [
    "import pandas"
   ]
  },
  {
   "cell_type": "code",
   "execution_count": 4,
   "id": "devoted-syria",
   "metadata": {},
   "outputs": [],
   "source": [
    "import xarray\n",
    "import iris\n",
    "import iris.quickplot\n",
    "import iris.coord_categorisation"
   ]
  },
  {
   "cell_type": "code",
   "execution_count": 5,
   "id": "216c2d69-2655-44b3-80a4-c12d3e637800",
   "metadata": {},
   "outputs": [],
   "source": [
    "import matplotlib.pyplot"
   ]
  },
  {
   "cell_type": "markdown",
   "id": "documented-campus",
   "metadata": {},
   "source": [
    "# Set parameters for notebook\n",
    "Set the paths and lists of things to process"
   ]
  },
  {
   "cell_type": "code",
   "execution_count": 6,
   "id": "c725213e-5ab1-45da-89f1-750b5dbbf334",
   "metadata": {},
   "outputs": [],
   "source": [
    "project_name = 'precip_rediagnosis'\n",
    "mogreps_g_name = 'mogreps-g'\n",
    "radar_name = 'radar'\n",
    "ilab_project_dir = pathlib.Path('/project/informatics_lab/')\n",
    "output_dir =  pathlib.Path('/scratch')/ os.environ['USER'] / project_name / 'storm_dennis_6hr_lt'"
   ]
  },
  {
   "cell_type": "code",
   "execution_count": 7,
   "id": "a1e6500b-e228-4a5a-8602-fbcfe00cc9ec",
   "metadata": {},
   "outputs": [],
   "source": [
    "root_data_dir = pathlib.Path('/scratch/shaddad/precip_rediagnosis/storm_dennis_6hr_lt')"
   ]
  },
  {
   "cell_type": "code",
   "execution_count": 8,
   "id": "union-agent",
   "metadata": {},
   "outputs": [],
   "source": [
    "mogreps_g_data_dir = root_data_dir / mogreps_g_name\n",
    "radar_data_dir = root_data_dir / radar_name"
   ]
  },
  {
   "cell_type": "code",
   "execution_count": 9,
   "id": "aac0f0e8-2b5c-4b36-b8c6-246e3e887bbd",
   "metadata": {},
   "outputs": [],
   "source": [
    "date_fname_template = '{start.year:04d}{start.month:02d}{start.day:02d}T{start.hour:02d}{start.minute:02d}Z_{end.year:04d}{end.month:02d}{end.day:02d}T{end.hour:02d}{end.minute:02d}Z'\n",
    "fname_extension_grid = '.nc'\n",
    "fname_extension_tabular = '.csv'\n",
    "leadtime_template = '{lt:03d}H'\n",
    "mogreps_g_tab_fname_template = 'prd_mogreps_g_' + leadtime_template + '_' + date_fname_template + fname_extension_tabular\n",
    "mogreps_g_grid_fname_template = 'prd_mogreps_g_' + leadtime_template + '_' + date_fname_template + fname_extension_grid\n",
    "radar_tab_fname_template = 'prd_radar_' + date_fname_template + fname_extension_tabular\n",
    "radar_grid_fname_template = 'prd_radar_' + date_fname_template + fname_extension_grid\n",
    "output_fname_template = 'prd_merged_' + leadtime_template + '_' + date_fname_template + fname_extension_tabular"
   ]
  },
  {
   "cell_type": "code",
   "execution_count": 10,
   "id": "operational-fundamentals",
   "metadata": {},
   "outputs": [],
   "source": [
    "variables_single_level = [\n",
    "    \"cloud_amount_of_total_cloud\",\n",
    "    \"rainfall_accumulation-PT03H\",\n",
    "    \"snowfall_accumulation-PT03H\",\n",
    "    \"rainfall_rate\",\n",
    "    \"snowfall_rate\",\n",
    "    \"height_of_orography\",\n",
    "    \"pressure_at_mean_sea_level\",\n",
    "]\n",
    "\n",
    "variables_height_levels = [\n",
    "    \"cloud_amount_on_height_levels\",\n",
    "    \"pressure_on_height_levels\",\n",
    "    \"temperature_on_height_levels\",\n",
    "    \"relative_humidity_on_height_levels\",\n",
    "    \"wind_direction_on_height_levels\",\n",
    "    \"wind_speed_on_height_levels\",\n",
    "    \n",
    "]"
   ]
  },
  {
   "cell_type": "code",
   "execution_count": 11,
   "id": "cooked-effort",
   "metadata": {},
   "outputs": [],
   "source": [
    "num_periods = 10\n",
    "start_ref_time = datetime.datetime(2020,2,14,12)\n",
    "forecast_ref_time_range = [start_ref_time + datetime.timedelta(hours=6)*i1 for i1 in range(num_periods)]\n",
    "leadtime_hours = 6\n",
    "realizations_list = list(range(35))"
   ]
  },
  {
   "cell_type": "code",
   "execution_count": 12,
   "id": "passing-infection",
   "metadata": {},
   "outputs": [],
   "source": [
    "dataset = 'mogreps-g'\n",
    "subset = 'lev1'\n",
    "forecast_ref_template = '{frt.year:04d}{frt.month:02d}{frt.day:02d}T{frt.hour:02d}00Z.nc.file'\n",
    "fname_template = '{vt.year:04d}{vt.month:02d}{vt.day:02d}T{vt.hour:02d}00Z-PT{lead_time:04d}H00M-{var_name}.nc'"
   ]
  },
  {
   "cell_type": "code",
   "execution_count": 13,
   "id": "neural-meter",
   "metadata": {},
   "outputs": [],
   "source": [
    "variables_to_extract = variables_height_levels + variables_single_level"
   ]
  },
  {
   "cell_type": "code",
   "execution_count": 14,
   "id": "finite-leeds",
   "metadata": {},
   "outputs": [],
   "source": [
    "path_lists_vars = {\n",
    "    var_name: [f1 for f1 in mogreps_g_data_dir.iterdir() if var_name in str(f1)]\n",
    "    for var_name in variables_to_extract\n",
    "}\n"
   ]
  },
  {
   "cell_type": "code",
   "execution_count": 15,
   "id": "70e6e4ad-0b11-4dce-8e2f-be0d276b9095",
   "metadata": {},
   "outputs": [],
   "source": [
    "uk_bounds={'latitude':(50,58), 'longitude': (-6,2)}\n",
    "xarray_select_uk = {k1: slice(*v1) for k1,v1 in uk_bounds.items()}"
   ]
  },
  {
   "cell_type": "code",
   "execution_count": 16,
   "id": "f65ddbec-81db-42ca-8bf4-f49ed05bc8df",
   "metadata": {},
   "outputs": [],
   "source": [
    "# these are modified compared to the actual improver thresholds, to remove the fuzziness of the range boundaries\n",
    "improver_thresholds = {\n",
    "\"0.0\": [0.0, 0.027],\n",
    "\"0.03\": [0.027, 0.033],\n",
    "\"0.09\": [0.033, 0.099],\n",
    "\"0.1\": [0.099, 0.11],\n",
    "\"0.25\": [0.11, 0.275],\n",
    "\"0.3\": [0.275, 0.33],\n",
    "\"0.5\": [0.33, 0.55],\n",
    "\"1.0\": [0.55, 1.1],\n",
    "\"2.0\": [1.1, 2.2],\n",
    "\"3.0\": [2.2, 3.3],\n",
    "\"4.0\": [3.3, 4.4],\n",
    "\"8.0\": [4.4, 8.8],\n",
    "\"12.0\": [8.8, 13.2],\n",
    "\"16.0\": [13.2, 17.6],\n",
    "\"20.0\": [17.6, 22.0],\n",
    "\"25.0\": [22.0, 27.5],\n",
    "\"30.0\": [27.5, 33.0],\n",
    "\"40.0\": [33.0, 44.0],\n",
    "\"50.0\": [44.0, 55.0],\n",
    "\"75.0\": [55.0, 82.5],\n",
    "\"100.0\": [82.5, 110.0],\n",
    "\"150.0\": [110.0, 165.0],\n",
    "\"200.0\": [165.0, 220.0]\n",
    "}\n"
   ]
  },
  {
   "cell_type": "markdown",
   "id": "5a2cacb1-849e-496b-8848-f4cdacfd6cb4",
   "metadata": {
    "tags": []
   },
   "source": [
    "## Load radar data"
   ]
  },
  {
   "cell_type": "code",
   "execution_count": 17,
   "id": "dba573d6-215c-43f3-a4c5-1ee74bdba332",
   "metadata": {},
   "outputs": [
    {
     "data": {
      "text/plain": [
       "[datetime.datetime(2020, 2, 14, 0, 0),\n",
       " datetime.datetime(2020, 2, 15, 0, 0),\n",
       " datetime.datetime(2020, 2, 16, 0, 0),\n",
       " datetime.datetime(2020, 2, 17, 0, 0)]"
      ]
     },
     "execution_count": 17,
     "metadata": {},
     "output_type": "execute_result"
    }
   ],
   "source": [
    "radar_days = [datetime.datetime(2020,2,14) + datetime.timedelta(days=d1) for d1 in range(4)]\n",
    "radar_days"
   ]
  },
  {
   "cell_type": "code",
   "execution_count": 18,
   "id": "d2245d7d-a1c8-48ff-9f87-f697f393dd0e",
   "metadata": {},
   "outputs": [],
   "source": [
    "radar_fname_template = 'composite_rainfall_{dt.year:04d}{dt.month:02d}{dt.day:02d}.nc'\n",
    "radar_cube = iris.cube.CubeList([iris.load_cube(str(radar_data_dir / radar_fname_template.format(dt=dt1))) for dt1 in radar_days] ).concatenate_cube()"
   ]
  },
  {
   "cell_type": "code",
   "execution_count": 19,
   "id": "5c29d2d2-573e-40c8-a1f1-917f73ed9cba",
   "metadata": {},
   "outputs": [],
   "source": [
    "iris.coord_categorisation.add_hour(radar_cube, coord='time')\n",
    "iris.coord_categorisation.add_day_of_year(radar_cube, coord='time')"
   ]
  },
  {
   "cell_type": "markdown",
   "id": "d97b6ba7-6f7d-4731-b98f-cabf1b5b0416",
   "metadata": {},
   "source": [
    "Load a sample variable from MOGREPS-G to use for regridding radar data."
   ]
  },
  {
   "cell_type": "code",
   "execution_count": 20,
   "id": "aec2a8e2-1258-440b-ab55-59bd0031bd4d",
   "metadata": {},
   "outputs": [],
   "source": [
    "mogreps_g_example = iris.load_cube(\n",
    "    str(mogreps_g_data_dir / fname_template.format(\n",
    "        vt=forecast_ref_time_range[0] + datetime.timedelta(hours=leadtime_hours), \n",
    "        lead_time=leadtime_hours, \n",
    "        var_name=variables_single_level[0])),\n",
    "    iris.Constraint(latitude=lambda cell1: uk_bounds['latitude'][0] < cell1 < uk_bounds['latitude'][1], \n",
    "                                                     longitude=lambda cell1: uk_bounds['longitude'][0] < cell1 < uk_bounds['longitude'][1], realization=0)\n",
    ")\n"
   ]
  },
  {
   "cell_type": "markdown",
   "id": "96bfbd13-aeaa-48ae-92ac-c20a90ad40fe",
   "metadata": {},
   "source": [
    "Aggregate the instantaneous rates to get an accumulation (this makes the assumption that the rates represent the accumulation for the 5 minute period)."
   ]
  },
  {
   "cell_type": "code",
   "execution_count": 21,
   "id": "d58dc4c4-9ca6-4a60-9b44-bb7365b56b59",
   "metadata": {},
   "outputs": [],
   "source": [
    "coord_3hr = iris.coords.AuxCoord(radar_cube.coord('hour').points // 3,\n",
    "                                long_name='3hr',\n",
    "                                 units='hour',\n",
    "                                )\n",
    "radar_cube.add_aux_coord(coord_3hr, data_dims=0)\n",
    "radar_agg_3hr = radar_cube.aggregated_by(['3hr', 'day_of_year'],iris.analysis.SUM)\n",
    "radar_agg_3hr.add_aux_coord(iris.coords.AuxCoord([c1.bound[0] + datetime.timedelta(hours=3) for c1 in radar_agg_3hr.coord('time').cells()], long_name='model_accum_time', units='mm/h'), data_dims=0)"
   ]
  },
  {
   "cell_type": "markdown",
   "id": "2a099237-a241-427d-bcaf-530ae1845288",
   "metadata": {},
   "source": [
    "When we aggregate the data into 3 hour accumulations, for each hour each sum 12 observations, each of of which are giving us a rainfall rate in mm per hour. Our assumption is that represents the rainfall rate for a 5 minute period (60 minutes divided by 12 observations), so we want to translate this inot how many mm will fall in that 5 minute period. So we need to scale the value by 1/12 to get a 5 minute accumulation, which when aggregate all the 5 minute periods will give us correct 3 hour accumulations."
   ]
  },
  {
   "cell_type": "code",
   "execution_count": 22,
   "id": "fa931b09-63ff-46d9-8160-74cf945b2589",
   "metadata": {},
   "outputs": [
    {
     "name": "stdout",
     "output_type": "stream",
     "text": [
      "CPU times: user 42.1 s, sys: 44.4 s, total: 1min 26s\n",
      "Wall time: 47.6 s\n"
     ]
    }
   ],
   "source": [
    "%%time\n",
    "radar_agg_3hr.data = radar_agg_3hr.data * (1.0 /12.0)"
   ]
  },
  {
   "cell_type": "code",
   "execution_count": 23,
   "id": "8106c293-349b-4083-9f3a-636ff3120831",
   "metadata": {},
   "outputs": [
    {
     "name": "stderr",
     "output_type": "stream",
     "text": [
      "/home/h01/shaddad/.conda/envs/prd_data_prep/lib/python3.8/site-packages/iris/coord_systems.py:525: UserWarning: The default value for the *approx* keyword argument to TransverseMercator will change from True to False after 0.18.\n",
      "  return ccrs.TransverseMercator(\n"
     ]
    }
   ],
   "source": [
    "radar_crs = radar_cube.coord_system().as_cartopy_crs()"
   ]
  },
  {
   "cell_type": "code",
   "execution_count": 24,
   "id": "cf6ca84d-fb65-4209-a032-f4d38690d8ca",
   "metadata": {},
   "outputs": [],
   "source": [
    "proj_y_grid = numpy.tile(radar_cube.coord('projection_y_coordinate').points.reshape(radar_cube.shape[1],1), [1, radar_cube.shape[2]])\n",
    "proj_x_grid = numpy.tile(radar_cube.coord('projection_x_coordinate').points.reshape(1,radar_cube.shape[2]), [ radar_cube.shape[1],1])"
   ]
  },
  {
   "cell_type": "code",
   "execution_count": 25,
   "id": "4f3f8d13-d547-4710-9ac6-803f0b7c98f6",
   "metadata": {},
   "outputs": [],
   "source": [
    "ret_val = mogreps_g_example.coord_system().as_cartopy_crs().transform_points(\n",
    "    radar_crs,\n",
    "    proj_y_grid,\n",
    "    proj_x_grid,\n",
    "    )\n",
    "lat_vals = ret_val[:,:,1]\n",
    "lon_vals = ret_val[:,:,0]"
   ]
  },
  {
   "cell_type": "code",
   "execution_count": 26,
   "id": "689dcf82-01d0-44b1-a036-7e2104af5b2b",
   "metadata": {},
   "outputs": [],
   "source": [
    "lon_coord = iris.coords.AuxCoord(\n",
    "    lon_vals,\n",
    "    standard_name='longitude',\n",
    "    units='degrees',\n",
    ")\n",
    "lat_coord = iris.coords.AuxCoord(\n",
    "    lat_vals,\n",
    "    standard_name='latitude',\n",
    "    units='degrees',\n",
    ")"
   ]
  },
  {
   "cell_type": "code",
   "execution_count": 27,
   "id": "8ddf8b30-668b-40b5-a03e-fc20f7cc2818",
   "metadata": {},
   "outputs": [],
   "source": [
    "radar_cube.add_aux_coord(lon_coord,[1,2])\n",
    "radar_cube.add_aux_coord(lat_coord,[1,2])\n",
    "radar_agg_3hr.add_aux_coord(lon_coord,[1,2])\n",
    "radar_agg_3hr.add_aux_coord(lat_coord,[1,2])"
   ]
  },
  {
   "cell_type": "code",
   "execution_count": 28,
   "id": "c7b1d06d-0cc3-4f14-b5ad-161746e26761",
   "metadata": {},
   "outputs": [],
   "source": [
    "# remove these coordinates as they interfere with subsequent calculations\n",
    "radar_agg_3hr.remove_coord('model_accum_time')\n",
    "radar_agg_3hr.remove_coord('forecast_reference_time')\n",
    "radar_agg_3hr.remove_coord('hour')\n",
    "radar_agg_3hr.remove_coord('day_of_year')\n",
    "radar_agg_3hr.remove_coord('3hr')"
   ]
  },
  {
   "cell_type": "code",
   "execution_count": 29,
   "id": "803d1c84-b0ad-497f-8565-f4209bc4a8c0",
   "metadata": {},
   "outputs": [
    {
     "data": {
      "text/html": [
       "\n",
       "<style>\n",
       "  a.iris {\n",
       "      text-decoration: none !important;\n",
       "  }\n",
       "  table.iris {\n",
       "      white-space: pre;\n",
       "      border: 1px solid;\n",
       "      border-color: #9c9c9c;\n",
       "      font-family: monaco, monospace;\n",
       "  }\n",
       "  th.iris {\n",
       "      background: #303f3f;\n",
       "      color: #e0e0e0;\n",
       "      border-left: 1px solid;\n",
       "      border-color: #9c9c9c;\n",
       "      font-size: 1.05em;\n",
       "      min-width: 50px;\n",
       "      max-width: 125px;\n",
       "  }\n",
       "  tr.iris :first-child {\n",
       "      border-right: 1px solid #9c9c9c !important;\n",
       "  }\n",
       "  td.iris-title {\n",
       "      background: #d5dcdf;\n",
       "      border-top: 1px solid #9c9c9c;\n",
       "      font-weight: bold;\n",
       "  }\n",
       "  .iris-word-cell {\n",
       "      text-align: left !important;\n",
       "      white-space: pre;\n",
       "  }\n",
       "  .iris-subheading-cell {\n",
       "      padding-left: 2em !important;\n",
       "  }\n",
       "  .iris-inclusion-cell {\n",
       "      padding-right: 1em !important;\n",
       "  }\n",
       "  .iris-panel-body {\n",
       "      padding-top: 0px;\n",
       "  }\n",
       "  .iris-panel-title {\n",
       "      padding-left: 3em;\n",
       "  }\n",
       "  .iris-panel-title {\n",
       "      margin-top: 7px;\n",
       "  }\n",
       "</style>\n",
       "<table class=\"iris\" id=\"47140738104384\">\n",
       "    <tr class=\"iris\">\n",
       "<th class=\"iris iris-word-cell\">Rainfall Rate Composite (mm/h)</th>\n",
       "<th class=\"iris iris-word-cell\">time</th>\n",
       "<th class=\"iris iris-word-cell\">projection_y_coordinate</th>\n",
       "<th class=\"iris iris-word-cell\">projection_x_coordinate</th>\n",
       "</tr>\n",
       "    <tr class=\"iris\">\n",
       "<td class=\"iris-word-cell iris-subheading-cell\">Shape</td>\n",
       "<td class=\"iris iris-inclusion-cell\">32</td>\n",
       "<td class=\"iris iris-inclusion-cell\">2175</td>\n",
       "<td class=\"iris iris-inclusion-cell\">1725</td>\n",
       "</tr>\n",
       "    <tr class=\"iris\">\n",
       "    <td class=\"iris-title iris-word-cell\">Dimension coordinates</td>\n",
       "    <td class=\"iris-title\"></td>\n",
       "    <td class=\"iris-title\"></td>\n",
       "    <td class=\"iris-title\"></td>\n",
       "</tr>\n",
       "<tr class=\"iris\">\n",
       "    <td class=\"iris-word-cell iris-subheading-cell\">\ttime</td>\n",
       "    <td class=\"iris-inclusion-cell\">x</td>\n",
       "    <td class=\"iris-inclusion-cell\">-</td>\n",
       "    <td class=\"iris-inclusion-cell\">-</td>\n",
       "</tr>\n",
       "<tr class=\"iris\">\n",
       "    <td class=\"iris-word-cell iris-subheading-cell\">\tprojection_y_coordinate</td>\n",
       "    <td class=\"iris-inclusion-cell\">-</td>\n",
       "    <td class=\"iris-inclusion-cell\">x</td>\n",
       "    <td class=\"iris-inclusion-cell\">-</td>\n",
       "</tr>\n",
       "<tr class=\"iris\">\n",
       "    <td class=\"iris-word-cell iris-subheading-cell\">\tprojection_x_coordinate</td>\n",
       "    <td class=\"iris-inclusion-cell\">-</td>\n",
       "    <td class=\"iris-inclusion-cell\">-</td>\n",
       "    <td class=\"iris-inclusion-cell\">x</td>\n",
       "</tr>\n",
       "<tr class=\"iris\">\n",
       "    <td class=\"iris-title iris-word-cell\">Auxiliary coordinates</td>\n",
       "    <td class=\"iris-title\"></td>\n",
       "    <td class=\"iris-title\"></td>\n",
       "    <td class=\"iris-title\"></td>\n",
       "</tr>\n",
       "<tr class=\"iris\">\n",
       "    <td class=\"iris-word-cell iris-subheading-cell\">\tlatitude</td>\n",
       "    <td class=\"iris-inclusion-cell\">-</td>\n",
       "    <td class=\"iris-inclusion-cell\">x</td>\n",
       "    <td class=\"iris-inclusion-cell\">x</td>\n",
       "</tr>\n",
       "<tr class=\"iris\">\n",
       "    <td class=\"iris-word-cell iris-subheading-cell\">\tlongitude</td>\n",
       "    <td class=\"iris-inclusion-cell\">-</td>\n",
       "    <td class=\"iris-inclusion-cell\">x</td>\n",
       "    <td class=\"iris-inclusion-cell\">x</td>\n",
       "</tr>\n",
       "<tr class=\"iris\">\n",
       "    <td class=\"iris-title iris-word-cell\">Scalar coordinates</td>\n",
       "    <td class=\"iris-title\"></td>\n",
       "    <td class=\"iris-title\"></td>\n",
       "    <td class=\"iris-title\"><br>forecast_period             0 second</td>\n",
       "</tr>\n",
       "<tr class=\"iris\">\n",
       "    <td class=\"iris-title iris-word-cell\">Cell methods</td>\n",
       "    <td class=\"iris-title\"></td>\n",
       "    <td class=\"iris-title\"></td>\n",
       "    <td class=\"iris-title\"></td>\n",
       "</tr>\n",
       "<tr class=\"iris\">\n",
       "    <td class=\"iris-word-cell iris-subheading-cell\">\tsum                         3hr, day_of_year</td>\n",
       "    <td class=\"iris-word-cell\" colspan=\"3\"></td>\n",
       "</tr>\n",
       "<tr class=\"iris\">\n",
       "    <td class=\"iris-title iris-word-cell\">Attributes</td>\n",
       "    <td class=\"iris-title\"></td>\n",
       "    <td class=\"iris-title\"></td>\n",
       "    <td class=\"iris-title\"><br>Conventions                 CF-1.7<br>field_code                  213<br>institution                 Met Office<br>nimrod_version              2<br>probability_period_of_event 0<br>source                      Plr single site radars<br>title                       Unknown</td>\n",
       "</tr>\n",
       "</table>\n",
       "        "
      ],
      "text/plain": [
       "<iris 'Cube' of Rainfall rate Composite / (mm/h) (time: 32; projection_y_coordinate: 2175; projection_x_coordinate: 1725)>"
      ]
     },
     "execution_count": 29,
     "metadata": {},
     "output_type": "execute_result"
    }
   ],
   "source": [
    "radar_agg_3hr"
   ]
  },
  {
   "cell_type": "code",
   "execution_count": 30,
   "id": "85c04924-61bd-44ee-a9c5-710547e1e908",
   "metadata": {},
   "outputs": [],
   "source": [
    "lat_mog_g_index  = numpy.zeros((radar_cube.shape[1],radar_cube.shape[2]))\n",
    "lon_mog_g_index  = numpy.zeros((radar_cube.shape[1],radar_cube.shape[2]))"
   ]
  },
  {
   "cell_type": "code",
   "execution_count": 31,
   "id": "cab0b24e-7fb8-4d43-9b40-4a50e4fb19c1",
   "metadata": {},
   "outputs": [
    {
     "name": "stdout",
     "output_type": "stream",
     "text": [
      "CPU times: user 48.1 s, sys: 13.6 ms, total: 48.1 s\n",
      "Wall time: 48.1 s\n"
     ]
    }
   ],
   "source": [
    "%%time\n",
    "for i_lon, bnd_lon in enumerate(mogreps_g_example.coord('longitude').bounds):\n",
    "    \n",
    "    for i_lat, bnd_lat in enumerate(mogreps_g_example.coord('latitude').bounds):\n",
    "        arr1, arr2 = numpy.where((lat_vals >= bnd_lat[0]) &\n",
    "         (lat_vals < bnd_lat[1])&\n",
    "         (lon_vals>= bnd_lon[0]) &\n",
    "         (lon_vals < bnd_lon[1])\n",
    "        )\n",
    "        lon_mog_g_index[arr1, arr2] = i_lon\n",
    "        lat_mog_g_index[arr1, arr2] = i_lat\n",
    "     "
   ]
  },
  {
   "cell_type": "code",
   "execution_count": 32,
   "id": "bfadc7e6-f5b8-4737-9fe3-2dd0f31d0489",
   "metadata": {},
   "outputs": [],
   "source": [
    "def compare_time(t1, t2):\n",
    "    is_match = (t1.year == t2.year) and  (t1.month == t2.month) and  (t1.day == t2.day) and  (t1.hour== t2.hour) and  (t1.minute == t2.minute) \n",
    "    return is_match"
   ]
  },
  {
   "cell_type": "code",
   "execution_count": 33,
   "id": "97306e12-2ef3-4b07-8243-0216d8485cf2",
   "metadata": {},
   "outputs": [],
   "source": [
    "bands_data = numpy.zeros([len(forecast_ref_time_range), mogreps_g_example.shape[0], mogreps_g_example.shape[1], len(improver_thresholds)])\n",
    "bands_data_instant = numpy.zeros([len(forecast_ref_time_range), mogreps_g_example.shape[0], mogreps_g_example.shape[1], len(improver_thresholds)])"
   ]
  },
  {
   "cell_type": "code",
   "execution_count": 34,
   "id": "e69300cd-aec7-4faf-9dd2-f9d9791b5749",
   "metadata": {},
   "outputs": [],
   "source": [
    "max_rain_data = numpy.zeros([len(forecast_ref_time_range), mogreps_g_example.shape[0], mogreps_g_example.shape[1]])\n",
    "mean_rain_data = numpy.zeros([len(forecast_ref_time_range), mogreps_g_example.shape[0], mogreps_g_example.shape[1]])\n",
    "max_rain_data_instant = numpy.zeros([len(forecast_ref_time_range), mogreps_g_example.shape[0], mogreps_g_example.shape[1]])\n",
    "mean_rain_data_instant = numpy.zeros([len(forecast_ref_time_range), mogreps_g_example.shape[0], mogreps_g_example.shape[1]])"
   ]
  },
  {
   "cell_type": "code",
   "execution_count": null,
   "id": "69531437-e172-45db-a50d-4bcbf2789781",
   "metadata": {},
   "outputs": [],
   "source": []
  },
  {
   "cell_type": "code",
   "execution_count": 53,
   "id": "f371cb27-d011-45a6-8b3f-bf98c2fe8c8c",
   "metadata": {},
   "outputs": [],
   "source": [
    "i_time = 2\n",
    "fcst_ref_time = forecast_ref_time_range[3]\n",
    "i_lat = 10\n",
    "i_lon = 7"
   ]
  },
  {
   "cell_type": "code",
   "execution_count": 36,
   "id": "e5479516-79a4-4850-a304-fa4fa2270866",
   "metadata": {},
   "outputs": [],
   "source": [
    "validity_time = fcst_ref_time + datetime.timedelta(hours=leadtime_hours)\n"
   ]
  },
  {
   "cell_type": "code",
   "execution_count": 54,
   "id": "f22a4ddf-0e52-4b8b-8244-70711b0fe782",
   "metadata": {},
   "outputs": [],
   "source": [
    "radar_select_time = radar_agg_3hr.extract(iris.Constraint(time=lambda c1: compare_time(c1.bound[0], validity_time )))\n",
    "radar_data1 = radar_select_time.data.data\n",
    "masked_radar = numpy.ma.MaskedArray(radar_data1, radar_agg_3hr[0,:,:].data.mask)"
   ]
  },
  {
   "cell_type": "code",
   "execution_count": 37,
   "id": "cc6d1006-1c5f-4526-91f2-0be75b362d0a",
   "metadata": {},
   "outputs": [],
   "source": [
    "selected_cells = (~(radar_agg_3hr[0,:,:].data.mask)) & (lat_mog_g_index == i_lat)  & (lon_mog_g_index ==i_lon)\n",
    "masked_radar.mask = ~selected_cells\n",
    "radar_cells_in_mg = numpy.count_nonzero(selected_cells)"
   ]
  },
  {
   "cell_type": "code",
   "execution_count": 57,
   "id": "7ebf793d-0623-42e2-9dd2-6844bd333c89",
   "metadata": {},
   "outputs": [
    {
     "data": {
      "text/plain": [
       "418"
      ]
     },
     "execution_count": 57,
     "metadata": {},
     "output_type": "execute_result"
    }
   ],
   "source": [
    "radar_cells_in_mg"
   ]
  },
  {
   "cell_type": "code",
   "execution_count": 79,
   "id": "8a57575c-3755-4611-b25c-c422650839f7",
   "metadata": {},
   "outputs": [],
   "source": [
    "i_lat = 25\n",
    "i_lon=25"
   ]
  },
  {
   "cell_type": "code",
   "execution_count": 80,
   "id": "9e495d3f-ede5-4e72-adbd-b3aad8b6cae6",
   "metadata": {},
   "outputs": [],
   "source": [
    "radar_instant_select_time = radar_cube.extract(iris.Constraint(\n",
    "    time=lambda c1: compare_time(c1.point, validity_time)))\n",
    "\n",
    "masked_radar_instant = numpy.ma.MaskedArray(\n",
    "    radar_instant_select_time.data.data,\n",
    "    ~((~(radar_cube[0,:,:].data.mask)) & (lat_mog_g_index == i_lat)  & (lon_mog_g_index ==i_lon)),\n",
    ")\n"
   ]
  },
  {
   "cell_type": "code",
   "execution_count": 87,
   "id": "f42b68c8-95af-4d1e-a890-bf95a4b55809",
   "metadata": {},
   "outputs": [
    {
     "data": {
      "text/plain": [
       "[0.0,\n",
       " 0.0,\n",
       " 0.0,\n",
       " masked,\n",
       " 0.0,\n",
       " 0.0,\n",
       " 0.0,\n",
       " masked,\n",
       " masked,\n",
       " masked,\n",
       " masked,\n",
       " masked,\n",
       " masked,\n",
       " masked,\n",
       " masked,\n",
       " masked]"
      ]
     },
     "execution_count": 87,
     "metadata": {},
     "output_type": "execute_result"
    }
   ],
   "source": [
    "[ numpy.ma.MaskedArray(\n",
    "    radar_instant_select_time.data.data,\n",
    "    ~((~(radar_cube[0,:,:].data.mask)) & (lat_mog_g_index == i_lat)  & (lon_mog_g_index ==i_lon)),\n",
    ").max()     \n",
    " # for i_lat in range(mogreps_g_example.shape[0])\n",
    " # for i_lon in range(mogreps_g_example.shape[1])\n",
    " for i_lat in range(30,34)\n",
    " for i_lon in range(25,29)\n",
    "]\n"
   ]
  },
  {
   "cell_type": "code",
   "execution_count": 58,
   "id": "2a2dce60-55ab-475e-8b98-92e270b92436",
   "metadata": {},
   "outputs": [
    {
     "data": {
      "text/plain": [
       "(array([1170464,       0,       0,       0,       0,       0,       0,\n",
       "              0,       0, 2581411]),\n",
       " array([0.000000e+00, 9.969210e+35, 1.993842e+36, 2.990763e+36,\n",
       "        3.987684e+36, 4.984605e+36, 5.981526e+36, 6.978447e+36,\n",
       "        7.975368e+36, 8.972289e+36, 9.969210e+36], dtype=float32))"
      ]
     },
     "execution_count": 58,
     "metadata": {},
     "output_type": "execute_result"
    }
   ],
   "source": [
    "numpy.histogram(masked_radar_instant)"
   ]
  },
  {
   "cell_type": "code",
   "execution_count": 55,
   "id": "b4acd149-85b5-49d0-a5bd-19998a1354d0",
   "metadata": {},
   "outputs": [],
   "source": [
    "selected_cells_instant = (~(radar_cube[0,:,:].data.mask)) & (lat_mog_g_index == i_lat)  & (lon_mog_g_index ==i_lon)\n",
    "masked_radar_instant.mask = ~selected_cells_instant\n",
    "radar_cells_in_mg_instant = numpy.count_nonzero(selected_cells_instant)"
   ]
  },
  {
   "cell_type": "code",
   "execution_count": 56,
   "id": "8624ca36-7db9-405c-914b-24adf17214f1",
   "metadata": {},
   "outputs": [
    {
     "data": {
      "text/plain": [
       "405"
      ]
     },
     "execution_count": 56,
     "metadata": {},
     "output_type": "execute_result"
    }
   ],
   "source": [
    "radar_cells_in_mg_instant"
   ]
  },
  {
   "cell_type": "code",
   "execution_count": 40,
   "id": "b23b1fdc-5968-4973-9422-7136443b7efe",
   "metadata": {},
   "outputs": [
    {
     "data": {
      "text/plain": [
       "11"
      ]
     },
     "execution_count": 40,
     "metadata": {},
     "output_type": "execute_result"
    }
   ],
   "source": [
    "(radar_cube[0,:,:].data.mask != radar_agg_3hr[0,:,:].data.mask).sum()"
   ]
  },
  {
   "cell_type": "code",
   "execution_count": 41,
   "id": "62811c71-ca1d-48e6-8563-5bdd01db5d73",
   "metadata": {},
   "outputs": [
    {
     "data": {
      "text/plain": [
       "(405, 405)"
      ]
     },
     "execution_count": 41,
     "metadata": {},
     "output_type": "execute_result"
    }
   ],
   "source": [
    "radar_cells_in_mg, radar_cells_in_mg_instant"
   ]
  },
  {
   "cell_type": "code",
   "execution_count": 42,
   "id": "2a69a74b-7c67-4d44-aef3-e260065866f2",
   "metadata": {},
   "outputs": [
    {
     "data": {
      "text/plain": [
       "dict_keys(['0.0', '0.03', '0.09', '0.1', '0.25', '0.3', '0.5', '1.0', '2.0', '3.0', '4.0', '8.0', '12.0', '16.0', '20.0', '25.0', '30.0', '40.0', '50.0', '75.0', '100.0', '150.0', '200.0'])"
      ]
     },
     "execution_count": 42,
     "metadata": {},
     "output_type": "execute_result"
    }
   ],
   "source": [
    "improver_thresholds.keys()"
   ]
  },
  {
   "cell_type": "code",
   "execution_count": 43,
   "id": "f345842b-e75c-4bfe-9711-4f3cd016cd74",
   "metadata": {},
   "outputs": [
    {
     "data": {
      "text/plain": [
       "[0.55, 1.1]"
      ]
     },
     "execution_count": 43,
     "metadata": {},
     "output_type": "execute_result"
    }
   ],
   "source": [
    "imp_ix = 7\n",
    "imp_key = list(improver_thresholds.keys())[imp_ix]\n",
    "imp_bounds = improver_thresholds[imp_key]\n",
    "imp_bounds\n",
    "\n"
   ]
  },
  {
   "cell_type": "code",
   "execution_count": 44,
   "id": "9cb5e869-0192-4b59-9961-25e9a84061ec",
   "metadata": {},
   "outputs": [
    {
     "data": {
      "text/plain": [
       "122"
      ]
     },
     "execution_count": 44,
     "metadata": {},
     "output_type": "execute_result"
    }
   ],
   "source": [
    "num_in_band = numpy.count_nonzero((radar_data1 >=  imp_bounds[0]) & (radar_data1 <= imp_bounds[1]) & selected_cells)\n",
    "num_in_band"
   ]
  },
  {
   "cell_type": "code",
   "execution_count": 45,
   "id": "c2a457f7-0108-4b12-a08f-dc1447fd2fb8",
   "metadata": {},
   "outputs": [
    {
     "data": {
      "text/plain": [
       "[0, 0, 0, 0, 0, 0, 0, 122, 279, 4, 0, 0, 0, 0, 0, 0, 0, 0, 0, 0, 0, 0, 0]"
      ]
     },
     "execution_count": 45,
     "metadata": {},
     "output_type": "execute_result"
    }
   ],
   "source": [
    "[numpy.count_nonzero((radar_data1 >=  v1[0]) & (radar_data1 <= v1[1]) & selected_cells) for k1,v1 in improver_thresholds.items()]"
   ]
  },
  {
   "cell_type": "code",
   "execution_count": 46,
   "id": "9df3969a-2ccd-4eba-ad38-d0d79a0a0448",
   "metadata": {},
   "outputs": [
    {
     "data": {
      "text/plain": [
       "405"
      ]
     },
     "execution_count": 46,
     "metadata": {},
     "output_type": "execute_result"
    }
   ],
   "source": [
    "sum([numpy.count_nonzero((radar_data1 >=  v1[0]) & (radar_data1 <= v1[1]) & selected_cells) for k1,v1 in improver_thresholds.items()])"
   ]
  },
  {
   "cell_type": "code",
   "execution_count": 47,
   "id": "4a7cd1e2-9db8-46f0-a75d-74bfc1756fd3",
   "metadata": {},
   "outputs": [
    {
     "data": {
      "text/plain": [
       "0.3012345679012346"
      ]
     },
     "execution_count": 47,
     "metadata": {},
     "output_type": "execute_result"
    }
   ],
   "source": [
    "num_in_band / radar_cells_in_mg\n"
   ]
  },
  {
   "cell_type": "code",
   "execution_count": null,
   "id": "77c67797-2835-448c-bbe1-090b75d210d7",
   "metadata": {},
   "outputs": [],
   "source": []
  },
  {
   "cell_type": "code",
   "execution_count": 48,
   "id": "cb3f3154-ec70-4081-b90f-3f7c6461c8ee",
   "metadata": {},
   "outputs": [],
   "source": [
    "# calculate the max and average of all radar cells within each mogreps-g cell\n",
    "max_rain_data[i_time, i_lat, i_lon] = masked_radar.max()\n",
    "mean_rain_data[i_time, i_lat, i_lon] = (masked_radar.sum()) / radar_cells_in_mg    \n"
   ]
  },
  {
   "cell_type": "code",
   "execution_count": null,
   "id": "bc3b1ad8-0f13-4d8a-bc33-c3141b02fd3b",
   "metadata": {},
   "outputs": [],
   "source": []
  },
  {
   "cell_type": "code",
   "execution_count": 49,
   "id": "f6c35e88-2381-4673-a8b4-c94dd25f394b",
   "metadata": {},
   "outputs": [
    {
     "name": "stdout",
     "output_type": "stream",
     "text": [
      "2020-02-14 18:00:00\n",
      "2020-02-15 00:00:00\n"
     ]
    },
    {
     "ename": "KeyboardInterrupt",
     "evalue": "",
     "output_type": "error",
     "traceback": [
      "\u001b[0;31m---------------------------------------------------------------------------\u001b[0m",
      "\u001b[0;31mKeyboardInterrupt\u001b[0m                         Traceback (most recent call last)",
      "Input \u001b[0;32mIn [49]\u001b[0m, in \u001b[0;36m<module>\u001b[0;34m\u001b[0m\n\u001b[1;32m     17\u001b[0m \u001b[38;5;28;01mif\u001b[39;00m radar_cells_in_mg \u001b[38;5;241m>\u001b[39m \u001b[38;5;241m0\u001b[39m:\n\u001b[1;32m     18\u001b[0m     \u001b[38;5;28;01mfor\u001b[39;00m imp_ix, (imp_key, imp_bounds) \u001b[38;5;129;01min\u001b[39;00m \u001b[38;5;28menumerate\u001b[39m(improver_thresholds\u001b[38;5;241m.\u001b[39mitems()):\n\u001b[0;32m---> 19\u001b[0m         num_in_band \u001b[38;5;241m=\u001b[39m numpy\u001b[38;5;241m.\u001b[39mcount_nonzero((\u001b[43mradar_data1\u001b[49m\u001b[43m \u001b[49m\u001b[38;5;241;43m>\u001b[39;49m\u001b[38;5;241;43m=\u001b[39;49m\u001b[43m  \u001b[49m\u001b[43mimp_bounds\u001b[49m\u001b[43m[\u001b[49m\u001b[38;5;241;43m0\u001b[39;49m\u001b[43m]\u001b[49m) \u001b[38;5;241m&\u001b[39m (radar_data1 \u001b[38;5;241m<\u001b[39m\u001b[38;5;241m=\u001b[39m imp_bounds[\u001b[38;5;241m1\u001b[39m]) \u001b[38;5;241m&\u001b[39m selected_cells)\n\u001b[1;32m     20\u001b[0m         bands_data[i_time, i_lat, i_lon, imp_ix] \u001b[38;5;241m=\u001b[39m num_in_band \u001b[38;5;241m/\u001b[39m radar_cells_in_mg\n\u001b[1;32m     22\u001b[0m     \u001b[38;5;66;03m# calculate the max and average of all radar cells within each mogreps-g cell\u001b[39;00m\n",
      "\u001b[0;31mKeyboardInterrupt\u001b[0m: "
     ]
    }
   ],
   "source": [
    "for i_time, fcst_ref_time in enumerate(forecast_ref_time_range):\n",
    "    validity_time = fcst_ref_time + datetime.timedelta(hours=leadtime_hours)\n",
    "    print(validity_time)\n",
    "    radar_select_time = radar_agg_3hr.extract(iris.Constraint(time=lambda c1: compare_time(c1.bound[0], validity_time )))\n",
    "    radar_data1 = radar_select_time.data.data\n",
    "    masked_radar = numpy.ma.MaskedArray(\n",
    "            radar_data1,\n",
    "            radar_agg_3hr[0,:,:].data.mask)\n",
    "    \n",
    "    for i_lat in range(mogreps_g_example.shape[0]):\n",
    "        for i_lon in range(mogreps_g_example.shape[1]):\n",
    "            # import pdb\n",
    "            # pdb.set_trace()\n",
    "            selected_cells = (~(radar_agg_3hr[0,:,:].data.mask)) & (lat_mog_g_index == i_lat)  & (lon_mog_g_index ==i_lon)\n",
    "            masked_radar.mask = ~selected_cells\n",
    "            radar_cells_in_mg = numpy.count_nonzero(selected_cells)\n",
    "            if radar_cells_in_mg > 0:\n",
    "                for imp_ix, (imp_key, imp_bounds) in enumerate(improver_thresholds.items()):\n",
    "                    num_in_band = numpy.count_nonzero((radar_data1 >=  imp_bounds[0]) & (radar_data1 <= imp_bounds[1]) & selected_cells)\n",
    "                    bands_data[i_time, i_lat, i_lon, imp_ix] = num_in_band / radar_cells_in_mg\n",
    "                \n",
    "                # calculate the max and average of all radar cells within each mogreps-g cell\n",
    "                max_rain_data[i_time, i_lat, i_lon] = masked_radar.max()\n",
    "                mean_rain_data[i_time, i_lat, i_lon] = (masked_radar.sum()) / radar_cells_in_mg    \n"
   ]
  },
  {
   "cell_type": "code",
   "execution_count": null,
   "id": "d0535ac7-2eca-487c-8a37-279eebaf4e36",
   "metadata": {},
   "outputs": [],
   "source": [
    "mg_lat_coord = mogreps_g_example.coord('latitude')\n",
    "mg_lon_coord = mogreps_g_example.coord('longitude')"
   ]
  },
  {
   "cell_type": "code",
   "execution_count": null,
   "id": "4840c0c4-7aca-4431-85b8-47f5ac29c935",
   "metadata": {},
   "outputs": [],
   "source": [
    "band_coord = iris.coords.DimCoord(\n",
    "    [float(b1) for b1 in improver_thresholds.keys()],\n",
    "    bounds=list(improver_thresholds.values()),\n",
    "    var_name='band',\n",
    "    units='mm',\n",
    ")"
   ]
  },
  {
   "cell_type": "code",
   "execution_count": null,
   "id": "cccfa25c-a0d1-4235-88b9-e94b699473cc",
   "metadata": {},
   "outputs": [],
   "source": [
    "radar_cube.coord('time')"
   ]
  },
  {
   "cell_type": "code",
   "execution_count": null,
   "id": "094bf4a6-f79b-4842-a8a6-d316fbada357",
   "metadata": {},
   "outputs": [],
   "source": [
    "radar_time_coord = iris.coords.DimCoord(\n",
    "    [(fcst_ref_time + datetime.timedelta(hours=leadtime_hours)).timestamp() for fcst_ref_time in forecast_ref_time_range],\n",
    "    var_name='time',\n",
    "    units=radar_cube.coord('time').units,\n",
    ")\n",
    "\n",
    "   "
   ]
  },
  {
   "cell_type": "code",
   "execution_count": null,
   "id": "93770a1b-97a3-4017-b93d-3703a453b25e",
   "metadata": {},
   "outputs": [],
   "source": [
    "fraction_rain_band = iris.cube.Cube(\n",
    "    data=bands_data, \n",
    "    dim_coords_and_dims=((radar_time_coord, 0),(mg_lat_coord, 1),(mg_lon_coord, 2),  (band_coord, 3)),\n",
    "    units=None,\n",
    "    var_name='fraction_in_band',\n",
    "    long_name='Fraction radar rainfall cells in specified rain band',\n",
    ")"
   ]
  },
  {
   "cell_type": "code",
   "execution_count": null,
   "id": "8efedf77-2fec-4ba4-84bb-779effdb49f8",
   "metadata": {},
   "outputs": [],
   "source": [
    "max_rain_cube = iris.cube.Cube(\n",
    "    data=max_rain_data, \n",
    "    dim_coords_and_dims=((radar_time_coord, 0),(mg_lat_coord, 1),(mg_lon_coord, 2),),\n",
    "    units='mm',\n",
    "    var_name='max_rain',\n",
    "    long_name='maximum rain in radar cells within mogreps-g cell',\n",
    ")"
   ]
  },
  {
   "cell_type": "code",
   "execution_count": null,
   "id": "a377566e-7d46-45d5-ae8f-99274a176f83",
   "metadata": {},
   "outputs": [],
   "source": [
    "mean_rain_cube = iris.cube.Cube(\n",
    "    data=mean_rain_data, \n",
    "    dim_coords_and_dims=((radar_time_coord, 0),(mg_lat_coord, 1),(mg_lon_coord, 2),),\n",
    "    units='mm',\n",
    "    var_name='mean_rain',\n",
    "    long_name='average rain in radar cells within mogreps-g cell',\n",
    ")"
   ]
  },
  {
   "cell_type": "code",
   "execution_count": null,
   "id": "7638a82b-7d63-4731-a803-6d36566612b8",
   "metadata": {},
   "outputs": [],
   "source": [
    "cubelist_to_save = iris.cube.CubeList([fraction_rain_band, max_rain_cube, mean_rain_cube ])"
   ]
  },
  {
   "cell_type": "code",
   "execution_count": null,
   "id": "be44302a-caae-4062-8941-643170e9860b",
   "metadata": {},
   "outputs": [],
   "source": [
    "def cftime_to_datetime(input_cft):\n",
    "    return datetime.datetime(input_cft.year,\n",
    "                             input_cft.month,\n",
    "                             input_cft.day,\n",
    "                             input_cft.hour,\n",
    "                             input_cft.minute,\n",
    "                             input_cft.second,\n",
    "                            )"
   ]
  },
  {
   "cell_type": "code",
   "execution_count": null,
   "id": "3b669a7f-7bf0-46cf-87c7-e714e1a95f15",
   "metadata": {},
   "outputs": [],
   "source": [
    "iris.save(radar_mggrid, \n",
    "          str(output_dir / radar_grid_fname_template.format(start=min([cftime_to_datetime(cell1.point) for cell1 in max_rain_cube.coord('time').cells()]),\n",
    "                                                            end=max([cftime_to_datetime(cell1.point) for cell1 in max_rain_cube.coord('time').cells()])\n",
    "                                                           )))"
   ]
  },
  {
   "cell_type": "code",
   "execution_count": null,
   "id": "c6a0707c-d338-420c-a14b-23627090462b",
   "metadata": {},
   "outputs": [],
   "source": [
    "frac_df = xarray.DataArray.from_iris(fraction_rain_band).to_dataframe().reset_index()"
   ]
  },
  {
   "cell_type": "code",
   "execution_count": null,
   "id": "463406ba-b732-4bbf-ba11-d633e46c7cb6",
   "metadata": {},
   "outputs": [],
   "source": [
    "imp_bands = list(improver_thresholds.keys())"
   ]
  },
  {
   "cell_type": "code",
   "execution_count": null,
   "id": "d60bd8c4-9e3a-4603-ac71-e87beef6cf3a",
   "metadata": {},
   "outputs": [],
   "source": [
    "radar_df = frac_df[frac_df['band'] ==  float(imp_bands[0])][['time','latitude','longitude','fraction_in_band']]\n",
    "radar_df = radar_df.rename({'fraction_in_band': f'fraction_in_band_{imp_bands[0]}'},axis='columns')\n",
    "radar_df"
   ]
  },
  {
   "cell_type": "code",
   "execution_count": null,
   "id": "79f14ea6-ba81-4337-8d7c-52a3ced9897f",
   "metadata": {},
   "outputs": [],
   "source": [
    "for band1 in imp_bands[1:]:\n",
    "    df1 = frac_df[frac_df['band'] ==  float(band1)][['time','latitude','longitude','fraction_in_band']]\n",
    "    df1 = df1.rename({'fraction_in_band': f'fraction_in_band_{band1}'},axis='columns')\n",
    "    radar_df = pandas.merge(radar_df, df1, on=['time','latitude', 'longitude'])"
   ]
  },
  {
   "cell_type": "code",
   "execution_count": null,
   "id": "fee1b125-ff3f-4080-94b6-18aa69b41919",
   "metadata": {},
   "outputs": [],
   "source": [
    "radar_df = pandas.merge(radar_df, xarray.DataArray.from_iris(mean_rain_cube).to_dataframe().reset_index(), on=['time','latitude', 'longitude'])\n",
    "radar_df = pandas.merge(radar_df, xarray.DataArray.from_iris(max_rain_cube).to_dataframe().reset_index(), on=['time','latitude', 'longitude'])"
   ]
  },
  {
   "cell_type": "code",
   "execution_count": null,
   "id": "a0591b62-f685-4dd8-b9cf-5a648f3f0324",
   "metadata": {},
   "outputs": [],
   "source": [
    "radar_df.to_csv(output_dir / radar_tab_fname_template.format(start=radar_df['time'].min(),\n",
    "                                                                        end=radar_df['time'].min(),\n",
    "                                                                       ))"
   ]
  },
  {
   "cell_type": "markdown",
   "id": "binary-worker",
   "metadata": {},
   "source": [
    "## Create a dataset from MOGREPS-G data\n",
    "Information on Met Office Ensmble forecasts - https://www.metoffice.gov.uk/research/weather/ensemble-forecasting#\n",
    "Paper - https://www.metoffice.gov.uk/research/weather/ensemble-forecasting "
   ]
  },
  {
   "cell_type": "markdown",
   "id": "8a5086ee-9112-47dc-8d1e-2053c9e5af29",
   "metadata": {},
   "source": [
    "### Get the mapping of variable names \n",
    "Load some files and get the actual variable names."
   ]
  },
  {
   "cell_type": "code",
   "execution_count": null,
   "id": "ruled-effort",
   "metadata": {},
   "outputs": [],
   "source": [
    "fcst_ref_time = forecast_ref_time_range[0]\n",
    "real1 = realizations_list[10]\n",
    "validity_time = fcst_ref_time + datetime.timedelta(hours=leadtime_hours)"
   ]
  },
  {
   "cell_type": "code",
   "execution_count": null,
   "id": "russian-letter",
   "metadata": {},
   "outputs": [],
   "source": [
    "%%time\n",
    "# load a cube for each variable in iris to get the actual variable name, and populate dictionary mapping from the var name in the file name to the variable as loaded into iris/xarray\n",
    "file_to_var_mapping = {\n",
    "    var_file_name: iris.load_cube(str(mogreps_g_data_dir / fname_template.format(vt=validity_time,\n",
    "                                                                                 lead_time=leadtime_hours,\n",
    "                                                                                 var_name=var_file_name))).name()\n",
    "    for var_file_name in variables_single_level + variables_height_levels}\n",
    "file_to_var_mapping"
   ]
  },
  {
   "cell_type": "code",
   "execution_count": null,
   "id": "4cf31e36-7d2b-4de9-9671-bfa81b4ac24a",
   "metadata": {},
   "outputs": [],
   "source": [
    "heights = iris.load_cube(str(mogreps_g_data_dir / fname_template.format(vt=validity_time,\n",
    "                                                                                 lead_time=leadtime_hours,\n",
    "                                                                                 var_name=variables_height_levels[0]))).coord('height').points"
   ]
  },
  {
   "cell_type": "code",
   "execution_count": null,
   "id": "db38977d-efa7-4098-b189-0d2bba3db717",
   "metadata": {},
   "outputs": [],
   "source": [
    "merge_coords = ['latitude', 'longitude', 'time', 'realization']"
   ]
  },
  {
   "cell_type": "code",
   "execution_count": null,
   "id": "dbc762f8-8aa7-4e90-bbd4-1b52d664aecc",
   "metadata": {},
   "outputs": [],
   "source": [
    "single_level_var_mappings = {v1: file_to_var_mapping[v1] for v1 in variables_single_level}\n",
    "height_level_var_mappings = {v1: file_to_var_mapping[v1] for v1 in variables_height_levels}"
   ]
  },
  {
   "cell_type": "code",
   "execution_count": null,
   "id": "demanding-checkout",
   "metadata": {},
   "outputs": [],
   "source": [
    "def load_ds(ds_path, selected_bounds):\n",
    "    try:\n",
    "        subset1 = dict(selected_bounds)\n",
    "        subset1['bnds'] = 0\n",
    "        single_level_ds = xarray.load_dataset(ds_path).sel(**subset1)\n",
    "    except KeyError as e1:\n",
    "        single_level_ds = None\n",
    "    return single_level_ds"
   ]
  },
  {
   "cell_type": "code",
   "execution_count": null,
   "id": "3350c30d-7af8-42c5-a183-ba48f5e44f1a",
   "metadata": {},
   "outputs": [],
   "source": [
    "%%time\n",
    "ts_data_list = []\n",
    "# gridded_data_list = []\n",
    "for fcst_ref_time in forecast_ref_time_range:\n",
    "    print(fcst_ref_time)\n",
    "    validity_time = fcst_ref_time + datetime.timedelta(hours=leadtime_hours)\n",
    "    single_level_ds = xarray.merge([load_ds(ds_path= mogreps_g_data_dir / fname_template.format(vt=validity_time,\n",
    "                                                                                                lead_time=leadtime_hours,\n",
    "                                                                                                var_name=var1),\n",
    "                                            selected_bounds=xarray_select_uk,\n",
    "                                           )\n",
    "                                    for var1 in variables_single_level]\n",
    "                                  )\n",
    "    single_level_df = single_level_ds.to_dataframe().reset_index()\n",
    "\n",
    "    height_levels_ds = xarray.merge([load_ds(ds_path=mogreps_g_data_dir / fname_template.format(vt=validity_time,\n",
    "                                                                                                lead_time=leadtime_hours,\n",
    "                                                                                                var_name=var1),\n",
    "                                             selected_bounds=xarray_select_uk,\n",
    "                                            )\n",
    "                                     for var1 in variables_height_levels])\n",
    "    hl_df_multirow = height_levels_ds.to_dataframe().reset_index()\n",
    "    \n",
    "    var_df_merged = []\n",
    "    # heights_vars_marged = height_levels_df[height_levels_df.height==heights[0]][ merge_coords]\n",
    "    for var1 in height_level_var_mappings.values():\n",
    "        print(var1)\n",
    "        # for h1 in heights:\n",
    "        #     heights_vars_marged[f'{var1}_{h1:.1f}'] = list(height_levels_df[height_levels_df.height==h1][var1])\n",
    "        var_at_heights = [hl_df_multirow[hl_df_multirow.height==h1][merge_coords + [var1]].rename({var1: f'{var1}_{h1:.1f}'}, axis='columns') for h1 in heights]\n",
    "        var_df_merged += [functools.reduce(lambda x,y: x.merge(y, on=merge_coords), var_at_heights)]\n",
    "    height_levels_df = functools.reduce(lambda x,y: x.merge(y, on=merge_coords), var_df_merged)    \n",
    "    \n",
    "    mogreps_g_single_ts_uk_df = single_level_df.merge(height_levels_df, on=merge_coords)\n",
    "    mogreps_g_single_ts_uk_df\n",
    "    \n",
    "    mogreps_g_single_ts_uk_df = single_level_df.merge(height_levels_df, on=merge_coords)\n",
    "    ts_data_list += [mogreps_g_single_ts_uk_df]\n",
    "    ts_mogg_ds1 = xarray.merge([height_levels_ds, single_level_ds])\n",
    "    ts_mogg_ds1.to_netcdf(output_dir / (\n",
    "        'prd_mg_ts_'+ f'{validity_time.year:04d}{validity_time.month:02d}{validity_time.day:02d}{validity_time.hour:02d}{validity_time.minute:02d}' \n",
    "        + fname_extension_grid)\n",
    "    )\n",
    "    # gridded_data_list += [xarray.merge([height_levels_ds, single_level_ds])]"
   ]
  },
  {
   "cell_type": "code",
   "execution_count": null,
   "id": "263f34b3-1ffa-4514-83ad-3f288fce7c2a",
   "metadata": {},
   "outputs": [],
   "source": [
    "# prd_mogreps_grid_ds.to_netcdf(output_dir / mogreps_g_grid_fname_template.format(lt=leadtime_hours,\n",
    "#                                                                                 start=prd_column_dataset['time'].min(),\n",
    "#                                                                                 end=prd_column_dataset['time'].max(),\n",
    "#                                                                                ))"
   ]
  },
  {
   "cell_type": "code",
   "execution_count": null,
   "id": "median-macintosh",
   "metadata": {
    "tags": []
   },
   "outputs": [],
   "source": [
    "prd_column_dataset = pandas.concat(ts_data_list)\n"
   ]
  },
  {
   "cell_type": "code",
   "execution_count": null,
   "id": "f71c73ca-4008-41a8-ad87-ad5b24695450",
   "metadata": {},
   "outputs": [],
   "source": [
    "prd_column_dataset"
   ]
  },
  {
   "cell_type": "code",
   "execution_count": null,
   "id": "1f3b4a8e-705c-4f19-a0fd-48c4ba0a5713",
   "metadata": {},
   "outputs": [],
   "source": [
    "prd_column_dataset.to_csv(output_dir / mogreps_g_tab_fname_template.format(lt=leadtime_hours,\n",
    "                                                                           start=prd_column_dataset['time'].min(),\n",
    "                                                                           end=prd_column_dataset['time'].max(),\n",
    "                                                                          ))"
   ]
  },
  {
   "cell_type": "markdown",
   "id": "aea23353-2e86-4634-aca3-00d7e7358411",
   "metadata": {},
   "source": [
    "## Merging radar and model data\n",
    "We have now created a table with radar data and a table with MOGREPS-G model data. We  now wantto merge them into a single. The steps are as follows\n",
    "* trim the time periods so the data covers matching times\n",
    "* do a merge on latitude, longitude and time. \n",
    "  * We don't merge on realization as done for merging the different model fields, as radar is not ensemble data. Instead, the type of merge chosen will insert the radar composite rainfall field for each row with with the correct time and place, so will appear multiple times for each realization present at that timestamp\n",
    "* Output resulting table to disk."
   ]
  },
  {
   "cell_type": "code",
   "execution_count": null,
   "id": "e5d9920a-c8e8-470a-a189-048189e6d178",
   "metadata": {},
   "outputs": [],
   "source": [
    "prd_column_dataset.time.min(), prd_column_dataset.time.max()"
   ]
  },
  {
   "cell_type": "code",
   "execution_count": null,
   "id": "b9de58d1-ef8e-4679-828f-bc8ffdc38f0b",
   "metadata": {},
   "outputs": [],
   "source": [
    "prd_column_dataset.time"
   ]
  },
  {
   "cell_type": "code",
   "execution_count": null,
   "id": "8188d1cc-9cf0-48e1-9b7b-10bc7657298d",
   "metadata": {},
   "outputs": [],
   "source": [
    "# radar_acc_regrid_df = radar_acc_regrid_df[(radar_acc_regrid_df['time'] >= prd_column_dataset.time.min()) & (radar_acc_regrid_df['time'] <= prd_column_dataset.time.max())]\n",
    "# radar_acc_regrid_df"
   ]
  },
  {
   "cell_type": "code",
   "execution_count": null,
   "id": "99bec0f7-7e79-4599-823a-8d87664f8745",
   "metadata": {},
   "outputs": [],
   "source": [
    "prd_merged_mogreps_radar = prd_column_dataset.merge(radar_df, on=['latitude', 'longitude','time'], how='inner')\n",
    "prd_merged_mogreps_radar"
   ]
  },
  {
   "cell_type": "markdown",
   "id": "411ef22f-3029-4c35-a7da-c85089765d29",
   "metadata": {},
   "source": [
    "Looking at the results of the merge, we see that we have different values for model output for different realisations at the same time and location, but all of those datapoints will have the same value for radar rainfall accumulation."
   ]
  },
  {
   "cell_type": "code",
   "execution_count": null,
   "id": "fb8f60cd-5325-400c-9756-6066cbe1f62b",
   "metadata": {},
   "outputs": [],
   "source": [
    "prd_merged_mogreps_radar[(prd_merged_mogreps_radar['time'] == '2020-02-16T015:00') &\n",
    "                         (prd_merged_mogreps_radar['latitude'] == 50.15625) &\n",
    "                         (prd_merged_mogreps_radar['longitude'] == -5.765625) \n",
    "                        ][['latitude','longitude','realization', 'time','air_temperature_5.0','rainfall_rate_composite']]"
   ]
  },
  {
   "cell_type": "markdown",
   "id": "7df573d4-2f32-4477-8d97-2859975d5ce5",
   "metadata": {},
   "source": [
    "### Output to Tabular data format"
   ]
  },
  {
   "cell_type": "code",
   "execution_count": null,
   "id": "b5a3b0f2-1baf-457f-9760-ca66b84b3402",
   "metadata": {},
   "outputs": [],
   "source": [
    "start_dt = prd_merged_mogreps_radar['time'].min()\n",
    "end_dt = prd_merged_mogreps_radar['time'].max()"
   ]
  },
  {
   "cell_type": "code",
   "execution_count": null,
   "id": "modern-software",
   "metadata": {},
   "outputs": [],
   "source": [
    "output_fname = output_fname_template.format(lt=leadtime_hours,\n",
    "                                            start=start_dt,\n",
    "                                            end=end_dt,\n",
    "                                           )\n",
    "output_path = output_dir / output_fname\n",
    "print(output_path)\n",
    "prd_merged_mogreps_radar.to_csv(output_path)"
   ]
  },
  {
   "cell_type": "code",
   "execution_count": null,
   "id": "dcde73a0-1b81-4eaa-bb04-2d6aef8b24ea",
   "metadata": {},
   "outputs": [],
   "source": [
    "prd_merged_mogreps_radar['time'].value_counts()"
   ]
  },
  {
   "cell_type": "code",
   "execution_count": null,
   "id": "mexican-implementation",
   "metadata": {},
   "outputs": [],
   "source": [
    "#TODO:add parquet to conda environment and save as parquet format\n",
    "#prd_merged_mogreps_radar.to_parquet(output_path)"
   ]
  },
  {
   "cell_type": "code",
   "execution_count": null,
   "id": "be3c506e-65e4-4318-8382-b34a3ecc49d5",
   "metadata": {},
   "outputs": [],
   "source": []
  }
 ],
 "metadata": {
  "kernelspec": {
   "display_name": ".conda-prd_data_prep Python (Conda)",
   "language": "python",
   "name": "conda-env-.conda-prd_data_prep-py"
  },
  "language_info": {
   "codemirror_mode": {
    "name": "ipython",
    "version": 3
   },
   "file_extension": ".py",
   "mimetype": "text/x-python",
   "name": "python",
   "nbconvert_exporter": "python",
   "pygments_lexer": "ipython3",
   "version": "3.8.12"
  }
 },
 "nbformat": 4,
 "nbformat_minor": 5
}
