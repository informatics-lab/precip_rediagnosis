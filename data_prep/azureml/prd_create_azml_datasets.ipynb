{
 "cells": [
  {
   "cell_type": "markdown",
   "id": "3dbd947e-f5cd-4b4d-95f1-507bf1cce241",
   "metadata": {},
   "source": [
    "# Creating datasets from uploaded data\n",
    "\n",
    "This notebook demonstrates creating a Azure ML Datastore and assorted AzureML Datasets for the uploaded data.\n",
    "\n",
    "We will create datasets both for inidividual events and datasets combining all the data. The main focus will be on the merged datasets (radar and model together), but we will also create separate  datasets as well, especially for gridded data, but that will require creating extra coding to make it nicely presentable, so will leave that for future issues."
   ]
  },
  {
   "cell_type": "code",
   "execution_count": 1,
   "id": "c05ce0b9-67ac-49df-bac8-a0c4f510e4a2",
   "metadata": {},
   "outputs": [],
   "source": [
    "import pathlib"
   ]
  },
  {
   "cell_type": "code",
   "execution_count": 2,
   "id": "bbc10a5f-7fb1-4a0f-a5b9-51ba1a7fca43",
   "metadata": {},
   "outputs": [],
   "source": [
    "import azureml\n",
    "import azureml.core \n"
   ]
  },
  {
   "cell_type": "markdown",
   "id": "1b02d8d5-3925-4254-afa6-410f1c267bc5",
   "metadata": {},
   "source": [
    "### Define parameters and set up workspace"
   ]
  },
  {
   "cell_type": "code",
   "execution_count": 3,
   "id": "d4fe8081-9fdd-48ce-8de3-93c64be14753",
   "metadata": {},
   "outputs": [],
   "source": [
    "# get existing workspace\n",
    "prd_workspace = azureml.core.Workspace.from_config()"
   ]
  },
  {
   "cell_type": "markdown",
   "id": "e49a6378-37c9-4c74-8186-246f43e91ac5",
   "metadata": {},
   "source": [
    "If `do_unregister=True`, then the old version will be removed to register a new dataset. Otherwise a new version number of the existing dataset will be created."
   ]
  },
  {
   "cell_type": "code",
   "execution_count": 4,
   "id": "b16eb2b1-7dfa-4d8f-8cc1-230eda4c3826",
   "metadata": {},
   "outputs": [],
   "source": [
    "do_unregister = True"
   ]
  },
  {
   "cell_type": "code",
   "execution_count": 5,
   "id": "dd06c8eb-79f9-4aa4-bd57-fd71b41d725d",
   "metadata": {},
   "outputs": [],
   "source": [
    "prd_prefix = 'prd'\n",
    "radar_filter = 'radar'\n",
    "mogreps_g_short_filter = 'mg' \n",
    "mogreps_g_filter  = 'mogreps_g'\n",
    "mogreps_g_title  = 'mogreps-g'\n",
    "merged_filter = 'merged'\n",
    "merged_prefix = f'{prd_prefix}_{merged_filter}'\n",
    "radar_prefix = f'{prd_prefix}_{radar_filter}'\n",
    "mogreps_g_prefix = f'{prd_prefix}_{mogreps_g_filter}'\n",
    "tabular_suffix = 'csv'\n",
    "gridded_suffix = 'nc'\n",
    "dataset_merged_name_template = merged_prefix + '_{event_name}'\n",
    "prd_root_blob_dir = prd_prefix"
   ]
  },
  {
   "cell_type": "code",
   "execution_count": 6,
   "id": "a2e279f0-5da4-4b15-a485-b317241c34e0",
   "metadata": {},
   "outputs": [],
   "source": [
    "datastore_name = 'precip_rediagnosis_train202209'\n",
    "container_name = 'training202209'\n",
    "# Get the account from the storage account listed below through Azure Portal. \n",
    "# Copy one of the account keys here to set the variable. \n",
    "# IMPORTANT: Make sure you DO NOT commit the account key to github\n",
    "az_blob_account_name = 'preciprediagnosisstorage'\n",
    "# az_blob_account_key = 'INSERT_KEY'\n",
    "az_blob_account_key = 'Sxtj58XZrfGG1iEMs7mD/bHJ/W3cyrfTcPk6RuFj9KVquMiilwIuCQyRGDyoNq1O28XJA0O2bnBM+AStOKxPcA=='\n"
   ]
  },
  {
   "cell_type": "code",
   "execution_count": 7,
   "id": "32603893-749c-4f8d-a3aa-5feed23a6de9",
   "metadata": {},
   "outputs": [
    {
     "name": "stdout",
     "output_type": "stream",
     "text": [
      "new datastore created\n",
      "{\n",
      "  \"name\": \"precip_rediagnosis_train202209\",\n",
      "  \"container_name\": \"training202209\",\n",
      "  \"account_name\": \"preciprediagnosisstorage\",\n",
      "  \"protocol\": \"https\",\n",
      "  \"endpoint\": \"core.windows.net\"\n",
      "}\n"
     ]
    },
    {
     "data": {
      "text/plain": [
       "{\n",
       "  \"name\": \"precip_rediagnosis_train202209\",\n",
       "  \"container_name\": \"training202209\",\n",
       "  \"account_name\": \"preciprediagnosisstorage\",\n",
       "  \"protocol\": \"https\",\n",
       "  \"endpoint\": \"core.windows.net\"\n",
       "}"
      ]
     },
     "execution_count": 7,
     "metadata": {},
     "output_type": "execute_result"
    }
   ],
   "source": [
    "try:\n",
    "    # retrieve an existing datastore in the workspace by name\n",
    "    prd_datastore = azureml.core.datastore.Datastore.get(prd_workspace, datastore_name)\n",
    "    print('existing datastore retrieved')\n",
    "except azureml.exceptions.AzureMLException:\n",
    "    ret_val = azureml.core.datastore.Datastore.register_azure_blob_container(\n",
    "        workspace=prd_workspace,\n",
    "        datastore_name=datastore_name, \n",
    "        container_name=container_name,\n",
    "        account_name=az_blob_account_name,\n",
    "        account_key=az_blob_account_key,\n",
    "    )\n",
    "    print('new datastore created')\n",
    "    print(ret_val)\n",
    "    prd_datastore = azureml.core.datastore.Datastore.get(prd_workspace, datastore_name)\n",
    "prd_datastore"
   ]
  },
  {
   "cell_type": "markdown",
   "id": "0473255a-472b-4c09-a5b2-d470fe51062c",
   "metadata": {},
   "source": [
    "### Create all event file datasets \n",
    "Create all event file datasets for different sorts of data sources that combines all events"
   ]
  },
  {
   "cell_type": "code",
   "execution_count": 8,
   "id": "7ffe008b-26c6-4429-8a63-50d9dd4cf8e2",
   "metadata": {},
   "outputs": [],
   "source": [
    "all_event_file_datasets_dict = {\n",
    "    f'{merged_prefix}_all_events_files': {\n",
    "        'description': 'A file dataset containing the merged dataframe for each of the events in the current training set.', \n",
    "        'filter': f'{prd_prefix}/*/{merged_prefix}*csv'\n",
    "    },\n",
    "    f'{radar_prefix}_tabular_files': {\n",
    "        'description' : 'File dataset with all files from all events of tabular radar data.', \n",
    "        'filter': f'{prd_prefix}/*/{radar_filter}/{radar_prefix}*{tabular_suffix}'\n",
    "    },\n",
    "    f'{radar_prefix}_gridded_files': {\n",
    "        'description' : 'File dataset with all files from all events of tabular radar data.', \n",
    "        'filter': f'{prd_prefix}/*/{radar_filter}/{radar_prefix}*{gridded_suffix}'},\n",
    "    f'{mogreps_g_prefix}_tabular_files': {\n",
    "        'description': 'File dataset with all files from all events of tabular mogreps-g data', \n",
    "        'filter': f'{prd_prefix}/*/{mogreps_g_title}/{mogreps_g_prefix}*{tabular_suffix}'\n",
    "    },\n",
    "}\n"
   ]
  },
  {
   "cell_type": "code",
   "execution_count": 9,
   "id": "841eada7-4e5e-4ced-9c17-6ca10467e64b",
   "metadata": {},
   "outputs": [
    {
     "data": {
      "text/plain": [
       "{'description': 'File dataset with all files from all events of tabular mogreps-g data',\n",
       " 'filter': 'prd/*/mogreps-g/prd_mogreps_g*csv'}"
      ]
     },
     "execution_count": 9,
     "metadata": {},
     "output_type": "execute_result"
    }
   ],
   "source": [
    "all_event_file_datasets_dict['prd_mogreps_g_tabular_files']"
   ]
  },
  {
   "cell_type": "markdown",
   "id": "52c206cb-bcb4-49e9-a334-09789958f11c",
   "metadata": {},
   "source": [
    "Notebook includes an option to unregister the dataset if required. If this flag is `False`, then a new version is created."
   ]
  },
  {
   "cell_type": "code",
   "execution_count": 10,
   "id": "79890330-fd24-49d2-9ad3-d07c8bdb0e29",
   "metadata": {},
   "outputs": [],
   "source": [
    "def do_unregister_dataset(workspace, dataset_name):\n",
    "    try:\n",
    "        ds_to_remove = azureml.core.Dataset.get_by_name(workspace, dataset_name)\n",
    "        ds_to_remove.unregister_all_versions()\n",
    "        print(f'dataset {dataset_name} unregistered')\n",
    "    except:\n",
    "        print(f'no dataset to unregister with name {dataset_name}')\n"
   ]
  },
  {
   "cell_type": "code",
   "execution_count": 11,
   "id": "0d633c24-3801-4a53-a5ac-9dbb522e99fc",
   "metadata": {},
   "outputs": [
    {
     "name": "stdout",
     "output_type": "stream",
     "text": [
      "prd_merged_all_events_files\n",
      "dataset prd_merged_all_events_files unregistered\n",
      "prd_radar_tabular_files\n",
      "dataset prd_radar_tabular_files unregistered\n",
      "prd_radar_gridded_files\n",
      "dataset prd_radar_gridded_files unregistered\n",
      "prd_mogreps_g_tabular_files\n",
      "dataset prd_mogreps_g_tabular_files unregistered\n"
     ]
    }
   ],
   "source": [
    "for ds_name, ds_config in all_event_file_datasets_dict.items():\n",
    "    print(ds_name)\n",
    "    if do_unregister:\n",
    "        do_unregister_dataset(prd_workspace, ds_name)\n",
    "    current_ds = azureml.data.FileDataset.File.from_files((prd_datastore, ds_config['filter']))\n",
    "    current_ds.register(workspace=prd_workspace,\n",
    "                        name=ds_name,\n",
    "                        description=ds_config['description'],\n",
    "                        create_new_version=not do_unregister,\n",
    "                       )"
   ]
  },
  {
   "cell_type": "code",
   "execution_count": 12,
   "id": "b0084dc4-fb74-4ab9-996e-2c9f00d1cafe",
   "metadata": {},
   "outputs": [
    {
     "data": {
      "text/plain": [
       "{\n",
       "  \"source\": [\n",
       "    \"('precip_rediagnosis_train202209', 'prd/*/prd_merged*csv')\"\n",
       "  ],\n",
       "  \"definition\": [\n",
       "    \"GetDatastoreFiles\"\n",
       "  ],\n",
       "  \"registration\": {\n",
       "    \"id\": \"1a7d41d0-e45f-46da-a1cf-7fbfca9162f0\",\n",
       "    \"name\": \"prd_merged_all_events_files\",\n",
       "    \"version\": 1,\n",
       "    \"description\": \"A file dataset containing the merged dataframe for each of the events in the current training set.\",\n",
       "    \"workspace\": \"Workspace.create(name='precip_rediagnosis', subscription_id='07efdc52-cd27-48ed-9443-3aad2b6b777b', resource_group='precip_rediagnosis')\"\n",
       "  }\n",
       "}"
      ]
     },
     "execution_count": 12,
     "metadata": {},
     "output_type": "execute_result"
    }
   ],
   "source": [
    "all_data_ds = azureml.core.Dataset.get_by_name(prd_workspace, f'{merged_prefix}_all_events_files')\n",
    "all_data_ds"
   ]
  },
  {
   "cell_type": "code",
   "execution_count": 13,
   "id": "81c4d7c2-e6e4-47f8-86cf-33b145a3d3d4",
   "metadata": {},
   "outputs": [],
   "source": [
    "current_event_list = [pathlib.Path(p1).parents[0].name for p1 in all_data_ds.to_path()]"
   ]
  },
  {
   "cell_type": "code",
   "execution_count": 14,
   "id": "dfbcd149-2f4c-41bd-ab2d-a7989c0ac64d",
   "metadata": {},
   "outputs": [
    {
     "data": {
      "text/plain": [
       "['202002_storm_ciara',\n",
       " '202002_storm_dennis',\n",
       " '202008_storm_ellen',\n",
       " '202008_storm_francis',\n",
       " '202010_nswws_amber_oct',\n",
       " '202012_nswws_amber_dec',\n",
       " '202102_nswws_amber_feb',\n",
       " '202110_nswws_amber_oct',\n",
       " '202112_storm_barra',\n",
       " '2022_storm_eunice_franklin']"
      ]
     },
     "execution_count": 14,
     "metadata": {},
     "output_type": "execute_result"
    }
   ],
   "source": [
    "current_event_list"
   ]
  },
  {
   "cell_type": "code",
   "execution_count": 15,
   "id": "7b1732da-1160-4f87-9958-ac32c99578dc",
   "metadata": {},
   "outputs": [
    {
     "data": {
      "text/plain": [
       "10"
      ]
     },
     "execution_count": 15,
     "metadata": {},
     "output_type": "execute_result"
    }
   ],
   "source": [
    "len(current_event_list)"
   ]
  },
  {
   "cell_type": "markdown",
   "id": "61afa049-fca7-4ef3-89d7-63fee482505c",
   "metadata": {},
   "source": [
    "Create a dataset with all data"
   ]
  },
  {
   "cell_type": "code",
   "execution_count": 16,
   "id": "2562095a-0f9c-49a5-88c4-f098e21780d7",
   "metadata": {},
   "outputs": [
    {
     "name": "stdout",
     "output_type": "stream",
     "text": [
      "dataset prd_merged_all_events unregistered\n"
     ]
    },
    {
     "data": {
      "text/plain": [
       "{\n",
       "  \"source\": [\n",
       "    \"('precip_rediagnosis_train202209', 'prd/*/prd_merged*csv')\"\n",
       "  ],\n",
       "  \"definition\": [\n",
       "    \"GetDatastoreFiles\",\n",
       "    \"ParseDelimited\",\n",
       "    \"DropColumns\",\n",
       "    \"SetColumnTypes\"\n",
       "  ],\n",
       "  \"registration\": {\n",
       "    \"id\": \"5b6ecaae-acd2-4dea-8a9b-24e2c13df826\",\n",
       "    \"name\": \"prd_merged_all_events\",\n",
       "    \"version\": 1,\n",
       "    \"description\": \"Precip rediagnosis dataset for currently available training events.\",\n",
       "    \"workspace\": \"Workspace.create(name='precip_rediagnosis', subscription_id='07efdc52-cd27-48ed-9443-3aad2b6b777b', resource_group='precip_rediagnosis')\"\n",
       "  }\n",
       "}"
      ]
     },
     "execution_count": 16,
     "metadata": {},
     "output_type": "execute_result"
    }
   ],
   "source": [
    "all_merged_ds_name = f'{merged_prefix}_all_events'\n",
    "if do_unregister:\n",
    "    do_unregister_dataset(prd_workspace, all_merged_ds_name)\n",
    "all_merged_ds = azureml.data.FileDataset.Tabular.from_delimited_files((prd_datastore, f'{prd_prefix}/*/{merged_prefix}*{tabular_suffix}'))\n",
    "all_merged_ds = all_merged_ds.register(\n",
    "    workspace=prd_workspace,\n",
    "    name=all_merged_ds_name,\n",
    "    description=f'Precip rediagnosis dataset for currently available training events.' ,\n",
    "    create_new_version=not do_unregister,\n",
    ")\n",
    "all_merged_ds"
   ]
  },
  {
   "cell_type": "code",
   "execution_count": 17,
   "id": "7aedc9ad-6424-4e0e-8588-bf22b922d477",
   "metadata": {},
   "outputs": [
    {
     "name": "stderr",
     "output_type": "stream",
     "text": [
      "/anaconda/envs/azureml_py38/lib/python3.8/site-packages/azureml/dataprep/api/_dataframereader.py:379: UserWarning: Using alternate reader. Inconsistent or mixed schemas detected across partitions: partition had different number of columns. The first partition has 227 columns. Found partition has 225 columns.\n",
      "First partition columns (ordered): ['realization', 'latitude', 'longitude', 'forecast_period', 'forecast_reference_time', 'time', 'cloud_area_fraction', 'surface_altitude', 'air_pressure_at_sea_level', 'rainfall_rate', 'convective_rainfall_rate', 'lwe_snowfall_rate', 'lwe_convective_snowfall_rate', 'cloud_volume_fraction_in_atmosphere_layer_5.0', 'cloud_volume_fraction_in_atmosphere_layer_10.0', 'cloud_volume_fraction_in_atmosphere_layer_20.0', 'cloud_volume_fraction_in_atmosphere_layer_30.0', 'cloud_volume_fraction_in_atmosphere_layer_50.0', 'cloud_volume_fraction_in_atmosphere_layer_75.0', 'cloud_volume_fraction_in_atmosphere_layer_100.0', 'cloud_volume_fraction_in_atmosphere_layer_150.0', 'cloud_volume_fraction_in_atmosphere_layer_200.0', 'cloud_volume_fraction_in_atmosphere_layer_250.0', 'cloud_volume_fraction_in_atmosphere_layer_300.0', 'cloud_volume_fraction_in_atmosphere_layer_400.0', 'cloud_volume_fraction_in_atmosphere_layer_500.0', 'cloud_volume_fraction_in_atmosphere_layer_600.0', 'cloud_volume_fraction_in_atmosphere_layer_700.0', 'cloud_volume_fraction_in_atmosphere_layer_800.0', 'cloud_volume_fraction_in_atmosphere_layer_1000.0', 'cloud_volume_fraction_in_atmosphere_layer_1250.0', 'cloud_volume_fraction_in_atmosphere_layer_1500.0', 'cloud_volume_fraction_in_atmosphere_layer_1750.0', 'cloud_volume_fraction_in_atmosphere_layer_2000.0', 'cloud_volume_fraction_in_atmosphere_layer_2250.0', 'cloud_volume_fraction_in_atmosphere_layer_2500.0', 'cloud_volume_fraction_in_atmosphere_layer_2750.0', 'cloud_volume_fraction_in_atmosphere_layer_3000.0', 'cloud_volume_fraction_in_atmosphere_layer_3250.0', 'cloud_volume_fraction_in_atmosphere_layer_3500.0', 'cloud_volume_fraction_in_atmosphere_layer_3750.0', 'cloud_volume_fraction_in_atmosphere_layer_4000.0', 'cloud_volume_fraction_in_atmosphere_layer_4500.0', 'cloud_volume_fraction_in_atmosphere_layer_5000.0', 'cloud_volume_fraction_in_atmosphere_layer_5500.0', 'cloud_volume_fraction_in_atmosphere_layer_6000.0', 'relative_humidity_5.0', 'relative_humidity_10.0', 'relative_humidity_20.0', 'relative_humidity_30.0', 'relative_humidity_50.0', 'relative_humidity_75.0', 'relative_humidity_100.0', 'relative_humidity_150.0', 'relative_humidity_200.0', 'relative_humidity_250.0', 'relative_humidity_300.0', 'relative_humidity_400.0', 'relative_humidity_500.0', 'relative_humidity_600.0', 'relative_humidity_700.0', 'relative_humidity_800.0', 'relative_humidity_1000.0', 'relative_humidity_1250.0', 'relative_humidity_1500.0', 'relative_humidity_1750.0', 'relative_humidity_2000.0', 'relative_humidity_2250.0', 'relative_humidity_2500.0', 'relative_humidity_2750.0', 'relative_humidity_3000.0', 'relative_humidity_3250.0', 'relative_humidity_3500.0', 'relative_humidity_3750.0', 'relative_humidity_4000.0', 'relative_humidity_4500.0', 'relative_humidity_5000.0', 'relative_humidity_5500.0', 'relative_humidity_6000.0', 'air_pressure_5.0', 'air_pressure_10.0', 'air_pressure_20.0', 'air_pressure_30.0', 'air_pressure_50.0', 'air_pressure_75.0', 'air_pressure_100.0', 'air_pressure_150.0', 'air_pressure_200.0', 'air_pressure_250.0', 'air_pressure_300.0', 'air_pressure_400.0', 'air_pressure_500.0', 'air_pressure_600.0', 'air_pressure_700.0', 'air_pressure_800.0', 'air_pressure_1000.0', 'air_pressure_1250.0', 'air_pressure_1500.0', 'air_pressure_1750.0', 'air_pressure_2000.0', 'air_pressure_2250.0', 'air_pressure_2500.0', 'air_pressure_2750.0', 'air_pressure_3000.0', 'air_pressure_3250.0', 'air_pressure_3500.0', 'air_pressure_3750.0', 'air_pressure_4000.0', 'air_pressure_4500.0', 'air_pressure_5000.0', 'air_pressure_5500.0', 'air_pressure_6000.0', 'air_temperature_5.0', 'air_temperature_10.0', 'air_temperature_20.0', 'air_temperature_30.0', 'air_temperature_50.0', 'air_temperature_75.0', 'air_temperature_100.0', 'air_temperature_150.0', 'air_temperature_200.0', 'air_temperature_250.0', 'air_temperature_300.0', 'air_temperature_400.0', 'air_temperature_500.0', 'air_temperature_600.0', 'air_temperature_700.0', 'air_temperature_800.0', 'air_temperature_1000.0', 'air_temperature_1250.0', 'air_temperature_1500.0', 'air_temperature_1750.0', 'air_temperature_2000.0', 'air_temperature_2250.0', 'air_temperature_2500.0', 'air_temperature_2750.0', 'air_temperature_3000.0', 'air_temperature_3250.0', 'air_temperature_3500.0', 'air_temperature_3750.0', 'air_temperature_4000.0', 'air_temperature_4500.0', 'air_temperature_5000.0', 'air_temperature_5500.0', 'air_temperature_6000.0', 'wind_from_direction_5.0', 'wind_from_direction_10.0', 'wind_from_direction_20.0', 'wind_from_direction_30.0', 'wind_from_direction_50.0', 'wind_from_direction_75.0', 'wind_from_direction_100.0', 'wind_from_direction_150.0', 'wind_from_direction_200.0', 'wind_from_direction_250.0', 'wind_from_direction_300.0', 'wind_from_direction_400.0', 'wind_from_direction_500.0', 'wind_from_direction_600.0', 'wind_from_direction_700.0', 'wind_from_direction_800.0', 'wind_from_direction_1000.0', 'wind_from_direction_1250.0', 'wind_from_direction_1500.0', 'wind_from_direction_1750.0', 'wind_from_direction_2000.0', 'wind_from_direction_2250.0', 'wind_from_direction_2500.0', 'wind_from_direction_2750.0', 'wind_from_direction_3000.0', 'wind_from_direction_3250.0', 'wind_from_direction_3500.0', 'wind_from_direction_3750.0', 'wind_from_direction_4000.0', 'wind_from_direction_4500.0', 'wind_from_direction_5000.0', 'wind_from_direction_5500.0', 'wind_from_direction_6000.0', 'wind_speed_5.0', 'wind_speed_10.0', 'wind_speed_20.0', 'wind_speed_30.0', 'wind_speed_50.0', 'wind_speed_75.0', 'wind_speed_100.0', 'wind_speed_150.0', 'wind_speed_200.0', 'wind_speed_250.0', 'wind_speed_300.0', 'wind_speed_400.0', 'wind_speed_500.0', 'wind_speed_600.0', 'wind_speed_700.0', 'wind_speed_800.0', 'wind_speed_1000.0', 'wind_speed_1250.0', 'wind_speed_1500.0', 'wind_speed_1750.0', 'wind_speed_2000.0', 'wind_speed_2250.0', 'wind_speed_2500.0', 'wind_speed_2750.0', 'wind_speed_3000.0', 'wind_speed_3250.0', 'wind_speed_3500.0', 'wind_speed_3750.0', 'wind_speed_4000.0', 'wind_speed_4500.0', 'wind_speed_5000.0', 'wind_speed_5500.0', 'wind_speed_6000.0', 'radar_max_rain_aggregate_3hr', 'radar_mean_rain_aggregate_3hr', 'radar_max_rain_instant', 'radar_mean_rain_instant', 'fraction_sum_agg', 'fraction_sum_instant', 'radar_fraction_in_band_aggregate_3hr_0.0', 'radar_fraction_in_band_aggregate_3hr_0.25', 'radar_fraction_in_band_aggregate_3hr_2.5', 'radar_fraction_in_band_aggregate_3hr_7.0', 'radar_fraction_in_band_aggregate_3hr_10.0', 'radar_fraction_in_band_instant_0.0', 'radar_fraction_in_band_instant_0.25', 'radar_fraction_in_band_instant_2.5', 'radar_fraction_in_band_instant_7.0', 'radar_fraction_in_band_instant_10.0']\n",
      "Found Partition has columns (ordered): ['realization', 'latitude', 'longitude', 'forecast_period', 'forecast_reference_time', 'time', 'cloud_area_fraction', 'surface_altitude', 'air_pressure_at_sea_level', 'rainfall_rate', 'convective_rainfall_rate', 'lwe_snowfall_rate', 'lwe_convective_snowfall_rate', 'cloud_volume_fraction_in_atmosphere_layer_5.0', 'cloud_volume_fraction_in_atmosphere_layer_10.0', 'cloud_volume_fraction_in_atmosphere_layer_20.0', 'cloud_volume_fraction_in_atmosphere_layer_30.0', 'cloud_volume_fraction_in_atmosphere_layer_50.0', 'cloud_volume_fraction_in_atmosphere_layer_75.0', 'cloud_volume_fraction_in_atmosphere_layer_100.0', 'cloud_volume_fraction_in_atmosphere_layer_150.0', 'cloud_volume_fraction_in_atmosphere_layer_200.0', 'cloud_volume_fraction_in_atmosphere_layer_250.0', 'cloud_volume_fraction_in_atmosphere_layer_300.0', 'cloud_volume_fraction_in_atmosphere_layer_400.0', 'cloud_volume_fraction_in_atmosphere_layer_500.0', 'cloud_volume_fraction_in_atmosphere_layer_600.0', 'cloud_volume_fraction_in_atmosphere_layer_700.0', 'cloud_volume_fraction_in_atmosphere_layer_800.0', 'cloud_volume_fraction_in_atmosphere_layer_1000.0', 'cloud_volume_fraction_in_atmosphere_layer_1250.0', 'cloud_volume_fraction_in_atmosphere_layer_1500.0', 'cloud_volume_fraction_in_atmosphere_layer_1750.0', 'cloud_volume_fraction_in_atmosphere_layer_2000.0', 'cloud_volume_fraction_in_atmosphere_layer_2250.0', 'cloud_volume_fraction_in_atmosphere_layer_2500.0', 'cloud_volume_fraction_in_atmosphere_layer_2750.0', 'cloud_volume_fraction_in_atmosphere_layer_3000.0', 'cloud_volume_fraction_in_atmosphere_layer_3250.0', 'cloud_volume_fraction_in_atmosphere_layer_3500.0', 'cloud_volume_fraction_in_atmosphere_layer_3750.0', 'cloud_volume_fraction_in_atmosphere_layer_4000.0', 'cloud_volume_fraction_in_atmosphere_layer_4500.0', 'cloud_volume_fraction_in_atmosphere_layer_5000.0', 'cloud_volume_fraction_in_atmosphere_layer_5500.0', 'cloud_volume_fraction_in_atmosphere_layer_6000.0', 'relative_humidity_5.0', 'relative_humidity_10.0', 'relative_humidity_20.0', 'relative_humidity_30.0', 'relative_humidity_50.0', 'relative_humidity_75.0', 'relative_humidity_100.0', 'relative_humidity_150.0', 'relative_humidity_200.0', 'relative_humidity_250.0', 'relative_humidity_300.0', 'relative_humidity_400.0', 'relative_humidity_500.0', 'relative_humidity_600.0', 'relative_humidity_700.0', 'relative_humidity_800.0', 'relative_humidity_1000.0', 'relative_humidity_1250.0', 'relative_humidity_1500.0', 'relative_humidity_1750.0', 'relative_humidity_2000.0', 'relative_humidity_2250.0', 'relative_humidity_2500.0', 'relative_humidity_2750.0', 'relative_humidity_3000.0', 'relative_humidity_3250.0', 'relative_humidity_3500.0', 'relative_humidity_3750.0', 'relative_humidity_4000.0', 'relative_humidity_4500.0', 'relative_humidity_5000.0', 'relative_humidity_5500.0', 'relative_humidity_6000.0', 'air_pressure_5.0', 'air_pressure_10.0', 'air_pressure_20.0', 'air_pressure_30.0', 'air_pressure_50.0', 'air_pressure_75.0', 'air_pressure_100.0', 'air_pressure_150.0', 'air_pressure_200.0', 'air_pressure_250.0', 'air_pressure_300.0', 'air_pressure_400.0', 'air_pressure_500.0', 'air_pressure_600.0', 'air_pressure_700.0', 'air_pressure_800.0', 'air_pressure_1000.0', 'air_pressure_1250.0', 'air_pressure_1500.0', 'air_pressure_1750.0', 'air_pressure_2000.0', 'air_pressure_2250.0', 'air_pressure_2500.0', 'air_pressure_2750.0', 'air_pressure_3000.0', 'air_pressure_3250.0', 'air_pressure_3500.0', 'air_pressure_3750.0', 'air_pressure_4000.0', 'air_pressure_4500.0', 'air_pressure_5000.0', 'air_pressure_5500.0', 'air_pressure_6000.0', 'air_temperature_5.0', 'air_temperature_10.0', 'air_temperature_20.0', 'air_temperature_30.0', 'air_temperature_50.0', 'air_temperature_75.0', 'air_temperature_100.0', 'air_temperature_150.0', 'air_temperature_200.0', 'air_temperature_250.0', 'air_temperature_300.0', 'air_temperature_400.0', 'air_temperature_500.0', 'air_temperature_600.0', 'air_temperature_700.0', 'air_temperature_800.0', 'air_temperature_1000.0', 'air_temperature_1250.0', 'air_temperature_1500.0', 'air_temperature_1750.0', 'air_temperature_2000.0', 'air_temperature_2250.0', 'air_temperature_2500.0', 'air_temperature_2750.0', 'air_temperature_3000.0', 'air_temperature_3250.0', 'air_temperature_3500.0', 'air_temperature_3750.0', 'air_temperature_4000.0', 'air_temperature_4500.0', 'air_temperature_5000.0', 'air_temperature_5500.0', 'air_temperature_6000.0', 'wind_from_direction_5.0', 'wind_from_direction_10.0', 'wind_from_direction_20.0', 'wind_from_direction_30.0', 'wind_from_direction_50.0', 'wind_from_direction_75.0', 'wind_from_direction_100.0', 'wind_from_direction_150.0', 'wind_from_direction_200.0', 'wind_from_direction_250.0', 'wind_from_direction_300.0', 'wind_from_direction_400.0', 'wind_from_direction_500.0', 'wind_from_direction_600.0', 'wind_from_direction_700.0', 'wind_from_direction_800.0', 'wind_from_direction_1000.0', 'wind_from_direction_1250.0', 'wind_from_direction_1500.0', 'wind_from_direction_1750.0', 'wind_from_direction_2000.0', 'wind_from_direction_2250.0', 'wind_from_direction_2500.0', 'wind_from_direction_2750.0', 'wind_from_direction_3000.0', 'wind_from_direction_3250.0', 'wind_from_direction_3500.0', 'wind_from_direction_3750.0', 'wind_from_direction_4000.0', 'wind_from_direction_4500.0', 'wind_from_direction_5000.0', 'wind_from_direction_5500.0', 'wind_from_direction_6000.0', 'wind_speed_5.0', 'wind_speed_10.0', 'wind_speed_20.0', 'wind_speed_30.0', 'wind_speed_50.0', 'wind_speed_75.0', 'wind_speed_100.0', 'wind_speed_150.0', 'wind_speed_200.0', 'wind_speed_250.0', 'wind_speed_300.0', 'wind_speed_400.0', 'wind_speed_500.0', 'wind_speed_600.0', 'wind_speed_700.0', 'wind_speed_800.0', 'wind_speed_1000.0', 'wind_speed_1250.0', 'wind_speed_1500.0', 'wind_speed_1750.0', 'wind_speed_2000.0', 'wind_speed_2250.0', 'wind_speed_2500.0', 'wind_speed_2750.0', 'wind_speed_3000.0', 'wind_speed_3250.0', 'wind_speed_3500.0', 'wind_speed_3750.0', 'wind_speed_4000.0', 'wind_speed_4500.0', 'wind_speed_5000.0', 'wind_speed_5500.0', 'wind_speed_6000.0', 'radar_max_rain_aggregate_3hr', 'radar_mean_rain_aggregate_3hr', 'radar_max_rain_instant', 'radar_mean_rain_instant', 'fraction_sum_agg', 'fraction_sum_instant', 'radar_fraction_in_band_aggregate_3hr_0.0', 'radar_fraction_in_band_aggregate_3hr_0.25', 'radar_fraction_in_band_aggregate_3hr_2.5', 'radar_fraction_in_band_aggregate_3hr_7.0', 'radar_fraction_in_band_aggregate_3hr_10.0', 'radar_fraction_in_band_instant_0.0', 'radar_fraction_in_band_instant_0.25', 'radar_fraction_in_band_instant_2.5']\n",
      "  warnings.warn('Using alternate reader. ' + reason)\n",
      "/anaconda/envs/azureml_py38/lib/python3.8/site-packages/azureml/dataprep/api/_dataframereader.py:265: UserWarning: Please install pyarrow>=0.16.0 for improved performance of to_pandas_dataframe. You can ensure the correct version is installed by running: pip install pyarrow>=0.16.0 --upgrade\n",
      "  warnings.warn('Please install pyarrow>=0.16.0 for improved performance of to_pandas_dataframe. '\n"
     ]
    }
   ],
   "source": [
    "merged_df = all_merged_ds.to_pandas_dataframe()"
   ]
  },
  {
   "cell_type": "code",
   "execution_count": 18,
   "id": "86a181ba-b575-499c-ae1f-ed91b20c73ff",
   "metadata": {},
   "outputs": [
    {
     "data": {
      "text/plain": [
       "['fraction_sum_instant',\n",
       " 'radar_fraction_in_band_instant_0.0',\n",
       " 'radar_fraction_in_band_instant_0.25',\n",
       " 'radar_fraction_in_band_instant_2.5',\n",
       " 'radar_fraction_in_band_instant_7.0',\n",
       " 'radar_fraction_in_band_instant_10.0']"
      ]
     },
     "execution_count": 18,
     "metadata": {},
     "output_type": "execute_result"
    }
   ],
   "source": [
    "[c1 for c1 in  merged_df.columns if 'fraction' in c1 and 'instant' in c1]"
   ]
  },
  {
   "cell_type": "code",
   "execution_count": 19,
   "id": "b3a2bdc1-449d-4707-8273-3f1308edff9c",
   "metadata": {},
   "outputs": [],
   "source": [
    "ds_type_dict = {\n",
    "    'files': azureml.core.dataset.Dataset.File.from_files,\n",
    "    'tabular': azureml.core.dataset.Dataset.Tabular.from_delimited_files,\n",
    "}"
   ]
  },
  {
   "cell_type": "code",
   "execution_count": 20,
   "id": "7f1c10ac-dd4c-45af-a9f6-1ccde3d6c52e",
   "metadata": {},
   "outputs": [
    {
     "name": "stdout",
     "output_type": "stream",
     "text": [
      "202002_storm_ciara\n",
      "dataset prd_merged_202002_storm_ciara_files unregistered\n",
      "dataset prd_merged_202002_storm_ciara_tabular unregistered\n",
      "202002_storm_dennis\n",
      "dataset prd_merged_202002_storm_dennis_files unregistered\n",
      "dataset prd_merged_202002_storm_dennis_tabular unregistered\n",
      "202008_storm_ellen\n",
      "dataset prd_merged_202008_storm_ellen_files unregistered\n",
      "dataset prd_merged_202008_storm_ellen_tabular unregistered\n",
      "202008_storm_francis\n",
      "dataset prd_merged_202008_storm_francis_files unregistered\n",
      "dataset prd_merged_202008_storm_francis_tabular unregistered\n",
      "202010_nswws_amber_oct\n",
      "dataset prd_merged_202010_nswws_amber_oct_files unregistered\n",
      "dataset prd_merged_202010_nswws_amber_oct_tabular unregistered\n",
      "202012_nswws_amber_dec\n",
      "dataset prd_merged_202012_nswws_amber_dec_files unregistered\n",
      "dataset prd_merged_202012_nswws_amber_dec_tabular unregistered\n",
      "202102_nswws_amber_feb\n",
      "dataset prd_merged_202102_nswws_amber_feb_files unregistered\n",
      "dataset prd_merged_202102_nswws_amber_feb_tabular unregistered\n",
      "202110_nswws_amber_oct\n",
      "dataset prd_merged_202110_nswws_amber_oct_files unregistered\n",
      "dataset prd_merged_202110_nswws_amber_oct_tabular unregistered\n",
      "202112_storm_barra\n",
      "dataset prd_merged_202112_storm_barra_files unregistered\n",
      "dataset prd_merged_202112_storm_barra_tabular unregistered\n",
      "2022_storm_eunice_franklin\n",
      "dataset prd_merged_2022_storm_eunice_franklin_files unregistered\n",
      "dataset prd_merged_2022_storm_eunice_franklin_tabular unregistered\n"
     ]
    }
   ],
   "source": [
    "event_datasets = {}\n",
    "for event_name in current_event_list:\n",
    "    \n",
    "    print(event_name)\n",
    "    event_datasets[event_name] = {}\n",
    "    event_ds_name = dataset_merged_name_template.format(\n",
    "        event_name=event_name)\n",
    "    event_paths = [\n",
    "        (prd_datastore, f'prd/{event_name}/{merged_prefix}*{tabular_suffix}'),\n",
    "    ]\n",
    "    \n",
    "    for ds_type, ds_func in ds_type_dict.items():\n",
    "        dataset_options = {\n",
    "            'workspace': prd_workspace,\n",
    "            'name': event_ds_name + '_' + ds_type,\n",
    "            'description': f'{ds_type} Dataset for merged data for {event_name}.', \n",
    "            'create_new_version': not do_unregister,\n",
    "        } \n",
    "        if do_unregister:\n",
    "            do_unregister_dataset(prd_workspace, dataset_options['name'])\n",
    "        # tabular dataset (not working entirely correctly yet when reading in)\n",
    "        event_datasets[event_name][ds_type] = ds_func(\n",
    "            path=event_paths).register(**dataset_options)"
   ]
  }
 ],
 "metadata": {
  "kernelspec": {
   "display_name": "Python 3",
   "language": "python",
   "name": "python3"
  },
  "language_info": {
   "codemirror_mode": {
    "name": "ipython",
    "version": 3
   },
   "file_extension": ".py",
   "mimetype": "text/x-python",
   "name": "python",
   "nbconvert_exporter": "python",
   "pygments_lexer": "ipython3",
   "version": "3.8.1"
  }
 },
 "nbformat": 4,
 "nbformat_minor": 5
}
