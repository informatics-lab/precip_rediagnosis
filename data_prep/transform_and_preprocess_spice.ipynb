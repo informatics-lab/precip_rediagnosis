{
 "cells": [
  {
   "cell_type": "markdown",
   "id": "6db1eb57-1e49-44b1-ad40-3f5eb4a019dc",
   "metadata": {
    "tags": []
   },
   "source": [
    "# Pre-processing the data\n",
    "This notebook will demonstrate transforming the data extracted from MASS into a tabular dataset (alomst) ready for use in machine learning. This notebook will do this for one forecast reference time and one realisation, to make the development process easier (and able to run on a smaller compute instance), and then a separate notebook will be created to do the actual \"batch\" processing of data.\n",
    "\n",
    "We are using data around Storm Dennis ([Met Office](https://www.metoffice.gov.uk/weather/warnings-and-advice/uk-storm-centre/storm-dennis), [Wikipedia](https://en.wikipedia.org/wiki/Storm_Dennis))\n",
    "\n",
    "The key steps in this process are as follows:\n",
    "* Prepare radar data\n",
    "  * Load in radar data files extracted from mass and agggregated into 1 file per day of data \n",
    "  * Accumuluate in 3hr accumulations to match 3 hour frequency of model data\n",
    "  * Load a sample MOGREPS-UK UK cutout grid to use a regridding target\n",
    "  * regrid radar data\n",
    "  * transform into tabular data\n",
    "* Prepare MOGREPS-G data\n",
    "  * Load in data extract from MASS for the forecast reference times and leadtime of interest (IN this case around Storm Dennis 15/16 Feb 2020)\n",
    "  * Extract UK Data\n",
    "  * For each forecast ref time,load in all single level variables and transform to tabular (using xarray.Dataset.to_dataframe)\n",
    "  * For each forecast ref time, load in variables on height levels and tranform to data frame\n",
    "  * the xarray function by default puts variables on different heights on different rows, whereas we want all levels of a variable for a particular time/lat/lon/realization to be on the same row as separate features/columns. Transform by selecting different heights, renaming variables to include name and height, and merging together.\n",
    "  * merge single level and height levels variables\n",
    "  * concatenate different times into a single dataframe and save to disk."
   ]
  },
  {
   "cell_type": "code",
   "execution_count": 2,
   "id": "willing-tenant",
   "metadata": {},
   "outputs": [],
   "source": [
    "import pathlib\n",
    "import datetime\n",
    "import functools\n",
    "import os"
   ]
  },
  {
   "cell_type": "code",
   "execution_count": 3,
   "id": "desperate-thousand",
   "metadata": {},
   "outputs": [],
   "source": [
    "import numpy"
   ]
  },
  {
   "cell_type": "code",
   "execution_count": 4,
   "id": "explicit-hamilton",
   "metadata": {
    "tags": []
   },
   "outputs": [],
   "source": [
    "import pandas"
   ]
  },
  {
   "cell_type": "code",
   "execution_count": 5,
   "id": "devoted-syria",
   "metadata": {},
   "outputs": [],
   "source": [
    "import xarray\n",
    "import iris\n",
    "import iris.quickplot\n",
    "import iris.coord_categorisation"
   ]
  },
  {
   "cell_type": "code",
   "execution_count": 6,
   "id": "216c2d69-2655-44b3-80a4-c12d3e637800",
   "metadata": {},
   "outputs": [],
   "source": [
    "import matplotlib.pyplot"
   ]
  },
  {
   "cell_type": "markdown",
   "id": "documented-campus",
   "metadata": {},
   "source": [
    "# Set parameters for notebook\n",
    "Set the paths and lists of things to process"
   ]
  },
  {
   "cell_type": "code",
   "execution_count": 7,
   "id": "c725213e-5ab1-45da-89f1-750b5dbbf334",
   "metadata": {},
   "outputs": [],
   "source": [
    "project_name = 'precip_rediagnosis'\n",
    "mogreps_g_name = 'mogreps-g'\n",
    "ilab_project_dir = pathlib.Path('/project/informatics_lab/')\n",
    "output_dir =  pathlib.Path('/scratch')/ os.environ['USER'] / project_name"
   ]
  },
  {
   "cell_type": "code",
   "execution_count": 8,
   "id": "union-agent",
   "metadata": {},
   "outputs": [],
   "source": [
    "root_data_dir = ilab_project_dir / project_name\n",
    "mogreps_g_data_dir = root_data_dir / mogreps_g_name\n",
    "radar_data_dir = root_data_dir / 'radar'"
   ]
  },
  {
   "cell_type": "code",
   "execution_count": 9,
   "id": "aac0f0e8-2b5c-4b36-b8c6-246e3e887bbd",
   "metadata": {},
   "outputs": [],
   "source": [
    "output_fname_template = 'prd_{lt:03d}H_{vt.year:04d}{vt.month:02d}{vt.day:02d}T{vt.hour:02d}{vt.minute:02d}Z.csv'"
   ]
  },
  {
   "cell_type": "code",
   "execution_count": 10,
   "id": "operational-fundamentals",
   "metadata": {},
   "outputs": [],
   "source": [
    "variables_single_level = [\n",
    "    \"cloud_amount_of_total_cloud\",\n",
    "    \"rainfall_accumulation-PT03H\",\n",
    "    \"snowfall_accumulation-PT03H\",\n",
    "    \"rainfall_rate\",\n",
    "    \"snowfall_rate\",\n",
    "    \"height_of_orography\",\n",
    "    \"pressure_at_mean_sea_level\",\n",
    "]\n",
    "\n",
    "variables_height_levels = [\n",
    "    \"cloud_amount_on_height_levels\",\n",
    "    \"pressure_on_height_levels\",\n",
    "    \"temperature_on_height_levels\",\n",
    "    \"relative_humidity_on_height_levels\",\n",
    "    \"wind_direction_on_height_levels\",\n",
    "    \"wind_speed_on_height_levels\",\n",
    "    \n",
    "]"
   ]
  },
  {
   "cell_type": "code",
   "execution_count": 11,
   "id": "cooked-effort",
   "metadata": {},
   "outputs": [],
   "source": [
    "num_periods = 10\n",
    "start_ref_time = datetime.datetime(2020,2,14,12)\n",
    "forecast_ref_time_range = [start_ref_time + datetime.timedelta(hours=6)*i1 for i1 in range(num_periods)]\n",
    "leadtime_hours = 15\n",
    "realizations_list = list(range(35))"
   ]
  },
  {
   "cell_type": "code",
   "execution_count": 12,
   "id": "passing-infection",
   "metadata": {},
   "outputs": [],
   "source": [
    "dataset = 'mogreps-g'\n",
    "subset = 'lev1'\n",
    "forecast_ref_template = '{frt.year:04d}{frt.month:02d}{frt.day:02d}T{frt.hour:02d}00Z.nc.file'\n",
    "fname_template = '{vt.year:04d}{vt.month:02d}{vt.day:02d}T{vt.hour:02d}00Z-PT{lead_time:04d}H00M-{var_name}.nc'"
   ]
  },
  {
   "cell_type": "code",
   "execution_count": 13,
   "id": "neural-meter",
   "metadata": {},
   "outputs": [],
   "source": [
    "variables_to_extract = variables_height_levels + variables_single_level"
   ]
  },
  {
   "cell_type": "code",
   "execution_count": 14,
   "id": "finite-leeds",
   "metadata": {},
   "outputs": [],
   "source": [
    "path_lists_vars = {\n",
    "    var_name: [f1 for f1 in mogreps_g_data_dir.iterdir() if var_name in str(f1)]\n",
    "    for var_name in variables_to_extract\n",
    "}\n"
   ]
  },
  {
   "cell_type": "code",
   "execution_count": 15,
   "id": "70e6e4ad-0b11-4dce-8e2f-be0d276b9095",
   "metadata": {},
   "outputs": [],
   "source": [
    "uk_bounds={'latitude':(50,58), 'longitude': (-6,2)}\n",
    "xarray_select_uk = {k1: slice(*v1) for k1,v1 in uk_bounds.items()}"
   ]
  },
  {
   "cell_type": "markdown",
   "id": "binary-worker",
   "metadata": {},
   "source": [
    "## Create a dataset from MOGREPS-G data\n",
    "Information on Met Office Ensmble forecasts - https://www.metoffice.gov.uk/research/weather/ensemble-forecasting#\n",
    "Paper - https://www.metoffice.gov.uk/research/weather/ensemble-forecasting "
   ]
  },
  {
   "cell_type": "code",
   "execution_count": 15,
   "id": "ruled-effort",
   "metadata": {},
   "outputs": [],
   "source": [
    "fcst_ref_time = forecast_ref_time_range[0]\n",
    "real1 = realizations_list[10]\n",
    "validity_time = fcst_ref_time + datetime.timedelta(hours=leadtime_hours)"
   ]
  },
  {
   "cell_type": "code",
   "execution_count": 16,
   "id": "39b0e18d-723b-42a6-b68f-7e42a131a5eb",
   "metadata": {},
   "outputs": [
    {
     "data": {
      "text/plain": [
       "datetime.datetime(2020, 2, 15, 3, 0)"
      ]
     },
     "execution_count": 16,
     "metadata": {},
     "output_type": "execute_result"
    }
   ],
   "source": [
    "validity_time"
   ]
  },
  {
   "cell_type": "markdown",
   "id": "9595b437-dcae-4f4e-9076-935e1e6fc495",
   "metadata": {},
   "source": [
    "The file names do not match the variables names within the files, so we need to create a mapping to work with."
   ]
  },
  {
   "cell_type": "code",
   "execution_count": 17,
   "id": "russian-letter",
   "metadata": {
    "tags": []
   },
   "outputs": [
    {
     "name": "stdout",
     "output_type": "stream",
     "text": [
      "CPU times: user 739 ms, sys: 70 ms, total: 809 ms\n",
      "Wall time: 1.77 s\n"
     ]
    },
    {
     "data": {
      "text/plain": [
       "{'cloud_amount_of_total_cloud': 'cloud_area_fraction',\n",
       " 'rainfall_accumulation-PT03H': 'thickness_of_rainfall_amount',\n",
       " 'snowfall_accumulation-PT03H': 'lwe_thickness_of_snowfall_amount',\n",
       " 'rainfall_rate': 'rainfall_rate',\n",
       " 'snowfall_rate': 'lwe_snowfall_rate',\n",
       " 'height_of_orography': 'surface_altitude',\n",
       " 'pressure_at_mean_sea_level': 'air_pressure_at_sea_level',\n",
       " 'cloud_amount_on_height_levels': 'cloud_volume_fraction_in_atmosphere_layer',\n",
       " 'pressure_on_height_levels': 'air_pressure',\n",
       " 'temperature_on_height_levels': 'air_temperature',\n",
       " 'relative_humidity_on_height_levels': 'relative_humidity',\n",
       " 'wind_direction_on_height_levels': 'wind_from_direction',\n",
       " 'wind_speed_on_height_levels': 'wind_speed'}"
      ]
     },
     "execution_count": 17,
     "metadata": {},
     "output_type": "execute_result"
    }
   ],
   "source": [
    "%%time\n",
    "# load a cube for each variable in iris to get the actual variable name, and populate dictionary mapping from the var name in the file name to the variable as loaded into iris/xarray\n",
    "file_to_var_mapping = {\n",
    "    var_file_name: iris.load_cube(str(mogreps_g_data_dir / fname_template.format(vt=validity_time,\n",
    "                                                                                 lead_time=leadtime_hours,\n",
    "                                                                                 var_name=var_file_name))).name()\n",
    "    for var_file_name in variables_single_level + variables_height_levels}\n",
    "file_to_var_mapping"
   ]
  },
  {
   "cell_type": "code",
   "execution_count": 18,
   "id": "dbc762f8-8aa7-4e90-bbd4-1b52d664aecc",
   "metadata": {},
   "outputs": [],
   "source": [
    "single_level_var_mappings = {v1: file_to_var_mapping[v1] for v1 in variables_single_level}\n",
    "height_level_var_mappings = {v1: file_to_var_mapping[v1] for v1 in variables_height_levels}"
   ]
  },
  {
   "cell_type": "code",
   "execution_count": 19,
   "id": "round-cassette",
   "metadata": {},
   "outputs": [
    {
     "name": "stdout",
     "output_type": "stream",
     "text": [
      "2020-02-14 12:00:00\n",
      "2020-02-14 18:00:00\n",
      "2020-02-15 00:00:00\n",
      "2020-02-15 06:00:00\n",
      "2020-02-15 12:00:00\n",
      "2020-02-15 18:00:00\n",
      "2020-02-16 00:00:00\n",
      "2020-02-16 06:00:00\n",
      "2020-02-16 12:00:00\n",
      "2020-02-16 18:00:00\n"
     ]
    }
   ],
   "source": [
    "for fcst_ref_time in forecast_ref_time_range:\n",
    "    print(fcst_ref_time)"
   ]
  },
  {
   "cell_type": "markdown",
   "id": "cf06f5f1-685f-437b-84ae-c92a8980bb90",
   "metadata": {},
   "source": [
    "Create a function to load the data for a particular location (because this project is interested in the UK) and realization (to keep data manageable during development)."
   ]
  },
  {
   "cell_type": "code",
   "execution_count": 20,
   "id": "demanding-checkout",
   "metadata": {},
   "outputs": [],
   "source": [
    "def load_realization_ds(ds_path, realization, selected_bounds):\n",
    "    try:\n",
    "        subset1 = dict(selected_bounds)\n",
    "        subset1['realization'] = realization\n",
    "        subset1['bnds'] = 0\n",
    "        single_level_ds = xarray.load_dataset(ds_path).sel(**subset1)\n",
    "    except KeyError as e1:\n",
    "        single_level_ds = None\n",
    "    return single_level_ds"
   ]
  },
  {
   "cell_type": "code",
   "execution_count": 21,
   "id": "moved-conspiracy",
   "metadata": {},
   "outputs": [
    {
     "name": "stdout",
     "output_type": "stream",
     "text": [
      "CPU times: user 2.6 s, sys: 396 ms, total: 3 s\n",
      "Wall time: 3.63 s\n"
     ]
    }
   ],
   "source": [
    "%%time\n",
    "ds_list = [load_realization_ds(\n",
    "    ds_path= mogreps_g_data_dir / fname_template.format(vt=validity_time,\n",
    "                                                     lead_time=leadtime_hours,\n",
    "                                                     var_name=var1),\n",
    "    realization=real1,\n",
    "    selected_bounds=xarray_select_uk,\n",
    ")\n",
    "    for var1 in variables_single_level]\n",
    "single_level_ds = xarray.merge([ds1 for ds1 in ds_list if ds1 is not None])\n"
   ]
  },
  {
   "cell_type": "code",
   "execution_count": 22,
   "id": "6010bfec-23ab-407b-a803-728b9101c790",
   "metadata": {},
   "outputs": [
    {
     "data": {
      "text/html": [
       "<div><svg style=\"position: absolute; width: 0; height: 0; overflow: hidden\">\n",
       "<defs>\n",
       "<symbol id=\"icon-database\" viewBox=\"0 0 32 32\">\n",
       "<path d=\"M16 0c-8.837 0-16 2.239-16 5v4c0 2.761 7.163 5 16 5s16-2.239 16-5v-4c0-2.761-7.163-5-16-5z\"></path>\n",
       "<path d=\"M16 17c-8.837 0-16-2.239-16-5v6c0 2.761 7.163 5 16 5s16-2.239 16-5v-6c0 2.761-7.163 5-16 5z\"></path>\n",
       "<path d=\"M16 26c-8.837 0-16-2.239-16-5v6c0 2.761 7.163 5 16 5s16-2.239 16-5v-6c0 2.761-7.163 5-16 5z\"></path>\n",
       "</symbol>\n",
       "<symbol id=\"icon-file-text2\" viewBox=\"0 0 32 32\">\n",
       "<path d=\"M28.681 7.159c-0.694-0.947-1.662-2.053-2.724-3.116s-2.169-2.030-3.116-2.724c-1.612-1.182-2.393-1.319-2.841-1.319h-15.5c-1.378 0-2.5 1.121-2.5 2.5v27c0 1.378 1.122 2.5 2.5 2.5h23c1.378 0 2.5-1.122 2.5-2.5v-19.5c0-0.448-0.137-1.23-1.319-2.841zM24.543 5.457c0.959 0.959 1.712 1.825 2.268 2.543h-4.811v-4.811c0.718 0.556 1.584 1.309 2.543 2.268zM28 29.5c0 0.271-0.229 0.5-0.5 0.5h-23c-0.271 0-0.5-0.229-0.5-0.5v-27c0-0.271 0.229-0.5 0.5-0.5 0 0 15.499-0 15.5 0v7c0 0.552 0.448 1 1 1h7v19.5z\"></path>\n",
       "<path d=\"M23 26h-14c-0.552 0-1-0.448-1-1s0.448-1 1-1h14c0.552 0 1 0.448 1 1s-0.448 1-1 1z\"></path>\n",
       "<path d=\"M23 22h-14c-0.552 0-1-0.448-1-1s0.448-1 1-1h14c0.552 0 1 0.448 1 1s-0.448 1-1 1z\"></path>\n",
       "<path d=\"M23 18h-14c-0.552 0-1-0.448-1-1s0.448-1 1-1h14c0.552 0 1 0.448 1 1s-0.448 1-1 1z\"></path>\n",
       "</symbol>\n",
       "</defs>\n",
       "</svg>\n",
       "<style>/* CSS stylesheet for displaying xarray objects in jupyterlab.\n",
       " *\n",
       " */\n",
       "\n",
       ":root {\n",
       "  --xr-font-color0: var(--jp-content-font-color0, rgba(0, 0, 0, 1));\n",
       "  --xr-font-color2: var(--jp-content-font-color2, rgba(0, 0, 0, 0.54));\n",
       "  --xr-font-color3: var(--jp-content-font-color3, rgba(0, 0, 0, 0.38));\n",
       "  --xr-border-color: var(--jp-border-color2, #e0e0e0);\n",
       "  --xr-disabled-color: var(--jp-layout-color3, #bdbdbd);\n",
       "  --xr-background-color: var(--jp-layout-color0, white);\n",
       "  --xr-background-color-row-even: var(--jp-layout-color1, white);\n",
       "  --xr-background-color-row-odd: var(--jp-layout-color2, #eeeeee);\n",
       "}\n",
       "\n",
       "html[theme=dark],\n",
       "body.vscode-dark {\n",
       "  --xr-font-color0: rgba(255, 255, 255, 1);\n",
       "  --xr-font-color2: rgba(255, 255, 255, 0.54);\n",
       "  --xr-font-color3: rgba(255, 255, 255, 0.38);\n",
       "  --xr-border-color: #1F1F1F;\n",
       "  --xr-disabled-color: #515151;\n",
       "  --xr-background-color: #111111;\n",
       "  --xr-background-color-row-even: #111111;\n",
       "  --xr-background-color-row-odd: #313131;\n",
       "}\n",
       "\n",
       ".xr-wrap {\n",
       "  display: block !important;\n",
       "  min-width: 300px;\n",
       "  max-width: 700px;\n",
       "}\n",
       "\n",
       ".xr-text-repr-fallback {\n",
       "  /* fallback to plain text repr when CSS is not injected (untrusted notebook) */\n",
       "  display: none;\n",
       "}\n",
       "\n",
       ".xr-header {\n",
       "  padding-top: 6px;\n",
       "  padding-bottom: 6px;\n",
       "  margin-bottom: 4px;\n",
       "  border-bottom: solid 1px var(--xr-border-color);\n",
       "}\n",
       "\n",
       ".xr-header > div,\n",
       ".xr-header > ul {\n",
       "  display: inline;\n",
       "  margin-top: 0;\n",
       "  margin-bottom: 0;\n",
       "}\n",
       "\n",
       ".xr-obj-type,\n",
       ".xr-array-name {\n",
       "  margin-left: 2px;\n",
       "  margin-right: 10px;\n",
       "}\n",
       "\n",
       ".xr-obj-type {\n",
       "  color: var(--xr-font-color2);\n",
       "}\n",
       "\n",
       ".xr-sections {\n",
       "  padding-left: 0 !important;\n",
       "  display: grid;\n",
       "  grid-template-columns: 150px auto auto 1fr 20px 20px;\n",
       "}\n",
       "\n",
       ".xr-section-item {\n",
       "  display: contents;\n",
       "}\n",
       "\n",
       ".xr-section-item input {\n",
       "  display: none;\n",
       "}\n",
       "\n",
       ".xr-section-item input + label {\n",
       "  color: var(--xr-disabled-color);\n",
       "}\n",
       "\n",
       ".xr-section-item input:enabled + label {\n",
       "  cursor: pointer;\n",
       "  color: var(--xr-font-color2);\n",
       "}\n",
       "\n",
       ".xr-section-item input:enabled + label:hover {\n",
       "  color: var(--xr-font-color0);\n",
       "}\n",
       "\n",
       ".xr-section-summary {\n",
       "  grid-column: 1;\n",
       "  color: var(--xr-font-color2);\n",
       "  font-weight: 500;\n",
       "}\n",
       "\n",
       ".xr-section-summary > span {\n",
       "  display: inline-block;\n",
       "  padding-left: 0.5em;\n",
       "}\n",
       "\n",
       ".xr-section-summary-in:disabled + label {\n",
       "  color: var(--xr-font-color2);\n",
       "}\n",
       "\n",
       ".xr-section-summary-in + label:before {\n",
       "  display: inline-block;\n",
       "  content: '►';\n",
       "  font-size: 11px;\n",
       "  width: 15px;\n",
       "  text-align: center;\n",
       "}\n",
       "\n",
       ".xr-section-summary-in:disabled + label:before {\n",
       "  color: var(--xr-disabled-color);\n",
       "}\n",
       "\n",
       ".xr-section-summary-in:checked + label:before {\n",
       "  content: '▼';\n",
       "}\n",
       "\n",
       ".xr-section-summary-in:checked + label > span {\n",
       "  display: none;\n",
       "}\n",
       "\n",
       ".xr-section-summary,\n",
       ".xr-section-inline-details {\n",
       "  padding-top: 4px;\n",
       "  padding-bottom: 4px;\n",
       "}\n",
       "\n",
       ".xr-section-inline-details {\n",
       "  grid-column: 2 / -1;\n",
       "}\n",
       "\n",
       ".xr-section-details {\n",
       "  display: none;\n",
       "  grid-column: 1 / -1;\n",
       "  margin-bottom: 5px;\n",
       "}\n",
       "\n",
       ".xr-section-summary-in:checked ~ .xr-section-details {\n",
       "  display: contents;\n",
       "}\n",
       "\n",
       ".xr-array-wrap {\n",
       "  grid-column: 1 / -1;\n",
       "  display: grid;\n",
       "  grid-template-columns: 20px auto;\n",
       "}\n",
       "\n",
       ".xr-array-wrap > label {\n",
       "  grid-column: 1;\n",
       "  vertical-align: top;\n",
       "}\n",
       "\n",
       ".xr-preview {\n",
       "  color: var(--xr-font-color3);\n",
       "}\n",
       "\n",
       ".xr-array-preview,\n",
       ".xr-array-data {\n",
       "  padding: 0 5px !important;\n",
       "  grid-column: 2;\n",
       "}\n",
       "\n",
       ".xr-array-data,\n",
       ".xr-array-in:checked ~ .xr-array-preview {\n",
       "  display: none;\n",
       "}\n",
       "\n",
       ".xr-array-in:checked ~ .xr-array-data,\n",
       ".xr-array-preview {\n",
       "  display: inline-block;\n",
       "}\n",
       "\n",
       ".xr-dim-list {\n",
       "  display: inline-block !important;\n",
       "  list-style: none;\n",
       "  padding: 0 !important;\n",
       "  margin: 0;\n",
       "}\n",
       "\n",
       ".xr-dim-list li {\n",
       "  display: inline-block;\n",
       "  padding: 0;\n",
       "  margin: 0;\n",
       "}\n",
       "\n",
       ".xr-dim-list:before {\n",
       "  content: '(';\n",
       "}\n",
       "\n",
       ".xr-dim-list:after {\n",
       "  content: ')';\n",
       "}\n",
       "\n",
       ".xr-dim-list li:not(:last-child):after {\n",
       "  content: ',';\n",
       "  padding-right: 5px;\n",
       "}\n",
       "\n",
       ".xr-has-index {\n",
       "  font-weight: bold;\n",
       "}\n",
       "\n",
       ".xr-var-list,\n",
       ".xr-var-item {\n",
       "  display: contents;\n",
       "}\n",
       "\n",
       ".xr-var-item > div,\n",
       ".xr-var-item label,\n",
       ".xr-var-item > .xr-var-name span {\n",
       "  background-color: var(--xr-background-color-row-even);\n",
       "  margin-bottom: 0;\n",
       "}\n",
       "\n",
       ".xr-var-item > .xr-var-name:hover span {\n",
       "  padding-right: 5px;\n",
       "}\n",
       "\n",
       ".xr-var-list > li:nth-child(odd) > div,\n",
       ".xr-var-list > li:nth-child(odd) > label,\n",
       ".xr-var-list > li:nth-child(odd) > .xr-var-name span {\n",
       "  background-color: var(--xr-background-color-row-odd);\n",
       "}\n",
       "\n",
       ".xr-var-name {\n",
       "  grid-column: 1;\n",
       "}\n",
       "\n",
       ".xr-var-dims {\n",
       "  grid-column: 2;\n",
       "}\n",
       "\n",
       ".xr-var-dtype {\n",
       "  grid-column: 3;\n",
       "  text-align: right;\n",
       "  color: var(--xr-font-color2);\n",
       "}\n",
       "\n",
       ".xr-var-preview {\n",
       "  grid-column: 4;\n",
       "}\n",
       "\n",
       ".xr-var-name,\n",
       ".xr-var-dims,\n",
       ".xr-var-dtype,\n",
       ".xr-preview,\n",
       ".xr-attrs dt {\n",
       "  white-space: nowrap;\n",
       "  overflow: hidden;\n",
       "  text-overflow: ellipsis;\n",
       "  padding-right: 10px;\n",
       "}\n",
       "\n",
       ".xr-var-name:hover,\n",
       ".xr-var-dims:hover,\n",
       ".xr-var-dtype:hover,\n",
       ".xr-attrs dt:hover {\n",
       "  overflow: visible;\n",
       "  width: auto;\n",
       "  z-index: 1;\n",
       "}\n",
       "\n",
       ".xr-var-attrs,\n",
       ".xr-var-data {\n",
       "  display: none;\n",
       "  background-color: var(--xr-background-color) !important;\n",
       "  padding-bottom: 5px !important;\n",
       "}\n",
       "\n",
       ".xr-var-attrs-in:checked ~ .xr-var-attrs,\n",
       ".xr-var-data-in:checked ~ .xr-var-data {\n",
       "  display: block;\n",
       "}\n",
       "\n",
       ".xr-var-data > table {\n",
       "  float: right;\n",
       "}\n",
       "\n",
       ".xr-var-name span,\n",
       ".xr-var-data,\n",
       ".xr-attrs {\n",
       "  padding-left: 25px !important;\n",
       "}\n",
       "\n",
       ".xr-attrs,\n",
       ".xr-var-attrs,\n",
       ".xr-var-data {\n",
       "  grid-column: 1 / -1;\n",
       "}\n",
       "\n",
       "dl.xr-attrs {\n",
       "  padding: 0;\n",
       "  margin: 0;\n",
       "  display: grid;\n",
       "  grid-template-columns: 125px auto;\n",
       "}\n",
       "\n",
       ".xr-attrs dt,\n",
       ".xr-attrs dd {\n",
       "  padding: 0;\n",
       "  margin: 0;\n",
       "  float: left;\n",
       "  padding-right: 10px;\n",
       "  width: auto;\n",
       "}\n",
       "\n",
       ".xr-attrs dt {\n",
       "  font-weight: normal;\n",
       "  grid-column: 1;\n",
       "}\n",
       "\n",
       ".xr-attrs dt:hover span {\n",
       "  display: inline-block;\n",
       "  background: var(--xr-background-color);\n",
       "  padding-right: 10px;\n",
       "}\n",
       "\n",
       ".xr-attrs dd {\n",
       "  grid-column: 2;\n",
       "  white-space: pre-wrap;\n",
       "  word-break: break-all;\n",
       "}\n",
       "\n",
       ".xr-icon-database,\n",
       ".xr-icon-file-text2 {\n",
       "  display: inline-block;\n",
       "  vertical-align: middle;\n",
       "  width: 1em;\n",
       "  height: 1.5em !important;\n",
       "  stroke-width: 0;\n",
       "  stroke: currentColor;\n",
       "  fill: currentColor;\n",
       "}\n",
       "</style><pre class='xr-text-repr-fallback'>&lt;xarray.Dataset&gt;\n",
       "Dimensions:                           (latitude: 42, longitude: 28)\n",
       "Coordinates:\n",
       "    realization                       int32 10\n",
       "  * latitude                          (latitude) float32 50.16 50.34 ... 57.84\n",
       "  * longitude                         (longitude) float32 -5.766 ... 1.828\n",
       "    forecast_period                   timedelta64[ns] 15:00:00\n",
       "    forecast_reference_time           datetime64[ns] 2020-02-14T12:00:00\n",
       "    time                              datetime64[ns] 2020-02-15T03:00:00\n",
       "Data variables:\n",
       "    cloud_area_fraction               (latitude, longitude) float32 1.0 ... 0...\n",
       "    latitude_longitude                int32 -2147483647\n",
       "    latitude_bnds                     (latitude) float32 50.06 50.25 ... 57.75\n",
       "    longitude_bnds                    (longitude) float32 -5.906 ... 1.688\n",
       "    thickness_of_rainfall_amount      (latitude, longitude) float32 0.000391 ...\n",
       "    forecast_period_bnds              int32 43200\n",
       "    time_bnds                         datetime64[ns] 2020-02-15\n",
       "    lwe_thickness_of_snowfall_amount  (latitude, longitude) float32 0.0 ... 0.0\n",
       "    rainfall_rate                     (latitude, longitude) float32 1.863e-08...\n",
       "    lwe_snowfall_rate                 (latitude, longitude) float32 0.0 ... 0.0\n",
       "    surface_altitude                  (latitude, longitude) float32 0.0 ... 0.0\n",
       "    air_pressure_at_sea_level         (latitude, longitude) float32 1.008e+05...\n",
       "Attributes:\n",
       "    history:                      2020-02-14T16:23:47Z: StaGE Decoupler\n",
       "    institution:                  Met Office\n",
       "    least_significant_digit:      2\n",
       "    mosg__forecast_run_duration:  PT198H\n",
       "    mosg__grid_domain:            global\n",
       "    mosg__grid_type:              standard\n",
       "    mosg__grid_version:           1.5.0\n",
       "    mosg__model_configuration:    gl_ens\n",
       "    source:                       Met Office Unified Model\n",
       "    title:                        MOGREPS-G Model Forecast on Global 20 km St...\n",
       "    um_version:                   11.2\n",
       "    Conventions:                  CF-1.5, UKMO-1.0</pre><div class='xr-wrap' style='display:none'><div class='xr-header'><div class='xr-obj-type'>xarray.Dataset</div></div><ul class='xr-sections'><li class='xr-section-item'><input id='section-48b38be3-2c0e-492d-b158-9862afe543b0' class='xr-section-summary-in' type='checkbox' disabled ><label for='section-48b38be3-2c0e-492d-b158-9862afe543b0' class='xr-section-summary'  title='Expand/collapse section'>Dimensions:</label><div class='xr-section-inline-details'><ul class='xr-dim-list'><li><span class='xr-has-index'>latitude</span>: 42</li><li><span class='xr-has-index'>longitude</span>: 28</li></ul></div><div class='xr-section-details'></div></li><li class='xr-section-item'><input id='section-2592964c-2706-48b8-9536-f7e5fb82e0a9' class='xr-section-summary-in' type='checkbox'  checked><label for='section-2592964c-2706-48b8-9536-f7e5fb82e0a9' class='xr-section-summary' >Coordinates: <span>(6)</span></label><div class='xr-section-inline-details'></div><div class='xr-section-details'><ul class='xr-var-list'><li class='xr-var-item'><div class='xr-var-name'><span>realization</span></div><div class='xr-var-dims'>()</div><div class='xr-var-dtype'>int32</div><div class='xr-var-preview xr-preview'>10</div><input id='attrs-3b1da4f1-ef96-4b84-a2d6-7de6c7f1a4db' class='xr-var-attrs-in' type='checkbox' ><label for='attrs-3b1da4f1-ef96-4b84-a2d6-7de6c7f1a4db' title='Show/Hide attributes'><svg class='icon xr-icon-file-text2'><use xlink:href='#icon-file-text2'></use></svg></label><input id='data-0a87a536-6a4f-4b58-9734-939637b7ef4b' class='xr-var-data-in' type='checkbox'><label for='data-0a87a536-6a4f-4b58-9734-939637b7ef4b' title='Show/Hide data repr'><svg class='icon xr-icon-database'><use xlink:href='#icon-database'></use></svg></label><div class='xr-var-attrs'><dl class='xr-attrs'><dt><span>units :</span></dt><dd>1</dd><dt><span>standard_name :</span></dt><dd>realization</dd></dl></div><div class='xr-var-data'><pre>array(10, dtype=int32)</pre></div></li><li class='xr-var-item'><div class='xr-var-name'><span class='xr-has-index'>latitude</span></div><div class='xr-var-dims'>(latitude)</div><div class='xr-var-dtype'>float32</div><div class='xr-var-preview xr-preview'>50.16 50.34 50.53 ... 57.66 57.84</div><input id='attrs-bef6fb9e-df34-40be-bd54-417e12887d3f' class='xr-var-attrs-in' type='checkbox' ><label for='attrs-bef6fb9e-df34-40be-bd54-417e12887d3f' title='Show/Hide attributes'><svg class='icon xr-icon-file-text2'><use xlink:href='#icon-file-text2'></use></svg></label><input id='data-2ccf5f93-ca3a-4d4d-a472-dc0a15802130' class='xr-var-data-in' type='checkbox'><label for='data-2ccf5f93-ca3a-4d4d-a472-dc0a15802130' title='Show/Hide data repr'><svg class='icon xr-icon-database'><use xlink:href='#icon-database'></use></svg></label><div class='xr-var-attrs'><dl class='xr-attrs'><dt><span>axis :</span></dt><dd>Y</dd><dt><span>bounds :</span></dt><dd>latitude_bnds</dd><dt><span>units :</span></dt><dd>degrees_north</dd><dt><span>standard_name :</span></dt><dd>latitude</dd></dl></div><div class='xr-var-data'><pre>array([50.15625, 50.34375, 50.53125, 50.71875, 50.90625, 51.09375, 51.28125,\n",
       "       51.46875, 51.65625, 51.84375, 52.03125, 52.21875, 52.40625, 52.59375,\n",
       "       52.78125, 52.96875, 53.15625, 53.34375, 53.53125, 53.71875, 53.90625,\n",
       "       54.09375, 54.28125, 54.46875, 54.65625, 54.84375, 55.03125, 55.21875,\n",
       "       55.40625, 55.59375, 55.78125, 55.96875, 56.15625, 56.34375, 56.53125,\n",
       "       56.71875, 56.90625, 57.09375, 57.28125, 57.46875, 57.65625, 57.84375],\n",
       "      dtype=float32)</pre></div></li><li class='xr-var-item'><div class='xr-var-name'><span class='xr-has-index'>longitude</span></div><div class='xr-var-dims'>(longitude)</div><div class='xr-var-dtype'>float32</div><div class='xr-var-preview xr-preview'>-5.766 -5.484 ... 1.547 1.828</div><input id='attrs-68805ecd-7dc3-4ee2-8abe-bbd6d1529c9f' class='xr-var-attrs-in' type='checkbox' ><label for='attrs-68805ecd-7dc3-4ee2-8abe-bbd6d1529c9f' title='Show/Hide attributes'><svg class='icon xr-icon-file-text2'><use xlink:href='#icon-file-text2'></use></svg></label><input id='data-0fa6da94-2b56-4613-b530-c4e106af2097' class='xr-var-data-in' type='checkbox'><label for='data-0fa6da94-2b56-4613-b530-c4e106af2097' title='Show/Hide data repr'><svg class='icon xr-icon-database'><use xlink:href='#icon-database'></use></svg></label><div class='xr-var-attrs'><dl class='xr-attrs'><dt><span>axis :</span></dt><dd>X</dd><dt><span>bounds :</span></dt><dd>longitude_bnds</dd><dt><span>units :</span></dt><dd>degrees_east</dd><dt><span>standard_name :</span></dt><dd>longitude</dd></dl></div><div class='xr-var-data'><pre>array([-5.765625, -5.484375, -5.203125, -4.921875, -4.640625, -4.359375,\n",
       "       -4.078125, -3.796875, -3.515625, -3.234375, -2.953125, -2.671875,\n",
       "       -2.390625, -2.109375, -1.828125, -1.546875, -1.265625, -0.984375,\n",
       "       -0.703125, -0.421875, -0.140625,  0.140625,  0.421875,  0.703125,\n",
       "        0.984375,  1.265625,  1.546875,  1.828125], dtype=float32)</pre></div></li><li class='xr-var-item'><div class='xr-var-name'><span>forecast_period</span></div><div class='xr-var-dims'>()</div><div class='xr-var-dtype'>timedelta64[ns]</div><div class='xr-var-preview xr-preview'>15:00:00</div><input id='attrs-50404b84-c932-44ef-8b13-a3b9493b3091' class='xr-var-attrs-in' type='checkbox' ><label for='attrs-50404b84-c932-44ef-8b13-a3b9493b3091' title='Show/Hide attributes'><svg class='icon xr-icon-file-text2'><use xlink:href='#icon-file-text2'></use></svg></label><input id='data-47afc219-b67d-4cfd-b0bb-a882c18f87a9' class='xr-var-data-in' type='checkbox'><label for='data-47afc219-b67d-4cfd-b0bb-a882c18f87a9' title='Show/Hide data repr'><svg class='icon xr-icon-database'><use xlink:href='#icon-database'></use></svg></label><div class='xr-var-attrs'><dl class='xr-attrs'><dt><span>standard_name :</span></dt><dd>forecast_period</dd></dl></div><div class='xr-var-data'><pre>array(54000000000000, dtype=&#x27;timedelta64[ns]&#x27;)</pre></div></li><li class='xr-var-item'><div class='xr-var-name'><span>forecast_reference_time</span></div><div class='xr-var-dims'>()</div><div class='xr-var-dtype'>datetime64[ns]</div><div class='xr-var-preview xr-preview'>2020-02-14T12:00:00</div><input id='attrs-ceec6787-f1a7-4b9d-a111-dc6f370d576e' class='xr-var-attrs-in' type='checkbox' ><label for='attrs-ceec6787-f1a7-4b9d-a111-dc6f370d576e' title='Show/Hide attributes'><svg class='icon xr-icon-file-text2'><use xlink:href='#icon-file-text2'></use></svg></label><input id='data-ba85e95a-46b9-4549-ad8d-aae44562bb55' class='xr-var-data-in' type='checkbox'><label for='data-ba85e95a-46b9-4549-ad8d-aae44562bb55' title='Show/Hide data repr'><svg class='icon xr-icon-database'><use xlink:href='#icon-database'></use></svg></label><div class='xr-var-attrs'><dl class='xr-attrs'><dt><span>standard_name :</span></dt><dd>forecast_reference_time</dd></dl></div><div class='xr-var-data'><pre>array(&#x27;2020-02-14T12:00:00.000000000&#x27;, dtype=&#x27;datetime64[ns]&#x27;)</pre></div></li><li class='xr-var-item'><div class='xr-var-name'><span>time</span></div><div class='xr-var-dims'>()</div><div class='xr-var-dtype'>datetime64[ns]</div><div class='xr-var-preview xr-preview'>2020-02-15T03:00:00</div><input id='attrs-5f848224-5c20-4499-a896-9dd0d7a5de86' class='xr-var-attrs-in' type='checkbox' ><label for='attrs-5f848224-5c20-4499-a896-9dd0d7a5de86' title='Show/Hide attributes'><svg class='icon xr-icon-file-text2'><use xlink:href='#icon-file-text2'></use></svg></label><input id='data-95a8e53d-c6e4-4aaf-87bc-8c01603fcf89' class='xr-var-data-in' type='checkbox'><label for='data-95a8e53d-c6e4-4aaf-87bc-8c01603fcf89' title='Show/Hide data repr'><svg class='icon xr-icon-database'><use xlink:href='#icon-database'></use></svg></label><div class='xr-var-attrs'><dl class='xr-attrs'><dt><span>standard_name :</span></dt><dd>time</dd></dl></div><div class='xr-var-data'><pre>array(&#x27;2020-02-15T03:00:00.000000000&#x27;, dtype=&#x27;datetime64[ns]&#x27;)</pre></div></li></ul></div></li><li class='xr-section-item'><input id='section-0dedc3e7-e3fd-43ec-a9d1-a7fdf238e286' class='xr-section-summary-in' type='checkbox'  checked><label for='section-0dedc3e7-e3fd-43ec-a9d1-a7fdf238e286' class='xr-section-summary' >Data variables: <span>(12)</span></label><div class='xr-section-inline-details'></div><div class='xr-section-details'><ul class='xr-var-list'><li class='xr-var-item'><div class='xr-var-name'><span>cloud_area_fraction</span></div><div class='xr-var-dims'>(latitude, longitude)</div><div class='xr-var-dtype'>float32</div><div class='xr-var-preview xr-preview'>1.0 1.0 1.0 ... 0.0 0.1875 0.3125</div><input id='attrs-0740c849-93c8-4a10-894b-1db9a7c76bf7' class='xr-var-attrs-in' type='checkbox' ><label for='attrs-0740c849-93c8-4a10-894b-1db9a7c76bf7' title='Show/Hide attributes'><svg class='icon xr-icon-file-text2'><use xlink:href='#icon-file-text2'></use></svg></label><input id='data-3e69a097-defd-4aec-911d-4b7ec0a70ef6' class='xr-var-data-in' type='checkbox'><label for='data-3e69a097-defd-4aec-911d-4b7ec0a70ef6' title='Show/Hide data repr'><svg class='icon xr-icon-database'><use xlink:href='#icon-database'></use></svg></label><div class='xr-var-attrs'><dl class='xr-attrs'><dt><span>standard_name :</span></dt><dd>cloud_area_fraction</dd><dt><span>units :</span></dt><dd>1</dd><dt><span>grid_mapping :</span></dt><dd>latitude_longitude</dd></dl></div><div class='xr-var-data'><pre>array([[1.      , 1.      , 1.      , ..., 1.      , 1.      , 0.984375],\n",
       "       [1.      , 1.      , 1.      , ..., 0.96875 , 0.984375, 1.      ],\n",
       "       [1.      , 1.      , 1.      , ..., 0.953125, 0.984375, 0.984375],\n",
       "       ...,\n",
       "       [1.      , 0.984375, 0.984375, ..., 0.515625, 0.625   , 0.546875],\n",
       "       [1.      , 0.984375, 0.984375, ..., 0.09375 , 0.28125 , 0.453125],\n",
       "       [1.      , 0.984375, 0.9375  , ..., 0.      , 0.1875  , 0.3125  ]],\n",
       "      dtype=float32)</pre></div></li><li class='xr-var-item'><div class='xr-var-name'><span>latitude_longitude</span></div><div class='xr-var-dims'>()</div><div class='xr-var-dtype'>int32</div><div class='xr-var-preview xr-preview'>-2147483647</div><input id='attrs-8b4194d6-2651-418d-9c46-2166d9f6646f' class='xr-var-attrs-in' type='checkbox' ><label for='attrs-8b4194d6-2651-418d-9c46-2166d9f6646f' title='Show/Hide attributes'><svg class='icon xr-icon-file-text2'><use xlink:href='#icon-file-text2'></use></svg></label><input id='data-f81f6590-84e1-4819-aca5-abda84b5e81b' class='xr-var-data-in' type='checkbox'><label for='data-f81f6590-84e1-4819-aca5-abda84b5e81b' title='Show/Hide data repr'><svg class='icon xr-icon-database'><use xlink:href='#icon-database'></use></svg></label><div class='xr-var-attrs'><dl class='xr-attrs'><dt><span>grid_mapping_name :</span></dt><dd>latitude_longitude</dd><dt><span>longitude_of_prime_meridian :</span></dt><dd>0.0</dd><dt><span>earth_radius :</span></dt><dd>6371229.0</dd></dl></div><div class='xr-var-data'><pre>array(-2147483647, dtype=int32)</pre></div></li><li class='xr-var-item'><div class='xr-var-name'><span>latitude_bnds</span></div><div class='xr-var-dims'>(latitude)</div><div class='xr-var-dtype'>float32</div><div class='xr-var-preview xr-preview'>50.06 50.25 50.44 ... 57.56 57.75</div><input id='attrs-a99331dd-fd21-43e9-9357-a6df2ce23453' class='xr-var-attrs-in' type='checkbox' disabled><label for='attrs-a99331dd-fd21-43e9-9357-a6df2ce23453' title='Show/Hide attributes'><svg class='icon xr-icon-file-text2'><use xlink:href='#icon-file-text2'></use></svg></label><input id='data-34621cb7-a3cf-4461-b6fb-4cd03626024c' class='xr-var-data-in' type='checkbox'><label for='data-34621cb7-a3cf-4461-b6fb-4cd03626024c' title='Show/Hide data repr'><svg class='icon xr-icon-database'><use xlink:href='#icon-database'></use></svg></label><div class='xr-var-attrs'><dl class='xr-attrs'></dl></div><div class='xr-var-data'><pre>array([50.0625, 50.25  , 50.4375, 50.625 , 50.8125, 51.    , 51.1875,\n",
       "       51.375 , 51.5625, 51.75  , 51.9375, 52.125 , 52.3125, 52.5   ,\n",
       "       52.6875, 52.875 , 53.0625, 53.25  , 53.4375, 53.625 , 53.8125,\n",
       "       54.    , 54.1875, 54.375 , 54.5625, 54.75  , 54.9375, 55.125 ,\n",
       "       55.3125, 55.5   , 55.6875, 55.875 , 56.0625, 56.25  , 56.4375,\n",
       "       56.625 , 56.8125, 57.    , 57.1875, 57.375 , 57.5625, 57.75  ],\n",
       "      dtype=float32)</pre></div></li><li class='xr-var-item'><div class='xr-var-name'><span>longitude_bnds</span></div><div class='xr-var-dims'>(longitude)</div><div class='xr-var-dtype'>float32</div><div class='xr-var-preview xr-preview'>-5.906 -5.625 ... 1.406 1.688</div><input id='attrs-9b0162a8-064c-4aec-a59e-f7f7dee56ba2' class='xr-var-attrs-in' type='checkbox' disabled><label for='attrs-9b0162a8-064c-4aec-a59e-f7f7dee56ba2' title='Show/Hide attributes'><svg class='icon xr-icon-file-text2'><use xlink:href='#icon-file-text2'></use></svg></label><input id='data-4bcc7103-5632-42e3-9e86-11447017f44b' class='xr-var-data-in' type='checkbox'><label for='data-4bcc7103-5632-42e3-9e86-11447017f44b' title='Show/Hide data repr'><svg class='icon xr-icon-database'><use xlink:href='#icon-database'></use></svg></label><div class='xr-var-attrs'><dl class='xr-attrs'></dl></div><div class='xr-var-data'><pre>array([-5.90625, -5.625  , -5.34375, -5.0625 , -4.78125, -4.5    ,\n",
       "       -4.21875, -3.9375 , -3.65625, -3.375  , -3.09375, -2.8125 ,\n",
       "       -2.53125, -2.25   , -1.96875, -1.6875 , -1.40625, -1.125  ,\n",
       "       -0.84375, -0.5625 , -0.28125,  0.     ,  0.28125,  0.5625 ,\n",
       "        0.84375,  1.125  ,  1.40625,  1.6875 ], dtype=float32)</pre></div></li><li class='xr-var-item'><div class='xr-var-name'><span>thickness_of_rainfall_amount</span></div><div class='xr-var-dims'>(latitude, longitude)</div><div class='xr-var-dtype'>float32</div><div class='xr-var-preview xr-preview'>0.000391 0.001012 ... 0.0 0.0</div><input id='attrs-73a02a94-820c-42c7-b3f4-f897dce18409' class='xr-var-attrs-in' type='checkbox' ><label for='attrs-73a02a94-820c-42c7-b3f4-f897dce18409' title='Show/Hide attributes'><svg class='icon xr-icon-file-text2'><use xlink:href='#icon-file-text2'></use></svg></label><input id='data-87e6c412-cc31-46e0-95fc-2143a2de0644' class='xr-var-data-in' type='checkbox'><label for='data-87e6c412-cc31-46e0-95fc-2143a2de0644' title='Show/Hide data repr'><svg class='icon xr-icon-database'><use xlink:href='#icon-database'></use></svg></label><div class='xr-var-attrs'><dl class='xr-attrs'><dt><span>standard_name :</span></dt><dd>thickness_of_rainfall_amount</dd><dt><span>units :</span></dt><dd>m</dd><dt><span>cell_methods :</span></dt><dd>time: mean (interval: 1 hour)</dd><dt><span>grid_mapping :</span></dt><dd>latitude_longitude</dd></dl></div><div class='xr-var-data'><pre>array([[3.9100647e-04, 1.0118484e-03, 1.4181137e-03, ..., 0.0000000e+00,\n",
       "        0.0000000e+00, 0.0000000e+00],\n",
       "       [7.4386597e-05, 4.3392181e-04, 8.9073181e-04, ..., 3.8146973e-06,\n",
       "        3.8146973e-06, 0.0000000e+00],\n",
       "       [1.5258789e-05, 5.8174133e-05, 3.7860870e-04, ..., 0.0000000e+00,\n",
       "        3.8146973e-06, 0.0000000e+00],\n",
       "       ...,\n",
       "       [0.0000000e+00, 0.0000000e+00, 0.0000000e+00, ..., 0.0000000e+00,\n",
       "        0.0000000e+00, 0.0000000e+00],\n",
       "       [0.0000000e+00, 0.0000000e+00, 0.0000000e+00, ..., 0.0000000e+00,\n",
       "        0.0000000e+00, 0.0000000e+00],\n",
       "       [0.0000000e+00, 0.0000000e+00, 0.0000000e+00, ..., 0.0000000e+00,\n",
       "        0.0000000e+00, 0.0000000e+00]], dtype=float32)</pre></div></li><li class='xr-var-item'><div class='xr-var-name'><span>forecast_period_bnds</span></div><div class='xr-var-dims'>()</div><div class='xr-var-dtype'>int32</div><div class='xr-var-preview xr-preview'>43200</div><input id='attrs-51807402-f8d0-4bfb-8de8-08336931deff' class='xr-var-attrs-in' type='checkbox' disabled><label for='attrs-51807402-f8d0-4bfb-8de8-08336931deff' title='Show/Hide attributes'><svg class='icon xr-icon-file-text2'><use xlink:href='#icon-file-text2'></use></svg></label><input id='data-ff0ce9d5-907f-4198-909a-d80b7dca8eb0' class='xr-var-data-in' type='checkbox'><label for='data-ff0ce9d5-907f-4198-909a-d80b7dca8eb0' title='Show/Hide data repr'><svg class='icon xr-icon-database'><use xlink:href='#icon-database'></use></svg></label><div class='xr-var-attrs'><dl class='xr-attrs'></dl></div><div class='xr-var-data'><pre>array(43200, dtype=int32)</pre></div></li><li class='xr-var-item'><div class='xr-var-name'><span>time_bnds</span></div><div class='xr-var-dims'>()</div><div class='xr-var-dtype'>datetime64[ns]</div><div class='xr-var-preview xr-preview'>2020-02-15</div><input id='attrs-e0567140-dacc-49c2-81bd-b1c2aea3abb9' class='xr-var-attrs-in' type='checkbox' disabled><label for='attrs-e0567140-dacc-49c2-81bd-b1c2aea3abb9' title='Show/Hide attributes'><svg class='icon xr-icon-file-text2'><use xlink:href='#icon-file-text2'></use></svg></label><input id='data-91022036-6e6e-4ad5-b614-554793dd9a14' class='xr-var-data-in' type='checkbox'><label for='data-91022036-6e6e-4ad5-b614-554793dd9a14' title='Show/Hide data repr'><svg class='icon xr-icon-database'><use xlink:href='#icon-database'></use></svg></label><div class='xr-var-attrs'><dl class='xr-attrs'></dl></div><div class='xr-var-data'><pre>array(&#x27;2020-02-15T00:00:00.000000000&#x27;, dtype=&#x27;datetime64[ns]&#x27;)</pre></div></li><li class='xr-var-item'><div class='xr-var-name'><span>lwe_thickness_of_snowfall_amount</span></div><div class='xr-var-dims'>(latitude, longitude)</div><div class='xr-var-dtype'>float32</div><div class='xr-var-preview xr-preview'>0.0 0.0 0.0 0.0 ... 0.0 0.0 0.0 0.0</div><input id='attrs-5c46d2c5-f7d7-41d4-bc11-084f0fc6bca1' class='xr-var-attrs-in' type='checkbox' ><label for='attrs-5c46d2c5-f7d7-41d4-bc11-084f0fc6bca1' title='Show/Hide attributes'><svg class='icon xr-icon-file-text2'><use xlink:href='#icon-file-text2'></use></svg></label><input id='data-c1e5dcf8-1463-4897-8355-f548e7e4cbe7' class='xr-var-data-in' type='checkbox'><label for='data-c1e5dcf8-1463-4897-8355-f548e7e4cbe7' title='Show/Hide data repr'><svg class='icon xr-icon-database'><use xlink:href='#icon-database'></use></svg></label><div class='xr-var-attrs'><dl class='xr-attrs'><dt><span>standard_name :</span></dt><dd>lwe_thickness_of_snowfall_amount</dd><dt><span>units :</span></dt><dd>m</dd><dt><span>cell_methods :</span></dt><dd>time: mean (interval: 1 hour)</dd><dt><span>grid_mapping :</span></dt><dd>latitude_longitude</dd></dl></div><div class='xr-var-data'><pre>array([[0., 0., 0., ..., 0., 0., 0.],\n",
       "       [0., 0., 0., ..., 0., 0., 0.],\n",
       "       [0., 0., 0., ..., 0., 0., 0.],\n",
       "       ...,\n",
       "       [0., 0., 0., ..., 0., 0., 0.],\n",
       "       [0., 0., 0., ..., 0., 0., 0.],\n",
       "       [0., 0., 0., ..., 0., 0., 0.]], dtype=float32)</pre></div></li><li class='xr-var-item'><div class='xr-var-name'><span>rainfall_rate</span></div><div class='xr-var-dims'>(latitude, longitude)</div><div class='xr-var-dtype'>float32</div><div class='xr-var-preview xr-preview'>1.863e-08 3.818e-08 ... 0.0 0.0</div><input id='attrs-5ccaf6b0-6dcc-49c9-b2c2-77f7702009f8' class='xr-var-attrs-in' type='checkbox' ><label for='attrs-5ccaf6b0-6dcc-49c9-b2c2-77f7702009f8' title='Show/Hide attributes'><svg class='icon xr-icon-file-text2'><use xlink:href='#icon-file-text2'></use></svg></label><input id='data-bca3bc3f-99d4-4af6-aa30-2b2a0073fc63' class='xr-var-data-in' type='checkbox'><label for='data-bca3bc3f-99d4-4af6-aa30-2b2a0073fc63' title='Show/Hide data repr'><svg class='icon xr-icon-database'><use xlink:href='#icon-database'></use></svg></label><div class='xr-var-attrs'><dl class='xr-attrs'><dt><span>standard_name :</span></dt><dd>rainfall_rate</dd><dt><span>units :</span></dt><dd>m s-1</dd><dt><span>grid_mapping :</span></dt><dd>latitude_longitude</dd></dl></div><div class='xr-var-data'><pre>array([[1.8626451e-08, 3.8184226e-08, 5.3085387e-08, ..., 0.0000000e+00,\n",
       "        0.0000000e+00, 0.0000000e+00],\n",
       "       [1.1175871e-08, 2.3283064e-08, 3.4458935e-08, ..., 0.0000000e+00,\n",
       "        0.0000000e+00, 0.0000000e+00],\n",
       "       [3.7252903e-09, 7.4505806e-09, 1.1175871e-08, ..., 0.0000000e+00,\n",
       "        0.0000000e+00, 0.0000000e+00],\n",
       "       ...,\n",
       "       [0.0000000e+00, 0.0000000e+00, 0.0000000e+00, ..., 0.0000000e+00,\n",
       "        0.0000000e+00, 0.0000000e+00],\n",
       "       [0.0000000e+00, 0.0000000e+00, 0.0000000e+00, ..., 0.0000000e+00,\n",
       "        0.0000000e+00, 0.0000000e+00],\n",
       "       [0.0000000e+00, 0.0000000e+00, 0.0000000e+00, ..., 0.0000000e+00,\n",
       "        0.0000000e+00, 0.0000000e+00]], dtype=float32)</pre></div></li><li class='xr-var-item'><div class='xr-var-name'><span>lwe_snowfall_rate</span></div><div class='xr-var-dims'>(latitude, longitude)</div><div class='xr-var-dtype'>float32</div><div class='xr-var-preview xr-preview'>0.0 0.0 0.0 0.0 ... 0.0 0.0 0.0 0.0</div><input id='attrs-d8a73b61-6b1e-4500-b447-b1a8e4517014' class='xr-var-attrs-in' type='checkbox' ><label for='attrs-d8a73b61-6b1e-4500-b447-b1a8e4517014' title='Show/Hide attributes'><svg class='icon xr-icon-file-text2'><use xlink:href='#icon-file-text2'></use></svg></label><input id='data-8b8c58cb-0337-447c-98b6-f0d790eb5e46' class='xr-var-data-in' type='checkbox'><label for='data-8b8c58cb-0337-447c-98b6-f0d790eb5e46' title='Show/Hide data repr'><svg class='icon xr-icon-database'><use xlink:href='#icon-database'></use></svg></label><div class='xr-var-attrs'><dl class='xr-attrs'><dt><span>standard_name :</span></dt><dd>lwe_snowfall_rate</dd><dt><span>units :</span></dt><dd>m s-1</dd><dt><span>grid_mapping :</span></dt><dd>latitude_longitude</dd></dl></div><div class='xr-var-data'><pre>array([[0., 0., 0., ..., 0., 0., 0.],\n",
       "       [0., 0., 0., ..., 0., 0., 0.],\n",
       "       [0., 0., 0., ..., 0., 0., 0.],\n",
       "       ...,\n",
       "       [0., 0., 0., ..., 0., 0., 0.],\n",
       "       [0., 0., 0., ..., 0., 0., 0.],\n",
       "       [0., 0., 0., ..., 0., 0., 0.]], dtype=float32)</pre></div></li><li class='xr-var-item'><div class='xr-var-name'><span>surface_altitude</span></div><div class='xr-var-dims'>(latitude, longitude)</div><div class='xr-var-dtype'>float32</div><div class='xr-var-preview xr-preview'>0.0 31.94 45.94 0.0 ... 0.0 0.0 0.0</div><input id='attrs-ce44fc0b-33ce-48d2-9add-f3e85085948d' class='xr-var-attrs-in' type='checkbox' ><label for='attrs-ce44fc0b-33ce-48d2-9add-f3e85085948d' title='Show/Hide attributes'><svg class='icon xr-icon-file-text2'><use xlink:href='#icon-file-text2'></use></svg></label><input id='data-1eb563c2-0dc0-4831-a3ec-02a264831722' class='xr-var-data-in' type='checkbox'><label for='data-1eb563c2-0dc0-4831-a3ec-02a264831722' title='Show/Hide data repr'><svg class='icon xr-icon-database'><use xlink:href='#icon-database'></use></svg></label><div class='xr-var-attrs'><dl class='xr-attrs'><dt><span>standard_name :</span></dt><dd>surface_altitude</dd><dt><span>units :</span></dt><dd>m</dd><dt><span>grid_mapping :</span></dt><dd>latitude_longitude</dd></dl></div><div class='xr-var-data'><pre>array([[  0.    ,  31.9375,  45.9375, ...,   0.    ,  30.6875,  55.9375],\n",
       "       [  0.    ,   0.    ,   0.    , ...,   0.    ,   0.    ,  55.125 ],\n",
       "       [  0.    ,   0.    ,   0.    , ...,   0.    ,   0.    ,  77.625 ],\n",
       "       ...,\n",
       "       [156.875 , 286.375 , 398.0625, ...,   0.    ,   0.    ,   0.    ],\n",
       "       [  0.    , 238.3125, 356.8125, ...,   0.    ,   0.    ,   0.    ],\n",
       "       [  0.    , 141.    , 263.25  , ...,   0.    ,   0.    ,   0.    ]],\n",
       "      dtype=float32)</pre></div></li><li class='xr-var-item'><div class='xr-var-name'><span>air_pressure_at_sea_level</span></div><div class='xr-var-dims'>(latitude, longitude)</div><div class='xr-var-dtype'>float32</div><div class='xr-var-preview xr-preview'>1.008e+05 1.009e+05 ... 1.005e+05</div><input id='attrs-3f80f8b2-91c1-4194-8155-64f4b2b5a556' class='xr-var-attrs-in' type='checkbox' ><label for='attrs-3f80f8b2-91c1-4194-8155-64f4b2b5a556' title='Show/Hide attributes'><svg class='icon xr-icon-file-text2'><use xlink:href='#icon-file-text2'></use></svg></label><input id='data-2533c9d9-bda9-4549-b710-a926ad6a793b' class='xr-var-data-in' type='checkbox'><label for='data-2533c9d9-bda9-4549-b710-a926ad6a793b' title='Show/Hide data repr'><svg class='icon xr-icon-database'><use xlink:href='#icon-database'></use></svg></label><div class='xr-var-attrs'><dl class='xr-attrs'><dt><span>standard_name :</span></dt><dd>air_pressure_at_sea_level</dd><dt><span>units :</span></dt><dd>Pa</dd><dt><span>grid_mapping :</span></dt><dd>latitude_longitude</dd></dl></div><div class='xr-var-data'><pre>array([[100829., 100878., 100921., ..., 101823., 101856., 101892.],\n",
       "       [100785., 100825., 100873., ..., 101780., 101820., 101855.],\n",
       "       [100746., 100790., 100837., ..., 101734., 101775., 101801.],\n",
       "       ...,\n",
       "       [ 99663.,  99716.,  99764., ..., 100560., 100574., 100586.],\n",
       "       [ 99578.,  99665.,  99710., ..., 100525., 100538., 100550.],\n",
       "       [ 99562.,  99613.,  99662., ..., 100485., 100498., 100509.]],\n",
       "      dtype=float32)</pre></div></li></ul></div></li><li class='xr-section-item'><input id='section-068564c8-c39d-42a2-a184-3d156f1e7695' class='xr-section-summary-in' type='checkbox'  ><label for='section-068564c8-c39d-42a2-a184-3d156f1e7695' class='xr-section-summary' >Attributes: <span>(12)</span></label><div class='xr-section-inline-details'></div><div class='xr-section-details'><dl class='xr-attrs'><dt><span>history :</span></dt><dd>2020-02-14T16:23:47Z: StaGE Decoupler</dd><dt><span>institution :</span></dt><dd>Met Office</dd><dt><span>least_significant_digit :</span></dt><dd>2</dd><dt><span>mosg__forecast_run_duration :</span></dt><dd>PT198H</dd><dt><span>mosg__grid_domain :</span></dt><dd>global</dd><dt><span>mosg__grid_type :</span></dt><dd>standard</dd><dt><span>mosg__grid_version :</span></dt><dd>1.5.0</dd><dt><span>mosg__model_configuration :</span></dt><dd>gl_ens</dd><dt><span>source :</span></dt><dd>Met Office Unified Model</dd><dt><span>title :</span></dt><dd>MOGREPS-G Model Forecast on Global 20 km Standard Grid</dd><dt><span>um_version :</span></dt><dd>11.2</dd><dt><span>Conventions :</span></dt><dd>CF-1.5, UKMO-1.0</dd></dl></div></li></ul></div></div>"
      ],
      "text/plain": [
       "<xarray.Dataset>\n",
       "Dimensions:                           (latitude: 42, longitude: 28)\n",
       "Coordinates:\n",
       "    realization                       int32 10\n",
       "  * latitude                          (latitude) float32 50.16 50.34 ... 57.84\n",
       "  * longitude                         (longitude) float32 -5.766 ... 1.828\n",
       "    forecast_period                   timedelta64[ns] 15:00:00\n",
       "    forecast_reference_time           datetime64[ns] 2020-02-14T12:00:00\n",
       "    time                              datetime64[ns] 2020-02-15T03:00:00\n",
       "Data variables:\n",
       "    cloud_area_fraction               (latitude, longitude) float32 1.0 ... 0...\n",
       "    latitude_longitude                int32 -2147483647\n",
       "    latitude_bnds                     (latitude) float32 50.06 50.25 ... 57.75\n",
       "    longitude_bnds                    (longitude) float32 -5.906 ... 1.688\n",
       "    thickness_of_rainfall_amount      (latitude, longitude) float32 0.000391 ...\n",
       "    forecast_period_bnds              int32 43200\n",
       "    time_bnds                         datetime64[ns] 2020-02-15\n",
       "    lwe_thickness_of_snowfall_amount  (latitude, longitude) float32 0.0 ... 0.0\n",
       "    rainfall_rate                     (latitude, longitude) float32 1.863e-08...\n",
       "    lwe_snowfall_rate                 (latitude, longitude) float32 0.0 ... 0.0\n",
       "    surface_altitude                  (latitude, longitude) float32 0.0 ... 0.0\n",
       "    air_pressure_at_sea_level         (latitude, longitude) float32 1.008e+05...\n",
       "Attributes:\n",
       "    history:                      2020-02-14T16:23:47Z: StaGE Decoupler\n",
       "    institution:                  Met Office\n",
       "    least_significant_digit:      2\n",
       "    mosg__forecast_run_duration:  PT198H\n",
       "    mosg__grid_domain:            global\n",
       "    mosg__grid_type:              standard\n",
       "    mosg__grid_version:           1.5.0\n",
       "    mosg__model_configuration:    gl_ens\n",
       "    source:                       Met Office Unified Model\n",
       "    title:                        MOGREPS-G Model Forecast on Global 20 km St...\n",
       "    um_version:                   11.2\n",
       "    Conventions:                  CF-1.5, UKMO-1.0"
      ]
     },
     "execution_count": 22,
     "metadata": {},
     "output_type": "execute_result"
    }
   ],
   "source": [
    "single_level_ds"
   ]
  },
  {
   "cell_type": "code",
   "execution_count": 26,
   "id": "1d18a3ac-d1b2-499d-a584-deb0ef10a8f3",
   "metadata": {},
   "outputs": [
    {
     "data": {
      "text/html": [
       "\n",
       "<style>\n",
       "  a.iris {\n",
       "      text-decoration: none !important;\n",
       "  }\n",
       "  table.iris {\n",
       "      white-space: pre;\n",
       "      border: 1px solid;\n",
       "      border-color: #9c9c9c;\n",
       "      font-family: monaco, monospace;\n",
       "  }\n",
       "  th.iris {\n",
       "      background: #303f3f;\n",
       "      color: #e0e0e0;\n",
       "      border-left: 1px solid;\n",
       "      border-color: #9c9c9c;\n",
       "      font-size: 1.05em;\n",
       "      min-width: 50px;\n",
       "      max-width: 125px;\n",
       "  }\n",
       "  tr.iris :first-child {\n",
       "      border-right: 1px solid #9c9c9c !important;\n",
       "  }\n",
       "  td.iris-title {\n",
       "      background: #d5dcdf;\n",
       "      border-top: 1px solid #9c9c9c;\n",
       "      font-weight: bold;\n",
       "  }\n",
       "  .iris-word-cell {\n",
       "      text-align: left !important;\n",
       "      white-space: pre;\n",
       "  }\n",
       "  .iris-subheading-cell {\n",
       "      padding-left: 2em !important;\n",
       "  }\n",
       "  .iris-inclusion-cell {\n",
       "      padding-right: 1em !important;\n",
       "  }\n",
       "  .iris-panel-body {\n",
       "      padding-top: 0px;\n",
       "  }\n",
       "  .iris-panel-title {\n",
       "      padding-left: 3em;\n",
       "  }\n",
       "  .iris-panel-title {\n",
       "      margin-top: 7px;\n",
       "  }\n",
       "</style>\n",
       "<table class=\"iris\" id=\"47354135277088\">\n",
       "    <tr class=\"iris\">\n",
       "<th class=\"iris iris-word-cell\">Air Pressure At Sea Level (Pa)</th>\n",
       "<th class=\"iris iris-word-cell\">latitude</th>\n",
       "<th class=\"iris iris-word-cell\">longitude</th>\n",
       "</tr>\n",
       "    <tr class=\"iris\">\n",
       "<td class=\"iris-word-cell iris-subheading-cell\">Shape</td>\n",
       "<td class=\"iris iris-inclusion-cell\">42</td>\n",
       "<td class=\"iris iris-inclusion-cell\">28</td>\n",
       "</tr>\n",
       "    <tr class=\"iris\">\n",
       "    <td class=\"iris-title iris-word-cell\">Dimension coordinates</td>\n",
       "    <td class=\"iris-title\"></td>\n",
       "    <td class=\"iris-title\"></td>\n",
       "</tr>\n",
       "<tr class=\"iris\">\n",
       "    <td class=\"iris-word-cell iris-subheading-cell\">\tlatitude</td>\n",
       "    <td class=\"iris-inclusion-cell\">x</td>\n",
       "    <td class=\"iris-inclusion-cell\">-</td>\n",
       "</tr>\n",
       "<tr class=\"iris\">\n",
       "    <td class=\"iris-word-cell iris-subheading-cell\">\tlongitude</td>\n",
       "    <td class=\"iris-inclusion-cell\">-</td>\n",
       "    <td class=\"iris-inclusion-cell\">x</td>\n",
       "</tr>\n",
       "<tr class=\"iris\">\n",
       "    <td class=\"iris-title iris-word-cell\">Scalar coordinates</td>\n",
       "    <td class=\"iris-title\"></td>\n",
       "    <td class=\"iris-title\"><br>forecast_period             15 hours</td>\n",
       "</tr>\n",
       "<tr class=\"iris\">\n",
       "    <td class=\"iris-word-cell iris-subheading-cell\">\tforecast_reference_time     2020-02-14 12</td>\n",
       "    <td class=\"iris-word-cell\" colspan=\"2\">0:00<br>realization                 10</td>\n",
       "</tr>\n",
       "<tr class=\"iris\">\n",
       "    <td class=\"iris-word-cell iris-subheading-cell\">\ttime                        2020-02-15 03</td>\n",
       "    <td class=\"iris-word-cell\" colspan=\"2\">0:00</td>\n",
       "</tr>\n",
       "</table>\n",
       "        "
      ],
      "text/plain": [
       "<iris 'Cube' of air_pressure_at_sea_level / (Pa) (latitude: 42; longitude: 28)>"
      ]
     },
     "execution_count": 26,
     "metadata": {},
     "output_type": "execute_result"
    }
   ],
   "source": [
    "single_level_ds['air_pressure_at_sea_level'].to_iris()"
   ]
  },
  {
   "cell_type": "markdown",
   "id": "707a3e48-3764-4c89-9599-bfdb47974b64",
   "metadata": {},
   "source": [
    "First process the single level variables."
   ]
  },
  {
   "cell_type": "code",
   "execution_count": null,
   "id": "saved-jamaica",
   "metadata": {
    "tags": []
   },
   "outputs": [],
   "source": [
    "%%time\n",
    "single_level_df = single_level_ds.to_dataframe().reset_index()\n",
    "single_level_df"
   ]
  },
  {
   "cell_type": "markdown",
   "id": "phantom-techno",
   "metadata": {},
   "source": [
    "Load the variables on height levels and create a data frame using the xarray `to_dataframe` function."
   ]
  },
  {
   "cell_type": "code",
   "execution_count": null,
   "id": "stone-aruba",
   "metadata": {},
   "outputs": [],
   "source": [
    "%%time\n",
    "ds_list1 = [load_realization_ds(\n",
    "    ds_path=mogreps_g_data_dir / fname_template.format(vt=validity_time,\n",
    "                                                       lead_time=leadtime_hours,\n",
    "                                                       var_name=var1),\n",
    "    realization=real1,\n",
    "    selected_bounds=xarray_select_uk,\n",
    ")\n",
    "            for var1 in variables_height_levels]\n"
   ]
  },
  {
   "cell_type": "code",
   "execution_count": null,
   "id": "valid-rescue",
   "metadata": {},
   "outputs": [],
   "source": [
    "height_levels_ds =  xarray.merge([ds1 for ds1 in ds_list1 if ds1 is not None])"
   ]
  },
  {
   "cell_type": "code",
   "execution_count": null,
   "id": "quality-campus",
   "metadata": {},
   "outputs": [],
   "source": [
    "%%time\n",
    "hl_df_multirow = height_levels_ds.to_dataframe().reset_index()"
   ]
  },
  {
   "cell_type": "code",
   "execution_count": null,
   "id": "executive-guide",
   "metadata": {},
   "outputs": [],
   "source": [
    "hl_df_multirow"
   ]
  },
  {
   "cell_type": "markdown",
   "id": "e22bc7e7-115b-4e66-913a-b98a698eb983",
   "metadata": {},
   "source": [
    "As shown above, the xarray method puts variables at different heights in different rows, where really we want them in the same row in separate columns e.g. `air_temperature_5m`, `air_temperature_10m` etc. So here we select each of the heights in turn and merge the resulting data frames to get what we want."
   ]
  },
  {
   "cell_type": "code",
   "execution_count": null,
   "id": "median-macintosh",
   "metadata": {},
   "outputs": [],
   "source": [
    "heights = hl_df_multirow['height'].unique()"
   ]
  },
  {
   "cell_type": "code",
   "execution_count": null,
   "id": "a00f2f0b-8866-4a9a-866f-3f16b1a0aa6a",
   "metadata": {},
   "outputs": [],
   "source": [
    "print('\\n'.join([f'{h1:.2f}m' for h1 in heights]))"
   ]
  },
  {
   "cell_type": "code",
   "execution_count": null,
   "id": "1d0cfe46-a426-420c-9be9-00e7a42e9644",
   "metadata": {},
   "outputs": [],
   "source": [
    "merge_coords = ['latitude', 'longitude', 'time', 'realization']"
   ]
  },
  {
   "cell_type": "code",
   "execution_count": null,
   "id": "1c62fb2c-9dbb-498b-ac75-a42c3f07d0db",
   "metadata": {},
   "outputs": [],
   "source": [
    "coords = list(set(hl_df_multirow.columns) - set(height_level_var_mappings.values()))\n",
    "print(coords)"
   ]
  },
  {
   "cell_type": "code",
   "execution_count": null,
   "id": "e5d9920a-c8e8-470a-a189-048189e6d178",
   "metadata": {},
   "outputs": [],
   "source": [
    "%%time\n",
    "var_df_merged = []\n",
    "# heights_vars_marged = height_levels_df[height_levels_df.height==heights[0]][ merge_coords]\n",
    "for var1 in height_level_var_mappings.values():\n",
    "    print(var1)\n",
    "    # for h1 in heights:\n",
    "    #     heights_vars_marged[f'{var1}_{h1:.1f}'] = list(height_levels_df[height_levels_df.height==h1][var1])\n",
    "    var_at_heights = [hl_df_multirow[hl_df_multirow.height==h1][merge_coords + [var1]].rename({var1: f'{var1}_{h1:.1f}'}, axis='columns') for h1 in heights]\n",
    "    var_df_merged += [functools.reduce(lambda x,y: x.merge(y, on=merge_coords), var_at_heights)]\n",
    "height_levels_df = functools.reduce(lambda x,y: x.merge(y, on=merge_coords), var_df_merged)"
   ]
  },
  {
   "cell_type": "code",
   "execution_count": null,
   "id": "b411dc38-f2be-4731-8cd0-9d3a2639c0ec",
   "metadata": {},
   "outputs": [],
   "source": [
    "height_levels_df"
   ]
  },
  {
   "cell_type": "markdown",
   "id": "f83d636c-6881-4702-9fc5-d6e1f6f90b9a",
   "metadata": {},
   "source": [
    "Now that we have created the correct dataframe for variables on height levels, we can merge this with the dataframe for single level variables. We are merging on the following coordinates:\n",
    "* location (latitude and longitude)\n",
    "* time (validity time)\n",
    "* realization"
   ]
  },
  {
   "cell_type": "code",
   "execution_count": null,
   "id": "857f36b5-98dd-4e67-b8ff-3e642e2e5787",
   "metadata": {},
   "outputs": [],
   "source": [
    "mogreps_g_single_ts_uk_df = single_level_df.merge(height_levels_df, on=merge_coords)\n",
    "mogreps_g_single_ts_uk_df"
   ]
  },
  {
   "cell_type": "code",
   "execution_count": null,
   "id": "6e290c11-c2c2-4f14-8972-38f8b8621ee1",
   "metadata": {},
   "outputs": [],
   "source": [
    "prd_single_timestep_df = single_level_df.merge(height_levels_df, on=merge_coords)"
   ]
  },
  {
   "cell_type": "code",
   "execution_count": null,
   "id": "657fc024-d2bf-495b-b231-ea5acb643c2f",
   "metadata": {},
   "outputs": [],
   "source": [
    "prd_single_timestep_df"
   ]
  },
  {
   "cell_type": "code",
   "execution_count": null,
   "id": "8008137c-ae4c-4192-ad63-983829cb4837",
   "metadata": {},
   "outputs": [],
   "source": [
    "prd_single_timestep_df['time'].min(), prd_single_timestep_df['time'].max()"
   ]
  },
  {
   "cell_type": "markdown",
   "id": "31ac283d-c002-4912-885e-9046783f2929",
   "metadata": {
    "tags": []
   },
   "source": [
    "### Load radar data\n",
    "\n",
    "Now we want to load the radar, to add a radar rainfall measurement to each column."
   ]
  },
  {
   "cell_type": "code",
   "execution_count": 16,
   "id": "977ebd7d-a47e-4d76-a01a-65e6ce3ece1b",
   "metadata": {},
   "outputs": [
    {
     "data": {
      "text/plain": [
       "[datetime.datetime(2020, 2, 14, 0, 0),\n",
       " datetime.datetime(2020, 2, 15, 0, 0),\n",
       " datetime.datetime(2020, 2, 16, 0, 0),\n",
       " datetime.datetime(2020, 2, 17, 0, 0),\n",
       " datetime.datetime(2020, 2, 18, 0, 0)]"
      ]
     },
     "execution_count": 16,
     "metadata": {},
     "output_type": "execute_result"
    }
   ],
   "source": [
    "radar_days = [datetime.datetime(2020,2,14) + datetime.timedelta(days=d1) for d1 in range(5)]\n",
    "radar_days"
   ]
  },
  {
   "cell_type": "code",
   "execution_count": 17,
   "id": "eb49bd6d-a3b7-4df3-b779-86f95ba31525",
   "metadata": {},
   "outputs": [],
   "source": [
    "radar_fname_template = 'composite_rainfall_{dt.year:04d}{dt.month:02d}{dt.day:02d}.nc'"
   ]
  },
  {
   "cell_type": "markdown",
   "id": "f3b5a423-d77d-4e4b-80c6-a8c91c433476",
   "metadata": {},
   "source": [
    "Create a single cube of all the radar for the period concerned that has been extract from MASS.\n",
    "(See `extract_mass_radar.py` for details.)"
   ]
  },
  {
   "cell_type": "code",
   "execution_count": 18,
   "id": "49e4785a-c4f6-4ce1-a6b1-9dfde8ac2bad",
   "metadata": {},
   "outputs": [],
   "source": [
    "radar_cube = iris.cube.CubeList([iris.load_cube(str(radar_data_dir / radar_fname_template.format(dt=dt1))) for dt1 in radar_days] ).concatenate_cube()"
   ]
  },
  {
   "cell_type": "code",
   "execution_count": 19,
   "id": "53a59b40-d155-4a2e-b6a0-ce55c37ba2a6",
   "metadata": {},
   "outputs": [
    {
     "data": {
      "text/html": [
       "\n",
       "<style>\n",
       "  a.iris {\n",
       "      text-decoration: none !important;\n",
       "  }\n",
       "  table.iris {\n",
       "      white-space: pre;\n",
       "      border: 1px solid;\n",
       "      border-color: #9c9c9c;\n",
       "      font-family: monaco, monospace;\n",
       "  }\n",
       "  th.iris {\n",
       "      background: #303f3f;\n",
       "      color: #e0e0e0;\n",
       "      border-left: 1px solid;\n",
       "      border-color: #9c9c9c;\n",
       "      font-size: 1.05em;\n",
       "      min-width: 50px;\n",
       "      max-width: 125px;\n",
       "  }\n",
       "  tr.iris :first-child {\n",
       "      border-right: 1px solid #9c9c9c !important;\n",
       "  }\n",
       "  td.iris-title {\n",
       "      background: #d5dcdf;\n",
       "      border-top: 1px solid #9c9c9c;\n",
       "      font-weight: bold;\n",
       "  }\n",
       "  .iris-word-cell {\n",
       "      text-align: left !important;\n",
       "      white-space: pre;\n",
       "  }\n",
       "  .iris-subheading-cell {\n",
       "      padding-left: 2em !important;\n",
       "  }\n",
       "  .iris-inclusion-cell {\n",
       "      padding-right: 1em !important;\n",
       "  }\n",
       "  .iris-panel-body {\n",
       "      padding-top: 0px;\n",
       "  }\n",
       "  .iris-panel-title {\n",
       "      padding-left: 3em;\n",
       "  }\n",
       "  .iris-panel-title {\n",
       "      margin-top: 7px;\n",
       "  }\n",
       "</style>\n",
       "<table class=\"iris\" id=\"47312301676960\">\n",
       "    <tr class=\"iris\">\n",
       "<th class=\"iris iris-word-cell\">Rainfall Rate Composite (mm/h)</th>\n",
       "<th class=\"iris iris-word-cell\">time</th>\n",
       "<th class=\"iris iris-word-cell\">projection_y_coordinate</th>\n",
       "<th class=\"iris iris-word-cell\">projection_x_coordinate</th>\n",
       "</tr>\n",
       "    <tr class=\"iris\">\n",
       "<td class=\"iris-word-cell iris-subheading-cell\">Shape</td>\n",
       "<td class=\"iris iris-inclusion-cell\">1440</td>\n",
       "<td class=\"iris iris-inclusion-cell\">2175</td>\n",
       "<td class=\"iris iris-inclusion-cell\">1725</td>\n",
       "</tr>\n",
       "    <tr class=\"iris\">\n",
       "    <td class=\"iris-title iris-word-cell\">Dimension coordinates</td>\n",
       "    <td class=\"iris-title\"></td>\n",
       "    <td class=\"iris-title\"></td>\n",
       "    <td class=\"iris-title\"></td>\n",
       "</tr>\n",
       "<tr class=\"iris\">\n",
       "    <td class=\"iris-word-cell iris-subheading-cell\">\ttime</td>\n",
       "    <td class=\"iris-inclusion-cell\">x</td>\n",
       "    <td class=\"iris-inclusion-cell\">-</td>\n",
       "    <td class=\"iris-inclusion-cell\">-</td>\n",
       "</tr>\n",
       "<tr class=\"iris\">\n",
       "    <td class=\"iris-word-cell iris-subheading-cell\">\tprojection_y_coordinate</td>\n",
       "    <td class=\"iris-inclusion-cell\">-</td>\n",
       "    <td class=\"iris-inclusion-cell\">x</td>\n",
       "    <td class=\"iris-inclusion-cell\">-</td>\n",
       "</tr>\n",
       "<tr class=\"iris\">\n",
       "    <td class=\"iris-word-cell iris-subheading-cell\">\tprojection_x_coordinate</td>\n",
       "    <td class=\"iris-inclusion-cell\">-</td>\n",
       "    <td class=\"iris-inclusion-cell\">-</td>\n",
       "    <td class=\"iris-inclusion-cell\">x</td>\n",
       "</tr>\n",
       "<tr class=\"iris\">\n",
       "    <td class=\"iris-title iris-word-cell\">Auxiliary coordinates</td>\n",
       "    <td class=\"iris-title\"></td>\n",
       "    <td class=\"iris-title\"></td>\n",
       "    <td class=\"iris-title\"></td>\n",
       "</tr>\n",
       "<tr class=\"iris\">\n",
       "    <td class=\"iris-word-cell iris-subheading-cell\">\tforecast_reference_time</td>\n",
       "    <td class=\"iris-inclusion-cell\">x</td>\n",
       "    <td class=\"iris-inclusion-cell\">-</td>\n",
       "    <td class=\"iris-inclusion-cell\">-</td>\n",
       "</tr>\n",
       "<tr class=\"iris\">\n",
       "    <td class=\"iris-title iris-word-cell\">Scalar coordinates</td>\n",
       "    <td class=\"iris-title\"></td>\n",
       "    <td class=\"iris-title\"></td>\n",
       "    <td class=\"iris-title\"><br>forecast_period             0 second</td>\n",
       "</tr>\n",
       "<tr class=\"iris\">\n",
       "    <td class=\"iris-title iris-word-cell\">Attributes</td>\n",
       "    <td class=\"iris-title\"></td>\n",
       "    <td class=\"iris-title\"></td>\n",
       "    <td class=\"iris-title\"><br>Conventions                 CF-1.7<br>field_code                  213<br>institution                 Met Office<br>nimrod_version              2<br>probability_period_of_event 0<br>source                      Plr single site radars<br>title                       Unknown</td>\n",
       "</tr>\n",
       "</table>\n",
       "        "
      ],
      "text/plain": [
       "<iris 'Cube' of Rainfall rate Composite / (mm/h) (time: 1440; projection_y_coordinate: 2175; projection_x_coordinate: 1725)>"
      ]
     },
     "execution_count": 19,
     "metadata": {},
     "output_type": "execute_result"
    }
   ],
   "source": [
    "radar_cube"
   ]
  },
  {
   "cell_type": "code",
   "execution_count": 20,
   "id": "0fd39b70-27f6-45af-8dcd-0759219fb13a",
   "metadata": {},
   "outputs": [
    {
     "data": {
      "text/plain": [
       "DimCoord(array([1581638400, 1581638700, 1581639000, ..., 1582069500, 1582069800,\n",
       "       1582070100]), standard_name='time', units=Unit('seconds since 1970-01-01 00:00:00', calendar='gregorian'), var_name='time')"
      ]
     },
     "execution_count": 20,
     "metadata": {},
     "output_type": "execute_result"
    }
   ],
   "source": [
    "radar_cube.coord('time')"
   ]
  },
  {
   "cell_type": "code",
   "execution_count": null,
   "id": "ae4128f4-16f0-445e-a640-4e54b5e5a07a",
   "metadata": {},
   "outputs": [],
   "source": [
    "min([datetime.datetime(c1.point.year, c1.point.month, c1.point.day, c1.point.hour, c1.point.minute) for c1 in radar_cube.coord('time').cells()])"
   ]
  },
  {
   "cell_type": "markdown",
   "id": "13555a84-39ee-4e02-868e-9ef6eb32a2c7",
   "metadata": {},
   "source": [
    "Radar data is instantaeous rainfall rates, measured every 5 minutes. Model data is every three hours. TO match these together, we will calculate \"pseudo-accumulations\" (pseudo because we're assuming that the instaneous rate represents 5 minute accumulations if we divide by 12, but the rain rate will not be constant in a 5 minute period.) Something we could consider would be some better statistical model to interpolate and do better accumulation calculations, but this is a starting point."
   ]
  },
  {
   "cell_type": "code",
   "execution_count": null,
   "id": "3fd5dca9-8333-42e5-82de-c879513b67cd",
   "metadata": {},
   "outputs": [],
   "source": [
    "iris.coord_categorisation.add_hour(radar_cube, coord='time')\n",
    "iris.coord_categorisation.add_day_of_year(radar_cube, coord='time')"
   ]
  },
  {
   "cell_type": "code",
   "execution_count": null,
   "id": "249b912c-ec05-4f7c-bdd4-b66e9ecad772",
   "metadata": {},
   "outputs": [],
   "source": [
    "coord_3hr = iris.coords.AuxCoord(radar_cube.coord('hour').points // 3,\n",
    "                                long_name='3hr',\n",
    "                                 units='hour',\n",
    "                                )\n",
    "radar_cube.add_aux_coord(coord_3hr, data_dims=0)"
   ]
  },
  {
   "cell_type": "markdown",
   "id": "b235c833-8ed2-4807-b1e8-b1dd313f97fd",
   "metadata": {},
   "source": [
    "Now we aggregate the instantaneous values (which we are using as a proxy for 5 minute accumumlations) over three hours. Since the instantaneous values represent the expected accumulation over an hour if the rate stayed constant, if we want to use it as a 5 minute accumulation, we have to divide by 12. I'm doing this after the aggregation step, because this causes the lazy data to be loaded and there is less data to load after the aggregation step."
   ]
  },
  {
   "cell_type": "code",
   "execution_count": null,
   "id": "e1c1b2f8-e1f5-4180-b4eb-1564b60a89af",
   "metadata": {},
   "outputs": [],
   "source": [
    "%%time\n",
    "radar_agg_3hr = radar_cube.aggregated_by(['3hr', 'day_of_year'],iris.analysis.SUM)\n",
    "radar_agg_3hr.data = radar_agg_3hr.data * (1.0 /12.0)\n",
    "radar_agg_3hr"
   ]
  },
  {
   "cell_type": "markdown",
   "id": "90ba6d79-7cd2-476a-9261-f9298b8e3026",
   "metadata": {},
   "source": [
    "We now need to get our data on the same grid as our MOGREPS-G data. Iris has a regridding function, but this doesn't do what we want exactly, so we are going to calculate the values directly. The values we want are:\n",
    "* fraction of grid box where a certain amount of precipitation (in a particular range) was record. This is essentially a histogram, but with amounts normalised to add up to 1.0, rather than total samples as in a normal histogram.\n",
    "* max recorded rainfall in a grid box\n",
    "* average recorded rainfaill in a grid box\n",
    "\n",
    "To do this we will\n",
    "* load in a sample of MOGREPS-G data as a target\n",
    "* create latitude and longitude coordinates for the radar data, which doesn't have them initially, because it is not on a lat/lon grid.\n",
    "* for each radar grid cell, calculate which mogreps-g cell it maps to\n",
    "* for accumulation range, calculate which radar cells fall in that range\n",
    "  * count those cells for each mogreps-g, then divide by total radar cells in that MOGREPS_G cell to get normalised histogram value\n",
    "* for each MOGREPS-G cell, also calculate the max and average.\n",
    "\n"
   ]
  },
  {
   "cell_type": "code",
   "execution_count": null,
   "id": "f2771ee0-a96d-472f-b41b-d9319c190e6d",
   "metadata": {},
   "outputs": [],
   "source": [
    "mogreps_g_example = iris.load_cube(\n",
    "    str(mogreps_g_data_dir / fname_template.format(\n",
    "        vt=forecast_ref_time_range[0] + datetime.timedelta(hours=leadtime_hours), \n",
    "        lead_time=leadtime_hours, \n",
    "        var_name=variables_single_level[0])),\n",
    "    iris.Constraint(latitude=lambda cell1: uk_bounds['latitude'][0] < cell1 < uk_bounds['latitude'][1], \n",
    "                                                     longitude=lambda cell1: uk_bounds['longitude'][0] < cell1 < uk_bounds['longitude'][1], realization=0)\n",
    ")\n"
   ]
  },
  {
   "cell_type": "code",
   "execution_count": null,
   "id": "702af255-52e3-48aa-afdc-0389f901da5e",
   "metadata": {},
   "outputs": [],
   "source": [
    "radar_crs = radar_cube.coord_system().as_cartopy_crs()"
   ]
  },
  {
   "cell_type": "code",
   "execution_count": null,
   "id": "ae78d40d-0ab6-4d27-9e7c-004247d50c53",
   "metadata": {},
   "outputs": [],
   "source": [
    "proj_y_grid = numpy.tile(radar_cube.coord('projection_y_coordinate').points.reshape(radar_cube.shape[1],1), [1, radar_cube.shape[2]])\n",
    "proj_x_grid = numpy.tile(radar_cube.coord('projection_x_coordinate').points.reshape(1,radar_cube.shape[2]), [ radar_cube.shape[1],1])"
   ]
  },
  {
   "cell_type": "code",
   "execution_count": null,
   "id": "5a0bcc81-70f4-4144-b618-63a1b0173a15",
   "metadata": {},
   "outputs": [],
   "source": [
    "ret_val = mogreps_g_example.coord_system().as_cartopy_crs().transform_points(\n",
    "    radar_crs,\n",
    "    proj_y_grid,\n",
    "    proj_x_grid,\n",
    "    )"
   ]
  },
  {
   "cell_type": "code",
   "execution_count": null,
   "id": "584efec0-90d7-448e-ae04-c47addd646a7",
   "metadata": {},
   "outputs": [],
   "source": [
    "\n",
    "lat_vals = ret_val[:,:,1]\n",
    "lon_vals = ret_val[:,:,0]"
   ]
  },
  {
   "cell_type": "code",
   "execution_count": null,
   "id": "329c1999-2337-4d63-80f5-f5701e1e5b92",
   "metadata": {},
   "outputs": [],
   "source": [
    "lon_coord = iris.coords.AuxCoord(\n",
    "    lon_vals,\n",
    "    standard_name='longitude',\n",
    "    units='degrees',\n",
    ")\n",
    "lat_coord = iris.coords.AuxCoord(\n",
    "    lat_vals,\n",
    "    standard_name='latitude',\n",
    "    units='degrees',\n",
    ")"
   ]
  },
  {
   "cell_type": "code",
   "execution_count": null,
   "id": "e6f7b4dd-536b-42f1-9f70-d620e29ab851",
   "metadata": {},
   "outputs": [],
   "source": [
    "radar_agg_3hr.add_aux_coord(lon_coord,[1,2])"
   ]
  },
  {
   "cell_type": "code",
   "execution_count": null,
   "id": "a31023ac-5ffb-4950-84a2-84c3517ff1d4",
   "metadata": {},
   "outputs": [],
   "source": [
    "radar_agg_3hr.add_aux_coord(lat_coord,[1,2])"
   ]
  },
  {
   "cell_type": "code",
   "execution_count": null,
   "id": "fc787c94-13b1-4f50-b68f-ce72e598c6ad",
   "metadata": {},
   "outputs": [],
   "source": [
    "radar_agg_3hr"
   ]
  },
  {
   "cell_type": "markdown",
   "id": "cae1cbc4-e175-46a6-8c0c-c65ba671e217",
   "metadata": {},
   "source": [
    "Calaculate the mapping from radar cells to MOGREPS-G cells, to make the histogram calculations easier later."
   ]
  },
  {
   "cell_type": "code",
   "execution_count": null,
   "id": "3ade442b-ce4c-4cf6-88dc-baab56521521",
   "metadata": {},
   "outputs": [],
   "source": [
    "lat_mog_g_index  = numpy.zeros((radar_cube.shape[1],radar_cube.shape[2]))\n",
    "lon_mog_g_index  = numpy.zeros((radar_cube.shape[1],radar_cube.shape[2]))"
   ]
  },
  {
   "cell_type": "code",
   "execution_count": null,
   "id": "0c06a0c7-b9f8-4dd0-9f04-b78e92d33c16",
   "metadata": {},
   "outputs": [],
   "source": [
    "%%time\n",
    "for i_lon, bnd_lon in enumerate(mogreps_g_example.coord('longitude').bounds):\n",
    "    print(i_lon)\n",
    "    for i_lat, bnd_lat in enumerate(mogreps_g_example.coord('latitude').bounds):\n",
    "        arr1, arr2 = numpy.where((lat_vals >= bnd_lat[0]) &\n",
    "         (lat_vals < bnd_lat[1])&\n",
    "         (lon_vals>= bnd_lon[0]) &\n",
    "         (lon_vals < bnd_lon[1])\n",
    "        )\n",
    "        lon_mog_g_index[arr1, arr2] = i_lon\n",
    "        lat_mog_g_index[arr1, arr2] = i_lat\n",
    "        \n",
    "        "
   ]
  },
  {
   "cell_type": "code",
   "execution_count": null,
   "id": "234425e4-835b-455b-ad9e-626dbca3332e",
   "metadata": {},
   "outputs": [],
   "source": [
    "def compare_time(t1, t2):\n",
    "    return (t1.year == t2.year) and  (t1.month == t2.month) and  (t1.day == t2.day) and  (t1.hour== t2.hour) and  (t1.minute == t2.minute) "
   ]
  },
  {
   "cell_type": "markdown",
   "id": "b77ec078-ac55-4516-bee5-4fb7cf0bbc54",
   "metadata": {},
   "source": [
    "To demonstrate, we pick a particular time. This would have to be done for all times "
   ]
  },
  {
   "cell_type": "code",
   "execution_count": null,
   "id": "9ce48548-9e88-4dba-8722-d98c48b6a6e2",
   "metadata": {},
   "outputs": [],
   "source": [
    "validity_time"
   ]
  },
  {
   "cell_type": "code",
   "execution_count": null,
   "id": "1bed20f1-0a89-4ce2-8164-05b663fc3838",
   "metadata": {},
   "outputs": [],
   "source": [
    "radar_select_time = radar_agg_3hr.extract(iris.Constraint(time=lambda c1: compare_time(c1.bound[0], validity_time )))\n",
    "radar_select_time "
   ]
  },
  {
   "cell_type": "code",
   "execution_count": null,
   "id": "f80c6104-ae2f-4a28-afc6-e82e97842cc9",
   "metadata": {},
   "outputs": [],
   "source": [
    "# these are modified compared to the actual improver thresholds, to remove the fuzziness of the range boundaries\n",
    "improver_thresholds = {\n",
    "\"0.0\": [0.0, 0.027],\n",
    "\"0.03\": [0.027, 0.033],\n",
    "\"0.09\": [0.033, 0.099],\n",
    "\"0.1\": [0.099, 0.11],\n",
    "\"0.25\": [0.11, 0.275],\n",
    "\"0.3\": [0.275, 0.33],\n",
    "\"0.5\": [0.33, 0.55],\n",
    "\"1.0\": [0.55, 1.1],\n",
    "\"2.0\": [1.1, 2.2],\n",
    "\"3.0\": [2.2, 3.3],\n",
    "\"4.0\": [3.3, 4.4],\n",
    "\"8.0\": [4.4, 8.8],\n",
    "\"12.0\": [8.8, 13.2],\n",
    "\"16.0\": [13.2, 17.6],\n",
    "\"20.0\": [17.6, 22.0],\n",
    "\"25.0\": [22.0, 27.5],\n",
    "\"30.0\": [27.5, 33.0],\n",
    "\"40.0\": [33.0, 44.0],\n",
    "\"50.0\": [44.0, 55.0],\n",
    "\"75.0\": [55.0, 82.5],\n",
    "\"100.0\": [82.5, 110.0],\n",
    "\"150.0\": [110.0, 165.0],\n",
    "\"200.0\": [165.0, 220.0]\n",
    "}\n"
   ]
  },
  {
   "cell_type": "code",
   "execution_count": null,
   "id": "3968d6ef-8ef2-469c-9e35-91999dac3911",
   "metadata": {},
   "outputs": [],
   "source": [
    "bands_data = numpy.zeros([mogreps_g_example.shape[0], mogreps_g_example.shape[1], len(improver_thresholds)])"
   ]
  },
  {
   "cell_type": "code",
   "execution_count": null,
   "id": "421f7000-f59a-48b5-bd5a-efaf25f9b3bc",
   "metadata": {},
   "outputs": [],
   "source": [
    "max_rain_data = numpy.zeros([mogreps_g_example.shape[0], mogreps_g_example.shape[1]])\n",
    "mean_rain_data = numpy.zeros([mogreps_g_example.shape[0], mogreps_g_example.shape[1]])"
   ]
  },
  {
   "cell_type": "code",
   "execution_count": null,
   "id": "1aa6d450-8814-4d71-9e6f-398fe1d40c48",
   "metadata": {},
   "outputs": [],
   "source": [
    "radar_data1 = radar_select_time.data.data"
   ]
  },
  {
   "cell_type": "code",
   "execution_count": null,
   "id": "db0830c4-b64a-4746-ad5e-74f72772f86c",
   "metadata": {},
   "outputs": [],
   "source": [
    "masked_radar = numpy.ma.MaskedArray(\n",
    "            radar_data1,\n",
    "            radar_agg_3hr[0,:,:].data.mask)"
   ]
  },
  {
   "cell_type": "code",
   "execution_count": null,
   "id": "b09dc00b-0e45-4161-ae53-9bee95bbf6e7",
   "metadata": {},
   "outputs": [],
   "source": [
    "%%time\n",
    "for i_lat in range(mogreps_g_example.shape[0]):\n",
    "    print(i_lat)\n",
    "    for i_lon in range(mogreps_g_example.shape[1]):\n",
    "        selected_cells = (~(radar_agg_3hr[0,:,:].data.mask)) & (lat_mog_g_index == i_lat)  & (lon_mog_g_index ==i_lon)\n",
    "        masked_radar.mask = ~selected_cells\n",
    "        radar_cells_in_mg = numpy.count_nonzero(selected_cells)\n",
    "        if radar_cells_in_mg > 0:\n",
    "            for imp_ix, (imp_key, imp_bounds) in enumerate(improver_thresholds.items()):\n",
    "\n",
    "                num_in_band = numpy.count_nonzero((radar_data1 >=  imp_bounds[0]) & (radar_data1 <= imp_bounds[1]) & selected_cells)\n",
    "                bands_data[i_lat, i_lon, imp_ix] = num_in_band / radar_cells_in_mg\n",
    "            # calculate the average rain radar cell within each mogreps-g cell\n",
    "\n",
    "            # calculate the max radar cell within each mogreps-g cell\n",
    "            max_rain_data[i_lat, i_lon] = masked_radar.max()\n",
    "\n",
    "            mean_rain_data[i_lat, i_lon] = (masked_radar.sum()) / radar_cells_in_mg"
   ]
  },
  {
   "cell_type": "code",
   "execution_count": null,
   "id": "9a8c5283-efdd-4bea-a8d3-860b79009cb4",
   "metadata": {},
   "outputs": [],
   "source": [
    "mg_lat_coord = mogreps_g_example.coord('latitude')\n",
    "mg_lon_coord = mogreps_g_example.coord('longitude')\n"
   ]
  },
  {
   "cell_type": "code",
   "execution_count": null,
   "id": "1ddca25a-d153-4856-a956-4a81501e4303",
   "metadata": {},
   "outputs": [],
   "source": [
    "band_coord = iris.coords.DimCoord(\n",
    "    [float(b1) for b1 in improver_thresholds.keys()],\n",
    "    bounds=list(improver_thresholds.values()),\n",
    "    var_name='band',\n",
    "    units='degrees',\n",
    ")"
   ]
  },
  {
   "cell_type": "code",
   "execution_count": null,
   "id": "fb99d998-74e2-4360-b517-b327c9110d16",
   "metadata": {},
   "outputs": [],
   "source": [
    "fraction_rain_band = iris.cube.Cube(\n",
    "    data=bands_data, \n",
    "    dim_coords_and_dims=((mg_lat_coord, 0),(mg_lon_coord, 1),  (band_coord, 2)),\n",
    "    units=None,\n",
    "    var_name='fraction_in_band',\n",
    "    long_name='Fraction radar rainfall cells in specified rain band',\n",
    ")"
   ]
  },
  {
   "cell_type": "code",
   "execution_count": null,
   "id": "61a5adb6-f0a6-4a57-b1bf-d4dddd23d081",
   "metadata": {},
   "outputs": [],
   "source": [
    "max_rain_cube = iris.cube.Cube(\n",
    "    data=max_rain_data, \n",
    "    dim_coords_and_dims=((mg_lat_coord, 0),(mg_lon_coord, 1),),\n",
    "    units='mm',\n",
    "    var_name='max_rain',\n",
    "    long_name='maximum rain in radar cells within mogreps-g cell',\n",
    ")"
   ]
  },
  {
   "cell_type": "code",
   "execution_count": null,
   "id": "fd9256b7-b9e5-4289-af28-f5cffa1bc368",
   "metadata": {},
   "outputs": [],
   "source": [
    "mean_rain_cube = iris.cube.Cube(\n",
    "    data=mean_rain_data, \n",
    "    dim_coords_and_dims=((mg_lat_coord, 0),(mg_lon_coord, 1),),\n",
    "    units='mm',\n",
    "    var_name='mean_rain',\n",
    "    long_name='average rain in radar cells within mogreps-g cell',\n",
    ")"
   ]
  },
  {
   "cell_type": "code",
   "execution_count": null,
   "id": "e8e3ef7b-2292-4ac9-a9ac-b45c0aed4573",
   "metadata": {},
   "outputs": [],
   "source": [
    "fig1 = matplotlib.pyplot.figure(figsize=(18,10))\n",
    "ax1 = fig1.add_subplot(1,3,1, projection=mogreps_g_example.coord_system().as_cartopy_projection())\n",
    "iris.quickplot.contourf(fraction_rain_band [:,:,4])\n",
    "ax1.coastlines()\n",
    "ax1 = fig1.add_subplot(1,3,2, projection=mogreps_g_example.coord_system().as_cartopy_projection())\n",
    "iris.quickplot.contourf(fraction_rain_band [:,:,7])\n",
    "ax1.coastlines()\n",
    "ax1 = fig1.add_subplot(1,3,3, projection=mogreps_g_example.coord_system().as_cartopy_projection())\n",
    "iris.quickplot.contourf(fraction_rain_band [:,:,10])\n",
    "ax1.coastlines()"
   ]
  },
  {
   "cell_type": "code",
   "execution_count": null,
   "id": "5a68433e-9a31-4661-b85d-53d8f632c53d",
   "metadata": {},
   "outputs": [],
   "source": [
    "fig1 = matplotlib.pyplot.figure(figsize=(6,10))\n",
    "ax1 = fig1.add_subplot(1,1,1, projection=mogreps_g_example.coord_system().as_cartopy_projection())\n",
    "iris.quickplot.contourf(mean_rain_cube)\n",
    "ax1.coastlines()"
   ]
  },
  {
   "cell_type": "markdown",
   "id": "6ef5b50c-a37b-409b-8d28-bc0ab08eb1a0",
   "metadata": {},
   "source": [
    "Load a sample variable from MOGREPS-G to use for regridding radar data."
   ]
  },
  {
   "cell_type": "code",
   "execution_count": null,
   "id": "a531fe20-7729-4ddc-bda4-f928120a67ed",
   "metadata": {},
   "outputs": [],
   "source": [
    "# this is an example regrid operation, which we're not using currently\n",
    "radar_mggrid = radar_agg_3hr.regrid(mogreps_g_example, iris.analysis.Linear())\n",
    "radar_mggrid"
   ]
  },
  {
   "cell_type": "code",
   "execution_count": null,
   "id": "f9e1c1fc-9ab4-4ce2-91c2-1670b2733faf",
   "metadata": {},
   "outputs": [],
   "source": [
    "iris.quickplot.contourf(radar_mggrid [14,:,:])\n",
    "matplotlib.pyplot.gca().coastlines()"
   ]
  },
  {
   "cell_type": "markdown",
   "id": "fb1025ca-06f7-47c1-8f26-e74a1c95ce9e",
   "metadata": {},
   "source": [
    "It is slightly tortuous, but having used the useful Iris functionality, we now swiotch to xarray to use the `to_dataframe` functionality.We could probably stick to one or the other rather, and that is a potential future refactoring (if possible)."
   ]
  },
  {
   "cell_type": "code",
   "execution_count": null,
   "id": "d3a5fc0e-5db7-42fc-a66c-c0f64e469d32",
   "metadata": {},
   "outputs": [],
   "source": [
    "frac_df = xarray.DataArray.from_iris(fraction_rain_band).to_dataframe().reset_index()"
   ]
  },
  {
   "cell_type": "code",
   "execution_count": null,
   "id": "bc6cee9e-2710-4d19-aee0-7e7d2922160b",
   "metadata": {},
   "outputs": [],
   "source": [
    "imp_bands = list(improver_thresholds.keys())"
   ]
  },
  {
   "cell_type": "code",
   "execution_count": null,
   "id": "a5cd9704-c0ca-430a-924f-5839c4abb13d",
   "metadata": {},
   "outputs": [],
   "source": [
    "radar_df = frac_df[frac_df['band'] ==  float(imp_bands[0])][['latitude','longitude','fraction_in_band']]\n",
    "radar_df = radar_df.rename({'fraction_in_band': f'fraction_in_band_{imp_bands[0]}'},axis='columns')\n",
    "radar_df"
   ]
  },
  {
   "cell_type": "code",
   "execution_count": null,
   "id": "acb73cf6-e6fa-4b00-a75f-0b6eda071ca8",
   "metadata": {},
   "outputs": [],
   "source": [
    "for band1 in imp_bands[1:]:\n",
    "    df1 = frac_df[frac_df['band'] ==  float(band1)][['latitude','longitude','fraction_in_band']]\n",
    "    df1 = df1.rename({'fraction_in_band': f'fraction_in_band_{band1}'},axis='columns')\n",
    "    radar_df = pandas.merge(radar_df, df1, on=['latitude', 'longitude'])"
   ]
  },
  {
   "cell_type": "code",
   "execution_count": null,
   "id": "f5f78b0d-f59a-40d4-98da-ec2342b30242",
   "metadata": {},
   "outputs": [],
   "source": [
    "radar_df = pandas.merge(radar_df, xarray.DataArray.from_iris(mean_rain_cube).to_dataframe().reset_index(), on=['latitude', 'longitude'])"
   ]
  },
  {
   "cell_type": "code",
   "execution_count": null,
   "id": "13e7ed2b-2518-4ea6-ba61-5b455a89b15f",
   "metadata": {},
   "outputs": [],
   "source": [
    "radar_df = pandas.merge(radar_df, xarray.DataArray.from_iris(max_rain_cube).to_dataframe().reset_index(), on=['latitude', 'longitude'])"
   ]
  },
  {
   "cell_type": "code",
   "execution_count": null,
   "id": "57696955-3de9-4569-981f-2c9edc1cf64b",
   "metadata": {},
   "outputs": [],
   "source": [
    "radar_df['time'] = validity_time"
   ]
  },
  {
   "cell_type": "code",
   "execution_count": null,
   "id": "dec1d902-8a48-4253-88d5-34d6f44f7b07",
   "metadata": {},
   "outputs": [],
   "source": [
    "radar_df"
   ]
  },
  {
   "cell_type": "code",
   "execution_count": null,
   "id": "9f3bfe04-b462-4780-8eea-098f646c4dbd",
   "metadata": {},
   "outputs": [],
   "source": [
    "prd_single_timestep_df['time'][0]"
   ]
  },
  {
   "cell_type": "code",
   "execution_count": null,
   "id": "009fc3ed-5678-4d63-80ca-ea2718c89b50",
   "metadata": {},
   "outputs": [],
   "source": [
    "# radar_df = radar_df[['latitude', 'longitude','time','rainfall_rate_composite']]"
   ]
  },
  {
   "cell_type": "code",
   "execution_count": null,
   "id": "c8b98ad2-ca84-4929-a5bc-b07a716fd1b3",
   "metadata": {},
   "outputs": [],
   "source": [
    "single_ts_ds = xarray.merge([single_level_ds, height_levels_ds])"
   ]
  },
  {
   "cell_type": "markdown",
   "id": "d9b3cb18-c874-4bc4-9f78-351cf49fc9b3",
   "metadata": {},
   "source": [
    "Now we have the radar data, we can merge with model data and save to disk."
   ]
  },
  {
   "cell_type": "code",
   "execution_count": null,
   "id": "892d09be-d842-4d11-a541-3b8569e413e2",
   "metadata": {},
   "outputs": [],
   "source": [
    "merged_dataset = pandas.merge(prd_single_timestep_df, radar_df, on=['latitude', 'longitude', 'time'])\n",
    "merged_dataset"
   ]
  },
  {
   "cell_type": "markdown",
   "id": "conventional-boating",
   "metadata": {},
   "source": [
    "# Output as daily parquet files"
   ]
  },
  {
   "cell_type": "code",
   "execution_count": null,
   "id": "modern-software",
   "metadata": {},
   "outputs": [],
   "source": [
    "output_fname = output_fname_template.format(lt=leadtime_hours, vt=validity_time)\n",
    "output_path = output_dir / output_fname\n",
    "prd_single_timestep_df.to_csv(output_path)"
   ]
  },
  {
   "cell_type": "markdown",
   "id": "53cef300-51db-4844-bc3d-4f9fe6e34f79",
   "metadata": {},
   "source": [
    "Currently I don't have parquet set up in our environments, so just using CSV for now (this is a small data set so far)."
   ]
  },
  {
   "cell_type": "code",
   "execution_count": null,
   "id": "20230327-28da-4d39-ae2a-c9743faa54d3",
   "metadata": {},
   "outputs": [],
   "source": []
  },
  {
   "cell_type": "code",
   "execution_count": null,
   "id": "8660846a-163a-43e6-a00c-22b7d4c94bb6",
   "metadata": {},
   "outputs": [],
   "source": []
  }
 ],
 "metadata": {
  "kernelspec": {
   "display_name": ".conda-prd_data_prep Python (Conda)",
   "language": "python",
   "name": "conda-env-.conda-prd_data_prep-py"
  },
  "language_info": {
   "codemirror_mode": {
    "name": "ipython",
    "version": 3
   },
   "file_extension": ".py",
   "mimetype": "text/x-python",
   "name": "python",
   "nbconvert_exporter": "python",
   "pygments_lexer": "ipython3",
   "version": "3.8.12"
  }
 },
 "nbformat": 4,
 "nbformat_minor": 5
}
