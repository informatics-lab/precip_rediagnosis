{
 "cells": [
  {
   "cell_type": "code",
   "execution_count": 19,
   "id": "f5ce2ae0-4009-4f01-a132-c276af3d4f17",
   "metadata": {},
   "outputs": [],
   "source": [
    "import datetime\n",
    "import os\n",
    "import subprocess\n",
    "\n",
    "import pandas as pd"
   ]
  },
  {
   "cell_type": "code",
   "execution_count": 1,
   "id": "095425c0-7cf9-4c8a-b150-a8cf27df5838",
   "metadata": {},
   "outputs": [],
   "source": [
    "DATETIME_PARSER = '%Y-%m-%dT%H:%MZ'"
   ]
  },
  {
   "cell_type": "code",
   "execution_count": 20,
   "id": "c54d2a63-6350-4bf8-b7aa-43e75dcef223",
   "metadata": {},
   "outputs": [],
   "source": [
    "mass_root = \"moose:/adhoc/projects/radar_archive/data/comp/products/composites/\"\n",
    "fname_mass_template = \"{dt.year:04d}{dt.month:02d}{dt.day:02d}.tar\"\n",
    "save_path = \"/scratch/dkillick/precip_rediagnosis/radar\"\n",
    "\n",
    "mass_cmd_template = \"moo get {args} {src_paths} {dest_path}\"\n",
    "unzip_cmd_template = \"gunzip {root}/{files}\"\n",
    "untar_cmd_template = 'tar -xf {path} --directory {dest_root}'\n",
    "\n",
    "event_start = \"2020-02-14T18:00Z\"\n",
    "event_end = \"2020-02-17T18:00Z\"\n",
    "date_range = [\n",
    "    datetime.datetime.strptime(event_start, DATETIME_PARSER),\n",
    "    datetime.datetime.strptime(event_end, DATETIME_PARSER)\n",
    "]\n",
    "archive_time_chunk = 24"
   ]
  },
  {
   "cell_type": "code",
   "execution_count": 10,
   "id": "5d7c1bd6-4260-41be-aa79-c6605365b24a",
   "metadata": {},
   "outputs": [],
   "source": [
    "def calc_dates_list(start_datetime, end_datetime, delta_hours):\n",
    "    dates_to_extract = list(pd.date_range(\n",
    "        start=start_datetime,\n",
    "        end=end_datetime - datetime.timedelta(seconds=1),\n",
    "        freq=datetime.timedelta(\n",
    "            hours=delta_hours)).to_pydatetime())\n",
    "    return dates_to_extract"
   ]
  },
  {
   "cell_type": "code",
   "execution_count": 12,
   "id": "9392487f-4160-45e4-8610-5b7af27e5cb5",
   "metadata": {},
   "outputs": [
    {
     "data": {
      "text/plain": [
       "[datetime.datetime(2020, 2, 14, 0, 0),\n",
       " datetime.datetime(2020, 2, 15, 0, 0),\n",
       " datetime.datetime(2020, 2, 16, 0, 0),\n",
       " datetime.datetime(2020, 2, 17, 0, 0)]"
      ]
     },
     "execution_count": 12,
     "metadata": {},
     "output_type": "execute_result"
    }
   ],
   "source": [
    "dates_to_extract = calc_dates_list(\n",
    "    datetime.datetime(date_range[0].year,\n",
    "                      date_range[0].month,\n",
    "                      date_range[0].day, 0, 0),\n",
    "    datetime.datetime(date_range[1].year,\n",
    "                      date_range[1].month,\n",
    "                      date_range[1].day, 23, 59),\n",
    "    archive_time_chunk\n",
    ")\n",
    "dates_to_extract"
   ]
  },
  {
   "cell_type": "code",
   "execution_count": 15,
   "id": "aebb9744-681a-4da6-8441-89db167300ef",
   "metadata": {},
   "outputs": [
    {
     "data": {
      "text/plain": [
       "['moose:/adhoc/projects/radar_archive/data/comp/products/composites/20200214.tar',\n",
       " 'moose:/adhoc/projects/radar_archive/data/comp/products/composites/20200215.tar',\n",
       " 'moose:/adhoc/projects/radar_archive/data/comp/products/composites/20200216.tar',\n",
       " 'moose:/adhoc/projects/radar_archive/data/comp/products/composites/20200217.tar']"
      ]
     },
     "execution_count": 15,
     "metadata": {},
     "output_type": "execute_result"
    }
   ],
   "source": [
    "mass_paths = [os.path.join(mass_root, fname_mass_template.format(dt=dt)) for dt in dates_to_extract]\n",
    "mass_paths"
   ]
  },
  {
   "cell_type": "code",
   "execution_count": 18,
   "id": "3ef94f6c-4192-417c-b61f-fa11b533b503",
   "metadata": {},
   "outputs": [
    {
     "data": {
      "text/plain": [
       "'moo get -f moose:/adhoc/projects/radar_archive/data/comp/products/composites/20200214.tar /scratch/dkillick/precip_rediagnosis/radar'"
      ]
     },
     "execution_count": 18,
     "metadata": {},
     "output_type": "execute_result"
    }
   ],
   "source": [
    "mass_radar_get_cmd = mass_cmd_template.format(\n",
    "    src_paths=mass_paths[0],\n",
    "    dest_path=save_path,\n",
    "    args='-f',\n",
    ")\n",
    "mass_radar_get_cmd"
   ]
  },
  {
   "cell_type": "code",
   "execution_count": 22,
   "id": "caa77a5d-a7f1-4c45-a725-0dfd8a8ee92f",
   "metadata": {},
   "outputs": [
    {
     "data": {
      "text/plain": [
       "b'### get, command-id=1445537681, estimated-cost=7497963520byte(s), files=1, media=0\\n'"
      ]
     },
     "execution_count": 22,
     "metadata": {},
     "output_type": "execute_result"
    }
   ],
   "source": [
    "op = subprocess.check_output(mass_radar_get_cmd, shell=True)\n",
    "op"
   ]
  },
  {
   "cell_type": "code",
   "execution_count": null,
   "id": "6dbbb819-9ca9-4805-bcd6-8fa54697f912",
   "metadata": {},
   "outputs": [],
   "source": []
  }
 ],
 "metadata": {
  "kernelspec": {
   "display_name": "default-current (SciTools)",
   "language": "python",
   "name": "default-current"
  },
  "language_info": {
   "codemirror_mode": {
    "name": "ipython",
    "version": 3
   },
   "file_extension": ".py",
   "mimetype": "text/x-python",
   "name": "python",
   "nbconvert_exporter": "python",
   "pygments_lexer": "ipython3",
   "version": "3.7.12"
  }
 },
 "nbformat": 4,
 "nbformat_minor": 5
}
