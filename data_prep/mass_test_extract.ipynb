{
 "cells": [
  {
   "cell_type": "markdown",
   "id": "512e84c3-0e30-4d4c-a037-0c41a0bc577b",
   "metadata": {},
   "source": [
    "**Imports**"
   ]
  },
  {
   "cell_type": "code",
   "execution_count": 1,
   "id": "f5ce2ae0-4009-4f01-a132-c276af3d4f17",
   "metadata": {},
   "outputs": [],
   "source": [
    "import datetime\n",
    "import glob\n",
    "import os\n",
    "import subprocess\n",
    "from tempfile import TemporaryDirectory\n",
    "\n",
    "import pandas as pd"
   ]
  },
  {
   "cell_type": "markdown",
   "id": "04ff538a-7eaa-4ffa-a151-9fcce6129584",
   "metadata": {},
   "source": [
    "**Constants**"
   ]
  },
  {
   "cell_type": "code",
   "execution_count": null,
   "id": "c54d2a63-6350-4bf8-b7aa-43e75dcef223",
   "metadata": {},
   "outputs": [],
   "source": [
    "DATETIME_PARSER = '%Y-%m-%dT%H:%MZ'\n",
    "\n",
    "mass_root = \"moose:/adhoc/projects/radar_archive/data/comp/products/composites/\"\n",
    "fname_mass_template = \"{dt.year:04d}{dt.month:02d}{dt.day:02d}.tar\"\n",
    "retrieve_path_root = \"/scratch/dkillick/precip_rediagnosis/radar/\"\n",
    "variable_fname_template = \"{timestamp}_{product}_{resolution}_{area}.gz\"\n",
    "\n",
    "mass_cmd_template = \"moo get {args} {src_paths} {dest_path}\"\n",
    "gunzip_cmd_template = \"gunzip {zip_file}\"\n",
    "gunzip_cmd_template2 = \"gunzip -c {zip_file} > {dest_path}\"\n",
    "# unzip_cmd_template = \"unzip {zip_file} -d {dest_root}\"  # unzip can't handle files from MASS.\n",
    "untar_cmd_template = 'tar -xf {path} --directory {dest_root}'\n",
    "\n",
    "event_start = \"2020-02-14T18:00Z\"\n",
    "event_end = \"2020-02-17T18:00Z\"\n",
    "date_range = [\n",
    "    datetime.datetime.strptime(event_start, DATETIME_PARSER),\n",
    "    datetime.datetime.strptime(event_end, DATETIME_PARSER)\n",
    "]\n",
    "archive_time_chunk = 24"
   ]
  },
  {
   "cell_type": "markdown",
   "id": "9134cc77-c95a-4ae4-906d-81cfda390b7d",
   "metadata": {},
   "source": [
    "**Functions**"
   ]
  },
  {
   "cell_type": "code",
   "execution_count": null,
   "id": "5d7c1bd6-4260-41be-aa79-c6605365b24a",
   "metadata": {},
   "outputs": [],
   "source": [
    "def calc_dates_list(start_datetime, end_datetime, delta_hours):\n",
    "    dates_to_extract = list(pd.date_range(\n",
    "        start=start_datetime,\n",
    "        end=end_datetime - datetime.timedelta(seconds=1),\n",
    "        freq=datetime.timedelta(\n",
    "            hours=delta_hours)).to_pydatetime())\n",
    "    return dates_to_extract\n",
    "\n",
    "def run_cmd(cmd):\n",
    "    msg = \"\"\n",
    "    try:\n",
    "        response = subprocess.check_output(cmd, shell=True)\n",
    "    except subprocess.CalledProcessError as e:\n",
    "        msg = f\"Command errored: {e}\"\n",
    "        raise RetryRequested(max_retries=1, seconds_to_wait=30) from e\n",
    "    else:\n",
    "        msg = f\"Command returned response: {response}\"\n",
    "    return msg\n",
    "\n",
    "def retrieve_from_mass(mass_path, dest_path):\n",
    "    mass_get_cmd = mass_cmd_template.format(\n",
    "        args=\"-f\",\n",
    "        src_paths=mass_path,\n",
    "        dest_path=dest_path\n",
    "    )\n",
    "    msg = run_cmd(mass_get_cmd)\n",
    "    print(msg)\n",
    "\n",
    "def extract_mass_retrieval(dest_path, mass_tar_name):\n",
    "    extracted_tar_name = os.path.join(dest_path, mass_tar_name)\n",
    "    untar_cmd = untar_cmd_template.format(\n",
    "        path=extracted_tar_name,\n",
    "        dest_root=dest_path\n",
    "    )\n",
    "    msg = run_cmd(untar_cmd)\n",
    "    print(msg)\n",
    "\n",
    "def filter_mass_retrieval(dest_path, dest_root):\n",
    "    # extract_path = os.path.join(dest_path, mass_tar_name)\n",
    "    filter_products = [\n",
    "        \"nimrod_ng_radar_rainrate_composite\",\n",
    "        \"nimrod_ng_radar_qualityproduct_composite\",\n",
    "    ]\n",
    "    # Get a list of all files to unzip.\n",
    "    gunzip_files = []\n",
    "    for product in filter_products:\n",
    "        variable_fname = variable_fname_template.format(\n",
    "            timestamp=\"*\",\n",
    "            product=product,\n",
    "            resolution=\"1km\",\n",
    "            area=\"UK\"\n",
    "        )\n",
    "        gunzip_files.extend(glob.glob(os.path.join(dest_path, variable_fname)))\n",
    "    # Unzip each file in turn, moving it to the output directory. \n",
    "    for zip_file in gunzip_files:\n",
    "        filename = os.path.splitext(os.path.basename(zip_file))[0]\n",
    "        dest_path = os.path.join(dest_root, filename)\n",
    "        unzip_cmd = gunzip_cmd_template2.format(\n",
    "            zip_file=zip_file,\n",
    "            dest_path=dest_path\n",
    "        )\n",
    "        msg = run_cmd(unzip_cmd)\n",
    "        print(f\"Extracted {zip_file!r} with message {msg!r}\")\n",
    "\n",
    "def mass_extract_runner(date):\n",
    "    mass_fname = fname_mass_template.format(dt=date)\n",
    "    mass_tar_name = os.path.basename(mass_fname)\n",
    "    mass_path = os.path.join(mass_root, mass_fname)\n",
    "    retrieve_from_mass(mass_path, retrieve_path_root)\n",
    "    extract_mass_retrieval(retrieve_path_root, mass_tar_name)\n",
    "    # filter_mass_retrieval(tempdir, retrieve_path_root)\n",
    "\n",
    "def mass_extract_runner_v2(date):\n",
    "    mass_fname = fname_mass_template.format(dt=date)\n",
    "    mass_tar_name = os.path.basename(mass_fname)\n",
    "    mass_path = os.path.join(mass_root, mass_fname)\n",
    "    with TemporaryDirectory(prefix=retrieve_path_root) as tempdir:\n",
    "        print(f\"Temporary extract directory: {tempdir}\")\n",
    "        retrieve_from_mass(mass_path, tempdir)\n",
    "        extract_mass_retrieval(tempdir, mass_tar_name)\n",
    "        filter_mass_retrieval(tempdir, retrieve_path_root)"
   ]
  },
  {
   "cell_type": "code",
   "execution_count": null,
   "id": "9392487f-4160-45e4-8610-5b7af27e5cb5",
   "metadata": {},
   "outputs": [],
   "source": [
    "dates_to_extract = calc_dates_list(\n",
    "    datetime.datetime(date_range[0].year,\n",
    "                      date_range[0].month,\n",
    "                      date_range[0].day, 0, 0),\n",
    "    datetime.datetime(date_range[1].year,\n",
    "                      date_range[1].month,\n",
    "                      date_range[1].day, 23, 59),\n",
    "    archive_time_chunk\n",
    ")\n",
    "dates_to_extract"
   ]
  },
  {
   "cell_type": "code",
   "execution_count": null,
   "id": "17e70d57-dd45-4f50-9887-3a5d65d56616",
   "metadata": {},
   "outputs": [],
   "source": [
    "mass_extract_runner_v2(dates_to_extract[0])"
   ]
  },
  {
   "cell_type": "code",
   "execution_count": null,
   "id": "aebb9744-681a-4da6-8441-89db167300ef",
   "metadata": {},
   "outputs": [],
   "source": [
    "mass_paths = [os.path.join(mass_root, fname_mass_template.format(dt=dt)) for dt in dates_to_extract]\n",
    "mass_paths"
   ]
  },
  {
   "cell_type": "code",
   "execution_count": null,
   "id": "3ef94f6c-4192-417c-b61f-fa11b533b503",
   "metadata": {},
   "outputs": [],
   "source": [
    "mass_radar_get_cmd = mass_cmd_template.format(\n",
    "    src_paths=mass_paths[0],\n",
    "    dest_path=save_path,\n",
    "    args='-f',\n",
    ")\n",
    "mass_radar_get_cmd"
   ]
  },
  {
   "cell_type": "code",
   "execution_count": null,
   "id": "caa77a5d-a7f1-4c45-a725-0dfd8a8ee92f",
   "metadata": {},
   "outputs": [],
   "source": [
    "op = subprocess.check_output(mass_radar_get_cmd, shell=True)\n",
    "op"
   ]
  },
  {
   "cell_type": "code",
   "execution_count": null,
   "id": "f749ffae-16fb-48de-8f6b-b4f0dd12158e",
   "metadata": {},
   "outputs": [],
   "source": [
    "import os\n",
    "import shutil\n",
    "from tempfile import TemporaryDirectory, mkdtemp \n",
    "\n",
    "class EncapsulatedTemporaryDir(object):\n",
    "    def __init__(self, prefix, suffix=None):\n",
    "        self.prefix = prefix\n",
    "        if not self.prefix.endswith(os.sep):\n",
    "            self.prefix += os.sep\n",
    "        self.suffix = suffix\n",
    "        if self.suffix is not None and not self.suffix.startswith(os.sep):\n",
    "            self.suffix = os.sep + self.suffix\n",
    "\n",
    "        self._tempdir = None\n",
    "        # self.open()\n",
    "        self.mk_tempdir()\n",
    "\n",
    "    @property\n",
    "    def tempdir(self):\n",
    "        if self._tempdir is None:\n",
    "            self.mk_tempdir()\n",
    "        return self._tempdir\n",
    "\n",
    "    @tempdir.setter\n",
    "    def tempdir(self, value):\n",
    "        self._tempdir = value\n",
    "\n",
    "    @property\n",
    "    def name(self):\n",
    "        # return self.tempdir.name\n",
    "        return self.tempdir\n",
    "\n",
    "    def open(self):\n",
    "        self.tempdir = TemporaryDirectory(\n",
    "            prefix=self.prefix,\n",
    "            suffix=self.suffix\n",
    "        )\n",
    "\n",
    "    def close(self):\n",
    "        self.tempdir.cleanup()\n",
    "\n",
    "    def mk_tempdir(self):\n",
    "        self.tempdir = mkdtemp(prefix=self.prefix, suffix=self.suffix)\n",
    "\n",
    "    def rm_tempdir(self):\n",
    "        shutil.rmtree(self.name)"
   ]
  },
  {
   "cell_type": "code",
   "execution_count": null,
   "id": "f34d0958-ec71-410f-8ec1-50f342f7042a",
   "metadata": {},
   "outputs": [],
   "source": [
    "tempdir = EncapsulatedTemporaryDir(\"/scratch/dkillick/precip_rediagnosis/radar/\")\n",
    "print(tempdir.name)"
   ]
  },
  {
   "cell_type": "code",
   "execution_count": null,
   "id": "fa5c4b13-2bfe-433d-99cb-583aa13d6133",
   "metadata": {},
   "outputs": [],
   "source": [
    "tempdir.rm_tempdir()"
   ]
  },
  {
   "cell_type": "code",
   "execution_count": null,
   "id": "10207ff3-7ebd-49a2-a353-d60730a6ba86",
   "metadata": {
    "tags": []
   },
   "outputs": [],
   "source": [
    "products = [\"nimrod_ng_radar_rainrate_composite\", \"nimrod_ng_radar_qualityproduct_composite\"]\n",
    "temp_dir = os.path.join(\"/scratch/dkillick/precip_rediagnosis/radar\", \"5o3p5ap_\")\n",
    "\n",
    "gunzip_files = []\n",
    "for product in products:\n",
    "    variable_fname = variable_fname_template.format(\n",
    "        timestamp=\"*\",\n",
    "        product=product,\n",
    "        resolution=\"1km\",\n",
    "        area=\"UK\"\n",
    "    )\n",
    "    print(variable_fname)\n",
    "    gunzip_files.extend(glob.glob(os.path.join(temp_dir, variable_fname)))\n",
    "    \n",
    "print(len(gunzip_files))"
   ]
  },
  {
   "cell_type": "code",
   "execution_count": 4,
   "id": "a136b14c-660c-4e86-8a80-1924766ce244",
   "metadata": {},
   "outputs": [],
   "source": [
    "import hashlib"
   ]
  },
  {
   "cell_type": "code",
   "execution_count": 8,
   "id": "4be48aa0-0c03-4942-8c6a-ece5822f18b5",
   "metadata": {},
   "outputs": [
    {
     "data": {
      "text/plain": [
       "'47213015470f349b'"
      ]
     },
     "execution_count": 8,
     "metadata": {},
     "output_type": "execute_result"
    }
   ],
   "source": [
    "hashlib.blake2b(salt=os.urandom(hashlib.blake2b.SALT_SIZE)).hexdigest()[:16]"
   ]
  },
  {
   "cell_type": "code",
   "execution_count": 8,
   "id": "3407065a-d688-47f3-adbe-a5a46155317c",
   "metadata": {},
   "outputs": [
    {
     "data": {
      "text/plain": [
       "{'blake2b',\n",
       " 'blake2s',\n",
       " 'md5',\n",
       " 'sha1',\n",
       " 'sha224',\n",
       " 'sha256',\n",
       " 'sha384',\n",
       " 'sha3_224',\n",
       " 'sha3_256',\n",
       " 'sha3_384',\n",
       " 'sha3_512',\n",
       " 'sha512',\n",
       " 'shake_128',\n",
       " 'shake_256'}"
      ]
     },
     "execution_count": 8,
     "metadata": {},
     "output_type": "execute_result"
    }
   ],
   "source": [
    "hashlib.algorithms_available"
   ]
  },
  {
   "cell_type": "code",
   "execution_count": 2,
   "id": "c7acf06e-0881-4b72-bfd5-659a008274bf",
   "metadata": {},
   "outputs": [
    {
     "data": {
      "text/plain": [
       "\u001b[0;31mSignature:\u001b[0m \u001b[0mos\u001b[0m\u001b[0;34m.\u001b[0m\u001b[0murandom\u001b[0m\u001b[0;34m(\u001b[0m\u001b[0msize\u001b[0m\u001b[0;34m,\u001b[0m \u001b[0;34m/\u001b[0m\u001b[0;34m)\u001b[0m\u001b[0;34m\u001b[0m\u001b[0;34m\u001b[0m\u001b[0m\n",
       "\u001b[0;31mDocstring:\u001b[0m Return a bytes object containing random bytes suitable for cryptographic use.\n",
       "\u001b[0;31mType:\u001b[0m      builtin_function_or_method\n"
      ]
     },
     "metadata": {},
     "output_type": "display_data"
    }
   ],
   "source": [
    "os.urandom?"
   ]
  },
  {
   "cell_type": "code",
   "execution_count": null,
   "id": "452aabfe-7cb8-4a18-a58f-40cb677b1e91",
   "metadata": {},
   "outputs": [],
   "source": []
  }
 ],
 "metadata": {
  "kernelspec": {
   "display_name": "default-current (SciTools)",
   "language": "python",
   "name": "default-current"
  },
  "language_info": {
   "codemirror_mode": {
    "name": "ipython",
    "version": 3
   },
   "file_extension": ".py",
   "mimetype": "text/x-python",
   "name": "python",
   "nbconvert_exporter": "python",
   "pygments_lexer": "ipython3",
   "version": "3.7.12"
  },
  "vscode": {
   "interpreter": {
    "hash": "e063204fe35dbdfa4d980b3a083c2813b2bd2e8138547a887068672e32cd38d3"
   }
  }
 },
 "nbformat": 4,
 "nbformat_minor": 5
}
