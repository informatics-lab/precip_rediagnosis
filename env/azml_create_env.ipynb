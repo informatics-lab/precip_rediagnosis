{
 "cells": [
  {
   "cell_type": "markdown",
   "id": "5abb89f2-1cb1-47c1-8daa-e9b4dddb2e5d",
   "metadata": {},
   "source": [
    "# Create AzureML Environments\n",
    "\n",
    "This notebook demonstrates creating an azureml environmernt programmatically, so that is can be used when running on a compute cluster."
   ]
  },
  {
   "cell_type": "code",
   "execution_count": 7,
   "id": "f4573b40-e209-4f4a-a2db-d370ac36a243",
   "metadata": {},
   "outputs": [],
   "source": [
    "import pathlib\n"
   ]
  },
  {
   "cell_type": "code",
   "execution_count": 1,
   "id": "673ff9fd-71a0-460b-b035-3e1d85a90b24",
   "metadata": {},
   "outputs": [],
   "source": [
    "import azureml.core"
   ]
  },
  {
   "cell_type": "code",
   "execution_count": 17,
   "id": "94137192-7c09-4b60-8b33-051e2397c1bd",
   "metadata": {},
   "outputs": [
    {
     "data": {
      "text/plain": [
       "Workspace.create(name='precip_rediagnosis', subscription_id='07efdc52-cd27-48ed-9443-3aad2b6b777b', resource_group='precip_rediagnosis')"
      ]
     },
     "execution_count": 17,
     "metadata": {},
     "output_type": "execute_result"
    }
   ],
   "source": [
    "prd_ws = azureml.core.Workspace.from_config()\n",
    "prd_ws"
   ]
  },
  {
   "cell_type": "code",
   "execution_count": 15,
   "id": "7e440fe1-86ed-41c8-b006-f964df914414",
   "metadata": {},
   "outputs": [
    {
     "data": {
      "text/plain": [
       "{\n",
       "    \"databricks\": {\n",
       "        \"eggLibraries\": [],\n",
       "        \"jarLibraries\": [],\n",
       "        \"mavenLibraries\": [],\n",
       "        \"pypiLibraries\": [],\n",
       "        \"rcranLibraries\": []\n",
       "    },\n",
       "    \"docker\": {\n",
       "        \"arguments\": [],\n",
       "        \"baseDockerfile\": null,\n",
       "        \"baseImage\": \"mcr.microsoft.com/azureml/openmpi3.1.2-ubuntu18.04:20220113.v1\",\n",
       "        \"baseImageRegistry\": {\n",
       "            \"address\": null,\n",
       "            \"password\": null,\n",
       "            \"registryIdentity\": null,\n",
       "            \"username\": null\n",
       "        },\n",
       "        \"enabled\": false,\n",
       "        \"platform\": {\n",
       "            \"architecture\": \"amd64\",\n",
       "            \"os\": \"Linux\"\n",
       "        },\n",
       "        \"sharedVolumes\": true,\n",
       "        \"shmSize\": \"2g\"\n",
       "    },\n",
       "    \"environmentVariables\": {\n",
       "        \"EXAMPLE_ENV_VAR\": \"EXAMPLE_VALUE\"\n",
       "    },\n",
       "    \"inferencingStackVersion\": null,\n",
       "    \"name\": \"prd_model_dev_azml\",\n",
       "    \"python\": {\n",
       "        \"baseCondaEnvironment\": null,\n",
       "        \"condaDependencies\": {\n",
       "            \"channels\": [\n",
       "                \"conda-forge\"\n",
       "            ],\n",
       "            \"dependencies\": [\n",
       "                \"python=3.8\",\n",
       "                \"jupyterlab\",\n",
       "                \"ipywidgets\",\n",
       "                \"ipykernel\",\n",
       "                \"mlflow=1.20\",\n",
       "                \"pandas=1.3\",\n",
       "                \"scikit-learn=1.0\",\n",
       "                \"tensorflow=2.8\",\n",
       "                \"tensorboard=2.8\",\n",
       "                \"matplotlib=3.5\",\n",
       "                \"tf2onnx\",\n",
       "                \"fsspec\",\n",
       "                \"adlfs\",\n",
       "                {\n",
       "                    \"pip\": [\n",
       "                        \"azureml-defaults\",\n",
       "                        \"azureml-widgets\",\n",
       "                        \"azureml-mlflow\",\n",
       "                        \"azureml-pipeline\",\n",
       "                        \"azureml-tensorboard\"\n",
       "                    ]\n",
       "                }\n",
       "            ],\n",
       "            \"name\": \"prd_model_dev_azml\"\n",
       "        },\n",
       "        \"condaDependenciesFile\": null,\n",
       "        \"interpreterPath\": \"python\",\n",
       "        \"userManagedDependencies\": false\n",
       "    },\n",
       "    \"r\": null,\n",
       "    \"spark\": {\n",
       "        \"packages\": [],\n",
       "        \"precachePackages\": true,\n",
       "        \"repositories\": []\n",
       "    },\n",
       "    \"version\": null\n",
       "}"
      ]
     },
     "execution_count": 15,
     "metadata": {},
     "output_type": "execute_result"
    }
   ],
   "source": [
    "prd_model_dev_env = azureml.core.Environment.from_conda_specification('prd_model_dev_azml',pathlib.Path('.').absolute() / 'requirements_model_dev_azml.yml')\n",
    "prd_model_dev_env"
   ]
  },
  {
   "cell_type": "code",
   "execution_count": 20,
   "id": "9ca9be27-17f9-40bf-abf4-c8a987206944",
   "metadata": {},
   "outputs": [
    {
     "data": {
      "text/plain": [
       "{\n",
       "    \"databricks\": {\n",
       "        \"eggLibraries\": [],\n",
       "        \"jarLibraries\": [],\n",
       "        \"mavenLibraries\": [],\n",
       "        \"pypiLibraries\": [],\n",
       "        \"rcranLibraries\": []\n",
       "    },\n",
       "    \"docker\": {\n",
       "        \"arguments\": [],\n",
       "        \"baseDockerfile\": null,\n",
       "        \"baseImage\": \"mcr.microsoft.com/azureml/openmpi3.1.2-ubuntu18.04:20220113.v1\",\n",
       "        \"baseImageRegistry\": {\n",
       "            \"address\": null,\n",
       "            \"password\": null,\n",
       "            \"registryIdentity\": null,\n",
       "            \"username\": null\n",
       "        },\n",
       "        \"enabled\": false,\n",
       "        \"platform\": {\n",
       "            \"architecture\": \"amd64\",\n",
       "            \"os\": \"Linux\"\n",
       "        },\n",
       "        \"sharedVolumes\": true,\n",
       "        \"shmSize\": null\n",
       "    },\n",
       "    \"environmentVariables\": {\n",
       "        \"EXAMPLE_ENV_VAR\": \"EXAMPLE_VALUE\"\n",
       "    },\n",
       "    \"inferencingStackVersion\": null,\n",
       "    \"name\": \"prd_model_dev_azml\",\n",
       "    \"python\": {\n",
       "        \"baseCondaEnvironment\": null,\n",
       "        \"condaDependencies\": {\n",
       "            \"channels\": [\n",
       "                \"conda-forge\"\n",
       "            ],\n",
       "            \"dependencies\": [\n",
       "                \"python=3.8\",\n",
       "                \"jupyterlab\",\n",
       "                \"ipywidgets\",\n",
       "                \"ipykernel\",\n",
       "                \"mlflow=1.20\",\n",
       "                \"pandas=1.3\",\n",
       "                \"scikit-learn=1.0\",\n",
       "                \"tensorflow=2.8\",\n",
       "                \"tensorboard=2.8\",\n",
       "                \"matplotlib=3.5\",\n",
       "                \"tf2onnx\",\n",
       "                \"fsspec\",\n",
       "                \"adlfs\",\n",
       "                {\n",
       "                    \"pip\": [\n",
       "                        \"azureml-defaults\",\n",
       "                        \"azureml-widgets\",\n",
       "                        \"azureml-mlflow\",\n",
       "                        \"azureml-pipeline\",\n",
       "                        \"azureml-tensorboard\"\n",
       "                    ]\n",
       "                }\n",
       "            ],\n",
       "            \"name\": \"prd_model_dev_azml\"\n",
       "        },\n",
       "        \"condaDependenciesFile\": null,\n",
       "        \"interpreterPath\": \"python\",\n",
       "        \"userManagedDependencies\": false\n",
       "    },\n",
       "    \"r\": null,\n",
       "    \"spark\": {\n",
       "        \"packages\": [],\n",
       "        \"precachePackages\": true,\n",
       "        \"repositories\": []\n",
       "    },\n",
       "    \"version\": \"1\"\n",
       "}"
      ]
     },
     "execution_count": 20,
     "metadata": {},
     "output_type": "execute_result"
    }
   ],
   "source": [
    "prd_model_dev_env = prd_model_dev_env.register(prd_ws)\n",
    "prd_model_dev_env"
   ]
  },
  {
   "cell_type": "code",
   "execution_count": 21,
   "id": "777b198c-b20b-46e0-a3fd-d30c8bc77ceb",
   "metadata": {},
   "outputs": [
    {
     "data": {
      "text/plain": [
       "<azureml.core.environment.ImageBuildDetails at 0x7fab7b9482b0>"
      ]
     },
     "execution_count": 21,
     "metadata": {},
     "output_type": "execute_result"
    }
   ],
   "source": [
    "prd_image_build = prd_model_dev_env.build(prd_ws)\n",
    "prd_image_build"
   ]
  },
  {
   "cell_type": "code",
   "execution_count": null,
   "id": "27a35178-07ae-4176-a5b5-ef1a00ad8b0d",
   "metadata": {},
   "outputs": [],
   "source": []
  }
 ],
 "metadata": {
  "kernelspec": {
   "display_name": "Python 3.8 - AzureML",
   "language": "python",
   "name": "python38-azureml"
  },
  "language_info": {
   "codemirror_mode": {
    "name": "ipython",
    "version": 3
   },
   "file_extension": ".py",
   "mimetype": "text/x-python",
   "name": "python",
   "nbconvert_exporter": "python",
   "pygments_lexer": "ipython3",
   "version": "3.8.1"
  }
 },
 "nbformat": 4,
 "nbformat_minor": 5
}
