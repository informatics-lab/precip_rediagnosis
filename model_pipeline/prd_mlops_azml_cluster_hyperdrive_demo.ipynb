{
 "cells": [
  {
   "cell_type": "markdown",
   "id": "ab1bbb98-47fb-42a8-8c95-68294bbc5f57",
   "metadata": {},
   "source": [
    "# HyperDrive demo notebook"
   ]
  },
  {
   "cell_type": "markdown",
   "id": "132d2586-62ec-4dd8-8b13-888d24b45b6a",
   "metadata": {},
   "source": [
    "This notebook will demostrate the use of the AzureML tool HyperDrive which allows for distributed hyperparameter tuning."
   ]
  },
  {
   "cell_type": "markdown",
   "id": "c89219fc-6c15-4b08-a09b-7e1a275e28ae",
   "metadata": {},
   "source": [
    " Hyperparameters are used to control the training of a machine learning model and hyperparameter tuning is the problem of choosing a set of optimal hyperparameters for a learning algorithm for the specific application. This requires compiling and training a model over and over with different combinations of hyperparameters in a defined hyperparameter space, so the process can be very time intensive. Parallelising this processing can significantly increase the time efficiency of this process. "
   ]
  },
  {
   "cell_type": "code",
   "execution_count": 1,
   "id": "70cc5013-7b6d-44f5-a7dc-0a1f3504b6da",
   "metadata": {},
   "outputs": [],
   "source": [
    "%matplotlib inline"
   ]
  },
  {
   "cell_type": "code",
   "execution_count": 2,
   "id": "preliminary-idaho",
   "metadata": {},
   "outputs": [],
   "source": [
    "import pandas as pd\n",
    "import numpy as np\n",
    "import pathlib\n",
    "import matplotlib.pyplot as plt"
   ]
  },
  {
   "cell_type": "code",
   "execution_count": 3,
   "id": "06959be2",
   "metadata": {},
   "outputs": [],
   "source": [
    "from sklearn.model_selection import train_test_split\n",
    "from sklearn.preprocessing import StandardScaler"
   ]
  },
  {
   "cell_type": "code",
   "execution_count": 4,
   "id": "6174c25d-ba3c-4ac7-bcca-a3d6f107aeda",
   "metadata": {},
   "outputs": [],
   "source": [
    "import prd_pipeline"
   ]
  },
  {
   "cell_type": "markdown",
   "id": "1d725a1c-81b0-4aee-8153-1adc1f398ea4",
   "metadata": {},
   "source": [
    "## Set up azure experiment\n"
   ]
  },
  {
   "cell_type": "code",
   "execution_count": 5,
   "id": "3aff8274-8f96-45d5-92ba-49b2b4569fc3",
   "metadata": {},
   "outputs": [],
   "source": [
    "import azureml.core\n",
    "from azureml.core import Workspace, Datastore, Dataset, Environment\n",
    "from azureml.core import Experiment, ComputeTarget, ScriptRunConfig"
   ]
  },
  {
   "cell_type": "code",
   "execution_count": 6,
   "id": "c4b67b3e-6f9a-4fc5-b555-481a45ccfd28",
   "metadata": {},
   "outputs": [],
   "source": [
    "prd_ws = Workspace.from_config()"
   ]
  },
  {
   "cell_type": "code",
   "execution_count": 7,
   "id": "926b97b0-8097-437f-ad90-2a25002faf75",
   "metadata": {},
   "outputs": [],
   "source": [
    "import tensorflow"
   ]
  },
  {
   "cell_type": "code",
   "execution_count": null,
   "id": "21a6f2ae-8170-4fbd-9e7e-1570d3518764",
   "metadata": {},
   "outputs": [],
   "source": []
  },
  {
   "cell_type": "code",
   "execution_count": 8,
   "id": "8fb97999-4d2f-43dd-bf82-1571c6e60754",
   "metadata": {},
   "outputs": [],
   "source": [
    "use_full_dataset = True\n",
    "if use_full_dataset:\n",
    "    azure_dataset_name ='prd_merged_all_events_files'\n",
    "else:\n",
    "    #  use subset for development.\n",
    "    azure_dataset_name ='prd_merged_202110_nswws_amber_oct_files'"
   ]
  },
  {
   "cell_type": "code",
   "execution_count": 9,
   "id": "8594699d-6f1f-46d8-b76f-0d2bd69d35f1",
   "metadata": {},
   "outputs": [],
   "source": [
    "if use_full_dataset:\n",
    "    cluster_name = 'prd-ml-fractions-cluster'\n",
    "    \n",
    "else:\n",
    "    cluster_name = 'mlops-test'"
   ]
  },
  {
   "cell_type": "code",
   "execution_count": 10,
   "id": "35b08e0c-51b2-4c63-9716-64cbb64f9150",
   "metadata": {},
   "outputs": [],
   "source": [
    "azure_experiment_name='prd_mlops_test'\n",
    "azure_env_name = 'prd_ml_cluster'"
   ]
  },
  {
   "cell_type": "code",
   "execution_count": 11,
   "id": "eb2d0171-1034-4f27-bc3b-d60dd393d943",
   "metadata": {},
   "outputs": [],
   "source": [
    "prd_model_name = 'azml_cluster_demo_20220414'"
   ]
  },
  {
   "cell_type": "code",
   "execution_count": 12,
   "id": "d9c6b52c",
   "metadata": {},
   "outputs": [],
   "source": [
    "target_parameter = 'radar_mean_rain_instant'\n",
    "profile_features = ['air_temperature', 'relative_humidity']\n",
    "single_lvl_features = ['air_pressure_at_sea_level'] "
   ]
  },
  {
   "cell_type": "code",
   "execution_count": 13,
   "id": "db8803a5-41f8-46a7-afcc-5e83b8bcec52",
   "metadata": {},
   "outputs": [
    {
     "data": {
      "text/html": [
       "<table style=\"width:100%\"><tr><th>Name</th><th>Workspace</th><th>Report Page</th><th>Docs Page</th></tr><tr><td>prd_mlops_test</td><td>precip_rediagnosis</td><td><a href=\"https://ml.azure.com/experiments/id/9e2e4de2-7fc3-4217-a9ee-43723f8330ae?wsid=/subscriptions/07efdc52-cd27-48ed-9443-3aad2b6b777b/resourcegroups/precip_rediagnosis/workspaces/precip_rediagnosis&amp;tid=14fec308-b428-4380-b914-c1940f3210f1\" target=\"_blank\" rel=\"noopener\">Link to Azure Machine Learning studio</a></td><td><a href=\"https://docs.microsoft.com/en-us/python/api/azureml-core/azureml.core.experiment.Experiment?view=azure-ml-py\" target=\"_blank\" rel=\"noopener\">Link to Documentation</a></td></tr></table>"
      ],
      "text/plain": [
       "Experiment(Name: prd_mlops_test,\n",
       "Workspace: precip_rediagnosis)"
      ]
     },
     "execution_count": 13,
     "metadata": {},
     "output_type": "execute_result"
    }
   ],
   "source": [
    "prd_exp = Experiment(workspace=prd_ws, name=azure_experiment_name)\n",
    "prd_exp"
   ]
  },
  {
   "cell_type": "markdown",
   "id": "53da16db-dade-4d96-ac38-a6befff7a589",
   "metadata": {},
   "source": [
    "Get the AzML environment (basically a conda environment) from the workspace."
   ]
  },
  {
   "cell_type": "code",
   "execution_count": 14,
   "id": "4847ea97-c949-4cd5-a214-b028a3e531ef",
   "metadata": {},
   "outputs": [],
   "source": [
    "test_run = azureml.core.get_run(prd_exp, 'HD_18fd3ffb-6021-4845-88d0-e706c643a9fa')"
   ]
  },
  {
   "cell_type": "code",
   "execution_count": 15,
   "id": "ec6a8dc0-f36d-49af-994d-92c7f63453aa",
   "metadata": {},
   "outputs": [
    {
     "data": {
      "text/html": [
       "<table style=\"width:100%\"><tr><th>Experiment</th><th>Id</th><th>Type</th><th>Status</th><th>Details Page</th><th>Docs Page</th></tr><tr><td>prd_mlops_test</td><td>HD_18fd3ffb-6021-4845-88d0-e706c643a9fa_0</td><td>azureml.scriptrun</td><td>Completed</td><td><a href=\"https://ml.azure.com/runs/HD_18fd3ffb-6021-4845-88d0-e706c643a9fa_0?wsid=/subscriptions/07efdc52-cd27-48ed-9443-3aad2b6b777b/resourcegroups/precip_rediagnosis/workspaces/precip_rediagnosis&amp;tid=14fec308-b428-4380-b914-c1940f3210f1\" target=\"_blank\" rel=\"noopener\">Link to Azure Machine Learning studio</a></td><td><a href=\"https://docs.microsoft.com/en-us/python/api/azureml-core/azureml.core.run.Run?view=azure-ml-py\" target=\"_blank\" rel=\"noopener\">Link to Documentation</a></td></tr></table>"
      ],
      "text/plain": [
       "Run(Experiment: prd_mlops_test,\n",
       "Id: HD_18fd3ffb-6021-4845-88d0-e706c643a9fa_0,\n",
       "Type: azureml.scriptrun,\n",
       "Status: Completed)"
      ]
     },
     "execution_count": 15,
     "metadata": {},
     "output_type": "execute_result"
    }
   ],
   "source": [
    "test_run.get_best_run_by_primary_metric()"
   ]
  },
  {
   "cell_type": "code",
   "execution_count": 16,
   "id": "16a304bb-23d4-40e3-a0f6-9628efe621dc",
   "metadata": {},
   "outputs": [
    {
     "data": {
      "text/plain": [
       "{\n",
       "    \"assetId\": \"azureml://locations/uksouth/workspaces/57546dc9-9763-4025-831d-c19991c81540/environments/prd_ml_cluster/versions/4\",\n",
       "    \"databricks\": {\n",
       "        \"eggLibraries\": [],\n",
       "        \"jarLibraries\": [],\n",
       "        \"mavenLibraries\": [],\n",
       "        \"pypiLibraries\": [],\n",
       "        \"rcranLibraries\": []\n",
       "    },\n",
       "    \"docker\": {\n",
       "        \"arguments\": [],\n",
       "        \"baseDockerfile\": null,\n",
       "        \"baseImage\": \"azureml/openmpi3.1.2-cuda10.2-cudnn8-ubuntu18.04\",\n",
       "        \"baseImageRegistry\": {\n",
       "            \"address\": \"mcr.microsoft.com\",\n",
       "            \"password\": null,\n",
       "            \"registryIdentity\": null,\n",
       "            \"username\": null\n",
       "        },\n",
       "        \"buildContext\": null,\n",
       "        \"enabled\": false,\n",
       "        \"platform\": {\n",
       "            \"architecture\": \"amd64\",\n",
       "            \"os\": \"Linux\"\n",
       "        },\n",
       "        \"sharedVolumes\": true,\n",
       "        \"shmSize\": null\n",
       "    },\n",
       "    \"environmentVariables\": {},\n",
       "    \"inferencingStackVersion\": null,\n",
       "    \"name\": \"prd_ml_cluster\",\n",
       "    \"python\": {\n",
       "        \"baseCondaEnvironment\": null,\n",
       "        \"condaDependencies\": {\n",
       "            \"channels\": [\n",
       "                \"conda-forge\"\n",
       "            ],\n",
       "            \"dependencies\": [\n",
       "                \"python=3.8\",\n",
       "                \"pandas=1.3\",\n",
       "                \"scikit-learn=1.0\",\n",
       "                \"tensorflow=2.8\",\n",
       "                \"pip\",\n",
       "                {\n",
       "                    \"pip\": [\n",
       "                        \"azureml-defaults\"\n",
       "                    ]\n",
       "                }\n",
       "            ],\n",
       "            \"name\": \"prd_ml_cluster_azml\"\n",
       "        },\n",
       "        \"condaDependenciesFile\": null,\n",
       "        \"interpreterPath\": null,\n",
       "        \"userManagedDependencies\": false\n",
       "    },\n",
       "    \"r\": null,\n",
       "    \"spark\": {\n",
       "        \"packages\": [],\n",
       "        \"precachePackages\": true,\n",
       "        \"repositories\": []\n",
       "    },\n",
       "    \"version\": \"4\"\n",
       "}"
      ]
     },
     "execution_count": 16,
     "metadata": {},
     "output_type": "execute_result"
    }
   ],
   "source": [
    "prd_env = Environment.get(workspace=prd_ws, name=azure_env_name)\n",
    "prd_env"
   ]
  },
  {
   "cell_type": "markdown",
   "id": "wireless-investing",
   "metadata": {},
   "source": [
    "### Load data"
   ]
  },
  {
   "cell_type": "markdown",
   "id": "51ee5da7-5829-4618-af04-17c9cf53473d",
   "metadata": {},
   "source": [
    "Use prd_pipeline to load and preprocess data"
   ]
  },
  {
   "cell_type": "code",
   "execution_count": 17,
   "id": "74635d41-c804-4e3c-93e6-c7141e3dbf17",
   "metadata": {},
   "outputs": [],
   "source": [
    "# import importlib \n",
    "# importlib.reload(prd_cluster_train_demo)"
   ]
  },
  {
   "cell_type": "code",
   "execution_count": 18,
   "id": "17ece588-dfe2-4e31-a2c7-e30a66a90039",
   "metadata": {},
   "outputs": [
    {
     "name": "stdout",
     "output_type": "stream",
     "text": [
      "Volume mount is not enabled. \n",
      "Falling back to dataflow mount.\n",
      "loading all event data\n",
      "CPU times: user 1min 39s, sys: 19.4 s, total: 1min 59s\n",
      "Wall time: 2min 29s\n"
     ]
    }
   ],
   "source": [
    "%%time\n",
    "input_data = prd_pipeline.load_data(\n",
    "    prd_ws,\n",
    "    dataset_name=azure_dataset_name\n",
    ")\n",
    "\n"
   ]
  },
  {
   "cell_type": "code",
   "execution_count": 19,
   "id": "945f18a3-6725-43a8-afa1-cd1854eea5c2",
   "metadata": {},
   "outputs": [
    {
     "data": {
      "text/plain": [
       "['radar_max_rain_aggregate_3hr',\n",
       " 'radar_mean_rain_aggregate_3hr',\n",
       " 'radar_max_rain_instant',\n",
       " 'radar_mean_rain_instant',\n",
       " 'radar_fraction_in_band_aggregate_3hr_0.0',\n",
       " 'radar_fraction_in_band_aggregate_3hr_0.25',\n",
       " 'radar_fraction_in_band_aggregate_3hr_2.5',\n",
       " 'radar_fraction_in_band_aggregate_3hr_7.0',\n",
       " 'radar_fraction_in_band_aggregate_3hr_10.0',\n",
       " 'radar_fraction_in_band_instant_0.0',\n",
       " 'radar_fraction_in_band_instant_0.25',\n",
       " 'radar_fraction_in_band_instant_2.5',\n",
       " 'radar_fraction_in_band_instant_7.0',\n",
       " 'radar_fraction_in_band_instant_10.0']"
      ]
     },
     "execution_count": 19,
     "metadata": {},
     "output_type": "execute_result"
    }
   ],
   "source": [
    "[c1 for c1 in input_data.columns if 'radar' in c1]"
   ]
  },
  {
   "cell_type": "code",
   "execution_count": 20,
   "id": "2e56255e-2f1a-4171-bcc9-c575dcedd3de",
   "metadata": {},
   "outputs": [],
   "source": [
    "do_save_split = False"
   ]
  },
  {
   "cell_type": "code",
   "execution_count": 21,
   "id": "771fb3a5-804d-4b02-95ed-0e0346a57c39",
   "metadata": {},
   "outputs": [
    {
     "name": "stdout",
     "output_type": "stream",
     "text": [
      "target has dims: 23\n",
      "dropping zeros\n",
      "getting profile columns\n",
      "['relative_humidity_5.0', 'relative_humidity_10.0', 'relative_humidity_20.0', 'relative_humidity_30.0', 'relative_humidity_50.0', 'relative_humidity_75.0', 'relative_humidity_100.0', 'relative_humidity_150.0', 'relative_humidity_200.0', 'relative_humidity_250.0', 'relative_humidity_300.0', 'relative_humidity_400.0', 'relative_humidity_500.0', 'relative_humidity_600.0', 'relative_humidity_700.0', 'relative_humidity_800.0', 'relative_humidity_1000.0', 'relative_humidity_1250.0', 'relative_humidity_1500.0', 'relative_humidity_1750.0', 'relative_humidity_2000.0', 'relative_humidity_2250.0', 'relative_humidity_2500.0', 'relative_humidity_2750.0', 'relative_humidity_3000.0', 'relative_humidity_3250.0', 'relative_humidity_3500.0', 'relative_humidity_3750.0', 'relative_humidity_4000.0', 'relative_humidity_4500.0', 'relative_humidity_5000.0', 'relative_humidity_5500.0', 'relative_humidity_6000.0', 'air_temperature_5.0', 'air_temperature_10.0', 'air_temperature_20.0', 'air_temperature_30.0', 'air_temperature_50.0', 'air_temperature_75.0', 'air_temperature_100.0', 'air_temperature_150.0', 'air_temperature_200.0', 'air_temperature_250.0', 'air_temperature_300.0', 'air_temperature_400.0', 'air_temperature_500.0', 'air_temperature_600.0', 'air_temperature_700.0', 'air_temperature_800.0', 'air_temperature_1000.0', 'air_temperature_1250.0', 'air_temperature_1500.0', 'air_temperature_1750.0', 'air_temperature_2000.0', 'air_temperature_2250.0', 'air_temperature_2500.0', 'air_temperature_2750.0', 'air_temperature_3000.0', 'air_temperature_3250.0', 'air_temperature_3500.0', 'air_temperature_3750.0', 'air_temperature_4000.0', 'air_temperature_4500.0', 'air_temperature_5000.0', 'air_temperature_5500.0', 'air_temperature_6000.0']\n",
      "{'profile': ['air_temperature', 'relative_humidity'], 'single_level': ['air_pressure_at_sea_level'], 'target': 'radar_mean_rain_instant'}\n",
      "CPU times: user 10.9 s, sys: 14.2 s, total: 25.1 s\n",
      "Wall time: 32.4 s\n"
     ]
    }
   ],
   "source": [
    "%%time\n",
    "if do_save_split:\n",
    "    data_splits, data_dims = prd_pipeline.preprocess_data(\n",
    "        input_data,\n",
    "        test_fraction=0.2,\n",
    "        feature_dict={'profile': profile_features, 'single_level': single_lvl_features,'target': target_parameter,},\n",
    "        test_savefn='tmp.csv',\n",
    "    )\n",
    "else:\n",
    "    data_splits, data_dims = prd_pipeline.preprocess_data(\n",
    "        input_data,\n",
    "        test_fraction=0.2,\n",
    "        feature_dict={'profile': profile_features, 'single_level': single_lvl_features,'target': target_parameter,},\n",
    "    )\n",
    "    "
   ]
  },
  {
   "cell_type": "code",
   "execution_count": 22,
   "id": "d6617411-75b6-440b-bf21-eed2570e71d0",
   "metadata": {},
   "outputs": [],
   "source": [
    "# these are example calls to the code for easier debugging than running on a separate cluster\n",
    "# model = prd_cluster_train_demo.build_model(**data_dims)\n",
    "# model = prd_cluster_train_demo.train_model(model, data_splits)"
   ]
  },
  {
   "cell_type": "code",
   "execution_count": 23,
   "id": "d7243f14-bdd5-4348-ad0e-bf8729197580",
   "metadata": {},
   "outputs": [],
   "source": [
    "import datetime\n",
    "log_dir = 'logs/fit/' + datetime.datetime.now().strftime('%Y%m%d-%H%M%S')"
   ]
  },
  {
   "cell_type": "markdown",
   "id": "6879705d-02a5-457a-81dd-a2efcc3a0d3c",
   "metadata": {
    "tags": []
   },
   "source": [
    "### Execute our training run on a cluster with hyperdrive for parallelised hyperparameter tuning"
   ]
  },
  {
   "cell_type": "code",
   "execution_count": 24,
   "id": "a7a3dbb3-5277-4bb8-924e-de9f5e3f5975",
   "metadata": {},
   "outputs": [],
   "source": [
    "from azureml.train.hyperdrive import GridParameterSampling, BanditPolicy, HyperDriveConfig, PrimaryMetricGoal, RandomParameterSampling\n",
    "from azureml.train.hyperdrive import choice, loguniform"
   ]
  },
  {
   "cell_type": "code",
   "execution_count": 25,
   "id": "ee033e3d-f70c-4833-827e-c47272b8327f",
   "metadata": {},
   "outputs": [
    {
     "data": {
      "text/plain": [
       "AmlCompute(workspace=Workspace.create(name='precip_rediagnosis', subscription_id='07efdc52-cd27-48ed-9443-3aad2b6b777b', resource_group='precip_rediagnosis'), name=prd-ml-fractions-cluster, id=/subscriptions/07efdc52-cd27-48ed-9443-3aad2b6b777b/resourceGroups/precip_rediagnosis/providers/Microsoft.MachineLearningServices/workspaces/precip_rediagnosis/computes/prd-ml-fractions-cluster, type=AmlCompute, provisioning_state=Succeeded, location=uksouth, tags={})"
      ]
     },
     "execution_count": 25,
     "metadata": {},
     "output_type": "execute_result"
    }
   ],
   "source": [
    "prd_demo_compute_target = ComputeTarget(workspace=prd_ws, name=cluster_name)\n",
    "prd_demo_compute_target"
   ]
  },
  {
   "cell_type": "markdown",
   "id": "f6cc6baf-36fc-4ab5-a1c3-d0efcb4eb606",
   "metadata": {},
   "source": [
    "Hyperparameters that we want to vary using hyperdrive need to be input arguments for the prd_cluster_train_demo.py script which is called through ScriptRunConfig. Hyperparameters set in prd_demo_args will be overwritten by Hyperdrive. "
   ]
  },
  {
   "cell_type": "code",
   "execution_count": 26,
   "id": "3a62443a-febf-44a3-85ee-7d0d835ab6c2",
   "metadata": {},
   "outputs": [],
   "source": [
    "nepochs = 1"
   ]
  },
  {
   "cell_type": "code",
   "execution_count": 27,
   "id": "6581fbf3-ec63-4ddb-9346-c1db7f6ff527",
   "metadata": {},
   "outputs": [
    {
     "data": {
      "text/plain": [
       "['--dataset-name',\n",
       " 'prd_merged_all_events_files',\n",
       " '--target-parameter',\n",
       " 'radar_mean_rain_instant',\n",
       " '--model-name',\n",
       " 'azml_cluster_demo_20220414',\n",
       " '--profile-features',\n",
       " 'air_temperature',\n",
       " 'relative_humidity',\n",
       " '--single-level_features',\n",
       " 'air_pressure_at_sea_level',\n",
       " '--epochs',\n",
       " 1,\n",
       " '--batch-size',\n",
       " 128,\n",
       " '--learning-rate',\n",
       " 0.01,\n",
       " '--test-fraction',\n",
       " 0.2,\n",
       " '--log-dir',\n",
       " 'logs/fit/20220928-222609']"
      ]
     },
     "execution_count": 27,
     "metadata": {},
     "output_type": "execute_result"
    }
   ],
   "source": [
    "prd_demo_args = ['--dataset-name', azure_dataset_name,\n",
    "                 '--target-parameter', target_parameter,\n",
    "                 '--model-name', prd_model_name,\n",
    "                ]\n",
    "\n",
    "prd_demo_args += ['--profile-features']\n",
    "prd_demo_args += profile_features\n",
    "prd_demo_args += ['--single-level_features']\n",
    "prd_demo_args += single_lvl_features\n",
    "prd_demo_args += ['--epochs', nepochs]\n",
    "prd_demo_args += ['--batch-size', 128]\n",
    "prd_demo_args += ['--learning-rate', 0.01]\n",
    "prd_demo_args += ['--test-fraction', 0.2]\n",
    "prd_demo_args += ['--log-dir', log_dir]\n",
    "prd_demo_args"
   ]
  },
  {
   "cell_type": "code",
   "execution_count": 28,
   "id": "2d88bc53-20b9-4413-918a-1e0dbf724021",
   "metadata": {},
   "outputs": [
    {
     "data": {
      "text/plain": [
       "'/mnt/batch/tasks/shared/LS_root/mounts/clusters/prd-ml-pipeline/code/Users/stephen.haddad/precip_rediagnosis/model_pipeline'"
      ]
     },
     "execution_count": 28,
     "metadata": {},
     "output_type": "execute_result"
    }
   ],
   "source": [
    "os.getcwd()"
   ]
  },
  {
   "cell_type": "code",
   "execution_count": 29,
   "id": "a552930a-a4d3-477c-9486-0071247cf723",
   "metadata": {},
   "outputs": [],
   "source": [
    "prd_run_src = ScriptRunConfig(source_directory=os.getcwd(),\n",
    "                      script='prd_cluster_train_demo.py',\n",
    "                      arguments=prd_demo_args,\n",
    "                      compute_target=prd_demo_compute_target,\n",
    "                      environment=prd_env)"
   ]
  },
  {
   "cell_type": "markdown",
   "id": "bd0125cb-3a5f-4706-bad3-c1ca03a2779d",
   "metadata": {
    "tags": []
   },
   "source": [
    "### HyperDrive configuration"
   ]
  },
  {
   "cell_type": "markdown",
   "id": "ee8e8844-33bd-4c68-beab-7085cc05b2b9",
   "metadata": {},
   "source": [
    "The next step is to configure our HyperDrive run. The run config defined above is passed to our HyperDriveConfig as the run_config. We must provide a <code>hyperparameter_sampling</code> explained in more detail below. We are required to also provide the <code>primary_metric_name</code> (either be the models loss function or a metric define when compiling the model) and the <code>primary_metric_goal</code> to either minimize or maximize this metric. We must also define <code>max_total_runs</code> (the upper bound of the number of runs, may be smaller depending on the defined hyperparameter space and sampling strategy) and <code>max_concurrent_runs</code>, if this is set to None all run are launched in parallel.\n",
    "There is also the option to define an early stopping policy with the <code>policy</code> argument."
   ]
  },
  {
   "cell_type": "markdown",
   "id": "167355bf-5a04-44d6-9273-04f465e87df3",
   "metadata": {},
   "source": [
    "#### Hyperparameter sampling"
   ]
  },
  {
   "cell_type": "markdown",
   "id": "32082137-3ea6-4818-934e-aa28fdbc58fe",
   "metadata": {},
   "source": [
    "There are three different classes for sampling the hyperparameter space: \n",
    "- <code>GridParameterSampling</code>: define a search space as a grid of hyperparameter based on the given hyperparameter space, then evaluates every position in the grid in order (note if max_total_runs < total potential combinations, then this will only run a subsample of the grid).\n",
    "- <code>RandomParameterSampling</code>: randomly samples hyperparameter combinations from the hyperparameter space \n",
    "- <code>BayesianParameterSampling</code>: defines Bayesian sampling over a hyperparameter space, tries to intelligently pick the next sample of hyperparameters based on how the previous samples performed."
   ]
  },
  {
   "cell_type": "markdown",
   "id": "21fd446e-b6e3-4645-8f09-0f0da67da0e7",
   "metadata": {},
   "source": [
    "We then define the hyperparameter space from which to select the combination of hyperparameters to assess. The hyperparameters that we want to tune should be input arguments to the script which is being run by ScriptRunConfig and any hyperparameter arguments that are input will be overwritten by hyperdrive."
   ]
  },
  {
   "cell_type": "markdown",
   "id": "d45e4a7f-cc5e-44c1-b2f5-c268cf0660ca",
   "metadata": {},
   "source": [
    "In AzureML, there are different ways to define the set to sample each hyperparameters from (<code>choice</code>, <code>lognormal</code>, <code>loguniform</code>, <code>normal</code>, <code>qlognormal</code>, <code>qloguniform</code>, <code>qnormal</code>, <code>quniform</code>, <code>randint</code> and <code>uniform</code>)."
   ]
  },
  {
   "cell_type": "code",
   "execution_count": 30,
   "id": "9671b840-0b15-4933-bc53-e5f405d197b5",
   "metadata": {},
   "outputs": [],
   "source": [
    "ps = RandomParameterSampling(\n",
    "    {\n",
    "        '--batch-size': choice(32, 64, 128),\n",
    "        '--learning-rate': loguniform(-6, -1)\n",
    "    }\n",
    ")"
   ]
  },
  {
   "cell_type": "markdown",
   "id": "ab24eb43-359f-4f06-aaad-a6b7cbc25dba",
   "metadata": {},
   "source": [
    "#### Early stopping policy"
   ]
  },
  {
   "cell_type": "markdown",
   "id": "3147b493-4ab8-4c1a-8b7f-28171b60f105",
   "metadata": {},
   "source": [
    "We can define an early stopping policy in which means that any poorly performing experiment runs are canceled and new ones started. Here we use BanditPolicy with a slack criteria of 0.1 (the ratio of slack allowed with respect to the best performing training run) and evaluation internal of 2 (the frequency for applying the policy, here every two training steps)."
   ]
  },
  {
   "cell_type": "code",
   "execution_count": 31,
   "id": "6444f095-f0bd-4d26-918c-fc2a3e9ee33a",
   "metadata": {},
   "outputs": [],
   "source": [
    "early_stop_policy = BanditPolicy(evaluation_interval=2, slack_factor=0.1)"
   ]
  },
  {
   "cell_type": "code",
   "execution_count": 32,
   "id": "bbdf1f6c-7b43-4ea4-8adb-137625dc05fa",
   "metadata": {},
   "outputs": [],
   "source": [
    "htc = HyperDriveConfig(run_config=prd_run_src, \n",
    "                       hyperparameter_sampling=ps, \n",
    "                       policy=early_stop_policy, \n",
    "                       primary_metric_name='mean_absolute_error', \n",
    "                       primary_metric_goal=PrimaryMetricGoal.MINIMIZE, \n",
    "                       max_total_runs=4,\n",
    "                       max_concurrent_runs=4)"
   ]
  },
  {
   "cell_type": "markdown",
   "id": "289a6909-d3f1-44c3-9178-2122015366f3",
   "metadata": {
    "tags": []
   },
   "source": [
    "### HyperDrive running"
   ]
  },
  {
   "cell_type": "code",
   "execution_count": 33,
   "id": "26f24060-af81-4ab6-b1cd-37e92997c493",
   "metadata": {},
   "outputs": [
    {
     "data": {
      "text/html": [
       "<table style=\"width:100%\"><tr><th>Experiment</th><th>Id</th><th>Type</th><th>Status</th><th>Details Page</th><th>Docs Page</th></tr><tr><td>prd_mlops_test</td><td>HD_a7adf1dd-cfb8-4d35-b1df-4a719c4c499c</td><td>hyperdrive</td><td>Running</td><td><a href=\"https://ml.azure.com/runs/HD_a7adf1dd-cfb8-4d35-b1df-4a719c4c499c?wsid=/subscriptions/07efdc52-cd27-48ed-9443-3aad2b6b777b/resourcegroups/precip_rediagnosis/workspaces/precip_rediagnosis&amp;tid=14fec308-b428-4380-b914-c1940f3210f1\" target=\"_blank\" rel=\"noopener\">Link to Azure Machine Learning studio</a></td><td><a href=\"https://docs.microsoft.com/en-us/python/api/overview/azure/ml/intro?view=azure-ml-py\" target=\"_blank\" rel=\"noopener\">Link to Documentation</a></td></tr></table>"
      ],
      "text/plain": [
       "Run(Experiment: prd_mlops_test,\n",
       "Id: HD_a7adf1dd-cfb8-4d35-b1df-4a719c4c499c,\n",
       "Type: hyperdrive,\n",
       "Status: Running)"
      ]
     },
     "execution_count": 33,
     "metadata": {},
     "output_type": "execute_result"
    }
   ],
   "source": [
    "prd_run = prd_exp.submit(htc)\n",
    "prd_run"
   ]
  },
  {
   "cell_type": "code",
   "execution_count": 41,
   "id": "30802214-52fe-45fb-816e-c5d72001c208",
   "metadata": {},
   "outputs": [],
   "source": [
    "prd_run.wait_for_completion()\n",
    "assert(prd_run.get_status() == \"Completed\")"
   ]
  },
  {
   "cell_type": "markdown",
   "id": "0e4d7f93-6215-4a88-a4fa-92f20fb64235",
   "metadata": {},
   "source": [
    "### HyperDrive results"
   ]
  },
  {
   "cell_type": "markdown",
   "id": "be204b61-73df-4ce0-868d-82469a75b1cf",
   "metadata": {},
   "source": [
    "We can then select the model which performs best against the selected primary metric, as defined within the HyperDriveConfig."
   ]
  },
  {
   "cell_type": "markdown",
   "id": "f6a789bb-5160-44da-865c-13938669e761",
   "metadata": {},
   "source": [
    "prd_best_run = prd_run.get_best_run_by_primary_metric()\n",
    "prd_best_run"
   ]
  },
  {
   "cell_type": "markdown",
   "id": "f54bab5c-211e-4585-bd3e-c18789ca6e3a",
   "metadata": {},
   "source": [
    "We can also return information from each of the different hyperdrive child run"
   ]
  },
  {
   "cell_type": "code",
   "execution_count": 54,
   "id": "ab298067-1005-4477-98b2-abf468b11948",
   "metadata": {},
   "outputs": [
    {
     "data": {
      "text/html": [
       "<table style=\"width:100%\"><tr><th>Experiment</th><th>Id</th><th>Type</th><th>Status</th><th>Details Page</th><th>Docs Page</th></tr><tr><td>prd_mlops_test</td><td>HD_a7adf1dd-cfb8-4d35-b1df-4a719c4c499c_2</td><td>azureml.scriptrun</td><td>Completed</td><td><a href=\"https://ml.azure.com/runs/HD_a7adf1dd-cfb8-4d35-b1df-4a719c4c499c_2?wsid=/subscriptions/07efdc52-cd27-48ed-9443-3aad2b6b777b/resourcegroups/precip_rediagnosis/workspaces/precip_rediagnosis&amp;tid=14fec308-b428-4380-b914-c1940f3210f1\" target=\"_blank\" rel=\"noopener\">Link to Azure Machine Learning studio</a></td><td><a href=\"https://docs.microsoft.com/en-us/python/api/azureml-core/azureml.core.run.Run?view=azure-ml-py\" target=\"_blank\" rel=\"noopener\">Link to Documentation</a></td></tr></table>"
      ],
      "text/plain": [
       "Run(Experiment: prd_mlops_test,\n",
       "Id: HD_a7adf1dd-cfb8-4d35-b1df-4a719c4c499c_2,\n",
       "Type: azureml.scriptrun,\n",
       "Status: Completed)"
      ]
     },
     "execution_count": 54,
     "metadata": {},
     "output_type": "execute_result"
    }
   ],
   "source": [
    "prd_best_run"
   ]
  },
  {
   "cell_type": "code",
   "execution_count": 49,
   "id": "4bb2680d-942e-4993-86c5-3b85cc30eb1d",
   "metadata": {},
   "outputs": [],
   "source": [
    "import tempfile"
   ]
  },
  {
   "cell_type": "code",
   "execution_count": 50,
   "id": "e059c8f2-df24-4a09-85af-93f7d7df0bce",
   "metadata": {},
   "outputs": [
    {
     "name": "stdout",
     "output_type": "stream",
     "text": [
      "/tmp/tmpwx2wjjzp\n",
      "/tmp/tmpwx2wjjzp/azml_cluster_demo_20220414\n"
     ]
    },
    {
     "name": "stderr",
     "output_type": "stream",
     "text": [
      "2022-09-29 09:07:38.543726: I tensorflow/core/platform/cpu_feature_guard.cc:151] This TensorFlow binary is optimized with oneAPI Deep Neural Network Library (oneDNN) to use the following CPU instructions in performance-critical operations:  SSE4.1 SSE4.2 AVX AVX2 FMA\n",
      "To enable them in other operations, rebuild TensorFlow with the appropriate compiler flags.\n"
     ]
    },
    {
     "data": {
      "text/plain": [
       "<keras.engine.functional.Functional at 0x7f156b4ddd90>"
      ]
     },
     "execution_count": 50,
     "metadata": {},
     "output_type": "execute_result"
    }
   ],
   "source": [
    "with tempfile.TemporaryDirectory() as td1:\n",
    "    td_path = pathlib.Path(td1)\n",
    "    print(td_path)\n",
    "    prd_best_run.download_files(prefix=prd_model_name, output_directory=td1)\n",
    "    model_path = td_path / prd_model_name\n",
    "    print(model_path)\n",
    "    list(model_path.iterdir())\n",
    "    trained_model = tensorflow.keras.models.load_model(model_path)\n",
    "trained_model"
   ]
  },
  {
   "cell_type": "code",
   "execution_count": 51,
   "id": "4968718d-3a51-43aa-8095-f46d3f8c7a21",
   "metadata": {},
   "outputs": [
    {
     "data": {
      "text/plain": [
       "<keras.engine.functional.Functional at 0x7f156b4ddd90>"
      ]
     },
     "execution_count": 51,
     "metadata": {},
     "output_type": "execute_result"
    }
   ],
   "source": [
    "trained_model"
   ]
  },
  {
   "cell_type": "code",
   "execution_count": 53,
   "id": "15f139fb-bc35-452e-b1d8-e9480ee33bc5",
   "metadata": {},
   "outputs": [
    {
     "data": {
      "text/plain": [
       "array([[0.15438266],\n",
       "       [0.15438266],\n",
       "       [0.15438266],\n",
       "       ...,\n",
       "       [0.15438266],\n",
       "       [0.15438266],\n",
       "       [0.15438266]], dtype=float32)"
      ]
     },
     "execution_count": 53,
     "metadata": {},
     "output_type": "execute_result"
    }
   ],
   "source": [
    "trained_model.predict(data_splits['X_val'])"
   ]
  },
  {
   "cell_type": "code",
   "execution_count": 43,
   "id": "73e0e925-cc04-414f-9f24-7b509e0c451e",
   "metadata": {},
   "outputs": [
    {
     "data": {
      "text/plain": [
       "[{'run_id': 'HD_a7adf1dd-cfb8-4d35-b1df-4a719c4c499c_2',\n",
       "  'hyperparameters': '{\"--batch-size\": 64, \"--learning-rate\": 0.1076598586738495}',\n",
       "  'best_primary_metric': 1.9538762494397507e+30,\n",
       "  'status': 'Completed'},\n",
       " {'run_id': 'HD_a7adf1dd-cfb8-4d35-b1df-4a719c4c499c_0',\n",
       "  'hyperparameters': '{\"--batch-size\": 32, \"--learning-rate\": 0.12068074221367489}',\n",
       "  'best_primary_metric': 2.0789955060618905e+30,\n",
       "  'status': 'Completed'},\n",
       " {'run_id': 'HD_a7adf1dd-cfb8-4d35-b1df-4a719c4c499c_1',\n",
       "  'hyperparameters': '{\"--batch-size\": 32, \"--learning-rate\": 0.09173612513011196}',\n",
       "  'best_primary_metric': 2.159375022937697e+30,\n",
       "  'status': 'Completed'},\n",
       " {'run_id': 'HD_a7adf1dd-cfb8-4d35-b1df-4a719c4c499c_3',\n",
       "  'hyperparameters': '{\"--batch-size\": 32, \"--learning-rate\": 0.003330776141701076}',\n",
       "  'best_primary_metric': 2.8497554945720076e+30,\n",
       "  'status': 'Completed'}]"
      ]
     },
     "execution_count": 43,
     "metadata": {},
     "output_type": "execute_result"
    }
   ],
   "source": [
    "prd_run.get_children_sorted_by_primary_metric()"
   ]
  },
  {
   "cell_type": "code",
   "execution_count": 44,
   "id": "2d9bb4ee-1bfa-4c39-976e-4686172ac594",
   "metadata": {},
   "outputs": [
    {
     "data": {
      "text/plain": [
       "{'HD_a7adf1dd-cfb8-4d35-b1df-4a719c4c499c_1': {'mean_absolute_error': 2.159375022937697e+30,\n",
       "  'R-squared score': -5.3476372861016586e-05},\n",
       " 'HD_a7adf1dd-cfb8-4d35-b1df-4a719c4c499c_3': {'mean_absolute_error': 2.8497554945720076e+30,\n",
       "  'R-squared score': -6.0732208369662644e-05},\n",
       " 'HD_a7adf1dd-cfb8-4d35-b1df-4a719c4c499c_2': {'mean_absolute_error': 1.9538762494397507e+30,\n",
       "  'R-squared score': -4.675980544988079e-05},\n",
       " 'HD_a7adf1dd-cfb8-4d35-b1df-4a719c4c499c_0': {'mean_absolute_error': 2.0789955060618905e+30,\n",
       "  'R-squared score': -5.448359881343734e-05}}"
      ]
     },
     "execution_count": 44,
     "metadata": {},
     "output_type": "execute_result"
    }
   ],
   "source": [
    "prd_run.get_metrics()"
   ]
  },
  {
   "cell_type": "code",
   "execution_count": 45,
   "id": "b06ec2fa-2f05-4e13-aa11-4ac419e34fec",
   "metadata": {},
   "outputs": [
    {
     "data": {
      "text/plain": [
       "{'HD_18fd3ffb-6021-4845-88d0-e706c643a9fa_0': {'mean_absolute_error': 14.027489237225254,\n",
       "  'R-squared score': 0.586384162867827},\n",
       " 'HD_18fd3ffb-6021-4845-88d0-e706c643a9fa_1': {'mean_absolute_error': 14.818366171589505,\n",
       "  'R-squared score': 0.49815163454629796},\n",
       " 'HD_18fd3ffb-6021-4845-88d0-e706c643a9fa_3': {'mean_absolute_error': 14.964776840180555,\n",
       "  'R-squared score': 0.5118016772403515},\n",
       " 'HD_18fd3ffb-6021-4845-88d0-e706c643a9fa_2': {'mean_absolute_error': 14.473514401967618,\n",
       "  'R-squared score': 0.5935323290592469}}"
      ]
     },
     "execution_count": 45,
     "metadata": {},
     "output_type": "execute_result"
    }
   ],
   "source": [
    "test_run.get_metrics()"
   ]
  },
  {
   "cell_type": "code",
   "execution_count": 46,
   "id": "c11a3bfe-a0b1-4369-acf2-6215f968d951",
   "metadata": {},
   "outputs": [
    {
     "data": {
      "text/plain": [
       "{'HD_a7adf1dd-cfb8-4d35-b1df-4a719c4c499c_0': '{\"--batch-size\": 32, \"--learning-rate\": 0.12068074221367489}',\n",
       " 'HD_a7adf1dd-cfb8-4d35-b1df-4a719c4c499c_1': '{\"--batch-size\": 32, \"--learning-rate\": 0.09173612513011196}',\n",
       " 'HD_a7adf1dd-cfb8-4d35-b1df-4a719c4c499c_2': '{\"--batch-size\": 64, \"--learning-rate\": 0.1076598586738495}',\n",
       " 'HD_a7adf1dd-cfb8-4d35-b1df-4a719c4c499c_3': '{\"--batch-size\": 32, \"--learning-rate\": 0.003330776141701076}'}"
      ]
     },
     "execution_count": 46,
     "metadata": {},
     "output_type": "execute_result"
    }
   ],
   "source": [
    "prd_run.get_hyperparameters()"
   ]
  },
  {
   "cell_type": "code",
   "execution_count": 47,
   "id": "75d96c5e-8648-4b90-b326-3b9f8c22d0ad",
   "metadata": {},
   "outputs": [
    {
     "data": {
      "text/plain": [
       "{'HD_18fd3ffb-6021-4845-88d0-e706c643a9fa_0': '{\"--batch-size\": 32, \"--learning-rate\": 0.001}',\n",
       " 'HD_18fd3ffb-6021-4845-88d0-e706c643a9fa_1': '{\"--batch-size\": 32, \"--learning-rate\": 0.01}',\n",
       " 'HD_18fd3ffb-6021-4845-88d0-e706c643a9fa_2': '{\"--batch-size\": 64, \"--learning-rate\": 0.001}',\n",
       " 'HD_18fd3ffb-6021-4845-88d0-e706c643a9fa_3': '{\"--batch-size\": 64, \"--learning-rate\": 0.01}'}"
      ]
     },
     "execution_count": 47,
     "metadata": {},
     "output_type": "execute_result"
    }
   ],
   "source": [
    "test_run.get_hyperparameters()"
   ]
  },
  {
   "cell_type": "code",
   "execution_count": null,
   "id": "d14cd7f9-d0f9-48f6-a4e5-1c27fd53bd11",
   "metadata": {},
   "outputs": [],
   "source": []
  }
 ],
 "metadata": {
  "kernelspec": {
   "display_name": "PRd ML Training AzML",
   "language": "python",
   "name": "kernel_prd_ml"
  },
  "language_info": {
   "codemirror_mode": {
    "name": "ipython",
    "version": 3
   },
   "file_extension": ".py",
   "mimetype": "text/x-python",
   "name": "python",
   "nbconvert_exporter": "python",
   "pygments_lexer": "ipython3",
   "version": "3.8.13"
  }
 },
 "nbformat": 4,
 "nbformat_minor": 5
}
