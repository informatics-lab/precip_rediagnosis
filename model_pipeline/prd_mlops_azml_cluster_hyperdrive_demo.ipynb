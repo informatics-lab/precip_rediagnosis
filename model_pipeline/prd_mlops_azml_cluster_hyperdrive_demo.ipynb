{
 "cells": [
  {
   "cell_type": "markdown",
   "id": "ab1bbb98-47fb-42a8-8c95-68294bbc5f57",
   "metadata": {},
   "source": [
    "# HyperDrive demo notebook"
   ]
  },
  {
   "cell_type": "markdown",
   "id": "132d2586-62ec-4dd8-8b13-888d24b45b6a",
   "metadata": {},
   "source": [
    "This notebook will demostrate the use of the AzureML tool HyperDrive which allows for distributed hyperparameter tuning."
   ]
  },
  {
   "cell_type": "markdown",
   "id": "c89219fc-6c15-4b08-a09b-7e1a275e28ae",
   "metadata": {},
   "source": [
    " Hyperparameters are used to control the training of a machine learning model and hyperparameter tuning is the problem of choosing a set of optimal hyperparameters for a learning algorithm for the specific application. This requires compiling and training a model over and over with different combinations of hyperparameters in a defined hyperparameter space, so the process can be very time intensive. Parallelising this processing can significantly increase the time efficiency of this process. "
   ]
  },
  {
   "cell_type": "code",
   "execution_count": 26,
   "id": "70cc5013-7b6d-44f5-a7dc-0a1f3504b6da",
   "metadata": {},
   "outputs": [],
   "source": [
    "%matplotlib inline"
   ]
  },
  {
   "cell_type": "code",
   "execution_count": 27,
   "id": "preliminary-idaho",
   "metadata": {},
   "outputs": [],
   "source": [
    "import pandas as pd\n",
    "import numpy as np\n",
    "import pathlib\n",
    "import matplotlib.pyplot as plt"
   ]
  },
  {
   "cell_type": "code",
   "execution_count": 28,
   "id": "06959be2",
   "metadata": {},
   "outputs": [],
   "source": [
    "from sklearn.model_selection import train_test_split\n",
    "from sklearn.preprocessing import StandardScaler"
   ]
  },
  {
   "cell_type": "code",
   "execution_count": 29,
   "id": "6174c25d-ba3c-4ac7-bcca-a3d6f107aeda",
   "metadata": {},
   "outputs": [],
   "source": [
    "import prd_pipeline"
   ]
  },
  {
   "cell_type": "markdown",
   "id": "1d725a1c-81b0-4aee-8153-1adc1f398ea4",
   "metadata": {},
   "source": [
    "## Set up azure experiment\n"
   ]
  },
  {
   "cell_type": "code",
   "execution_count": 30,
   "id": "3aff8274-8f96-45d5-92ba-49b2b4569fc3",
   "metadata": {},
   "outputs": [],
   "source": [
    "import azureml.core\n",
    "from azureml.core import Workspace, Datastore, Dataset, Environment\n",
    "from azureml.core import Experiment, ComputeTarget, ScriptRunConfig"
   ]
  },
  {
   "cell_type": "code",
   "execution_count": 31,
   "id": "c4b67b3e-6f9a-4fc5-b555-481a45ccfd28",
   "metadata": {},
   "outputs": [],
   "source": [
    "prd_ws = Workspace.from_config()"
   ]
  },
  {
   "cell_type": "code",
   "execution_count": 1,
   "id": "8fb97999-4d2f-43dd-bf82-1571c6e60754",
   "metadata": {},
   "outputs": [],
   "source": [
    "use_full_dataset = False\n",
    "if use_full_dataset:\n",
    "    azure_dataset_name ='prd_merged_all_events_files'\n",
    "else:\n",
    "    #  use subset for development.\n",
    "    azure_dataset_name ='prd_merged_202110_nswws_amber_oct_files'"
   ]
  },
  {
   "cell_type": "code",
   "execution_count": 32,
   "id": "35b08e0c-51b2-4c63-9716-64cbb64f9150",
   "metadata": {},
   "outputs": [],
   "source": [
    "\n",
    "azure_experiment_name='prd_mlops_test'\n",
    "azure_env_name = 'prd_ml_cluster'\n",
    "cluster_name = 'mlops-test'"
   ]
  },
  {
   "cell_type": "code",
   "execution_count": 33,
   "id": "eb2d0171-1034-4f27-bc3b-d60dd393d943",
   "metadata": {},
   "outputs": [],
   "source": [
    "prd_model_name = 'azml_cluster_demo_20220414'"
   ]
  },
  {
   "cell_type": "code",
   "execution_count": 34,
   "id": "d9c6b52c",
   "metadata": {},
   "outputs": [],
   "source": [
    "target_parameter = 'rainfall_rate_composite'\n",
    "profile_features = ['air_temperature', 'relative_humidity']\n",
    "single_lvl_features = ['air_pressure_at_sea_level'] "
   ]
  },
  {
   "cell_type": "code",
   "execution_count": 35,
   "id": "db8803a5-41f8-46a7-afcc-5e83b8bcec52",
   "metadata": {},
   "outputs": [
    {
     "data": {
      "text/html": [
       "<table style=\"width:100%\"><tr><th>Name</th><th>Workspace</th><th>Report Page</th><th>Docs Page</th></tr><tr><td>prd_mlops_test</td><td>precip_rediagnosis</td><td><a href=\"https://ml.azure.com/experiments/id/9e2e4de2-7fc3-4217-a9ee-43723f8330ae?wsid=/subscriptions/07efdc52-cd27-48ed-9443-3aad2b6b777b/resourcegroups/precip_rediagnosis/workspaces/precip_rediagnosis&amp;tid=14fec308-b428-4380-b914-c1940f3210f1\" target=\"_blank\" rel=\"noopener\">Link to Azure Machine Learning studio</a></td><td><a href=\"https://docs.microsoft.com/en-us/python/api/azureml-core/azureml.core.experiment.Experiment?view=azure-ml-py\" target=\"_blank\" rel=\"noopener\">Link to Documentation</a></td></tr></table>"
      ],
      "text/plain": [
       "Experiment(Name: prd_mlops_test,\n",
       "Workspace: precip_rediagnosis)"
      ]
     },
     "execution_count": 35,
     "metadata": {},
     "output_type": "execute_result"
    }
   ],
   "source": [
    "prd_exp = Experiment(workspace=prd_ws, name=azure_experiment_name)\n",
    "prd_exp"
   ]
  },
  {
   "cell_type": "markdown",
   "id": "53da16db-dade-4d96-ac38-a6befff7a589",
   "metadata": {},
   "source": [
    "Get the AzML environment (basically a conda environment) from the workspace."
   ]
  },
  {
   "cell_type": "code",
   "execution_count": 41,
   "id": "4847ea97-c949-4cd5-a214-b028a3e531ef",
   "metadata": {},
   "outputs": [],
   "source": [
    "test_run = azureml.core.get_run(prd_exp, 'HD_18fd3ffb-6021-4845-88d0-e706c643a9fa')"
   ]
  },
  {
   "cell_type": "code",
   "execution_count": 42,
   "id": "ec6a8dc0-f36d-49af-994d-92c7f63453aa",
   "metadata": {},
   "outputs": [
    {
     "data": {
      "text/html": [
       "<table style=\"width:100%\"><tr><th>Experiment</th><th>Id</th><th>Type</th><th>Status</th><th>Details Page</th><th>Docs Page</th></tr><tr><td>prd_mlops_test</td><td>HD_18fd3ffb-6021-4845-88d0-e706c643a9fa_0</td><td>azureml.scriptrun</td><td>Completed</td><td><a href=\"https://ml.azure.com/runs/HD_18fd3ffb-6021-4845-88d0-e706c643a9fa_0?wsid=/subscriptions/07efdc52-cd27-48ed-9443-3aad2b6b777b/resourcegroups/precip_rediagnosis/workspaces/precip_rediagnosis&amp;tid=14fec308-b428-4380-b914-c1940f3210f1\" target=\"_blank\" rel=\"noopener\">Link to Azure Machine Learning studio</a></td><td><a href=\"https://docs.microsoft.com/en-us/python/api/azureml-core/azureml.core.run.Run?view=azure-ml-py\" target=\"_blank\" rel=\"noopener\">Link to Documentation</a></td></tr></table>"
      ],
      "text/plain": [
       "Run(Experiment: prd_mlops_test,\n",
       "Id: HD_18fd3ffb-6021-4845-88d0-e706c643a9fa_0,\n",
       "Type: azureml.scriptrun,\n",
       "Status: Completed)"
      ]
     },
     "execution_count": 42,
     "metadata": {},
     "output_type": "execute_result"
    }
   ],
   "source": [
    "test_run.get_best_run_by_primary_metric()"
   ]
  },
  {
   "cell_type": "code",
   "execution_count": 11,
   "id": "16a304bb-23d4-40e3-a0f6-9628efe621dc",
   "metadata": {},
   "outputs": [
    {
     "data": {
      "text/plain": [
       "{\n",
       "    \"databricks\": {\n",
       "        \"eggLibraries\": [],\n",
       "        \"jarLibraries\": [],\n",
       "        \"mavenLibraries\": [],\n",
       "        \"pypiLibraries\": [],\n",
       "        \"rcranLibraries\": []\n",
       "    },\n",
       "    \"docker\": {\n",
       "        \"arguments\": [],\n",
       "        \"baseDockerfile\": null,\n",
       "        \"baseImage\": \"azureml/openmpi3.1.2-cuda10.2-cudnn8-ubuntu18.04\",\n",
       "        \"baseImageRegistry\": {\n",
       "            \"address\": \"mcr.microsoft.com\",\n",
       "            \"password\": null,\n",
       "            \"registryIdentity\": null,\n",
       "            \"username\": null\n",
       "        },\n",
       "        \"enabled\": false,\n",
       "        \"platform\": {\n",
       "            \"architecture\": \"amd64\",\n",
       "            \"os\": \"Linux\"\n",
       "        },\n",
       "        \"sharedVolumes\": true,\n",
       "        \"shmSize\": null\n",
       "    },\n",
       "    \"environmentVariables\": {},\n",
       "    \"inferencingStackVersion\": null,\n",
       "    \"name\": \"prd_ml_cluster\",\n",
       "    \"python\": {\n",
       "        \"baseCondaEnvironment\": null,\n",
       "        \"condaDependencies\": {\n",
       "            \"channels\": [\n",
       "                \"conda-forge\"\n",
       "            ],\n",
       "            \"dependencies\": [\n",
       "                \"python=3.8\",\n",
       "                \"pandas\",\n",
       "                \"scikit-learn\",\n",
       "                \"tensorflow\",\n",
       "                \"pip\",\n",
       "                {\n",
       "                    \"pip\": [\n",
       "                        \"azureml-defaults\"\n",
       "                    ]\n",
       "                }\n",
       "            ],\n",
       "            \"name\": \"azureml_2eac082847a1e59b172ba0901837ac8e\"\n",
       "        },\n",
       "        \"condaDependenciesFile\": null,\n",
       "        \"interpreterPath\": null,\n",
       "        \"userManagedDependencies\": false\n",
       "    },\n",
       "    \"r\": null,\n",
       "    \"spark\": {\n",
       "        \"packages\": [],\n",
       "        \"precachePackages\": true,\n",
       "        \"repositories\": []\n",
       "    },\n",
       "    \"version\": \"3\"\n",
       "}"
      ]
     },
     "execution_count": 11,
     "metadata": {},
     "output_type": "execute_result"
    }
   ],
   "source": [
    "prd_env = Environment.get(workspace=prd_ws, name=azure_env_name)\n",
    "prd_env"
   ]
  },
  {
   "cell_type": "markdown",
   "id": "wireless-investing",
   "metadata": {},
   "source": [
    "### Load data"
   ]
  },
  {
   "cell_type": "markdown",
   "id": "51ee5da7-5829-4618-af04-17c9cf53473d",
   "metadata": {},
   "source": [
    "Use prd_pipeline to load and preprocess data"
   ]
  },
  {
   "cell_type": "code",
   "execution_count": 12,
   "id": "74635d41-c804-4e3c-93e6-c7141e3dbf17",
   "metadata": {},
   "outputs": [],
   "source": [
    "# import importlib \n",
    "# importlib.reload(prd_cluster_train_demo)"
   ]
  },
  {
   "cell_type": "code",
   "execution_count": 13,
   "id": "17ece588-dfe2-4e31-a2c7-e30a66a90039",
   "metadata": {},
   "outputs": [
    {
     "name": "stdout",
     "output_type": "stream",
     "text": [
      "{'profile': ['air_temperature', 'relative_humidity'], 'single_level': ['air_pressure_at_sea_level'], 'target': 'rainfall_rate_composite'}\n"
     ]
    }
   ],
   "source": [
    "input_data = prd_pipeline.load_data(\n",
    "    prd_ws,\n",
    "    dataset_name=azure_dataset_name\n",
    ")\n",
    "data_splits, data_dims = prd_pipeline.preprocess_data(\n",
    "    input_data,\n",
    "    test_fraction=0.2,\n",
    "    feature_dict={'profile': profile_features, 'single_level': single_lvl_features,'target': target_parameter,},\n",
    "    test_savefn='tmp.csv',\n",
    ")\n"
   ]
  },
  {
   "cell_type": "code",
   "execution_count": 14,
   "id": "d6617411-75b6-440b-bf21-eed2570e71d0",
   "metadata": {},
   "outputs": [],
   "source": [
    "# these are example calls to the code for easier debugging than running on a separate cluster\n",
    "# model = prd_cluster_train_demo.build_model(**data_dims)\n",
    "# model = prd_cluster_train_demo.train_model(model, data_splits)"
   ]
  },
  {
   "cell_type": "code",
   "execution_count": 15,
   "id": "d7243f14-bdd5-4348-ad0e-bf8729197580",
   "metadata": {},
   "outputs": [],
   "source": [
    "import datetime\n",
    "log_dir = 'log/fit/' + datetime.datetime.now().strftime('%Y%m%d-%H%M%S')"
   ]
  },
  {
   "cell_type": "markdown",
   "id": "6879705d-02a5-457a-81dd-a2efcc3a0d3c",
   "metadata": {
    "tags": []
   },
   "source": [
    "### Execute our training run on a cluster with hyperdrive for parallelised hyperparameter tuning"
   ]
  },
  {
   "cell_type": "code",
   "execution_count": 16,
   "id": "a7a3dbb3-5277-4bb8-924e-de9f5e3f5975",
   "metadata": {},
   "outputs": [],
   "source": [
    "from azureml.train.hyperdrive import GridParameterSampling, BanditPolicy, HyperDriveConfig, PrimaryMetricGoal\n",
    "from azureml.train.hyperdrive import choice, loguniform"
   ]
  },
  {
   "cell_type": "code",
   "execution_count": 17,
   "id": "ee033e3d-f70c-4833-827e-c47272b8327f",
   "metadata": {},
   "outputs": [
    {
     "data": {
      "text/plain": [
       "AmlCompute(workspace=Workspace.create(name='precip_rediagnosis', subscription_id='07efdc52-cd27-48ed-9443-3aad2b6b777b', resource_group='precip_rediagnosis'), name=mlops-test, id=/subscriptions/07efdc52-cd27-48ed-9443-3aad2b6b777b/resourceGroups/precip_rediagnosis/providers/Microsoft.MachineLearningServices/workspaces/precip_rediagnosis/computes/mlops-test, type=AmlCompute, provisioning_state=Succeeded, location=uksouth, tags={})"
      ]
     },
     "execution_count": 17,
     "metadata": {},
     "output_type": "execute_result"
    }
   ],
   "source": [
    "prd_demo_compute_target = ComputeTarget(workspace=prd_ws, name=cluster_name)\n",
    "prd_demo_compute_target"
   ]
  },
  {
   "cell_type": "markdown",
   "id": "f6cc6baf-36fc-4ab5-a1c3-d0efcb4eb606",
   "metadata": {},
   "source": [
    "Hyperparameters that we want to vary using hyperdrive need to be input arguments for the prd_cluster_train_demo.py script which is called through ScriptRunConfig. Hyperparameters set in prd_demo_args will be overwritten by Hyperdrive. "
   ]
  },
  {
   "cell_type": "code",
   "execution_count": 18,
   "id": "3a62443a-febf-44a3-85ee-7d0d835ab6c2",
   "metadata": {},
   "outputs": [],
   "source": [
    "nepochs = 1"
   ]
  },
  {
   "cell_type": "code",
   "execution_count": 19,
   "id": "6581fbf3-ec63-4ddb-9346-c1db7f6ff527",
   "metadata": {},
   "outputs": [
    {
     "data": {
      "text/plain": [
       "['--dataset-name',\n",
       " 'sd3',\n",
       " '--target-parameter',\n",
       " 'rainfall_rate_composite',\n",
       " '--model-name',\n",
       " 'azml_cluster_demo_20220414',\n",
       " '--profile-features',\n",
       " 'air_temperature',\n",
       " 'relative_humidity',\n",
       " '--single-level_features',\n",
       " 'air_pressure_at_sea_level',\n",
       " '--epochs',\n",
       " 1,\n",
       " '--batch-size',\n",
       " 128,\n",
       " '--learning-rate',\n",
       " 0.01]"
      ]
     },
     "execution_count": 19,
     "metadata": {},
     "output_type": "execute_result"
    }
   ],
   "source": [
    "prd_demo_args = ['--dataset-name', azure_dataset_name,\n",
    "                 '--target-parameter', target_parameter,\n",
    "                 '--model-name', prd_model_name,\n",
    "                ]\n",
    "\n",
    "prd_demo_args += ['--profile-features']\n",
    "prd_demo_args += profile_features\n",
    "prd_demo_args += ['--single-level_features']\n",
    "prd_demo_args += single_lvl_features\n",
    "prd_demo_args += ['--epochs', nepochs]\n",
    "prd_demo_args += ['--batch-size', 128]\n",
    "prd_demo_args += ['--learning-rate', 0.01]\n",
    "\n",
    "prd_demo_args"
   ]
  },
  {
   "cell_type": "code",
   "execution_count": 20,
   "id": "a552930a-a4d3-477c-9486-0071247cf723",
   "metadata": {},
   "outputs": [],
   "source": [
    "prd_run_src = ScriptRunConfig(source_directory=os.getcwd(),\n",
    "                      script='prd_cluster_train_demo.py',\n",
    "                      arguments=prd_demo_args,\n",
    "                      compute_target=prd_demo_compute_target,\n",
    "                      environment=prd_env)"
   ]
  },
  {
   "cell_type": "markdown",
   "id": "bd0125cb-3a5f-4706-bad3-c1ca03a2779d",
   "metadata": {
    "tags": []
   },
   "source": [
    "### HyperDrive configuration"
   ]
  },
  {
   "cell_type": "markdown",
   "id": "ee8e8844-33bd-4c68-beab-7085cc05b2b9",
   "metadata": {},
   "source": [
    "The next step is to configure our HyperDrive run. The run config defined above is passed to our HyperDriveConfig as the run_config. We must provide a <code>hyperparameter_sampling</code> explained in more detail below. We are required to also provide the <code>primary_metric_name</code> (either be the models loss function or a metric define when compiling the model) and the <code>primary_metric_goal</code> to either minimize or maximize this metric. We must also define <code>max_total_runs</code> (the upper bound of the number of runs, may be smaller depending on the defined hyperparameter space and sampling strategy) and <code>max_concurrent_runs</code>, if this is set to None all run are launched in parallel.\n",
    "There is also the option to define an early stopping policy with the <code>policy</code> argument."
   ]
  },
  {
   "cell_type": "markdown",
   "id": "167355bf-5a04-44d6-9273-04f465e87df3",
   "metadata": {},
   "source": [
    "#### Hyperparameter sampling"
   ]
  },
  {
   "cell_type": "markdown",
   "id": "32082137-3ea6-4818-934e-aa28fdbc58fe",
   "metadata": {},
   "source": [
    "There are three different classes for sampling the hyperparameter space: \n",
    "- <code>GridParameterSampling</code>: define a search space as a grid of hyperparameter based on the given hyperparameter space, then evaluates every position in the grid in order (note if max_total_runs < total potential combinations, then this will only run a subsample of the grid).\n",
    "- <code>RandomParameterSampling</code>: randomly samples hyperparameter combinations from the hyperparameter space \n",
    "- <code>BayesianParameterSampling</code>: defines Bayesian sampling over a hyperparameter space, tries to intelligently pick the next sample of hyperparameters based on how the previous samples performed."
   ]
  },
  {
   "cell_type": "markdown",
   "id": "21fd446e-b6e3-4645-8f09-0f0da67da0e7",
   "metadata": {},
   "source": [
    "We then define the hyperparameter space from which to select the combination of hyperparameters to assess. The hyperparameters that we want to tune should be input arguments to the script which is being run by ScriptRunConfig and any hyperparameter arguments that are input will be overwritten by hyperdrive."
   ]
  },
  {
   "cell_type": "markdown",
   "id": "d45e4a7f-cc5e-44c1-b2f5-c268cf0660ca",
   "metadata": {},
   "source": [
    "In AzureML, there are different ways to define the set to sample each hyperparameters from (<code>choice</code>, <code>lognormal</code>, <code>loguniform</code>, <code>normal</code>, <code>qlognormal</code>, <code>qloguniform</code>, <code>qnormal</code>, <code>quniform</code>, <code>randint</code> and <code>uniform</code>)."
   ]
  },
  {
   "cell_type": "code",
   "execution_count": 21,
   "id": "9671b840-0b15-4933-bc53-e5f405d197b5",
   "metadata": {},
   "outputs": [],
   "source": [
    "ps = RandomParameterSampling(\n",
    "    {\n",
    "        '--batch-size': choice(32, 64, 128),\n",
    "        '--learning-rate': loguniform(-6, -1)\n",
    "    }\n",
    ")"
   ]
  },
  {
   "cell_type": "markdown",
   "id": "ab24eb43-359f-4f06-aaad-a6b7cbc25dba",
   "metadata": {},
   "source": [
    "#### Early stopping policy"
   ]
  },
  {
   "cell_type": "markdown",
   "id": "3147b493-4ab8-4c1a-8b7f-28171b60f105",
   "metadata": {},
   "source": [
    "We can define an early stopping policy in which means that any poorly performing experiment runs are canceled and new ones started. Here we use BanditPolicy with a slack criteria of 0.1 (the ratio of slack allowed with respect to the best performing training run) and evaluation internal of 2 (the frequency for applying the policy, here every two training steps)."
   ]
  },
  {
   "cell_type": "code",
   "execution_count": 22,
   "id": "6444f095-f0bd-4d26-918c-fc2a3e9ee33a",
   "metadata": {},
   "outputs": [],
   "source": [
    "early_stop_policy = BanditPolicy(evaluation_interval=2, slack_factor=0.1)"
   ]
  },
  {
   "cell_type": "code",
   "execution_count": 23,
   "id": "bbdf1f6c-7b43-4ea4-8adb-137625dc05fa",
   "metadata": {},
   "outputs": [],
   "source": [
    "htc = HyperDriveConfig(run_config=prd_run_src, \n",
    "                       hyperparameter_sampling=ps, \n",
    "                       policy=early_stop_policy, \n",
    "                       primary_metric_name='mean_absolute_error', \n",
    "                       primary_metric_goal=PrimaryMetricGoal.MINIMIZE, \n",
    "                       max_total_runs=4,\n",
    "                       max_concurrent_runs=4)"
   ]
  },
  {
   "cell_type": "markdown",
   "id": "289a6909-d3f1-44c3-9178-2122015366f3",
   "metadata": {
    "tags": []
   },
   "source": [
    "### HyperDrive running"
   ]
  },
  {
   "cell_type": "code",
   "execution_count": 24,
   "id": "26f24060-af81-4ab6-b1cd-37e92997c493",
   "metadata": {},
   "outputs": [
    {
     "data": {
      "text/html": [
       "<table style=\"width:100%\"><tr><th>Experiment</th><th>Id</th><th>Type</th><th>Status</th><th>Details Page</th><th>Docs Page</th></tr><tr><td>prd_mlops_test</td><td>HD_18fd3ffb-6021-4845-88d0-e706c643a9fa</td><td>hyperdrive</td><td>Running</td><td><a href=\"https://ml.azure.com/runs/HD_18fd3ffb-6021-4845-88d0-e706c643a9fa?wsid=/subscriptions/07efdc52-cd27-48ed-9443-3aad2b6b777b/resourcegroups/precip_rediagnosis/workspaces/precip_rediagnosis&amp;tid=14fec308-b428-4380-b914-c1940f3210f1\" target=\"_blank\" rel=\"noopener\">Link to Azure Machine Learning studio</a></td><td><a href=\"https://docs.microsoft.com/en-us/python/api/overview/azure/ml/intro?view=azure-ml-py\" target=\"_blank\" rel=\"noopener\">Link to Documentation</a></td></tr></table>"
      ],
      "text/plain": [
       "Run(Experiment: prd_mlops_test,\n",
       "Id: HD_18fd3ffb-6021-4845-88d0-e706c643a9fa,\n",
       "Type: hyperdrive,\n",
       "Status: Running)"
      ]
     },
     "execution_count": 24,
     "metadata": {},
     "output_type": "execute_result"
    }
   ],
   "source": [
    "prd_run = prd_exp.submit(htc)\n",
    "prd_run"
   ]
  },
  {
   "cell_type": "code",
   "execution_count": 25,
   "id": "30802214-52fe-45fb-816e-c5d72001c208",
   "metadata": {},
   "outputs": [],
   "source": [
    "prd_run.wait_for_completion()\n",
    "assert(prd_run.get_status() == \"Completed\")"
   ]
  },
  {
   "cell_type": "markdown",
   "id": "0e4d7f93-6215-4a88-a4fa-92f20fb64235",
   "metadata": {},
   "source": [
    "### HyperDrive results"
   ]
  },
  {
   "cell_type": "markdown",
   "id": "be204b61-73df-4ce0-868d-82469a75b1cf",
   "metadata": {},
   "source": [
    "We can then select the model which performs best against the selected primary metric, as defined within the HyperDriveConfig."
   ]
  },
  {
   "cell_type": "code",
   "execution_count": null,
   "id": "9e020a4a-d129-466d-8d65-b9b144002d57",
   "metadata": {},
   "outputs": [],
   "source": [
    "prd_best_run = prd_run.get_best_run_by_primary_metric()\n",
    "prd_best_run"
   ]
  },
  {
   "cell_type": "markdown",
   "id": "f54bab5c-211e-4585-bd3e-c18789ca6e3a",
   "metadata": {},
   "source": [
    "We can also return information from each of the different hyperdrive child run"
   ]
  },
  {
   "cell_type": "code",
   "execution_count": null,
   "id": "73e0e925-cc04-414f-9f24-7b509e0c451e",
   "metadata": {},
   "outputs": [],
   "source": [
    "prd_run.get_children_sorted_by_primary_metric()"
   ]
  },
  {
   "cell_type": "code",
   "execution_count": null,
   "id": "2d9bb4ee-1bfa-4c39-976e-4686172ac594",
   "metadata": {},
   "outputs": [],
   "source": [
    "prd_run.get_metrics()"
   ]
  },
  {
   "cell_type": "code",
   "execution_count": 44,
   "id": "b06ec2fa-2f05-4e13-aa11-4ac419e34fec",
   "metadata": {},
   "outputs": [
    {
     "data": {
      "text/plain": [
       "{'HD_18fd3ffb-6021-4845-88d0-e706c643a9fa_0': {'mean_absolute_error': 14.027489237225254,\n",
       "  'R-squared score': 0.586384162867827},\n",
       " 'HD_18fd3ffb-6021-4845-88d0-e706c643a9fa_1': {'mean_absolute_error': 14.818366171589505,\n",
       "  'R-squared score': 0.49815163454629796},\n",
       " 'HD_18fd3ffb-6021-4845-88d0-e706c643a9fa_3': {'mean_absolute_error': 14.964776840180555,\n",
       "  'R-squared score': 0.5118016772403515},\n",
       " 'HD_18fd3ffb-6021-4845-88d0-e706c643a9fa_2': {'mean_absolute_error': 14.473514401967618,\n",
       "  'R-squared score': 0.5935323290592469}}"
      ]
     },
     "execution_count": 44,
     "metadata": {},
     "output_type": "execute_result"
    }
   ],
   "source": [
    "test_run.get_metrics()"
   ]
  },
  {
   "cell_type": "code",
   "execution_count": null,
   "id": "c11a3bfe-a0b1-4369-acf2-6215f968d951",
   "metadata": {},
   "outputs": [],
   "source": [
    "prd_run.get_hyperparameters()"
   ]
  },
  {
   "cell_type": "code",
   "execution_count": 45,
   "id": "75d96c5e-8648-4b90-b326-3b9f8c22d0ad",
   "metadata": {},
   "outputs": [
    {
     "data": {
      "text/plain": [
       "{'HD_18fd3ffb-6021-4845-88d0-e706c643a9fa_0': '{\"--batch-size\": 32, \"--learning-rate\": 0.001}',\n",
       " 'HD_18fd3ffb-6021-4845-88d0-e706c643a9fa_1': '{\"--batch-size\": 32, \"--learning-rate\": 0.01}',\n",
       " 'HD_18fd3ffb-6021-4845-88d0-e706c643a9fa_2': '{\"--batch-size\": 64, \"--learning-rate\": 0.001}',\n",
       " 'HD_18fd3ffb-6021-4845-88d0-e706c643a9fa_3': '{\"--batch-size\": 64, \"--learning-rate\": 0.01}'}"
      ]
     },
     "execution_count": 45,
     "metadata": {},
     "output_type": "execute_result"
    }
   ],
   "source": [
    "test_run.get_hyperparameters()"
   ]
  }
 ],
 "metadata": {
  "kernelspec": {
   "display_name": "Python 3.8 - AzureML",
   "language": "python",
   "name": "python38-azureml"
  },
  "language_info": {
   "codemirror_mode": {
    "name": "ipython",
    "version": 3
   },
   "file_extension": ".py",
   "mimetype": "text/x-python",
   "name": "python",
   "nbconvert_exporter": "python",
   "pygments_lexer": "ipython3",
   "version": "3.8.1"
  }
 },
 "nbformat": 4,
 "nbformat_minor": 5
}
