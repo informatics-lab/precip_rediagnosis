{
 "cells": [
  {
   "cell_type": "markdown",
   "id": "3cc68a0a-ada5-4272-8bb5-7cd0df0059a8",
   "metadata": {},
   "source": [
    "# Machine learning model training pipeline \n",
    "\n",
    "Modelling fraction of precipitation in different intensity bands. This notebook is designed to be run on SPICE."
   ]
  },
  {
   "cell_type": "markdown",
   "id": "6982084a-6214-4639-8f85-29cab839d643",
   "metadata": {},
   "source": [
    "## Set up"
   ]
  },
  {
   "cell_type": "markdown",
   "id": "57e7f0b3-ffcd-4311-bed3-b5e39d8c89aa",
   "metadata": {
    "tags": []
   },
   "source": [
    "Firstly, we import relevant libraries"
   ]
  },
  {
   "cell_type": "code",
   "execution_count": 1,
   "id": "2ccd2586-7952-4b04-9e66-354340354a98",
   "metadata": {},
   "outputs": [],
   "source": [
    "import pathlib\n",
    "import warnings\n",
    "warnings.filterwarnings('ignore')"
   ]
  },
  {
   "cell_type": "code",
   "execution_count": 2,
   "id": "preliminary-idaho",
   "metadata": {},
   "outputs": [],
   "source": [
    "import pandas as pd\n",
    "import numpy as np\n",
    "import matplotlib.pyplot as plt\n",
    "import xarray as xr\n",
    "import tensorflow as tf"
   ]
  },
  {
   "cell_type": "code",
   "execution_count": 3,
   "id": "a22aa912-97be-4bf2-8405-8cda52a88c5f",
   "metadata": {},
   "outputs": [
    {
     "name": "stdout",
     "output_type": "stream",
     "text": [
      "AzureML libraries not found, using local execution functions.\n"
     ]
    }
   ],
   "source": [
    "import prd_pipeline"
   ]
  },
  {
   "cell_type": "markdown",
   "id": "eaa75fff-4107-4e56-9347-7472507e473c",
   "metadata": {},
   "source": [
    "Set up MLops for experiment tracking "
   ]
  },
  {
   "cell_type": "code",
   "execution_count": 4,
   "id": "6af55860-af60-492e-9826-af22e021a9c7",
   "metadata": {},
   "outputs": [],
   "source": [
    "import mlflow\n",
    "mlflow.tensorflow.autolog()"
   ]
  },
  {
   "cell_type": "code",
   "execution_count": 5,
   "id": "92c91145-c41f-459e-876f-b9cda9172f8c",
   "metadata": {},
   "outputs": [
    {
     "name": "stdout",
     "output_type": "stream",
     "text": [
      "Current tracking uri: file:///net/home/h02/hbrown/code/git/precip_rediagnosis/model_pipeline/mlruns\n"
     ]
    }
   ],
   "source": [
    "tracking_uri = mlflow.get_tracking_uri()\n",
    "print(\"Current tracking uri: {}\".format(tracking_uri))"
   ]
  },
  {
   "cell_type": "markdown",
   "id": "wireless-investing",
   "metadata": {},
   "source": [
    "## Load and preprocess data"
   ]
  },
  {
   "cell_type": "markdown",
   "id": "f8e9414d-d1e2-415a-bffd-a7d1496c0555",
   "metadata": {},
   "source": [
    "During data preparation, the fraction of precipitation in a set of intensity band has been calculated. The keys in this dictionary correspond to the bands central value, which has been used within the column names, while the list of two float values correspond to the lower and upper bounds of that band. This band information can also be found in the data prep config files."
   ]
  },
  {
   "cell_type": "code",
   "execution_count": 6,
   "id": "3af345ac-2b1f-4592-829b-d874ca08d521",
   "metadata": {},
   "outputs": [],
   "source": [
    "bands = {\n",
    "    '0.0':[0, 0.01],\n",
    "    '0.25':[0.01, 0.5], \n",
    "    '2.5': [0.5, 4], \n",
    "    '7.0':[4, 10], \n",
    "    '10.0':[10,220]\n",
    "}"
   ]
  },
  {
   "cell_type": "code",
   "execution_count": 7,
   "id": "709714c6-77ba-4588-a249-958c7a6f375e",
   "metadata": {},
   "outputs": [],
   "source": [
    "intensity_band_template = '{source}_fraction_in_band_instant_{band_centre}'"
   ]
  },
  {
   "cell_type": "markdown",
   "id": "6e795706-eb8a-4931-9db3-5d8c651013a5",
   "metadata": {},
   "source": [
    "We create a dictionary containing the column names for both model input features and target values. \n",
    "\n",
    "For profile features, features available in the prepared dataset are: \n",
    "- 'air_temperature'\n",
    "- 'relative_humidity'\n",
    "- 'wind_speed'\n",
    "- 'wind_from_direction'\n",
    "- 'cloud_volume_fraction'\n",
    "- 'air_pressure'\n",
    "\n",
    "For single level features, features available in the prepared dataset are:\n",
    "- 'thickness_of_rainfall_amount'\n",
    "- 'surface_altitude'\n",
    "- 'air_pressure_at_sea_level'\n",
    "- 'cloud_area_fraction'"
   ]
  },
  {
   "cell_type": "code",
   "execution_count": 8,
   "id": "41b14934-bf6a-4f50-91bb-fba6a48624fe",
   "metadata": {},
   "outputs": [],
   "source": [
    "target_parameter = [intensity_band_template.format(source='radar', band_centre=threshold) for threshold in bands.keys()]\n",
    "nwp_comparison = [intensity_band_template.format(source='mogrepsg', band_centre=threshold) for threshold in bands.keys()]\n",
    "\n",
    "profile_features = ['air_temperature', 'relative_humidity', 'wind_speed', 'wind_from_direction', 'cloud_volume_fraction'] #'air_pressure',\n",
    "single_lvl_features = []#['surface_altitude']#'thickness_of_rainfall_amount', 'surface_altitude', 'air_pressure_at_sea_level', 'cloud_area_fraction'"
   ]
  },
  {
   "cell_type": "code",
   "execution_count": 9,
   "id": "190ad81c-b092-46fa-8a5b-a362d37754e9",
   "metadata": {},
   "outputs": [],
   "source": [
    "feature_dict = {\n",
    "    'profile': profile_features,\n",
    "    'single_level': single_lvl_features,\n",
    "    'target': target_parameter,\n",
    "    'nwp': nwp_comparison, \n",
    "    'metadata': ['time', 'realization', 'latitude', 'longitude']\n",
    "} "
   ]
  },
  {
   "cell_type": "markdown",
   "id": "85f7b0f9-00c7-4e23-bc16-7ad228597d6d",
   "metadata": {},
   "source": [
    "We load in most of the data, but reserve the first and last scenario in our dataset as unseen test scenarios."
   ]
  },
  {
   "cell_type": "code",
   "execution_count": 10,
   "id": "42fe0acd-e240-478b-b78f-bb0e65d86128",
   "metadata": {},
   "outputs": [],
   "source": [
    "dataset_dir = '/project/informatics_lab/precip_rediagnosis/train_202212'\n",
    "dataset_dir = pathlib.Path(dataset_dir)\n",
    "\n",
    "prd_path_list = [p1 for p1 in dataset_dir.rglob(f'{prd_pipeline.MERGED_PREFIX}*{prd_pipeline.CSV_FILE_SUFFIX}')]"
   ]
  },
  {
   "cell_type": "code",
   "execution_count": 11,
   "id": "3b4b19bc-2f32-4f48-a92e-db4d4f844894",
   "metadata": {},
   "outputs": [],
   "source": [
    "merged_df = pd.concat([pd.read_csv(p1) for p1 in prd_path_list[1:-1]])"
   ]
  },
  {
   "cell_type": "code",
   "execution_count": 12,
   "id": "6675f7e9-bd48-4264-8cce-817402905516",
   "metadata": {
    "tags": []
   },
   "outputs": [
    {
     "name": "stdout",
     "output_type": "stream",
     "text": [
      "Filepaths for scenarios reserved for testing:\n",
      " /project/informatics_lab/precip_rediagnosis/train_202212/202002_storm_ciara/prd_merged_20200207T1800Z_20200210T1800Z.csv \n",
      " /project/informatics_lab/precip_rediagnosis/train_202212/2022_storm_eunice_franklin/prd_merged_20220218T1200Z_20220221T1200Z.csv\n"
     ]
    }
   ],
   "source": [
    "print(f'Filepaths for scenarios reserved for testing:\\n {prd_path_list[0]} \\n {prd_path_list[-1]}')"
   ]
  },
  {
   "cell_type": "markdown",
   "id": "eb7de7e6-e0e0-482a-bc00-f94e0a603fc6",
   "metadata": {},
   "source": [
    "Now that our data is loaded into a single pandas dataframe, we run preprocessing which split this into train and validate sets, as well as applying scaling to input features and reshaping verticle profile features to reintroduce height dimension."
   ]
  },
  {
   "cell_type": "code",
   "execution_count": 14,
   "id": "4205d3bf-b421-4298-8a5c-35126e904259",
   "metadata": {},
   "outputs": [
    {
     "name": "stdout",
     "output_type": "stream",
     "text": [
      "target has dims: 5\n",
      "dropping datapoints where smallest bin radar_fraction_in_band_instant_0.0 = 1\n",
      "getting profile columns\n",
      "{'nprof_features': 5, 'nheights': 33, 'nsinglvl_features': 0, 'nbands': 5}\n"
     ]
    }
   ],
   "source": [
    "test_fraction = 0.2\n",
    "data_splits, data_dims_dict = prd_pipeline.preprocess_data(merged_df, feature_dict, test_fraction=test_fraction)"
   ]
  },
  {
   "cell_type": "markdown",
   "id": "39d57977-45a5-4592-8cfe-c0f7ce911ff6",
   "metadata": {
    "tags": []
   },
   "source": [
    "## Run experiment\n",
    "\n",
    "Here we train and evaluate our model. All parameters and the output model will be logged through MLFlow.\n",
    "\n",
    "First we check whether our MLFlow experiment already exists, if it does then we assign the experiment to a variable, if not we create an experiment."
   ]
  },
  {
   "cell_type": "code",
   "execution_count": 15,
   "id": "2040403e-7a51-4943-9b08-b8e236f56fc8",
   "metadata": {},
   "outputs": [
    {
     "data": {
      "text/plain": [
       "<Experiment: artifact_location='file:///net/home/h02/hbrown/code/git/precip_rediagnosis/model_pipeline/mlruns/4', experiment_id='4', lifecycle_stage='active', name='prd_fraction_models_mlflow', tags={}>"
      ]
     },
     "execution_count": 15,
     "metadata": {},
     "output_type": "execute_result"
    }
   ],
   "source": [
    "exp_name='prd_fraction_models_mlflow'\n",
    "try:\n",
    "    exp1 = mlflow.create_experiment(exp_name)\n",
    "except:\n",
    "    exp1 = mlflow.get_experiment_by_name(exp_name)\n",
    "exp1"
   ]
  },
  {
   "cell_type": "markdown",
   "id": "a6fc9d05-2bac-4537-b196-9dceded0e8aa",
   "metadata": {},
   "source": [
    "Create a dictionary containing our model hyperparameters"
   ]
  },
  {
   "cell_type": "code",
   "execution_count": 16,
   "id": "b4fc4fc3-9730-4822-93a2-9304476d84bd",
   "metadata": {},
   "outputs": [],
   "source": [
    "hyperparameter_dict = {\n",
    "    'epochs': 10, \n",
    "    'learning_rate': 0.001, \n",
    "    'batch_size': 64,  \n",
    "    'loss': tf.keras.losses.KLDivergence()\n",
    "}"
   ]
  },
  {
   "cell_type": "markdown",
   "id": "26bee8e4-a1f4-4f9a-9c0a-1772ce35803c",
   "metadata": {},
   "source": [
    "Now we create a model run within the MLFlow experiment from above, then run model training. In doing so all metrics and hyperparamters from model training will be tracked. We can also manually log parameters and metrics, such as model input features. "
   ]
  },
  {
   "cell_type": "code",
   "execution_count": 17,
   "id": "acad9952-087e-479b-bd96-5e9ddc3b55fb",
   "metadata": {},
   "outputs": [
    {
     "name": "stderr",
     "output_type": "stream",
     "text": [
      "2022-12-19 09:25:52.787409: I tensorflow/core/platform/cpu_feature_guard.cc:151] This TensorFlow binary is optimized with oneAPI Deep Neural Network Library (oneDNN) to use the following CPU instructions in performance-critical operations:  SSE4.1 SSE4.2 AVX AVX2 FMA\n",
      "To enable them in other operations, rebuild TensorFlow with the appropriate compiler flags.\n"
     ]
    },
    {
     "name": "stdout",
     "output_type": "stream",
     "text": [
      "Model: \"model\"\n",
      "__________________________________________________________________________________________________\n",
      " Layer (type)                   Output Shape         Param #     Connected to                     \n",
      "==================================================================================================\n",
      " profile_input (InputLayer)     [(None, 33, 5)]      0           []                               \n",
      "                                                                                                  \n",
      " zero_padding1d (ZeroPadding1D)  (None, 35, 5)       0           ['profile_input[0][0]']          \n",
      "                                                                                                  \n",
      " conv1d (Conv1D)                (None, 33, 32)       480         ['zero_padding1d[0][0]']         \n",
      "                                                                                                  \n",
      " zero_padding1d_1 (ZeroPadding1  (None, 35, 32)      0           ['conv1d[0][0]']                 \n",
      " D)                                                                                               \n",
      "                                                                                                  \n",
      " conv1d_1 (Conv1D)              (None, 33, 32)       3072        ['zero_padding1d_1[0][0]']       \n",
      "                                                                                                  \n",
      " zero_padding1d_2 (ZeroPadding1  (None, 35, 32)      0           ['conv1d_1[0][0]']               \n",
      " D)                                                                                               \n",
      "                                                                                                  \n",
      " conv1d_2 (Conv1D)              (None, 33, 32)       3072        ['zero_padding1d_2[0][0]']       \n",
      "                                                                                                  \n",
      " add (Add)                      (None, 33, 32)       0           ['conv1d_2[0][0]',               \n",
      "                                                                  'conv1d[0][0]']                 \n",
      "                                                                                                  \n",
      " flatten (Flatten)              (None, 1056)         0           ['add[0][0]']                    \n",
      "                                                                                                  \n",
      " dense (Dense)                  (None, 165)          174240      ['flatten[0][0]']                \n",
      "                                                                                                  \n",
      " main_output (Dense)            (None, 5)            830         ['dense[0][0]']                  \n",
      "                                                                                                  \n",
      "==================================================================================================\n",
      "Total params: 181,694\n",
      "Trainable params: 181,694\n",
      "Non-trainable params: 0\n",
      "__________________________________________________________________________________________________\n",
      "Epoch 1/10\n",
      "11480/11480 [==============================] - 46s 4ms/step - loss: 0.4168 - accuracy: 0.6555 - val_loss: 0.4061 - val_accuracy: 0.6593\n",
      "Epoch 2/10\n",
      "11480/11480 [==============================] - 44s 4ms/step - loss: 0.3701 - accuracy: 0.6847 - val_loss: 0.3937 - val_accuracy: 0.6649\n",
      "Epoch 3/10\n",
      "11480/11480 [==============================] - 44s 4ms/step - loss: 0.3506 - accuracy: 0.6973 - val_loss: 0.3793 - val_accuracy: 0.6760\n",
      "Epoch 4/10\n",
      "11480/11480 [==============================] - 44s 4ms/step - loss: 0.3391 - accuracy: 0.7043 - val_loss: 0.3712 - val_accuracy: 0.6827\n",
      "Epoch 5/10\n",
      "11480/11480 [==============================] - 45s 4ms/step - loss: 0.3304 - accuracy: 0.7096 - val_loss: 0.3698 - val_accuracy: 0.6839\n",
      "Epoch 6/10\n",
      "11480/11480 [==============================] - 44s 4ms/step - loss: 0.3238 - accuracy: 0.7142 - val_loss: 0.3613 - val_accuracy: 0.6879\n",
      "Epoch 7/10\n",
      "11480/11480 [==============================] - 45s 4ms/step - loss: 0.3184 - accuracy: 0.7173 - val_loss: 0.3626 - val_accuracy: 0.6875\n",
      "Epoch 8/10\n",
      "11480/11480 [==============================] - 45s 4ms/step - loss: 0.3142 - accuracy: 0.7203 - val_loss: 0.3606 - val_accuracy: 0.6885\n",
      "Epoch 9/10\n",
      "11480/11480 [==============================] - 45s 4ms/step - loss: 0.3105 - accuracy: 0.7230 - val_loss: 0.3604 - val_accuracy: 0.6876\n",
      "Epoch 10/10\n",
      "11480/11480 [==============================] - 44s 4ms/step - loss: 0.3069 - accuracy: 0.7247 - val_loss: 0.3547 - val_accuracy: 0.6941\n"
     ]
    },
    {
     "name": "stderr",
     "output_type": "stream",
     "text": [
      "2022-12-19 09:33:22.262357: W tensorflow/python/util/util.cc:368] Sets are not currently considered sequences, but this may change in the future, so consider avoiding using them.\n"
     ]
    },
    {
     "name": "stdout",
     "output_type": "stream",
     "text": [
      "INFO:tensorflow:Assets written to: /var/tmp/tmpe99bphwr/model/data/model/assets\n"
     ]
    }
   ],
   "source": [
    "with mlflow.start_run(experiment_id=exp1.experiment_id) as current_run:\n",
    "    mlflow.log_param('features', feature_dict['profile'] + feature_dict['single_level'])    \n",
    "    model = prd_pipeline.build_model(**data_dims_dict)\n",
    "    model.summary()\n",
    "    model, history = prd_pipeline.train_model(model, data_splits, hyperparameter_dict, log_dir='./logs')"
   ]
  },
  {
   "cell_type": "markdown",
   "id": "0a847b6b-bad1-4caf-b590-c6ed6ffc2cb1",
   "metadata": {},
   "source": [
    "Once model training is completed, we quickly plot comparisons of training and validation loss and accuracy curves, to check whether our model has started to converge and is therefore learning from our data. Similar plots are also available on MLFlow. "
   ]
  },
  {
   "cell_type": "code",
   "execution_count": 18,
   "id": "e377663d-f26b-4cee-9436-d5966593ffa1",
   "metadata": {},
   "outputs": [
    {
     "data": {
      "image/png": "[encoded data removed]",
      "text/plain": [
       "<Figure size 432x288 with 1 Axes>"
      ]
     },
     "metadata": {
      "needs_background": "light"
     },
     "output_type": "display_data"
    }
   ],
   "source": [
    "plt.plot(range(hyperparameter_dict['epochs']), history.history['val_loss'], label='validation loss')\n",
    "plt.plot(range(hyperparameter_dict['epochs']), history.history['loss'], label='training loss')\n",
    "plt.legend()\n",
    "plt.show()"
   ]
  },
  {
   "cell_type": "code",
   "execution_count": 19,
   "id": "6431fc7a-41e0-4bab-8f6d-facde6aa2303",
   "metadata": {},
   "outputs": [
    {
     "data": {
      "image/png": "[encoded data removed]",
      "text/plain": [
       "<Figure size 432x288 with 1 Axes>"
      ]
     },
     "metadata": {
      "needs_background": "light"
     },
     "output_type": "display_data"
    }
   ],
   "source": [
    "plt.plot(range(hyperparameter_dict['epochs']), history.history['val_accuracy'], label='validation accuracy')\n",
    "plt.plot(range(hyperparameter_dict['epochs']), history.history['accuracy'], label='training accuracy')\n",
    "plt.legend()\n",
    "plt.show()"
   ]
  },
  {
   "cell_type": "markdown",
   "id": "7ef5377c-db82-4e6e-9eea-3b2b948d935a",
   "metadata": {},
   "source": [
    "## Inference and model evaluation "
   ]
  },
  {
   "cell_type": "markdown",
   "id": "054a6e95-54fd-4059-8e54-4e367069a609",
   "metadata": {},
   "source": [
    "Now that a model has been trained, we can use the validation dataset to assess how this model is performing. We create predictions from our model using validation model inputs."
   ]
  },
  {
   "cell_type": "code",
   "execution_count": 20,
   "id": "05ba9b2b-7809-4f00-adac-f3db457682f3",
   "metadata": {},
   "outputs": [],
   "source": [
    "y_pred = model.predict(data_splits['X_val'])"
   ]
  },
  {
   "cell_type": "markdown",
   "id": "e09352b6-864d-4102-a0b3-ac4c2fd0c531",
   "metadata": {},
   "source": [
    "We put our validation prediction into a pandas DataFrame to ease model assessment."
   ]
  },
  {
   "cell_type": "code",
   "execution_count": 21,
   "id": "394f73af-7fc1-4a56-8e6b-028d68283d5d",
   "metadata": {},
   "outputs": [],
   "source": [
    "pred_column_names = [intensity_band_template.format(source='ml', band_centre=threshold) for threshold in bands.keys()]\n",
    "y_pred_df = pd.DataFrame(y_pred, columns=pred_column_names)\n",
    "\n",
    "evaluation_df = pd.concat([\n",
    "    data_splits['meta_val'].reset_index(drop=True), \n",
    "    data_splits['nwp_val'].reset_index(drop=True), \n",
    "    data_splits['y_val'].reset_index(drop=True), \n",
    "    y_pred_df], axis=1)"
   ]
  },
  {
   "cell_type": "markdown",
   "id": "16389106-e04a-416e-826b-e9e1ab704509",
   "metadata": {},
   "source": [
    "We then use the Fractional Skill Score to assess model performance. This metrics requires us to transform the data to fraction exceeding thresholds, to do this take the cumulative sum of fractions in all bands with upper bound below or including the thresholds then subtraction from one."
   ]
  },
  {
   "cell_type": "code",
   "execution_count": 22,
   "id": "a44f197b-dab2-40e6-b6be-dccd015c3cfd",
   "metadata": {},
   "outputs": [],
   "source": [
    "source = ['radar', 'mogrepsg', 'ml']\n",
    "for src in source:\n",
    "    evaluation_df = prd_pipeline.calculate_p_exceedance(evaluation_df, src, bands, intensity_band_template)"
   ]
  },
  {
   "cell_type": "markdown",
   "id": "7a4d5eec-264f-4d1e-b772-6698f3680c14",
   "metadata": {},
   "source": [
    "Due to rounding error, some datapoints have very small negative probability of exceedance. In these cases we reassign negative values as zero. We then calculate the fractional skill score to compare both NWP probability and ML fraction prediction with radar. We can then compare how well machine learning and NWP perform for different precipitation thresholds.\n",
    "\n",
    "For each upper bound in our set of precipiation intensity bands, we calculate the fractional skill score for exceeding that threshold. Firstly, we treat each ML prediction produced by each ensemble member as a deterministic forecast."
   ]
  },
  {
   "cell_type": "code",
   "execution_count": 23,
   "id": "0a99c85c-2eeb-43ee-b36a-e9810ea912b4",
   "metadata": {},
   "outputs": [
    {
     "name": "stdout",
     "output_type": "stream",
     "text": [
      "ML FSS - P(precip>0.01mm): 0.9184\n",
      "NWP FSS - P(precip>0.01mm): 0.8310\n",
      "ML FSS - P(precip>0.5mm): 0.8548\n",
      "NWP FSS - P(precip>0.5mm): 0.7317\n",
      "ML FSS - P(precip>4mm): 0.5292\n",
      "NWP FSS - P(precip>4mm): 0.1631\n",
      "ML FSS - P(precip>10mm): 0.3245\n",
      "NWP FSS - P(precip>10mm): 0.0481\n",
      "ML FSS - P(precip>220mm): 0.0000\n",
      "NWP FSS - P(precip>220mm): 0.1737\n"
     ]
    }
   ],
   "source": [
    "for threshold in bands.keys():\n",
    "   \n",
    "    ml_data = evaluation_df[f'ml_fraction_in_band_instant_{threshold}_exceedence']\n",
    "    ml_data[ml_data<0]=0\n",
    "    \n",
    "    nwp_data = evaluation_df[f'mogrepsg_fraction_in_band_instant_{threshold}_exceedence']\n",
    "    nwp_data[nwp_data<0]=0\n",
    "    \n",
    "    radar_data = evaluation_df[f'radar_fraction_in_band_instant_{threshold}_exceedence']\n",
    "    radar_data[radar_data<0]=0\n",
    "    \n",
    "    print(f'ML FSS - P(precip>{bands[threshold][1]}mm): {prd_pipeline.fss(radar_data, ml_data):.4f}')\n",
    "    print(f'NWP FSS - P(precip>{bands[threshold][1]}mm): {prd_pipeline.fss(radar_data, nwp_data):.4f}')"
   ]
  },
  {
   "cell_type": "markdown",
   "id": "db884e44-0e2e-49f2-a2af-107ea530f478",
   "metadata": {},
   "source": [
    "We now take the average of the ML prediction made for each ensemble member at the same time and location, and calculate fractional skill score for these average values."
   ]
  },
  {
   "cell_type": "code",
   "execution_count": 24,
   "id": "7befdbb6-f066-4323-afd3-5440ddd7b345",
   "metadata": {},
   "outputs": [
    {
     "name": "stdout",
     "output_type": "stream",
     "text": [
      "ML FSS - P(precip>0.01mm): 0.9302\n",
      "NWP FSS - P(precip>0.01mm): 0.8310\n",
      "ML FSS - P(precip>0.5mm): 0.8780\n",
      "NWP FSS - P(precip>0.5mm): 0.7316\n",
      "ML FSS - P(precip>4mm): 0.5627\n",
      "NWP FSS - P(precip>4mm): 0.1631\n",
      "ML FSS - P(precip>10mm): 0.3475\n",
      "NWP FSS - P(precip>10mm): 0.0481\n",
      "ML FSS - P(precip>220mm): 0.0000\n",
      "NWP FSS - P(precip>220mm): 0.1737\n"
     ]
    }
   ],
   "source": [
    "grouped = evaluation_df.groupby(['time', 'latitude', 'longitude']).agg('mean')\n",
    "for threshold in bands.keys():\n",
    "\n",
    "    ml_data = grouped[f'ml_fraction_in_band_instant_{threshold}_exceedence']\n",
    "    ml_data[ml_data<0]=0\n",
    "    \n",
    "    nwp_data = grouped[f'mogrepsg_fraction_in_band_instant_{threshold}_exceedence']\n",
    "    nwp_data[nwp_data<0]=0\n",
    "    \n",
    "    radar_data = grouped[f'radar_fraction_in_band_instant_{threshold}_exceedence']\n",
    "    radar_data[radar_data<0]=0\n",
    "    \n",
    "    print(f'ML FSS - P(precip>{bands[threshold][1]}mm): {prd_pipeline.fss(radar_data, ml_data):.4f}')\n",
    "    print(f'NWP FSS - P(precip>{bands[threshold][1]}mm): {prd_pipeline.fss(radar_data, nwp_data):.4f}')"
   ]
  },
  {
   "cell_type": "code",
   "execution_count": null,
   "id": "a1ebd9a2-04a9-4e00-8f9a-3d997451efdf",
   "metadata": {},
   "outputs": [],
   "source": []
  }
 ],
 "metadata": {
  "kernelspec": {
   "display_name": "Python 3 (ipykernel)",
   "language": "python",
   "name": "python3"
  },
  "language_info": {
   "codemirror_mode": {
    "name": "ipython",
    "version": 3
   },
   "file_extension": ".py",
   "mimetype": "text/x-python",
   "name": "python",
   "nbconvert_exporter": "python",
   "pygments_lexer": "ipython3",
   "version": "3.8.12"
  }
 },
 "nbformat": 4,
 "nbformat_minor": 5
}
