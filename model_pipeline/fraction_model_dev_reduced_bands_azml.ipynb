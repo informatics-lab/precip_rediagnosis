{
 "cells": [
  {
   "cell_type": "markdown",
   "id": "57e7f0b3-ffcd-4311-bed3-b5e39d8c89aa",
   "metadata": {},
   "source": [
    "### Import relevant libraries"
   ]
  },
  {
   "cell_type": "code",
   "execution_count": 1,
   "id": "2ccd2586-7952-4b04-9e66-354340354a98",
   "metadata": {},
   "outputs": [],
   "source": [
    "import pathlib\n",
    "import os\n",
    "import datetime\n",
    "import json"
   ]
  },
  {
   "cell_type": "code",
   "execution_count": 2,
   "id": "preliminary-idaho",
   "metadata": {},
   "outputs": [],
   "source": [
    "import pandas as pd\n",
    "import numpy as np\n",
    "import matplotlib.pyplot as plt"
   ]
  },
  {
   "cell_type": "code",
   "execution_count": 3,
   "id": "06959be2",
   "metadata": {},
   "outputs": [],
   "source": [
    "from sklearn.model_selection import train_test_split\n",
    "from sklearn.preprocessing import StandardScaler"
   ]
  },
  {
   "cell_type": "code",
   "execution_count": 4,
   "id": "8300679e-340d-4fa3-9c7c-b23dc2ca9935",
   "metadata": {},
   "outputs": [],
   "source": [
    "# %load_ext tensorboard"
   ]
  },
  {
   "cell_type": "code",
   "execution_count": 5,
   "id": "e40a4d6c",
   "metadata": {},
   "outputs": [],
   "source": [
    "import tensorflow as tf\n",
    "from tensorflow.keras.layers import Dense, Activation, Flatten\n",
    "from tensorflow.keras.layers import Conv1D, concatenate\n",
    "from tensorflow.keras.layers import ZeroPadding1D, Reshape, Input, Dropout, PReLU\n",
    "from tensorflow.keras.models import Sequential, Model\n",
    "# from tensorflow.keras.regularizers import L2\n",
    "\n",
    "from sklearn.metrics import mean_absolute_error, r2_score"
   ]
  },
  {
   "cell_type": "code",
   "execution_count": 6,
   "id": "a22aa912-97be-4bf2-8405-8cda52a88c5f",
   "metadata": {},
   "outputs": [],
   "source": [
    "import prd_pipeline"
   ]
  },
  {
   "cell_type": "code",
   "execution_count": 7,
   "id": "7ff93427-0cdf-43b3-bea1-6bce3a0e1162",
   "metadata": {},
   "outputs": [],
   "source": [
    "import sys\n",
    "sys.path.append('/mnt/batch/tasks/shared/LS_root/mounts/clusters/prd-ml/code/Users/hannah.brown/precip_rediagnosis/data_prep')\n",
    "import drivers"
   ]
  },
  {
   "cell_type": "code",
   "execution_count": 8,
   "id": "fb927817-9259-4eda-b835-de060914651f",
   "metadata": {},
   "outputs": [],
   "source": [
    "# import mlflow\n",
    "# mlflow.tensorflow.autolog()"
   ]
  },
  {
   "cell_type": "markdown",
   "id": "042cb0d9-1ea1-44f9-b445-f6ebd8644c3d",
   "metadata": {
    "tags": []
   },
   "source": [
    "### AzureML load - currently not working."
   ]
  },
  {
   "cell_type": "code",
   "execution_count": 9,
   "id": "8e195b3f-2c67-494a-a345-dd1e042819d6",
   "metadata": {},
   "outputs": [],
   "source": [
    "# azure_experiment_name='prd_frac_model_dev'\n",
    "# azure_env_name = 'prd_ml_cluster'\n",
    "# cluster_name = 'mlops-test'"
   ]
  },
  {
   "cell_type": "code",
   "execution_count": 10,
   "id": "d163eb43-6a5f-42a1-8d45-ca1ad83416ff",
   "metadata": {},
   "outputs": [],
   "source": [
    "# prd_model_name = 'azml_prd_frac_model_dev'"
   ]
  },
  {
   "cell_type": "code",
   "execution_count": 11,
   "id": "d31a31c6-8499-4aa2-95c3-4f0a3b574dba",
   "metadata": {},
   "outputs": [],
   "source": [
    "# events = [\n",
    "#     '202002_storm_dennis', \n",
    "#     '202002_storm_ciara',\n",
    "#     '202010_nswws_amber_oct',\n",
    "#     '202012_nswws_amber_dec',\n",
    "#     '202102_nswws_amber_feb',\n",
    "#     '202110_nswws_amber_oct',\n",
    "#     '202112_storm_barra',\n",
    "#     '2022_storm_eunice_franklin',\n",
    "#     '202008_storm_francis',\n",
    "#     '202008_storm_ellen'\n",
    "# ]"
   ]
  },
  {
   "cell_type": "code",
   "execution_count": 12,
   "id": "e7b9e418",
   "metadata": {},
   "outputs": [],
   "source": [
    "# data_dir = pathlib.Path('/project/informatics_lab/precip_rediagnosis') / 'storm_dennis_6hr_lt'"
   ]
  },
  {
   "cell_type": "code",
   "execution_count": 13,
   "id": "29a538d3-7ab7-447d-8c74-6e5d879484ca",
   "metadata": {},
   "outputs": [],
   "source": [
    "# azure_dataset_format = 'prd_merged_{event}'"
   ]
  },
  {
   "cell_type": "code",
   "execution_count": 14,
   "id": "9ecc36cf-4ca5-43ae-9344-8b341d3959ee",
   "metadata": {},
   "outputs": [],
   "source": [
    "# all_data = prd_pipeline.load_data(prd_ws, dataset_name=azure_dataset_format.format(event='all_events'))\n",
    "# len(all_data.dropna().forecast_reference_time.unique())"
   ]
  },
  {
   "cell_type": "code",
   "execution_count": 15,
   "id": "f42cb4d1-0f4f-4d0e-bb1e-fb251d6e66da",
   "metadata": {},
   "outputs": [],
   "source": [
    "# data_list = []\n",
    "# for event in events:\n",
    "#     print(azure_dataset_format.format(event=event))\n",
    "#     tmpdat = prd_pipeline.load_data(prd_ws, dataset_name=azure_dataset_format.format(event=event))\n",
    "#     data_list.append(tmpdat)\n",
    "# merged_data = pd.concat(data_list)\n"
   ]
  },
  {
   "cell_type": "code",
   "execution_count": 16,
   "id": "93920172-bd45-41ef-a0b4-fd5e980a1883",
   "metadata": {},
   "outputs": [],
   "source": [
    "# radar_type = 'radar_fraction_in_band_aggregate_3hr'\n",
    "# for (band_name, band_vals) in new_bands.items():\n",
    "#     cols_in_band = [col for col in data.columns for val in band_vals if (col.endswith(f'_{val}')) and (col.startswith(radar_type))]\n",
    "#     data[band_name] = data[cols_in_band].sum(axis=1)"
   ]
  },
  {
   "cell_type": "markdown",
   "id": "wireless-investing",
   "metadata": {},
   "source": [
    "### Load and preprocess data"
   ]
  },
  {
   "cell_type": "code",
   "execution_count": 17,
   "id": "8ab95044-ea33-451d-8232-dcf480236be4",
   "metadata": {},
   "outputs": [],
   "source": [
    "import azureml.core\n",
    "from azureml.core import Workspace, Datastore, Dataset\n",
    "from azureml.core import Experiment\n",
    "\n",
    "prd_ws = Workspace.from_config()"
   ]
  },
  {
   "cell_type": "code",
   "execution_count": 18,
   "id": "335c673e-92cd-406d-9abe-440f7a551045",
   "metadata": {},
   "outputs": [
    {
     "data": {
      "text/plain": [
       "(True,\n",
       " PosixPath('/mnt/batch/tasks/shared/LS_root/mounts/clusters/prd-ml/code/Users/hannah.brown/precip_rediagnosis/data_prep/event_configs'))"
      ]
     },
     "execution_count": 18,
     "metadata": {},
     "output_type": "execute_result"
    }
   ],
   "source": [
    "configs_dir = pathlib.Path.cwd().parent / 'data_prep' / 'event_configs'\n",
    "configs_dir.is_dir(), configs_dir"
   ]
  },
  {
   "cell_type": "code",
   "execution_count": 19,
   "id": "3a054c88-03e1-4370-91e1-0e04d8a064a7",
   "metadata": {},
   "outputs": [],
   "source": [
    "config_path_list = [p1 for p1 in configs_dir.iterdir() if '20' in str(p1) and 'json' in str(p1)]"
   ]
  },
  {
   "cell_type": "code",
   "execution_count": 20,
   "id": "6ec0d5cc-df5c-4a04-930a-49bef5108e2d",
   "metadata": {},
   "outputs": [],
   "source": [
    "prd_merged_file_dataset_name = 'prd_merged_csv_files'\n",
    "train202208_dataset_all = azureml.core.Dataset.get_by_name(prd_ws, name=prd_merged_file_dataset_name)\n",
    "prd_prefix = 'prd'\n",
    "merged_prefix = prd_prefix + '_merged'\n",
    "csv_file_suffix = 'csv'"
   ]
  },
  {
   "cell_type": "code",
   "execution_count": 21,
   "id": "30fa086a-f812-4b4b-a7ff-814f36b13e54",
   "metadata": {},
   "outputs": [],
   "source": [
    "def get_file_name(dataset_config):\n",
    "\n",
    "    event_start_dt = datetime.datetime.strptime(dataset_config['event_start'], '%Y-%m-%dT%H:%MZ')\n",
    "    event_end_dt = datetime.datetime.strptime(dataset_config['event_end'], '%Y-%m-%dT%H:%MZ')\n",
    "    times_list = drivers.calc_dates_list(event_start_dt, event_end_dt, float(dataset_config['target_time_delta']))\n",
    "    final_timestamp = max(times_list)  # Data extract isn't inclusive of final date so need second last time \n",
    "\n",
    "    start_datestring = f'{event_start_dt.year:04d}{event_start_dt.month:02d}{event_start_dt.day:02d}T{event_start_dt.hour:02d}{event_start_dt.minute:02d}Z'\n",
    "    end_datestring = f'{event_end_dt.year:04d}{event_end_dt.month:02d}{event_end_dt.day:02d}T{event_end_dt.hour:02d}{event_end_dt.minute:02d}Z'\n",
    "    final_datestring = f'{final_timestamp.year:04d}{final_timestamp.month:02d}{final_timestamp.day:02d}T{final_timestamp.hour:02d}{final_timestamp.minute:02d}Z'\n",
    "    \n",
    "    # event_name = dataset_config[\"event_name\"]\n",
    "    \n",
    "    return f'prd_merged_{start_datestring}_{final_datestring}.csv'"
   ]
  },
  {
   "cell_type": "code",
   "execution_count": 22,
   "id": "41b14934-bf6a-4f50-91bb-fba6a48624fe",
   "metadata": {},
   "outputs": [],
   "source": [
    "target_parameter = [\n",
    "    'radar_fraction_in_band_instant_0.25', \n",
    "    'radar_fraction_in_band_instant_2.5',\n",
    "    'radar_fraction_in_band_instant_7.0',\n",
    "    'radar_fraction_in_band_instant_10.0'\n",
    "]\n",
    "profile_features = ['air_temperature', 'relative_humidity']#, 'cloud_volume_fraction', 'air_pressure']\n",
    "single_lvl_features = []#['surface_altitude']#['thickness_of_rainfall_amount']#['air_pressure_at_sea_level'] "
   ]
  },
  {
   "cell_type": "code",
   "execution_count": 23,
   "id": "190ad81c-b092-46fa-8a5b-a362d37754e9",
   "metadata": {},
   "outputs": [],
   "source": [
    "feature_dict = {\n",
    "    'profile': profile_features,\n",
    "    'single_level': single_lvl_features,\n",
    "    'target': target_parameter,\n",
    "} "
   ]
  },
  {
   "cell_type": "code",
   "execution_count": 24,
   "id": "0bcc5fe6-7548-4687-bd48-4f012fda3fe3",
   "metadata": {
    "jupyter": {
     "source_hidden": true
    },
    "tags": []
   },
   "outputs": [],
   "source": [
    "# # merged_df_fname = f'prd_merged_{start_datestring}_{final_datestring}.csv'\n",
    "# events_data_test = []\n",
    "# events_data_train = []\n",
    "\n",
    "# test_fraction = 0.2\n",
    "\n",
    "# for config in config_path_list:\n",
    "#     with open(config) as config_file:\n",
    "#         dataset_config = json.load(config_file)\n",
    "\n",
    "#     try: \n",
    "#         with train202208_dataset_all.mount() as train202208_file_mount:\n",
    "#             selected_event_name = dataset_config['event_name']\n",
    "#             print(f'\\nload data for event {selected_event_name}\\n')\n",
    "#             merged_df_fname = get_file_name(dataset_config)\n",
    "#             merged_df = pd.read_csv(pathlib.Path(train202208_file_mount.mount_point) / dataset_config['event_name'] / merged_df_fname)\n",
    "#     except: \n",
    "#         pass\n",
    "\n",
    "#     merged_df['time'] = pd.to_datetime(merged_df['time'])\n",
    "#     merged_df['forecast_reference_time'] = pd.to_datetime(merged_df['forecast_reference_time'])\n",
    "    \n",
    "    \n",
    "#     df_train, df_test = prd_pipeline.random_time_space_sample(merged_df, test_fraction=test_fraction, random_state=np.random.RandomState(), sampling_columns = ['time', 'latitude', 'longitude'])\n",
    "#     events_data_test.append(df_test)\n",
    "#     data_splits, data_dims_dict = prd_pipeline.preprocess_data(df_train, feature_dict, test_fraction=test_fraction/(1-test_fraction))\n",
    "\n",
    "#     events_data_train.append(data_splits)"
   ]
  },
  {
   "cell_type": "code",
   "execution_count": 25,
   "id": "dba985eb-b672-4258-9e8b-ede0f9319a8b",
   "metadata": {
    "jupyter": {
     "source_hidden": true
    },
    "tags": []
   },
   "outputs": [],
   "source": [
    "# data_test = pd.concat(events_data_test)\n",
    "# data_test.to_csv('prd_merged_all_events_test_dataset.csv')"
   ]
  },
  {
   "cell_type": "code",
   "execution_count": 26,
   "id": "d799653f-cd8d-4364-bbeb-65a2bdea36c3",
   "metadata": {
    "jupyter": {
     "source_hidden": true
    },
    "tags": []
   },
   "outputs": [],
   "source": [
    "# data_splits = {\n",
    "#     'X_train': np.concatenate([event['X_train'] for event in events_data_train]),\n",
    "#     'X_val': np.concatenate([event['X_val'] for event in events_data_train]), \n",
    "#     'y_train': pd.concat([event['y_train'] for event in events_data_train]),\n",
    "#     'y_val': pd.concat([event['y_val'] for event in events_data_train]),\n",
    "# }"
   ]
  },
  {
   "cell_type": "code",
   "execution_count": 27,
   "id": "4205d3bf-b421-4298-8a5c-35126e904259",
   "metadata": {},
   "outputs": [
    {
     "name": "stdout",
     "output_type": "stream",
     "text": [
      "Not mounting as a volume: ArgumentError(InvalidArgument { argument: \"arguments.path\", expected: \"Glob patterns inside the path are not supported by the volume mount.Path must be a direct path to the file or folder, or end with '/**' or '/**/*' to match the entire content of the volume.\", actual: \"REDACTED\" }). \n",
      "Falling back to dataflow mount.\n",
      "loading all data\n",
      "Failure while loading azureml_run_type_providers. Failed to load entrypoint automl = azureml.train.automl.run:AutoMLRun._from_run_dto with exception (azureml-core 1.42.0.post1 (/anaconda/envs/azureml_py38/lib/python3.8/site-packages), Requirement.parse('azureml-core~=1.40.0')).\n",
      "Failure while loading azureml_run_type_providers. Failed to load entrypoint azureml.PipelineRun = azureml.pipeline.core.run:PipelineRun._from_dto with exception (azureml-core 1.42.0.post1 (/anaconda/envs/azureml_py38/lib/python3.8/site-packages), Requirement.parse('azureml-core~=1.40.0')).\n",
      "Failure while loading azureml_run_type_providers. Failed to load entrypoint azureml.ReusedStepRun = azureml.pipeline.core.run:StepRun._from_reused_dto with exception (azureml-core 1.42.0.post1 (/anaconda/envs/azureml_py38/lib/python3.8/site-packages), Requirement.parse('azureml-core~=1.40.0')).\n",
      "Failure while loading azureml_run_type_providers. Failed to load entrypoint azureml.StepRun = azureml.pipeline.core.run:StepRun._from_dto with exception (azureml-core 1.42.0.post1 (/anaconda/envs/azureml_py38/lib/python3.8/site-packages), Requirement.parse('azureml-core~=1.40.0')).\n"
     ]
    }
   ],
   "source": [
    "with train202208_dataset_all.mount() as train202208_file_mount:\n",
    "    print('loading all data')\n",
    "    prd_path_list = [p1 for p1 in pathlib.Path(train202208_file_mount.mount_point).rglob(f'{merged_prefix}*{csv_file_suffix}') ]\n",
    "    merged_df = pd.concat([pd.read_csv(p1) for p1 in prd_path_list])"
   ]
  },
  {
   "cell_type": "code",
   "execution_count": 28,
   "id": "7cb0c366-b841-409c-8651-4dc2c488ba33",
   "metadata": {},
   "outputs": [],
   "source": [
    "# merged_df.dropna()"
   ]
  },
  {
   "cell_type": "code",
   "execution_count": null,
   "id": "1493ee4d-b2b0-4b13-81b4-bddc5f202a17",
   "metadata": {},
   "outputs": [],
   "source": [
    "test_fraction=0.2\n",
    "df_train, df_test = prd_pipeline.random_time_space_sample(merged_df, test_fraction=test_fraction, random_state=np.random.RandomState(), sampling_columns = ['time', 'latitude', 'longitude'])\n",
    "data_splits, data_dims_dict = prd_pipeline.preprocess_data(df_train, feature_dict, test_fraction=test_fraction/(1-test_fraction))"
   ]
  },
  {
   "cell_type": "markdown",
   "id": "2e96c131",
   "metadata": {
    "tags": []
   },
   "source": [
    "### Data pre-processing"
   ]
  },
  {
   "cell_type": "code",
   "execution_count": 27,
   "id": "783e33fc-8b81-47dd-bf4c-6ebcb7d14d82",
   "metadata": {},
   "outputs": [],
   "source": [
    "# data_splits, data_dims_dict = prd_pipeline.preprocess_data(data, feature_dict, test_fraction=0.2, test_savefn='test.csv')"
   ]
  },
  {
   "cell_type": "code",
   "execution_count": 28,
   "id": "0a76d71a-aa50-44c6-9c6f-5691ed465ea9",
   "metadata": {},
   "outputs": [
    {
     "data": {
      "image/png": "[encoded data removed]",
      "text/plain": [
       "<Figure size 720x360 with 1 Axes>"
      ]
     },
     "metadata": {
      "needs_background": "light"
     },
     "output_type": "display_data"
    }
   ],
   "source": [
    "for frac in [0.001, 0.01, 0.1, 0.5, 0.95]:\n",
    "    exceeding_prob = []\n",
    "    for thresh in range(data_dims_dict['nbands']):\n",
    "        exceeding_prob.append(sum(data_splits['y_train'].iloc[:, thresh] > frac))\n",
    "    plt.plot(np.arange(data_dims_dict['nbands']), exceeding_prob, label=f'nsamples with frac > {frac}')\n",
    "plt.xticks(np.arange(data_dims_dict['nbands']), data_splits['y_train'].columns, rotation=90)\n",
    "plt.legend()\n",
    "plt.gcf().set_size_inches(10, 5)\n",
    "plt.show()"
   ]
  },
  {
   "cell_type": "code",
   "execution_count": 29,
   "id": "7af3d2f6-b3db-4955-820f-214803918080",
   "metadata": {},
   "outputs": [
    {
     "data": {
      "image/png": "[encoded data removed]",
      "text/plain": [
       "<Figure size 720x360 with 1 Axes>"
      ]
     },
     "metadata": {
      "needs_background": "light"
     },
     "output_type": "display_data"
    }
   ],
   "source": [
    "for prob in [0.001, 0.01, 0.1, 0.5, 0.95]:\n",
    "    exceeding_prob = []\n",
    "    for thresh in range(data_dims_dict['nbands']):\n",
    "        exceeding_prob.append(sum(data_splits['y_val'].iloc[:, thresh] > prob))\n",
    "    plt.plot(np.arange(data_dims_dict['nbands']), exceeding_prob, label=f'nsamples with frac > {prob}')\n",
    "plt.xticks(np.arange(data_dims_dict['nbands']), data_splits['y_train'].columns, rotation=90)\n",
    "plt.legend()\n",
    "plt.gcf().set_size_inches(10, 5)\n",
    "plt.show()"
   ]
  },
  {
   "cell_type": "markdown",
   "id": "e4ff6098-fdb8-4f75-ab1d-722255fadc23",
   "metadata": {},
   "source": [
    "Resample data to create more uniform distribution within the training data"
   ]
  },
  {
   "cell_type": "code",
   "execution_count": 30,
   "id": "61dfefc4-016c-451f-816e-84645bd86f39",
   "metadata": {},
   "outputs": [],
   "source": [
    "# data_splits['y_train']['max_bin'] = data_splits['y_train'].idxmax(axis=1)\n",
    "\n",
    "# nsamples = len(data_splits['y_train'])//len(data_splits['y_train'].columns)\n",
    "\n",
    "# y_train = pd.DataFrame()\n",
    "\n",
    "# data_splits['y_train'] = data_splits['y_train'].reset_index(drop=True)\n",
    "# for col in data_splits['y_train'].columns[0:-1]:\n",
    "#     ids = data_splits['y_train'][data_splits['y_train']['max_bin']==col].index\n",
    "#     if len(ids)>0:\n",
    "#         choices = np.random.choice(ids, nsamples)\n",
    "#         y_train = pd.concat([y_train, data_splits['y_train'].loc[choices]])\n",
    "#         try: \n",
    "#             X_train = np.concatenate([X_train, data_splits['X_train'][choices]])\n",
    "#         except NameError:\n",
    "#             X_train = data_splits['X_train'][choices]\n",
    "\n",
    "# cols = data_splits['y_train'].columns[:-1]\n",
    "# plt.plot(data_splits['y_train'].sum(axis=0)[cols], label='original data')\n",
    "# plt.plot(y_train.sum(axis=0)[cols], label='resampled data')\n",
    "# plt.legend()\n",
    "# plt.show()\n",
    "\n",
    "# y_train = y_train.drop(columns=['max_bin'])\n",
    "\n",
    "# data_splits['X_train'] = X_train\n",
    "# data_splits['y_train'] = y_train\n",
    "# data_dims_dict['nbands'] = data_splits['y_train'].shape[1]"
   ]
  },
  {
   "cell_type": "markdown",
   "id": "db2bf067-2725-4668-90ff-5301c9572bed",
   "metadata": {
    "jp-MarkdownHeadingCollapsed": true,
    "tags": []
   },
   "source": [
    "## Set up model and experiment"
   ]
  },
  {
   "cell_type": "code",
   "execution_count": 31,
   "id": "10ecae9d",
   "metadata": {},
   "outputs": [],
   "source": [
    "def build_model(nprof_features, nheights, nsinglvl_features, nfractions=23):\n",
    "    \n",
    "    profile_input = Input(shape=(nheights, nprof_features), name='profile_input')\n",
    "    prof_size = nheights*nprof_features\n",
    "\n",
    "    out = ZeroPadding1D(padding=1)(profile_input)\n",
    "    out = Conv1D(20, 5, strides=1, activation='relu')(out) #use_bias=False, bias_initializer='zeros'\n",
    "    out = Dropout(0.8)(out)\n",
    "    # ident = out\n",
    "    # out = ZeroPadding1D(padding=1)(out)\n",
    "    # out = Conv1D(32, 3, strides=1, activation='relu', use_bias=False, bias_initializer='zeros')(out)\n",
    "    # out = ZeroPadding1D(padding=1)(out)\n",
    "    # out = Conv1D(32, 3, strides=1, activation='relu', use_bias=False, kernel_initializer='glorot_uniform', bias_initializer='zeros')(out)\n",
    "    # x = tf.keras.layers.add([out, ident])\n",
    "    out = Flatten()(out)\n",
    "    out = Dense(prof_size, activation='relu')(out) # use_bias=False,\n",
    "    out = Dropout(0.5)(out)\n",
    "\n",
    "#     if nsinglvl_features > 0:\n",
    "#         surf_input = Input(shape=(nsinglvl_features,), name='surf_input')\n",
    "#         flat_profs = Flatten()(profile_input)\n",
    "#         raw_in = tf.keras.layers.concatenate([flat_profs, surf_input])\n",
    "#         raw_size = (nheights*nprof_features)+nsinglvl_features\n",
    "\n",
    "#         out = tf.keras.layers.concatenate([out, surf_input])\n",
    "#         x = tf.keras.layers.add([out, raw_in])\n",
    "#         x = Dense(1024, use_bias=False, activation='relu')(x)\n",
    "#         x = Dense(1024, use_bias=False, activation='relu')(x)\n",
    "\n",
    "#         main_output = Dense(23, use_bias=True, activation='softmax', name='main_output')(x)\n",
    "#         model = Model(inputs=[profile_input, surf_input], outputs=[main_output])\n",
    "\n",
    "#     else:\n",
    "    main_output = Dense(nfractions, activation='softmax', name='main_output')(out) # use_bias=True, \n",
    "    model = Model(inputs=[profile_input], outputs=[main_output])\n",
    "        \n",
    "    return model"
   ]
  },
  {
   "cell_type": "markdown",
   "id": "39d57977-45a5-4592-8cfe-c0f7ce911ff6",
   "metadata": {},
   "source": [
    "## Run experiment\n",
    "\n",
    "Here we actually run the training and evaluation. All parameters and the output model will be saved through ML Flow, and we can track training stats through tensorboard."
   ]
  },
  {
   "cell_type": "code",
   "execution_count": 32,
   "id": "6fb38533-2c8c-4d81-96b7-7749b73084e0",
   "metadata": {
    "tags": []
   },
   "outputs": [],
   "source": [
    "def train_model(model, data_splits):\n",
    "    # TODO: these hyperparameters should be read in from somewhere?\n",
    "    optimizer = tf.keras.optimizers.Adam(learning_rate=0.005)\n",
    "    # model.compile(loss=tf.keras.losses.CategoricalCrossentropy(), optimizer=optimizer)\n",
    "    model.compile(loss=tf.keras.losses.KLDivergence(), optimizer=optimizer, metrics=['accuracy'],)\n",
    "    # model.compile(loss='mean_absolute_error', optimizer=optimizer)\n",
    "\n",
    "    history = model.fit(data_splits['X_train'], \n",
    "                        data_splits['y_train'], \n",
    "                        epochs=50, \n",
    "                        batch_size=100, \n",
    "                        validation_data=(data_splits['X_val'], data_splits['y_val']),  verbose=True)\n",
    "    return model, history"
   ]
  },
  {
   "cell_type": "code",
   "execution_count": 33,
   "id": "2f6072ef-bb89-476f-8e92-9683cc7d66ae",
   "metadata": {},
   "outputs": [],
   "source": [
    "# exp = mlflow.create_experiment('prd_frac_experiment')"
   ]
  },
  {
   "cell_type": "code",
   "execution_count": 35,
   "id": "44193041-19c7-4ee0-a2e8-981f8de4034f",
   "metadata": {},
   "outputs": [],
   "source": [
    "# exp1 = mlflow.get_experiment('2')\n",
    "# exp1"
   ]
  },
  {
   "cell_type": "code",
   "execution_count": 36,
   "id": "b4fc4fc3-9730-4822-93a2-9304476d84bd",
   "metadata": {},
   "outputs": [],
   "source": [
    "hyperparameter_dict = {\n",
    "    'loss_function': tf.keras.losses.KLDivergence(),\n",
    "    'epochs': 20, \n",
    "    'learning_rate': 0.001, \n",
    "    'batch_size': 500\n",
    "}"
   ]
  },
  {
   "cell_type": "code",
   "execution_count": 38,
   "id": "acad9952-087e-479b-bd96-5e9ddc3b55fb",
   "metadata": {},
   "outputs": [
    {
     "name": "stdout",
     "output_type": "stream",
     "text": [
      "Model: \"model\"\n",
      "__________________________________________________________________________________________________\n",
      "Layer (type)                    Output Shape         Param #     Connected to                     \n",
      "==================================================================================================\n",
      "profile_input (InputLayer)      [(None, 33, 2)]      0                                            \n",
      "__________________________________________________________________________________________________\n",
      "zero_padding1d (ZeroPadding1D)  (None, 35, 2)        0           profile_input[0][0]              \n",
      "__________________________________________________________________________________________________\n",
      "conv1d (Conv1D)                 (None, 33, 32)       192         zero_padding1d[0][0]             \n",
      "__________________________________________________________________________________________________\n",
      "zero_padding1d_1 (ZeroPadding1D (None, 35, 32)       0           conv1d[0][0]                     \n",
      "__________________________________________________________________________________________________\n",
      "conv1d_1 (Conv1D)               (None, 33, 32)       3072        zero_padding1d_1[0][0]           \n",
      "__________________________________________________________________________________________________\n",
      "zero_padding1d_2 (ZeroPadding1D (None, 35, 32)       0           conv1d_1[0][0]                   \n",
      "__________________________________________________________________________________________________\n",
      "conv1d_2 (Conv1D)               (None, 33, 32)       3072        zero_padding1d_2[0][0]           \n",
      "__________________________________________________________________________________________________\n",
      "add (Add)                       (None, 33, 32)       0           conv1d_2[0][0]                   \n",
      "                                                                 conv1d[0][0]                     \n",
      "__________________________________________________________________________________________________\n",
      "flatten (Flatten)               (None, 1056)         0           add[0][0]                        \n",
      "__________________________________________________________________________________________________\n",
      "dense (Dense)                   (None, 66)           69696       flatten[0][0]                    \n",
      "__________________________________________________________________________________________________\n",
      "main_output (Dense)             (None, 4)            268         dense[0][0]                      \n",
      "==================================================================================================\n",
      "Total params: 76,300\n",
      "Trainable params: 76,300\n",
      "Non-trainable params: 0\n",
      "__________________________________________________________________________________________________\n",
      "Epoch 1/20\n",
      "1392/1392 [==============================] - 22s 16ms/step - loss: 0.3376 - val_loss: 0.3261\n",
      "Epoch 2/20\n",
      "1392/1392 [==============================] - 21s 15ms/step - loss: 0.3161 - val_loss: 0.3117\n",
      "Epoch 3/20\n",
      "1392/1392 [==============================] - 21s 15ms/step - loss: 0.3046 - val_loss: 0.3028\n",
      "Epoch 4/20\n",
      "1392/1392 [==============================] - 21s 15ms/step - loss: 0.2964 - val_loss: 0.3014\n",
      "Epoch 5/20\n",
      "1392/1392 [==============================] - 21s 15ms/step - loss: 0.2902 - val_loss: 0.2957\n",
      "Epoch 6/20\n",
      "1392/1392 [==============================] - 22s 15ms/step - loss: 0.2851 - val_loss: 0.2927\n",
      "Epoch 7/20\n",
      "1392/1392 [==============================] - 21s 15ms/step - loss: 0.2808 - val_loss: 0.2895\n",
      "Epoch 8/20\n",
      "1392/1392 [==============================] - 21s 15ms/step - loss: 0.2770 - val_loss: 0.2863\n",
      "Epoch 9/20\n",
      "1392/1392 [==============================] - 21s 15ms/step - loss: 0.2739 - val_loss: 0.2867\n",
      "Epoch 10/20\n",
      "1392/1392 [==============================] - 21s 15ms/step - loss: 0.2712 - val_loss: 0.2844\n",
      "Epoch 11/20\n",
      "1392/1392 [==============================] - 21s 15ms/step - loss: 0.2686 - val_loss: 0.2828\n",
      "Epoch 12/20\n",
      "1392/1392 [==============================] - 21s 15ms/step - loss: 0.2664 - val_loss: 0.2847\n",
      "Epoch 13/20\n",
      "1392/1392 [==============================] - 22s 16ms/step - loss: 0.2642 - val_loss: 0.2820\n",
      "Epoch 14/20\n",
      "1392/1392 [==============================] - 22s 16ms/step - loss: 0.2625 - val_loss: 0.2791\n",
      "Epoch 15/20\n",
      "1392/1392 [==============================] - 21s 15ms/step - loss: 0.2606 - val_loss: 0.2804\n",
      "Epoch 16/20\n",
      "1392/1392 [==============================] - 22s 15ms/step - loss: 0.2592 - val_loss: 0.2798\n",
      "Epoch 17/20\n",
      "1392/1392 [==============================] - 22s 16ms/step - loss: 0.2577 - val_loss: 0.2785\n",
      "Epoch 18/20\n",
      "1392/1392 [==============================] - 22s 16ms/step - loss: 0.2564 - val_loss: 0.2771\n",
      "Epoch 19/20\n",
      "1392/1392 [==============================] - 21s 15ms/step - loss: 0.2553 - val_loss: 0.2758\n",
      "Epoch 20/20\n",
      "1392/1392 [==============================] - 21s 15ms/step - loss: 0.2539 - val_loss: 0.2753\n"
     ]
    }
   ],
   "source": [
    "# with mlflow.start_run(experiment_id=exp1.experiment_id, run_name='new data - all members zeros included resampled') as current_run:\n",
    "#     mlflow.log_param('features', feature_dict['profile'] + feature_dict['single_level'])    \n",
    "model = prd_pipeline.build_model(**data_dims_dict)\n",
    "model.summary()\n",
    "model = prd_pipeline.train_model(model, data_splits, hyperparameter_dict)\n",
    "    \n",
    "#     model = build_model(data_dims_dict['nprof_features'], data_dims_dict['nheights'], data_dims_dict['nsinglvl_features'], data_dims_dict['nbands'])\n",
    "#     model.summary()\n",
    "#     model, history = train_model(model, data_splits)\n"
   ]
  },
  {
   "cell_type": "code",
   "execution_count": 39,
   "id": "e377663d-f26b-4cee-9436-d5966593ffa1",
   "metadata": {},
   "outputs": [
    {
     "ename": "NameError",
     "evalue": "name 'history' is not defined",
     "output_type": "error",
     "traceback": [
      "\u001b[0;31m---------------------------------------------------------------------------\u001b[0m",
      "\u001b[0;31mNameError\u001b[0m                                 Traceback (most recent call last)",
      "\u001b[0;32m<ipython-input-39-3bb34fae7260>\u001b[0m in \u001b[0;36m<module>\u001b[0;34m\u001b[0m\n\u001b[0;32m----> 1\u001b[0;31m \u001b[0mplt\u001b[0m\u001b[0;34m.\u001b[0m\u001b[0mplot\u001b[0m\u001b[0;34m(\u001b[0m\u001b[0mrange\u001b[0m\u001b[0;34m(\u001b[0m\u001b[0;36m50\u001b[0m\u001b[0;34m)\u001b[0m\u001b[0;34m,\u001b[0m \u001b[0mhistory\u001b[0m\u001b[0;34m.\u001b[0m\u001b[0mhistory\u001b[0m\u001b[0;34m[\u001b[0m\u001b[0;34m'val_loss'\u001b[0m\u001b[0;34m]\u001b[0m\u001b[0;34m)\u001b[0m\u001b[0;34m\u001b[0m\u001b[0;34m\u001b[0m\u001b[0m\n\u001b[0m\u001b[1;32m      2\u001b[0m \u001b[0mplt\u001b[0m\u001b[0;34m.\u001b[0m\u001b[0mplot\u001b[0m\u001b[0;34m(\u001b[0m\u001b[0mrange\u001b[0m\u001b[0;34m(\u001b[0m\u001b[0;36m50\u001b[0m\u001b[0;34m)\u001b[0m\u001b[0;34m,\u001b[0m \u001b[0mhistory\u001b[0m\u001b[0;34m.\u001b[0m\u001b[0mhistory\u001b[0m\u001b[0;34m[\u001b[0m\u001b[0;34m'loss'\u001b[0m\u001b[0;34m]\u001b[0m\u001b[0;34m)\u001b[0m\u001b[0;34m\u001b[0m\u001b[0;34m\u001b[0m\u001b[0m\n",
      "\u001b[0;31mNameError\u001b[0m: name 'history' is not defined"
     ]
    }
   ],
   "source": [
    "plt.plot(range(50), history.history['val_loss'])\n",
    "plt.plot(range(50), history.history['loss'])"
   ]
  },
  {
   "cell_type": "code",
   "execution_count": null,
   "id": "6431fc7a-41e0-4bab-8f6d-facde6aa2303",
   "metadata": {},
   "outputs": [],
   "source": [
    "plt.plot(range(50), history.history['val_accuracy'])\n",
    "plt.plot(range(50), history.history['accuracy'])"
   ]
  },
  {
   "cell_type": "code",
   "execution_count": null,
   "id": "05ba9b2b-7809-4f00-adac-f3db457682f3",
   "metadata": {},
   "outputs": [],
   "source": [
    "y_pred = model.predict(data_splits['X_val'])\n",
    "# error = mean_absolute_error(data_splits['y_val'], y_pred)\n",
    "# print(f'MAE: {error:.3f}')\n",
    "# rsqrd = r2_score(data_splits['y_val'],, y_pred)\n",
    "# print(f'R-squared score: {rsqrd:.3f}')\n",
    "\n",
    "\n",
    "# fig1 = plt.figure(figsize=(10, 8))\n",
    "# ax1 = fig1.add_subplot(1,1,1, title='Actual vs #predicted 3hr rainfall accumulations.')\n",
    "# ax1.scatter(y_test, y_pred, s=200, c='darkblue')\n",
    "# ax1.plot([0, 300], [0, 300], ls=\"--\", c=\".3\")\n",
    "# ax1.set_xlabel('Actual 3hr precip accumulation value')\n",
    "# ax1.set_ylabel('Predicted 3hr precip_accumulation value')\n",
    "\n",
    "# fig1 = plt.figure(figsize=(10, 8))\n",
    "# ax1 = fig1.add_subplot(1,1,1, title='Historgram of Actual vs predicted 3hr rainfall accumulations.')\n",
    "# ax1.hist(y_test, alpha=0.5, bins=40, label='Actual')\n",
    "# ax1.hist(y_pred, alpha=0.5, bins=40, label='Predicted')\n",
    "# ax1.legend()  "
   ]
  },
  {
   "cell_type": "code",
   "execution_count": null,
   "id": "0b6c4ee9-57c7-4fdf-94a6-563e572f16be",
   "metadata": {},
   "outputs": [],
   "source": [
    "# plt.plot(y_pred[0] - data_splits['y_val'].iloc[0])"
   ]
  },
  {
   "cell_type": "code",
   "execution_count": null,
   "id": "9fdfc509-363e-462a-9689-d6dde8950328",
   "metadata": {},
   "outputs": [],
   "source": [
    "for loc in range(30):\n",
    "    plt.plot(y_pred[loc], label='prediction')\n",
    "    plt.plot(data_splits['y_val'].iloc[loc], label='target')\n",
    "    plt.legend()\n",
    "    plt.show()"
   ]
  },
  {
   "cell_type": "code",
   "execution_count": null,
   "id": "d1ce2196-2cea-4284-8b28-e1b9f896a235",
   "metadata": {},
   "outputs": [],
   "source": [
    "for prob in [0.001, 0.01, 0.1, 0.5, 0.95]:\n",
    "    exceeding_prob = []\n",
    "    for thresh in range(4):\n",
    "        exceeding_prob.append(sum(data_splits['y_train'].iloc[:, thresh] > prob))\n",
    "    plt.plot(np.arange(4), exceeding_prob, label=f'nsamples with frac > {prob}')\n",
    "plt.xticks(np.arange(4), data_splits['y_train'].columns, rotation=90)\n",
    "plt.legend()\n",
    "plt.gcf().set_size_inches(10, 5)\n",
    "plt.show()"
   ]
  },
  {
   "cell_type": "code",
   "execution_count": null,
   "id": "cb2ce9af-0e96-4a86-899b-afa5d138b06c",
   "metadata": {},
   "outputs": [],
   "source": [
    "for prob in [0.000001, 0.001, 0.01, 0.1, 0.5, 0.95]:\n",
    "    exceeding_prob = []\n",
    "    for thresh in range(4):\n",
    "        exceeding_prob.append(sum(data_splits['y_val'].iloc[:, thresh] > prob))\n",
    "    plt.plot(np.arange(4), exceeding_prob, label=f'nsamples with frac > {prob}')\n",
    "plt.xticks(np.arange(4), data_splits['y_train'].columns, rotation=90)\n",
    "plt.legend()\n",
    "plt.gcf().set_size_inches(10, 5)\n",
    "plt.show()"
   ]
  },
  {
   "cell_type": "code",
   "execution_count": null,
   "id": "a6637b0c-9789-4643-b9d1-9868fbf67e87",
   "metadata": {},
   "outputs": [],
   "source": [
    "for prob in [0.000001, 0.001, 0.01, 0.1, 0.5, 0.95]:\n",
    "    exceeding_prob = []\n",
    "    for thresh in range(4):\n",
    "        exceeding_prob.append(sum(y_pred[:, thresh] > prob))\n",
    "    plt.plot(np.arange(4), exceeding_prob, label=f'nsamples with frac > {prob}')\n",
    "plt.xticks(np.arange(4), data_splits['y_train'].columns, rotation=90)\n",
    "plt.legend()\n",
    "plt.gcf().set_size_inches(10, 5)\n",
    "plt.show()"
   ]
  },
  {
   "cell_type": "code",
   "execution_count": null,
   "id": "45da5d04-f1fd-46e0-bda0-2c03ef8ccbd2",
   "metadata": {},
   "outputs": [],
   "source": [
    "# for prob in [ 0.001, 0.01, 0.1, 0.5, 0.75, 0.95]:\n",
    "#     exceeding_prob_val = []\n",
    "#     exceeding_prob_pred = []\n",
    "#     for thresh in range(23):\n",
    "#         exceeding_prob_val.append(sum(data_splits['y_val'].iloc[:, thresh] > prob))\n",
    "#         exceeding_prob_pred.append(sum(y_pred[:, thresh] > prob))\n",
    "#     plt.plot(np.arange(23), exceeding_prob_val, label=f'actual vals')\n",
    "#     plt.plot(np.arange(23), exceeding_prob_pred, label=f'predicted vals')\n",
    "#     plt.title(f'nsamples with frac > {prob}')\n",
    "#     plt.xticks(np.arange(23), data_splits['y_train'].columns, rotation=90)\n",
    "#     plt.legend()\n",
    "#     plt.gcf().set_size_inches(10, 5)\n",
    "#     plt.show()"
   ]
  },
  {
   "cell_type": "code",
   "execution_count": null,
   "id": "c500286a-3189-4395-b0ac-74b16d363f44",
   "metadata": {},
   "outputs": [],
   "source": [
    "data_splits['y_train'].iloc[:, thresh]"
   ]
  },
  {
   "cell_type": "code",
   "execution_count": null,
   "id": "14599ac0-a23a-4a69-9bce-2bf756851314",
   "metadata": {},
   "outputs": [],
   "source": [
    "for thresh in range(4): \n",
    "    bins=np.linspace(0,1,51)\n",
    "    # plt.hist(y_pred[:, thresh], alpha=0.5, label='pred', bins=bins, log=True)#,stacked=True, density=True\n",
    "    # plt.hist(data_splits['y_val'].iloc[:, thresh], alpha=0.5, label=f'val {thresh}', bins=bins,log=True, ) # stacked=True, density=True\n",
    "    plt.hist(data_splits['y_train'].iloc[:, thresh], alpha=0.5, label=f'train {thresh}', bins=bins, log=True)#  stacked=True, density=True\n",
    "    plt.legend()\n",
    "    plt.show()"
   ]
  },
  {
   "cell_type": "code",
   "execution_count": null,
   "id": "7ad36ec6-f9ac-42c8-91ae-f7ff4b1fdd68",
   "metadata": {},
   "outputs": [],
   "source": [
    "for thresh in range(4): \n",
    "    bins=np.linspace(0,1,51)\n",
    "    plt.hist(y_pred[:, thresh], alpha=0.5, label='pred', bins=bins, log=True)#,stacked=True, density=True\n",
    "    plt.hist(data_splits['y_val'].iloc[:, thresh], alpha=0.5, label=f'val {thresh}', bins=bins,log=True, ) # stacked=True, density=True\n",
    "    # plt.hist(data_splits['y_train'].iloc[:, thresh], alpha=0.5, label=f'train {thresh}', bins=bins, histtype='step', log=True)#  stacked=True, density=True\n",
    "    plt.legend()\n",
    "    plt.show()\n",
    "    \n",
    "#     error = mean_absolute_error(data_splits['y_val'].iloc[:, thresh], y_pred[:, thresh])\n",
    "#     print(f'MAE: {error:.3f}')\n",
    "#     rsqrd = r2_score(data_splits['y_val'].iloc[:, thresh], y_pred[:, thresh])\n",
    "#     print(f'R-squared score: {rsqrd:.3f}')\n",
    "    "
   ]
  },
  {
   "cell_type": "code",
   "execution_count": null,
   "id": "7a65f09c-ba32-4c50-aa9f-7f7c833b4c6e",
   "metadata": {},
   "outputs": [],
   "source": []
  },
  {
   "cell_type": "code",
   "execution_count": null,
   "id": "932925a3-d1ec-48ac-ad87-797fa912b267",
   "metadata": {},
   "outputs": [],
   "source": []
  },
  {
   "cell_type": "code",
   "execution_count": null,
   "id": "f422c37e-0ecd-47c3-816c-b4d3c0426ee3",
   "metadata": {},
   "outputs": [],
   "source": []
  },
  {
   "cell_type": "code",
   "execution_count": null,
   "id": "3a04f6ac-333e-4ea3-baab-df8b7b85bbf2",
   "metadata": {},
   "outputs": [],
   "source": []
  },
  {
   "cell_type": "code",
   "execution_count": null,
   "id": "19ea4fe8-8cad-4f99-8228-4d21a0a95fc1",
   "metadata": {},
   "outputs": [],
   "source": []
  },
  {
   "cell_type": "code",
   "execution_count": null,
   "id": "a9d1a291-1597-44ba-8c0a-bf25819854c8",
   "metadata": {},
   "outputs": [],
   "source": []
  }
 ],
 "metadata": {
  "kernelspec": {
   "display_name": "Python 3",
   "language": "python",
   "name": "python3"
  },
  "language_info": {
   "codemirror_mode": {
    "name": "ipython",
    "version": 3
   },
   "file_extension": ".py",
   "mimetype": "text/x-python",
   "name": "python",
   "nbconvert_exporter": "python",
   "pygments_lexer": "ipython3",
   "version": "3.8.5"
  }
 },
 "nbformat": 4,
 "nbformat_minor": 5
}
