{
 "cells": [
  {
   "cell_type": "code",
   "execution_count": 1,
   "id": "70cc5013-7b6d-44f5-a7dc-0a1f3504b6da",
   "metadata": {},
   "outputs": [],
   "source": [
    "%matplotlib inline"
   ]
  },
  {
   "cell_type": "code",
   "execution_count": 2,
   "id": "preliminary-idaho",
   "metadata": {},
   "outputs": [],
   "source": [
    "import pandas as pd\n",
    "import numpy as np\n",
    "import pathlib\n",
    "import matplotlib.pyplot as plt"
   ]
  },
  {
   "cell_type": "code",
   "execution_count": 3,
   "id": "06959be2",
   "metadata": {},
   "outputs": [],
   "source": [
    "from sklearn.model_selection import train_test_split\n",
    "from sklearn.preprocessing import StandardScaler"
   ]
  },
  {
   "cell_type": "code",
   "execution_count": 4,
   "id": "6f0d5a25-bd1e-4619-9384-56abacd81e54",
   "metadata": {},
   "outputs": [],
   "source": [
    "# from prd_cluster_train_demo import load_data, preprocess_data"
   ]
  },
  {
   "cell_type": "markdown",
   "id": "1d725a1c-81b0-4aee-8153-1adc1f398ea4",
   "metadata": {},
   "source": [
    "## set up azure experiment\n"
   ]
  },
  {
   "cell_type": "code",
   "execution_count": 5,
   "id": "3aff8274-8f96-45d5-92ba-49b2b4569fc3",
   "metadata": {},
   "outputs": [],
   "source": [
    "import azureml.core\n",
    "from azureml.core import Workspace, Datastore, Dataset, Environment\n",
    "from azureml.core import Experiment, ComputeTarget, ScriptRunConfig"
   ]
  },
  {
   "cell_type": "code",
   "execution_count": 6,
   "id": "c4b67b3e-6f9a-4fc5-b555-481a45ccfd28",
   "metadata": {},
   "outputs": [],
   "source": [
    "prd_ws = Workspace.from_config()"
   ]
  },
  {
   "cell_type": "code",
   "execution_count": 7,
   "id": "a1db4523-cf90-423e-9560-f8ef0d7bd9f1",
   "metadata": {},
   "outputs": [
    {
     "data": {
      "text/plain": [
       "['prd_ml',\n",
       " 'prd_ml_cluster',\n",
       " 'AzureML-VowpalWabbit-8.8.0',\n",
       " 'AzureML-PyTorch-1.3-CPU',\n",
       " 'AzureML-Triton',\n",
       " 'AzureML-responsibleai-0.17-ubuntu20.04-py38-cpu',\n",
       " 'AzureML-lightgbm-3.2-ubuntu18.04-py37-cpu-inference',\n",
       " 'AzureML-mlflow-ubuntu18.04-py37-cpu-inference',\n",
       " 'AzureML-minimal-ubuntu18.04-py37-cpu-inference',\n",
       " 'AzureML-xgboost-0.9-ubuntu18.04-py37-cpu-inference',\n",
       " 'AzureML-tensorflow-1.15-ubuntu18.04-py37-cpu-inference',\n",
       " 'AzureML-sklearn-1.0-ubuntu20.04-py38-cpu',\n",
       " 'AzureML-tensorflow-2.4-ubuntu18.04-py37-cuda11.0.3-gpu-inference',\n",
       " 'AzureML-sklearn-0.24.1-ubuntu18.04-py37-cpu-inference',\n",
       " 'AzureML-lightgbm-3.2-ubuntu18.04-py37-cpu',\n",
       " 'AzureML-tensorflow-2.4-ubuntu18.04-py37-cpu-inference',\n",
       " 'AzureML-sklearn-0.24-ubuntu18.04-py37-cpu',\n",
       " 'AzureML-pytorch-1.10-ubuntu18.04-py37-cpu-inference',\n",
       " 'AzureML-tensorflow-2.4-ubuntu18.04-py37-cuda11-gpu',\n",
       " 'AzureML-tensorflow-2.7-ubuntu20.04-py38-cuda11-gpu',\n",
       " 'AzureML-tensorflow-2.5-ubuntu20.04-py38-cuda11-gpu',\n",
       " 'AzureML-tensorflow-2.6-ubuntu20.04-py38-cuda11-gpu',\n",
       " 'AzureML-pytorch-1.8-ubuntu18.04-py37-cuda11-gpu',\n",
       " 'AzureML-pytorch-1.7-ubuntu18.04-py37-cuda11-gpu',\n",
       " 'AzureML-pytorch-1.10-ubuntu18.04-py38-cuda11-gpu',\n",
       " 'AzureML-pytorch-1.9-ubuntu18.04-py37-cuda11-gpu',\n",
       " 'AzureML-pytorch-1.9-ubuntu18.04-py37-cpu-inference',\n",
       " 'AzureML-minimal-ubuntu18.04-py37-cuda11.0.3-gpu-inference',\n",
       " 'AzureML-pytorch-1.9-ubuntu18.04-py37-cuda11.0.3-gpu-inference']"
      ]
     },
     "execution_count": 7,
     "metadata": {},
     "output_type": "execute_result"
    }
   ],
   "source": [
    "list(Environment.list(prd_ws).keys())"
   ]
  },
  {
   "cell_type": "code",
   "execution_count": 8,
   "id": "21143f25-3443-4fb2-abda-1fe1110a0e5e",
   "metadata": {},
   "outputs": [
    {
     "data": {
      "text/plain": [
       "{\n",
       "    \"databricks\": {\n",
       "        \"eggLibraries\": [],\n",
       "        \"jarLibraries\": [],\n",
       "        \"mavenLibraries\": [],\n",
       "        \"pypiLibraries\": [],\n",
       "        \"rcranLibraries\": []\n",
       "    },\n",
       "    \"docker\": {\n",
       "        \"arguments\": [],\n",
       "        \"baseDockerfile\": \"FROM mcr.microsoft.com/azureml/openmpi4.1.0-cuda11.1-cudnn8-ubuntu20.04:20220329.v1\\n\\nENV AZUREML_CONDA_ENVIRONMENT_PATH /azureml-envs/tensorflow-2.7\\n# Create conda environment\\nRUN conda create -p $AZUREML_CONDA_ENVIRONMENT_PATH \\\\\\n    python=3.8 pip=20.2.4\\n\\n# Prepend path to AzureML conda environment\\nENV PATH $AZUREML_CONDA_ENVIRONMENT_PATH/bin:$PATH\\n\\n# Install pip dependencies\\nRUN HOROVOD_WITH_TENSORFLOW=1 pip install 'matplotlib~=3.5.0' \\\\\\n                                          'psutil~=5.8.0' \\\\\\n                                          'tqdm~=4.62.0' \\\\\\n                                          'pandas~=1.3.0' \\\\\\n                                          'scipy~=1.7.0' \\\\\\n                                          'numpy~=1.21.0' \\\\\\n                                          'ipykernel~=6.0' \\\\\\n                                          'azureml-core==1.40.0' \\\\\\n                                          'azureml-defaults==1.40.0' \\\\\\n                                          'azureml-mlflow==1.40.0' \\\\\\n                                          'azureml-telemetry==1.40.0' \\\\\\n                                          'tensorboard~=2.7.0' \\\\\\n                                          'tensorflow-gpu~=2.7.0' \\\\\\n                                          'tensorflow-datasets~=4.5.0' \\\\\\n                                          'onnxruntime-gpu~=1.9.0' \\\\\\n                                          'horovod[tensorflow-gpu]~=0.23.0'\\n                          \\n# This is needed for mpi to locate libpython\\nENV LD_LIBRARY_PATH $AZUREML_CONDA_ENVIRONMENT_PATH/lib:$LD_LIBRARY_PATH\",\n",
       "        \"baseImage\": null,\n",
       "        \"baseImageRegistry\": {\n",
       "            \"address\": null,\n",
       "            \"password\": null,\n",
       "            \"registryIdentity\": null,\n",
       "            \"username\": null\n",
       "        },\n",
       "        \"enabled\": false,\n",
       "        \"platform\": {\n",
       "            \"architecture\": \"amd64\",\n",
       "            \"os\": \"Linux\"\n",
       "        },\n",
       "        \"sharedVolumes\": true,\n",
       "        \"shmSize\": null\n",
       "    },\n",
       "    \"environmentVariables\": {\n",
       "        \"EXAMPLE_ENV_VAR\": \"EXAMPLE_VALUE\"\n",
       "    },\n",
       "    \"inferencingStackVersion\": null,\n",
       "    \"name\": \"AzureML-tensorflow-2.7-ubuntu20.04-py38-cuda11-gpu\",\n",
       "    \"python\": {\n",
       "        \"baseCondaEnvironment\": null,\n",
       "        \"condaDependenciesFile\": null,\n",
       "        \"interpreterPath\": \"python\",\n",
       "        \"userManagedDependencies\": true\n",
       "    },\n",
       "    \"r\": null,\n",
       "    \"spark\": {\n",
       "        \"packages\": [],\n",
       "        \"precachePackages\": true,\n",
       "        \"repositories\": []\n",
       "    },\n",
       "    \"version\": \"10\"\n",
       "}"
      ]
     },
     "execution_count": 8,
     "metadata": {},
     "output_type": "execute_result"
    }
   ],
   "source": [
    "Environment.list(prd_ws)['AzureML-tensorflow-2.7-ubuntu20.04-py38-cuda11-gpu']"
   ]
  },
  {
   "cell_type": "code",
   "execution_count": 9,
   "id": "35b08e0c-51b2-4c63-9716-64cbb64f9150",
   "metadata": {},
   "outputs": [],
   "source": [
    "azure_dataset_name ='sd3'\n",
    "azure_experiment_name='prd_mlops_test'\n",
    "azure_env_name = 'prd_ml_cluster'\n",
    "cluster_name = 'mlops-test'"
   ]
  },
  {
   "cell_type": "code",
   "execution_count": 10,
   "id": "eb2d0171-1034-4f27-bc3b-d60dd393d943",
   "metadata": {},
   "outputs": [],
   "source": [
    "prd_model_name = 'azml_cluster_demo_20220414'"
   ]
  },
  {
   "cell_type": "code",
   "execution_count": 11,
   "id": "d9c6b52c",
   "metadata": {},
   "outputs": [],
   "source": [
    "target_parameter = 'rainfall_rate_composite'\n",
    "profile_features = ['air_temperature', 'relative_humidity']\n",
    "single_lvl_features = ['air_pressure_at_sea_level'] "
   ]
  },
  {
   "cell_type": "code",
   "execution_count": 12,
   "id": "db8803a5-41f8-46a7-afcc-5e83b8bcec52",
   "metadata": {},
   "outputs": [
    {
     "data": {
      "text/html": [
       "<table style=\"width:100%\"><tr><th>Name</th><th>Workspace</th><th>Report Page</th><th>Docs Page</th></tr><tr><td>prd_mlops_test</td><td>precip_rediagnosis</td><td><a href=\"https://ml.azure.com/experiments/id/9e2e4de2-7fc3-4217-a9ee-43723f8330ae?wsid=/subscriptions/07efdc52-cd27-48ed-9443-3aad2b6b777b/resourcegroups/precip_rediagnosis/workspaces/precip_rediagnosis&amp;tid=14fec308-b428-4380-b914-c1940f3210f1\" target=\"_blank\" rel=\"noopener\">Link to Azure Machine Learning studio</a></td><td><a href=\"https://docs.microsoft.com/en-us/python/api/azureml-core/azureml.core.experiment.Experiment?view=azure-ml-py\" target=\"_blank\" rel=\"noopener\">Link to Documentation</a></td></tr></table>"
      ],
      "text/plain": [
       "Experiment(Name: prd_mlops_test,\n",
       "Workspace: precip_rediagnosis)"
      ]
     },
     "execution_count": 12,
     "metadata": {},
     "output_type": "execute_result"
    }
   ],
   "source": [
    "prd_exp = Experiment(workspace=prd_ws, name=azure_experiment_name)\n",
    "prd_exp"
   ]
  },
  {
   "cell_type": "markdown",
   "id": "53da16db-dade-4d96-ac38-a6befff7a589",
   "metadata": {},
   "source": [
    "Get the AzML environment (basically a conda environment) from the workspace."
   ]
  },
  {
   "cell_type": "code",
   "execution_count": 13,
   "id": "16a304bb-23d4-40e3-a0f6-9628efe621dc",
   "metadata": {},
   "outputs": [
    {
     "data": {
      "text/plain": [
       "{\n",
       "    \"databricks\": {\n",
       "        \"eggLibraries\": [],\n",
       "        \"jarLibraries\": [],\n",
       "        \"mavenLibraries\": [],\n",
       "        \"pypiLibraries\": [],\n",
       "        \"rcranLibraries\": []\n",
       "    },\n",
       "    \"docker\": {\n",
       "        \"arguments\": [],\n",
       "        \"baseDockerfile\": null,\n",
       "        \"baseImage\": \"azureml/openmpi3.1.2-cuda10.2-cudnn8-ubuntu18.04\",\n",
       "        \"baseImageRegistry\": {\n",
       "            \"address\": \"mcr.microsoft.com\",\n",
       "            \"password\": null,\n",
       "            \"registryIdentity\": null,\n",
       "            \"username\": null\n",
       "        },\n",
       "        \"enabled\": false,\n",
       "        \"platform\": {\n",
       "            \"architecture\": \"amd64\",\n",
       "            \"os\": \"Linux\"\n",
       "        },\n",
       "        \"sharedVolumes\": true,\n",
       "        \"shmSize\": null\n",
       "    },\n",
       "    \"environmentVariables\": {},\n",
       "    \"inferencingStackVersion\": null,\n",
       "    \"name\": \"prd_ml_cluster\",\n",
       "    \"python\": {\n",
       "        \"baseCondaEnvironment\": null,\n",
       "        \"condaDependencies\": {\n",
       "            \"channels\": [\n",
       "                \"conda-forge\"\n",
       "            ],\n",
       "            \"dependencies\": [\n",
       "                \"python=3.8\",\n",
       "                \"pandas\",\n",
       "                \"scikit-learn\",\n",
       "                \"tensorflow\",\n",
       "                \"pip\",\n",
       "                {\n",
       "                    \"pip\": [\n",
       "                        \"azureml-defaults\"\n",
       "                    ]\n",
       "                }\n",
       "            ],\n",
       "            \"name\": \"azureml_2eac082847a1e59b172ba0901837ac8e\"\n",
       "        },\n",
       "        \"condaDependenciesFile\": null,\n",
       "        \"interpreterPath\": null,\n",
       "        \"userManagedDependencies\": false\n",
       "    },\n",
       "    \"r\": null,\n",
       "    \"spark\": {\n",
       "        \"packages\": [],\n",
       "        \"precachePackages\": true,\n",
       "        \"repositories\": []\n",
       "    },\n",
       "    \"version\": \"3\"\n",
       "}"
      ]
     },
     "execution_count": 13,
     "metadata": {},
     "output_type": "execute_result"
    }
   ],
   "source": [
    "prd_env = Environment.get(workspace=prd_ws, name=azure_env_name)\n",
    "prd_env"
   ]
  },
  {
   "cell_type": "markdown",
   "id": "wireless-investing",
   "metadata": {},
   "source": [
    "### Load data"
   ]
  },
  {
   "cell_type": "markdown",
   "id": "51ee5da7-5829-4618-af04-17c9cf53473d",
   "metadata": {},
   "source": [
    "load the data from the script so we'renot duplicating code"
   ]
  },
  {
   "cell_type": "code",
   "execution_count": 25,
   "id": "6174c25d-ba3c-4ac7-bcca-a3d6f107aeda",
   "metadata": {},
   "outputs": [],
   "source": [
    "import prd_cluster_train_demo"
   ]
  },
  {
   "cell_type": "code",
   "execution_count": 27,
   "id": "74635d41-c804-4e3c-93e6-c7141e3dbf17",
   "metadata": {},
   "outputs": [
    {
     "data": {
      "text/plain": [
       "<module 'prd_cluster_train_demo' from '/mnt/batch/tasks/shared/LS_root/mounts/clusters/prd-ml-pipeline/code/Users/stephen.haddad/precip_rediagnosis/model_pipeline/prd_cluster_train_demo.py'>"
      ]
     },
     "execution_count": 27,
     "metadata": {},
     "output_type": "execute_result"
    }
   ],
   "source": [
    "import importlib \n",
    "importlib.reload(prd_cluster_train_demo)"
   ]
  },
  {
   "cell_type": "code",
   "execution_count": 30,
   "id": "12cad52f-7d27-44a2-8d1f-14323ae07fa7",
   "metadata": {},
   "outputs": [
    {
     "data": {
      "text/plain": [
       "'0.24.2'"
      ]
     },
     "execution_count": 30,
     "metadata": {},
     "output_type": "execute_result"
    }
   ],
   "source": [
    "import sklearn\n",
    "sklearn.__version__"
   ]
  },
  {
   "cell_type": "code",
   "execution_count": 28,
   "id": "17ece588-dfe2-4e31-a2c7-e30a66a90039",
   "metadata": {},
   "outputs": [
    {
     "name": "stdout",
     "output_type": "stream",
     "text": [
      "['air_temperature_5.0', 'air_temperature_10.0', 'air_temperature_20.0', 'air_temperature_30.0', 'air_temperature_50.0', 'air_temperature_75.0', 'air_temperature_100.0', 'air_temperature_150.0', 'air_temperature_200.0', 'air_temperature_250.0', 'air_temperature_300.0', 'air_temperature_400.0', 'air_temperature_500.0', 'air_temperature_600.0', 'air_temperature_700.0', 'air_temperature_800.0', 'air_temperature_1000.0', 'air_temperature_1250.0', 'air_temperature_1500.0', 'air_temperature_1750.0', 'air_temperature_2000.0', 'air_temperature_2250.0', 'air_temperature_2500.0', 'air_temperature_2750.0', 'air_temperature_3000.0', 'air_temperature_3250.0', 'air_temperature_3500.0', 'air_temperature_3750.0', 'air_temperature_4000.0', 'air_temperature_4500.0', 'air_temperature_5000.0', 'air_temperature_5500.0', 'air_temperature_6000.0', 'relative_humidity_5.0', 'relative_humidity_10.0', 'relative_humidity_20.0', 'relative_humidity_30.0', 'relative_humidity_50.0', 'relative_humidity_75.0', 'relative_humidity_100.0', 'relative_humidity_150.0', 'relative_humidity_200.0', 'relative_humidity_250.0', 'relative_humidity_300.0', 'relative_humidity_400.0', 'relative_humidity_500.0', 'relative_humidity_600.0', 'relative_humidity_700.0', 'relative_humidity_800.0', 'relative_humidity_1000.0', 'relative_humidity_1250.0', 'relative_humidity_1500.0', 'relative_humidity_1750.0', 'relative_humidity_2000.0', 'relative_humidity_2250.0', 'relative_humidity_2500.0', 'relative_humidity_2750.0', 'relative_humidity_3000.0', 'relative_humidity_3250.0', 'relative_humidity_3500.0', 'relative_humidity_3750.0', 'relative_humidity_4000.0', 'relative_humidity_4500.0', 'relative_humidity_5000.0', 'relative_humidity_5500.0', 'relative_humidity_6000.0']\n",
      "['air_pressure_at_sea_level']\n",
      "        air_temperature_5.0  air_temperature_10.0  air_temperature_20.0  \\\n",
      "0                  283.7500               283.750               283.750   \n",
      "1                  283.6250               283.625               283.625   \n",
      "2                  284.2500               284.250               284.250   \n",
      "3                  284.3750               284.375               284.375   \n",
      "4                  283.3750               283.375               283.375   \n",
      "...                     ...                   ...                   ...   \n",
      "190309             279.9375               279.875               279.750   \n",
      "190310             280.8125               280.750               280.625   \n",
      "190311             280.6875               280.625               280.500   \n",
      "190312             280.1250               280.000               279.875   \n",
      "190313             280.5625               280.500               280.375   \n",
      "\n",
      "        air_temperature_30.0  air_temperature_50.0  air_temperature_75.0  \\\n",
      "0                   283.6875              283.6250              283.5625   \n",
      "1                   283.5625              283.5000              283.3750   \n",
      "2                   284.1875              284.0000              284.0000   \n",
      "3                   284.3125              284.2500              284.1250   \n",
      "4                   283.3125              283.2500              283.1250   \n",
      "...                      ...                   ...                   ...   \n",
      "190309              279.6875              279.5000              279.2500   \n",
      "190310              280.5625              280.3750              280.1250   \n",
      "190311              280.3750              280.1875              279.9375   \n",
      "190312              279.8125              279.6250              279.3750   \n",
      "190313              280.3125              280.1250              279.8750   \n",
      "\n",
      "        air_temperature_100.0  air_temperature_150.0  air_temperature_200.0  \\\n",
      "0                     283.500               283.3750               283.2500   \n",
      "1                     283.250               283.0625               282.9375   \n",
      "2                     284.000               283.8125               283.6250   \n",
      "3                     284.000               283.8125               283.5625   \n",
      "4                     283.000               282.8125               282.5625   \n",
      "...                       ...                    ...                    ...   \n",
      "190309                279.000               278.5625               278.1875   \n",
      "190310                279.875               279.4375               279.0625   \n",
      "190311                279.750               279.3125               278.9375   \n",
      "190312                279.125               278.6875               278.1875   \n",
      "190313                279.625               279.1875               278.8125   \n",
      "\n",
      "        air_temperature_250.0  ...  relative_humidity_3000.0  \\\n",
      "0                    283.0625  ...                  0.805664   \n",
      "1                    282.8125  ...                  0.444336   \n",
      "2                    283.4375  ...                  0.424805   \n",
      "3                    283.3125  ...                  0.806641   \n",
      "4                    282.2500  ...                  0.440430   \n",
      "...                       ...  ...                       ...   \n",
      "190309               277.7500  ...                  0.500977   \n",
      "190310               278.6250  ...                  0.457031   \n",
      "190311               278.5000  ...                  0.411133   \n",
      "190312               277.7500  ...                  0.445312   \n",
      "190313               278.3750  ...                  0.645508   \n",
      "\n",
      "        relative_humidity_3250.0  relative_humidity_3500.0  \\\n",
      "0                       0.720703                  0.554688   \n",
      "1                       0.250000                  0.159180   \n",
      "2                       0.269531                  0.143555   \n",
      "3                       0.641602                  0.394531   \n",
      "4                       0.339844                  0.270508   \n",
      "...                          ...                       ...   \n",
      "190309                  0.497070                  0.491211   \n",
      "190310                  0.436523                  0.395508   \n",
      "190311                  0.423828                  0.433594   \n",
      "190312                  0.566406                  0.639648   \n",
      "190313                  0.618164                  0.577148   \n",
      "\n",
      "        relative_humidity_3750.0  relative_humidity_4000.0  \\\n",
      "0                       0.449219                  0.347656   \n",
      "1                       0.134766                  0.098633   \n",
      "2                       0.109375                  0.140625   \n",
      "3                       0.299805                  0.310547   \n",
      "4                       0.260742                  0.219727   \n",
      "...                          ...                       ...   \n",
      "190309                  0.492188                  0.495117   \n",
      "190310                  0.361328                  0.346680   \n",
      "190311                  0.433594                  0.433594   \n",
      "190312                  0.637695                  0.596680   \n",
      "190313                  0.558594                  0.553711   \n",
      "\n",
      "        relative_humidity_4500.0  relative_humidity_5000.0  \\\n",
      "0                       0.361328                  0.798828   \n",
      "1                       0.043945                  0.567383   \n",
      "2                       0.475586                  0.848633   \n",
      "3                       0.525391                  0.805664   \n",
      "4                       0.118164                  0.764648   \n",
      "...                          ...                       ...   \n",
      "190309                  0.505859                  0.531250   \n",
      "190310                  0.345703                  0.308594   \n",
      "190311                  0.456055                  0.531250   \n",
      "190312                  0.452148                  0.359375   \n",
      "190313                  0.588867                  0.637695   \n",
      "\n",
      "        relative_humidity_5500.0  relative_humidity_6000.0  \\\n",
      "0                       0.821289                  0.811523   \n",
      "1                       0.827148                  0.810547   \n",
      "2                       0.833008                  0.820312   \n",
      "3                       0.818359                  0.806641   \n",
      "4                       0.830078                  0.824219   \n",
      "...                          ...                       ...   \n",
      "190309                  0.574219                  0.602539   \n",
      "190310                  0.239258                  0.189453   \n",
      "190311                  0.580078                  0.558594   \n",
      "190312                  0.359375                  0.344727   \n",
      "190313                  0.647461                  0.619141   \n",
      "\n",
      "        air_pressure_at_sea_level  \n",
      "0                        100903.0  \n",
      "1                        100879.0  \n",
      "2                        100887.0  \n",
      "3                        100882.0  \n",
      "4                        100934.0  \n",
      "...                           ...  \n",
      "190309                    96897.0  \n",
      "190310                    97084.0  \n",
      "190311                    97068.0  \n",
      "190312                    97118.0  \n",
      "190313                    97034.0  \n",
      "\n",
      "[37962 rows x 67 columns]\n"
     ]
    }
   ],
   "source": [
    "input_data = prd_cluster_train_demo.load_data(\n",
    "    prd_ws,\n",
    "    dataset_name=azure_dataset_name\n",
    ")\n",
    "data_splits, data_dims = prd_cluster_train_demo.preprocess_data(\n",
    "    input_data,\n",
    "    feature_dict={'profile': profile_features, 'single_level': single_lvl_features,'target': target_parameter,},\n",
    ")\n"
   ]
  },
  {
   "cell_type": "code",
   "execution_count": null,
   "id": "30802214-52fe-45fb-816e-c5d72001c208",
   "metadata": {},
   "outputs": [],
   "source": []
  },
  {
   "cell_type": "code",
   "execution_count": 15,
   "id": "d6617411-75b6-440b-bf21-eed2570e71d0",
   "metadata": {},
   "outputs": [],
   "source": [
    "# these are example calls to the code for easier debugging than running on a separate cluster\n",
    "# model = prd_cluster_train_demo.build_model(**data_dims)\n",
    "# model = prd_cluster_train_demo.train_model(model, data_splits)"
   ]
  },
  {
   "cell_type": "code",
   "execution_count": 16,
   "id": "d7243f14-bdd5-4348-ad0e-bf8729197580",
   "metadata": {},
   "outputs": [],
   "source": [
    "import datetime\n",
    "log_dir = 'log/fit/' + datetime.datetime.now().strftime('%Y%m%d-%H%M%S')"
   ]
  },
  {
   "cell_type": "markdown",
   "id": "6879705d-02a5-457a-81dd-a2efcc3a0d3c",
   "metadata": {
    "tags": []
   },
   "source": [
    "### Execute our training run on a cluster"
   ]
  },
  {
   "cell_type": "code",
   "execution_count": 17,
   "id": "ee033e3d-f70c-4833-827e-c47272b8327f",
   "metadata": {},
   "outputs": [
    {
     "data": {
      "text/plain": [
       "AmlCompute(workspace=Workspace.create(name='precip_rediagnosis', subscription_id='07efdc52-cd27-48ed-9443-3aad2b6b777b', resource_group='precip_rediagnosis'), name=mlops-test, id=/subscriptions/07efdc52-cd27-48ed-9443-3aad2b6b777b/resourceGroups/precip_rediagnosis/providers/Microsoft.MachineLearningServices/workspaces/precip_rediagnosis/computes/mlops-test, type=AmlCompute, provisioning_state=Succeeded, location=uksouth, tags={})"
      ]
     },
     "execution_count": 17,
     "metadata": {},
     "output_type": "execute_result"
    }
   ],
   "source": [
    "prd_demo_compute_target = ComputeTarget(workspace=prd_ws, name=cluster_name)\n",
    "prd_demo_compute_target"
   ]
  },
  {
   "cell_type": "code",
   "execution_count": 37,
   "id": "6581fbf3-ec63-4ddb-9346-c1db7f6ff527",
   "metadata": {},
   "outputs": [
    {
     "data": {
      "text/plain": [
       "['--dataset-name',\n",
       " 'sd3',\n",
       " '--target-parameter',\n",
       " 'rainfall_rate_composite',\n",
       " '--model-name',\n",
       " 'azml_cluster_demo_20220414',\n",
       " '--profile-features',\n",
       " 'air_temperature',\n",
       " 'relative_humidity',\n",
       " '--single-level_features',\n",
       " 'air_pressure_at_sea_level']"
      ]
     },
     "execution_count": 37,
     "metadata": {},
     "output_type": "execute_result"
    }
   ],
   "source": [
    "prd_demo_args = ['--dataset-name', azure_dataset_name,\n",
    "                 '--target-parameter', target_parameter,\n",
    "                 '--model-name', prd_model_name,\n",
    "                ]\n",
    "\n",
    "prd_demo_args += ['--profile-features']\n",
    "prd_demo_args += profile_features\n",
    "prd_demo_args += ['--single-level_features']\n",
    "prd_demo_args += single_lvl_features\n",
    "\n",
    "prd_demo_args"
   ]
  },
  {
   "cell_type": "code",
   "execution_count": 50,
   "id": "a552930a-a4d3-477c-9486-0071247cf723",
   "metadata": {},
   "outputs": [],
   "source": [
    "prd_run_src = ScriptRunConfig(source_directory=os.getcwd(),\n",
    "                      script='prd_cluster_train_demo.py',\n",
    "                      arguments=prd_demo_args,\n",
    "                      compute_target=prd_demo_compute_target,\n",
    "                      environment=prd_env)"
   ]
  },
  {
   "cell_type": "code",
   "execution_count": 51,
   "id": "26f24060-af81-4ab6-b1cd-37e92997c493",
   "metadata": {},
   "outputs": [
    {
     "data": {
      "text/html": [
       "<table style=\"width:100%\"><tr><th>Experiment</th><th>Id</th><th>Type</th><th>Status</th><th>Details Page</th><th>Docs Page</th></tr><tr><td>prd_mlops_test</td><td>prd_mlops_test_1650450496_a9ff55aa</td><td>azureml.scriptrun</td><td>Preparing</td><td><a href=\"https://ml.azure.com/runs/prd_mlops_test_1650450496_a9ff55aa?wsid=/subscriptions/07efdc52-cd27-48ed-9443-3aad2b6b777b/resourcegroups/precip_rediagnosis/workspaces/precip_rediagnosis&amp;tid=14fec308-b428-4380-b914-c1940f3210f1\" target=\"_blank\" rel=\"noopener\">Link to Azure Machine Learning studio</a></td><td><a href=\"https://docs.microsoft.com/en-us/python/api/azureml-core/azureml.core.script_run.ScriptRun?view=azure-ml-py\" target=\"_blank\" rel=\"noopener\">Link to Documentation</a></td></tr></table>"
      ],
      "text/plain": [
       "Run(Experiment: prd_mlops_test,\n",
       "Id: prd_mlops_test_1650450496_a9ff55aa,\n",
       "Type: azureml.scriptrun,\n",
       "Status: Preparing)"
      ]
     },
     "execution_count": 51,
     "metadata": {},
     "output_type": "execute_result"
    }
   ],
   "source": [
    "prd_run = prd_exp.submit(prd_run_src)\n",
    "prd_run"
   ]
  },
  {
   "cell_type": "markdown",
   "id": "2f0fa07b",
   "metadata": {
    "tags": []
   },
   "source": [
    "## Evaluation"
   ]
  },
  {
   "cell_type": "code",
   "execution_count": null,
   "id": "2c7ec093",
   "metadata": {},
   "outputs": [],
   "source": [
    "plt.figure(figsize=(10, 8))\n",
    "plt.plot(training_hist_df.epoch, training_hist_df.loss, label='training')\n",
    "plt.plot(training_hist_df.epoch, training_hist_df.val_loss, c='g', label='validation')\n",
    "plt.legend()\n",
    "plt.ylabel('MAE [mm of precipitation]')\n",
    "plt.xlabel('epochs')"
   ]
  },
  {
   "cell_type": "code",
   "execution_count": null,
   "id": "c7e7dd0b",
   "metadata": {},
   "outputs": [],
   "source": [
    "fig1 = plt.figure(figsize=(10, 8))\n",
    "ax1 = fig1.add_subplot(1,1,1)\n",
    "ax1.scatter(y_test, y_pred, s=200, c='darkblue')\n",
    "ax1.plot([0, 300], [0, 300], ls=\"--\", c=\".3\")\n",
    "ax1.set_xlabel('Actual 3hr precip accumulation value')\n",
    "ax1.set_ylabel('Predicted 3hr precip_accumulation value')"
   ]
  },
  {
   "cell_type": "code",
   "execution_count": null,
   "id": "43385cc4-b515-4745-8e9c-2cfcc8624483",
   "metadata": {},
   "outputs": [],
   "source": [
    "prd_run.log_image(name='actual_vs_pred', plot=fig1, description='predicted vs actual 3hr accumulations of rainfall')"
   ]
  },
  {
   "cell_type": "code",
   "execution_count": null,
   "id": "b6a95931-bf51-479e-b9bc-c29fb11059a9",
   "metadata": {},
   "outputs": [],
   "source": [
    "prd_run.complete()"
   ]
  }
 ],
 "metadata": {
  "kernelspec": {
   "display_name": "Python 3",
   "language": "python",
   "name": "python3"
  },
  "language_info": {
   "codemirror_mode": {
    "name": "ipython",
    "version": 3
   },
   "file_extension": ".py",
   "mimetype": "text/x-python",
   "name": "python",
   "nbconvert_exporter": "python",
   "pygments_lexer": "ipython3",
   "version": "3.8.1"
  }
 },
 "nbformat": 4,
 "nbformat_minor": 5
}
