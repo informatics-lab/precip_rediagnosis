{
 "cells": [
  {
   "cell_type": "markdown",
   "id": "782aa6fd-a986-4f3a-928c-a6e66f743d53",
   "metadata": {},
   "source": [
    "# Running model training on Azure ML Compute Clusters"
   ]
  },
  {
   "cell_type": "code",
   "execution_count": 1,
   "id": "preliminary-idaho",
   "metadata": {},
   "outputs": [],
   "source": [
    "import pandas as pd\n",
    "import numpy as np\n",
    "import pathlib\n",
    "import matplotlib.pyplot as plt"
   ]
  },
  {
   "cell_type": "code",
   "execution_count": 2,
   "id": "9aa196a9-eb4a-4c36-8b76-695640a74799",
   "metadata": {},
   "outputs": [],
   "source": [
    "import matplotlib"
   ]
  },
  {
   "cell_type": "code",
   "execution_count": 3,
   "id": "70cc5013-7b6d-44f5-a7dc-0a1f3504b6da",
   "metadata": {},
   "outputs": [],
   "source": [
    "%matplotlib inline"
   ]
  },
  {
   "cell_type": "code",
   "execution_count": 4,
   "id": "06959be2",
   "metadata": {},
   "outputs": [],
   "source": [
    "from sklearn.model_selection import train_test_split\n",
    "from sklearn.preprocessing import StandardScaler"
   ]
  },
  {
   "cell_type": "code",
   "execution_count": 5,
   "id": "6174c25d-ba3c-4ac7-bcca-a3d6f107aeda",
   "metadata": {},
   "outputs": [],
   "source": [
    "import prd_pipeline"
   ]
  },
  {
   "cell_type": "markdown",
   "id": "1d725a1c-81b0-4aee-8153-1adc1f398ea4",
   "metadata": {},
   "source": [
    "## set up azure experiment\n"
   ]
  },
  {
   "cell_type": "code",
   "execution_count": 6,
   "id": "3aff8274-8f96-45d5-92ba-49b2b4569fc3",
   "metadata": {},
   "outputs": [],
   "source": [
    "import azureml.core\n",
    "from azureml.core import Workspace, Datastore, Dataset, Environment\n",
    "from azureml.core import Experiment, ComputeTarget, ScriptRunConfig"
   ]
  },
  {
   "cell_type": "code",
   "execution_count": 7,
   "id": "c4b67b3e-6f9a-4fc5-b555-481a45ccfd28",
   "metadata": {},
   "outputs": [],
   "source": [
    "prd_ws = Workspace.from_config()"
   ]
  },
  {
   "cell_type": "code",
   "execution_count": 8,
   "id": "30a95d56-22d8-4a7a-81dc-5ba7dfe30958",
   "metadata": {},
   "outputs": [],
   "source": [
    "use_full_dataset = False\n",
    "if use_full_dataset:\n",
    "    azure_dataset_name ='prd_merged_all_events_files'\n",
    "else:\n",
    "    #  use subset for development.\n",
    "    azure_dataset_name ='prd_merged_202110_nswws_amber_oct_files'"
   ]
  },
  {
   "cell_type": "code",
   "execution_count": 74,
   "id": "35b08e0c-51b2-4c63-9716-64cbb64f9150",
   "metadata": {},
   "outputs": [],
   "source": [
    "azure_experiment_name='prd_mlops_test'"
   ]
  },
  {
   "cell_type": "code",
   "execution_count": 73,
   "id": "0fbe3d64-26ef-4ad9-82a8-757ff11632cd",
   "metadata": {},
   "outputs": [],
   "source": [
    "do_download_data = True # if false, use the azml dataset, otherwise download from datastore or blob store\n",
    "use_blob_store = True # only applies if do download is true. If this is true, download from the blob store rather than the datastore."
   ]
  },
  {
   "cell_type": "code",
   "execution_count": 75,
   "id": "65d0a097-7133-49ee-9aa4-3813b196d135",
   "metadata": {},
   "outputs": [],
   "source": [
    "if do_download_data and use_blob_store:\n",
    "    # need to use th environment with fsspec if these flags are true\n",
    "    azure_env_name = 'prd_ml_gpu_cluster'\n",
    "else:\n",
    "    azure_env_name = 'prd_ml_cluster'"
   ]
  },
  {
   "cell_type": "code",
   "execution_count": 83,
   "id": "73e9fe5c-f4e0-46de-b1c1-3ee35e9cd587",
   "metadata": {},
   "outputs": [
    {
     "data": {
      "text/plain": [
       "'mlops-gpu-test'"
      ]
     },
     "execution_count": 83,
     "metadata": {},
     "output_type": "execute_result"
    }
   ],
   "source": [
    "use_gpu = True\n",
    "if use_gpu:\n",
    "    cluster_name = 'mlops-gpu-test'\n",
    "else:\n",
    "    cluster_name = 'mlops-test'\n",
    "cluster_name"
   ]
  },
  {
   "cell_type": "code",
   "execution_count": 79,
   "id": "eb2d0171-1034-4f27-bc3b-d60dd393d943",
   "metadata": {},
   "outputs": [],
   "source": [
    "prd_model_name = 'azml_cluster_demo_mean_rain'"
   ]
  },
  {
   "cell_type": "code",
   "execution_count": 12,
   "id": "d9c6b52c",
   "metadata": {},
   "outputs": [],
   "source": [
    "target_parameter = 'radar_mean_rain_instant'\n",
    "profile_features = ['air_temperature', 'relative_humidity']\n",
    "single_lvl_features = ['air_pressure_at_sea_level'] "
   ]
  },
  {
   "cell_type": "code",
   "execution_count": 13,
   "id": "db8803a5-41f8-46a7-afcc-5e83b8bcec52",
   "metadata": {},
   "outputs": [
    {
     "data": {
      "text/html": [
       "<table style=\"width:100%\"><tr><th>Name</th><th>Workspace</th><th>Report Page</th><th>Docs Page</th></tr><tr><td>prd_mlops_test</td><td>precip_rediagnosis</td><td><a href=\"https://ml.azure.com/experiments/id/9e2e4de2-7fc3-4217-a9ee-43723f8330ae?wsid=/subscriptions/07efdc52-cd27-48ed-9443-3aad2b6b777b/resourcegroups/precip_rediagnosis/workspaces/precip_rediagnosis&amp;tid=14fec308-b428-4380-b914-c1940f3210f1\" target=\"_blank\" rel=\"noopener\">Link to Azure Machine Learning studio</a></td><td><a href=\"https://docs.microsoft.com/en-us/python/api/azureml-core/azureml.core.experiment.Experiment?view=azure-ml-py\" target=\"_blank\" rel=\"noopener\">Link to Documentation</a></td></tr></table>"
      ],
      "text/plain": [
       "Experiment(Name: prd_mlops_test,\n",
       "Workspace: precip_rediagnosis)"
      ]
     },
     "execution_count": 13,
     "metadata": {},
     "output_type": "execute_result"
    }
   ],
   "source": [
    "prd_exp = Experiment(workspace=prd_ws, name=azure_experiment_name)\n",
    "prd_exp"
   ]
  },
  {
   "cell_type": "markdown",
   "id": "53da16db-dade-4d96-ac38-a6befff7a589",
   "metadata": {},
   "source": [
    "Get the AzML environment (basically a conda environment) from the workspace."
   ]
  },
  {
   "cell_type": "code",
   "execution_count": 77,
   "id": "16a304bb-23d4-40e3-a0f6-9628efe621dc",
   "metadata": {},
   "outputs": [
    {
     "data": {
      "text/plain": [
       "{\n",
       "    \"assetId\": \"azureml://locations/uksouth/workspaces/57546dc9-9763-4025-831d-c19991c81540/environments/prd_ml_gpu_cluster/versions/1\",\n",
       "    \"databricks\": {\n",
       "        \"eggLibraries\": [],\n",
       "        \"jarLibraries\": [],\n",
       "        \"mavenLibraries\": [],\n",
       "        \"pypiLibraries\": [],\n",
       "        \"rcranLibraries\": []\n",
       "    },\n",
       "    \"docker\": {\n",
       "        \"arguments\": [],\n",
       "        \"baseDockerfile\": null,\n",
       "        \"baseImage\": \"mcr.microsoft.com/azureml/openmpi3.1.2-cuda10.2-cudnn8-ubuntu18.04\",\n",
       "        \"baseImageRegistry\": null,\n",
       "        \"buildContext\": null,\n",
       "        \"enabled\": false,\n",
       "        \"platform\": {\n",
       "            \"architecture\": \"amd64\",\n",
       "            \"os\": \"Linux\"\n",
       "        },\n",
       "        \"sharedVolumes\": true,\n",
       "        \"shmSize\": null\n",
       "    },\n",
       "    \"environmentVariables\": {},\n",
       "    \"inferencingStackVersion\": null,\n",
       "    \"name\": \"prd_ml_gpu_cluster\",\n",
       "    \"python\": {\n",
       "        \"baseCondaEnvironment\": null,\n",
       "        \"condaDependencies\": {\n",
       "            \"channels\": [\n",
       "                \"conda-forge\"\n",
       "            ],\n",
       "            \"dependencies\": [\n",
       "                \"python=3.8\",\n",
       "                \"pandas=1.3\",\n",
       "                \"scikit-learn=1.0\",\n",
       "                \"tensorflow=2.8\",\n",
       "                \"fsspec\",\n",
       "                \"adlfs\",\n",
       "                \"pip\",\n",
       "                {\n",
       "                    \"pip\": [\n",
       "                        \"azureml-defaults\"\n",
       "                    ]\n",
       "                }\n",
       "            ],\n",
       "            \"name\": \"prd_ml_cluster_azml\"\n",
       "        },\n",
       "        \"condaDependenciesFile\": null,\n",
       "        \"interpreterPath\": null,\n",
       "        \"userManagedDependencies\": false\n",
       "    },\n",
       "    \"r\": null,\n",
       "    \"spark\": {\n",
       "        \"packages\": [],\n",
       "        \"precachePackages\": true,\n",
       "        \"repositories\": []\n",
       "    },\n",
       "    \"version\": \"1\"\n",
       "}"
      ]
     },
     "execution_count": 77,
     "metadata": {},
     "output_type": "execute_result"
    }
   ],
   "source": [
    "prd_env = Environment.get(workspace=prd_ws, name=azure_env_name)\n",
    "prd_env"
   ]
  },
  {
   "cell_type": "markdown",
   "id": "wireless-investing",
   "metadata": {},
   "source": [
    "### Load data"
   ]
  },
  {
   "cell_type": "markdown",
   "id": "51ee5da7-5829-4618-af04-17c9cf53473d",
   "metadata": {},
   "source": [
    "load the data from the script so we'renot duplicating code"
   ]
  },
  {
   "cell_type": "code",
   "execution_count": 41,
   "id": "74635d41-c804-4e3c-93e6-c7141e3dbf17",
   "metadata": {},
   "outputs": [
    {
     "data": {
      "text/plain": [
       "<module 'prd_pipeline' from '/mnt/batch/tasks/shared/LS_root/mounts/clusters/prd-ml-pipeline/code/Users/stephen.haddad/precip_rediagnosis/model_pipeline/prd_pipeline.py'>"
      ]
     },
     "execution_count": 41,
     "metadata": {},
     "output_type": "execute_result"
    }
   ],
   "source": [
    "import importlib \n",
    "importlib.reload(prd_pipeline)"
   ]
  },
  {
   "cell_type": "code",
   "execution_count": 45,
   "id": "87b3d78a-fbb0-4b90-8aaa-905163634b16",
   "metadata": {},
   "outputs": [],
   "source": [
    "import json"
   ]
  },
  {
   "cell_type": "code",
   "execution_count": 46,
   "id": "c6670b97-1055-43e0-a58b-a8d593f6f801",
   "metadata": {},
   "outputs": [
    {
     "data": {
      "text/plain": [
       "dict_keys(['storage_acc_name', 'storage_acc_key', 'container'])"
      ]
     },
     "execution_count": 46,
     "metadata": {},
     "output_type": "execute_result"
    }
   ],
   "source": [
    "with open('credentials_file.json') as credentials_file:\n",
    "    az_blob_cred = json.load(credentials_file)\n",
    "    \n",
    "az_blob_cred.keys()"
   ]
  },
  {
   "cell_type": "code",
   "execution_count": 47,
   "id": "28bbcafe-79e6-4290-a40e-726f0a872313",
   "metadata": {},
   "outputs": [],
   "source": [
    "prd_blob_rel_path = 'prd/202008_storm_francis/prd_merged*csv'"
   ]
  },
  {
   "cell_type": "code",
   "execution_count": 48,
   "id": "17ece588-dfe2-4e31-a2c7-e30a66a90039",
   "metadata": {},
   "outputs": [
    {
     "name": "stdout",
     "output_type": "stream",
     "text": [
      "CPU times: user 17.6 s, sys: 2.81 s, total: 20.5 s\n",
      "Wall time: 32.7 s\n"
     ]
    }
   ],
   "source": [
    "%%time\n",
    "input_data = prd_pipeline.load_data_azure_blob(\n",
    "    az_blob_cred=az_blob_cred,\n",
    "    blob_path=prd_blob_rel_path,\n",
    ")\n"
   ]
  },
  {
   "cell_type": "code",
   "execution_count": 49,
   "id": "30802214-52fe-45fb-816e-c5d72001c208",
   "metadata": {},
   "outputs": [
    {
     "name": "stdout",
     "output_type": "stream",
     "text": [
      "target has dims: 23\n",
      "dropping zeros\n",
      "getting profile columns\n",
      "['relative_humidity_5.0', 'relative_humidity_10.0', 'relative_humidity_20.0', 'relative_humidity_30.0', 'relative_humidity_50.0', 'relative_humidity_75.0', 'relative_humidity_100.0', 'relative_humidity_150.0', 'relative_humidity_200.0', 'relative_humidity_250.0', 'relative_humidity_300.0', 'relative_humidity_400.0', 'relative_humidity_500.0', 'relative_humidity_600.0', 'relative_humidity_700.0', 'relative_humidity_800.0', 'relative_humidity_1000.0', 'relative_humidity_1250.0', 'relative_humidity_1500.0', 'relative_humidity_1750.0', 'relative_humidity_2000.0', 'relative_humidity_2250.0', 'relative_humidity_2500.0', 'relative_humidity_2750.0', 'relative_humidity_3000.0', 'relative_humidity_3250.0', 'relative_humidity_3500.0', 'relative_humidity_3750.0', 'relative_humidity_4000.0', 'relative_humidity_4500.0', 'relative_humidity_5000.0', 'relative_humidity_5500.0', 'relative_humidity_6000.0', 'air_temperature_5.0', 'air_temperature_10.0', 'air_temperature_20.0', 'air_temperature_30.0', 'air_temperature_50.0', 'air_temperature_75.0', 'air_temperature_100.0', 'air_temperature_150.0', 'air_temperature_200.0', 'air_temperature_250.0', 'air_temperature_300.0', 'air_temperature_400.0', 'air_temperature_500.0', 'air_temperature_600.0', 'air_temperature_700.0', 'air_temperature_800.0', 'air_temperature_1000.0', 'air_temperature_1250.0', 'air_temperature_1500.0', 'air_temperature_1750.0', 'air_temperature_2000.0', 'air_temperature_2250.0', 'air_temperature_2500.0', 'air_temperature_2750.0', 'air_temperature_3000.0', 'air_temperature_3250.0', 'air_temperature_3500.0', 'air_temperature_3750.0', 'air_temperature_4000.0', 'air_temperature_4500.0', 'air_temperature_5000.0', 'air_temperature_5500.0', 'air_temperature_6000.0']\n",
      "{'profile': ['air_temperature', 'relative_humidity'], 'single_level': ['air_pressure_at_sea_level'], 'target': 'radar_mean_rain_instant'}\n",
      "CPU times: user 667 ms, sys: 1.02 s, total: 1.68 s\n",
      "Wall time: 2.04 s\n"
     ]
    }
   ],
   "source": [
    "%%time\n",
    "data_splits, data_dims = prd_pipeline.preprocess_data(\n",
    "    input_data,\n",
    "    feature_dict={'profile': profile_features, 'single_level': single_lvl_features,'target': target_parameter,},\n",
    "    test_fraction=0.2, \n",
    ")"
   ]
  },
  {
   "cell_type": "code",
   "execution_count": null,
   "id": "62f15839-dc3b-47e5-ad6e-841523cc97f7",
   "metadata": {},
   "outputs": [],
   "source": []
  },
  {
   "cell_type": "code",
   "execution_count": 18,
   "id": "d6617411-75b6-440b-bf21-eed2570e71d0",
   "metadata": {},
   "outputs": [],
   "source": [
    "# these are example calls to the code for easier debugging than running on a separate cluster\n",
    "# model = prd_cluster_train_demo.build_model(**data_dims)\n",
    "# model = prd_cluster_train_demo.train_model(model, data_splits)"
   ]
  },
  {
   "cell_type": "code",
   "execution_count": 19,
   "id": "d7243f14-bdd5-4348-ad0e-bf8729197580",
   "metadata": {},
   "outputs": [],
   "source": [
    "# import datetime\n",
    "# log_dir = 'log/fit/' + datetime.datetime.now().strftime('%Y%m%d-%H%M%S')\n",
    "log_dir = './logs'"
   ]
  },
  {
   "cell_type": "markdown",
   "id": "6879705d-02a5-457a-81dd-a2efcc3a0d3c",
   "metadata": {
    "tags": []
   },
   "source": [
    "### Execute our training run on a cluster"
   ]
  },
  {
   "cell_type": "code",
   "execution_count": 84,
   "id": "ee033e3d-f70c-4833-827e-c47272b8327f",
   "metadata": {},
   "outputs": [
    {
     "data": {
      "text/plain": [
       "AmlCompute(workspace=Workspace.create(name='precip_rediagnosis', subscription_id='07efdc52-cd27-48ed-9443-3aad2b6b777b', resource_group='precip_rediagnosis'), name=mlops-gpu-test, id=/subscriptions/07efdc52-cd27-48ed-9443-3aad2b6b777b/resourceGroups/precip_rediagnosis/providers/Microsoft.MachineLearningServices/workspaces/precip_rediagnosis/computes/mlops-gpu-test, type=AmlCompute, provisioning_state=Succeeded, location=uksouth, tags={})"
      ]
     },
     "execution_count": 84,
     "metadata": {},
     "output_type": "execute_result"
    }
   ],
   "source": [
    "prd_demo_compute_target = ComputeTarget(workspace=prd_ws, name=cluster_name)\n",
    "prd_demo_compute_target"
   ]
  },
  {
   "cell_type": "code",
   "execution_count": 69,
   "id": "6581fbf3-ec63-4ddb-9346-c1db7f6ff527",
   "metadata": {},
   "outputs": [],
   "source": [
    "prd_demo_args = ['--dataset-name', azure_dataset_name,\n",
    "                 '--target-parameter', target_parameter,\n",
    "                 '--model-name', prd_model_name,\n",
    "                ]\n",
    "\n",
    "prd_demo_args += ['--profile-features']\n",
    "prd_demo_args += profile_features\n",
    "prd_demo_args += ['--single-level_features']\n",
    "prd_demo_args += single_lvl_features\n",
    "prd_demo_args += ['--epochs', 10]\n",
    "prd_demo_args += ['--batch-size', 128]\n",
    "prd_demo_args += ['--learning-rate', 0.01]\n",
    "prd_demo_args += ['--test-fraction', 0.2]\n",
    "prd_demo_args += ['--log-dir', log_dir]\n"
   ]
  },
  {
   "cell_type": "code",
   "execution_count": 71,
   "id": "92cb3add-711d-4bf9-b3c6-0de4cb0a9ddf",
   "metadata": {},
   "outputs": [],
   "source": [
    "if do_download_data:\n",
    "    if use_blob_store:\n",
    "        prd_demo_args += ['--data-path', prd_blob_rel_path]\n",
    "        prd_demo_args += ['--blob']    \n",
    "    else:\n",
    "        prd_demo_args += ['--data-path', azureml.core.Dataset.get_by_name(prd_ws, azure_dataset_name).as_download()]"
   ]
  },
  {
   "cell_type": "code",
   "execution_count": 72,
   "id": "8049bd8f-04a5-4c56-9a6e-f866a4807105",
   "metadata": {},
   "outputs": [
    {
     "data": {
      "text/plain": [
       "['--dataset-name',\n",
       " 'prd_merged_202110_nswws_amber_oct_files',\n",
       " '--target-parameter',\n",
       " 'radar_mean_rain_instant',\n",
       " '--model-name',\n",
       " 'azml_cluster_demo_20220414',\n",
       " '--profile-features',\n",
       " 'air_temperature',\n",
       " 'relative_humidity',\n",
       " '--single-level_features',\n",
       " 'air_pressure_at_sea_level',\n",
       " '--epochs',\n",
       " 10,\n",
       " '--batch-size',\n",
       " 128,\n",
       " '--learning-rate',\n",
       " 0.01,\n",
       " '--test-fraction',\n",
       " 0.2,\n",
       " '--log-dir',\n",
       " './logs',\n",
       " '--data-path',\n",
       " 'prd/202008_storm_francis/prd_merged*csv',\n",
       " '--blob']"
      ]
     },
     "execution_count": 72,
     "metadata": {},
     "output_type": "execute_result"
    }
   ],
   "source": [
    "prd_demo_args"
   ]
  },
  {
   "cell_type": "code",
   "execution_count": 85,
   "id": "a552930a-a4d3-477c-9486-0071247cf723",
   "metadata": {},
   "outputs": [],
   "source": [
    "prd_run_src = ScriptRunConfig(source_directory=os.getcwd(),\n",
    "                      script='prd_cluster_train_demo.py',\n",
    "                      arguments=prd_demo_args,\n",
    "                      compute_target=prd_demo_compute_target,\n",
    "                      environment=prd_env)"
   ]
  },
  {
   "cell_type": "code",
   "execution_count": 86,
   "id": "26f24060-af81-4ab6-b1cd-37e92997c493",
   "metadata": {},
   "outputs": [
    {
     "data": {
      "text/html": [
       "<table style=\"width:100%\"><tr><th>Experiment</th><th>Id</th><th>Type</th><th>Status</th><th>Details Page</th><th>Docs Page</th></tr><tr><td>prd_mlops_test</td><td>prd_mlops_test_1664552817_03c5efe4</td><td>azureml.scriptrun</td><td>Preparing</td><td><a href=\"https://ml.azure.com/runs/prd_mlops_test_1664552817_03c5efe4?wsid=/subscriptions/07efdc52-cd27-48ed-9443-3aad2b6b777b/resourcegroups/precip_rediagnosis/workspaces/precip_rediagnosis&amp;tid=14fec308-b428-4380-b914-c1940f3210f1\" target=\"_blank\" rel=\"noopener\">Link to Azure Machine Learning studio</a></td><td><a href=\"https://docs.microsoft.com/en-us/python/api/azureml-core/azureml.core.script_run.ScriptRun?view=azure-ml-py\" target=\"_blank\" rel=\"noopener\">Link to Documentation</a></td></tr></table>"
      ],
      "text/plain": [
       "Run(Experiment: prd_mlops_test,\n",
       "Id: prd_mlops_test_1664552817_03c5efe4,\n",
       "Type: azureml.scriptrun,\n",
       "Status: Preparing)"
      ]
     },
     "execution_count": 86,
     "metadata": {},
     "output_type": "execute_result"
    }
   ],
   "source": [
    "prd_run = prd_exp.submit(prd_run_src)\n",
    "prd_run"
   ]
  },
  {
   "cell_type": "code",
   "execution_count": 27,
   "id": "4161cc62-09a0-4b95-b76f-d8728091b8ef",
   "metadata": {},
   "outputs": [],
   "source": [
    "from azureml.tensorboard import Tensorboard"
   ]
  },
  {
   "cell_type": "code",
   "execution_count": 28,
   "id": "2438c566-b02d-4264-b44b-68de25cc296b",
   "metadata": {},
   "outputs": [],
   "source": [
    "tb = Tensorboard([prd_run])"
   ]
  },
  {
   "cell_type": "code",
   "execution_count": 29,
   "id": "efa80a91-2b15-4449-bfa4-fa9c18d6e611",
   "metadata": {},
   "outputs": [
    {
     "name": "stdout",
     "output_type": "stream",
     "text": [
      "https://prd-ml-pipeline-6006.uksouth.instances.azureml.ms\n"
     ]
    },
    {
     "data": {
      "text/plain": [
       "'https://prd-ml-pipeline-6006.uksouth.instances.azureml.ms'"
      ]
     },
     "execution_count": 29,
     "metadata": {},
     "output_type": "execute_result"
    }
   ],
   "source": [
    "# If successful, start() returns a string with the URI of the instance.\n",
    "tb.start()"
   ]
  },
  {
   "cell_type": "code",
   "execution_count": 30,
   "id": "b2659839-a78f-4334-aaac-827ad3b8c84a",
   "metadata": {},
   "outputs": [],
   "source": [
    "prd_run.wait_for_completion()\n",
    "assert(prd_run.get_status() == \"Completed\")"
   ]
  },
  {
   "cell_type": "code",
   "execution_count": 31,
   "id": "6215e9fc-7e23-4f92-8e34-5d51adef9908",
   "metadata": {},
   "outputs": [],
   "source": [
    "# After your job completes, be sure to stop() the streaming otherwise it will continue to run. \n",
    "tb.stop()"
   ]
  },
  {
   "cell_type": "markdown",
   "id": "2f0fa07b",
   "metadata": {
    "tags": []
   },
   "source": [
    "## Evaluation\n",
    "\n",
    "We now get the trained model to do some evaluatiion and create some plots"
   ]
  },
  {
   "cell_type": "code",
   "execution_count": 32,
   "id": "4a9d9288-263b-4b1c-9d6d-0b4bd74f27e2",
   "metadata": {},
   "outputs": [],
   "source": [
    "import tempfile"
   ]
  },
  {
   "cell_type": "code",
   "execution_count": 33,
   "id": "19ed52b6-7728-4ed2-b796-48053a5e78b7",
   "metadata": {},
   "outputs": [],
   "source": [
    "import tensorflow.keras"
   ]
  },
  {
   "cell_type": "markdown",
   "id": "165e4993-96e6-4975-9024-d69c33bb84ac",
   "metadata": {},
   "source": [
    "We download the model file into a temproary directory (so as not to pollute the local workspace) and load into memory to do inference"
   ]
  },
  {
   "cell_type": "code",
   "execution_count": 34,
   "id": "818a6d03-9f0d-4a40-b0e5-4f95306b4c20",
   "metadata": {},
   "outputs": [
    {
     "name": "stderr",
     "output_type": "stream",
     "text": [
      "2022-09-29 18:59:22.790195: I tensorflow/core/platform/cpu_feature_guard.cc:151] This TensorFlow binary is optimized with oneAPI Deep Neural Network Library (oneDNN) to use the following CPU instructions in performance-critical operations:  SSE4.1 SSE4.2 AVX AVX2 FMA\n",
      "To enable them in other operations, rebuild TensorFlow with the appropriate compiler flags.\n"
     ]
    }
   ],
   "source": [
    "with tempfile.TemporaryDirectory() as td1:\n",
    "    td_path = pathlib.Path(td1)\n",
    "    prd_run.download_files(prefix=prd_model_name, output_directory=td1)\n",
    "    model_path = td_path / prd_model_name\n",
    "    list(model_path.iterdir())\n",
    "    trained_model = tensorflow.keras.models.load_model(model_path)"
   ]
  },
  {
   "cell_type": "code",
   "execution_count": 35,
   "id": "f4a7f14c-dece-475c-b321-377be47cab0a",
   "metadata": {},
   "outputs": [
    {
     "data": {
      "text/plain": [
       "<keras.engine.functional.Functional at 0x7f63cb5f0520>"
      ]
     },
     "execution_count": 35,
     "metadata": {},
     "output_type": "execute_result"
    }
   ],
   "source": [
    "trained_model"
   ]
  },
  {
   "cell_type": "code",
   "execution_count": 36,
   "id": "26af6141-846e-40ef-90ae-8607feeb0b16",
   "metadata": {},
   "outputs": [
    {
     "data": {
      "text/plain": [
       "dict_keys(['X_train', 'X_val', 'y_train', 'y_val'])"
      ]
     },
     "execution_count": 36,
     "metadata": {},
     "output_type": "execute_result"
    }
   ],
   "source": [
    "data_splits.keys()"
   ]
  },
  {
   "cell_type": "code",
   "execution_count": 37,
   "id": "c68e7789-4683-4caf-a826-17b4a9c47fa7",
   "metadata": {},
   "outputs": [],
   "source": [
    "y_pred = trained_model.predict(data_splits['X_val'])"
   ]
  },
  {
   "cell_type": "code",
   "execution_count": 38,
   "id": "c7e7dd0b",
   "metadata": {},
   "outputs": [
    {
     "data": {
      "text/plain": [
       "Text(0, 0.5, 'Predicted 3hr precip_accumulation value')"
      ]
     },
     "execution_count": 38,
     "metadata": {},
     "output_type": "execute_result"
    },
    {
     "data": {
      "image/png": "[encoded data removed]",
      "text/plain": [
       "<Figure size 1000x800 with 1 Axes>"
      ]
     },
     "metadata": {},
     "output_type": "display_data"
    }
   ],
   "source": [
    "fig1 = plt.figure(figsize=(10, 8))\n",
    "ax1 = fig1.add_subplot(1,1,1)\n",
    "ax1.scatter(data_splits['y_val'], y_pred, s=200, c='darkblue')\n",
    "ax1.plot([0, 300], [0, 300], ls=\"--\", c=\".3\")\n",
    "ax1.set_xlabel('Actual 3hr precip accumulation value')\n",
    "ax1.set_ylabel('Predicted 3hr precip_accumulation value')"
   ]
  },
  {
   "cell_type": "code",
   "execution_count": 39,
   "id": "43385cc4-b515-4745-8e9c-2cfcc8624483",
   "metadata": {},
   "outputs": [],
   "source": [
    "prd_run.log_image(name='actual_vs_pred', plot=fig1, description='predicted vs actual 3hr accumulations of rainfall')"
   ]
  },
  {
   "cell_type": "code",
   "execution_count": 40,
   "id": "b6a95931-bf51-479e-b9bc-c29fb11059a9",
   "metadata": {},
   "outputs": [],
   "source": [
    "prd_run.complete()"
   ]
  }
 ],
 "metadata": {
  "kernelspec": {
   "display_name": "PRd ML Training AzML",
   "language": "python",
   "name": "kernel_prd_ml"
  },
  "language_info": {
   "codemirror_mode": {
    "name": "ipython",
    "version": 3
   },
   "file_extension": ".py",
   "mimetype": "text/x-python",
   "name": "python",
   "nbconvert_exporter": "python",
   "pygments_lexer": "ipython3",
   "version": "3.8.13"
  }
 },
 "nbformat": 4,
 "nbformat_minor": 5
}
