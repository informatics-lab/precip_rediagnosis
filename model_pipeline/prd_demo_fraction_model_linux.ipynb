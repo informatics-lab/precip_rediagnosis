{
 "cells": [
  {
   "cell_type": "markdown",
   "id": "3cc68a0a-ada5-4272-8bb5-7cd0df0059a8",
   "metadata": {},
   "source": [
    "# Machine learning model training pipeline \n",
    "\n",
    "Modelling fraction of precipitation in different intensity bands. This notebook is designed to be run on a local linux/mac machine or VM."
   ]
  },
  {
   "cell_type": "markdown",
   "id": "6982084a-6214-4639-8f85-29cab839d643",
   "metadata": {},
   "source": [
    "## Set up"
   ]
  },
  {
   "cell_type": "markdown",
   "id": "57e7f0b3-ffcd-4311-bed3-b5e39d8c89aa",
   "metadata": {
    "tags": []
   },
   "source": [
    "Firstly, we import relevant libraries"
   ]
  },
  {
   "cell_type": "code",
   "execution_count": 1,
   "id": "2ccd2586-7952-4b04-9e66-354340354a98",
   "metadata": {},
   "outputs": [],
   "source": [
    "import pathlib\n",
    "import os\n",
    "import warnings\n",
    "warnings.filterwarnings('ignore')"
   ]
  },
  {
   "cell_type": "code",
   "execution_count": 2,
   "id": "preliminary-idaho",
   "metadata": {},
   "outputs": [],
   "source": [
    "import pandas as pd\n",
    "import numpy as np\n",
    "import matplotlib.pyplot as plt\n",
    "import xarray as xr\n",
    "import tensorflow as tf"
   ]
  },
  {
   "cell_type": "code",
   "execution_count": 3,
   "id": "a22aa912-97be-4bf2-8405-8cda52a88c5f",
   "metadata": {},
   "outputs": [
    {
     "name": "stdout",
     "output_type": "stream",
     "text": [
      "AzureML libraries not found, using local execution functions.\n"
     ]
    }
   ],
   "source": [
    "import prd_pipeline"
   ]
  },
  {
   "cell_type": "markdown",
   "id": "eaa75fff-4107-4e56-9347-7472507e473c",
   "metadata": {},
   "source": [
    "Set up MLops for experiment tracking "
   ]
  },
  {
   "cell_type": "code",
   "execution_count": 4,
   "id": "6af55860-af60-492e-9826-af22e021a9c7",
   "metadata": {},
   "outputs": [],
   "source": [
    "import mlflow\n",
    "mlflow.tensorflow.autolog()"
   ]
  },
  {
   "cell_type": "code",
   "execution_count": 5,
   "id": "92c91145-c41f-459e-876f-b9cda9172f8c",
   "metadata": {},
   "outputs": [
    {
     "name": "stdout",
     "output_type": "stream",
     "text": [
      "Current tracking uri: http://localhost:5000\n"
     ]
    }
   ],
   "source": [
    "mlflow_server_address = 'localhost'\n",
    "mlflow_server_port = 5000\n",
    "tracking_uri = f'http://{mlflow_server_address}:{mlflow_server_port}'\n",
    "mlflow.set_tracking_uri(tracking_uri)\n",
    "print(f'Current tracking uri: {tracking_uri}')"
   ]
  },
  {
   "cell_type": "code",
   "execution_count": 6,
   "id": "05d7a00c-a9ae-4fd9-8e49-3c44d473a237",
   "metadata": {},
   "outputs": [],
   "source": [
    "root_prd_data_dir = pathlib.Path(os.environ['HOME']) / 'data' / 'precip_rediagnosis'"
   ]
  },
  {
   "cell_type": "code",
   "execution_count": 7,
   "id": "6bdb8241-b48a-4053-becf-55c35bf1432f",
   "metadata": {},
   "outputs": [],
   "source": [
    "checkpoints_dir = root_prd_data_dir / 'experiments'"
   ]
  },
  {
   "cell_type": "code",
   "execution_count": 22,
   "id": "265fac30-78ae-4c1b-9761-cdde23e0f231",
   "metadata": {},
   "outputs": [],
   "source": [
    "tensorboard_logs_dir = root_prd_data_dir / 'tensorboard'\n"
   ]
  },
  {
   "cell_type": "markdown",
   "id": "wireless-investing",
   "metadata": {},
   "source": [
    "## Load and preprocess data"
   ]
  },
  {
   "cell_type": "markdown",
   "id": "f8e9414d-d1e2-415a-bffd-a7d1496c0555",
   "metadata": {},
   "source": [
    "During data preparation, the fraction of precipitation in a set of intensity band has been calculated. The keys in this dictionary correspond to the bands central value, which has been used within the column names, while the list of two float values correspond to the lower and upper bounds of that band. This band information can also be found in the data prep config files."
   ]
  },
  {
   "cell_type": "code",
   "execution_count": 8,
   "id": "3af345ac-2b1f-4592-829b-d874ca08d521",
   "metadata": {},
   "outputs": [],
   "source": [
    "bands = {\n",
    "    '0.0':[0, 0.01],\n",
    "    '0.25':[0.01, 0.5], \n",
    "    '2.5': [0.5, 4], \n",
    "    '7.0':[4, 10], \n",
    "    '10.0':[10,220]\n",
    "}"
   ]
  },
  {
   "cell_type": "code",
   "execution_count": 9,
   "id": "709714c6-77ba-4588-a249-958c7a6f375e",
   "metadata": {},
   "outputs": [],
   "source": [
    "intensity_band_template = '{source}_fraction_in_band_instant_{band_centre}'"
   ]
  },
  {
   "cell_type": "markdown",
   "id": "6e795706-eb8a-4931-9db3-5d8c651013a5",
   "metadata": {},
   "source": [
    "We create a dictionary containing the column names for both model input features and target values. \n",
    "\n",
    "For profile features, features available in the prepared dataset are: \n",
    "- 'air_temperature'\n",
    "- 'relative_humidity'\n",
    "- 'wind_speed'\n",
    "- 'wind_from_direction'\n",
    "- 'cloud_volume_fraction'\n",
    "- 'air_pressure'\n",
    "\n",
    "For single level features, features available in the prepared dataset are:\n",
    "- 'thickness_of_rainfall_amount'\n",
    "- 'surface_altitude'\n",
    "- 'air_pressure_at_sea_level'\n",
    "- 'cloud_area_fraction'"
   ]
  },
  {
   "cell_type": "code",
   "execution_count": 10,
   "id": "41b14934-bf6a-4f50-91bb-fba6a48624fe",
   "metadata": {},
   "outputs": [],
   "source": [
    "target_parameter = [intensity_band_template.format(source='radar', band_centre=threshold) for threshold in bands.keys()]\n",
    "nwp_comparison = [intensity_band_template.format(source='mogrepsg', band_centre=threshold) for threshold in bands.keys()]\n",
    "\n",
    "profile_features = ['air_temperature', 'relative_humidity', 'wind_speed', 'wind_from_direction', 'cloud_volume_fraction'] #'air_pressure',\n",
    "single_lvl_features = []#['surface_altitude']#'thickness_of_rainfall_amount', 'surface_altitude', 'air_pressure_at_sea_level', 'cloud_area_fraction'"
   ]
  },
  {
   "cell_type": "code",
   "execution_count": 11,
   "id": "190ad81c-b092-46fa-8a5b-a362d37754e9",
   "metadata": {},
   "outputs": [],
   "source": [
    "feature_dict = {\n",
    "    'profile': profile_features,\n",
    "    'single_level': single_lvl_features,\n",
    "    'target': target_parameter,\n",
    "    'nwp': nwp_comparison, \n",
    "    'metadata': ['time', 'realization', 'latitude', 'longitude']\n",
    "} "
   ]
  },
  {
   "cell_type": "markdown",
   "id": "85f7b0f9-00c7-4e23-bc16-7ad228597d6d",
   "metadata": {},
   "source": [
    "We load in most of the data, but reserve the first and last scenario in our dataset as unseen test scenarios."
   ]
  },
  {
   "cell_type": "code",
   "execution_count": 12,
   "id": "42fe0acd-e240-478b-b78f-bb0e65d86128",
   "metadata": {},
   "outputs": [
    {
     "name": "stdout",
     "output_type": "stream",
     "text": [
      "/Users/stephen.haddad/data/precip_rediagnosis/train_202212 \n",
      " exists=True\n"
     ]
    }
   ],
   "source": [
    "dataset_name = 'train_202212'\n",
    "dataset_dir = root_prd_data_dir / dataset_name\n",
    "print(f'{dataset_dir} \\n exists={dataset_dir.is_dir()}')"
   ]
  },
  {
   "cell_type": "code",
   "execution_count": 13,
   "id": "9cb25b07-b368-47f4-9147-4064230b4fee",
   "metadata": {},
   "outputs": [
    {
     "data": {
      "text/plain": [
       "[PosixPath('/Users/stephen.haddad/data/precip_rediagnosis/train_202212/prd_merged_20210219T0600Z_20210220T1800Z.csv'),\n",
       " PosixPath('/Users/stephen.haddad/data/precip_rediagnosis/train_202212/prd_merged_20211019T1800Z_20211021T0600Z.csv'),\n",
       " PosixPath('/Users/stephen.haddad/data/precip_rediagnosis/train_202212/prd_merged_20200824T1800Z_20200826T1200Z.csv'),\n",
       " PosixPath('/Users/stephen.haddad/data/precip_rediagnosis/train_202212/prd_merged_20201217T1800Z_20201219T0000Z.csv'),\n",
       " PosixPath('/Users/stephen.haddad/data/precip_rediagnosis/train_202212/prd_merged_20201002T0000Z_20201004T1800Z.csv'),\n",
       " PosixPath('/Users/stephen.haddad/data/precip_rediagnosis/train_202212/prd_merged_20211206T1800Z_20211209T0600Z.csv'),\n",
       " PosixPath('/Users/stephen.haddad/data/precip_rediagnosis/train_202212/prd_merged_20200819T0600Z_20200822T1200Z.csv')]"
      ]
     },
     "execution_count": 13,
     "metadata": {},
     "output_type": "execute_result"
    }
   ],
   "source": [
    "prd_path_list = [p1 for p1 in dataset_dir.rglob(f'{prd_pipeline.MERGED_PREFIX}*{prd_pipeline.CSV_FILE_SUFFIX}')]\n",
    "prd_path_list"
   ]
  },
  {
   "cell_type": "code",
   "execution_count": 14,
   "id": "3b4b19bc-2f32-4f48-a92e-db4d4f844894",
   "metadata": {},
   "outputs": [],
   "source": [
    "merged_df = pd.concat([pd.read_csv(p1) for p1 in prd_path_list[:2]])"
   ]
  },
  {
   "cell_type": "code",
   "execution_count": 15,
   "id": "6675f7e9-bd48-4264-8cce-817402905516",
   "metadata": {
    "tags": []
   },
   "outputs": [
    {
     "name": "stdout",
     "output_type": "stream",
     "text": [
      "Filepaths for scenarios reserved for testing:\n",
      " /Users/stephen.haddad/data/precip_rediagnosis/train_202212/prd_merged_20210219T0600Z_20210220T1800Z.csv \n",
      " /Users/stephen.haddad/data/precip_rediagnosis/train_202212/prd_merged_20200819T0600Z_20200822T1200Z.csv\n"
     ]
    }
   ],
   "source": [
    "print(f'Filepaths for scenarios reserved for testing:\\n {prd_path_list[0]} \\n {prd_path_list[-1]}')"
   ]
  },
  {
   "cell_type": "markdown",
   "id": "eb7de7e6-e0e0-482a-bc00-f94e0a603fc6",
   "metadata": {},
   "source": [
    "Now that our data is loaded into a single pandas dataframe, we run preprocessing which split this into train and validate sets, as well as applying scaling to input features and reshaping verticle profile features to reintroduce height dimension."
   ]
  },
  {
   "cell_type": "code",
   "execution_count": 16,
   "id": "4205d3bf-b421-4298-8a5c-35126e904259",
   "metadata": {},
   "outputs": [
    {
     "name": "stdout",
     "output_type": "stream",
     "text": [
      "target has dims: 5\n",
      "dropping datapoints where smallest bin radar_fraction_in_band_instant_0.0 = 1\n",
      "getting profile columns\n",
      "{'nprof_features': 5, 'nheights': 33, 'nsinglvl_features': 0, 'nbands': 5}\n"
     ]
    }
   ],
   "source": [
    "test_fraction = 0.2\n",
    "data_splits, data_dims_dict = prd_pipeline.preprocess_data(merged_df, feature_dict, test_fraction=test_fraction)"
   ]
  },
  {
   "cell_type": "markdown",
   "id": "39d57977-45a5-4592-8cfe-c0f7ce911ff6",
   "metadata": {
    "tags": []
   },
   "source": [
    "## Run experiment\n",
    "\n",
    "Here we train and evaluate our model. All parameters and the output model will be logged through MLFlow.\n",
    "\n",
    "First we check whether our MLFlow experiment already exists, if it does then we assign the experiment to a variable, if not we create an experiment."
   ]
  },
  {
   "cell_type": "code",
   "execution_count": 17,
   "id": "2040403e-7a51-4943-9b08-b8e236f56fc8",
   "metadata": {},
   "outputs": [
    {
     "data": {
      "text/plain": [
       "<Experiment: artifact_location='/Users/stephen.haddad/data/precip_rediagnosis/experiments/1', creation_time=1675874698097, experiment_id='1', last_update_time=1675874698097, lifecycle_stage='active', name='prd_fraction_models_mlflow', tags={}>"
      ]
     },
     "execution_count": 17,
     "metadata": {},
     "output_type": "execute_result"
    }
   ],
   "source": [
    "exp_name='prd_fraction_models_mlflow'\n",
    "try:\n",
    "    exp1 = mlflow.create_experiment(exp_name)\n",
    "except:\n",
    "    exp1 = mlflow.get_experiment_by_name(exp_name)\n",
    "exp1"
   ]
  },
  {
   "cell_type": "markdown",
   "id": "a6fc9d05-2bac-4537-b196-9dceded0e8aa",
   "metadata": {},
   "source": [
    "Create a dictionary containing our model hyperparameters"
   ]
  },
  {
   "cell_type": "code",
   "execution_count": 18,
   "id": "b4fc4fc3-9730-4822-93a2-9304476d84bd",
   "metadata": {},
   "outputs": [],
   "source": [
    "hyperparameter_dict = {\n",
    "    'epochs': 10, \n",
    "    'learning_rate': 0.001, \n",
    "    'batch_size': 64,  \n",
    "    'loss': tf.keras.losses.KLDivergence()\n",
    "}"
   ]
  },
  {
   "cell_type": "markdown",
   "id": "26bee8e4-a1f4-4f9a-9c0a-1772ce35803c",
   "metadata": {},
   "source": [
    "Now we create a model run within the MLFlow experiment from above, then run model training. In doing so all metrics and hyperparamters from model training will be tracked. We can also manually log parameters and metrics, such as model input features. "
   ]
  },
  {
   "cell_type": "code",
   "execution_count": 20,
   "id": "b8c57efe-118e-4990-a552-cb64ed63f4af",
   "metadata": {},
   "outputs": [],
   "source": [
    "import tensorboard"
   ]
  },
  {
   "cell_type": "code",
   "execution_count": 21,
   "id": "52304e01-bc9b-434f-92c6-3767306d56e9",
   "metadata": {},
   "outputs": [],
   "source": [
    "# Load the TensorBoard notebook extension\n",
    "%load_ext tensorboard"
   ]
  },
  {
   "cell_type": "code",
   "execution_count": 25,
   "id": "10ce155c-8cc4-48f5-a9b0-3de1e9f4ed69",
   "metadata": {},
   "outputs": [
    {
     "data": {
      "text/plain": [
       "PosixPath('/Users/stephen.haddad/data/precip_rediagnosis/tensorboard')"
      ]
     },
     "execution_count": 25,
     "metadata": {},
     "output_type": "execute_result"
    }
   ],
   "source": [
    "str(tensorboard_logs_dir)"
   ]
  },
  {
   "cell_type": "code",
   "execution_count": 27,
   "id": "b1f63681-a770-4091-b617-f158f0056650",
   "metadata": {},
   "outputs": [
    {
     "data": {
      "text/html": [
       "\n",
       "      <iframe id=\"tensorboard-frame-7c8367a359d5d5da\" width=\"100%\" height=\"800\" frameborder=\"0\">\n",
       "      </iframe>\n",
       "      <script>\n",
       "        (function() {\n",
       "          const frame = document.getElementById(\"tensorboard-frame-7c8367a359d5d5da\");\n",
       "          const url = new URL(\"/\", window.location);\n",
       "          const port = 6008;\n",
       "          if (port) {\n",
       "            url.port = port;\n",
       "          }\n",
       "          frame.src = url;\n",
       "        })();\n",
       "      </script>\n",
       "    "
      ],
      "text/plain": [
       "<IPython.core.display.HTML object>"
      ]
     },
     "metadata": {},
     "output_type": "display_data"
    }
   ],
   "source": [
    "%tensorboard --logdir /Users/stephen.haddad/data/precip_rediagnosis/tensorboard"
   ]
  },
  {
   "cell_type": "code",
   "execution_count": 24,
   "id": "acad9952-087e-479b-bd96-5e9ddc3b55fb",
   "metadata": {},
   "outputs": [
    {
     "name": "stdout",
     "output_type": "stream",
     "text": [
      "Model: \"model_1\"\n",
      "__________________________________________________________________________________________________\n",
      " Layer (type)                   Output Shape         Param #     Connected to                     \n",
      "==================================================================================================\n",
      " profile_input (InputLayer)     [(None, 33, 5)]      0           []                               \n",
      "                                                                                                  \n",
      " zero_padding1d_3 (ZeroPadding1  (None, 35, 5)       0           ['profile_input[0][0]']          \n",
      " D)                                                                                               \n",
      "                                                                                                  \n",
      " conv1d_3 (Conv1D)              (None, 33, 32)       480         ['zero_padding1d_3[0][0]']       \n",
      "                                                                                                  \n",
      " zero_padding1d_4 (ZeroPadding1  (None, 35, 32)      0           ['conv1d_3[0][0]']               \n",
      " D)                                                                                               \n",
      "                                                                                                  \n",
      " conv1d_4 (Conv1D)              (None, 33, 32)       3072        ['zero_padding1d_4[0][0]']       \n",
      "                                                                                                  \n",
      " zero_padding1d_5 (ZeroPadding1  (None, 35, 32)      0           ['conv1d_4[0][0]']               \n",
      " D)                                                                                               \n",
      "                                                                                                  \n",
      " conv1d_5 (Conv1D)              (None, 33, 32)       3072        ['zero_padding1d_5[0][0]']       \n",
      "                                                                                                  \n",
      " add_1 (Add)                    (None, 33, 32)       0           ['conv1d_5[0][0]',               \n",
      "                                                                  'conv1d_3[0][0]']               \n",
      "                                                                                                  \n",
      " flatten_1 (Flatten)            (None, 1056)         0           ['add_1[0][0]']                  \n",
      "                                                                                                  \n",
      " dense_1 (Dense)                (None, 165)          174240      ['flatten_1[0][0]']              \n",
      "                                                                                                  \n",
      " main_output (Dense)            (None, 5)            830         ['dense_1[0][0]']                \n",
      "                                                                                                  \n",
      "==================================================================================================\n",
      "Total params: 181,694\n",
      "Trainable params: 181,694\n",
      "Non-trainable params: 0\n",
      "__________________________________________________________________________________________________\n",
      "Epoch 1/10\n",
      "2327/2327 [==============================] - 14s 6ms/step - loss: 0.4331 - accuracy: 0.6398 - val_loss: 0.4202 - val_accuracy: 0.6324\n",
      "Epoch 2/10\n",
      "2327/2327 [==============================] - 16s 7ms/step - loss: 0.3780 - accuracy: 0.6740 - val_loss: 0.4014 - val_accuracy: 0.6512\n",
      "Epoch 3/10\n",
      "2327/2327 [==============================] - 13s 6ms/step - loss: 0.3520 - accuracy: 0.6923 - val_loss: 0.3876 - val_accuracy: 0.6554\n",
      "Epoch 4/10\n",
      "2327/2327 [==============================] - 14s 6ms/step - loss: 0.3338 - accuracy: 0.7054 - val_loss: 0.3802 - val_accuracy: 0.6658\n",
      "Epoch 5/10\n",
      "2327/2327 [==============================] - 15s 7ms/step - loss: 0.3200 - accuracy: 0.7137 - val_loss: 0.3658 - val_accuracy: 0.6707\n",
      "Epoch 6/10\n",
      "2327/2327 [==============================] - 15s 7ms/step - loss: 0.3096 - accuracy: 0.7218 - val_loss: 0.3666 - val_accuracy: 0.6764\n",
      "Epoch 7/10\n",
      "2327/2327 [==============================] - 15s 7ms/step - loss: 0.2997 - accuracy: 0.7288 - val_loss: 0.3575 - val_accuracy: 0.6775\n",
      "Epoch 8/10\n",
      "2327/2327 [==============================] - 15s 7ms/step - loss: 0.2912 - accuracy: 0.7346 - val_loss: 0.3509 - val_accuracy: 0.6827\n",
      "Epoch 9/10\n",
      "2327/2327 [==============================] - 17s 7ms/step - loss: 0.2838 - accuracy: 0.7393 - val_loss: 0.3560 - val_accuracy: 0.6774\n",
      "Epoch 10/10\n",
      "2327/2327 [==============================] - 16s 7ms/step - loss: 0.2778 - accuracy: 0.7426 - val_loss: 0.3510 - val_accuracy: 0.6816\n",
      "INFO:tensorflow:Assets written to: /var/folders/w0/2x361bn95wj7lfgl33vksx1w0000gn/T/tmpvmu681_0/model/data/model/assets\n"
     ]
    }
   ],
   "source": [
    "with mlflow.start_run(experiment_id=exp1.experiment_id) as current_run:\n",
    "    mlflow.log_param('features', feature_dict['profile'] + feature_dict['single_level'])    \n",
    "    model = prd_pipeline.build_model(**data_dims_dict)\n",
    "    model.summary()\n",
    "    model, history = prd_pipeline.train_model(model, \n",
    "                                              data_splits, \n",
    "                                              hyperparameter_dict, \n",
    "                                              log_dir=tensorboard_logs_dir,\n",
    "                                              checkpoint_dir=checkpoints_dir)"
   ]
  },
  {
   "cell_type": "markdown",
   "id": "0a847b6b-bad1-4caf-b590-c6ed6ffc2cb1",
   "metadata": {},
   "source": [
    "Once model training is completed, we quickly plot comparisons of training and validation loss and accuracy curves, to check whether our model has started to converge and is therefore learning from our data. Similar plots are also available on MLFlow. "
   ]
  },
  {
   "cell_type": "code",
   "execution_count": 28,
   "id": "e377663d-f26b-4cee-9436-d5966593ffa1",
   "metadata": {},
   "outputs": [
    {
     "data": {
      "image/png": "[encoded data removed]",
      "text/plain": [
       "<Figure size 640x480 with 1 Axes>"
      ]
     },
     "metadata": {},
     "output_type": "display_data"
    }
   ],
   "source": [
    "plt.plot(range(hyperparameter_dict['epochs']), history.history['val_loss'], label='validation loss')\n",
    "plt.plot(range(hyperparameter_dict['epochs']), history.history['loss'], label='training loss')\n",
    "plt.legend()\n",
    "plt.show()"
   ]
  },
  {
   "cell_type": "code",
   "execution_count": 29,
   "id": "6431fc7a-41e0-4bab-8f6d-facde6aa2303",
   "metadata": {},
   "outputs": [
    {
     "data": {
      "image/png": "[encoded data removed]",
      "text/plain": [
       "<Figure size 640x480 with 1 Axes>"
      ]
     },
     "metadata": {},
     "output_type": "display_data"
    }
   ],
   "source": [
    "plt.plot(range(hyperparameter_dict['epochs']), history.history['val_accuracy'], label='validation accuracy')\n",
    "plt.plot(range(hyperparameter_dict['epochs']), history.history['accuracy'], label='training accuracy')\n",
    "plt.legend()\n",
    "plt.show()"
   ]
  },
  {
   "cell_type": "markdown",
   "id": "7ef5377c-db82-4e6e-9eea-3b2b948d935a",
   "metadata": {},
   "source": [
    "## Inference and model evaluation "
   ]
  },
  {
   "cell_type": "markdown",
   "id": "054a6e95-54fd-4059-8e54-4e367069a609",
   "metadata": {},
   "source": [
    "Now that a model has been trained, we can use the validation dataset to assess how this model is performing. We create predictions from our model using validation model inputs."
   ]
  },
  {
   "cell_type": "code",
   "execution_count": 30,
   "id": "05ba9b2b-7809-4f00-adac-f3db457682f3",
   "metadata": {},
   "outputs": [],
   "source": [
    "y_pred = model.predict(data_splits['X_val'])"
   ]
  },
  {
   "cell_type": "markdown",
   "id": "e09352b6-864d-4102-a0b3-ac4c2fd0c531",
   "metadata": {},
   "source": [
    "We put our validation prediction into a pandas DataFrame to ease model assessment."
   ]
  },
  {
   "cell_type": "code",
   "execution_count": 31,
   "id": "394f73af-7fc1-4a56-8e6b-028d68283d5d",
   "metadata": {},
   "outputs": [],
   "source": [
    "pred_column_names = [intensity_band_template.format(source='ml', band_centre=threshold) for threshold in bands.keys()]\n",
    "y_pred_df = pd.DataFrame(y_pred, columns=pred_column_names)\n",
    "\n",
    "evaluation_df = pd.concat([\n",
    "    data_splits['meta_val'].reset_index(drop=True), \n",
    "    data_splits['nwp_val'].reset_index(drop=True), \n",
    "    data_splits['y_val'].reset_index(drop=True), \n",
    "    y_pred_df], axis=1)"
   ]
  },
  {
   "cell_type": "markdown",
   "id": "16389106-e04a-416e-826b-e9e1ab704509",
   "metadata": {},
   "source": [
    "We then use the Fractional Skill Score to assess model performance. This metrics requires us to transform the data to fraction exceeding thresholds, to do this take the cumulative sum of fractions in all bands with upper bound below or including the thresholds then subtraction from one."
   ]
  },
  {
   "cell_type": "code",
   "execution_count": 32,
   "id": "a44f197b-dab2-40e6-b6be-dccd015c3cfd",
   "metadata": {},
   "outputs": [],
   "source": [
    "source = ['radar', 'mogrepsg', 'ml']\n",
    "for src in source:\n",
    "    evaluation_df = prd_pipeline.calculate_p_exceedance(evaluation_df, src, bands, intensity_band_template)"
   ]
  },
  {
   "cell_type": "markdown",
   "id": "7a4d5eec-264f-4d1e-b772-6698f3680c14",
   "metadata": {},
   "source": [
    "Due to rounding error, some datapoints have very small negative probability of exceedance. In these cases we reassign negative values as zero. We then calculate the fractional skill score to compare both NWP probability and ML fraction prediction with radar. We can then compare how well machine learning and NWP perform for different precipitation thresholds.\n",
    "\n",
    "For each upper bound in our set of precipiation intensity bands, we calculate the fractional skill score for exceeding that threshold. Firstly, we treat each ML prediction produced by each ensemble member as a deterministic forecast."
   ]
  },
  {
   "cell_type": "code",
   "execution_count": 33,
   "id": "0a99c85c-2eeb-43ee-b36a-e9810ea912b4",
   "metadata": {},
   "outputs": [
    {
     "name": "stdout",
     "output_type": "stream",
     "text": [
      "ML FSS - P(precip>0.01mm): 0.9192\n",
      "NWP FSS - P(precip>0.01mm): 0.8337\n",
      "ML FSS - P(precip>0.5mm): 0.8537\n",
      "NWP FSS - P(precip>0.5mm): 0.7119\n",
      "ML FSS - P(precip>4mm): 0.6619\n",
      "NWP FSS - P(precip>4mm): 0.1737\n",
      "ML FSS - P(precip>10mm): 0.4882\n",
      "NWP FSS - P(precip>10mm): 0.1032\n",
      "ML FSS - P(precip>220mm): 0.0000\n",
      "NWP FSS - P(precip>220mm): 0.1616\n"
     ]
    }
   ],
   "source": [
    "for threshold in bands.keys():\n",
    "   \n",
    "    ml_data = evaluation_df[f'ml_fraction_in_band_instant_{threshold}_exceedence']\n",
    "    ml_data[ml_data<0]=0\n",
    "    \n",
    "    nwp_data = evaluation_df[f'mogrepsg_fraction_in_band_instant_{threshold}_exceedence']\n",
    "    nwp_data[nwp_data<0]=0\n",
    "    \n",
    "    radar_data = evaluation_df[f'radar_fraction_in_band_instant_{threshold}_exceedence']\n",
    "    radar_data[radar_data<0]=0\n",
    "    \n",
    "    print(f'ML FSS - P(precip>{bands[threshold][1]}mm): {prd_pipeline.fss(radar_data, ml_data):.4f}')\n",
    "    print(f'NWP FSS - P(precip>{bands[threshold][1]}mm): {prd_pipeline.fss(radar_data, nwp_data):.4f}')"
   ]
  },
  {
   "cell_type": "markdown",
   "id": "db884e44-0e2e-49f2-a2af-107ea530f478",
   "metadata": {},
   "source": [
    "We now take the average of the ML prediction made for each ensemble member at the same time and location, and calculate fractional skill score for these average values."
   ]
  },
  {
   "cell_type": "code",
   "execution_count": 34,
   "id": "7befdbb6-f066-4323-afd3-5440ddd7b345",
   "metadata": {},
   "outputs": [
    {
     "name": "stdout",
     "output_type": "stream",
     "text": [
      "ML FSS - P(precip>0.01mm): 0.9317\n",
      "NWP FSS - P(precip>0.01mm): 0.8337\n",
      "ML FSS - P(precip>0.5mm): 0.8771\n",
      "NWP FSS - P(precip>0.5mm): 0.7121\n",
      "ML FSS - P(precip>4mm): 0.6981\n",
      "NWP FSS - P(precip>4mm): 0.1737\n",
      "ML FSS - P(precip>10mm): 0.5454\n",
      "NWP FSS - P(precip>10mm): 0.1032\n",
      "ML FSS - P(precip>220mm): 0.0000\n",
      "NWP FSS - P(precip>220mm): 0.1616\n"
     ]
    }
   ],
   "source": [
    "grouped = evaluation_df.groupby(['time', 'latitude', 'longitude']).agg('mean')\n",
    "for threshold in bands.keys():\n",
    "\n",
    "    ml_data = grouped[f'ml_fraction_in_band_instant_{threshold}_exceedence']\n",
    "    ml_data[ml_data<0]=0\n",
    "    \n",
    "    nwp_data = grouped[f'mogrepsg_fraction_in_band_instant_{threshold}_exceedence']\n",
    "    nwp_data[nwp_data<0]=0\n",
    "    \n",
    "    radar_data = grouped[f'radar_fraction_in_band_instant_{threshold}_exceedence']\n",
    "    radar_data[radar_data<0]=0\n",
    "    \n",
    "    print(f'ML FSS - P(precip>{bands[threshold][1]}mm): {prd_pipeline.fss(radar_data, ml_data):.4f}')\n",
    "    print(f'NWP FSS - P(precip>{bands[threshold][1]}mm): {prd_pipeline.fss(radar_data, nwp_data):.4f}')"
   ]
  },
  {
   "cell_type": "code",
   "execution_count": null,
   "id": "a1ebd9a2-04a9-4e00-8f9a-3d997451efdf",
   "metadata": {},
   "outputs": [],
   "source": []
  }
 ],
 "metadata": {
  "kernelspec": {
   "display_name": "Python 3 (ipykernel)",
   "language": "python",
   "name": "python3"
  },
  "language_info": {
   "codemirror_mode": {
    "name": "ipython",
    "version": 3
   },
   "file_extension": ".py",
   "mimetype": "text/x-python",
   "name": "python",
   "nbconvert_exporter": "python",
   "pygments_lexer": "ipython3",
   "version": "3.8.15"
  }
 },
 "nbformat": 4,
 "nbformat_minor": 5
}
