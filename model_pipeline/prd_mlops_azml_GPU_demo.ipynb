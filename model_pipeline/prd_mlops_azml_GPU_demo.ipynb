{
 "cells": [
  {
   "cell_type": "markdown",
   "id": "3c9842a2-db42-4722-b3e5-43a7ee2040c3",
   "metadata": {},
   "source": [
    "# Training on GPU cluster\n",
    "One of the advantages of running a cluster, is that you can have relatively small instance running for the notebook server and then send of the training task to a separate compute cluster, which can be running powerful (and expensive) GPUs, which spin up to run the training script and then spin down."
   ]
  },
  {
   "cell_type": "code",
   "execution_count": 1,
   "id": "70cc5013-7b6d-44f5-a7dc-0a1f3504b6da",
   "metadata": {},
   "outputs": [],
   "source": [
    "%matplotlib inline"
   ]
  },
  {
   "cell_type": "code",
   "execution_count": 2,
   "id": "preliminary-idaho",
   "metadata": {},
   "outputs": [],
   "source": [
    "import pandas as pd\n",
    "import numpy as np\n",
    "import pathlib\n",
    "import matplotlib.pyplot as plt"
   ]
  },
  {
   "cell_type": "code",
   "execution_count": 3,
   "id": "06959be2",
   "metadata": {},
   "outputs": [],
   "source": [
    "from sklearn.model_selection import train_test_split\n",
    "from sklearn.preprocessing import StandardScaler"
   ]
  },
  {
   "cell_type": "code",
   "execution_count": 5,
   "id": "6174c25d-ba3c-4ac7-bcca-a3d6f107aeda",
   "metadata": {},
   "outputs": [],
   "source": [
    "import prd_pipeline"
   ]
  },
  {
   "cell_type": "code",
   "execution_count": 6,
   "id": "c02f5992-3c0f-4549-967c-b6de66f9695a",
   "metadata": {},
   "outputs": [],
   "source": [
    "import importlib"
   ]
  },
  {
   "cell_type": "code",
   "execution_count": 41,
   "id": "7f3b2ea3-264b-4984-a420-1086268826fe",
   "metadata": {},
   "outputs": [
    {
     "data": {
      "text/plain": [
       "<module 'prd_pipeline' from '/mnt/batch/tasks/shared/LS_root/mounts/clusters/prd-ml-pipeline/code/Users/stephen.haddad/precip_rediagnosis/model_pipeline/prd_pipeline.py'>"
      ]
     },
     "execution_count": 41,
     "metadata": {},
     "output_type": "execute_result"
    }
   ],
   "source": [
    "importlib.reload(prd_pipeline)"
   ]
  },
  {
   "cell_type": "markdown",
   "id": "1d725a1c-81b0-4aee-8153-1adc1f398ea4",
   "metadata": {},
   "source": [
    "## set up azure experiment\n"
   ]
  },
  {
   "cell_type": "code",
   "execution_count": 8,
   "id": "3aff8274-8f96-45d5-92ba-49b2b4569fc3",
   "metadata": {},
   "outputs": [],
   "source": [
    "import azureml.core\n",
    "from azureml.core import Workspace, Datastore, Dataset, Environment\n",
    "from azureml.core import Experiment, ComputeTarget, ScriptRunConfig"
   ]
  },
  {
   "cell_type": "code",
   "execution_count": 9,
   "id": "3d0c3ece-4a19-47c7-9a62-9f1055468294",
   "metadata": {},
   "outputs": [],
   "source": [
    "import fsspec"
   ]
  },
  {
   "cell_type": "code",
   "execution_count": 10,
   "id": "6418ca70-c8a1-4305-b905-1b8f240eade6",
   "metadata": {},
   "outputs": [],
   "source": [
    "import pandas"
   ]
  },
  {
   "cell_type": "code",
   "execution_count": 11,
   "id": "81aa2e34-47fe-4058-a1f6-1f6f352ded39",
   "metadata": {},
   "outputs": [],
   "source": [
    "import json"
   ]
  },
  {
   "cell_type": "code",
   "execution_count": 12,
   "id": "fb6636e4-35d0-4ae5-bba5-c87d6671dfc3",
   "metadata": {},
   "outputs": [
    {
     "data": {
      "text/plain": [
       "dict_keys(['storage_acc_name', 'storage_acc_key', 'container'])"
      ]
     },
     "execution_count": 12,
     "metadata": {},
     "output_type": "execute_result"
    }
   ],
   "source": [
    "with open('credentials_file.json') as credentials_file:\n",
    "    az_blob_cred = json.load(credentials_file)\n",
    "    \n",
    "az_blob_cred.keys()"
   ]
  },
  {
   "cell_type": "code",
   "execution_count": 13,
   "id": "8a691ad6-f1d6-416e-b1d8-080b89ebc1ab",
   "metadata": {},
   "outputs": [],
   "source": [
    "container = az_blob_cred['container']\n",
    "acc_name = az_blob_cred['storage_acc_name']\n",
    "acc_key = az_blob_cred['storage_acc_key']\n"
   ]
  },
  {
   "cell_type": "code",
   "execution_count": 39,
   "id": "fd4a6b2a-2296-4608-bb2d-1711ff9e2f30",
   "metadata": {},
   "outputs": [],
   "source": [
    "# prd_rel_path = 'prd/202008_storm_francis/prd_merged_20200824T1800Z_20200826T1200Z.csv'\n",
    "prd_rel_path = 'prd/202008_storm_francis/prd_merged*csv'"
   ]
  },
  {
   "cell_type": "code",
   "execution_count": 15,
   "id": "4a40c161-6f01-4143-84e3-5b7549a326db",
   "metadata": {},
   "outputs": [
    {
     "data": {
      "text/plain": [
       "'abfs://training202209/prd/202008_storm_francis/prd_merged_20200824T1800Z_20200826T1200Z.csv'"
      ]
     },
     "execution_count": 15,
     "metadata": {},
     "output_type": "execute_result"
    }
   ],
   "source": [
    "prd_data_url = f'abfs://{container}/{prd_rel_path}'\n",
    "prd_data_url"
   ]
  },
  {
   "cell_type": "code",
   "execution_count": 16,
   "id": "19083567-21f9-43ed-8188-7960569a0bcb",
   "metadata": {},
   "outputs": [],
   "source": [
    "%%time\n",
    "fsspec_handle = fsspec.open(\n",
    "    prd_data_url,\n",
    "    account_name=acc_name, \n",
    "    account_key=acc_key\n",
    ")\n",
    "with fsspec_handle.open() as prd_data_handle:\n",
    "    prd_merged_data = pandas.read_csv(prd_data_handle)"
   ]
  },
  {
   "cell_type": "code",
   "execution_count": 42,
   "id": "84b1e065-eae5-4ed4-a45e-dbc02c3f82a0",
   "metadata": {},
   "outputs": [
    {
     "data": {
      "text/html": [
       "<div>\n",
       "<style scoped>\n",
       "    .dataframe tbody tr th:only-of-type {\n",
       "        vertical-align: middle;\n",
       "    }\n",
       "\n",
       "    .dataframe tbody tr th {\n",
       "        vertical-align: top;\n",
       "    }\n",
       "\n",
       "    .dataframe thead th {\n",
       "        text-align: right;\n",
       "    }\n",
       "</style>\n",
       "<table border=\"1\" class=\"dataframe\">\n",
       "  <thead>\n",
       "    <tr style=\"text-align: right;\">\n",
       "      <th></th>\n",
       "      <th>time</th>\n",
       "      <th>latitude</th>\n",
       "      <th>longitude</th>\n",
       "      <th>radar_max_rain_aggregate_3hr</th>\n",
       "      <th>radar_mean_rain_aggregate_3hr</th>\n",
       "      <th>radar_max_rain_instant</th>\n",
       "      <th>radar_mean_rain_instant</th>\n",
       "      <th>fraction_sum_agg</th>\n",
       "      <th>fraction_sum_instant</th>\n",
       "      <th>radar_fraction_in_band_aggregate_3hr_0.0</th>\n",
       "      <th>...</th>\n",
       "      <th>wind_speed_2750.0</th>\n",
       "      <th>wind_speed_3000.0</th>\n",
       "      <th>wind_speed_3250.0</th>\n",
       "      <th>wind_speed_3500.0</th>\n",
       "      <th>wind_speed_3750.0</th>\n",
       "      <th>wind_speed_4000.0</th>\n",
       "      <th>wind_speed_4500.0</th>\n",
       "      <th>wind_speed_5000.0</th>\n",
       "      <th>wind_speed_5500.0</th>\n",
       "      <th>wind_speed_6000.0</th>\n",
       "    </tr>\n",
       "  </thead>\n",
       "  <tbody>\n",
       "    <tr>\n",
       "      <th>0</th>\n",
       "      <td>2020-08-24 18:00:00</td>\n",
       "      <td>49.40625</td>\n",
       "      <td>-5.484375</td>\n",
       "      <td>7.705729</td>\n",
       "      <td>4.288671</td>\n",
       "      <td>3.4375</td>\n",
       "      <td>0.362647</td>\n",
       "      <td>1.0</td>\n",
       "      <td>1.042353</td>\n",
       "      <td>0.0</td>\n",
       "      <td>...</td>\n",
       "      <td>15.2500</td>\n",
       "      <td>16.2500</td>\n",
       "      <td>16.6875</td>\n",
       "      <td>16.5625</td>\n",
       "      <td>16.2500</td>\n",
       "      <td>16.0625</td>\n",
       "      <td>16.7500</td>\n",
       "      <td>18.3125</td>\n",
       "      <td>20.8750</td>\n",
       "      <td>24.1875</td>\n",
       "    </tr>\n",
       "    <tr>\n",
       "      <th>1</th>\n",
       "      <td>2020-08-24 18:00:00</td>\n",
       "      <td>49.40625</td>\n",
       "      <td>-5.484375</td>\n",
       "      <td>7.705729</td>\n",
       "      <td>4.288671</td>\n",
       "      <td>3.4375</td>\n",
       "      <td>0.362647</td>\n",
       "      <td>1.0</td>\n",
       "      <td>1.042353</td>\n",
       "      <td>0.0</td>\n",
       "      <td>...</td>\n",
       "      <td>12.9375</td>\n",
       "      <td>12.5000</td>\n",
       "      <td>12.0625</td>\n",
       "      <td>11.7500</td>\n",
       "      <td>11.7500</td>\n",
       "      <td>12.1875</td>\n",
       "      <td>14.6250</td>\n",
       "      <td>18.1875</td>\n",
       "      <td>20.8125</td>\n",
       "      <td>23.5625</td>\n",
       "    </tr>\n",
       "    <tr>\n",
       "      <th>2</th>\n",
       "      <td>2020-08-24 18:00:00</td>\n",
       "      <td>49.40625</td>\n",
       "      <td>-5.484375</td>\n",
       "      <td>7.705729</td>\n",
       "      <td>4.288671</td>\n",
       "      <td>3.4375</td>\n",
       "      <td>0.362647</td>\n",
       "      <td>1.0</td>\n",
       "      <td>1.042353</td>\n",
       "      <td>0.0</td>\n",
       "      <td>...</td>\n",
       "      <td>15.2500</td>\n",
       "      <td>16.3125</td>\n",
       "      <td>17.6250</td>\n",
       "      <td>18.7500</td>\n",
       "      <td>19.3125</td>\n",
       "      <td>19.2500</td>\n",
       "      <td>18.6875</td>\n",
       "      <td>19.6250</td>\n",
       "      <td>22.1875</td>\n",
       "      <td>25.1875</td>\n",
       "    </tr>\n",
       "    <tr>\n",
       "      <th>3</th>\n",
       "      <td>2020-08-24 18:00:00</td>\n",
       "      <td>49.40625</td>\n",
       "      <td>-5.484375</td>\n",
       "      <td>7.705729</td>\n",
       "      <td>4.288671</td>\n",
       "      <td>3.4375</td>\n",
       "      <td>0.362647</td>\n",
       "      <td>1.0</td>\n",
       "      <td>1.042353</td>\n",
       "      <td>0.0</td>\n",
       "      <td>...</td>\n",
       "      <td>11.4375</td>\n",
       "      <td>14.3750</td>\n",
       "      <td>14.3125</td>\n",
       "      <td>13.0625</td>\n",
       "      <td>12.3750</td>\n",
       "      <td>13.0625</td>\n",
       "      <td>14.0625</td>\n",
       "      <td>16.0625</td>\n",
       "      <td>19.0625</td>\n",
       "      <td>22.1250</td>\n",
       "    </tr>\n",
       "    <tr>\n",
       "      <th>4</th>\n",
       "      <td>2020-08-24 18:00:00</td>\n",
       "      <td>49.40625</td>\n",
       "      <td>-5.484375</td>\n",
       "      <td>7.705729</td>\n",
       "      <td>4.288671</td>\n",
       "      <td>3.4375</td>\n",
       "      <td>0.362647</td>\n",
       "      <td>1.0</td>\n",
       "      <td>1.042353</td>\n",
       "      <td>0.0</td>\n",
       "      <td>...</td>\n",
       "      <td>16.0625</td>\n",
       "      <td>16.2500</td>\n",
       "      <td>16.3125</td>\n",
       "      <td>16.5625</td>\n",
       "      <td>16.9375</td>\n",
       "      <td>17.5000</td>\n",
       "      <td>18.6875</td>\n",
       "      <td>20.7500</td>\n",
       "      <td>23.7500</td>\n",
       "      <td>26.2500</td>\n",
       "    </tr>\n",
       "    <tr>\n",
       "      <th>...</th>\n",
       "      <td>...</td>\n",
       "      <td>...</td>\n",
       "      <td>...</td>\n",
       "      <td>...</td>\n",
       "      <td>...</td>\n",
       "      <td>...</td>\n",
       "      <td>...</td>\n",
       "      <td>...</td>\n",
       "      <td>...</td>\n",
       "      <td>...</td>\n",
       "      <td>...</td>\n",
       "      <td>...</td>\n",
       "      <td>...</td>\n",
       "      <td>...</td>\n",
       "      <td>...</td>\n",
       "      <td>...</td>\n",
       "      <td>...</td>\n",
       "      <td>...</td>\n",
       "      <td>...</td>\n",
       "      <td>...</td>\n",
       "      <td>...</td>\n",
       "    </tr>\n",
       "    <tr>\n",
       "      <th>213691</th>\n",
       "      <td>2020-08-26 12:00:00</td>\n",
       "      <td>58.78125</td>\n",
       "      <td>1.546875</td>\n",
       "      <td>0.000000</td>\n",
       "      <td>0.000000</td>\n",
       "      <td>0.0000</td>\n",
       "      <td>0.000000</td>\n",
       "      <td>1.0</td>\n",
       "      <td>1.000000</td>\n",
       "      <td>1.0</td>\n",
       "      <td>...</td>\n",
       "      <td>6.1250</td>\n",
       "      <td>5.5625</td>\n",
       "      <td>5.1875</td>\n",
       "      <td>5.1250</td>\n",
       "      <td>5.3125</td>\n",
       "      <td>5.5625</td>\n",
       "      <td>6.0625</td>\n",
       "      <td>8.2500</td>\n",
       "      <td>8.8750</td>\n",
       "      <td>8.3125</td>\n",
       "    </tr>\n",
       "    <tr>\n",
       "      <th>213692</th>\n",
       "      <td>2020-08-26 12:00:00</td>\n",
       "      <td>58.78125</td>\n",
       "      <td>1.546875</td>\n",
       "      <td>0.000000</td>\n",
       "      <td>0.000000</td>\n",
       "      <td>0.0000</td>\n",
       "      <td>0.000000</td>\n",
       "      <td>1.0</td>\n",
       "      <td>1.000000</td>\n",
       "      <td>1.0</td>\n",
       "      <td>...</td>\n",
       "      <td>6.5625</td>\n",
       "      <td>6.8125</td>\n",
       "      <td>6.6875</td>\n",
       "      <td>6.0000</td>\n",
       "      <td>5.0000</td>\n",
       "      <td>3.9375</td>\n",
       "      <td>3.2500</td>\n",
       "      <td>5.0000</td>\n",
       "      <td>5.1875</td>\n",
       "      <td>5.5625</td>\n",
       "    </tr>\n",
       "    <tr>\n",
       "      <th>213693</th>\n",
       "      <td>2020-08-26 12:00:00</td>\n",
       "      <td>58.78125</td>\n",
       "      <td>1.546875</td>\n",
       "      <td>0.000000</td>\n",
       "      <td>0.000000</td>\n",
       "      <td>0.0000</td>\n",
       "      <td>0.000000</td>\n",
       "      <td>1.0</td>\n",
       "      <td>1.000000</td>\n",
       "      <td>1.0</td>\n",
       "      <td>...</td>\n",
       "      <td>4.4375</td>\n",
       "      <td>3.6875</td>\n",
       "      <td>3.1250</td>\n",
       "      <td>3.0000</td>\n",
       "      <td>3.4375</td>\n",
       "      <td>4.1250</td>\n",
       "      <td>5.5000</td>\n",
       "      <td>8.2500</td>\n",
       "      <td>9.1250</td>\n",
       "      <td>9.5000</td>\n",
       "    </tr>\n",
       "    <tr>\n",
       "      <th>213694</th>\n",
       "      <td>2020-08-26 12:00:00</td>\n",
       "      <td>58.78125</td>\n",
       "      <td>1.546875</td>\n",
       "      <td>0.000000</td>\n",
       "      <td>0.000000</td>\n",
       "      <td>0.0000</td>\n",
       "      <td>0.000000</td>\n",
       "      <td>1.0</td>\n",
       "      <td>1.000000</td>\n",
       "      <td>1.0</td>\n",
       "      <td>...</td>\n",
       "      <td>2.9375</td>\n",
       "      <td>3.7500</td>\n",
       "      <td>4.0000</td>\n",
       "      <td>3.5000</td>\n",
       "      <td>2.7500</td>\n",
       "      <td>2.3750</td>\n",
       "      <td>3.0625</td>\n",
       "      <td>4.5000</td>\n",
       "      <td>5.3750</td>\n",
       "      <td>8.8750</td>\n",
       "    </tr>\n",
       "    <tr>\n",
       "      <th>213695</th>\n",
       "      <td>2020-08-26 12:00:00</td>\n",
       "      <td>58.78125</td>\n",
       "      <td>1.546875</td>\n",
       "      <td>0.000000</td>\n",
       "      <td>0.000000</td>\n",
       "      <td>0.0000</td>\n",
       "      <td>0.000000</td>\n",
       "      <td>1.0</td>\n",
       "      <td>1.000000</td>\n",
       "      <td>1.0</td>\n",
       "      <td>...</td>\n",
       "      <td>4.5625</td>\n",
       "      <td>4.6875</td>\n",
       "      <td>4.3750</td>\n",
       "      <td>4.0625</td>\n",
       "      <td>4.0625</td>\n",
       "      <td>4.3750</td>\n",
       "      <td>4.7500</td>\n",
       "      <td>5.1250</td>\n",
       "      <td>7.0000</td>\n",
       "      <td>7.0000</td>\n",
       "    </tr>\n",
       "  </tbody>\n",
       "</table>\n",
       "<p>213696 rows × 227 columns</p>\n",
       "</div>"
      ],
      "text/plain": [
       "                       time  latitude  longitude  \\\n",
       "0       2020-08-24 18:00:00  49.40625  -5.484375   \n",
       "1       2020-08-24 18:00:00  49.40625  -5.484375   \n",
       "2       2020-08-24 18:00:00  49.40625  -5.484375   \n",
       "3       2020-08-24 18:00:00  49.40625  -5.484375   \n",
       "4       2020-08-24 18:00:00  49.40625  -5.484375   \n",
       "...                     ...       ...        ...   \n",
       "213691  2020-08-26 12:00:00  58.78125   1.546875   \n",
       "213692  2020-08-26 12:00:00  58.78125   1.546875   \n",
       "213693  2020-08-26 12:00:00  58.78125   1.546875   \n",
       "213694  2020-08-26 12:00:00  58.78125   1.546875   \n",
       "213695  2020-08-26 12:00:00  58.78125   1.546875   \n",
       "\n",
       "        radar_max_rain_aggregate_3hr  radar_mean_rain_aggregate_3hr  \\\n",
       "0                           7.705729                       4.288671   \n",
       "1                           7.705729                       4.288671   \n",
       "2                           7.705729                       4.288671   \n",
       "3                           7.705729                       4.288671   \n",
       "4                           7.705729                       4.288671   \n",
       "...                              ...                            ...   \n",
       "213691                      0.000000                       0.000000   \n",
       "213692                      0.000000                       0.000000   \n",
       "213693                      0.000000                       0.000000   \n",
       "213694                      0.000000                       0.000000   \n",
       "213695                      0.000000                       0.000000   \n",
       "\n",
       "        radar_max_rain_instant  radar_mean_rain_instant  fraction_sum_agg  \\\n",
       "0                       3.4375                 0.362647               1.0   \n",
       "1                       3.4375                 0.362647               1.0   \n",
       "2                       3.4375                 0.362647               1.0   \n",
       "3                       3.4375                 0.362647               1.0   \n",
       "4                       3.4375                 0.362647               1.0   \n",
       "...                        ...                      ...               ...   \n",
       "213691                  0.0000                 0.000000               1.0   \n",
       "213692                  0.0000                 0.000000               1.0   \n",
       "213693                  0.0000                 0.000000               1.0   \n",
       "213694                  0.0000                 0.000000               1.0   \n",
       "213695                  0.0000                 0.000000               1.0   \n",
       "\n",
       "        fraction_sum_instant  radar_fraction_in_band_aggregate_3hr_0.0  ...  \\\n",
       "0                   1.042353                                       0.0  ...   \n",
       "1                   1.042353                                       0.0  ...   \n",
       "2                   1.042353                                       0.0  ...   \n",
       "3                   1.042353                                       0.0  ...   \n",
       "4                   1.042353                                       0.0  ...   \n",
       "...                      ...                                       ...  ...   \n",
       "213691              1.000000                                       1.0  ...   \n",
       "213692              1.000000                                       1.0  ...   \n",
       "213693              1.000000                                       1.0  ...   \n",
       "213694              1.000000                                       1.0  ...   \n",
       "213695              1.000000                                       1.0  ...   \n",
       "\n",
       "        wind_speed_2750.0  wind_speed_3000.0  wind_speed_3250.0  \\\n",
       "0                 15.2500            16.2500            16.6875   \n",
       "1                 12.9375            12.5000            12.0625   \n",
       "2                 15.2500            16.3125            17.6250   \n",
       "3                 11.4375            14.3750            14.3125   \n",
       "4                 16.0625            16.2500            16.3125   \n",
       "...                   ...                ...                ...   \n",
       "213691             6.1250             5.5625             5.1875   \n",
       "213692             6.5625             6.8125             6.6875   \n",
       "213693             4.4375             3.6875             3.1250   \n",
       "213694             2.9375             3.7500             4.0000   \n",
       "213695             4.5625             4.6875             4.3750   \n",
       "\n",
       "        wind_speed_3500.0  wind_speed_3750.0  wind_speed_4000.0  \\\n",
       "0                 16.5625            16.2500            16.0625   \n",
       "1                 11.7500            11.7500            12.1875   \n",
       "2                 18.7500            19.3125            19.2500   \n",
       "3                 13.0625            12.3750            13.0625   \n",
       "4                 16.5625            16.9375            17.5000   \n",
       "...                   ...                ...                ...   \n",
       "213691             5.1250             5.3125             5.5625   \n",
       "213692             6.0000             5.0000             3.9375   \n",
       "213693             3.0000             3.4375             4.1250   \n",
       "213694             3.5000             2.7500             2.3750   \n",
       "213695             4.0625             4.0625             4.3750   \n",
       "\n",
       "        wind_speed_4500.0  wind_speed_5000.0  wind_speed_5500.0  \\\n",
       "0                 16.7500            18.3125            20.8750   \n",
       "1                 14.6250            18.1875            20.8125   \n",
       "2                 18.6875            19.6250            22.1875   \n",
       "3                 14.0625            16.0625            19.0625   \n",
       "4                 18.6875            20.7500            23.7500   \n",
       "...                   ...                ...                ...   \n",
       "213691             6.0625             8.2500             8.8750   \n",
       "213692             3.2500             5.0000             5.1875   \n",
       "213693             5.5000             8.2500             9.1250   \n",
       "213694             3.0625             4.5000             5.3750   \n",
       "213695             4.7500             5.1250             7.0000   \n",
       "\n",
       "        wind_speed_6000.0  \n",
       "0                 24.1875  \n",
       "1                 23.5625  \n",
       "2                 25.1875  \n",
       "3                 22.1250  \n",
       "4                 26.2500  \n",
       "...                   ...  \n",
       "213691             8.3125  \n",
       "213692             5.5625  \n",
       "213693             9.5000  \n",
       "213694             8.8750  \n",
       "213695             7.0000  \n",
       "\n",
       "[213696 rows x 227 columns]"
      ]
     },
     "execution_count": 42,
     "metadata": {},
     "output_type": "execute_result"
    }
   ],
   "source": [
    "prd_pipeline.load_data_azure_blob(az_blob_cred, prd_rel_path)"
   ]
  },
  {
   "cell_type": "code",
   "execution_count": 33,
   "id": "922e3753-dffd-4985-a00f-41af22b32347",
   "metadata": {},
   "outputs": [
    {
     "name": "stdout",
     "output_type": "stream",
     "text": [
      "CPU times: user 104 ms, sys: 2.58 ms, total: 107 ms\n",
      "Wall time: 326 ms\n"
     ]
    }
   ],
   "source": [
    "%%time\n",
    "handle1 = fsspec.open_files(\n",
    "    'abfs://training202209/prd/*/prd_merged*csv',\n",
    "    account_name=acc_name, \n",
    "    account_key=acc_key\n",
    ")\n"
   ]
  },
  {
   "cell_type": "code",
   "execution_count": 27,
   "id": "7c69c7df-c315-444d-93ba-2da9cd01294a",
   "metadata": {},
   "outputs": [
    {
     "data": {
      "text/html": [
       "<div>\n",
       "<style scoped>\n",
       "    .dataframe tbody tr th:only-of-type {\n",
       "        vertical-align: middle;\n",
       "    }\n",
       "\n",
       "    .dataframe tbody tr th {\n",
       "        vertical-align: top;\n",
       "    }\n",
       "\n",
       "    .dataframe thead th {\n",
       "        text-align: right;\n",
       "    }\n",
       "</style>\n",
       "<table border=\"1\" class=\"dataframe\">\n",
       "  <thead>\n",
       "    <tr style=\"text-align: right;\">\n",
       "      <th></th>\n",
       "      <th>realization</th>\n",
       "      <th>latitude</th>\n",
       "      <th>longitude</th>\n",
       "      <th>forecast_period</th>\n",
       "      <th>forecast_reference_time</th>\n",
       "      <th>time</th>\n",
       "      <th>cloud_area_fraction</th>\n",
       "      <th>surface_altitude</th>\n",
       "      <th>air_pressure_at_sea_level</th>\n",
       "      <th>rainfall_rate</th>\n",
       "      <th>...</th>\n",
       "      <th>radar_fraction_in_band_aggregate_3hr_0.0</th>\n",
       "      <th>radar_fraction_in_band_aggregate_3hr_0.25</th>\n",
       "      <th>radar_fraction_in_band_aggregate_3hr_2.5</th>\n",
       "      <th>radar_fraction_in_band_aggregate_3hr_7.0</th>\n",
       "      <th>radar_fraction_in_band_aggregate_3hr_10.0</th>\n",
       "      <th>radar_fraction_in_band_instant_0.0</th>\n",
       "      <th>radar_fraction_in_band_instant_0.25</th>\n",
       "      <th>radar_fraction_in_band_instant_2.5</th>\n",
       "      <th>radar_fraction_in_band_instant_7.0</th>\n",
       "      <th>radar_fraction_in_band_instant_10.0</th>\n",
       "    </tr>\n",
       "  </thead>\n",
       "  <tbody>\n",
       "    <tr>\n",
       "      <th>0</th>\n",
       "      <td>0</td>\n",
       "      <td>49.40625</td>\n",
       "      <td>-5.484375</td>\n",
       "      <td>0 days 06:00:00</td>\n",
       "      <td>2020-02-07 12:00:00</td>\n",
       "      <td>2020-02-07 18:00:00</td>\n",
       "      <td>0.984375</td>\n",
       "      <td>0.0</td>\n",
       "      <td>101050.0</td>\n",
       "      <td>0.000000</td>\n",
       "      <td>...</td>\n",
       "      <td>0.0</td>\n",
       "      <td>0.807059</td>\n",
       "      <td>0.197647</td>\n",
       "      <td>0.0</td>\n",
       "      <td>0.0</td>\n",
       "      <td>0.463529</td>\n",
       "      <td>0.515294</td>\n",
       "      <td>0.025882</td>\n",
       "      <td>0.0</td>\n",
       "      <td>0.0</td>\n",
       "    </tr>\n",
       "    <tr>\n",
       "      <th>1</th>\n",
       "      <td>1</td>\n",
       "      <td>49.40625</td>\n",
       "      <td>-5.484375</td>\n",
       "      <td>0 days 06:00:00</td>\n",
       "      <td>2020-02-07 12:00:00</td>\n",
       "      <td>2020-02-07 18:00:00</td>\n",
       "      <td>1.000000</td>\n",
       "      <td>0.0</td>\n",
       "      <td>101036.0</td>\n",
       "      <td>0.536442</td>\n",
       "      <td>...</td>\n",
       "      <td>0.0</td>\n",
       "      <td>0.807059</td>\n",
       "      <td>0.197647</td>\n",
       "      <td>0.0</td>\n",
       "      <td>0.0</td>\n",
       "      <td>0.463529</td>\n",
       "      <td>0.515294</td>\n",
       "      <td>0.025882</td>\n",
       "      <td>0.0</td>\n",
       "      <td>0.0</td>\n",
       "    </tr>\n",
       "    <tr>\n",
       "      <th>2</th>\n",
       "      <td>2</td>\n",
       "      <td>49.40625</td>\n",
       "      <td>-5.484375</td>\n",
       "      <td>0 days 06:00:00</td>\n",
       "      <td>2020-02-07 12:00:00</td>\n",
       "      <td>2020-02-07 18:00:00</td>\n",
       "      <td>0.984375</td>\n",
       "      <td>0.0</td>\n",
       "      <td>101104.0</td>\n",
       "      <td>0.000000</td>\n",
       "      <td>...</td>\n",
       "      <td>0.0</td>\n",
       "      <td>0.807059</td>\n",
       "      <td>0.197647</td>\n",
       "      <td>0.0</td>\n",
       "      <td>0.0</td>\n",
       "      <td>0.463529</td>\n",
       "      <td>0.515294</td>\n",
       "      <td>0.025882</td>\n",
       "      <td>0.0</td>\n",
       "      <td>0.0</td>\n",
       "    </tr>\n",
       "    <tr>\n",
       "      <th>3</th>\n",
       "      <td>3</td>\n",
       "      <td>49.40625</td>\n",
       "      <td>-5.484375</td>\n",
       "      <td>0 days 06:00:00</td>\n",
       "      <td>2020-02-07 12:00:00</td>\n",
       "      <td>2020-02-07 18:00:00</td>\n",
       "      <td>0.843750</td>\n",
       "      <td>0.0</td>\n",
       "      <td>101005.0</td>\n",
       "      <td>0.000000</td>\n",
       "      <td>...</td>\n",
       "      <td>0.0</td>\n",
       "      <td>0.807059</td>\n",
       "      <td>0.197647</td>\n",
       "      <td>0.0</td>\n",
       "      <td>0.0</td>\n",
       "      <td>0.463529</td>\n",
       "      <td>0.515294</td>\n",
       "      <td>0.025882</td>\n",
       "      <td>0.0</td>\n",
       "      <td>0.0</td>\n",
       "    </tr>\n",
       "    <tr>\n",
       "      <th>4</th>\n",
       "      <td>4</td>\n",
       "      <td>49.40625</td>\n",
       "      <td>-5.484375</td>\n",
       "      <td>0 days 06:00:00</td>\n",
       "      <td>2020-02-07 12:00:00</td>\n",
       "      <td>2020-02-07 18:00:00</td>\n",
       "      <td>1.000000</td>\n",
       "      <td>0.0</td>\n",
       "      <td>101038.0</td>\n",
       "      <td>0.000000</td>\n",
       "      <td>...</td>\n",
       "      <td>0.0</td>\n",
       "      <td>0.807059</td>\n",
       "      <td>0.197647</td>\n",
       "      <td>0.0</td>\n",
       "      <td>0.0</td>\n",
       "      <td>0.463529</td>\n",
       "      <td>0.515294</td>\n",
       "      <td>0.025882</td>\n",
       "      <td>0.0</td>\n",
       "      <td>0.0</td>\n",
       "    </tr>\n",
       "    <tr>\n",
       "      <th>...</th>\n",
       "      <td>...</td>\n",
       "      <td>...</td>\n",
       "      <td>...</td>\n",
       "      <td>...</td>\n",
       "      <td>...</td>\n",
       "      <td>...</td>\n",
       "      <td>...</td>\n",
       "      <td>...</td>\n",
       "      <td>...</td>\n",
       "      <td>...</td>\n",
       "      <td>...</td>\n",
       "      <td>...</td>\n",
       "      <td>...</td>\n",
       "      <td>...</td>\n",
       "      <td>...</td>\n",
       "      <td>...</td>\n",
       "      <td>...</td>\n",
       "      <td>...</td>\n",
       "      <td>...</td>\n",
       "      <td>...</td>\n",
       "      <td>...</td>\n",
       "    </tr>\n",
       "    <tr>\n",
       "      <th>347251</th>\n",
       "      <td>13</td>\n",
       "      <td>58.78125</td>\n",
       "      <td>1.546875</td>\n",
       "      <td>0 days 06:00:00</td>\n",
       "      <td>2020-02-10 12:00:00</td>\n",
       "      <td>2020-02-10 18:00:00</td>\n",
       "      <td>1.000000</td>\n",
       "      <td>0.0</td>\n",
       "      <td>96907.0</td>\n",
       "      <td>0.000000</td>\n",
       "      <td>...</td>\n",
       "      <td>1.0</td>\n",
       "      <td>0.000000</td>\n",
       "      <td>0.000000</td>\n",
       "      <td>0.0</td>\n",
       "      <td>0.0</td>\n",
       "      <td>1.000000</td>\n",
       "      <td>0.000000</td>\n",
       "      <td>0.000000</td>\n",
       "      <td>0.0</td>\n",
       "      <td>0.0</td>\n",
       "    </tr>\n",
       "    <tr>\n",
       "      <th>347252</th>\n",
       "      <td>14</td>\n",
       "      <td>58.78125</td>\n",
       "      <td>1.546875</td>\n",
       "      <td>0 days 06:00:00</td>\n",
       "      <td>2020-02-10 12:00:00</td>\n",
       "      <td>2020-02-10 18:00:00</td>\n",
       "      <td>0.812500</td>\n",
       "      <td>0.0</td>\n",
       "      <td>96895.0</td>\n",
       "      <td>0.000000</td>\n",
       "      <td>...</td>\n",
       "      <td>1.0</td>\n",
       "      <td>0.000000</td>\n",
       "      <td>0.000000</td>\n",
       "      <td>0.0</td>\n",
       "      <td>0.0</td>\n",
       "      <td>1.000000</td>\n",
       "      <td>0.000000</td>\n",
       "      <td>0.000000</td>\n",
       "      <td>0.0</td>\n",
       "      <td>0.0</td>\n",
       "    </tr>\n",
       "    <tr>\n",
       "      <th>347253</th>\n",
       "      <td>15</td>\n",
       "      <td>58.78125</td>\n",
       "      <td>1.546875</td>\n",
       "      <td>0 days 06:00:00</td>\n",
       "      <td>2020-02-10 12:00:00</td>\n",
       "      <td>2020-02-10 18:00:00</td>\n",
       "      <td>0.984375</td>\n",
       "      <td>0.0</td>\n",
       "      <td>96989.0</td>\n",
       "      <td>0.000000</td>\n",
       "      <td>...</td>\n",
       "      <td>1.0</td>\n",
       "      <td>0.000000</td>\n",
       "      <td>0.000000</td>\n",
       "      <td>0.0</td>\n",
       "      <td>0.0</td>\n",
       "      <td>1.000000</td>\n",
       "      <td>0.000000</td>\n",
       "      <td>0.000000</td>\n",
       "      <td>0.0</td>\n",
       "      <td>0.0</td>\n",
       "    </tr>\n",
       "    <tr>\n",
       "      <th>347254</th>\n",
       "      <td>16</td>\n",
       "      <td>58.78125</td>\n",
       "      <td>1.546875</td>\n",
       "      <td>0 days 06:00:00</td>\n",
       "      <td>2020-02-10 12:00:00</td>\n",
       "      <td>2020-02-10 18:00:00</td>\n",
       "      <td>1.000000</td>\n",
       "      <td>0.0</td>\n",
       "      <td>96823.0</td>\n",
       "      <td>0.000000</td>\n",
       "      <td>...</td>\n",
       "      <td>1.0</td>\n",
       "      <td>0.000000</td>\n",
       "      <td>0.000000</td>\n",
       "      <td>0.0</td>\n",
       "      <td>0.0</td>\n",
       "      <td>1.000000</td>\n",
       "      <td>0.000000</td>\n",
       "      <td>0.000000</td>\n",
       "      <td>0.0</td>\n",
       "      <td>0.0</td>\n",
       "    </tr>\n",
       "    <tr>\n",
       "      <th>347255</th>\n",
       "      <td>17</td>\n",
       "      <td>58.78125</td>\n",
       "      <td>1.546875</td>\n",
       "      <td>0 days 06:00:00</td>\n",
       "      <td>2020-02-10 12:00:00</td>\n",
       "      <td>2020-02-10 18:00:00</td>\n",
       "      <td>0.984375</td>\n",
       "      <td>0.0</td>\n",
       "      <td>96856.0</td>\n",
       "      <td>0.000000</td>\n",
       "      <td>...</td>\n",
       "      <td>1.0</td>\n",
       "      <td>0.000000</td>\n",
       "      <td>0.000000</td>\n",
       "      <td>0.0</td>\n",
       "      <td>0.0</td>\n",
       "      <td>1.000000</td>\n",
       "      <td>0.000000</td>\n",
       "      <td>0.000000</td>\n",
       "      <td>0.0</td>\n",
       "      <td>0.0</td>\n",
       "    </tr>\n",
       "  </tbody>\n",
       "</table>\n",
       "<p>347256 rows × 227 columns</p>\n",
       "</div>"
      ],
      "text/plain": [
       "        realization  latitude  longitude  forecast_period  \\\n",
       "0                 0  49.40625  -5.484375  0 days 06:00:00   \n",
       "1                 1  49.40625  -5.484375  0 days 06:00:00   \n",
       "2                 2  49.40625  -5.484375  0 days 06:00:00   \n",
       "3                 3  49.40625  -5.484375  0 days 06:00:00   \n",
       "4                 4  49.40625  -5.484375  0 days 06:00:00   \n",
       "...             ...       ...        ...              ...   \n",
       "347251           13  58.78125   1.546875  0 days 06:00:00   \n",
       "347252           14  58.78125   1.546875  0 days 06:00:00   \n",
       "347253           15  58.78125   1.546875  0 days 06:00:00   \n",
       "347254           16  58.78125   1.546875  0 days 06:00:00   \n",
       "347255           17  58.78125   1.546875  0 days 06:00:00   \n",
       "\n",
       "       forecast_reference_time                 time  cloud_area_fraction  \\\n",
       "0          2020-02-07 12:00:00  2020-02-07 18:00:00             0.984375   \n",
       "1          2020-02-07 12:00:00  2020-02-07 18:00:00             1.000000   \n",
       "2          2020-02-07 12:00:00  2020-02-07 18:00:00             0.984375   \n",
       "3          2020-02-07 12:00:00  2020-02-07 18:00:00             0.843750   \n",
       "4          2020-02-07 12:00:00  2020-02-07 18:00:00             1.000000   \n",
       "...                        ...                  ...                  ...   \n",
       "347251     2020-02-10 12:00:00  2020-02-10 18:00:00             1.000000   \n",
       "347252     2020-02-10 12:00:00  2020-02-10 18:00:00             0.812500   \n",
       "347253     2020-02-10 12:00:00  2020-02-10 18:00:00             0.984375   \n",
       "347254     2020-02-10 12:00:00  2020-02-10 18:00:00             1.000000   \n",
       "347255     2020-02-10 12:00:00  2020-02-10 18:00:00             0.984375   \n",
       "\n",
       "        surface_altitude  air_pressure_at_sea_level  rainfall_rate  ...  \\\n",
       "0                    0.0                   101050.0       0.000000  ...   \n",
       "1                    0.0                   101036.0       0.536442  ...   \n",
       "2                    0.0                   101104.0       0.000000  ...   \n",
       "3                    0.0                   101005.0       0.000000  ...   \n",
       "4                    0.0                   101038.0       0.000000  ...   \n",
       "...                  ...                        ...            ...  ...   \n",
       "347251               0.0                    96907.0       0.000000  ...   \n",
       "347252               0.0                    96895.0       0.000000  ...   \n",
       "347253               0.0                    96989.0       0.000000  ...   \n",
       "347254               0.0                    96823.0       0.000000  ...   \n",
       "347255               0.0                    96856.0       0.000000  ...   \n",
       "\n",
       "        radar_fraction_in_band_aggregate_3hr_0.0  \\\n",
       "0                                            0.0   \n",
       "1                                            0.0   \n",
       "2                                            0.0   \n",
       "3                                            0.0   \n",
       "4                                            0.0   \n",
       "...                                          ...   \n",
       "347251                                       1.0   \n",
       "347252                                       1.0   \n",
       "347253                                       1.0   \n",
       "347254                                       1.0   \n",
       "347255                                       1.0   \n",
       "\n",
       "        radar_fraction_in_band_aggregate_3hr_0.25  \\\n",
       "0                                        0.807059   \n",
       "1                                        0.807059   \n",
       "2                                        0.807059   \n",
       "3                                        0.807059   \n",
       "4                                        0.807059   \n",
       "...                                           ...   \n",
       "347251                                   0.000000   \n",
       "347252                                   0.000000   \n",
       "347253                                   0.000000   \n",
       "347254                                   0.000000   \n",
       "347255                                   0.000000   \n",
       "\n",
       "        radar_fraction_in_band_aggregate_3hr_2.5  \\\n",
       "0                                       0.197647   \n",
       "1                                       0.197647   \n",
       "2                                       0.197647   \n",
       "3                                       0.197647   \n",
       "4                                       0.197647   \n",
       "...                                          ...   \n",
       "347251                                  0.000000   \n",
       "347252                                  0.000000   \n",
       "347253                                  0.000000   \n",
       "347254                                  0.000000   \n",
       "347255                                  0.000000   \n",
       "\n",
       "        radar_fraction_in_band_aggregate_3hr_7.0  \\\n",
       "0                                            0.0   \n",
       "1                                            0.0   \n",
       "2                                            0.0   \n",
       "3                                            0.0   \n",
       "4                                            0.0   \n",
       "...                                          ...   \n",
       "347251                                       0.0   \n",
       "347252                                       0.0   \n",
       "347253                                       0.0   \n",
       "347254                                       0.0   \n",
       "347255                                       0.0   \n",
       "\n",
       "        radar_fraction_in_band_aggregate_3hr_10.0  \\\n",
       "0                                             0.0   \n",
       "1                                             0.0   \n",
       "2                                             0.0   \n",
       "3                                             0.0   \n",
       "4                                             0.0   \n",
       "...                                           ...   \n",
       "347251                                        0.0   \n",
       "347252                                        0.0   \n",
       "347253                                        0.0   \n",
       "347254                                        0.0   \n",
       "347255                                        0.0   \n",
       "\n",
       "        radar_fraction_in_band_instant_0.0  \\\n",
       "0                                 0.463529   \n",
       "1                                 0.463529   \n",
       "2                                 0.463529   \n",
       "3                                 0.463529   \n",
       "4                                 0.463529   \n",
       "...                                    ...   \n",
       "347251                            1.000000   \n",
       "347252                            1.000000   \n",
       "347253                            1.000000   \n",
       "347254                            1.000000   \n",
       "347255                            1.000000   \n",
       "\n",
       "        radar_fraction_in_band_instant_0.25  \\\n",
       "0                                  0.515294   \n",
       "1                                  0.515294   \n",
       "2                                  0.515294   \n",
       "3                                  0.515294   \n",
       "4                                  0.515294   \n",
       "...                                     ...   \n",
       "347251                             0.000000   \n",
       "347252                             0.000000   \n",
       "347253                             0.000000   \n",
       "347254                             0.000000   \n",
       "347255                             0.000000   \n",
       "\n",
       "        radar_fraction_in_band_instant_2.5  \\\n",
       "0                                 0.025882   \n",
       "1                                 0.025882   \n",
       "2                                 0.025882   \n",
       "3                                 0.025882   \n",
       "4                                 0.025882   \n",
       "...                                    ...   \n",
       "347251                            0.000000   \n",
       "347252                            0.000000   \n",
       "347253                            0.000000   \n",
       "347254                            0.000000   \n",
       "347255                            0.000000   \n",
       "\n",
       "        radar_fraction_in_band_instant_7.0  \\\n",
       "0                                      0.0   \n",
       "1                                      0.0   \n",
       "2                                      0.0   \n",
       "3                                      0.0   \n",
       "4                                      0.0   \n",
       "...                                    ...   \n",
       "347251                                 0.0   \n",
       "347252                                 0.0   \n",
       "347253                                 0.0   \n",
       "347254                                 0.0   \n",
       "347255                                 0.0   \n",
       "\n",
       "        radar_fraction_in_band_instant_10.0  \n",
       "0                                       0.0  \n",
       "1                                       0.0  \n",
       "2                                       0.0  \n",
       "3                                       0.0  \n",
       "4                                       0.0  \n",
       "...                                     ...  \n",
       "347251                                  0.0  \n",
       "347252                                  0.0  \n",
       "347253                                  0.0  \n",
       "347254                                  0.0  \n",
       "347255                                  0.0  \n",
       "\n",
       "[347256 rows x 227 columns]"
      ]
     },
     "execution_count": 27,
     "metadata": {},
     "output_type": "execute_result"
    }
   ],
   "source": [
    "with list(handle1)[0].open() as prd_dh:\n",
    "    df1 = pandas.read_csv(prd_dh)\n",
    "df1"
   ]
  },
  {
   "cell_type": "code",
   "execution_count": 34,
   "id": "9d3a484d-49ca-46c2-9ff4-3540fcf06ad9",
   "metadata": {},
   "outputs": [
    {
     "name": "stderr",
     "output_type": "stream",
     "text": [
      "<timed exec>:6: FutureWarning: Sorting because non-concatenation axis is not aligned. A future version\n",
      "of pandas will change to not sort by default.\n",
      "\n",
      "To accept the future behavior, pass 'sort=False'.\n",
      "\n",
      "To retain the current behavior and silence the warning, pass 'sort=True'.\n",
      "\n"
     ]
    },
    {
     "name": "stdout",
     "output_type": "stream",
     "text": [
      "CPU times: user 42.6 s, sys: 6.89 s, total: 49.5 s\n",
      "Wall time: 1min 21s\n"
     ]
    }
   ],
   "source": [
    "%%time\n",
    "csv_list = []\n",
    "for h1 in list(handle1)[:3]:\n",
    "    with h1.open() as prd_dh:\n",
    "        csv_list += [pandas.read_csv(prd_dh)]\n",
    "\n",
    "df1 = pandas.concat(csv_list)"
   ]
  },
  {
   "cell_type": "code",
   "execution_count": 35,
   "id": "55f636d0-911a-4d92-a636-4b355766a3ef",
   "metadata": {},
   "outputs": [
    {
     "data": {
      "text/plain": [
       "3"
      ]
     },
     "execution_count": 35,
     "metadata": {},
     "output_type": "execute_result"
    }
   ],
   "source": [
    "len(csv_list)"
   ]
  },
  {
   "cell_type": "code",
   "execution_count": 36,
   "id": "d3c01433-f5ff-4a31-8b7b-565ff1a4604f",
   "metadata": {},
   "outputs": [
    {
     "data": {
      "text/plain": [
       "[(347256, 227), (347256, 227), (373968, 227)]"
      ]
     },
     "execution_count": 36,
     "metadata": {},
     "output_type": "execute_result"
    }
   ],
   "source": [
    "[df2.shape for df2 in csv_list]"
   ]
  },
  {
   "cell_type": "code",
   "execution_count": 37,
   "id": "f70a437d-cfa9-4ce4-bc9d-a2a6a3441c2e",
   "metadata": {},
   "outputs": [
    {
     "data": {
      "text/plain": [
       "(1068480, 227)"
      ]
     },
     "execution_count": 37,
     "metadata": {},
     "output_type": "execute_result"
    }
   ],
   "source": [
    "df1.shape"
   ]
  },
  {
   "cell_type": "code",
   "execution_count": null,
   "id": "c571414f-f1cc-421c-97c6-bd26cf91f026",
   "metadata": {},
   "outputs": [],
   "source": []
  },
  {
   "cell_type": "code",
   "execution_count": null,
   "id": "922ee713-b034-40ee-bf42-bd6df1f958c7",
   "metadata": {},
   "outputs": [],
   "source": [
    "fsspec.__version__"
   ]
  },
  {
   "cell_type": "code",
   "execution_count": null,
   "id": "f414c4ac-13b5-420d-914f-b037fb894cc0",
   "metadata": {},
   "outputs": [],
   "source": [
    "import adlfs\n",
    "adlfs.__version__"
   ]
  },
  {
   "cell_type": "code",
   "execution_count": null,
   "id": "3e58efe5-a598-4a06-81bd-4faae0299dc6",
   "metadata": {},
   "outputs": [],
   "source": [
    "azureml.core.Dataset.get_by_name(prd_ws, 'prd_merged_202112_storm_barra_files').as_download()"
   ]
  },
  {
   "cell_type": "code",
   "execution_count": null,
   "id": "c20e7907-c640-4e67-b56c-2ed88fb2858e",
   "metadata": {},
   "outputs": [],
   "source": [
    "fsspec_handle"
   ]
  },
  {
   "cell_type": "code",
   "execution_count": null,
   "id": "b6743a58-19ea-42f5-ad2a-67db6c5a5096",
   "metadata": {},
   "outputs": [],
   "source": [
    "prd_merged_data"
   ]
  },
  {
   "cell_type": "code",
   "execution_count": null,
   "id": "c4b67b3e-6f9a-4fc5-b555-481a45ccfd28",
   "metadata": {},
   "outputs": [],
   "source": [
    "prd_ws = Workspace.from_config()"
   ]
  },
  {
   "cell_type": "code",
   "execution_count": null,
   "id": "cb6ebdf8-cf6b-4cec-b24e-627580935fcf",
   "metadata": {},
   "outputs": [],
   "source": [
    "load_all = False\n",
    "if load_all:\n",
    "    azure_dataset_name ='prd_merged_all_events_files'\n",
    "else:\n",
    "    #  use subset for development.\n",
    "    azure_dataset_name ='prd_merged_202110_nswws_amber_oct_files'"
   ]
  },
  {
   "cell_type": "code",
   "execution_count": null,
   "id": "35b08e0c-51b2-4c63-9716-64cbb64f9150",
   "metadata": {},
   "outputs": [],
   "source": [
    "azure_experiment_name='prd_mlops_test'\n",
    "azure_env_name = 'prd_ml_cluster'\n",
    "cluster_name = 'mlops-gpu-test'"
   ]
  },
  {
   "cell_type": "code",
   "execution_count": null,
   "id": "eb2d0171-1034-4f27-bc3b-d60dd393d943",
   "metadata": {},
   "outputs": [],
   "source": [
    "prd_model_name = 'azml_cluster_demo_20220414'"
   ]
  },
  {
   "cell_type": "code",
   "execution_count": null,
   "id": "f1691c0c-0804-4c75-adce-25c581504b9f",
   "metadata": {},
   "outputs": [],
   "source": [
    "merged_prefix = 'prd_merged'\n",
    "csv_file_suffix = 'csv'"
   ]
  },
  {
   "cell_type": "code",
   "execution_count": null,
   "id": "d9c6b52c",
   "metadata": {},
   "outputs": [],
   "source": [
    "target_parameter = 'radar_mean_rain_instant'\n",
    "profile_features = ['air_temperature', 'relative_humidity']\n",
    "single_lvl_features = ['air_pressure_at_sea_level'] "
   ]
  },
  {
   "cell_type": "code",
   "execution_count": null,
   "id": "6a934dab-d59c-49a3-8bad-fcc8d4c22d0b",
   "metadata": {},
   "outputs": [],
   "source": [
    "prd_dataset_all = Dataset.get_by_name(prd_ws, azure_dataset_name)\n",
    "prd_dataset_all"
   ]
  },
  {
   "cell_type": "code",
   "execution_count": null,
   "id": "64e9b98e-b660-4661-9098-065ff10399b9",
   "metadata": {},
   "outputs": [],
   "source": [
    "import pandas"
   ]
  },
  {
   "cell_type": "code",
   "execution_count": null,
   "id": "d0ca872a-fd24-4d21-ad68-7d76329f8730",
   "metadata": {},
   "outputs": [],
   "source": [
    "with azml_ds.mount() as prd_ds_mount:\n",
    "    prd_path_list = [p1 for p1 in pathlib.Path(prd_ds_mount.mount_point).rglob(f'{merged_prefix}*{csv_file_suffix}') ]\n",
    "    merged_df = pandas.concat([pandas.read_csv(p1) for p1 in prd_path_list])"
   ]
  },
  {
   "cell_type": "code",
   "execution_count": null,
   "id": "ca784de4-c347-42e3-9491-7f7ff1b10b27",
   "metadata": {},
   "outputs": [],
   "source": [
    "merged_df"
   ]
  },
  {
   "cell_type": "code",
   "execution_count": null,
   "id": "404b91fe-a5d3-4367-934f-6fe4456fd8dc",
   "metadata": {},
   "outputs": [],
   "source": [
    "[c1 for c1 in merged_df.columns if 'rain' in c1]"
   ]
  },
  {
   "cell_type": "code",
   "execution_count": null,
   "id": "db8803a5-41f8-46a7-afcc-5e83b8bcec52",
   "metadata": {},
   "outputs": [],
   "source": [
    "prd_exp = Experiment(workspace=prd_ws, name=azure_experiment_name)\n",
    "prd_exp"
   ]
  },
  {
   "cell_type": "markdown",
   "id": "53da16db-dade-4d96-ac38-a6befff7a589",
   "metadata": {},
   "source": [
    "Get the AzML environment (basically a conda environment) from the workspace."
   ]
  },
  {
   "cell_type": "code",
   "execution_count": null,
   "id": "16a304bb-23d4-40e3-a0f6-9628efe621dc",
   "metadata": {},
   "outputs": [],
   "source": [
    "prd_env = Environment.get(workspace=prd_ws, name=azure_env_name)\n",
    "prd_env"
   ]
  },
  {
   "cell_type": "markdown",
   "id": "wireless-investing",
   "metadata": {},
   "source": [
    "### Load data"
   ]
  },
  {
   "cell_type": "markdown",
   "id": "51ee5da7-5829-4618-af04-17c9cf53473d",
   "metadata": {},
   "source": [
    "load the data from the script so we'renot duplicating code"
   ]
  },
  {
   "cell_type": "code",
   "execution_count": null,
   "id": "74635d41-c804-4e3c-93e6-c7141e3dbf17",
   "metadata": {},
   "outputs": [],
   "source": [
    "# import importlib \n",
    "# importlib.reload(prd_cluster_train_demo)"
   ]
  },
  {
   "cell_type": "code",
   "execution_count": null,
   "id": "17ece588-dfe2-4e31-a2c7-e30a66a90039",
   "metadata": {},
   "outputs": [],
   "source": [
    "%%time\n",
    "input_data = prd_pipeline.load_data(\n",
    "    prd_ws,\n",
    "    dataset_name=azure_dataset_name\n",
    ")\n",
    "data_splits, data_dims = prd_pipeline.preprocess_data(\n",
    "    input_data,\n",
    "    feature_dict={'profile': profile_features, 'single_level': single_lvl_features,'target': target_parameter,},\n",
    ")\n"
   ]
  },
  {
   "cell_type": "code",
   "execution_count": null,
   "id": "d6617411-75b6-440b-bf21-eed2570e71d0",
   "metadata": {},
   "outputs": [],
   "source": [
    "# these are example calls to the code for easier debugging than running on a separate cluster\n",
    "# model = prd_cluster_train_demo.build_model(**data_dims)\n",
    "# model = prd_cluster_train_demo.train_model(model, data_splits)"
   ]
  },
  {
   "cell_type": "code",
   "execution_count": null,
   "id": "d7243f14-bdd5-4348-ad0e-bf8729197580",
   "metadata": {},
   "outputs": [],
   "source": [
    "import datetime\n",
    "log_dir = 'log/fit/' + datetime.datetime.now().strftime('%Y%m%d-%H%M%S')"
   ]
  },
  {
   "cell_type": "markdown",
   "id": "6879705d-02a5-457a-81dd-a2efcc3a0d3c",
   "metadata": {
    "tags": []
   },
   "source": [
    "### Execute our training run on a cluster"
   ]
  },
  {
   "cell_type": "code",
   "execution_count": null,
   "id": "ee033e3d-f70c-4833-827e-c47272b8327f",
   "metadata": {},
   "outputs": [],
   "source": [
    "prd_demo_compute_target = ComputeTarget(workspace=prd_ws, name=cluster_name)\n",
    "prd_demo_compute_target"
   ]
  },
  {
   "cell_type": "code",
   "execution_count": null,
   "id": "6581fbf3-ec63-4ddb-9346-c1db7f6ff527",
   "metadata": {},
   "outputs": [],
   "source": [
    "prd_demo_args = ['--dataset-name', azure_dataset_name,\n",
    "                 '--target-parameter', target_parameter,\n",
    "                 '--model-name', prd_model_name,\n",
    "                ]\n",
    "\n",
    "prd_demo_args += ['--profile-features']\n",
    "prd_demo_args += profile_features\n",
    "prd_demo_args += ['--single-level_features']\n",
    "prd_demo_args += single_lvl_features\n",
    "\n",
    "prd_demo_args"
   ]
  },
  {
   "cell_type": "code",
   "execution_count": null,
   "id": "a552930a-a4d3-477c-9486-0071247cf723",
   "metadata": {},
   "outputs": [],
   "source": [
    "prd_run_src = ScriptRunConfig(source_directory=os.getcwd(),\n",
    "                      script='prd_cluster_train_demo.py',\n",
    "                      arguments=prd_demo_args,\n",
    "                      compute_target=prd_demo_compute_target,\n",
    "                      environment=prd_env)"
   ]
  },
  {
   "cell_type": "code",
   "execution_count": null,
   "id": "26f24060-af81-4ab6-b1cd-37e92997c493",
   "metadata": {},
   "outputs": [],
   "source": [
    "prd_run = prd_exp.submit(prd_run_src)\n",
    "prd_run"
   ]
  },
  {
   "cell_type": "markdown",
   "id": "2f0fa07b",
   "metadata": {
    "tags": []
   },
   "source": [
    "## Evaluation\n",
    "\n",
    "We now get the trained model to do some evaluatiion and create some plots"
   ]
  },
  {
   "cell_type": "code",
   "execution_count": null,
   "id": "4a9d9288-263b-4b1c-9d6d-0b4bd74f27e2",
   "metadata": {},
   "outputs": [],
   "source": [
    "import tempfile"
   ]
  },
  {
   "cell_type": "code",
   "execution_count": null,
   "id": "19ed52b6-7728-4ed2-b796-48053a5e78b7",
   "metadata": {},
   "outputs": [],
   "source": [
    "import tensorflow.keras"
   ]
  },
  {
   "cell_type": "markdown",
   "id": "165e4993-96e6-4975-9024-d69c33bb84ac",
   "metadata": {},
   "source": [
    "We download the model file into a temproary directory (so as not to pollute the local workspace) and load into memory to do inference"
   ]
  },
  {
   "cell_type": "code",
   "execution_count": null,
   "id": "818a6d03-9f0d-4a40-b0e5-4f95306b4c20",
   "metadata": {},
   "outputs": [],
   "source": [
    "with tempfile.TemporaryDirectory() as td1:\n",
    "    td_path = pathlib.Path(td1)\n",
    "    prd_run.download_files(prefix=prd_model_name, output_directory=td1)\n",
    "    model_path = td_path / prd_model_name\n",
    "    list(model_path.iterdir())\n",
    "    trained_model = tensorflow.keras.models.load_model(model_path)"
   ]
  },
  {
   "cell_type": "code",
   "execution_count": null,
   "id": "f4a7f14c-dece-475c-b321-377be47cab0a",
   "metadata": {},
   "outputs": [],
   "source": [
    "trained_model"
   ]
  },
  {
   "cell_type": "code",
   "execution_count": null,
   "id": "26af6141-846e-40ef-90ae-8607feeb0b16",
   "metadata": {},
   "outputs": [],
   "source": [
    "data_splits.keys()"
   ]
  },
  {
   "cell_type": "code",
   "execution_count": null,
   "id": "c68e7789-4683-4caf-a826-17b4a9c47fa7",
   "metadata": {},
   "outputs": [],
   "source": [
    "y_pred = trained_model.predict(data_splits['X_test'])"
   ]
  },
  {
   "cell_type": "code",
   "execution_count": null,
   "id": "c7e7dd0b",
   "metadata": {},
   "outputs": [],
   "source": [
    "fig1 = plt.figure(figsize=(10, 8))\n",
    "ax1 = fig1.add_subplot(1,1,1)\n",
    "ax1.scatter(data_splits['y_test'], y_pred, s=200, c='darkblue')\n",
    "ax1.plot([0, 300], [0, 300], ls=\"--\", c=\".3\")\n",
    "ax1.set_xlabel('Actual 3hr precip accumulation value')\n",
    "ax1.set_ylabel('Predicted 3hr precip_accumulation value')"
   ]
  },
  {
   "cell_type": "code",
   "execution_count": null,
   "id": "43385cc4-b515-4745-8e9c-2cfcc8624483",
   "metadata": {},
   "outputs": [],
   "source": [
    "prd_run.log_image(name='actual_vs_pred', plot=fig1, description='predicted vs actual 3hr accumulations of rainfall')"
   ]
  },
  {
   "cell_type": "code",
   "execution_count": null,
   "id": "b6a95931-bf51-479e-b9bc-c29fb11059a9",
   "metadata": {},
   "outputs": [],
   "source": [
    "prd_run.complete()"
   ]
  },
  {
   "cell_type": "code",
   "execution_count": null,
   "id": "4ebee981-e220-4328-a9a9-cfab5ae10ea6",
   "metadata": {},
   "outputs": [],
   "source": []
  }
 ],
 "metadata": {
  "kernelspec": {
   "display_name": "Python 3",
   "language": "python",
   "name": "python3"
  },
  "language_info": {
   "codemirror_mode": {
    "name": "ipython",
    "version": 3
   },
   "file_extension": ".py",
   "mimetype": "text/x-python",
   "name": "python",
   "nbconvert_exporter": "python",
   "pygments_lexer": "ipython3",
   "version": "3.8.1"
  }
 },
 "nbformat": 4,
 "nbformat_minor": 5
}
