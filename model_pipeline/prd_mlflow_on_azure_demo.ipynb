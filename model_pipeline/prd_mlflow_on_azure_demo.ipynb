{
 "cells": [
  {
   "cell_type": "markdown",
   "id": "ebb682d2-0f94-43f9-8971-239a40ab19f5",
   "metadata": {},
   "source": [
    "# ML Flow on Azure ML\n",
    "\n",
    "The ML ops demo notebook shows running ML Flow on a local machine, and the AzureML notebook demonstrates using the Azure ML SDK for experiment tracking. This notebook combines the two, using AzureML to run, but tracking through the ML Flow API with AzureML providing the backend storage. This allows us to make use of the easily scaling  infrastructure of AzureML, while the code is still portable as other backends can easily be swapped in when required.\n"
   ]
  },
  {
   "cell_type": "code",
   "execution_count": null,
   "id": "preliminary-idaho",
   "metadata": {},
   "outputs": [],
   "source": [
    "import pandas as pd\n",
    "import numpy as np\n",
    "import pathlib\n",
    "import matplotlib.pyplot as plt"
   ]
  },
  {
   "cell_type": "code",
   "execution_count": null,
   "id": "06959be2",
   "metadata": {},
   "outputs": [],
   "source": [
    "from sklearn.model_selection import train_test_split\n",
    "from sklearn.preprocessing import StandardScaler"
   ]
  },
  {
   "cell_type": "code",
   "execution_count": null,
   "id": "8300679e-340d-4fa3-9c7c-b23dc2ca9935",
   "metadata": {},
   "outputs": [],
   "source": [
    "%load_ext tensorboard"
   ]
  },
  {
   "cell_type": "code",
   "execution_count": null,
   "id": "e40a4d6c",
   "metadata": {},
   "outputs": [],
   "source": [
    "import tensorflow as tf\n",
    "from tensorflow.keras.layers import Dense, Activation, Flatten\n",
    "from tensorflow.keras.layers import Conv1D, concatenate\n",
    "from tensorflow.keras.layers import ZeroPadding1D, Reshape, Input, Dropout, PReLU\n",
    "from tensorflow.keras.models import Sequential, Model\n",
    "\n",
    "from sklearn.metrics import mean_absolute_error, r2_score"
   ]
  },
  {
   "cell_type": "code",
   "execution_count": null,
   "id": "fb927817-9259-4eda-b835-de060914651f",
   "metadata": {},
   "outputs": [],
   "source": [
    "import mlflow\n",
    "mlflow.tensorflow.autolog()"
   ]
  },
  {
   "cell_type": "code",
   "execution_count": null,
   "id": "5b55f2dc-9d4e-49b4-9965-5d0a7d25d458",
   "metadata": {},
   "outputs": [],
   "source": [
    "import azureml\n",
    "import azureml.core"
   ]
  },
  {
   "cell_type": "code",
   "execution_count": null,
   "id": "e8be64f6-152c-4dc2-bdca-8bc8f292ec90",
   "metadata": {},
   "outputs": [],
   "source": [
    "import prd_pipeline"
   ]
  },
  {
   "cell_type": "code",
   "execution_count": null,
   "id": "c7773b38-e9c6-40eb-afb5-357179a080b5",
   "metadata": {},
   "outputs": [],
   "source": [
    "import importlib"
   ]
  },
  {
   "cell_type": "code",
   "execution_count": null,
   "id": "8fc0fc2d-6911-406c-b319-594aa339bfae",
   "metadata": {},
   "outputs": [],
   "source": [
    "importlib.reload(prd_pipeline)"
   ]
  },
  {
   "cell_type": "markdown",
   "id": "wireless-investing",
   "metadata": {
    "tags": []
   },
   "source": [
    "### Load data"
   ]
  },
  {
   "cell_type": "code",
   "execution_count": null,
   "id": "4e372935-d1aa-40dc-8643-1c9a422d8b4e",
   "metadata": {},
   "outputs": [],
   "source": [
    "train202208_datastore_name = 'precip_rediagnosis_train202208'\n",
    "prd_prefix = 'prd'\n",
    "merged_prefix = prd_prefix + '_merged'\n",
    "csv_file_suffix = 'csv'"
   ]
  },
  {
   "cell_type": "code",
   "execution_count": null,
   "id": "b90ed6ad-765d-45b6-87c2-003d4d1ac69a",
   "metadata": {},
   "outputs": [],
   "source": [
    "# prd_merged_file_dataset_name = 'prd_merged_csv_files'\n",
    "prd_merged_file_dataset_name = 'prd_merged_2022_storm_eunice_franklin_files'\n"
   ]
  },
  {
   "cell_type": "code",
   "execution_count": null,
   "id": "15ef9973-1466-4a42-b214-646ede49d6ad",
   "metadata": {},
   "outputs": [],
   "source": [
    "azure_experiment_name='prd_mlops_test'\n",
    "azure_env_name = 'prd_ml_cluster'\n",
    "cluster_name = 'mlops-test'"
   ]
  },
  {
   "cell_type": "code",
   "execution_count": null,
   "id": "270e2027-fc87-4b05-8aea-f248982bbeef",
   "metadata": {},
   "outputs": [],
   "source": [
    "prd_model_name = 'azml_mlops_202208'"
   ]
  },
  {
   "cell_type": "code",
   "execution_count": null,
   "id": "c98d459c-f611-4b85-a5d3-4d2196e9c2ec",
   "metadata": {},
   "outputs": [],
   "source": [
    "prd_all_events_dataset_name = 'prd_merged_all_events_files'"
   ]
  },
  {
   "cell_type": "code",
   "execution_count": null,
   "id": "85382878-1d22-4deb-92b9-58946c4bf878",
   "metadata": {},
   "outputs": [],
   "source": [
    "target_parameter = 'rainfall_rate'\n",
    "profile_features = ['air_temperature', 'relative_humidity']\n",
    "single_lvl_features = ['air_pressure_at_sea_level'] "
   ]
  },
  {
   "cell_type": "code",
   "execution_count": null,
   "id": "4d4d7c03-3443-46ac-9128-26affe093cc4",
   "metadata": {},
   "outputs": [],
   "source": [
    "prd_ws = azureml.core.Workspace.from_config()"
   ]
  },
  {
   "cell_type": "code",
   "execution_count": null,
   "id": "d1145f9a-f0aa-4f19-9589-f5aa85c2606c",
   "metadata": {},
   "outputs": [],
   "source": [
    "mlflow.set_tracking_uri(prd_ws.get_mlflow_tracking_uri())"
   ]
  },
  {
   "cell_type": "code",
   "execution_count": null,
   "id": "ca91538b-db49-4463-9886-67b4d5f36b42",
   "metadata": {},
   "outputs": [],
   "source": [
    "%%time\n",
    "input_data = prd_pipeline.load_data(\n",
    "    current_ws=prd_ws,\n",
    "    dataset_name=prd_all_events_dataset_name\n",
    ")\n"
   ]
  },
  {
   "cell_type": "code",
   "execution_count": null,
   "id": "e81c7bfb-1415-412a-9103-a5a10fc666e0",
   "metadata": {},
   "outputs": [],
   "source": [
    "[c1 for c1 in input_data.columns if 'rain' in c1]"
   ]
  },
  {
   "cell_type": "code",
   "execution_count": null,
   "id": "d0fe4cff-748f-411c-a3da-575eaac67240",
   "metadata": {},
   "outputs": [],
   "source": [
    "%%time\n",
    "data_splits, data_dims = prd_pipeline.preprocess_data(\n",
    "    input_data=input_data,\n",
    "    test_fraction=0.2,\n",
    "    feature_dict={'profile': profile_features, 'single_level': single_lvl_features,'target': target_parameter,},\n",
    ")"
   ]
  },
  {
   "cell_type": "code",
   "execution_count": null,
   "id": "f7aa31b1",
   "metadata": {},
   "outputs": [],
   "source": [
    "nprof_features = data_dims['nprof_features'] \n",
    "nheights = data_dims['nheights']\n",
    "nsinglvl_features = data_dims['nsinglvl_features']"
   ]
  },
  {
   "cell_type": "code",
   "execution_count": null,
   "id": "b71e080e-fbff-4e05-93c3-a09bbe43f83f",
   "metadata": {},
   "outputs": [],
   "source": [
    "prd_experiment_name = 'prd_exp_azml_mlflow'"
   ]
  },
  {
   "cell_type": "code",
   "execution_count": null,
   "id": "7def4473-cb5d-401a-9d6b-671682dbddae",
   "metadata": {
    "tags": []
   },
   "outputs": [],
   "source": [
    "exp1 = mlflow.create_experiment(prd_experiment_name)\n",
    "exp1"
   ]
  },
  {
   "cell_type": "code",
   "execution_count": null,
   "id": "a8b3a87b-bdcd-49df-84c7-f37d8aa78004",
   "metadata": {},
   "outputs": [],
   "source": [
    "exp1 = mlflow.get_experiment(exp1)"
   ]
  },
  {
   "cell_type": "code",
   "execution_count": null,
   "id": "a27fd2cd-ecda-4bee-82e3-13a6b876e3bf",
   "metadata": {},
   "outputs": [],
   "source": [
    "exp1"
   ]
  },
  {
   "cell_type": "code",
   "execution_count": null,
   "id": "d7243f14-bdd5-4348-ad0e-bf8729197580",
   "metadata": {},
   "outputs": [],
   "source": [
    "import datetime\n",
    "log_dir = 'log/fit/' + datetime.datetime.now().strftime('%Y%m%d-%H%M%S')"
   ]
  },
  {
   "cell_type": "code",
   "execution_count": null,
   "id": "91a2ab34-98b2-428a-ae55-4e04fda66df4",
   "metadata": {},
   "outputs": [],
   "source": [
    "tensorflow_callback = tf.keras.callbacks.TensorBoard(log_dir=log_dir, histogram_freq=1)\n",
    "\n",
    "# run tensorboard --logdir LOGDIRPATH from command line to launch "
   ]
  },
  {
   "cell_type": "code",
   "execution_count": null,
   "id": "0669dad0-af4a-496e-83e4-280797bc2fc1",
   "metadata": {},
   "outputs": [],
   "source": [
    "import tempfile"
   ]
  },
  {
   "cell_type": "code",
   "execution_count": null,
   "id": "5b8465b5-2d2d-49e8-a8c1-e17e63a8ad9b",
   "metadata": {},
   "outputs": [],
   "source": [
    "from azureml.tensorboard import Tensorboard\n"
   ]
  },
  {
   "cell_type": "code",
   "execution_count": null,
   "id": "ef21b9aa-d92a-4c72-abce-97a925377f1f",
   "metadata": {},
   "outputs": [],
   "source": [
    "data_splits.keys()"
   ]
  },
  {
   "cell_type": "code",
   "execution_count": null,
   "id": "c27508b4-a716-4dec-bdda-b98e80d539f7",
   "metadata": {},
   "outputs": [],
   "source": [
    "data_dims"
   ]
  },
  {
   "cell_type": "code",
   "execution_count": null,
   "id": "0c7ef867-5481-40dc-870f-3d7e276cf690",
   "metadata": {},
   "outputs": [],
   "source": [
    "current_run = mlflow.start_run(experiment_id=exp1.experiment_id)\n"
   ]
  },
  {
   "cell_type": "code",
   "execution_count": null,
   "id": "20f3b1db-82da-44e8-9725-b34a838da4af",
   "metadata": {},
   "outputs": [],
   "source": [
    "current_run"
   ]
  },
  {
   "cell_type": "code",
   "execution_count": null,
   "id": "1e66147a-6e6c-46a3-879f-14cc6a5107e7",
   "metadata": {},
   "outputs": [],
   "source": [
    "# current run can only be obtained within a run. Once the mlflow run has been created, we will need to call Run.get_context to get ther azureml run\n",
    "azml_current_run = list(azureml.core.Experiment.list(prd_ws, prd_experiment_name)[0].get_runs())[0]\n",
    "azml_current_run"
   ]
  },
  {
   "cell_type": "code",
   "execution_count": null,
   "id": "7a78220e-1625-45bf-bb83-6187c02af8c8",
   "metadata": {},
   "outputs": [],
   "source": [
    "prd_tb = Tensorboard([azml_current_run])\n",
    "\n",
    "# If successful, start() returns a string with the URI of the instance.\n",
    "prd_tb_uri = prd_tb.start()"
   ]
  },
  {
   "cell_type": "code",
   "execution_count": null,
   "id": "4c534887-df06-4c4e-be8b-e0d1a100085c",
   "metadata": {},
   "outputs": [],
   "source": [
    "model = prd_pipeline.build_model(nprof_features, nheights, nsinglvl_features)\n",
    "model.summary()"
   ]
  },
  {
   "cell_type": "code",
   "execution_count": null,
   "id": "a9363c40-85d4-47da-b499-2010f2e6b046",
   "metadata": {},
   "outputs": [],
   "source": [
    "optimizer = tf.keras.optimizers.Adam(learning_rate=0.01)\n",
    "model.compile(loss='mean_absolute_error', optimizer=optimizer)"
   ]
  },
  {
   "cell_type": "code",
   "execution_count": null,
   "id": "18e0343a-b343-4fc3-8cf9-17678d970b9f",
   "metadata": {},
   "outputs": [],
   "source": [
    "history = model.fit(data_splits['X_train'], \n",
    "                    data_splits['y_train'], \n",
    "                    epochs=50, \n",
    "                    batch_size=128, \n",
    "                    validation_data=(data_splits['X_val'], \n",
    "                                     data_splits['y_val']), \n",
    "                    verbose=True, \n",
    "                    callbacks=[tensorflow_callback])\n"
   ]
  },
  {
   "cell_type": "markdown",
   "id": "e739e218-21cf-4ae4-b357-5c226177002f",
   "metadata": {},
   "source": [
    "If we look at the experiment in AzureML GUI, we see that all the model parameters have been automatically logged, and the model has been saved by ML Flow ready for use in inference."
   ]
  },
  {
   "cell_type": "code",
   "execution_count": null,
   "id": "646bbd41-d3c2-4d0e-819d-32a3ede0ff21",
   "metadata": {},
   "outputs": [],
   "source": [
    "y_pred = model.predict(data_splits['X_val'])\n",
    "error = mean_absolute_error(data_splits['y_val'], y_pred)\n",
    "print(f'MAE: {error:.3f}')\n",
    "mlflow.log_metric('MAE', error)\n"
   ]
  },
  {
   "cell_type": "code",
   "execution_count": null,
   "id": "e850c26c-8f2b-46ba-99bb-58149887139b",
   "metadata": {},
   "outputs": [],
   "source": [
    "rsqrd = r2_score(data_splits['y_val'], y_pred)\n",
    "print(f'R-squared score: {rsqrd:.3f}')\n",
    "mlflow.log_metric('R-squared', rsqrd)"
   ]
  },
  {
   "cell_type": "code",
   "execution_count": null,
   "id": "58345eb4-5668-4072-bc7e-c859afd050ba",
   "metadata": {},
   "outputs": [],
   "source": []
  },
  {
   "cell_type": "code",
   "execution_count": null,
   "id": "283c3fa6-0af1-4525-b762-83823e5805f3",
   "metadata": {},
   "outputs": [],
   "source": [
    "fig1 = plt.figure(figsize=(10, 8))\n",
    "ax1 = fig1.add_subplot(1,1,1)\n",
    "ax1.scatter(data_splits['y_val'], y_pred, s=200, c='darkblue')\n",
    "ax1.plot([0, 300], [0, 300], ls=\"--\", c=\".3\")\n",
    "ax1.set_xlabel('Actual 3hr precip accumulation value')\n",
    "ax1.set_ylabel('Predicted 3hr precip_accumulation value')\n",
    "#     with tempfile.TemporaryDirectory() as td1:\n",
    "\n",
    "#         fig1.savefig(plot_out_path, bbox_inches='tight')\n",
    "mlflow.log_figure(fig1,  'actual_predicted_precip_3hr.png')    "
   ]
  },
  {
   "cell_type": "code",
   "execution_count": null,
   "id": "6d2934e9-e732-4754-8bf9-7a51b9e325e0",
   "metadata": {},
   "outputs": [],
   "source": [
    "fig2 = plt.figure(figsize=(20, 8))\n",
    "ax1 = fig2.add_subplot(1,2,1, title='Training. vs validation set loss  (mean absolute error)')\n",
    "ax1.plot(training_hist_df.epoch, training_hist_df.loss, label='training')\n",
    "ax1.plot(training_hist_df.epoch, training_hist_df.val_loss, c='g', label='validation')\n",
    "ax1.legend()\n",
    "ax1.set_ylabel('MAE [mm of precipitation]')\n",
    "ax1.set_xlabel('epochs')\n",
    "ax2 = fig2.add_subplot(1,2,2,title='Histogram of Actual vs Predicted preicpitation')\n",
    "ax2.hist(data_splits['y_val'], alpha=0.5, bins=40, label='Actual')\n",
    "ax2.hist(y_pred, alpha=0.5, bins=40, label='Predicted')\n",
    "ax2.legend()    \n",
    "mlflow.log_figure(fig2, 'training_loss_hist_plot.png')"
   ]
  },
  {
   "cell_type": "code",
   "execution_count": null,
   "id": "197da54b-4b3d-45b0-8ba7-d91ca6839419",
   "metadata": {},
   "outputs": [],
   "source": [
    "# After your job completes, be sure to stop() the streaming otherwise it will continue to run. \n",
    "prd_tb.stop()"
   ]
  },
  {
   "cell_type": "markdown",
   "id": "2f0fa07b",
   "metadata": {
    "tags": []
   },
   "source": [
    "## Evaluation"
   ]
  },
  {
   "cell_type": "code",
   "execution_count": null,
   "id": "f4fe371a",
   "metadata": {},
   "outputs": [],
   "source": [
    "training_hist_df = pd.DataFrame(history.history)\n",
    "training_hist_df['epoch'] = history.epoch"
   ]
  },
  {
   "cell_type": "code",
   "execution_count": null,
   "id": "78da3e0b-0255-4446-a743-ff6c6f51a76d",
   "metadata": {},
   "outputs": [],
   "source": [
    "print('hello')"
   ]
  },
  {
   "cell_type": "code",
   "execution_count": null,
   "id": "2c7ec093",
   "metadata": {},
   "outputs": [],
   "source": [
    "fig1 = plt.figure(figsize=(20, 8))\n",
    "\n",
    "ax1 = fig1.add_subplot(1,2,1, title='Training. vs validation set loss  (mean absolute error)')\n",
    "ax1.plot(training_hist_df.epoch, training_hist_df.loss, label='training')\n",
    "ax1.plot(training_hist_df.epoch, training_hist_df.val_loss, c='g', label='validation')\n",
    "ax1.legend()\n",
    "ax1.set_ylabel('MAE [mm of precipitation]')\n",
    "ax1.set_xlabel('epochs')\n",
    "\n",
    "ax2 = fig1.add_subplot(1,2,2,title='Histogram of Actual vs Predicted preicpitation')\n",
    "ax2.hist(data_splits['y_val'], alpha=0.5, bins=40, label='Actual')\n",
    "ax2.hist(y_pred, alpha=0.5, bins=40, label='Predicted')\n",
    "ax2.legend()\n",
    "\n",
    "# fig1.savefig('training_loss_hist_plot.png',bbox_inches='tight')"
   ]
  },
  {
   "cell_type": "code",
   "execution_count": null,
   "id": "b4367ae3-9eda-470e-8491-9a6ef0bd8e3d",
   "metadata": {},
   "outputs": [],
   "source": []
  },
  {
   "cell_type": "code",
   "execution_count": null,
   "id": "9e77cda2-b64f-42fd-a079-1a048b02f20f",
   "metadata": {},
   "outputs": [],
   "source": [
    "prd_ws.get_run('50d5690b-456d-4f9c-b2fe-e0570445f6ab').log_image('training_loss_hist_plot', 'training_loss_hist_plot.png')"
   ]
  },
  {
   "cell_type": "code",
   "execution_count": null,
   "id": "defe094e-c2a6-4299-b954-33ca80ab2216",
   "metadata": {},
   "outputs": [],
   "source": []
  }
 ],
 "metadata": {
  "kernelspec": {
   "display_name": "PRd ML Training AzML",
   "language": "python",
   "name": "kernel_prd_ml"
  },
  "language_info": {
   "codemirror_mode": {
    "name": "ipython",
    "version": 3
   },
   "file_extension": ".py",
   "mimetype": "text/x-python",
   "name": "python",
   "nbconvert_exporter": "python",
   "pygments_lexer": "ipython3",
   "version": "3.8.13"
  }
 },
 "nbformat": 4,
 "nbformat_minor": 5
}
