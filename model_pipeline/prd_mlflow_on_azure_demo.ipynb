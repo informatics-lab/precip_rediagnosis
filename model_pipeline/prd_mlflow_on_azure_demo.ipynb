{
 "cells": [
  {
   "cell_type": "markdown",
   "id": "ebb682d2-0f94-43f9-8971-239a40ab19f5",
   "metadata": {},
   "source": [
    "# ML Flow on Azure ML\n",
    "\n",
    "The ML ops demo notebook shows running ML Flow on a local machine, and the AzureML notebook demonstrates using the Azure ML SDK for experiment tracking. This notebook combines the two, using AzureML to run, but tracking through the ML Flow API with AzureML providing the backend storage. This allows us to make use of the easily scaling  infrastructure of AzureML, while the code is still portable as other backends can easily be swapped in when required.\n"
   ]
  },
  {
   "cell_type": "code",
   "execution_count": 1,
   "id": "preliminary-idaho",
   "metadata": {},
   "outputs": [],
   "source": [
    "import pandas as pd\n",
    "import numpy as np\n",
    "import pathlib\n",
    "import matplotlib.pyplot as plt"
   ]
  },
  {
   "cell_type": "code",
   "execution_count": 2,
   "id": "06959be2",
   "metadata": {},
   "outputs": [],
   "source": [
    "from sklearn.model_selection import train_test_split\n",
    "from sklearn.preprocessing import StandardScaler"
   ]
  },
  {
   "cell_type": "code",
   "execution_count": 3,
   "id": "8300679e-340d-4fa3-9c7c-b23dc2ca9935",
   "metadata": {},
   "outputs": [],
   "source": [
    "%load_ext tensorboard"
   ]
  },
  {
   "cell_type": "code",
   "execution_count": 4,
   "id": "e40a4d6c",
   "metadata": {},
   "outputs": [],
   "source": [
    "import tensorflow as tf\n",
    "from tensorflow.keras.layers import Dense, Activation, Flatten\n",
    "from tensorflow.keras.layers import Conv1D, concatenate\n",
    "from tensorflow.keras.layers import ZeroPadding1D, Reshape, Input, Dropout, PReLU\n",
    "from tensorflow.keras.models import Sequential, Model\n",
    "\n",
    "from sklearn.metrics import mean_absolute_error, r2_score"
   ]
  },
  {
   "cell_type": "code",
   "execution_count": 5,
   "id": "fb927817-9259-4eda-b835-de060914651f",
   "metadata": {},
   "outputs": [],
   "source": [
    "import mlflow\n",
    "mlflow.tensorflow.autolog()"
   ]
  },
  {
   "cell_type": "code",
   "execution_count": 6,
   "id": "e8be64f6-152c-4dc2-bdca-8bc8f292ec90",
   "metadata": {},
   "outputs": [],
   "source": [
    "import prd_pipeline"
   ]
  },
  {
   "cell_type": "markdown",
   "id": "wireless-investing",
   "metadata": {
    "tags": []
   },
   "source": [
    "### Load data"
   ]
  },
  {
   "cell_type": "code",
   "execution_count": 7,
   "id": "5b55f2dc-9d4e-49b4-9965-5d0a7d25d458",
   "metadata": {},
   "outputs": [],
   "source": [
    "import azureml.core\n",
    "from azureml.core import Workspace, Datastore, Dataset\n",
    "from azureml.core import Experiment\n",
    "\n",
    "prd_ws = Workspace.from_config()"
   ]
  },
  {
   "cell_type": "code",
   "execution_count": 8,
   "id": "15ef9973-1466-4a42-b214-646ede49d6ad",
   "metadata": {},
   "outputs": [],
   "source": [
    "azure_dataset_name ='sd3'\n",
    "azure_experiment_name='prd_mlops_test'\n",
    "azure_env_name = 'prd_ml_cluster'\n",
    "cluster_name = 'mlops-test'"
   ]
  },
  {
   "cell_type": "code",
   "execution_count": 9,
   "id": "270e2027-fc87-4b05-8aea-f248982bbeef",
   "metadata": {},
   "outputs": [],
   "source": [
    "prd_model_name = 'azml_mlflow_20220504'"
   ]
  },
  {
   "cell_type": "code",
   "execution_count": 10,
   "id": "85382878-1d22-4deb-92b9-58946c4bf878",
   "metadata": {},
   "outputs": [],
   "source": [
    "target_parameter = 'rainfall_rate_composite'\n",
    "profile_features = ['air_temperature', 'relative_humidity']\n",
    "single_lvl_features = ['air_pressure_at_sea_level'] "
   ]
  },
  {
   "cell_type": "code",
   "execution_count": 11,
   "id": "d1145f9a-f0aa-4f19-9589-f5aa85c2606c",
   "metadata": {},
   "outputs": [],
   "source": [
    "mlflow.set_tracking_uri(prd_ws.get_mlflow_tracking_uri())"
   ]
  },
  {
   "cell_type": "code",
   "execution_count": 12,
   "id": "ca91538b-db49-4463-9886-67b4d5f36b42",
   "metadata": {},
   "outputs": [
    {
     "name": "stdout",
     "output_type": "stream",
     "text": [
      "target has dims: 23\n",
      "dropping zeros\n",
      "getting profile columns\n",
      "['air_temperature_5.0', 'air_temperature_10.0', 'air_temperature_20.0', 'air_temperature_30.0', 'air_temperature_50.0', 'air_temperature_75.0', 'air_temperature_100.0', 'air_temperature_150.0', 'air_temperature_200.0', 'air_temperature_250.0', 'air_temperature_300.0', 'air_temperature_400.0', 'air_temperature_500.0', 'air_temperature_600.0', 'air_temperature_700.0', 'air_temperature_800.0', 'air_temperature_1000.0', 'air_temperature_1250.0', 'air_temperature_1500.0', 'air_temperature_1750.0', 'air_temperature_2000.0', 'air_temperature_2250.0', 'air_temperature_2500.0', 'air_temperature_2750.0', 'air_temperature_3000.0', 'air_temperature_3250.0', 'air_temperature_3500.0', 'air_temperature_3750.0', 'air_temperature_4000.0', 'air_temperature_4500.0', 'air_temperature_5000.0', 'air_temperature_5500.0', 'air_temperature_6000.0', 'relative_humidity_5.0', 'relative_humidity_10.0', 'relative_humidity_20.0', 'relative_humidity_30.0', 'relative_humidity_50.0', 'relative_humidity_75.0', 'relative_humidity_100.0', 'relative_humidity_150.0', 'relative_humidity_200.0', 'relative_humidity_250.0', 'relative_humidity_300.0', 'relative_humidity_400.0', 'relative_humidity_500.0', 'relative_humidity_600.0', 'relative_humidity_700.0', 'relative_humidity_800.0', 'relative_humidity_1000.0', 'relative_humidity_1250.0', 'relative_humidity_1500.0', 'relative_humidity_1750.0', 'relative_humidity_2000.0', 'relative_humidity_2250.0', 'relative_humidity_2500.0', 'relative_humidity_2750.0', 'relative_humidity_3000.0', 'relative_humidity_3250.0', 'relative_humidity_3500.0', 'relative_humidity_3750.0', 'relative_humidity_4000.0', 'relative_humidity_4500.0', 'relative_humidity_5000.0', 'relative_humidity_5500.0', 'relative_humidity_6000.0']\n",
      "{'profile': ['air_temperature', 'relative_humidity'], 'single_level': ['air_pressure_at_sea_level'], 'target': 'rainfall_rate_composite'}\n"
     ]
    }
   ],
   "source": [
    "input_data = prd_pipeline.load_data(\n",
    "    prd_ws,\n",
    "    dataset_name=azure_dataset_name\n",
    ")\n",
    "data_splits, data_dims = prd_pipeline.preprocess_data(\n",
    "    input_data,\n",
    "    test_fraction=0.2,\n",
    "    feature_dict={'profile': profile_features, 'single_level': single_lvl_features,'target': target_parameter,},\n",
    ")"
   ]
  },
  {
   "cell_type": "code",
   "execution_count": 13,
   "id": "f7aa31b1",
   "metadata": {},
   "outputs": [],
   "source": [
    "nprof_features = data_dims['nprof_features'] \n",
    "nheights = data_dims['nheights']\n",
    "nsinglvl_features = data_dims['nsinglvl_features']"
   ]
  },
  {
   "cell_type": "code",
   "execution_count": 14,
   "id": "7def4473-cb5d-401a-9d6b-671682dbddae",
   "metadata": {
    "tags": []
   },
   "outputs": [
    {
     "data": {
      "text/plain": [
       "'f1ebd4da-78ee-4b70-9d2c-5b9c5fb75ea9'"
      ]
     },
     "execution_count": 14,
     "metadata": {},
     "output_type": "execute_result"
    }
   ],
   "source": [
    "exp1 = mlflow.create_experiment('prd_exp_azml_mlflow')\n",
    "exp1"
   ]
  },
  {
   "cell_type": "code",
   "execution_count": 15,
   "id": "a8b3a87b-bdcd-49df-84c7-f37d8aa78004",
   "metadata": {},
   "outputs": [],
   "source": [
    "exp1 = mlflow.get_experiment(exp1)"
   ]
  },
  {
   "cell_type": "code",
   "execution_count": 16,
   "id": "a27fd2cd-ecda-4bee-82e3-13a6b876e3bf",
   "metadata": {},
   "outputs": [
    {
     "data": {
      "text/plain": [
       "<Experiment: artifact_location='', experiment_id='f1ebd4da-78ee-4b70-9d2c-5b9c5fb75ea9', lifecycle_stage='active', name='prd_exp_azml_mlflow', tags={}>"
      ]
     },
     "execution_count": 16,
     "metadata": {},
     "output_type": "execute_result"
    }
   ],
   "source": [
    "exp1"
   ]
  },
  {
   "cell_type": "code",
   "execution_count": 17,
   "id": "d7243f14-bdd5-4348-ad0e-bf8729197580",
   "metadata": {},
   "outputs": [],
   "source": [
    "import datetime\n",
    "log_dir = 'log/fit/' + datetime.datetime.now().strftime('%Y%m%d-%H%M%S')"
   ]
  },
  {
   "cell_type": "code",
   "execution_count": 18,
   "id": "91a2ab34-98b2-428a-ae55-4e04fda66df4",
   "metadata": {},
   "outputs": [],
   "source": [
    "tensorflow_callback = tf.keras.callbacks.TensorBoard(log_dir=log_dir, histogram_freq=1)\n",
    "\n",
    "# run tensorboard --logdir LOGDIRPATH from command line to launch "
   ]
  },
  {
   "cell_type": "code",
   "execution_count": 19,
   "id": "0669dad0-af4a-496e-83e4-280797bc2fc1",
   "metadata": {},
   "outputs": [],
   "source": [
    "import tempfile"
   ]
  },
  {
   "cell_type": "code",
   "execution_count": 20,
   "id": "18e0343a-b343-4fc3-8cf9-17678d970b9f",
   "metadata": {},
   "outputs": [
    {
     "name": "stdout",
     "output_type": "stream",
     "text": [
      "Model: \"model\"\n",
      "__________________________________________________________________________________________________\n",
      "Layer (type)                    Output Shape         Param #     Connected to                     \n",
      "==================================================================================================\n",
      "profile_input (InputLayer)      [(None, 33, 2)]      0                                            \n",
      "__________________________________________________________________________________________________\n",
      "zero_padding1d (ZeroPadding1D)  (None, 35, 2)        0           profile_input[0][0]              \n",
      "__________________________________________________________________________________________________\n",
      "conv1d (Conv1D)                 (None, 33, 32)       192         zero_padding1d[0][0]             \n",
      "__________________________________________________________________________________________________\n",
      "zero_padding1d_1 (ZeroPadding1D (None, 35, 32)       0           conv1d[0][0]                     \n",
      "__________________________________________________________________________________________________\n",
      "conv1d_1 (Conv1D)               (None, 33, 32)       3072        zero_padding1d_1[0][0]           \n",
      "__________________________________________________________________________________________________\n",
      "zero_padding1d_2 (ZeroPadding1D (None, 35, 32)       0           conv1d_1[0][0]                   \n",
      "__________________________________________________________________________________________________\n",
      "conv1d_2 (Conv1D)               (None, 33, 32)       3072        zero_padding1d_2[0][0]           \n",
      "__________________________________________________________________________________________________\n",
      "add (Add)                       (None, 33, 32)       0           conv1d_2[0][0]                   \n",
      "                                                                 conv1d[0][0]                     \n",
      "__________________________________________________________________________________________________\n",
      "flatten (Flatten)               (None, 1056)         0           add[0][0]                        \n",
      "__________________________________________________________________________________________________\n",
      "dense (Dense)                   (None, 66)           69696       flatten[0][0]                    \n",
      "__________________________________________________________________________________________________\n",
      "surf_input (InputLayer)         [(None, 1)]          0                                            \n",
      "__________________________________________________________________________________________________\n",
      "flatten_1 (Flatten)             (None, 66)           0           profile_input[0][0]              \n",
      "__________________________________________________________________________________________________\n",
      "concatenate_1 (Concatenate)     (None, 67)           0           dense[0][0]                      \n",
      "                                                                 surf_input[0][0]                 \n",
      "__________________________________________________________________________________________________\n",
      "concatenate (Concatenate)       (None, 67)           0           flatten_1[0][0]                  \n",
      "                                                                 surf_input[0][0]                 \n",
      "__________________________________________________________________________________________________\n",
      "add_1 (Add)                     (None, 67)           0           concatenate_1[0][0]              \n",
      "                                                                 concatenate[0][0]                \n",
      "__________________________________________________________________________________________________\n",
      "dense_1 (Dense)                 (None, 1024)         68608       add_1[0][0]                      \n",
      "__________________________________________________________________________________________________\n",
      "dense_2 (Dense)                 (None, 1024)         1048576     dense_1[0][0]                    \n",
      "__________________________________________________________________________________________________\n",
      "main_output (Dense)             (None, 1)            1025        dense_2[0][0]                    \n",
      "==================================================================================================\n",
      "Total params: 1,194,241\n",
      "Trainable params: 1,194,241\n",
      "Non-trainable params: 0\n",
      "__________________________________________________________________________________________________\n",
      "Epoch 1/50\n",
      "  2/238 [..............................] - ETA: 1:56 - loss: 45.2496WARNING:tensorflow:Method (on_train_batch_end) is slow compared to the batch update (0.485317). Check your callbacks.\n",
      "238/238 [==============================] - 5s 21ms/step - loss: 16.0372 - val_loss: 14.7743\n",
      "Epoch 2/50\n",
      "238/238 [==============================] - 3s 13ms/step - loss: 13.9210 - val_loss: 13.2461\n",
      "Epoch 3/50\n",
      "238/238 [==============================] - 3s 14ms/step - loss: 13.1610 - val_loss: 12.2935\n",
      "Epoch 4/50\n",
      "238/238 [==============================] - 3s 14ms/step - loss: 12.4901 - val_loss: 13.0878\n",
      "Epoch 5/50\n",
      "238/238 [==============================] - 3s 14ms/step - loss: 12.4184 - val_loss: 11.9560\n",
      "Epoch 6/50\n",
      "238/238 [==============================] - 3s 14ms/step - loss: 11.8249 - val_loss: 11.5853\n",
      "Epoch 7/50\n",
      "238/238 [==============================] - 3s 14ms/step - loss: 11.5496 - val_loss: 11.8238\n",
      "Epoch 8/50\n",
      "238/238 [==============================] - 3s 14ms/step - loss: 11.5702 - val_loss: 12.1426\n",
      "Epoch 9/50\n",
      "238/238 [==============================] - 3s 14ms/step - loss: 11.3306 - val_loss: 11.4779\n",
      "Epoch 10/50\n",
      "238/238 [==============================] - 3s 14ms/step - loss: 11.0585 - val_loss: 11.2801\n",
      "Epoch 11/50\n",
      "238/238 [==============================] - 3s 14ms/step - loss: 11.1825 - val_loss: 11.4979\n",
      "Epoch 12/50\n",
      "238/238 [==============================] - 3s 14ms/step - loss: 10.9750 - val_loss: 11.2266\n",
      "Epoch 13/50\n",
      "238/238 [==============================] - 3s 14ms/step - loss: 10.7706 - val_loss: 11.1553\n",
      "Epoch 14/50\n",
      "238/238 [==============================] - 3s 14ms/step - loss: 10.7310 - val_loss: 11.0267\n",
      "Epoch 15/50\n",
      "238/238 [==============================] - 3s 15ms/step - loss: 10.5100 - val_loss: 11.4628\n",
      "Epoch 16/50\n",
      "238/238 [==============================] - 4s 15ms/step - loss: 10.5820 - val_loss: 10.6827\n",
      "Epoch 17/50\n",
      "238/238 [==============================] - 4s 15ms/step - loss: 10.3783 - val_loss: 10.5742\n",
      "Epoch 18/50\n",
      "238/238 [==============================] - 4s 15ms/step - loss: 10.3965 - val_loss: 10.3651\n",
      "Epoch 19/50\n",
      "238/238 [==============================] - 3s 15ms/step - loss: 10.3535 - val_loss: 10.6177\n",
      "Epoch 20/50\n",
      "238/238 [==============================] - 4s 15ms/step - loss: 10.2144 - val_loss: 10.9336\n",
      "Epoch 21/50\n",
      "238/238 [==============================] - 3s 15ms/step - loss: 10.2512 - val_loss: 10.4186\n",
      "Epoch 22/50\n",
      "238/238 [==============================] - 3s 15ms/step - loss: 10.1457 - val_loss: 10.7860\n",
      "Epoch 23/50\n",
      "238/238 [==============================] - 4s 15ms/step - loss: 10.0022 - val_loss: 10.4522\n",
      "Epoch 24/50\n",
      "238/238 [==============================] - 4s 15ms/step - loss: 10.0063 - val_loss: 10.3587\n",
      "Epoch 25/50\n",
      "238/238 [==============================] - 4s 15ms/step - loss: 9.9629 - val_loss: 10.7418\n",
      "Epoch 26/50\n",
      "238/238 [==============================] - 3s 14ms/step - loss: 9.9564 - val_loss: 10.7296\n",
      "Epoch 27/50\n",
      "238/238 [==============================] - 4s 15ms/step - loss: 9.8566 - val_loss: 10.6844\n",
      "Epoch 28/50\n",
      "238/238 [==============================] - 3s 14ms/step - loss: 9.8005 - val_loss: 10.4440\n",
      "Epoch 29/50\n",
      "238/238 [==============================] - 3s 15ms/step - loss: 9.7476 - val_loss: 10.1308\n",
      "Epoch 30/50\n",
      "238/238 [==============================] - 3s 14ms/step - loss: 9.7261 - val_loss: 10.3092\n",
      "Epoch 31/50\n",
      "238/238 [==============================] - 3s 14ms/step - loss: 9.6899 - val_loss: 10.5253\n",
      "Epoch 32/50\n",
      "238/238 [==============================] - 3s 14ms/step - loss: 9.6636 - val_loss: 10.6095\n",
      "Epoch 33/50\n",
      "238/238 [==============================] - 3s 15ms/step - loss: 9.7550 - val_loss: 10.5782\n",
      "Epoch 34/50\n",
      "238/238 [==============================] - 4s 16ms/step - loss: 9.6271 - val_loss: 10.2882\n",
      "Epoch 35/50\n",
      "238/238 [==============================] - 3s 14ms/step - loss: 9.6364 - val_loss: 10.2821\n",
      "Epoch 36/50\n",
      "238/238 [==============================] - 3s 14ms/step - loss: 9.5136 - val_loss: 10.1982\n",
      "Epoch 37/50\n",
      "238/238 [==============================] - 3s 14ms/step - loss: 9.5016 - val_loss: 10.3280\n",
      "Epoch 38/50\n",
      "238/238 [==============================] - 3s 15ms/step - loss: 9.4765 - val_loss: 10.1614\n",
      "Epoch 39/50\n",
      "238/238 [==============================] - 3s 14ms/step - loss: 9.4755 - val_loss: 10.0125\n",
      "Epoch 40/50\n",
      "238/238 [==============================] - 3s 14ms/step - loss: 9.3804 - val_loss: 9.8350\n",
      "Epoch 41/50\n",
      "238/238 [==============================] - 3s 14ms/step - loss: 9.3422 - val_loss: 10.0233\n",
      "Epoch 42/50\n",
      "238/238 [==============================] - 4s 15ms/step - loss: 9.4420 - val_loss: 10.1164\n",
      "Epoch 43/50\n",
      "238/238 [==============================] - 3s 14ms/step - loss: 9.3970 - val_loss: 10.0410\n",
      "Epoch 44/50\n",
      "238/238 [==============================] - 4s 15ms/step - loss: 9.3348 - val_loss: 9.9809\n",
      "Epoch 45/50\n",
      "238/238 [==============================] - 3s 14ms/step - loss: 9.2775 - val_loss: 9.8097\n",
      "Epoch 46/50\n",
      "238/238 [==============================] - 3s 14ms/step - loss: 9.2865 - val_loss: 9.9379\n",
      "Epoch 47/50\n",
      "238/238 [==============================] - 3s 14ms/step - loss: 9.2011 - val_loss: 10.1112\n",
      "Epoch 48/50\n",
      "238/238 [==============================] - 3s 14ms/step - loss: 9.1758 - val_loss: 9.9172\n",
      "Epoch 49/50\n",
      "238/238 [==============================] - 3s 14ms/step - loss: 9.1727 - val_loss: 9.8924\n",
      "Epoch 50/50\n",
      "238/238 [==============================] - 4s 15ms/step - loss: 9.1475 - val_loss: 10.0496\n"
     ]
    },
    {
     "name": "stderr",
     "output_type": "stream",
     "text": [
      "Using TensorFlow backend.\n",
      "2022/07/05 14:02:02 WARNING mlflow.utils.autologging_utils: Encountered unexpected error during autologging: module 'tensorflow.compat.v2' has no attribute '__internal__'\n"
     ]
    },
    {
     "name": "stdout",
     "output_type": "stream",
     "text": [
      "MAE: 10.050\n",
      "R-squared score: 0.770\n"
     ]
    },
    {
     "data": {
      "image/png": "[encoded data removed]",
      "text/plain": [
       "<Figure size 720x576 with 1 Axes>"
      ]
     },
     "metadata": {
      "needs_background": "light"
     },
     "output_type": "display_data"
    }
   ],
   "source": [
    "with mlflow.start_run(experiment_id=exp1.experiment_id) as current_run:\n",
    "    model = prd_pipeline.build_model(nprof_features, nheights, nsinglvl_features)\n",
    "    model.summary()\n",
    "    optimizer = tf.keras.optimizers.Adam(learning_rate=0.01)\n",
    "    model.compile(loss='mean_absolute_error', optimizer=optimizer)\n",
    "\n",
    "    history = model.fit(data_splits['X_train'], data_splits['y_train'], epochs=50, batch_size=128, validation_data=(data_splits['X_val'], data_splits['y_val']), verbose=True, callbacks=[tensorflow_callback])\n",
    "\n",
    "    y_pred = model.predict(data_splits['X_val'])\n",
    "    error = mean_absolute_error(data_splits['y_val'], y_pred)\n",
    "    print(f'MAE: {error:.3f}')\n",
    "    rsqrd = r2_score(data_splits['y_val'], y_pred)\n",
    "    print(f'R-squared score: {rsqrd:.3f}')\n",
    "    \n",
    "    mlflow.log_metric('MAE', error)\n",
    "    mlflow.log_metric('R-squared', rsqrd)\n",
    "    \n",
    "    fig1 = plt.figure(figsize=(10, 8))\n",
    "    ax1 = fig1.add_subplot(1,1,1)\n",
    "    ax1.scatter(data_splits['y_val'], y_pred, s=200, c='darkblue')\n",
    "    ax1.plot([0, 300], [0, 300], ls=\"--\", c=\".3\")\n",
    "    ax1.set_xlabel('Actual 3hr precip accumulation value')\n",
    "    ax1.set_ylabel('Predicted 3hr precip_accumulation value')\n",
    "#     with tempfile.TemporaryDirectory() as td1:\n",
    "        \n",
    "#         fig1.savefig(plot_out_path, bbox_inches='tight')\n",
    "    mlflow.log_figure(fig1,  'actual_predicted_precip_3hr.png')                   \n",
    "    # mlflow.log\n"
   ]
  },
  {
   "cell_type": "markdown",
   "id": "e739e218-21cf-4ae4-b357-5c226177002f",
   "metadata": {},
   "source": [
    "If we look at the experiment in AzureML GUI, we see that all the model parameters have been automatically logged, and the model has been saved by ML Flow ready for use in inference."
   ]
  },
  {
   "cell_type": "markdown",
   "id": "2f0fa07b",
   "metadata": {
    "tags": []
   },
   "source": [
    "## Evaluation"
   ]
  },
  {
   "cell_type": "code",
   "execution_count": null,
   "id": "f4fe371a",
   "metadata": {},
   "outputs": [],
   "source": [
    "training_hist_df = pd.DataFrame(history.history)\n",
    "training_hist_df['epoch'] = history.epoch"
   ]
  },
  {
   "cell_type": "code",
   "execution_count": null,
   "id": "2c7ec093",
   "metadata": {},
   "outputs": [],
   "source": [
    "plt.figure(figsize=(10, 8))\n",
    "plt.plot(training_hist_df.epoch, training_hist_df.loss, label='training')\n",
    "plt.plot(training_hist_df.epoch, training_hist_df.val_loss, c='g', label='validation')\n",
    "plt.legend()\n",
    "plt.ylabel('MAE [mm of precipitation]')\n",
    "plt.xlabel('epochs')\n",
    "plt.show()"
   ]
  },
  {
   "cell_type": "code",
   "execution_count": null,
   "id": "9560e11a",
   "metadata": {},
   "outputs": [],
   "source": [
    "plt.figure(figsize=(10, 8))\n",
    "plt.hist(data_splits['y_val'], alpha=0.5, bins=40, label='Actual')\n",
    "plt.hist(y_pred, alpha=0.5, bins=40, label='Predicted')\n",
    "plt.legend()\n",
    "plt.show()"
   ]
  },
  {
   "cell_type": "code",
   "execution_count": null,
   "id": "197da54b-4b3d-45b0-8ba7-d91ca6839419",
   "metadata": {},
   "outputs": [],
   "source": []
  }
 ],
 "metadata": {
  "kernelspec": {
   "display_name": "Python 3",
   "language": "python",
   "name": "python3"
  },
  "language_info": {
   "codemirror_mode": {
    "name": "ipython",
    "version": 3
   },
   "file_extension": ".py",
   "mimetype": "text/x-python",
   "name": "python",
   "nbconvert_exporter": "python",
   "pygments_lexer": "ipython3",
   "version": "3.8.5"
  }
 },
 "nbformat": 4,
 "nbformat_minor": 5
}
