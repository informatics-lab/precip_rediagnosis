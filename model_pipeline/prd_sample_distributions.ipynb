{
 "cells": [
  {
   "cell_type": "markdown",
   "id": "30daf966-93d2-44a2-847e-4d6be99c7a2c",
   "metadata": {},
   "source": [
    "This notebook is primarily used for testing data sampling functions in prd_pipeline"
   ]
  },
  {
   "cell_type": "code",
   "execution_count": 2,
   "id": "preliminary-idaho",
   "metadata": {},
   "outputs": [],
   "source": [
    "import pandas as pd\n",
    "import numpy as np\n",
    "import pathlib\n",
    "import matplotlib.pyplot as plt\n",
    "import sklearn"
   ]
  },
  {
   "cell_type": "code",
   "execution_count": 3,
   "id": "4528ac8a-089c-4424-bc6a-8f961039cfe4",
   "metadata": {},
   "outputs": [],
   "source": [
    "import prd_pipeline"
   ]
  },
  {
   "cell_type": "markdown",
   "id": "wireless-investing",
   "metadata": {
    "tags": []
   },
   "source": [
    "### Load data"
   ]
  },
  {
   "cell_type": "code",
   "execution_count": 4,
   "id": "e7b9e418",
   "metadata": {},
   "outputs": [],
   "source": [
    "data_dir = pathlib.Path('/project/informatics_lab/precip_rediagnosis/')"
   ]
  },
  {
   "cell_type": "code",
   "execution_count": 5,
   "id": "brilliant-processing",
   "metadata": {},
   "outputs": [],
   "source": [
    "data = pd.read_csv(\n",
    "    data_dir / 'prd_merged_015H_20200215T0300Z_20200217T0900Z.csv',\n",
    "    index_col=0)"
   ]
  },
  {
   "cell_type": "code",
   "execution_count": 6,
   "id": "d9c6b52c",
   "metadata": {},
   "outputs": [],
   "source": [
    "target_parameter = 'rainfall_rate_composite'\n",
    "profile_features = ['air_temperature', 'relative_humidity'] #'cloud_volume_fraction_in_atmosphere_layer']\n",
    "single_lvl_features = ['cloud_area_fraction']#['air_pressure_at_sea_level', ] "
   ]
  },
  {
   "cell_type": "code",
   "execution_count": 7,
   "id": "905dfe74-d111-499f-a8ad-dfc4147d89f0",
   "metadata": {},
   "outputs": [],
   "source": [
    "feature_dict = {'profile': profile_features,\n",
    "                'single_level': single_lvl_features,\n",
    "                'target': target_parameter,\n",
    "               } "
   ]
  },
  {
   "cell_type": "markdown",
   "id": "2e96c131",
   "metadata": {
    "tags": []
   },
   "source": [
    "### Data pre-processing"
   ]
  },
  {
   "cell_type": "code",
   "execution_count": 8,
   "id": "toxic-package",
   "metadata": {},
   "outputs": [],
   "source": [
    "# drop NaN values in the dataset\n",
    "data = data.dropna()\n",
    "\n",
    "# drop data points with zero precip in the radar data\n",
    "data = data[data[target_parameter]>0]"
   ]
  },
  {
   "cell_type": "code",
   "execution_count": 9,
   "id": "5cb571d2-fcb1-4099-b269-56399a13cf15",
   "metadata": {},
   "outputs": [
    {
     "name": "stdout",
     "output_type": "stream",
     "text": [
      "{'profile': ['air_temperature', 'relative_humidity'], 'single_level': ['cloud_area_fraction'], 'target': 'rainfall_rate_composite'}\n"
     ]
    }
   ],
   "source": [
    "data_splits, data_dims_dict = prd_pipeline.preprocess_data(data, feature_dict, test_fraction=0.2, test_savefn='test.csv')"
   ]
  },
  {
   "cell_type": "markdown",
   "id": "8f18efff-82fc-4a12-bdcb-8e24c311d167",
   "metadata": {},
   "source": [
    "### Load test data"
   ]
  },
  {
   "cell_type": "code",
   "execution_count": 10,
   "id": "e86888e9-960c-49d8-b602-ec2d8a43c202",
   "metadata": {},
   "outputs": [],
   "source": [
    "X_test, y_test = prd_pipeline.load_test_data('test.csv', feature_dict, data_dims_dict)"
   ]
  },
  {
   "cell_type": "markdown",
   "id": "4740f453-4a11-4a03-8e7e-7a49f4988a3e",
   "metadata": {
    "tags": []
   },
   "source": [
    "### Assess sample distributions"
   ]
  },
  {
   "cell_type": "code",
   "execution_count": null,
   "id": "0fe8c20c-a660-414c-9acb-7fe38e09358a",
   "metadata": {},
   "outputs": [],
   "source": [
    "for col in data.columns: \n",
    "    plt.hist(training_data[col], bins=50, label='train', histtype='step',density=True)\n",
    "    plt.hist(test_data[col], bins=50, label='test', histtype='step', density=True)\n",
    "    plt.hist(val_data[col], bins=50, label='val', histtype='step', density=True)\n",
    "    plt.legend()\n",
    "    plt.title(col)\n",
    "    plt.show()\n",
    "    "
   ]
  },
  {
   "cell_type": "code",
   "execution_count": null,
   "id": "c69a2901-4c2e-4180-9392-284779398f89",
   "metadata": {},
   "outputs": [],
   "source": []
  }
 ],
 "metadata": {
  "kernelspec": {
   "display_name": "Python 3 (ipykernel)",
   "language": "python",
   "name": "python3"
  },
  "language_info": {
   "codemirror_mode": {
    "name": "ipython",
    "version": 3
   },
   "file_extension": ".py",
   "mimetype": "text/x-python",
   "name": "python",
   "nbconvert_exporter": "python",
   "pygments_lexer": "ipython3",
   "version": "3.8.12"
  }
 },
 "nbformat": 4,
 "nbformat_minor": 5
}
