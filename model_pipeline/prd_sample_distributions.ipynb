{
 "cells": [
  {
   "cell_type": "code",
   "execution_count": null,
   "id": "preliminary-idaho",
   "metadata": {},
   "outputs": [],
   "source": [
    "import pandas as pd\n",
    "import numpy as np\n",
    "import pathlib\n",
    "import matplotlib.pyplot as plt\n",
    "import sklearn"
   ]
  },
  {
   "cell_type": "code",
   "execution_count": null,
   "id": "9c613811-6b1c-4854-8786-0e3efb0a8454",
   "metadata": {},
   "outputs": [],
   "source": [
    "from prd_sample_utils import sample_data, seperate_target_feature"
   ]
  },
  {
   "cell_type": "markdown",
   "id": "wireless-investing",
   "metadata": {
    "tags": []
   },
   "source": [
    "### Load data"
   ]
  },
  {
   "cell_type": "code",
   "execution_count": null,
   "id": "e7b9e418",
   "metadata": {},
   "outputs": [],
   "source": [
    "data_dir = pathlib.Path('/project/informatics_lab/precip_rediagnosis/')"
   ]
  },
  {
   "cell_type": "code",
   "execution_count": null,
   "id": "brilliant-processing",
   "metadata": {},
   "outputs": [],
   "source": [
    "data = pd.read_csv(\n",
    "    data_dir / 'prd_merged_015H_20200215T0300Z_20200217T0900Z.csv',\n",
    "    index_col=0)"
   ]
  },
  {
   "cell_type": "code",
   "execution_count": null,
   "id": "d9c6b52c",
   "metadata": {},
   "outputs": [],
   "source": [
    "target_parameter = 'rainfall_rate_composite'\n",
    "profile_features = ['air_temperature', 'relative_humidity'] #'cloud_volume_fraction_in_atmosphere_layer']\n",
    "single_lvl_features = ['cloud_area_fraction']#['air_pressure_at_sea_level', ] "
   ]
  },
  {
   "cell_type": "markdown",
   "id": "2e96c131",
   "metadata": {},
   "source": [
    "### Data pre-processing"
   ]
  },
  {
   "cell_type": "code",
   "execution_count": null,
   "id": "toxic-package",
   "metadata": {},
   "outputs": [],
   "source": [
    "# drop NaN values in the dataset\n",
    "data = data.dropna()\n",
    "\n",
    "# drop data points with zero precip in the radar data\n",
    "data = data[data[target_parameter]>0]"
   ]
  },
  {
   "cell_type": "code",
   "execution_count": null,
   "id": "deadd5bf-899f-4b9a-8edc-0fb4f2abbc61",
   "metadata": {},
   "outputs": [],
   "source": [
    "prof_feature_columns = [s for s in data.columns for vars in profile_features if s.startswith(vars)]\n",
    "features = data[prof_feature_columns + single_lvl_features]\n",
    "    \n",
    "target = data[target_parameter]\n",
    "\n",
    "# Scale data to have zero mean and standard deviation of one\n",
    "from sklearn.preprocessing import StandardScaler\n",
    "standardScaler = StandardScaler()\n",
    "features = pd.DataFrame(standardScaler.fit_transform(features), \n",
    "                            columns=features.columns,\n",
    "                            index=features.index)\n",
    "processed_data = pd.concat([features, target], axis=1, sort=False)"
   ]
  },
  {
   "cell_type": "markdown",
   "id": "8f18efff-82fc-4a12-bdcb-8e24c311d167",
   "metadata": {},
   "source": [
    "### Split data samples"
   ]
  },
  {
   "cell_type": "code",
   "execution_count": null,
   "id": "304f502e-3c7f-4d03-9530-6c48ac293673",
   "metadata": {},
   "outputs": [],
   "source": [
    "test_outfn = 'prd_test_015H_20200215T0300Z_20200217T0900Z.csv'\n",
    "test_fraction = 0.2\n",
    "training_data = sample_data(processed_data, test_fraction=test_fraction, savefn=test_outfn, random_state=0)\n",
    "training_data, val_data = sample_data(training_data, test_fraction=test_fraction/(1-test_fraction), random_state=0)\n",
    "\n",
    "if len(single_lvl_features) > 0:\n",
    "    X_train, y_train = seperate_target_feature(training_data, target_parameter, profile_features, profiles=True)\n",
    "    X_train_snglvl, y_train = seperate_target_feature(training_data, target_parameter, single_lvl_features)\n",
    "    X_train = [X_train, X_train_snglvl]\n",
    "    \n",
    "    X_val, y_val = seperate_target_feature(val_data, target_parameter, profile_features, profiles=True)\n",
    "    X_val_snglvl, y_val = seperate_target_feature(val_data, target_parameter, single_lvl_features)\n",
    "    X_val = [X_val, X_val_snglvl]\n",
    "    \n",
    "else:\n",
    "    X_train, y_train = seperate_target_feature(training_data, target_parameter, profile_features, profiles=True)\n",
    "    X_val, y_val = seperate_target_feature(val_data, target_parameter, profile_features, profiles=True)"
   ]
  },
  {
   "cell_type": "markdown",
   "id": "6aeb5a24-0e4b-4f5b-aa78-1f53e6c0cf2b",
   "metadata": {},
   "source": [
    "Code to format test dataset when loading for final testing"
   ]
  },
  {
   "cell_type": "code",
   "execution_count": null,
   "id": "92513570-319e-40fd-ac46-f354d82044b6",
   "metadata": {},
   "outputs": [],
   "source": [
    "test_data = pd.read_csv('prd_test_015H_20200215T0300Z_20200217T0900Z.csv')\n",
    "X_test, y_test = seperate_target_feature(test_data, target_parameter, profile_features, profiles=True)\n",
    "if len(single_lvl_features) > 0:\n",
    "    # X_test, y_test = seperate_target_feature(test_data, target_parameter, profile_features, profiles=True)\n",
    "    X_test_snglvl, y_test = seperate_target_feature(test_data, target_parameter, single_lvl_features)\n",
    "    X_test = [X_test, X_test_snglvl]\n",
    "# else:\n",
    "#     X_test, y_test = seperate_target_feature(test_data, target_parameter, profile_features, profiles=True)"
   ]
  },
  {
   "cell_type": "code",
   "execution_count": null,
   "id": "e86888e9-960c-49d8-b602-ec2d8a43c202",
   "metadata": {},
   "outputs": [],
   "source": [
    "X_test[0]"
   ]
  },
  {
   "cell_type": "markdown",
   "id": "4740f453-4a11-4a03-8e7e-7a49f4988a3e",
   "metadata": {
    "tags": []
   },
   "source": [
    "### Assess sample distributions"
   ]
  },
  {
   "cell_type": "code",
   "execution_count": null,
   "id": "0fe8c20c-a660-414c-9acb-7fe38e09358a",
   "metadata": {},
   "outputs": [],
   "source": [
    "for col in data.columns: \n",
    "    plt.hist(training_data[col], bins=50, label='train', histtype='step',density=True)\n",
    "    plt.hist(test_data[col], bins=50, label='test', histtype='step', density=True)\n",
    "    plt.hist(val_data[col], bins=50, label='val', histtype='step', density=True)\n",
    "    plt.legend()\n",
    "    plt.title(col)\n",
    "    plt.show()\n",
    "    "
   ]
  },
  {
   "cell_type": "code",
   "execution_count": null,
   "id": "c69a2901-4c2e-4180-9392-284779398f89",
   "metadata": {},
   "outputs": [],
   "source": []
  }
 ],
 "metadata": {
  "kernelspec": {
   "display_name": "Python 3 (ipykernel)",
   "language": "python",
   "name": "python3"
  },
  "language_info": {
   "codemirror_mode": {
    "name": "ipython",
    "version": 3
   },
   "file_extension": ".py",
   "mimetype": "text/x-python",
   "name": "python",
   "nbconvert_exporter": "python",
   "pygments_lexer": "ipython3",
   "version": "3.8.12"
  }
 },
 "nbformat": 4,
 "nbformat_minor": 5
}
