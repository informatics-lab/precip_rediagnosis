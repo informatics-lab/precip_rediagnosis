{
 "cells": [
  {
   "cell_type": "markdown",
   "id": "e556cb3d-f0a4-4cf1-ae08-e0892d245a7a",
   "metadata": {},
   "source": [
    "# Running Pipeline with ML Flow tracking server\n",
    "\n",
    "This notebook demonstrates running through ML pipeline using a local ML Flow tracking server and tensorboard dashboarding.\n",
    "\n",
    "More Info\n",
    "* ML Flow tracking https://www.mlflow.org/docs/latest/tracking.html\n",
    "* Tensorboard https://www.tensorflow.org/tensorboard"
   ]
  },
  {
   "cell_type": "markdown",
   "id": "0dffa25b-b8ed-4e9f-984e-93c1917d17be",
   "metadata": {},
   "source": [
    "## Setting up tracking server\n",
    "\n",
    "This notebook requires that a ML Flow tracking server b set up. In production, this would be pointing a proper roibust database server and a central storage area for artifacts, but we can demonstrate these concepts using a local machine. \n",
    "\n",
    "This notebook works with the `prd_ml` environment, which can be set up from `env/requirements_ml.yml` file. This includes mlflow and tensorboard. ML Flow has two parts to rteacking, a *backend store* and an *artifact store*. The backend store is where metrics, parameter values and paths etc are stored and links to all other elements of a particualr experiment and run. The artifact store is where objects are stored, such as saved trained models or plots. The bacend store will contain references to items in the artifact store related to particular run. The backend store is typically a database of some kind, and the artifact store is file system (e.g. local POSIX) or object store (e.g. cloud storage like AWS S3 or Azure Blob storage).\n",
    "\n",
    "\n",
    "In this example we will use a local SQL Alchemy database for the backend store and a specified directory on the local filesystem for the artifact store. The backend database is just file, so it also specified as a path. To start up such an ML Flow server, activate the conda environment, then run the following ML Flow command from the command line to start your tracking server\n",
    "\n",
    "`mlflow server --port $PORT --backend-store-uri sqlite://<PATH TO DB>/<FILENAME>.db  --default-artifact-root $ARTIFACT_PATH`\n",
    "\n",
    "To Note\n",
    "* This will only be accessible on your local machine. Yo make more widely accessible use the `--host 0.0.0.0` option\n",
    "* when specifying the backend URI, if you specify a full path you will need FOUR slashes after the `sqlite:`, for example `sqlite:////user/name/experiments/my_project.db`, otherwise you will get an error.\n",
    "* The artifact store can be a local file path e.g. `/path/to/artifacts/` or a remote object store like S3 e.g. `s3://project_bucket/project_key/`\n"
   ]
  },
  {
   "cell_type": "code",
   "execution_count": 1,
   "id": "2ccd2586-7952-4b04-9e66-354340354a98",
   "metadata": {},
   "outputs": [],
   "source": [
    "import pathlib\n",
    "import os\n",
    "import datetime"
   ]
  },
  {
   "cell_type": "markdown",
   "id": "57e7f0b3-ffcd-4311-bed3-b5e39d8c89aa",
   "metadata": {},
   "source": [
    "### Import relevant libraries"
   ]
  },
  {
   "cell_type": "code",
   "execution_count": 2,
   "id": "preliminary-idaho",
   "metadata": {},
   "outputs": [],
   "source": [
    "import pandas as pd\n",
    "import numpy as np\n",
    "import matplotlib.pyplot as plt"
   ]
  },
  {
   "cell_type": "code",
   "execution_count": 3,
   "id": "06959be2",
   "metadata": {},
   "outputs": [],
   "source": [
    "from sklearn.model_selection import train_test_split\n",
    "from sklearn.preprocessing import StandardScaler"
   ]
  },
  {
   "cell_type": "code",
   "execution_count": 4,
   "id": "8300679e-340d-4fa3-9c7c-b23dc2ca9935",
   "metadata": {},
   "outputs": [],
   "source": [
    "%load_ext tensorboard"
   ]
  },
  {
   "cell_type": "code",
   "execution_count": 5,
   "id": "e40a4d6c",
   "metadata": {},
   "outputs": [],
   "source": [
    "import tensorflow as tf\n",
    "from tensorflow.keras.layers import Dense, Activation, Flatten\n",
    "from tensorflow.keras.layers import Conv1D, concatenate\n",
    "from tensorflow.keras.layers import ZeroPadding1D, Reshape, Input, Dropout, PReLU\n",
    "from tensorflow.keras.models import Sequential, Model\n",
    "\n",
    "from sklearn.metrics import mean_absolute_error, r2_score"
   ]
  },
  {
   "cell_type": "code",
   "execution_count": 7,
   "id": "fb927817-9259-4eda-b835-de060914651f",
   "metadata": {},
   "outputs": [],
   "source": [
    "import mlflow\n",
    "mlflow.tensorflow.autolog()"
   ]
  },
  {
   "cell_type": "markdown",
   "id": "wireless-investing",
   "metadata": {},
   "source": [
    "### Load data"
   ]
  },
  {
   "cell_type": "code",
   "execution_count": 15,
   "id": "e7b9e418",
   "metadata": {},
   "outputs": [],
   "source": [
    "prd_root_data_dir = pathlib.Path(os.environ['HOME']) / 'data' / 'precip_rediagnosis'"
   ]
  },
  {
   "cell_type": "code",
   "execution_count": 10,
   "id": "09c3b298-6bac-4f8e-a66e-8b171d46b114",
   "metadata": {},
   "outputs": [],
   "source": [
    "exp_track_dir = prd_root_data_dir / 'experiments'"
   ]
  },
  {
   "cell_type": "code",
   "execution_count": 19,
   "id": "2ee42b78-3ff2-4a4e-b795-b5e5f282f64f",
   "metadata": {},
   "outputs": [
    {
     "data": {
      "text/plain": [
       "PosixPath('/Users/stephen.haddad/data/precip_rediagnosis/train_202208')"
      ]
     },
     "execution_count": 19,
     "metadata": {},
     "output_type": "execute_result"
    }
   ],
   "source": [
    "prd_dataset_name = 'train_202208'\n",
    "prd_dataset_dir = prd_root_data_dir / prd_dataset_name\n",
    "prd_dataset_dir"
   ]
  },
  {
   "cell_type": "code",
   "execution_count": 6,
   "id": "e90629a7-cd81-4360-abc6-40b5cb8f07c6",
   "metadata": {},
   "outputs": [],
   "source": [
    "tensorboard_log_dir = pathlib.Path(os.environ['HOME']) / 'logs' / 'prd'\n",
    "tensorboard_port = 5002"
   ]
  },
  {
   "cell_type": "code",
   "execution_count": 11,
   "id": "e85a7188-581d-42e4-a039-c0c0f80e3b1e",
   "metadata": {},
   "outputs": [
    {
     "data": {
      "text/plain": [
       "'20220923-094006'"
      ]
     },
     "execution_count": 11,
     "metadata": {},
     "output_type": "execute_result"
    }
   ],
   "source": [
    "dt_signature = datetime.datetime.now().strftime('%Y%m%d-%H%M%S')\n",
    "dt_signature"
   ]
  },
  {
   "cell_type": "markdown",
   "id": "c745bcac-d443-419c-8654-4f390a972608",
   "metadata": {},
   "source": [
    "This server is running locally, but to share results, the ML Flow tracking server could be running on a shared server, writing to a shared disk space for the particular project ."
   ]
  },
  {
   "cell_type": "code",
   "execution_count": 12,
   "id": "7cf93d57-6f23-4607-bc2d-cd6bfed0c175",
   "metadata": {},
   "outputs": [
    {
     "data": {
      "text/plain": [
       "'http://127.0.0.1:5001'"
      ]
     },
     "execution_count": 12,
     "metadata": {},
     "output_type": "execute_result"
    }
   ],
   "source": [
    "mlflow_server_port = 5001\n",
    "mlflow_server_uri = f'http://127.0.0.1:{mlflow_server_port:d}'\n",
    "mlflow_server_uri"
   ]
  },
  {
   "cell_type": "code",
   "execution_count": 13,
   "id": "f24dae4f-5373-4c32-872c-3f8990b5a24e",
   "metadata": {},
   "outputs": [],
   "source": [
    "prd_experiment_name = 'prd_exp_precip_mean'"
   ]
  },
  {
   "cell_type": "code",
   "execution_count": 23,
   "id": "d9c6b52c",
   "metadata": {},
   "outputs": [],
   "source": [
    "target_parameter = 'radar_mean_rain_instant'\n",
    "profile_features = ['air_temperature', 'relative_humidity']\n",
    "single_lvl_features = ['air_pressure_at_sea_level'] "
   ]
  },
  {
   "cell_type": "markdown",
   "id": "2e96c131",
   "metadata": {},
   "source": [
    "### Data pre-processing"
   ]
  },
  {
   "cell_type": "code",
   "execution_count": 27,
   "id": "65ff575f-ad08-4b2d-80f4-950761de0d5b",
   "metadata": {},
   "outputs": [
    {
     "name": "stdout",
     "output_type": "stream",
     "text": [
      "AzureML libraries not found, using local execution functions.\n"
     ]
    }
   ],
   "source": [
    "import prd_pipeline"
   ]
  },
  {
   "cell_type": "code",
   "execution_count": 46,
   "id": "31573d57-bb3f-46e9-b8dc-9bf18e4d412b",
   "metadata": {},
   "outputs": [],
   "source": [
    "import importlib"
   ]
  },
  {
   "cell_type": "code",
   "execution_count": 47,
   "id": "6100afa1-f6c4-4bd7-8953-c8abdc424467",
   "metadata": {},
   "outputs": [
    {
     "name": "stdout",
     "output_type": "stream",
     "text": [
      "AzureML libraries not found, using local execution functions.\n"
     ]
    },
    {
     "data": {
      "text/plain": [
       "<module 'prd_pipeline' from '/Users/stephen.haddad/prog/precip_rediagnosis/model_pipeline/prd_pipeline.py'>"
      ]
     },
     "execution_count": 47,
     "metadata": {},
     "output_type": "execute_result"
    }
   ],
   "source": [
    "importlib.reload(prd_pipeline)"
   ]
  },
  {
   "cell_type": "code",
   "execution_count": 48,
   "id": "539ef368-f6e8-429e-8f46-46ac079b55bd",
   "metadata": {},
   "outputs": [
    {
     "name": "stdout",
     "output_type": "stream",
     "text": [
      "loading all event data\n"
     ]
    }
   ],
   "source": [
    "data = prd_pipeline.load_data(prd_dataset_dir)"
   ]
  },
  {
   "cell_type": "code",
   "execution_count": 49,
   "id": "e42fcc1d-7e78-4b42-8d64-57f2ab74b7e8",
   "metadata": {},
   "outputs": [
    {
     "data": {
      "text/html": [
       "<div>\n",
       "<style scoped>\n",
       "    .dataframe tbody tr th:only-of-type {\n",
       "        vertical-align: middle;\n",
       "    }\n",
       "\n",
       "    .dataframe tbody tr th {\n",
       "        vertical-align: top;\n",
       "    }\n",
       "\n",
       "    .dataframe thead th {\n",
       "        text-align: right;\n",
       "    }\n",
       "</style>\n",
       "<table border=\"1\" class=\"dataframe\">\n",
       "  <thead>\n",
       "    <tr style=\"text-align: right;\">\n",
       "      <th></th>\n",
       "      <th>realization</th>\n",
       "      <th>latitude</th>\n",
       "      <th>longitude</th>\n",
       "      <th>forecast_period</th>\n",
       "      <th>forecast_reference_time</th>\n",
       "      <th>time</th>\n",
       "      <th>cloud_area_fraction</th>\n",
       "      <th>surface_altitude</th>\n",
       "      <th>air_pressure_at_sea_level</th>\n",
       "      <th>rainfall_rate</th>\n",
       "      <th>...</th>\n",
       "      <th>fraction_sum_agg</th>\n",
       "      <th>fraction_sum_instant</th>\n",
       "      <th>radar_fraction_in_band_aggregate_3hr_0.25</th>\n",
       "      <th>radar_fraction_in_band_aggregate_3hr_2.5</th>\n",
       "      <th>radar_fraction_in_band_aggregate_3hr_7.0</th>\n",
       "      <th>radar_fraction_in_band_aggregate_3hr_10.0</th>\n",
       "      <th>radar_fraction_in_band_instant_0.25</th>\n",
       "      <th>radar_fraction_in_band_instant_2.5</th>\n",
       "      <th>radar_fraction_in_band_instant_7.0</th>\n",
       "      <th>radar_fraction_in_band_instant_10.0</th>\n",
       "    </tr>\n",
       "  </thead>\n",
       "  <tbody>\n",
       "    <tr>\n",
       "      <th>0</th>\n",
       "      <td>0</td>\n",
       "      <td>49.40625</td>\n",
       "      <td>-5.484375</td>\n",
       "      <td>0 days 06:00:00</td>\n",
       "      <td>2021-10-19 12:00:00</td>\n",
       "      <td>2021-10-19 18:00:00</td>\n",
       "      <td>1.000000</td>\n",
       "      <td>0.0</td>\n",
       "      <td>100931.0</td>\n",
       "      <td>1.991540</td>\n",
       "      <td>...</td>\n",
       "      <td>1.0</td>\n",
       "      <td>1.007059</td>\n",
       "      <td>0.0</td>\n",
       "      <td>0.0</td>\n",
       "      <td>0.781176</td>\n",
       "      <td>0.218824</td>\n",
       "      <td>0.082353</td>\n",
       "      <td>0.903529</td>\n",
       "      <td>0.021176</td>\n",
       "      <td>0.0</td>\n",
       "    </tr>\n",
       "    <tr>\n",
       "      <th>1</th>\n",
       "      <td>1</td>\n",
       "      <td>49.40625</td>\n",
       "      <td>-5.484375</td>\n",
       "      <td>0 days 06:00:00</td>\n",
       "      <td>2021-10-19 12:00:00</td>\n",
       "      <td>2021-10-19 18:00:00</td>\n",
       "      <td>1.000000</td>\n",
       "      <td>0.0</td>\n",
       "      <td>100937.0</td>\n",
       "      <td>2.967194</td>\n",
       "      <td>...</td>\n",
       "      <td>1.0</td>\n",
       "      <td>1.007059</td>\n",
       "      <td>0.0</td>\n",
       "      <td>0.0</td>\n",
       "      <td>0.781176</td>\n",
       "      <td>0.218824</td>\n",
       "      <td>0.082353</td>\n",
       "      <td>0.903529</td>\n",
       "      <td>0.021176</td>\n",
       "      <td>0.0</td>\n",
       "    </tr>\n",
       "    <tr>\n",
       "      <th>2</th>\n",
       "      <td>2</td>\n",
       "      <td>49.40625</td>\n",
       "      <td>-5.484375</td>\n",
       "      <td>0 days 06:00:00</td>\n",
       "      <td>2021-10-19 12:00:00</td>\n",
       "      <td>2021-10-19 18:00:00</td>\n",
       "      <td>1.000000</td>\n",
       "      <td>0.0</td>\n",
       "      <td>100959.0</td>\n",
       "      <td>4.050136</td>\n",
       "      <td>...</td>\n",
       "      <td>1.0</td>\n",
       "      <td>1.007059</td>\n",
       "      <td>0.0</td>\n",
       "      <td>0.0</td>\n",
       "      <td>0.781176</td>\n",
       "      <td>0.218824</td>\n",
       "      <td>0.082353</td>\n",
       "      <td>0.903529</td>\n",
       "      <td>0.021176</td>\n",
       "      <td>0.0</td>\n",
       "    </tr>\n",
       "    <tr>\n",
       "      <th>3</th>\n",
       "      <td>3</td>\n",
       "      <td>49.40625</td>\n",
       "      <td>-5.484375</td>\n",
       "      <td>0 days 06:00:00</td>\n",
       "      <td>2021-10-19 12:00:00</td>\n",
       "      <td>2021-10-19 18:00:00</td>\n",
       "      <td>1.000000</td>\n",
       "      <td>0.0</td>\n",
       "      <td>101007.0</td>\n",
       "      <td>0.865012</td>\n",
       "      <td>...</td>\n",
       "      <td>1.0</td>\n",
       "      <td>1.007059</td>\n",
       "      <td>0.0</td>\n",
       "      <td>0.0</td>\n",
       "      <td>0.781176</td>\n",
       "      <td>0.218824</td>\n",
       "      <td>0.082353</td>\n",
       "      <td>0.903529</td>\n",
       "      <td>0.021176</td>\n",
       "      <td>0.0</td>\n",
       "    </tr>\n",
       "    <tr>\n",
       "      <th>4</th>\n",
       "      <td>4</td>\n",
       "      <td>49.40625</td>\n",
       "      <td>-5.484375</td>\n",
       "      <td>0 days 06:00:00</td>\n",
       "      <td>2021-10-19 12:00:00</td>\n",
       "      <td>2021-10-19 18:00:00</td>\n",
       "      <td>1.000000</td>\n",
       "      <td>0.0</td>\n",
       "      <td>100912.0</td>\n",
       "      <td>2.182648</td>\n",
       "      <td>...</td>\n",
       "      <td>1.0</td>\n",
       "      <td>1.007059</td>\n",
       "      <td>0.0</td>\n",
       "      <td>0.0</td>\n",
       "      <td>0.781176</td>\n",
       "      <td>0.218824</td>\n",
       "      <td>0.082353</td>\n",
       "      <td>0.903529</td>\n",
       "      <td>0.021176</td>\n",
       "      <td>0.0</td>\n",
       "    </tr>\n",
       "    <tr>\n",
       "      <th>...</th>\n",
       "      <td>...</td>\n",
       "      <td>...</td>\n",
       "      <td>...</td>\n",
       "      <td>...</td>\n",
       "      <td>...</td>\n",
       "      <td>...</td>\n",
       "      <td>...</td>\n",
       "      <td>...</td>\n",
       "      <td>...</td>\n",
       "      <td>...</td>\n",
       "      <td>...</td>\n",
       "      <td>...</td>\n",
       "      <td>...</td>\n",
       "      <td>...</td>\n",
       "      <td>...</td>\n",
       "      <td>...</td>\n",
       "      <td>...</td>\n",
       "      <td>...</td>\n",
       "      <td>...</td>\n",
       "      <td>...</td>\n",
       "      <td>...</td>\n",
       "    </tr>\n",
       "    <tr>\n",
       "      <th>186979</th>\n",
       "      <td>13</td>\n",
       "      <td>58.78125</td>\n",
       "      <td>1.546875</td>\n",
       "      <td>0 days 06:00:00</td>\n",
       "      <td>2021-10-21</td>\n",
       "      <td>2021-10-21 06:00:00</td>\n",
       "      <td>1.000000</td>\n",
       "      <td>0.0</td>\n",
       "      <td>98909.0</td>\n",
       "      <td>0.000000</td>\n",
       "      <td>...</td>\n",
       "      <td>1.0</td>\n",
       "      <td>1.000000</td>\n",
       "      <td>1.0</td>\n",
       "      <td>0.0</td>\n",
       "      <td>0.000000</td>\n",
       "      <td>0.000000</td>\n",
       "      <td>1.000000</td>\n",
       "      <td>0.000000</td>\n",
       "      <td>0.000000</td>\n",
       "      <td>0.0</td>\n",
       "    </tr>\n",
       "    <tr>\n",
       "      <th>186980</th>\n",
       "      <td>14</td>\n",
       "      <td>58.78125</td>\n",
       "      <td>1.546875</td>\n",
       "      <td>0 days 06:00:00</td>\n",
       "      <td>2021-10-21</td>\n",
       "      <td>2021-10-21 06:00:00</td>\n",
       "      <td>1.000000</td>\n",
       "      <td>0.0</td>\n",
       "      <td>99012.0</td>\n",
       "      <td>0.000000</td>\n",
       "      <td>...</td>\n",
       "      <td>1.0</td>\n",
       "      <td>1.000000</td>\n",
       "      <td>1.0</td>\n",
       "      <td>0.0</td>\n",
       "      <td>0.000000</td>\n",
       "      <td>0.000000</td>\n",
       "      <td>1.000000</td>\n",
       "      <td>0.000000</td>\n",
       "      <td>0.000000</td>\n",
       "      <td>0.0</td>\n",
       "    </tr>\n",
       "    <tr>\n",
       "      <th>186981</th>\n",
       "      <td>15</td>\n",
       "      <td>58.78125</td>\n",
       "      <td>1.546875</td>\n",
       "      <td>0 days 06:00:00</td>\n",
       "      <td>2021-10-21</td>\n",
       "      <td>2021-10-21 06:00:00</td>\n",
       "      <td>0.484375</td>\n",
       "      <td>0.0</td>\n",
       "      <td>98904.0</td>\n",
       "      <td>0.000000</td>\n",
       "      <td>...</td>\n",
       "      <td>1.0</td>\n",
       "      <td>1.000000</td>\n",
       "      <td>1.0</td>\n",
       "      <td>0.0</td>\n",
       "      <td>0.000000</td>\n",
       "      <td>0.000000</td>\n",
       "      <td>1.000000</td>\n",
       "      <td>0.000000</td>\n",
       "      <td>0.000000</td>\n",
       "      <td>0.0</td>\n",
       "    </tr>\n",
       "    <tr>\n",
       "      <th>186982</th>\n",
       "      <td>16</td>\n",
       "      <td>58.78125</td>\n",
       "      <td>1.546875</td>\n",
       "      <td>0 days 06:00:00</td>\n",
       "      <td>2021-10-21</td>\n",
       "      <td>2021-10-21 06:00:00</td>\n",
       "      <td>0.796875</td>\n",
       "      <td>0.0</td>\n",
       "      <td>99010.0</td>\n",
       "      <td>0.000000</td>\n",
       "      <td>...</td>\n",
       "      <td>1.0</td>\n",
       "      <td>1.000000</td>\n",
       "      <td>1.0</td>\n",
       "      <td>0.0</td>\n",
       "      <td>0.000000</td>\n",
       "      <td>0.000000</td>\n",
       "      <td>1.000000</td>\n",
       "      <td>0.000000</td>\n",
       "      <td>0.000000</td>\n",
       "      <td>0.0</td>\n",
       "    </tr>\n",
       "    <tr>\n",
       "      <th>186983</th>\n",
       "      <td>17</td>\n",
       "      <td>58.78125</td>\n",
       "      <td>1.546875</td>\n",
       "      <td>0 days 06:00:00</td>\n",
       "      <td>2021-10-21</td>\n",
       "      <td>2021-10-21 06:00:00</td>\n",
       "      <td>0.921875</td>\n",
       "      <td>0.0</td>\n",
       "      <td>98902.0</td>\n",
       "      <td>0.000000</td>\n",
       "      <td>...</td>\n",
       "      <td>1.0</td>\n",
       "      <td>1.000000</td>\n",
       "      <td>1.0</td>\n",
       "      <td>0.0</td>\n",
       "      <td>0.000000</td>\n",
       "      <td>0.000000</td>\n",
       "      <td>1.000000</td>\n",
       "      <td>0.000000</td>\n",
       "      <td>0.000000</td>\n",
       "      <td>0.0</td>\n",
       "    </tr>\n",
       "  </tbody>\n",
       "</table>\n",
       "<p>186984 rows × 225 columns</p>\n",
       "</div>"
      ],
      "text/plain": [
       "        realization  latitude  longitude  forecast_period  \\\n",
       "0                 0  49.40625  -5.484375  0 days 06:00:00   \n",
       "1                 1  49.40625  -5.484375  0 days 06:00:00   \n",
       "2                 2  49.40625  -5.484375  0 days 06:00:00   \n",
       "3                 3  49.40625  -5.484375  0 days 06:00:00   \n",
       "4                 4  49.40625  -5.484375  0 days 06:00:00   \n",
       "...             ...       ...        ...              ...   \n",
       "186979           13  58.78125   1.546875  0 days 06:00:00   \n",
       "186980           14  58.78125   1.546875  0 days 06:00:00   \n",
       "186981           15  58.78125   1.546875  0 days 06:00:00   \n",
       "186982           16  58.78125   1.546875  0 days 06:00:00   \n",
       "186983           17  58.78125   1.546875  0 days 06:00:00   \n",
       "\n",
       "       forecast_reference_time                 time  cloud_area_fraction  \\\n",
       "0          2021-10-19 12:00:00  2021-10-19 18:00:00             1.000000   \n",
       "1          2021-10-19 12:00:00  2021-10-19 18:00:00             1.000000   \n",
       "2          2021-10-19 12:00:00  2021-10-19 18:00:00             1.000000   \n",
       "3          2021-10-19 12:00:00  2021-10-19 18:00:00             1.000000   \n",
       "4          2021-10-19 12:00:00  2021-10-19 18:00:00             1.000000   \n",
       "...                        ...                  ...                  ...   \n",
       "186979              2021-10-21  2021-10-21 06:00:00             1.000000   \n",
       "186980              2021-10-21  2021-10-21 06:00:00             1.000000   \n",
       "186981              2021-10-21  2021-10-21 06:00:00             0.484375   \n",
       "186982              2021-10-21  2021-10-21 06:00:00             0.796875   \n",
       "186983              2021-10-21  2021-10-21 06:00:00             0.921875   \n",
       "\n",
       "        surface_altitude  air_pressure_at_sea_level  rainfall_rate  ...  \\\n",
       "0                    0.0                   100931.0       1.991540  ...   \n",
       "1                    0.0                   100937.0       2.967194  ...   \n",
       "2                    0.0                   100959.0       4.050136  ...   \n",
       "3                    0.0                   101007.0       0.865012  ...   \n",
       "4                    0.0                   100912.0       2.182648  ...   \n",
       "...                  ...                        ...            ...  ...   \n",
       "186979               0.0                    98909.0       0.000000  ...   \n",
       "186980               0.0                    99012.0       0.000000  ...   \n",
       "186981               0.0                    98904.0       0.000000  ...   \n",
       "186982               0.0                    99010.0       0.000000  ...   \n",
       "186983               0.0                    98902.0       0.000000  ...   \n",
       "\n",
       "        fraction_sum_agg  fraction_sum_instant  \\\n",
       "0                    1.0              1.007059   \n",
       "1                    1.0              1.007059   \n",
       "2                    1.0              1.007059   \n",
       "3                    1.0              1.007059   \n",
       "4                    1.0              1.007059   \n",
       "...                  ...                   ...   \n",
       "186979               1.0              1.000000   \n",
       "186980               1.0              1.000000   \n",
       "186981               1.0              1.000000   \n",
       "186982               1.0              1.000000   \n",
       "186983               1.0              1.000000   \n",
       "\n",
       "        radar_fraction_in_band_aggregate_3hr_0.25  \\\n",
       "0                                             0.0   \n",
       "1                                             0.0   \n",
       "2                                             0.0   \n",
       "3                                             0.0   \n",
       "4                                             0.0   \n",
       "...                                           ...   \n",
       "186979                                        1.0   \n",
       "186980                                        1.0   \n",
       "186981                                        1.0   \n",
       "186982                                        1.0   \n",
       "186983                                        1.0   \n",
       "\n",
       "        radar_fraction_in_band_aggregate_3hr_2.5  \\\n",
       "0                                            0.0   \n",
       "1                                            0.0   \n",
       "2                                            0.0   \n",
       "3                                            0.0   \n",
       "4                                            0.0   \n",
       "...                                          ...   \n",
       "186979                                       0.0   \n",
       "186980                                       0.0   \n",
       "186981                                       0.0   \n",
       "186982                                       0.0   \n",
       "186983                                       0.0   \n",
       "\n",
       "        radar_fraction_in_band_aggregate_3hr_7.0  \\\n",
       "0                                       0.781176   \n",
       "1                                       0.781176   \n",
       "2                                       0.781176   \n",
       "3                                       0.781176   \n",
       "4                                       0.781176   \n",
       "...                                          ...   \n",
       "186979                                  0.000000   \n",
       "186980                                  0.000000   \n",
       "186981                                  0.000000   \n",
       "186982                                  0.000000   \n",
       "186983                                  0.000000   \n",
       "\n",
       "        radar_fraction_in_band_aggregate_3hr_10.0  \\\n",
       "0                                        0.218824   \n",
       "1                                        0.218824   \n",
       "2                                        0.218824   \n",
       "3                                        0.218824   \n",
       "4                                        0.218824   \n",
       "...                                           ...   \n",
       "186979                                   0.000000   \n",
       "186980                                   0.000000   \n",
       "186981                                   0.000000   \n",
       "186982                                   0.000000   \n",
       "186983                                   0.000000   \n",
       "\n",
       "        radar_fraction_in_band_instant_0.25  \\\n",
       "0                                  0.082353   \n",
       "1                                  0.082353   \n",
       "2                                  0.082353   \n",
       "3                                  0.082353   \n",
       "4                                  0.082353   \n",
       "...                                     ...   \n",
       "186979                             1.000000   \n",
       "186980                             1.000000   \n",
       "186981                             1.000000   \n",
       "186982                             1.000000   \n",
       "186983                             1.000000   \n",
       "\n",
       "        radar_fraction_in_band_instant_2.5  \\\n",
       "0                                 0.903529   \n",
       "1                                 0.903529   \n",
       "2                                 0.903529   \n",
       "3                                 0.903529   \n",
       "4                                 0.903529   \n",
       "...                                    ...   \n",
       "186979                            0.000000   \n",
       "186980                            0.000000   \n",
       "186981                            0.000000   \n",
       "186982                            0.000000   \n",
       "186983                            0.000000   \n",
       "\n",
       "        radar_fraction_in_band_instant_7.0  \\\n",
       "0                                 0.021176   \n",
       "1                                 0.021176   \n",
       "2                                 0.021176   \n",
       "3                                 0.021176   \n",
       "4                                 0.021176   \n",
       "...                                    ...   \n",
       "186979                            0.000000   \n",
       "186980                            0.000000   \n",
       "186981                            0.000000   \n",
       "186982                            0.000000   \n",
       "186983                            0.000000   \n",
       "\n",
       "        radar_fraction_in_band_instant_10.0  \n",
       "0                                       0.0  \n",
       "1                                       0.0  \n",
       "2                                       0.0  \n",
       "3                                       0.0  \n",
       "4                                       0.0  \n",
       "...                                     ...  \n",
       "186979                                  0.0  \n",
       "186980                                  0.0  \n",
       "186981                                  0.0  \n",
       "186982                                  0.0  \n",
       "186983                                  0.0  \n",
       "\n",
       "[186984 rows x 225 columns]"
      ]
     },
     "execution_count": 49,
     "metadata": {},
     "output_type": "execute_result"
    }
   ],
   "source": [
    "data"
   ]
  },
  {
   "cell_type": "code",
   "execution_count": 50,
   "id": "1400bd74-40f6-40e1-9a23-099d9f3a8e6e",
   "metadata": {},
   "outputs": [
    {
     "name": "stdout",
     "output_type": "stream",
     "text": [
      "target has dims: 23\n",
      "dropping zeros\n",
      "getting profile columns\n",
      "['relative_humidity_5.0', 'relative_humidity_10.0', 'relative_humidity_20.0', 'relative_humidity_30.0', 'relative_humidity_50.0', 'relative_humidity_75.0', 'relative_humidity_100.0', 'relative_humidity_150.0', 'relative_humidity_200.0', 'relative_humidity_250.0', 'relative_humidity_300.0', 'relative_humidity_400.0', 'relative_humidity_500.0', 'relative_humidity_600.0', 'relative_humidity_700.0', 'relative_humidity_800.0', 'relative_humidity_1000.0', 'relative_humidity_1250.0', 'relative_humidity_1500.0', 'relative_humidity_1750.0', 'relative_humidity_2000.0', 'relative_humidity_2250.0', 'relative_humidity_2500.0', 'relative_humidity_2750.0', 'relative_humidity_3000.0', 'relative_humidity_3250.0', 'relative_humidity_3500.0', 'relative_humidity_3750.0', 'relative_humidity_4000.0', 'relative_humidity_4500.0', 'relative_humidity_5000.0', 'relative_humidity_5500.0', 'relative_humidity_6000.0', 'air_temperature_5.0', 'air_temperature_10.0', 'air_temperature_20.0', 'air_temperature_30.0', 'air_temperature_50.0', 'air_temperature_75.0', 'air_temperature_100.0', 'air_temperature_150.0', 'air_temperature_200.0', 'air_temperature_250.0', 'air_temperature_300.0', 'air_temperature_400.0', 'air_temperature_500.0', 'air_temperature_600.0', 'air_temperature_700.0', 'air_temperature_800.0', 'air_temperature_1000.0', 'air_temperature_1250.0', 'air_temperature_1500.0', 'air_temperature_1750.0', 'air_temperature_2000.0', 'air_temperature_2250.0', 'air_temperature_2500.0', 'air_temperature_2750.0', 'air_temperature_3000.0', 'air_temperature_3250.0', 'air_temperature_3500.0', 'air_temperature_3750.0', 'air_temperature_4000.0', 'air_temperature_4500.0', 'air_temperature_5000.0', 'air_temperature_5500.0', 'air_temperature_6000.0']\n",
      "{'profile': ['air_temperature', 'relative_humidity'], 'single_level': ['air_pressure_at_sea_level'], 'target': 'radar_mean_rain_instant'}\n"
     ]
    }
   ],
   "source": [
    "data_dict, data_dims = prd_pipeline.preprocess_data(data,\n",
    "                                    feature_dict={'profile': profile_features, \n",
    "                                                  'single_level': single_lvl_features,\n",
    "                                                  'target': target_parameter,},\n",
    "                                    test_fraction=0.2, \n",
    "                                   )"
   ]
  },
  {
   "cell_type": "code",
   "execution_count": 51,
   "id": "9ea70075-2f53-4259-8d5d-4dbfba51d500",
   "metadata": {},
   "outputs": [
    {
     "data": {
      "text/plain": [
       "[array([[[ 1.24325891,  1.11843205],\n",
       "         [ 1.24325891,  1.14006715],\n",
       "         [ 1.24296724,  1.16316318],\n",
       "         ...,\n",
       "         [ 1.47592207,  1.9011947 ],\n",
       "         [ 1.46033821,  1.94053243],\n",
       "         [ 1.45472441,  1.96509956]],\n",
       " \n",
       "        [[ 1.18504777,  1.17038055],\n",
       "         [ 1.18504777,  1.17454935],\n",
       "         [ 1.18476393,  1.19728707],\n",
       "         ...,\n",
       "         [ 1.45682905,  2.00555854],\n",
       "         [ 1.38049006,  2.03233474],\n",
       "         [ 1.39368   ,  2.01120562]],\n",
       " \n",
       "        [[ 1.27236485,  1.20501289],\n",
       "         [ 1.27236485,  1.20903154],\n",
       "         [ 1.27206927,  1.23141097],\n",
       "         ...,\n",
       "         [ 1.52683656,  1.91279069],\n",
       "         [ 1.54338038,  1.95200772],\n",
       "         [ 1.49649157,  2.01120562]],\n",
       " \n",
       "        ...,\n",
       " \n",
       "        [[-2.16209275, -1.04608896],\n",
       "         [-2.16209275, -1.08403452],\n",
       "         [-2.16192662, -1.15726158],\n",
       "         ...,\n",
       "         [-0.91705935, -2.053035  ],\n",
       "         [-1.07883421, -2.05286818],\n",
       "         [-1.33725254, -1.8501776 ]],\n",
       " \n",
       "        [[-1.9365245 , -1.28851532],\n",
       "         [-1.9365245 , -1.32540989],\n",
       "         [-1.93638868, -1.39612883],\n",
       "         ...,\n",
       "         [-0.82795898, -1.91388322],\n",
       "         [-0.46879403, -1.89221413],\n",
       "         [ 0.20813388, -1.97696929]],\n",
       " \n",
       "        [[-2.00928853, -1.28851532],\n",
       "         [-2.00928853, -1.32540989],\n",
       "         [-2.00914294, -1.39612883],\n",
       "         ...,\n",
       "         [-1.13026382, -1.91388322],\n",
       "         [-1.07564026, -1.86926355],\n",
       "         [-1.45291556, -1.70033288]]]),\n",
       "         air_pressure_at_sea_level\n",
       " 0                        1.901284\n",
       " 1                        1.910565\n",
       " 2                        1.944597\n",
       " 3                        2.018849\n",
       " 5                        1.946144\n",
       " ...                           ...\n",
       " 186905                  -0.736210\n",
       " 186906                  -0.861510\n",
       " 186907                  -0.842947\n",
       " 186908                  -0.736210\n",
       " 186910                  -0.692896\n",
       " \n",
       " [69351 rows x 1 columns]]"
      ]
     },
     "execution_count": 51,
     "metadata": {},
     "output_type": "execute_result"
    }
   ],
   "source": [
    "data_dict['X_train']"
   ]
  },
  {
   "cell_type": "code",
   "execution_count": 52,
   "id": "5457775e-6dea-4af7-b875-e5120ec914c2",
   "metadata": {},
   "outputs": [
    {
     "data": {
      "text/plain": [
       "{'nprof_features': 2, 'nheights': 33, 'nsinglvl_features': 1, 'nbands': 23}"
      ]
     },
     "execution_count": 52,
     "metadata": {},
     "output_type": "execute_result"
    }
   ],
   "source": [
    "data_dims"
   ]
  },
  {
   "cell_type": "code",
   "execution_count": 53,
   "id": "154ce783-02f5-4b01-9d59-842af07850e7",
   "metadata": {},
   "outputs": [
    {
     "data": {
      "text/plain": [
       "dict_keys(['X_train', 'X_val', 'y_train', 'y_val'])"
      ]
     },
     "execution_count": 53,
     "metadata": {},
     "output_type": "execute_result"
    }
   ],
   "source": [
    "data_dict.keys()"
   ]
  },
  {
   "cell_type": "code",
   "execution_count": 55,
   "id": "f7aa31b1",
   "metadata": {},
   "outputs": [],
   "source": [
    "nprof_features = data_dims['nprof_features']\n",
    "nheights = data_dims['nheights']\n",
    "nsinglvl_features = data_dims['nsinglvl_features']"
   ]
  },
  {
   "cell_type": "markdown",
   "id": "db2bf067-2725-4668-90ff-5301c9572bed",
   "metadata": {},
   "source": [
    "## Set up model and experiment"
   ]
  },
  {
   "cell_type": "code",
   "execution_count": 56,
   "id": "10ecae9d",
   "metadata": {},
   "outputs": [],
   "source": [
    "def build_model(nprof_features, nheights, nsinglvl_features):\n",
    "    \n",
    "    profile_input = Input(shape=(nheights, nprof_features), name='profile_input')\n",
    "    prof_size = nheights*nprof_features\n",
    "\n",
    "    out = ZeroPadding1D(padding=1)(profile_input)\n",
    "    out = Conv1D(32, 3, strides=1, activation='relu', use_bias=False, kernel_initializer='glorot_uniform', bias_initializer='zeros')(out)\n",
    "    ident = out\n",
    "    out = ZeroPadding1D(padding=1)(out)\n",
    "    out = Conv1D(32, 3, strides=1, activation='relu', use_bias=False, kernel_initializer='glorot_uniform', bias_initializer='zeros')(out)\n",
    "    out = ZeroPadding1D(padding=1)(out)\n",
    "    out = Conv1D(32, 3, strides=1, activation='relu', use_bias=False, kernel_initializer='glorot_uniform', bias_initializer='zeros')(out)\n",
    "    x = tf.keras.layers.add([out, ident])\n",
    "    out = Flatten()(x)\n",
    "    out = Dense(prof_size, use_bias=False, activation='relu')(out)\n",
    "\n",
    "    if nsinglvl_features > 0:\n",
    "        surf_input = Input(shape=(nsinglvl_features,), name='surf_input')\n",
    "        flat_profs = Flatten()(profile_input)\n",
    "        raw_in = tf.keras.layers.concatenate([flat_profs, surf_input])\n",
    "        raw_size = (nheights*nprof_features)+nsinglvl_features\n",
    "        \n",
    "        out = tf.keras.layers.concatenate([out, surf_input])\n",
    "        x = tf.keras.layers.add([out, raw_in])\n",
    "        x = Dense(1024, use_bias=False, activation='relu')(x)\n",
    "        x = Dense(1024, use_bias=False, activation='relu')(x)\n",
    "        \n",
    "        main_output = Dense(1, use_bias=True, activation='linear', name='main_output')(x)\n",
    "        model = Model(inputs=[profile_input, surf_input], outputs=[main_output])\n",
    "    \n",
    "    else:\n",
    "        main_output = Dense(1, use_bias=True, activation='linear', name='main_output')(out)\n",
    "        model = Model(inputs=[profile_input], outputs=[main_output])\n",
    "        \n",
    "    return model"
   ]
  },
  {
   "cell_type": "code",
   "execution_count": 57,
   "id": "c27bc7e2-fcc6-4240-bda3-3d96e5d99379",
   "metadata": {},
   "outputs": [],
   "source": [
    "mlflow.set_tracking_uri(mlflow_server_uri)"
   ]
  },
  {
   "cell_type": "code",
   "execution_count": 58,
   "id": "7def4473-cb5d-401a-9d6b-671682dbddae",
   "metadata": {
    "tags": []
   },
   "outputs": [
    {
     "data": {
      "text/plain": [
       "<Experiment: artifact_location='/Users/stephen.haddad/data/precip_rediagnosis/experiments/1', experiment_id='1', lifecycle_stage='active', name='prd_exp_precip_mean', tags={}>"
      ]
     },
     "execution_count": 58,
     "metadata": {},
     "output_type": "execute_result"
    }
   ],
   "source": [
    "try: \n",
    "    exp_id = mlflow.create_experiment(prd_experiment_name)\n",
    "    exp1 = mlflow.get_experiment(exp_id)\n",
    "except mlflow.exceptions.RestException:\n",
    "    exp1 = mlflow.get_experiment_by_name(prd_experiment_name)\n",
    "exp1"
   ]
  },
  {
   "cell_type": "markdown",
   "id": "add5590c-59b0-4a08-8896-0476362c54b7",
   "metadata": {
    "tags": []
   },
   "source": [
    "### Launch tensorboard to track training\n",
    "At this point we can start up tensor board to track the training of the model. To track loss function and other metrics during training we will use tensorboard. You can start up the tensorboard server witrh the following command:\n",
    "```\n",
    "tensorboard --logdir ${TB_LOG_DIR} --port ${TB_PORT}\n",
    "```\n",
    "\n",
    "Alternatively you can run the above as a cell magic command in this jupyter notebook by adding a `%` to the start of the command (see cell below). \n",
    "\n",
    "Reference\n",
    "* [Tensorboard getting started](https://www.tensorflow.org/tensorboard/get_started)\n",
    "\n",
    "\n",
    "Like ml flow  this should be started from the command line\n",
    "`tensorboard --logdir <PATH_TO_LOGS>`\n",
    "\n",
    "The `$TB_LOG_DIR` is the same directory set earlier in the notebook as `tensorboard_log_dir`.\n",
    "\n",
    "We will set up a callback so that our model traiining info gets sent to tensorboard to view through the server."
   ]
  },
  {
   "cell_type": "code",
   "execution_count": 60,
   "id": "91a2ab34-98b2-428a-ae55-4e04fda66df4",
   "metadata": {},
   "outputs": [],
   "source": [
    "tensorflow_callback = tf.keras.callbacks.TensorBoard(log_dir=tensorboard_log_dir, histogram_freq=1)"
   ]
  },
  {
   "cell_type": "markdown",
   "id": "39d57977-45a5-4592-8cfe-c0f7ce911ff6",
   "metadata": {},
   "source": [
    "## Run experiment\n",
    "\n",
    "Here we actually run the training and evaluation. All parameters and the output model will be saved through ML Flow, and we can track training stats through tensorboard."
   ]
  },
  {
   "cell_type": "code",
   "execution_count": 63,
   "id": "18e0343a-b343-4fc3-8cf9-17678d970b9f",
   "metadata": {},
   "outputs": [
    {
     "name": "stdout",
     "output_type": "stream",
     "text": [
      "Model: \"model_2\"\n",
      "__________________________________________________________________________________________________\n",
      " Layer (type)                   Output Shape         Param #     Connected to                     \n",
      "==================================================================================================\n",
      " profile_input (InputLayer)     [(None, 33, 2)]      0           []                               \n",
      "                                                                                                  \n",
      " zero_padding1d_6 (ZeroPadding1  (None, 35, 2)       0           ['profile_input[0][0]']          \n",
      " D)                                                                                               \n",
      "                                                                                                  \n",
      " conv1d_6 (Conv1D)              (None, 33, 32)       192         ['zero_padding1d_6[0][0]']       \n",
      "                                                                                                  \n",
      " zero_padding1d_7 (ZeroPadding1  (None, 35, 32)      0           ['conv1d_6[0][0]']               \n",
      " D)                                                                                               \n",
      "                                                                                                  \n",
      " conv1d_7 (Conv1D)              (None, 33, 32)       3072        ['zero_padding1d_7[0][0]']       \n",
      "                                                                                                  \n",
      " zero_padding1d_8 (ZeroPadding1  (None, 35, 32)      0           ['conv1d_7[0][0]']               \n",
      " D)                                                                                               \n",
      "                                                                                                  \n",
      " conv1d_8 (Conv1D)              (None, 33, 32)       3072        ['zero_padding1d_8[0][0]']       \n",
      "                                                                                                  \n",
      " add_4 (Add)                    (None, 33, 32)       0           ['conv1d_8[0][0]',               \n",
      "                                                                  'conv1d_6[0][0]']               \n",
      "                                                                                                  \n",
      " flatten_4 (Flatten)            (None, 1056)         0           ['add_4[0][0]']                  \n",
      "                                                                                                  \n",
      " dense_6 (Dense)                (None, 66)           69696       ['flatten_4[0][0]']              \n",
      "                                                                                                  \n",
      " surf_input (InputLayer)        [(None, 1)]          0           []                               \n",
      "                                                                                                  \n",
      " flatten_5 (Flatten)            (None, 66)           0           ['profile_input[0][0]']          \n",
      "                                                                                                  \n",
      " concatenate_5 (Concatenate)    (None, 67)           0           ['dense_6[0][0]',                \n",
      "                                                                  'surf_input[0][0]']             \n",
      "                                                                                                  \n",
      " concatenate_4 (Concatenate)    (None, 67)           0           ['flatten_5[0][0]',              \n",
      "                                                                  'surf_input[0][0]']             \n",
      "                                                                                                  \n",
      " add_5 (Add)                    (None, 67)           0           ['concatenate_5[0][0]',          \n",
      "                                                                  'concatenate_4[0][0]']          \n",
      "                                                                                                  \n",
      " dense_7 (Dense)                (None, 1024)         68608       ['add_5[0][0]']                  \n",
      "                                                                                                  \n",
      " dense_8 (Dense)                (None, 1024)         1048576     ['dense_7[0][0]']                \n",
      "                                                                                                  \n",
      " main_output (Dense)            (None, 1)            1025        ['dense_8[0][0]']                \n",
      "                                                                                                  \n",
      "==================================================================================================\n",
      "Total params: 1,194,241\n",
      "Trainable params: 1,194,241\n",
      "Non-trainable params: 0\n",
      "__________________________________________________________________________________________________\n"
     ]
    },
    {
     "name": "stderr",
     "output_type": "stream",
     "text": [
      "/Users/stephen.haddad/opt/anaconda3/envs/prd_ml/lib/python3.8/site-packages/keras/engine/functional.py:1410: CustomMaskWarning: Custom mask layers require a config and must override get_config. When loading, the custom mask layer must be passed to the custom_objects argument.\n",
      "  layer_config = serialize_layer_fn(layer)\n"
     ]
    },
    {
     "name": "stdout",
     "output_type": "stream",
     "text": [
      "1626/1626 [==============================] - 20s 12ms/step - loss: 16213491704800124571763433537536.0000 - val_loss: 0.4478\n",
      "INFO:tensorflow:Assets written to: /var/folders/w0/2x361bn95wj7lfgl33vksx1w0000gn/T/tmposcou7nt/model/data/model/assets\n"
     ]
    },
    {
     "name": "stderr",
     "output_type": "stream",
     "text": [
      "2022/09/23 10:28:09 WARNING mlflow.utils.autologging_utils: MLflow autologging encountered a warning: \"/Users/stephen.haddad/opt/anaconda3/envs/prd_ml/lib/python3.8/site-packages/keras/engine/functional.py:1410: CustomMaskWarning: Custom mask layers require a config and must override get_config. When loading, the custom mask layer must be passed to the custom_objects argument.\"\n",
      "2022/09/23 10:28:09 WARNING mlflow.utils.autologging_utils: MLflow autologging encountered a warning: \"/Users/stephen.haddad/opt/anaconda3/envs/prd_ml/lib/python3.8/site-packages/keras/saving/saved_model/layer_serialization.py:112: CustomMaskWarning: Custom mask layers require a config and must override get_config. When loading, the custom mask layer must be passed to the custom_objects argument.\"\n"
     ]
    },
    {
     "name": "stdout",
     "output_type": "stream",
     "text": [
      "MAE: 11961230665341600245939406110720.000\n",
      "R-squared score: -0.000\n"
     ]
    },
    {
     "data": {
      "image/png": "[encoded data removed]",
      "text/plain": [
       "<Figure size 720x576 with 1 Axes>"
      ]
     },
     "metadata": {
      "needs_background": "light"
     },
     "output_type": "display_data"
    },
    {
     "data": {
      "image/png": "[encoded data removed]",
      "text/plain": [
       "<Figure size 720x576 with 1 Axes>"
      ]
     },
     "metadata": {
      "needs_background": "light"
     },
     "output_type": "display_data"
    }
   ],
   "source": [
    "with mlflow.start_run(experiment_id=exp1.experiment_id, run_name='run1') as current_run:\n",
    "    model = build_model(nprof_features, nheights, nsinglvl_features)\n",
    "    model.summary()\n",
    "    optimizer = tf.keras.optimizers.Adam(learning_rate=0.001)\n",
    "    model.compile(loss='mean_absolute_error', optimizer=optimizer)\n",
    "\n",
    "    history = model.fit(data_dict['X_train'], \n",
    "                        data_dict['y_train'], \n",
    "                        epochs=1, \n",
    "                        batch_size=32, \n",
    "                        validation_split=0.25, \n",
    "                        verbose=True, \n",
    "                        callbacks=[tensorflow_callback])\n",
    "\n",
    "    y_pred = model.predict(data_dict['X_val'])\n",
    "    error = mean_absolute_error(data_dict['y_val'], y_pred)\n",
    "    print(f'MAE: {error:.3f}')\n",
    "    rsqrd = r2_score(data_dict['y_val'], y_pred)\n",
    "    print(f'R-squared score: {rsqrd:.3f}')\n",
    "    \n",
    "    mlflow.log_metric('MAE', error)\n",
    "    mlflow.log_metric('R-squared', rsqrd)\n",
    "    \n",
    "    fig1 = plt.figure(figsize=(10, 8))\n",
    "    ax1 = fig1.add_subplot(1,1,1, title='Actual vs predicted 3hr rainfall accumulations.')\n",
    "    ax1.scatter(data_dict['y_val'], y_pred, s=200, c='darkblue')\n",
    "    ax1.plot([0, 300], [0, 300], ls=\"--\", c=\".3\")\n",
    "    ax1.set_xlabel('Actual 3hr precip accumulation value')\n",
    "    ax1.set_ylabel('Predicted 3hr precip_accumulation value')\n",
    "    mlflow.log_figure(fig1, 'scatter_actual_vs_predicted_3hr_rainfall.png')\n",
    "    \n",
    "    fig1 = plt.figure(figsize=(10, 8))\n",
    "    ax1 = fig1.add_subplot(1,1,1, title='Historgram of Actual vs predicted 3hr rainfall accumulations.')\n",
    "    ax1.hist(data_dict['y_val'], alpha=0.5, bins=40, label='Actual')\n",
    "    ax1.hist(y_pred, alpha=0.5, bins=40, label='Predicted')\n",
    "    ax1.legend()\n",
    "    mlflow.log_figure(fig1, 'hist_actual_vs_predicted_3hr_rainfall.png')\n",
    "    \n"
   ]
  },
  {
   "cell_type": "code",
   "execution_count": null,
   "id": "49d2efac-7a10-4891-b763-b2d717203e4e",
   "metadata": {},
   "outputs": [],
   "source": []
  }
 ],
 "metadata": {
  "kernelspec": {
   "display_name": "Python 3 (ipykernel)",
   "language": "python",
   "name": "python3"
  },
  "language_info": {
   "codemirror_mode": {
    "name": "ipython",
    "version": 3
   },
   "file_extension": ".py",
   "mimetype": "text/x-python",
   "name": "python",
   "nbconvert_exporter": "python",
   "pygments_lexer": "ipython3",
   "version": "3.8.13"
  }
 },
 "nbformat": 4,
 "nbformat_minor": 5
}
