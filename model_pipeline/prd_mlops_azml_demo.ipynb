{
 "cells": [
  {
   "cell_type": "code",
   "execution_count": 1,
   "id": "70cc5013-7b6d-44f5-a7dc-0a1f3504b6da",
   "metadata": {},
   "outputs": [],
   "source": [
    "%matplotlib inline"
   ]
  },
  {
   "cell_type": "code",
   "execution_count": 2,
   "id": "111979eb-8550-4e33-a4d9-683ef64deacf",
   "metadata": {},
   "outputs": [],
   "source": [
    "import tempfile"
   ]
  },
  {
   "cell_type": "code",
   "execution_count": 3,
   "id": "preliminary-idaho",
   "metadata": {},
   "outputs": [],
   "source": [
    "import pandas as pd\n",
    "import numpy as np\n",
    "import pathlib\n",
    "import matplotlib.pyplot as plt"
   ]
  },
  {
   "cell_type": "code",
   "execution_count": 4,
   "id": "06959be2",
   "metadata": {},
   "outputs": [],
   "source": [
    "from sklearn.model_selection import train_test_split\n",
    "from sklearn.preprocessing import StandardScaler"
   ]
  },
  {
   "cell_type": "code",
   "execution_count": 5,
   "id": "e40a4d6c",
   "metadata": {},
   "outputs": [],
   "source": [
    "import tensorflow as tf\n",
    "from tensorflow.keras.layers import Dense, Activation, Flatten\n",
    "from tensorflow.keras.layers import Conv1D, concatenate\n",
    "from tensorflow.keras.layers import ZeroPadding1D, Reshape, Input, Dropout, PReLU\n",
    "from tensorflow.keras.models import Sequential, Model\n",
    "\n",
    "from sklearn.metrics import mean_absolute_error, r2_score"
   ]
  },
  {
   "cell_type": "code",
   "execution_count": 6,
   "id": "c1166c9c-ca18-4c7b-8c58-38b3bae8986c",
   "metadata": {},
   "outputs": [],
   "source": [
    "import mlflow"
   ]
  },
  {
   "cell_type": "markdown",
   "id": "wireless-investing",
   "metadata": {
    "tags": []
   },
   "source": [
    "### Load data"
   ]
  },
  {
   "cell_type": "code",
   "execution_count": 7,
   "id": "3aff8274-8f96-45d5-92ba-49b2b4569fc3",
   "metadata": {},
   "outputs": [],
   "source": [
    "import azureml.core\n",
    "from azureml.core import Workspace, Datastore, Dataset\n",
    "from azureml.core import Experiment\n",
    "\n",
    "ws = Workspace.from_config()"
   ]
  },
  {
   "cell_type": "code",
   "execution_count": 8,
   "id": "8c8c6292-c0bc-4535-a910-dc1703c2d2bb",
   "metadata": {},
   "outputs": [
    {
     "data": {
      "text/plain": [
       "'azureml://uksouth.api.azureml.ms/mlflow/v1.0/subscriptions/07efdc52-cd27-48ed-9443-3aad2b6b777b/resourceGroups/precip_rediagnosis/providers/Microsoft.MachineLearningServices/workspaces/precip_rediagnosis?'"
      ]
     },
     "execution_count": 8,
     "metadata": {},
     "output_type": "execute_result"
    }
   ],
   "source": [
    "ws.get_mlflow_tracking_uri()"
   ]
  },
  {
   "cell_type": "code",
   "execution_count": 9,
   "id": "46258181-5c98-484a-b80b-ce3b45d6c4f8",
   "metadata": {},
   "outputs": [],
   "source": [
    "dataset = Dataset.get_by_name(ws, name='sd3')\n",
    "data = dataset.to_pandas_dataframe()"
   ]
  },
  {
   "cell_type": "code",
   "execution_count": 10,
   "id": "d9c6b52c",
   "metadata": {},
   "outputs": [],
   "source": [
    "target_parameter = 'rainfall_rate_composite'\n",
    "profile_features = ['air_temperature', 'relative_humidity']\n",
    "single_lvl_features = ['air_pressure_at_sea_level'] "
   ]
  },
  {
   "cell_type": "code",
   "execution_count": 11,
   "id": "ec33beb7-c658-482d-895d-5928101aa0d9",
   "metadata": {},
   "outputs": [],
   "source": [
    "prd_model_name = 'pipeline_demo_20220414'"
   ]
  },
  {
   "cell_type": "markdown",
   "id": "1d725a1c-81b0-4aee-8153-1adc1f398ea4",
   "metadata": {},
   "source": [
    "## create an azxure experiment\n"
   ]
  },
  {
   "cell_type": "code",
   "execution_count": null,
   "id": "db8803a5-41f8-46a7-afcc-5e83b8bcec52",
   "metadata": {},
   "outputs": [],
   "source": [
    "prd_exp = Experiment(workspace=ws, name='prd_mlops_test')\n",
    "prd_exp"
   ]
  },
  {
   "cell_type": "markdown",
   "id": "2e96c131",
   "metadata": {
    "tags": []
   },
   "source": [
    "### Data pre-processing"
   ]
  },
  {
   "cell_type": "code",
   "execution_count": null,
   "id": "toxic-package",
   "metadata": {},
   "outputs": [],
   "source": [
    "# drop NaN values in the dataset\n",
    "data = data.dropna()\n",
    "\n",
    "# drop data points with zero precip in the radar data\n",
    "data = data[data[target_parameter]>0]"
   ]
  },
  {
   "cell_type": "code",
   "execution_count": null,
   "id": "17d2f5eb",
   "metadata": {},
   "outputs": [],
   "source": [
    "# Get a list of columns names for profile features\n",
    "prof_feature_columns = [s for s in data.columns for vars in profile_features if s.startswith(vars)]\n",
    "\n",
    "features = data[prof_feature_columns + single_lvl_features]\n",
    "\n",
    "target = data[[target_parameter]]"
   ]
  },
  {
   "cell_type": "code",
   "execution_count": null,
   "id": "a1d79525",
   "metadata": {},
   "outputs": [],
   "source": [
    "# data_control uses only the control member\n",
    "\n",
    "# data_control = data[data['realization']==0]\n",
    "\n",
    "# # Get a list of columns names for profile features\n",
    "# prof_feature_columns = [s for s in data.columns for vars in profile_features if s.startswith(vars)]\n",
    "\n",
    "# features = data_control[prof_feature_columns + single_lvl_features]\n",
    "\n",
    "# target = data_control[[target_parameter]]"
   ]
  },
  {
   "cell_type": "code",
   "execution_count": null,
   "id": "6ef50c0c",
   "metadata": {},
   "outputs": [],
   "source": [
    "features.dtypes"
   ]
  },
  {
   "cell_type": "code",
   "execution_count": null,
   "id": "146cb496",
   "metadata": {},
   "outputs": [],
   "source": [
    "standardScaler = StandardScaler()\n",
    "\n",
    "features = pd.DataFrame(standardScaler.fit_transform(features), \n",
    "                                columns=features.columns,\n",
    "                                index=features.index)"
   ]
  },
  {
   "cell_type": "code",
   "execution_count": null,
   "id": "ef59edd7-6acc-4517-84b6-acb4aa8de13a",
   "metadata": {},
   "outputs": [],
   "source": [
    "# features.describe().T"
   ]
  },
  {
   "cell_type": "code",
   "execution_count": null,
   "id": "7f667ef7",
   "metadata": {},
   "outputs": [],
   "source": [
    "processed_data = pd.concat([features, target], axis=1, sort=False)\n",
    "processed_data"
   ]
  },
  {
   "cell_type": "markdown",
   "id": "5af54f5d",
   "metadata": {},
   "source": [
    "Split the dataset into 60/20/20 subsets for training, testing and validation"
   ]
  },
  {
   "cell_type": "code",
   "execution_count": null,
   "id": "f2ea4c06",
   "metadata": {},
   "outputs": [],
   "source": [
    "# Height profiles data\n",
    "X_train_prof, X_test_prof, y_train, y_test = train_test_split(\n",
    "    features[prof_feature_columns],\n",
    "    target,\n",
    "    test_size=0.2,\n",
    "    random_state=1\n",
    ")\n",
    "\n",
    "# Single level data\n",
    "X_train_singlvl, X_test_singlvl, y_train, y_test = train_test_split(\n",
    "    features[single_lvl_features],\n",
    "    target,\n",
    "    test_size=0.2,\n",
    "    random_state=1\n",
    ")\n",
    "\n",
    "# y_test and y_train is the same in both of these, given that the random state is set"
   ]
  },
  {
   "cell_type": "code",
   "execution_count": null,
   "id": "314213ba",
   "metadata": {},
   "outputs": [],
   "source": [
    "# reshape height profile variables \n",
    "X_train_prof = np.transpose(X_train_prof.to_numpy().reshape(X_train_prof.shape[0], 2, 33), (0, 2, 1))\n",
    "X_test_prof = np.transpose(X_test_prof.to_numpy().reshape(X_test_prof.shape[0], 2, 33), (0, 2, 1))"
   ]
  },
  {
   "cell_type": "code",
   "execution_count": null,
   "id": "10ecae9d",
   "metadata": {},
   "outputs": [],
   "source": [
    "def build_model(nprof_features, nheights, nsinglvl_features):\n",
    "    \n",
    "    profile_input = Input(shape=(nheights, nprof_features), name='profile_input')\n",
    "    prof_size = nheights*nprof_features\n",
    "\n",
    "    out = ZeroPadding1D(padding=1)(profile_input)\n",
    "    out = Conv1D(32, 3, strides=1, activation='relu', use_bias=False, kernel_initializer='glorot_uniform', bias_initializer='zeros')(out)\n",
    "    ident = out\n",
    "    out = ZeroPadding1D(padding=1)(out)\n",
    "    out = Conv1D(32, 3, strides=1, activation='relu', use_bias=False, kernel_initializer='glorot_uniform', bias_initializer='zeros')(out)\n",
    "    out = ZeroPadding1D(padding=1)(out)\n",
    "    out = Conv1D(32, 3, strides=1, activation='relu', use_bias=False, kernel_initializer='glorot_uniform', bias_initializer='zeros')(out)\n",
    "    x = tf.keras.layers.add([out, ident])\n",
    "    out = Flatten()(x)\n",
    "    out = Dense(prof_size, use_bias=False, activation='relu')(out)\n",
    "\n",
    "    if nsinglvl_features > 0:\n",
    "        surf_input = Input(shape=(nsinglvl_features,), name='surf_input')\n",
    "        flat_profs = Flatten()(profile_input)\n",
    "        raw_in = tf.keras.layers.concatenate([flat_profs, surf_input])\n",
    "        raw_size = (nheights*nprof_features)+nsinglvl_features\n",
    "        \n",
    "        out = tf.keras.layers.concatenate([out, surf_input])\n",
    "        x = tf.keras.layers.add([out, raw_in])\n",
    "        x = Dense(1024, use_bias=False, activation='relu')(x)\n",
    "        x = Dense(1024, use_bias=False, activation='relu')(x)\n",
    "        \n",
    "        main_output = Dense(1, use_bias=True, activation='linear', name='main_output')(x)\n",
    "        model = Model(inputs=[profile_input, surf_input], outputs=[main_output])\n",
    "    \n",
    "    else:\n",
    "        main_output = Dense(1, use_bias=True, activation='linear', name='main_output')(out)\n",
    "        model = Model(inputs=[profile_input], outputs=[main_output])\n",
    "        \n",
    "    return model"
   ]
  },
  {
   "cell_type": "code",
   "execution_count": null,
   "id": "f7aa31b1",
   "metadata": {},
   "outputs": [],
   "source": [
    "nprof_features = len(profile_features)\n",
    "nheights = len(prof_feature_columns)//len(profile_features)\n",
    "nsinglvl_features = len(single_lvl_features)"
   ]
  },
  {
   "cell_type": "code",
   "execution_count": null,
   "id": "e6c1cca1-a1b5-49d3-948a-a82f2d024b35",
   "metadata": {},
   "outputs": [],
   "source": [
    "if nsinglvl_features > 0:\n",
    "    X_train = [X_train_prof, X_train_singlvl]\n",
    "    X_test = [X_test_prof, X_test_singlvl]\n",
    "else:\n",
    "    X_train = X_train_prof\n",
    "    X_test = X_test_prof"
   ]
  },
  {
   "cell_type": "code",
   "execution_count": null,
   "id": "09a36741-bb38-4917-9e8e-a8e246b49e5e",
   "metadata": {},
   "outputs": [],
   "source": [
    "X_train_singlvl.shape"
   ]
  },
  {
   "cell_type": "code",
   "execution_count": null,
   "id": "d7243f14-bdd5-4348-ad0e-bf8729197580",
   "metadata": {},
   "outputs": [],
   "source": [
    "import datetime\n",
    "log_dir = 'log/fit/' + datetime.datetime.now().strftime('%Y%m%d-%H%M%S')"
   ]
  },
  {
   "cell_type": "code",
   "execution_count": null,
   "id": "26f24060-af81-4ab6-b1cd-37e92997c493",
   "metadata": {},
   "outputs": [],
   "source": [
    "prd_run = prd_exp.start_logging(display_name='mlops_demo_' + datetime.datetime.now().strftime('%Y%m%d-%H%M%S'))\n"
   ]
  },
  {
   "cell_type": "code",
   "execution_count": null,
   "id": "0fdddb31-fcbf-4439-850a-71c6d09f5585",
   "metadata": {},
   "outputs": [],
   "source": [
    "prd_run.log('learning_rate', 0.001)"
   ]
  },
  {
   "cell_type": "code",
   "execution_count": null,
   "id": "c1514053-df64-4208-90b0-a031d2fb3282",
   "metadata": {},
   "outputs": [],
   "source": []
  },
  {
   "cell_type": "code",
   "execution_count": null,
   "id": "18e0343a-b343-4fc3-8cf9-17678d970b9f",
   "metadata": {},
   "outputs": [],
   "source": [
    "\n",
    "model = build_model(nprof_features, nheights, nsinglvl_features)\n",
    "model.summary()\n",
    "optimizer = tf.keras.optimizers.Adam(learning_rate=0.001)\n",
    "model.compile(loss='mean_absolute_error', optimizer=optimizer)\n",
    "\n",
    "\n"
   ]
  },
  {
   "cell_type": "markdown",
   "id": "f5c4eaf6-83bb-497f-b842-a1b3ef6b1401",
   "metadata": {},
   "source": [
    "We can save out the model archiecture to a JSON file, so that it can be reloaded and trained ion a nice reproducible way!\n",
    "It can be loaded in by calling `tf.keras.model.models_from_json`\n",
    "\n",
    "See [this](https://towardsdatascience.com/saving-and-loading-keras-model-42195b92f57a) article.\n"
   ]
  },
  {
   "cell_type": "code",
   "execution_count": null,
   "id": "0e4f012c-2e6f-4c46-9028-ebd7dcdb11eb",
   "metadata": {},
   "outputs": [],
   "source": [
    "model.to_json()"
   ]
  },
  {
   "cell_type": "code",
   "execution_count": null,
   "id": "fdf46cdf-1621-4670-9ca6-e8738137fa85",
   "metadata": {},
   "outputs": [],
   "source": [
    "history = model.fit(X_train, y_train, epochs=1, batch_size=32, validation_split=0.25, verbose=True)"
   ]
  },
  {
   "cell_type": "code",
   "execution_count": null,
   "id": "64f13e7d-7be1-4802-bd59-048d92862386",
   "metadata": {},
   "outputs": [],
   "source": [
    "prd_run.log('batch_size', 32)"
   ]
  },
  {
   "cell_type": "code",
   "execution_count": null,
   "id": "c7a8f6ba-3b7e-47da-b7ea-f9f0d4dffabf",
   "metadata": {},
   "outputs": [],
   "source": [
    "y_pred = model.predict(X_test)"
   ]
  },
  {
   "cell_type": "code",
   "execution_count": null,
   "id": "7fdf066a-5aa8-4f3f-b8ca-c9e8daa1258c",
   "metadata": {},
   "outputs": [],
   "source": [
    "error = mean_absolute_error(y_test, y_pred)\n",
    "prd_run.log('MAE', error)\n",
    "rsqrd = r2_score(y_test, y_pred)\n",
    "prd_run.log(f'R-squared score', rsqrd)"
   ]
  },
  {
   "cell_type": "markdown",
   "id": "2f0fa07b",
   "metadata": {
    "tags": []
   },
   "source": [
    "## Evaluation"
   ]
  },
  {
   "cell_type": "code",
   "execution_count": null,
   "id": "f4fe371a",
   "metadata": {},
   "outputs": [],
   "source": [
    "training_hist_df = pd.DataFrame(history.history)\n",
    "training_hist_df['epoch'] = history.epoch"
   ]
  },
  {
   "cell_type": "code",
   "execution_count": null,
   "id": "2c7ec093",
   "metadata": {},
   "outputs": [],
   "source": [
    "plt.figure(figsize=(10, 8))\n",
    "plt.plot(training_hist_df.epoch, training_hist_df.loss, label='training')\n",
    "plt.plot(training_hist_df.epoch, training_hist_df.val_loss, c='g', label='validation')\n",
    "plt.legend()\n",
    "plt.ylabel('MAE [mm of precipitation]')\n",
    "plt.xlabel('epochs')"
   ]
  },
  {
   "cell_type": "code",
   "execution_count": null,
   "id": "c7e7dd0b",
   "metadata": {},
   "outputs": [],
   "source": [
    "fig1 = plt.figure(figsize=(10, 8))\n",
    "ax1 = fig1.add_subplot(1,1,1)\n",
    "ax1.scatter(y_test, y_pred, s=200, c='darkblue')\n",
    "ax1.plot([0, 300], [0, 300], ls=\"--\", c=\".3\")\n",
    "ax1.set_xlabel('Actual 3hr precip accumulation value')\n",
    "ax1.set_ylabel('Predicted 3hr precip_accumulation value')"
   ]
  },
  {
   "cell_type": "code",
   "execution_count": null,
   "id": "43385cc4-b515-4745-8e9c-2cfcc8624483",
   "metadata": {},
   "outputs": [],
   "source": [
    "prd_run.log_image(name='actual_vs_pred', plot=fig1, description='predicted vs actual 3hr accumulations of rainfall')"
   ]
  },
  {
   "cell_type": "code",
   "execution_count": null,
   "id": "dd4cde91-1150-4f64-87bd-443fff1d75b1",
   "metadata": {},
   "outputs": [],
   "source": []
  },
  {
   "cell_type": "code",
   "execution_count": null,
   "id": "f1c2e870-c303-4338-82a7-b3a6ce3e48ce",
   "metadata": {},
   "outputs": [],
   "source": [
    "with tempfile.TemporaryDirectory() as td1:\n",
    "    model_save_path = pathlib.Path(td1) / prd_model_name\n",
    "    model.save(model_save_path)\n",
    "    prd_run.upload_folder(name=prd_model_name, path=str(model_save_path))\n",
    "    prd_run.register_model(prd_model_name, prd_model_name + '/')\n"
   ]
  },
  {
   "cell_type": "code",
   "execution_count": null,
   "id": "b6a95931-bf51-479e-b9bc-c29fb11059a9",
   "metadata": {},
   "outputs": [],
   "source": [
    "prd_run.complete()"
   ]
  },
  {
   "cell_type": "markdown",
   "id": "98313672",
   "metadata": {},
   "source": [
    "## Control member only plots"
   ]
  },
  {
   "cell_type": "code",
   "execution_count": null,
   "id": "fe736cd6-bd0a-4edc-854b-33fbe313f51e",
   "metadata": {},
   "outputs": [],
   "source": [
    "prd_run"
   ]
  },
  {
   "cell_type": "code",
   "execution_count": null,
   "id": "3c97bc8f",
   "metadata": {},
   "outputs": [],
   "source": [
    "import matplotlib.pyplot as plt\n",
    "plt.figure(figsize=(10, 8))\n",
    "\n",
    "plt.plot(training_hist_df.epoch, training_hist_df.loss, label='training')\n",
    "plt.plot(training_hist_df.epoch, training_hist_df.val_loss, c='g', label='validation')\n",
    "plt.legend()\n",
    "plt.ylabel('MAE [mm of precipitation]')\n",
    "plt.xlabel('epochs')\n",
    "plt.title('control member only')\n",
    "plt.show()"
   ]
  },
  {
   "cell_type": "code",
   "execution_count": null,
   "id": "1e95e7cb",
   "metadata": {},
   "outputs": [],
   "source": [
    "y_pred = model.predict(X_test)\n",
    "\n",
    "plt.figure(figsize=(10, 8))\n",
    "\n",
    "plt.scatter(y_test, y_pred, s=200, c='darkblue')\n",
    "plt.gca().plot([0, 300], [0, 300], ls=\"--\", c=\".3\")\n",
    "\n",
    "plt.xlabel('Actual 3hr precip accumulation value')\n",
    "plt.ylabel('Predicted 3hr precip_accumulation value')\n",
    "plt.show()"
   ]
  },
  {
   "cell_type": "code",
   "execution_count": null,
   "id": "e5a167cb",
   "metadata": {},
   "outputs": [],
   "source": [
    "from sklearn.metrics import mean_absolute_error, r2_score\n",
    "error = mean_absolute_error(y_test, y_pred)\n",
    "print(f'MAE: {error:.3f}')\n",
    "\n",
    "rsqrd = r2_score(y_test, y_pred)\n",
    "print(f'R-squared score: {rsqrd:.3f}')"
   ]
  },
  {
   "cell_type": "code",
   "execution_count": null,
   "id": "546fe432",
   "metadata": {},
   "outputs": [],
   "source": [
    "plt.figure(figsize=(10, 8))\n",
    "plt.hist(y_test, alpha=0.5, bins=25, label='Actual')\n",
    "plt.hist(y_pred, alpha=0.5, bins=25, label='Predicted')\n",
    "plt.legend()\n",
    "plt.show()"
   ]
  }
 ],
 "metadata": {
  "kernelspec": {
   "display_name": "Python 3.8 - AzureML",
   "language": "python",
   "name": "python38-azureml"
  },
  "language_info": {
   "codemirror_mode": {
    "name": "ipython",
    "version": 3
   },
   "file_extension": ".py",
   "mimetype": "text/x-python",
   "name": "python",
   "nbconvert_exporter": "python",
   "pygments_lexer": "ipython3",
   "version": "3.8.1"
  }
 },
 "nbformat": 4,
 "nbformat_minor": 5
}
