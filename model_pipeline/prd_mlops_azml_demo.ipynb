{
 "cells": [
  {
   "cell_type": "code",
   "execution_count": 2,
   "id": "70cc5013-7b6d-44f5-a7dc-0a1f3504b6da",
   "metadata": {},
   "outputs": [],
   "source": [
    "%matplotlib inline"
   ]
  },
  {
   "cell_type": "code",
   "execution_count": 54,
   "id": "111979eb-8550-4e33-a4d9-683ef64deacf",
   "metadata": {},
   "outputs": [],
   "source": [
    "import tempfile"
   ]
  },
  {
   "cell_type": "code",
   "execution_count": 3,
   "id": "preliminary-idaho",
   "metadata": {},
   "outputs": [],
   "source": [
    "import pandas as pd\n",
    "import numpy as np\n",
    "import pathlib\n",
    "import matplotlib.pyplot as plt"
   ]
  },
  {
   "cell_type": "code",
   "execution_count": 4,
   "id": "06959be2",
   "metadata": {},
   "outputs": [],
   "source": [
    "from sklearn.model_selection import train_test_split\n",
    "from sklearn.preprocessing import StandardScaler"
   ]
  },
  {
   "cell_type": "code",
   "execution_count": 5,
   "id": "e40a4d6c",
   "metadata": {},
   "outputs": [],
   "source": [
    "import tensorflow as tf\n",
    "from tensorflow.keras.layers import Dense, Activation, Flatten\n",
    "from tensorflow.keras.layers import Conv1D, concatenate\n",
    "from tensorflow.keras.layers import ZeroPadding1D, Reshape, Input, Dropout, PReLU\n",
    "from tensorflow.keras.models import Sequential, Model\n",
    "\n",
    "from sklearn.metrics import mean_absolute_error, r2_score"
   ]
  },
  {
   "cell_type": "markdown",
   "id": "wireless-investing",
   "metadata": {},
   "source": [
    "### Load data"
   ]
  },
  {
   "cell_type": "code",
   "execution_count": 6,
   "id": "3aff8274-8f96-45d5-92ba-49b2b4569fc3",
   "metadata": {},
   "outputs": [],
   "source": [
    "import azureml.core\n",
    "from azureml.core import Workspace, Datastore, Dataset\n",
    "from azureml.core import Experiment\n",
    "\n",
    "ws = Workspace.from_config()"
   ]
  },
  {
   "cell_type": "code",
   "execution_count": 7,
   "id": "46258181-5c98-484a-b80b-ce3b45d6c4f8",
   "metadata": {},
   "outputs": [],
   "source": [
    "dataset = Dataset.get_by_name(ws, name='sd3')\n",
    "data = dataset.to_pandas_dataframe()"
   ]
  },
  {
   "cell_type": "code",
   "execution_count": 8,
   "id": "d9c6b52c",
   "metadata": {},
   "outputs": [],
   "source": [
    "target_parameter = 'rainfall_rate_composite'\n",
    "profile_features = ['air_temperature', 'relative_humidity']\n",
    "single_lvl_features = ['air_pressure_at_sea_level'] "
   ]
  },
  {
   "cell_type": "code",
   "execution_count": 52,
   "id": "ec33beb7-c658-482d-895d-5928101aa0d9",
   "metadata": {},
   "outputs": [],
   "source": [
    "prd_model_name = 'pipeline_demo_20220414'"
   ]
  },
  {
   "cell_type": "markdown",
   "id": "1d725a1c-81b0-4aee-8153-1adc1f398ea4",
   "metadata": {},
   "source": [
    "## create an azxure experiment\n"
   ]
  },
  {
   "cell_type": "code",
   "execution_count": 9,
   "id": "db8803a5-41f8-46a7-afcc-5e83b8bcec52",
   "metadata": {},
   "outputs": [
    {
     "data": {
      "text/html": [
       "<table style=\"width:100%\"><tr><th>Name</th><th>Workspace</th><th>Report Page</th><th>Docs Page</th></tr><tr><td>prd_mlops_test</td><td>precip_rediagnosis</td><td><a href=\"https://ml.azure.com/experiments/id/9e2e4de2-7fc3-4217-a9ee-43723f8330ae?wsid=/subscriptions/07efdc52-cd27-48ed-9443-3aad2b6b777b/resourcegroups/precip_rediagnosis/workspaces/precip_rediagnosis&amp;tid=14fec308-b428-4380-b914-c1940f3210f1\" target=\"_blank\" rel=\"noopener\">Link to Azure Machine Learning studio</a></td><td><a href=\"https://docs.microsoft.com/en-us/python/api/azureml-core/azureml.core.experiment.Experiment?view=azure-ml-py\" target=\"_blank\" rel=\"noopener\">Link to Documentation</a></td></tr></table>"
      ],
      "text/plain": [
       "Experiment(Name: prd_mlops_test,\n",
       "Workspace: precip_rediagnosis)"
      ]
     },
     "execution_count": 9,
     "metadata": {},
     "output_type": "execute_result"
    }
   ],
   "source": [
    "prd_exp = Experiment(workspace=ws, name='prd_mlops_test')\n",
    "prd_exp"
   ]
  },
  {
   "cell_type": "markdown",
   "id": "2e96c131",
   "metadata": {
    "tags": []
   },
   "source": [
    "### Data pre-processing"
   ]
  },
  {
   "cell_type": "code",
   "execution_count": 10,
   "id": "toxic-package",
   "metadata": {},
   "outputs": [],
   "source": [
    "# drop NaN values in the dataset\n",
    "data = data.dropna()\n",
    "\n",
    "# drop data points with zero precip in the radar data\n",
    "data = data[data[target_parameter]>0]"
   ]
  },
  {
   "cell_type": "code",
   "execution_count": 11,
   "id": "17d2f5eb",
   "metadata": {},
   "outputs": [],
   "source": [
    "# Get a list of columns names for profile features\n",
    "prof_feature_columns = [s for s in data.columns for vars in profile_features if s.startswith(vars)]\n",
    "\n",
    "features = data[prof_feature_columns + single_lvl_features]\n",
    "\n",
    "target = data[[target_parameter]]"
   ]
  },
  {
   "cell_type": "code",
   "execution_count": 12,
   "id": "a1d79525",
   "metadata": {},
   "outputs": [],
   "source": [
    "# data_control uses only the control member\n",
    "\n",
    "# data_control = data[data['realization']==0]\n",
    "\n",
    "# # Get a list of columns names for profile features\n",
    "# prof_feature_columns = [s for s in data.columns for vars in profile_features if s.startswith(vars)]\n",
    "\n",
    "# features = data_control[prof_feature_columns + single_lvl_features]\n",
    "\n",
    "# target = data_control[[target_parameter]]"
   ]
  },
  {
   "cell_type": "code",
   "execution_count": 13,
   "id": "6ef50c0c",
   "metadata": {},
   "outputs": [
    {
     "data": {
      "text/plain": [
       "air_temperature_5.0          float64\n",
       "air_temperature_10.0         float64\n",
       "air_temperature_20.0         float64\n",
       "air_temperature_30.0         float64\n",
       "air_temperature_50.0         float64\n",
       "                              ...   \n",
       "relative_humidity_4500.0     float64\n",
       "relative_humidity_5000.0     float64\n",
       "relative_humidity_5500.0     float64\n",
       "relative_humidity_6000.0     float64\n",
       "air_pressure_at_sea_level    float64\n",
       "Length: 67, dtype: object"
      ]
     },
     "execution_count": 13,
     "metadata": {},
     "output_type": "execute_result"
    }
   ],
   "source": [
    "features.dtypes"
   ]
  },
  {
   "cell_type": "code",
   "execution_count": 14,
   "id": "146cb496",
   "metadata": {},
   "outputs": [],
   "source": [
    "standardScaler = StandardScaler()\n",
    "\n",
    "features = pd.DataFrame(standardScaler.fit_transform(features), \n",
    "                                columns=features.columns,\n",
    "                                index=features.index)"
   ]
  },
  {
   "cell_type": "code",
   "execution_count": 15,
   "id": "ef59edd7-6acc-4517-84b6-acb4aa8de13a",
   "metadata": {},
   "outputs": [],
   "source": [
    "# features.describe().T"
   ]
  },
  {
   "cell_type": "code",
   "execution_count": 16,
   "id": "7f667ef7",
   "metadata": {},
   "outputs": [
    {
     "data": {
      "text/html": [
       "<div>\n",
       "<style scoped>\n",
       "    .dataframe tbody tr th:only-of-type {\n",
       "        vertical-align: middle;\n",
       "    }\n",
       "\n",
       "    .dataframe tbody tr th {\n",
       "        vertical-align: top;\n",
       "    }\n",
       "\n",
       "    .dataframe thead th {\n",
       "        text-align: right;\n",
       "    }\n",
       "</style>\n",
       "<table border=\"1\" class=\"dataframe\">\n",
       "  <thead>\n",
       "    <tr style=\"text-align: right;\">\n",
       "      <th></th>\n",
       "      <th>air_temperature_5.0</th>\n",
       "      <th>air_temperature_10.0</th>\n",
       "      <th>air_temperature_20.0</th>\n",
       "      <th>air_temperature_30.0</th>\n",
       "      <th>air_temperature_50.0</th>\n",
       "      <th>air_temperature_75.0</th>\n",
       "      <th>air_temperature_100.0</th>\n",
       "      <th>air_temperature_150.0</th>\n",
       "      <th>air_temperature_200.0</th>\n",
       "      <th>air_temperature_250.0</th>\n",
       "      <th>...</th>\n",
       "      <th>relative_humidity_3250.0</th>\n",
       "      <th>relative_humidity_3500.0</th>\n",
       "      <th>relative_humidity_3750.0</th>\n",
       "      <th>relative_humidity_4000.0</th>\n",
       "      <th>relative_humidity_4500.0</th>\n",
       "      <th>relative_humidity_5000.0</th>\n",
       "      <th>relative_humidity_5500.0</th>\n",
       "      <th>relative_humidity_6000.0</th>\n",
       "      <th>air_pressure_at_sea_level</th>\n",
       "      <th>rainfall_rate_composite</th>\n",
       "    </tr>\n",
       "  </thead>\n",
       "  <tbody>\n",
       "    <tr>\n",
       "      <th>0</th>\n",
       "      <td>0.938784</td>\n",
       "      <td>0.926054</td>\n",
       "      <td>0.899046</td>\n",
       "      <td>0.897392</td>\n",
       "      <td>0.914937</td>\n",
       "      <td>0.946914</td>\n",
       "      <td>0.975615</td>\n",
       "      <td>1.044067</td>\n",
       "      <td>1.105160</td>\n",
       "      <td>1.144634</td>\n",
       "      <td>...</td>\n",
       "      <td>0.024433</td>\n",
       "      <td>-0.593472</td>\n",
       "      <td>-0.970481</td>\n",
       "      <td>-1.332285</td>\n",
       "      <td>-1.120747</td>\n",
       "      <td>0.685723</td>\n",
       "      <td>0.883191</td>\n",
       "      <td>0.981740</td>\n",
       "      <td>1.329853</td>\n",
       "      <td>0.055013</td>\n",
       "    </tr>\n",
       "    <tr>\n",
       "      <th>1</th>\n",
       "      <td>0.890857</td>\n",
       "      <td>0.878122</td>\n",
       "      <td>0.851217</td>\n",
       "      <td>0.849640</td>\n",
       "      <td>0.867488</td>\n",
       "      <td>0.876156</td>\n",
       "      <td>0.881992</td>\n",
       "      <td>0.928691</td>\n",
       "      <td>0.991636</td>\n",
       "      <td>1.055219</td>\n",
       "      <td>...</td>\n",
       "      <td>-1.866416</td>\n",
       "      <td>-2.189050</td>\n",
       "      <td>-2.248927</td>\n",
       "      <td>-2.346961</td>\n",
       "      <td>-2.362004</td>\n",
       "      <td>-0.179908</td>\n",
       "      <td>0.904415</td>\n",
       "      <td>0.978273</td>\n",
       "      <td>1.313198</td>\n",
       "      <td>0.055013</td>\n",
       "    </tr>\n",
       "    <tr>\n",
       "      <th>2</th>\n",
       "      <td>1.130489</td>\n",
       "      <td>1.117783</td>\n",
       "      <td>1.090365</td>\n",
       "      <td>1.088401</td>\n",
       "      <td>1.057284</td>\n",
       "      <td>1.112015</td>\n",
       "      <td>1.162860</td>\n",
       "      <td>1.205593</td>\n",
       "      <td>1.241388</td>\n",
       "      <td>1.278758</td>\n",
       "      <td>...</td>\n",
       "      <td>-1.787958</td>\n",
       "      <td>-2.252085</td>\n",
       "      <td>-2.352156</td>\n",
       "      <td>-2.175859</td>\n",
       "      <td>-0.673895</td>\n",
       "      <td>0.871998</td>\n",
       "      <td>0.925638</td>\n",
       "      <td>1.012938</td>\n",
       "      <td>1.318750</td>\n",
       "      <td>0.055013</td>\n",
       "    </tr>\n",
       "    <tr>\n",
       "      <th>3</th>\n",
       "      <td>1.178415</td>\n",
       "      <td>1.165715</td>\n",
       "      <td>1.138195</td>\n",
       "      <td>1.136153</td>\n",
       "      <td>1.152182</td>\n",
       "      <td>1.159187</td>\n",
       "      <td>1.162860</td>\n",
       "      <td>1.205593</td>\n",
       "      <td>1.218683</td>\n",
       "      <td>1.234050</td>\n",
       "      <td>...</td>\n",
       "      <td>-0.293324</td>\n",
       "      <td>-1.239582</td>\n",
       "      <td>-1.577941</td>\n",
       "      <td>-1.483491</td>\n",
       "      <td>-0.479113</td>\n",
       "      <td>0.711290</td>\n",
       "      <td>0.872580</td>\n",
       "      <td>0.964407</td>\n",
       "      <td>1.315280</td>\n",
       "      <td>0.055013</td>\n",
       "    </tr>\n",
       "    <tr>\n",
       "      <th>4</th>\n",
       "      <td>0.795005</td>\n",
       "      <td>0.782258</td>\n",
       "      <td>0.755557</td>\n",
       "      <td>0.754136</td>\n",
       "      <td>0.772590</td>\n",
       "      <td>0.781812</td>\n",
       "      <td>0.788370</td>\n",
       "      <td>0.836391</td>\n",
       "      <td>0.855408</td>\n",
       "      <td>0.854034</td>\n",
       "      <td>...</td>\n",
       "      <td>-1.505507</td>\n",
       "      <td>-1.739924</td>\n",
       "      <td>-1.736755</td>\n",
       "      <td>-1.853550</td>\n",
       "      <td>-2.071741</td>\n",
       "      <td>0.557887</td>\n",
       "      <td>0.915026</td>\n",
       "      <td>1.026804</td>\n",
       "      <td>1.351366</td>\n",
       "      <td>0.055013</td>\n",
       "    </tr>\n",
       "    <tr>\n",
       "      <th>...</th>\n",
       "      <td>...</td>\n",
       "      <td>...</td>\n",
       "      <td>...</td>\n",
       "      <td>...</td>\n",
       "      <td>...</td>\n",
       "      <td>...</td>\n",
       "      <td>...</td>\n",
       "      <td>...</td>\n",
       "      <td>...</td>\n",
       "      <td>...</td>\n",
       "      <td>...</td>\n",
       "      <td>...</td>\n",
       "      <td>...</td>\n",
       "      <td>...</td>\n",
       "      <td>...</td>\n",
       "      <td>...</td>\n",
       "      <td>...</td>\n",
       "      <td>...</td>\n",
       "      <td>...</td>\n",
       "      <td>...</td>\n",
       "      <td>...</td>\n",
       "    </tr>\n",
       "    <tr>\n",
       "      <th>190309</th>\n",
       "      <td>-0.522968</td>\n",
       "      <td>-0.559843</td>\n",
       "      <td>-0.631504</td>\n",
       "      <td>-0.630674</td>\n",
       "      <td>-0.650879</td>\n",
       "      <td>-0.680513</td>\n",
       "      <td>-0.709589</td>\n",
       "      <td>-0.732721</td>\n",
       "      <td>-0.733920</td>\n",
       "      <td>-0.755444</td>\n",
       "      <td>...</td>\n",
       "      <td>-0.873917</td>\n",
       "      <td>-0.849552</td>\n",
       "      <td>-0.795786</td>\n",
       "      <td>-0.731437</td>\n",
       "      <td>-0.555498</td>\n",
       "      <td>-0.315049</td>\n",
       "      <td>-0.011716</td>\n",
       "      <td>0.239919</td>\n",
       "      <td>-1.450114</td>\n",
       "      <td>0.248529</td>\n",
       "    </tr>\n",
       "    <tr>\n",
       "      <th>190310</th>\n",
       "      <td>-0.187484</td>\n",
       "      <td>-0.224318</td>\n",
       "      <td>-0.296696</td>\n",
       "      <td>-0.296410</td>\n",
       "      <td>-0.318736</td>\n",
       "      <td>-0.350310</td>\n",
       "      <td>-0.381911</td>\n",
       "      <td>-0.409668</td>\n",
       "      <td>-0.416054</td>\n",
       "      <td>-0.442490</td>\n",
       "      <td>...</td>\n",
       "      <td>-1.117138</td>\n",
       "      <td>-1.235643</td>\n",
       "      <td>-1.327811</td>\n",
       "      <td>-1.336264</td>\n",
       "      <td>-1.181855</td>\n",
       "      <td>-1.147808</td>\n",
       "      <td>-1.224971</td>\n",
       "      <td>-1.226389</td>\n",
       "      <td>-1.320345</td>\n",
       "      <td>0.248529</td>\n",
       "    </tr>\n",
       "    <tr>\n",
       "      <th>190311</th>\n",
       "      <td>-0.235410</td>\n",
       "      <td>-0.272250</td>\n",
       "      <td>-0.344526</td>\n",
       "      <td>-0.368038</td>\n",
       "      <td>-0.389910</td>\n",
       "      <td>-0.421068</td>\n",
       "      <td>-0.428722</td>\n",
       "      <td>-0.455819</td>\n",
       "      <td>-0.461463</td>\n",
       "      <td>-0.487198</td>\n",
       "      <td>...</td>\n",
       "      <td>-1.168136</td>\n",
       "      <td>-1.081994</td>\n",
       "      <td>-1.034006</td>\n",
       "      <td>-0.982122</td>\n",
       "      <td>-0.750280</td>\n",
       "      <td>-0.315049</td>\n",
       "      <td>0.009507</td>\n",
       "      <td>0.083929</td>\n",
       "      <td>-1.331449</td>\n",
       "      <td>0.248529</td>\n",
       "    </tr>\n",
       "    <tr>\n",
       "      <th>190312</th>\n",
       "      <td>-0.451079</td>\n",
       "      <td>-0.511911</td>\n",
       "      <td>-0.583674</td>\n",
       "      <td>-0.582922</td>\n",
       "      <td>-0.603430</td>\n",
       "      <td>-0.633341</td>\n",
       "      <td>-0.662778</td>\n",
       "      <td>-0.686570</td>\n",
       "      <td>-0.733920</td>\n",
       "      <td>-0.755444</td>\n",
       "      <td>...</td>\n",
       "      <td>-0.595389</td>\n",
       "      <td>-0.250718</td>\n",
       "      <td>-0.204207</td>\n",
       "      <td>-0.317608</td>\n",
       "      <td>-0.765557</td>\n",
       "      <td>-0.957881</td>\n",
       "      <td>-0.789897</td>\n",
       "      <td>-0.675224</td>\n",
       "      <td>-1.296751</td>\n",
       "      <td>0.248529</td>\n",
       "    </tr>\n",
       "    <tr>\n",
       "      <th>190313</th>\n",
       "      <td>-0.283337</td>\n",
       "      <td>-0.320182</td>\n",
       "      <td>-0.392355</td>\n",
       "      <td>-0.391914</td>\n",
       "      <td>-0.413634</td>\n",
       "      <td>-0.444654</td>\n",
       "      <td>-0.475533</td>\n",
       "      <td>-0.501969</td>\n",
       "      <td>-0.506873</td>\n",
       "      <td>-0.531906</td>\n",
       "      <td>...</td>\n",
       "      <td>-0.387474</td>\n",
       "      <td>-0.502859</td>\n",
       "      <td>-0.525804</td>\n",
       "      <td>-0.492689</td>\n",
       "      <td>-0.230862</td>\n",
       "      <td>0.083068</td>\n",
       "      <td>0.253573</td>\n",
       "      <td>0.298849</td>\n",
       "      <td>-1.355043</td>\n",
       "      <td>0.248529</td>\n",
       "    </tr>\n",
       "  </tbody>\n",
       "</table>\n",
       "<p>37962 rows × 68 columns</p>\n",
       "</div>"
      ],
      "text/plain": [
       "        air_temperature_5.0  air_temperature_10.0  air_temperature_20.0  \\\n",
       "0                  0.938784              0.926054              0.899046   \n",
       "1                  0.890857              0.878122              0.851217   \n",
       "2                  1.130489              1.117783              1.090365   \n",
       "3                  1.178415              1.165715              1.138195   \n",
       "4                  0.795005              0.782258              0.755557   \n",
       "...                     ...                   ...                   ...   \n",
       "190309            -0.522968             -0.559843             -0.631504   \n",
       "190310            -0.187484             -0.224318             -0.296696   \n",
       "190311            -0.235410             -0.272250             -0.344526   \n",
       "190312            -0.451079             -0.511911             -0.583674   \n",
       "190313            -0.283337             -0.320182             -0.392355   \n",
       "\n",
       "        air_temperature_30.0  air_temperature_50.0  air_temperature_75.0  \\\n",
       "0                   0.897392              0.914937              0.946914   \n",
       "1                   0.849640              0.867488              0.876156   \n",
       "2                   1.088401              1.057284              1.112015   \n",
       "3                   1.136153              1.152182              1.159187   \n",
       "4                   0.754136              0.772590              0.781812   \n",
       "...                      ...                   ...                   ...   \n",
       "190309             -0.630674             -0.650879             -0.680513   \n",
       "190310             -0.296410             -0.318736             -0.350310   \n",
       "190311             -0.368038             -0.389910             -0.421068   \n",
       "190312             -0.582922             -0.603430             -0.633341   \n",
       "190313             -0.391914             -0.413634             -0.444654   \n",
       "\n",
       "        air_temperature_100.0  air_temperature_150.0  air_temperature_200.0  \\\n",
       "0                    0.975615               1.044067               1.105160   \n",
       "1                    0.881992               0.928691               0.991636   \n",
       "2                    1.162860               1.205593               1.241388   \n",
       "3                    1.162860               1.205593               1.218683   \n",
       "4                    0.788370               0.836391               0.855408   \n",
       "...                       ...                    ...                    ...   \n",
       "190309              -0.709589              -0.732721              -0.733920   \n",
       "190310              -0.381911              -0.409668              -0.416054   \n",
       "190311              -0.428722              -0.455819              -0.461463   \n",
       "190312              -0.662778              -0.686570              -0.733920   \n",
       "190313              -0.475533              -0.501969              -0.506873   \n",
       "\n",
       "        air_temperature_250.0  ...  relative_humidity_3250.0  \\\n",
       "0                    1.144634  ...                  0.024433   \n",
       "1                    1.055219  ...                 -1.866416   \n",
       "2                    1.278758  ...                 -1.787958   \n",
       "3                    1.234050  ...                 -0.293324   \n",
       "4                    0.854034  ...                 -1.505507   \n",
       "...                       ...  ...                       ...   \n",
       "190309              -0.755444  ...                 -0.873917   \n",
       "190310              -0.442490  ...                 -1.117138   \n",
       "190311              -0.487198  ...                 -1.168136   \n",
       "190312              -0.755444  ...                 -0.595389   \n",
       "190313              -0.531906  ...                 -0.387474   \n",
       "\n",
       "        relative_humidity_3500.0  relative_humidity_3750.0  \\\n",
       "0                      -0.593472                 -0.970481   \n",
       "1                      -2.189050                 -2.248927   \n",
       "2                      -2.252085                 -2.352156   \n",
       "3                      -1.239582                 -1.577941   \n",
       "4                      -1.739924                 -1.736755   \n",
       "...                          ...                       ...   \n",
       "190309                 -0.849552                 -0.795786   \n",
       "190310                 -1.235643                 -1.327811   \n",
       "190311                 -1.081994                 -1.034006   \n",
       "190312                 -0.250718                 -0.204207   \n",
       "190313                 -0.502859                 -0.525804   \n",
       "\n",
       "        relative_humidity_4000.0  relative_humidity_4500.0  \\\n",
       "0                      -1.332285                 -1.120747   \n",
       "1                      -2.346961                 -2.362004   \n",
       "2                      -2.175859                 -0.673895   \n",
       "3                      -1.483491                 -0.479113   \n",
       "4                      -1.853550                 -2.071741   \n",
       "...                          ...                       ...   \n",
       "190309                 -0.731437                 -0.555498   \n",
       "190310                 -1.336264                 -1.181855   \n",
       "190311                 -0.982122                 -0.750280   \n",
       "190312                 -0.317608                 -0.765557   \n",
       "190313                 -0.492689                 -0.230862   \n",
       "\n",
       "        relative_humidity_5000.0  relative_humidity_5500.0  \\\n",
       "0                       0.685723                  0.883191   \n",
       "1                      -0.179908                  0.904415   \n",
       "2                       0.871998                  0.925638   \n",
       "3                       0.711290                  0.872580   \n",
       "4                       0.557887                  0.915026   \n",
       "...                          ...                       ...   \n",
       "190309                 -0.315049                 -0.011716   \n",
       "190310                 -1.147808                 -1.224971   \n",
       "190311                 -0.315049                  0.009507   \n",
       "190312                 -0.957881                 -0.789897   \n",
       "190313                  0.083068                  0.253573   \n",
       "\n",
       "        relative_humidity_6000.0  air_pressure_at_sea_level  \\\n",
       "0                       0.981740                   1.329853   \n",
       "1                       0.978273                   1.313198   \n",
       "2                       1.012938                   1.318750   \n",
       "3                       0.964407                   1.315280   \n",
       "4                       1.026804                   1.351366   \n",
       "...                          ...                        ...   \n",
       "190309                  0.239919                  -1.450114   \n",
       "190310                 -1.226389                  -1.320345   \n",
       "190311                  0.083929                  -1.331449   \n",
       "190312                 -0.675224                  -1.296751   \n",
       "190313                  0.298849                  -1.355043   \n",
       "\n",
       "        rainfall_rate_composite  \n",
       "0                      0.055013  \n",
       "1                      0.055013  \n",
       "2                      0.055013  \n",
       "3                      0.055013  \n",
       "4                      0.055013  \n",
       "...                         ...  \n",
       "190309                 0.248529  \n",
       "190310                 0.248529  \n",
       "190311                 0.248529  \n",
       "190312                 0.248529  \n",
       "190313                 0.248529  \n",
       "\n",
       "[37962 rows x 68 columns]"
      ]
     },
     "execution_count": 16,
     "metadata": {},
     "output_type": "execute_result"
    }
   ],
   "source": [
    "processed_data = pd.concat([features, target], axis=1, sort=False)\n",
    "processed_data"
   ]
  },
  {
   "cell_type": "markdown",
   "id": "5af54f5d",
   "metadata": {},
   "source": [
    "Split the dataset into 60/20/20 subsets for training, testing and validation"
   ]
  },
  {
   "cell_type": "code",
   "execution_count": 17,
   "id": "f2ea4c06",
   "metadata": {},
   "outputs": [],
   "source": [
    "# Height profiles data\n",
    "X_train_prof, X_test_prof, y_train, y_test = train_test_split(\n",
    "    features[prof_feature_columns],\n",
    "    target,\n",
    "    test_size=0.2,\n",
    "    random_state=1\n",
    ")\n",
    "\n",
    "# Single level data\n",
    "X_train_singlvl, X_test_singlvl, y_train, y_test = train_test_split(\n",
    "    features[single_lvl_features],\n",
    "    target,\n",
    "    test_size=0.2,\n",
    "    random_state=1\n",
    ")\n",
    "\n",
    "# y_test and y_train is the same in both of these, given that the random state is set"
   ]
  },
  {
   "cell_type": "code",
   "execution_count": 18,
   "id": "314213ba",
   "metadata": {},
   "outputs": [],
   "source": [
    "# reshape height profile variables \n",
    "X_train_prof = np.transpose(X_train_prof.to_numpy().reshape(X_train_prof.shape[0], 2, 33), (0, 2, 1))\n",
    "X_test_prof = np.transpose(X_test_prof.to_numpy().reshape(X_test_prof.shape[0], 2, 33), (0, 2, 1))"
   ]
  },
  {
   "cell_type": "code",
   "execution_count": 19,
   "id": "10ecae9d",
   "metadata": {},
   "outputs": [],
   "source": [
    "def build_model(nprof_features, nheights, nsinglvl_features):\n",
    "    \n",
    "    profile_input = Input(shape=(nheights, nprof_features), name='profile_input')\n",
    "    prof_size = nheights*nprof_features\n",
    "\n",
    "    out = ZeroPadding1D(padding=1)(profile_input)\n",
    "    out = Conv1D(32, 3, strides=1, activation='relu', use_bias=False, kernel_initializer='glorot_uniform', bias_initializer='zeros')(out)\n",
    "    ident = out\n",
    "    out = ZeroPadding1D(padding=1)(out)\n",
    "    out = Conv1D(32, 3, strides=1, activation='relu', use_bias=False, kernel_initializer='glorot_uniform', bias_initializer='zeros')(out)\n",
    "    out = ZeroPadding1D(padding=1)(out)\n",
    "    out = Conv1D(32, 3, strides=1, activation='relu', use_bias=False, kernel_initializer='glorot_uniform', bias_initializer='zeros')(out)\n",
    "    x = tf.keras.layers.add([out, ident])\n",
    "    out = Flatten()(x)\n",
    "    out = Dense(prof_size, use_bias=False, activation='relu')(out)\n",
    "\n",
    "    if nsinglvl_features > 0:\n",
    "        surf_input = Input(shape=(nsinglvl_features,), name='surf_input')\n",
    "        flat_profs = Flatten()(profile_input)\n",
    "        raw_in = tf.keras.layers.concatenate([flat_profs, surf_input])\n",
    "        raw_size = (nheights*nprof_features)+nsinglvl_features\n",
    "        \n",
    "        out = tf.keras.layers.concatenate([out, surf_input])\n",
    "        x = tf.keras.layers.add([out, raw_in])\n",
    "        x = Dense(1024, use_bias=False, activation='relu')(x)\n",
    "        x = Dense(1024, use_bias=False, activation='relu')(x)\n",
    "        \n",
    "        main_output = Dense(1, use_bias=True, activation='linear', name='main_output')(x)\n",
    "        model = Model(inputs=[profile_input, surf_input], outputs=[main_output])\n",
    "    \n",
    "    else:\n",
    "        main_output = Dense(1, use_bias=True, activation='linear', name='main_output')(out)\n",
    "        model = Model(inputs=[profile_input], outputs=[main_output])\n",
    "        \n",
    "    return model"
   ]
  },
  {
   "cell_type": "code",
   "execution_count": 20,
   "id": "f7aa31b1",
   "metadata": {},
   "outputs": [],
   "source": [
    "nprof_features = len(profile_features)\n",
    "nheights = len(prof_feature_columns)//len(profile_features)\n",
    "nsinglvl_features = len(single_lvl_features)"
   ]
  },
  {
   "cell_type": "code",
   "execution_count": 21,
   "id": "e6c1cca1-a1b5-49d3-948a-a82f2d024b35",
   "metadata": {},
   "outputs": [],
   "source": [
    "if nsinglvl_features > 0:\n",
    "    X_train = [X_train_prof, X_train_singlvl]\n",
    "    X_test = [X_test_prof, X_test_singlvl]\n",
    "else:\n",
    "    X_train = X_train_prof\n",
    "    X_test = X_test_prof"
   ]
  },
  {
   "cell_type": "code",
   "execution_count": 31,
   "id": "09a36741-bb38-4917-9e8e-a8e246b49e5e",
   "metadata": {},
   "outputs": [
    {
     "data": {
      "text/plain": [
       "(30369, 1)"
      ]
     },
     "execution_count": 31,
     "metadata": {},
     "output_type": "execute_result"
    }
   ],
   "source": [
    "X_train_singlvl.shape"
   ]
  },
  {
   "cell_type": "code",
   "execution_count": 33,
   "id": "d7243f14-bdd5-4348-ad0e-bf8729197580",
   "metadata": {},
   "outputs": [],
   "source": [
    "import datetime\n",
    "log_dir = 'log/fit/' + datetime.datetime.now().strftime('%Y%m%d-%H%M%S')"
   ]
  },
  {
   "cell_type": "code",
   "execution_count": 34,
   "id": "26f24060-af81-4ab6-b1cd-37e92997c493",
   "metadata": {},
   "outputs": [],
   "source": [
    "prd_run = prd_exp.start_logging(display_name='mlops_demo_' + datetime.datetime.now().strftime('%Y%m%d-%H%M%S'))\n"
   ]
  },
  {
   "cell_type": "code",
   "execution_count": 35,
   "id": "0fdddb31-fcbf-4439-850a-71c6d09f5585",
   "metadata": {},
   "outputs": [],
   "source": [
    "prd_run.log('learning_rate', 0.001)"
   ]
  },
  {
   "cell_type": "code",
   "execution_count": 36,
   "id": "18e0343a-b343-4fc3-8cf9-17678d970b9f",
   "metadata": {},
   "outputs": [
    {
     "name": "stdout",
     "output_type": "stream",
     "text": [
      "Model: \"model\"\n",
      "__________________________________________________________________________________________________\n",
      " Layer (type)                   Output Shape         Param #     Connected to                     \n",
      "==================================================================================================\n",
      " profile_input (InputLayer)     [(None, 33, 2)]      0           []                               \n",
      "                                                                                                  \n",
      " zero_padding1d (ZeroPadding1D)  (None, 35, 2)       0           ['profile_input[0][0]']          \n",
      "                                                                                                  \n",
      " conv1d (Conv1D)                (None, 33, 32)       192         ['zero_padding1d[0][0]']         \n",
      "                                                                                                  \n",
      " zero_padding1d_1 (ZeroPadding1  (None, 35, 32)      0           ['conv1d[0][0]']                 \n",
      " D)                                                                                               \n",
      "                                                                                                  \n",
      " conv1d_1 (Conv1D)              (None, 33, 32)       3072        ['zero_padding1d_1[0][0]']       \n",
      "                                                                                                  \n",
      " zero_padding1d_2 (ZeroPadding1  (None, 35, 32)      0           ['conv1d_1[0][0]']               \n",
      " D)                                                                                               \n",
      "                                                                                                  \n",
      " conv1d_2 (Conv1D)              (None, 33, 32)       3072        ['zero_padding1d_2[0][0]']       \n",
      "                                                                                                  \n",
      " add (Add)                      (None, 33, 32)       0           ['conv1d_2[0][0]',               \n",
      "                                                                  'conv1d[0][0]']                 \n",
      "                                                                                                  \n",
      " flatten (Flatten)              (None, 1056)         0           ['add[0][0]']                    \n",
      "                                                                                                  \n",
      " dense (Dense)                  (None, 66)           69696       ['flatten[0][0]']                \n",
      "                                                                                                  \n",
      " surf_input (InputLayer)        [(None, 1)]          0           []                               \n",
      "                                                                                                  \n",
      " flatten_1 (Flatten)            (None, 66)           0           ['profile_input[0][0]']          \n",
      "                                                                                                  \n",
      " concatenate_1 (Concatenate)    (None, 67)           0           ['dense[0][0]',                  \n",
      "                                                                  'surf_input[0][0]']             \n",
      "                                                                                                  \n",
      " concatenate (Concatenate)      (None, 67)           0           ['flatten_1[0][0]',              \n",
      "                                                                  'surf_input[0][0]']             \n",
      "                                                                                                  \n",
      " add_1 (Add)                    (None, 67)           0           ['concatenate_1[0][0]',          \n",
      "                                                                  'concatenate[0][0]']            \n",
      "                                                                                                  \n",
      " dense_1 (Dense)                (None, 1024)         68608       ['add_1[0][0]']                  \n",
      "                                                                                                  \n",
      " dense_2 (Dense)                (None, 1024)         1048576     ['dense_1[0][0]']                \n",
      "                                                                                                  \n",
      " main_output (Dense)            (None, 1)            1025        ['dense_2[0][0]']                \n",
      "                                                                                                  \n",
      "==================================================================================================\n",
      "Total params: 1,194,241\n",
      "Trainable params: 1,194,241\n",
      "Non-trainable params: 0\n",
      "__________________________________________________________________________________________________\n"
     ]
    }
   ],
   "source": [
    "\n",
    "model = build_model(nprof_features, nheights, nsinglvl_features)\n",
    "model.summary()\n",
    "optimizer = tf.keras.optimizers.Adam(learning_rate=0.001)\n",
    "model.compile(loss='mean_absolute_error', optimizer=optimizer)\n",
    "\n",
    "\n"
   ]
  },
  {
   "cell_type": "markdown",
   "id": "f5c4eaf6-83bb-497f-b842-a1b3ef6b1401",
   "metadata": {},
   "source": [
    "We can save out the model archiecture to a JSON file, so that it can be reloaded and trained ion a nice reproducible way!\n",
    "It can be loaded in by calling `tf.keras.model.models_from_json`\n",
    "\n",
    "See [this](https://towardsdatascience.com/saving-and-loading-keras-model-42195b92f57a) article.\n"
   ]
  },
  {
   "cell_type": "code",
   "execution_count": 71,
   "id": "0e4f012c-2e6f-4c46-9028-ebd7dcdb11eb",
   "metadata": {},
   "outputs": [
    {
     "data": {
      "text/plain": [
       "'{\"class_name\": \"Functional\", \"config\": {\"name\": \"model\", \"layers\": [{\"class_name\": \"InputLayer\", \"config\": {\"batch_input_shape\": [null, 33, 2], \"dtype\": \"float32\", \"sparse\": false, \"ragged\": false, \"name\": \"profile_input\"}, \"name\": \"profile_input\", \"inbound_nodes\": []}, {\"class_name\": \"ZeroPadding1D\", \"config\": {\"name\": \"zero_padding1d\", \"trainable\": true, \"dtype\": \"float32\", \"padding\": [1, 1]}, \"name\": \"zero_padding1d\", \"inbound_nodes\": [[[\"profile_input\", 0, 0, {}]]]}, {\"class_name\": \"Conv1D\", \"config\": {\"name\": \"conv1d\", \"trainable\": true, \"dtype\": \"float32\", \"filters\": 32, \"kernel_size\": [3], \"strides\": [1], \"padding\": \"valid\", \"data_format\": \"channels_last\", \"dilation_rate\": [1], \"groups\": 1, \"activation\": \"relu\", \"use_bias\": false, \"kernel_initializer\": {\"class_name\": \"GlorotUniform\", \"config\": {\"seed\": null}}, \"bias_initializer\": {\"class_name\": \"Zeros\", \"config\": {}}, \"kernel_regularizer\": null, \"bias_regularizer\": null, \"activity_regularizer\": null, \"kernel_constraint\": null, \"bias_constraint\": null}, \"name\": \"conv1d\", \"inbound_nodes\": [[[\"zero_padding1d\", 0, 0, {}]]]}, {\"class_name\": \"ZeroPadding1D\", \"config\": {\"name\": \"zero_padding1d_1\", \"trainable\": true, \"dtype\": \"float32\", \"padding\": [1, 1]}, \"name\": \"zero_padding1d_1\", \"inbound_nodes\": [[[\"conv1d\", 0, 0, {}]]]}, {\"class_name\": \"Conv1D\", \"config\": {\"name\": \"conv1d_1\", \"trainable\": true, \"dtype\": \"float32\", \"filters\": 32, \"kernel_size\": [3], \"strides\": [1], \"padding\": \"valid\", \"data_format\": \"channels_last\", \"dilation_rate\": [1], \"groups\": 1, \"activation\": \"relu\", \"use_bias\": false, \"kernel_initializer\": {\"class_name\": \"GlorotUniform\", \"config\": {\"seed\": null}}, \"bias_initializer\": {\"class_name\": \"Zeros\", \"config\": {}}, \"kernel_regularizer\": null, \"bias_regularizer\": null, \"activity_regularizer\": null, \"kernel_constraint\": null, \"bias_constraint\": null}, \"name\": \"conv1d_1\", \"inbound_nodes\": [[[\"zero_padding1d_1\", 0, 0, {}]]]}, {\"class_name\": \"ZeroPadding1D\", \"config\": {\"name\": \"zero_padding1d_2\", \"trainable\": true, \"dtype\": \"float32\", \"padding\": [1, 1]}, \"name\": \"zero_padding1d_2\", \"inbound_nodes\": [[[\"conv1d_1\", 0, 0, {}]]]}, {\"class_name\": \"Conv1D\", \"config\": {\"name\": \"conv1d_2\", \"trainable\": true, \"dtype\": \"float32\", \"filters\": 32, \"kernel_size\": [3], \"strides\": [1], \"padding\": \"valid\", \"data_format\": \"channels_last\", \"dilation_rate\": [1], \"groups\": 1, \"activation\": \"relu\", \"use_bias\": false, \"kernel_initializer\": {\"class_name\": \"GlorotUniform\", \"config\": {\"seed\": null}}, \"bias_initializer\": {\"class_name\": \"Zeros\", \"config\": {}}, \"kernel_regularizer\": null, \"bias_regularizer\": null, \"activity_regularizer\": null, \"kernel_constraint\": null, \"bias_constraint\": null}, \"name\": \"conv1d_2\", \"inbound_nodes\": [[[\"zero_padding1d_2\", 0, 0, {}]]]}, {\"class_name\": \"Add\", \"config\": {\"name\": \"add\", \"trainable\": true, \"dtype\": \"float32\"}, \"name\": \"add\", \"inbound_nodes\": [[[\"conv1d_2\", 0, 0, {}], [\"conv1d\", 0, 0, {}]]]}, {\"class_name\": \"Flatten\", \"config\": {\"name\": \"flatten\", \"trainable\": true, \"dtype\": \"float32\", \"data_format\": \"channels_last\"}, \"name\": \"flatten\", \"inbound_nodes\": [[[\"add\", 0, 0, {}]]]}, {\"class_name\": \"Dense\", \"config\": {\"name\": \"dense\", \"trainable\": true, \"dtype\": \"float32\", \"units\": 66, \"activation\": \"relu\", \"use_bias\": false, \"kernel_initializer\": {\"class_name\": \"GlorotUniform\", \"config\": {\"seed\": null}}, \"bias_initializer\": {\"class_name\": \"Zeros\", \"config\": {}}, \"kernel_regularizer\": null, \"bias_regularizer\": null, \"activity_regularizer\": null, \"kernel_constraint\": null, \"bias_constraint\": null}, \"name\": \"dense\", \"inbound_nodes\": [[[\"flatten\", 0, 0, {}]]]}, {\"class_name\": \"InputLayer\", \"config\": {\"batch_input_shape\": [null, 1], \"dtype\": \"float32\", \"sparse\": false, \"ragged\": false, \"name\": \"surf_input\"}, \"name\": \"surf_input\", \"inbound_nodes\": []}, {\"class_name\": \"Flatten\", \"config\": {\"name\": \"flatten_1\", \"trainable\": true, \"dtype\": \"float32\", \"data_format\": \"channels_last\"}, \"name\": \"flatten_1\", \"inbound_nodes\": [[[\"profile_input\", 0, 0, {}]]]}, {\"class_name\": \"Concatenate\", \"config\": {\"name\": \"concatenate_1\", \"trainable\": true, \"dtype\": \"float32\", \"axis\": -1}, \"name\": \"concatenate_1\", \"inbound_nodes\": [[[\"dense\", 0, 0, {}], [\"surf_input\", 0, 0, {}]]]}, {\"class_name\": \"Concatenate\", \"config\": {\"name\": \"concatenate\", \"trainable\": true, \"dtype\": \"float32\", \"axis\": -1}, \"name\": \"concatenate\", \"inbound_nodes\": [[[\"flatten_1\", 0, 0, {}], [\"surf_input\", 0, 0, {}]]]}, {\"class_name\": \"Add\", \"config\": {\"name\": \"add_1\", \"trainable\": true, \"dtype\": \"float32\"}, \"name\": \"add_1\", \"inbound_nodes\": [[[\"concatenate_1\", 0, 0, {}], [\"concatenate\", 0, 0, {}]]]}, {\"class_name\": \"Dense\", \"config\": {\"name\": \"dense_1\", \"trainable\": true, \"dtype\": \"float32\", \"units\": 1024, \"activation\": \"relu\", \"use_bias\": false, \"kernel_initializer\": {\"class_name\": \"GlorotUniform\", \"config\": {\"seed\": null}}, \"bias_initializer\": {\"class_name\": \"Zeros\", \"config\": {}}, \"kernel_regularizer\": null, \"bias_regularizer\": null, \"activity_regularizer\": null, \"kernel_constraint\": null, \"bias_constraint\": null}, \"name\": \"dense_1\", \"inbound_nodes\": [[[\"add_1\", 0, 0, {}]]]}, {\"class_name\": \"Dense\", \"config\": {\"name\": \"dense_2\", \"trainable\": true, \"dtype\": \"float32\", \"units\": 1024, \"activation\": \"relu\", \"use_bias\": false, \"kernel_initializer\": {\"class_name\": \"GlorotUniform\", \"config\": {\"seed\": null}}, \"bias_initializer\": {\"class_name\": \"Zeros\", \"config\": {}}, \"kernel_regularizer\": null, \"bias_regularizer\": null, \"activity_regularizer\": null, \"kernel_constraint\": null, \"bias_constraint\": null}, \"name\": \"dense_2\", \"inbound_nodes\": [[[\"dense_1\", 0, 0, {}]]]}, {\"class_name\": \"Dense\", \"config\": {\"name\": \"main_output\", \"trainable\": true, \"dtype\": \"float32\", \"units\": 1, \"activation\": \"linear\", \"use_bias\": true, \"kernel_initializer\": {\"class_name\": \"GlorotUniform\", \"config\": {\"seed\": null}}, \"bias_initializer\": {\"class_name\": \"Zeros\", \"config\": {}}, \"kernel_regularizer\": null, \"bias_regularizer\": null, \"activity_regularizer\": null, \"kernel_constraint\": null, \"bias_constraint\": null}, \"name\": \"main_output\", \"inbound_nodes\": [[[\"dense_2\", 0, 0, {}]]]}], \"input_layers\": [[\"profile_input\", 0, 0], [\"surf_input\", 0, 0]], \"output_layers\": [[\"main_output\", 0, 0]]}, \"keras_version\": \"2.8.0\", \"backend\": \"tensorflow\"}'"
      ]
     },
     "execution_count": 71,
     "metadata": {},
     "output_type": "execute_result"
    }
   ],
   "source": [
    "model.to_json()"
   ]
  },
  {
   "cell_type": "code",
   "execution_count": 37,
   "id": "fdf46cdf-1621-4670-9ca6-e8738137fa85",
   "metadata": {},
   "outputs": [
    {
     "name": "stdout",
     "output_type": "stream",
     "text": [
      "712/712 [==============================] - 7s 9ms/step - loss: 14.9191 - val_loss: 13.9187\n"
     ]
    }
   ],
   "source": [
    "history = model.fit(X_train, y_train, epochs=1, batch_size=32, validation_split=0.25, verbose=True)"
   ]
  },
  {
   "cell_type": "code",
   "execution_count": 38,
   "id": "64f13e7d-7be1-4802-bd59-048d92862386",
   "metadata": {},
   "outputs": [],
   "source": [
    "prd_run.log('batch_size', 32)"
   ]
  },
  {
   "cell_type": "code",
   "execution_count": 39,
   "id": "c7a8f6ba-3b7e-47da-b7ea-f9f0d4dffabf",
   "metadata": {},
   "outputs": [],
   "source": [
    "y_pred = model.predict(X_test)"
   ]
  },
  {
   "cell_type": "code",
   "execution_count": 40,
   "id": "7fdf066a-5aa8-4f3f-b8ca-c9e8daa1258c",
   "metadata": {},
   "outputs": [],
   "source": [
    "error = mean_absolute_error(y_test, y_pred)\n",
    "prd_run.log('MAE', error)\n",
    "rsqrd = r2_score(y_test, y_pred)\n",
    "prd_run.log(f'R-squared score', rsqrd)"
   ]
  },
  {
   "cell_type": "markdown",
   "id": "2f0fa07b",
   "metadata": {
    "tags": []
   },
   "source": [
    "## Evaluation"
   ]
  },
  {
   "cell_type": "code",
   "execution_count": 41,
   "id": "f4fe371a",
   "metadata": {},
   "outputs": [],
   "source": [
    "training_hist_df = pd.DataFrame(history.history)\n",
    "training_hist_df['epoch'] = history.epoch"
   ]
  },
  {
   "cell_type": "code",
   "execution_count": 42,
   "id": "2c7ec093",
   "metadata": {},
   "outputs": [
    {
     "data": {
      "text/plain": [
       "Text(0.5, 0, 'epochs')"
      ]
     },
     "execution_count": 42,
     "metadata": {},
     "output_type": "execute_result"
    },
    {
     "data": {
      "image/png": "[encoded data removed]",
      "text/plain": [
       "<Figure size 720x576 with 1 Axes>"
      ]
     },
     "metadata": {
      "needs_background": "light"
     },
     "output_type": "display_data"
    }
   ],
   "source": [
    "plt.figure(figsize=(10, 8))\n",
    "plt.plot(training_hist_df.epoch, training_hist_df.loss, label='training')\n",
    "plt.plot(training_hist_df.epoch, training_hist_df.val_loss, c='g', label='validation')\n",
    "plt.legend()\n",
    "plt.ylabel('MAE [mm of precipitation]')\n",
    "plt.xlabel('epochs')"
   ]
  },
  {
   "cell_type": "code",
   "execution_count": 43,
   "id": "c7e7dd0b",
   "metadata": {},
   "outputs": [
    {
     "data": {
      "text/plain": [
       "Text(0, 0.5, 'Predicted 3hr precip_accumulation value')"
      ]
     },
     "execution_count": 43,
     "metadata": {},
     "output_type": "execute_result"
    },
    {
     "data": {
      "image/png": "[encoded data removed]",
      "text/plain": [
       "<Figure size 720x576 with 1 Axes>"
      ]
     },
     "metadata": {
      "needs_background": "light"
     },
     "output_type": "display_data"
    }
   ],
   "source": [
    "fig1 = plt.figure(figsize=(10, 8))\n",
    "ax1 = fig1.add_subplot(1,1,1)\n",
    "ax1.scatter(y_test, y_pred, s=200, c='darkblue')\n",
    "ax1.plot([0, 300], [0, 300], ls=\"--\", c=\".3\")\n",
    "ax1.set_xlabel('Actual 3hr precip accumulation value')\n",
    "ax1.set_ylabel('Predicted 3hr precip_accumulation value')"
   ]
  },
  {
   "cell_type": "code",
   "execution_count": 44,
   "id": "43385cc4-b515-4745-8e9c-2cfcc8624483",
   "metadata": {},
   "outputs": [],
   "source": [
    "prd_run.log_image(name='actual_vs_pred', plot=fig1, description='predicted vs actual 3hr accumulations of rainfall')"
   ]
  },
  {
   "cell_type": "code",
   "execution_count": null,
   "id": "dd4cde91-1150-4f64-87bd-443fff1d75b1",
   "metadata": {},
   "outputs": [],
   "source": []
  },
  {
   "cell_type": "code",
   "execution_count": 64,
   "id": "f1c2e870-c303-4338-82a7-b3a6ce3e48ce",
   "metadata": {},
   "outputs": [
    {
     "name": "stdout",
     "output_type": "stream",
     "text": [
      "INFO:tensorflow:Assets written to: /tmp/tmpu12z5a_f/pipeline_demo_20220414/assets\n"
     ]
    }
   ],
   "source": [
    "with tempfile.TemporaryDirectory() as td1:\n",
    "    model_save_path = pathlib.Path(td1) / prd_model_name\n",
    "    model.save(model_save_path)\n",
    "    prd_run.upload_folder(name=prd_model_name, path=str(model_save_path))\n",
    "    prd_run.register_model(prd_model_name, prd_model_name + '/')\n"
   ]
  },
  {
   "cell_type": "code",
   "execution_count": 65,
   "id": "b6a95931-bf51-479e-b9bc-c29fb11059a9",
   "metadata": {},
   "outputs": [],
   "source": [
    "prd_run.complete()"
   ]
  },
  {
   "cell_type": "markdown",
   "id": "98313672",
   "metadata": {},
   "source": [
    "## Control member only plots"
   ]
  },
  {
   "cell_type": "code",
   "execution_count": 66,
   "id": "fe736cd6-bd0a-4edc-854b-33fbe313f51e",
   "metadata": {},
   "outputs": [
    {
     "data": {
      "text/html": [
       "<table style=\"width:100%\"><tr><th>Experiment</th><th>Id</th><th>Type</th><th>Status</th><th>Details Page</th><th>Docs Page</th></tr><tr><td>prd_mlops_test</td><td>41b6e578-7a3d-4e39-aa93-d6fb3378cf84</td><td></td><td>Running</td><td><a href=\"https://ml.azure.com/runs/41b6e578-7a3d-4e39-aa93-d6fb3378cf84?wsid=/subscriptions/07efdc52-cd27-48ed-9443-3aad2b6b777b/resourcegroups/precip_rediagnosis/workspaces/precip_rediagnosis&amp;tid=14fec308-b428-4380-b914-c1940f3210f1\" target=\"_blank\" rel=\"noopener\">Link to Azure Machine Learning studio</a></td><td><a href=\"https://docs.microsoft.com/en-us/python/api/azureml-core/azureml.core.run.Run?view=azure-ml-py\" target=\"_blank\" rel=\"noopener\">Link to Documentation</a></td></tr></table>"
      ],
      "text/plain": [
       "Run(Experiment: prd_mlops_test,\n",
       "Id: 41b6e578-7a3d-4e39-aa93-d6fb3378cf84,\n",
       "Type: None,\n",
       "Status: Running)"
      ]
     },
     "execution_count": 66,
     "metadata": {},
     "output_type": "execute_result"
    }
   ],
   "source": [
    "prd_run"
   ]
  },
  {
   "cell_type": "code",
   "execution_count": null,
   "id": "3c97bc8f",
   "metadata": {},
   "outputs": [],
   "source": [
    "import matplotlib.pyplot as plt\n",
    "plt.figure(figsize=(10, 8))\n",
    "\n",
    "plt.plot(training_hist_df.epoch, training_hist_df.loss, label='training')\n",
    "plt.plot(training_hist_df.epoch, training_hist_df.val_loss, c='g', label='validation')\n",
    "plt.legend()\n",
    "plt.ylabel('MAE [mm of precipitation]')\n",
    "plt.xlabel('epochs')\n",
    "plt.title('control member only')\n",
    "plt.show()"
   ]
  },
  {
   "cell_type": "code",
   "execution_count": null,
   "id": "1e95e7cb",
   "metadata": {},
   "outputs": [],
   "source": [
    "y_pred = model.predict(X_test)\n",
    "\n",
    "plt.figure(figsize=(10, 8))\n",
    "\n",
    "plt.scatter(y_test, y_pred, s=200, c='darkblue')\n",
    "plt.gca().plot([0, 300], [0, 300], ls=\"--\", c=\".3\")\n",
    "\n",
    "plt.xlabel('Actual 3hr precip accumulation value')\n",
    "plt.ylabel('Predicted 3hr precip_accumulation value')\n",
    "plt.show()"
   ]
  },
  {
   "cell_type": "code",
   "execution_count": null,
   "id": "e5a167cb",
   "metadata": {},
   "outputs": [],
   "source": [
    "from sklearn.metrics import mean_absolute_error, r2_score\n",
    "error = mean_absolute_error(y_test, y_pred)\n",
    "print(f'MAE: {error:.3f}')\n",
    "\n",
    "rsqrd = r2_score(y_test, y_pred)\n",
    "print(f'R-squared score: {rsqrd:.3f}')"
   ]
  },
  {
   "cell_type": "code",
   "execution_count": null,
   "id": "546fe432",
   "metadata": {},
   "outputs": [],
   "source": [
    "plt.figure(figsize=(10, 8))\n",
    "plt.hist(y_test, alpha=0.5, bins=25, label='Actual')\n",
    "plt.hist(y_pred, alpha=0.5, bins=25, label='Predicted')\n",
    "plt.legend()\n",
    "plt.show()"
   ]
  }
 ],
 "metadata": {
  "kernelspec": {
   "display_name": "Python 3",
   "language": "python",
   "name": "python3"
  },
  "language_info": {
   "codemirror_mode": {
    "name": "ipython",
    "version": 3
   },
   "file_extension": ".py",
   "mimetype": "text/x-python",
   "name": "python",
   "nbconvert_exporter": "python",
   "pygments_lexer": "ipython3",
   "version": "3.8.1"
  }
 },
 "nbformat": 4,
 "nbformat_minor": 5
}
