{
 "cells": [
  {
   "cell_type": "markdown",
   "id": "ab1bbb98-47fb-42a8-8c95-68294bbc5f57",
   "metadata": {},
   "source": [
    "# HyperDrive demo notebook"
   ]
  },
  {
   "cell_type": "markdown",
   "id": "132d2586-62ec-4dd8-8b13-888d24b45b6a",
   "metadata": {},
   "source": [
    "This notebook will demostrate the use of the AzureML tool HyperDrive which allows for distributed hyperparameter tuning."
   ]
  },
  {
   "cell_type": "markdown",
   "id": "c89219fc-6c15-4b08-a09b-7e1a275e28ae",
   "metadata": {},
   "source": [
    " Hyperparameters are used to control the training of a machine learning model and hyperparameter tuning is the problem of choosing a set of optimal hyperparameters for a learning algorithm for the specific application. This requires compiling and training a model over and over with different combinations of hyperparameters in a defined hyperparameter space, so the process can be very time intensive. Parallelising this processing can significantly increase the time efficiency of this process. "
   ]
  },
  {
   "cell_type": "markdown",
   "id": "b1341576-e4df-4be6-8d47-e8dc1e7291dd",
   "metadata": {},
   "source": [
    "The environment that this notebook works best with is: <b>Python 3.8 - AzureML </b>"
   ]
  },
  {
   "cell_type": "code",
   "execution_count": 1,
   "id": "70cc5013-7b6d-44f5-a7dc-0a1f3504b6da",
   "metadata": {},
   "outputs": [],
   "source": [
    "%matplotlib inline"
   ]
  },
  {
   "cell_type": "code",
   "execution_count": 39,
   "id": "cac78348-84b7-4fa0-b17d-ba1f6e49aacb",
   "metadata": {},
   "outputs": [],
   "source": [
    "import tempfile"
   ]
  },
  {
   "cell_type": "code",
   "execution_count": 2,
   "id": "preliminary-idaho",
   "metadata": {},
   "outputs": [],
   "source": [
    "import pandas as pd\n",
    "import numpy as np\n",
    "import pathlib\n",
    "import matplotlib.pyplot as plt"
   ]
  },
  {
   "cell_type": "code",
   "execution_count": 3,
   "id": "06959be2",
   "metadata": {},
   "outputs": [],
   "source": [
    "from sklearn.model_selection import train_test_split\n",
    "from sklearn.preprocessing import StandardScaler"
   ]
  },
  {
   "cell_type": "code",
   "execution_count": 4,
   "id": "6174c25d-ba3c-4ac7-bcca-a3d6f107aeda",
   "metadata": {},
   "outputs": [],
   "source": [
    "import prd_pipeline"
   ]
  },
  {
   "cell_type": "markdown",
   "id": "1d725a1c-81b0-4aee-8153-1adc1f398ea4",
   "metadata": {},
   "source": [
    "## Set up azure experiment\n"
   ]
  },
  {
   "cell_type": "code",
   "execution_count": 5,
   "id": "3aff8274-8f96-45d5-92ba-49b2b4569fc3",
   "metadata": {},
   "outputs": [],
   "source": [
    "import azureml.core\n",
    "from azureml.core import Workspace, Datastore, Dataset, Environment\n",
    "from azureml.core import Experiment, ComputeTarget, ScriptRunConfig"
   ]
  },
  {
   "cell_type": "code",
   "execution_count": 6,
   "id": "c4b67b3e-6f9a-4fc5-b555-481a45ccfd28",
   "metadata": {},
   "outputs": [],
   "source": [
    "prd_ws = Workspace.from_config()"
   ]
  },
  {
   "cell_type": "code",
   "execution_count": 7,
   "id": "35b08e0c-51b2-4c63-9716-64cbb64f9150",
   "metadata": {},
   "outputs": [],
   "source": [
    "azure_experiment_name='prd_fraction_models'\n",
    "azure_env_name = 'prd_ml_cluster'\n",
    "cluster_name = 'prd-ml-fractions-cluster'"
   ]
  },
  {
   "cell_type": "code",
   "execution_count": 8,
   "id": "eb2d0171-1034-4f27-bc3b-d60dd393d943",
   "metadata": {},
   "outputs": [],
   "source": [
    "prd_model_name = 'azml_fractions_cluster_hpt'"
   ]
  },
  {
   "cell_type": "code",
   "execution_count": 9,
   "id": "d9c6b52c",
   "metadata": {},
   "outputs": [],
   "source": [
    "target_parameter = [\n",
    "    'radar_fraction_in_band_instant_0.0',\n",
    "    'radar_fraction_in_band_instant_0.25',\n",
    "    'radar_fraction_in_band_instant_2.5',\n",
    "    'radar_fraction_in_band_instant_7.0',\n",
    "    'radar_fraction_in_band_instant_10.0'\n",
    "]\n",
    "# target_parameter = 'radar_mean_rain_instant'\n",
    "profile_features = ['air_temperature', 'relative_humidity']\n",
    "single_lvl_features = [] #'air_pressure_at_sea_level'"
   ]
  },
  {
   "cell_type": "code",
   "execution_count": 10,
   "id": "d242effe-aaf7-4fc9-8ac8-76df2d31e20d",
   "metadata": {},
   "outputs": [],
   "source": [
    "feature_dict = {\n",
    "    'profile': profile_features,\n",
    "    'single_level': single_lvl_features,\n",
    "    'target': target_parameter,\n",
    "} "
   ]
  },
  {
   "cell_type": "code",
   "execution_count": 11,
   "id": "db8803a5-41f8-46a7-afcc-5e83b8bcec52",
   "metadata": {},
   "outputs": [
    {
     "data": {
      "text/html": [
       "<table style=\"width:100%\"><tr><th>Name</th><th>Workspace</th><th>Report Page</th><th>Docs Page</th></tr><tr><td>prd_fraction_models</td><td>precip_rediagnosis</td><td><a href=\"https://ml.azure.com/experiments/id/7ccf9441-4968-4c88-9b08-154061256d80?wsid=/subscriptions/07efdc52-cd27-48ed-9443-3aad2b6b777b/resourcegroups/precip_rediagnosis/workspaces/precip_rediagnosis&amp;tid=14fec308-b428-4380-b914-c1940f3210f1\" target=\"_blank\" rel=\"noopener\">Link to Azure Machine Learning studio</a></td><td><a href=\"https://docs.microsoft.com/en-us/python/api/azureml-core/azureml.core.experiment.Experiment?view=azure-ml-py\" target=\"_blank\" rel=\"noopener\">Link to Documentation</a></td></tr></table>"
      ],
      "text/plain": [
       "Experiment(Name: prd_fraction_models,\n",
       "Workspace: precip_rediagnosis)"
      ]
     },
     "execution_count": 11,
     "metadata": {},
     "output_type": "execute_result"
    }
   ],
   "source": [
    "prd_exp = Experiment(workspace=prd_ws, name=azure_experiment_name)\n",
    "prd_exp"
   ]
  },
  {
   "cell_type": "markdown",
   "id": "53da16db-dade-4d96-ac38-a6befff7a589",
   "metadata": {},
   "source": [
    "Get the AzML environment (basically a conda environment) from the workspace."
   ]
  },
  {
   "cell_type": "code",
   "execution_count": 12,
   "id": "4847ea97-c949-4cd5-a214-b028a3e531ef",
   "metadata": {},
   "outputs": [],
   "source": [
    "# test_run = azureml.core.get_run(prd_exp, 'HD_18fd3ffb-6021-4845-88d0-e706c643a9fa')"
   ]
  },
  {
   "cell_type": "code",
   "execution_count": 13,
   "id": "ec6a8dc0-f36d-49af-994d-92c7f63453aa",
   "metadata": {},
   "outputs": [],
   "source": [
    "# test_run.get_best_run_by_primary_metric()"
   ]
  },
  {
   "cell_type": "code",
   "execution_count": 14,
   "id": "16a304bb-23d4-40e3-a0f6-9628efe621dc",
   "metadata": {},
   "outputs": [
    {
     "data": {
      "text/plain": [
       "{\n",
       "    \"assetId\": \"azureml://locations/uksouth/workspaces/57546dc9-9763-4025-831d-c19991c81540/environments/prd_ml_cluster/versions/4\",\n",
       "    \"databricks\": {\n",
       "        \"eggLibraries\": [],\n",
       "        \"jarLibraries\": [],\n",
       "        \"mavenLibraries\": [],\n",
       "        \"pypiLibraries\": [],\n",
       "        \"rcranLibraries\": []\n",
       "    },\n",
       "    \"docker\": {\n",
       "        \"arguments\": [],\n",
       "        \"baseDockerfile\": null,\n",
       "        \"baseImage\": \"azureml/openmpi3.1.2-cuda10.2-cudnn8-ubuntu18.04\",\n",
       "        \"baseImageRegistry\": {\n",
       "            \"address\": \"mcr.microsoft.com\",\n",
       "            \"password\": null,\n",
       "            \"registryIdentity\": null,\n",
       "            \"username\": null\n",
       "        },\n",
       "        \"buildContext\": null,\n",
       "        \"enabled\": false,\n",
       "        \"platform\": {\n",
       "            \"architecture\": \"amd64\",\n",
       "            \"os\": \"Linux\"\n",
       "        },\n",
       "        \"sharedVolumes\": true,\n",
       "        \"shmSize\": null\n",
       "    },\n",
       "    \"environmentVariables\": {},\n",
       "    \"inferencingStackVersion\": null,\n",
       "    \"name\": \"prd_ml_cluster\",\n",
       "    \"python\": {\n",
       "        \"baseCondaEnvironment\": null,\n",
       "        \"condaDependencies\": {\n",
       "            \"channels\": [\n",
       "                \"conda-forge\"\n",
       "            ],\n",
       "            \"dependencies\": [\n",
       "                \"python=3.8\",\n",
       "                \"pandas=1.3\",\n",
       "                \"scikit-learn=1.0\",\n",
       "                \"tensorflow=2.8\",\n",
       "                \"pip\",\n",
       "                {\n",
       "                    \"pip\": [\n",
       "                        \"azureml-defaults\"\n",
       "                    ]\n",
       "                }\n",
       "            ],\n",
       "            \"name\": \"prd_ml_cluster_azml\"\n",
       "        },\n",
       "        \"condaDependenciesFile\": null,\n",
       "        \"interpreterPath\": null,\n",
       "        \"userManagedDependencies\": false\n",
       "    },\n",
       "    \"r\": null,\n",
       "    \"spark\": {\n",
       "        \"packages\": [],\n",
       "        \"precachePackages\": true,\n",
       "        \"repositories\": []\n",
       "    },\n",
       "    \"version\": \"4\"\n",
       "}"
      ]
     },
     "execution_count": 14,
     "metadata": {},
     "output_type": "execute_result"
    }
   ],
   "source": [
    "prd_env = Environment.get(workspace=prd_ws, name=azure_env_name)\n",
    "prd_env"
   ]
  },
  {
   "cell_type": "markdown",
   "id": "wireless-investing",
   "metadata": {
    "tags": []
   },
   "source": [
    "### Load data"
   ]
  },
  {
   "cell_type": "markdown",
   "id": "51ee5da7-5829-4618-af04-17c9cf53473d",
   "metadata": {},
   "source": [
    "Use prd_pipeline to load and preprocess data"
   ]
  },
  {
   "cell_type": "code",
   "execution_count": 15,
   "id": "cb1ab6f8-11c8-458f-8ba5-eb51b4767665",
   "metadata": {},
   "outputs": [],
   "source": [
    "load_all = False"
   ]
  },
  {
   "cell_type": "code",
   "execution_count": 16,
   "id": "b6f915e1-b3bc-49d2-b61d-722d74fcab9b",
   "metadata": {},
   "outputs": [],
   "source": [
    "if load_all:\n",
    "    prd_azml_dataset_name = 'prd_merged_all_events_files'\n",
    "else:\n",
    "    prd_azml_dataset_name = 'prd_merged_202110_nswws_amber_oct_files'\n",
    "prd_azml_dataset = azureml.core.Dataset.get_by_name(prd_ws, name=prd_azml_dataset_name)"
   ]
  },
  {
   "cell_type": "code",
   "execution_count": 17,
   "id": "d9ef4f65-701d-48b8-9000-c4ed6bb95ddc",
   "metadata": {},
   "outputs": [],
   "source": [
    "prd_prefix = 'prd'\n",
    "merged_prefix = prd_prefix + '_merged'\n",
    "csv_file_suffix = 'csv'"
   ]
  },
  {
   "cell_type": "code",
   "execution_count": 18,
   "id": "d7243f14-bdd5-4348-ad0e-bf8729197580",
   "metadata": {},
   "outputs": [],
   "source": [
    "import datetime\n",
    "log_dir = 'logs/fit/' + datetime.datetime.now().strftime('%Y%m%d-%H%M%S')"
   ]
  },
  {
   "cell_type": "markdown",
   "id": "6879705d-02a5-457a-81dd-a2efcc3a0d3c",
   "metadata": {
    "tags": []
   },
   "source": [
    "### Execute our training run on a cluster with hyperdrive for parallelised hyperparameter tuning"
   ]
  },
  {
   "cell_type": "code",
   "execution_count": 19,
   "id": "a7a3dbb3-5277-4bb8-924e-de9f5e3f5975",
   "metadata": {},
   "outputs": [],
   "source": [
    "from azureml.train.hyperdrive import RandomParameterSampling, GridParameterSampling, BanditPolicy, HyperDriveConfig, PrimaryMetricGoal\n",
    "from azureml.train.hyperdrive import choice, loguniform"
   ]
  },
  {
   "cell_type": "code",
   "execution_count": 20,
   "id": "ee033e3d-f70c-4833-827e-c47272b8327f",
   "metadata": {},
   "outputs": [
    {
     "data": {
      "text/plain": [
       "AmlCompute(workspace=Workspace.create(name='precip_rediagnosis', subscription_id='07efdc52-cd27-48ed-9443-3aad2b6b777b', resource_group='precip_rediagnosis'), name=prd-ml-fractions-cluster, id=/subscriptions/07efdc52-cd27-48ed-9443-3aad2b6b777b/resourceGroups/precip_rediagnosis/providers/Microsoft.MachineLearningServices/workspaces/precip_rediagnosis/computes/prd-ml-fractions-cluster, type=AmlCompute, provisioning_state=Succeeded, location=uksouth, tags={})"
      ]
     },
     "execution_count": 20,
     "metadata": {},
     "output_type": "execute_result"
    }
   ],
   "source": [
    "prd_demo_compute_target = ComputeTarget(workspace=prd_ws, name=cluster_name)\n",
    "prd_demo_compute_target"
   ]
  },
  {
   "cell_type": "markdown",
   "id": "f6cc6baf-36fc-4ab5-a1c3-d0efcb4eb606",
   "metadata": {},
   "source": [
    "Hyperparameters that we want to vary using hyperdrive need to be input arguments for the prd_cluster_train_demo.py script which is called through ScriptRunConfig. Hyperparameters set in prd_demo_args will be overwritten by Hyperdrive. "
   ]
  },
  {
   "cell_type": "code",
   "execution_count": 21,
   "id": "3a62443a-febf-44a3-85ee-7d0d835ab6c2",
   "metadata": {},
   "outputs": [],
   "source": [
    "nepochs = 1"
   ]
  },
  {
   "cell_type": "code",
   "execution_count": 22,
   "id": "6581fbf3-ec63-4ddb-9346-c1db7f6ff527",
   "metadata": {},
   "outputs": [
    {
     "data": {
      "text/plain": [
       "['--dataset-name',\n",
       " 'prd_merged_202110_nswws_amber_oct_files',\n",
       " '--model-name',\n",
       " 'azml_fractions_cluster_hpt',\n",
       " '--test-fraction',\n",
       " 0.2,\n",
       " '--target-parameter',\n",
       " 'radar_fraction_in_band_instant_0.0',\n",
       " 'radar_fraction_in_band_instant_0.25',\n",
       " 'radar_fraction_in_band_instant_2.5',\n",
       " 'radar_fraction_in_band_instant_7.0',\n",
       " 'radar_fraction_in_band_instant_10.0',\n",
       " '--profile-features',\n",
       " 'air_temperature',\n",
       " 'relative_humidity',\n",
       " '--single-level_features',\n",
       " '--epochs',\n",
       " 1,\n",
       " '--batch-size',\n",
       " 128,\n",
       " '--learning-rate',\n",
       " 0.01,\n",
       " '--test-fraction',\n",
       " 0.2,\n",
       " '--log-dir',\n",
       " './logs']"
      ]
     },
     "execution_count": 22,
     "metadata": {},
     "output_type": "execute_result"
    }
   ],
   "source": [
    "prd_demo_args = ['--dataset-name', prd_azml_dataset_name,\n",
    "                 '--model-name', prd_model_name, \n",
    "                 '--test-fraction', 0.2,\n",
    "                ]\n",
    "prd_demo_args += ['--target-parameter']\n",
    "prd_demo_args += target_parameter\n",
    "prd_demo_args += ['--profile-features']\n",
    "prd_demo_args += profile_features\n",
    "prd_demo_args += ['--single-level_features']\n",
    "prd_demo_args += single_lvl_features\n",
    "prd_demo_args += ['--epochs', nepochs]\n",
    "prd_demo_args += ['--batch-size', 128]\n",
    "prd_demo_args += ['--learning-rate', 0.01]\n",
    "prd_demo_args += ['--test-fraction', 0.2]\n",
    "prd_demo_args += ['--log-dir', './logs']\n",
    "\n",
    "prd_demo_args"
   ]
  },
  {
   "cell_type": "code",
   "execution_count": 23,
   "id": "a552930a-a4d3-477c-9486-0071247cf723",
   "metadata": {},
   "outputs": [],
   "source": [
    "prd_run_src = ScriptRunConfig(\n",
    "    source_directory=os.getcwd(),\n",
    "    script='prd_cluster_train_demo.py',\n",
    "    arguments=prd_demo_args,\n",
    "    compute_target=prd_demo_compute_target,\n",
    "    environment=prd_env\n",
    ")"
   ]
  },
  {
   "cell_type": "markdown",
   "id": "bd0125cb-3a5f-4706-bad3-c1ca03a2779d",
   "metadata": {
    "tags": []
   },
   "source": [
    "### HyperDrive configuration"
   ]
  },
  {
   "cell_type": "markdown",
   "id": "ee8e8844-33bd-4c68-beab-7085cc05b2b9",
   "metadata": {},
   "source": [
    "The next step is to configure our HyperDrive run. The run config defined above is passed to our HyperDriveConfig as the run_config. We must provide a <code>hyperparameter_sampling</code> explained in more detail below. We are required to also provide the <code>primary_metric_name</code> (either be the models loss function or a metric define when compiling the model) and the <code>primary_metric_goal</code> to either minimize or maximize this metric. We must also define <code>max_total_runs</code> (the upper bound of the number of runs, may be smaller depending on the defined hyperparameter space and sampling strategy) and <code>max_concurrent_runs</code>, if this is set to None all run are launched in parallel.\n",
    "There is also the option to define an early stopping policy with the <code>policy</code> argument."
   ]
  },
  {
   "cell_type": "markdown",
   "id": "167355bf-5a04-44d6-9273-04f465e87df3",
   "metadata": {},
   "source": [
    "#### Hyperparameter sampling"
   ]
  },
  {
   "cell_type": "markdown",
   "id": "32082137-3ea6-4818-934e-aa28fdbc58fe",
   "metadata": {},
   "source": [
    "There are three different classes for sampling the hyperparameter space: \n",
    "- <code>GridParameterSampling</code>: define a search space as a grid of hyperparameter based on the given hyperparameter space, then evaluates every position in the grid in order (note if max_total_runs < total potential combinations, then this will only run a subsample of the grid).\n",
    "- <code>RandomParameterSampling</code>: randomly samples hyperparameter combinations from the hyperparameter space \n",
    "- <code>BayesianParameterSampling</code>: defines Bayesian sampling over a hyperparameter space, tries to intelligently pick the next sample of hyperparameters based on how the previous samples performed."
   ]
  },
  {
   "cell_type": "markdown",
   "id": "21fd446e-b6e3-4645-8f09-0f0da67da0e7",
   "metadata": {},
   "source": [
    "We then define the hyperparameter space from which to select the combination of hyperparameters to assess. The hyperparameters that we want to tune should be input arguments to the script which is being run by ScriptRunConfig and any hyperparameter arguments that are input will be overwritten by hyperdrive."
   ]
  },
  {
   "cell_type": "markdown",
   "id": "d45e4a7f-cc5e-44c1-b2f5-c268cf0660ca",
   "metadata": {},
   "source": [
    "In AzureML, there are different ways to define the set to sample each hyperparameters from (<code>choice</code>, <code>lognormal</code>, <code>loguniform</code>, <code>normal</code>, <code>qlognormal</code>, <code>qloguniform</code>, <code>qnormal</code>, <code>quniform</code>, <code>randint</code> and <code>uniform</code>)."
   ]
  },
  {
   "cell_type": "code",
   "execution_count": 24,
   "id": "9671b840-0b15-4933-bc53-e5f405d197b5",
   "metadata": {},
   "outputs": [],
   "source": [
    "ps = RandomParameterSampling(\n",
    "    {\n",
    "        '--batch-size': choice(32, 64, 128),\n",
    "        '--learning-rate': choice(0.1, 0.01, 0.001, 0.0001),\n",
    "        '--epochs': choice(10, 20, 50, 100)\n",
    "    }\n",
    ")"
   ]
  },
  {
   "cell_type": "markdown",
   "id": "ab24eb43-359f-4f06-aaad-a6b7cbc25dba",
   "metadata": {},
   "source": [
    "#### Early stopping policy"
   ]
  },
  {
   "cell_type": "markdown",
   "id": "3147b493-4ab8-4c1a-8b7f-28171b60f105",
   "metadata": {},
   "source": [
    "We can define an early stopping policy in which means that any poorly performing experiment runs are canceled and new ones started. Here we use BanditPolicy with a slack criteria of 0.1 (the ratio of slack allowed with respect to the best performing training run) and evaluation internal of 2 (the frequency for applying the policy, here every two training steps)."
   ]
  },
  {
   "cell_type": "code",
   "execution_count": 25,
   "id": "6444f095-f0bd-4d26-918c-fc2a3e9ee33a",
   "metadata": {},
   "outputs": [],
   "source": [
    "early_stop_policy = BanditPolicy(evaluation_interval=2, slack_factor=0.1)"
   ]
  },
  {
   "cell_type": "code",
   "execution_count": 26,
   "id": "bbdf1f6c-7b43-4ea4-8adb-137625dc05fa",
   "metadata": {},
   "outputs": [],
   "source": [
    "htc = HyperDriveConfig(run_config=prd_run_src, \n",
    "                       hyperparameter_sampling=ps, \n",
    "                       policy=early_stop_policy, \n",
    "                       primary_metric_name='val_loss', \n",
    "                       primary_metric_goal=PrimaryMetricGoal.MINIMIZE, \n",
    "                       max_total_runs=18,\n",
    "                       max_concurrent_runs=12)"
   ]
  },
  {
   "cell_type": "markdown",
   "id": "289a6909-d3f1-44c3-9178-2122015366f3",
   "metadata": {
    "tags": []
   },
   "source": [
    "### HyperDrive running"
   ]
  },
  {
   "cell_type": "code",
   "execution_count": 27,
   "id": "45f03b05-46da-4901-9dba-3551bc683bbb",
   "metadata": {},
   "outputs": [
    {
     "data": {
      "text/plain": [
       "<azureml.core.script_run_config.ScriptRunConfig at 0x7efebd770b50>"
      ]
     },
     "execution_count": 27,
     "metadata": {},
     "output_type": "execute_result"
    }
   ],
   "source": [
    "prd_run_src"
   ]
  },
  {
   "cell_type": "code",
   "execution_count": 28,
   "id": "26f24060-af81-4ab6-b1cd-37e92997c493",
   "metadata": {},
   "outputs": [
    {
     "data": {
      "text/html": [
       "<table style=\"width:100%\"><tr><th>Experiment</th><th>Id</th><th>Type</th><th>Status</th><th>Details Page</th><th>Docs Page</th></tr><tr><td>prd_fraction_models</td><td>HD_137bff59-1a21-4445-9605-1f326007c23e</td><td>hyperdrive</td><td>Running</td><td><a href=\"https://ml.azure.com/runs/HD_137bff59-1a21-4445-9605-1f326007c23e?wsid=/subscriptions/07efdc52-cd27-48ed-9443-3aad2b6b777b/resourcegroups/precip_rediagnosis/workspaces/precip_rediagnosis&amp;tid=14fec308-b428-4380-b914-c1940f3210f1\" target=\"_blank\" rel=\"noopener\">Link to Azure Machine Learning studio</a></td><td><a href=\"https://docs.microsoft.com/en-us/python/api/overview/azure/ml/intro?view=azure-ml-py\" target=\"_blank\" rel=\"noopener\">Link to Documentation</a></td></tr></table>"
      ],
      "text/plain": [
       "Run(Experiment: prd_fraction_models,\n",
       "Id: HD_137bff59-1a21-4445-9605-1f326007c23e,\n",
       "Type: hyperdrive,\n",
       "Status: Running)"
      ]
     },
     "execution_count": 28,
     "metadata": {},
     "output_type": "execute_result"
    }
   ],
   "source": [
    "prd_run = prd_exp.submit(htc)\n",
    "prd_run"
   ]
  },
  {
   "cell_type": "code",
   "execution_count": 29,
   "id": "3cb170ad-9357-40de-9e25-9530f34ce577",
   "metadata": {},
   "outputs": [],
   "source": [
    "import azureml.tensorboard"
   ]
  },
  {
   "cell_type": "code",
   "execution_count": 30,
   "id": "06ca514a-40b5-47f8-b342-0dcf72eeb545",
   "metadata": {},
   "outputs": [
    {
     "name": "stdout",
     "output_type": "stream",
     "text": [
      "https://prd-ml-pipeline-6006.uksouth.instances.azureml.ms\n"
     ]
    },
    {
     "data": {
      "text/plain": [
       "'https://prd-ml-pipeline-6006.uksouth.instances.azureml.ms'"
      ]
     },
     "execution_count": 30,
     "metadata": {},
     "output_type": "execute_result"
    }
   ],
   "source": [
    "tb = azureml.tensorboard.Tensorboard([prd_run])\n",
    "\n",
    "# If successful, start() returns a string with the URI of the instance.\n",
    "tb.start()"
   ]
  },
  {
   "cell_type": "code",
   "execution_count": 31,
   "id": "30802214-52fe-45fb-816e-c5d72001c208",
   "metadata": {},
   "outputs": [],
   "source": [
    "prd_run.wait_for_completion()\n",
    "assert(prd_run.get_status() == \"Completed\")"
   ]
  },
  {
   "cell_type": "markdown",
   "id": "0e4d7f93-6215-4a88-a4fa-92f20fb64235",
   "metadata": {},
   "source": [
    "### HyperDrive results"
   ]
  },
  {
   "cell_type": "markdown",
   "id": "be204b61-73df-4ce0-868d-82469a75b1cf",
   "metadata": {},
   "source": [
    "We can then select the model which performs best against the selected primary metric, as defined within the HyperDriveConfig."
   ]
  },
  {
   "cell_type": "markdown",
   "id": "b8f22322-06bd-4a4b-a50a-7f0899261bce",
   "metadata": {},
   "source": [
    "Get the best trained model from the hyper drive run and load in the trained weights ready for inference."
   ]
  },
  {
   "cell_type": "code",
   "execution_count": 32,
   "id": "9e020a4a-d129-466d-8d65-b9b144002d57",
   "metadata": {},
   "outputs": [
    {
     "data": {
      "text/html": [
       "<table style=\"width:100%\"><tr><th>Experiment</th><th>Id</th><th>Type</th><th>Status</th><th>Details Page</th><th>Docs Page</th></tr><tr><td>prd_fraction_models</td><td>HD_137bff59-1a21-4445-9605-1f326007c23e_17</td><td>azureml.scriptrun</td><td>Completed</td><td><a href=\"https://ml.azure.com/runs/HD_137bff59-1a21-4445-9605-1f326007c23e_17?wsid=/subscriptions/07efdc52-cd27-48ed-9443-3aad2b6b777b/resourcegroups/precip_rediagnosis/workspaces/precip_rediagnosis&amp;tid=14fec308-b428-4380-b914-c1940f3210f1\" target=\"_blank\" rel=\"noopener\">Link to Azure Machine Learning studio</a></td><td><a href=\"https://docs.microsoft.com/en-us/python/api/azureml-core/azureml.core.run.Run?view=azure-ml-py\" target=\"_blank\" rel=\"noopener\">Link to Documentation</a></td></tr></table>"
      ],
      "text/plain": [
       "Run(Experiment: prd_fraction_models,\n",
       "Id: HD_137bff59-1a21-4445-9605-1f326007c23e_17,\n",
       "Type: azureml.scriptrun,\n",
       "Status: Completed)"
      ]
     },
     "execution_count": 32,
     "metadata": {},
     "output_type": "execute_result"
    }
   ],
   "source": [
    "prd_best_run = prd_run.get_best_run_by_primary_metric()\n",
    "prd_best_run"
   ]
  },
  {
   "cell_type": "code",
   "execution_count": 42,
   "id": "59c65db3-7147-48d5-8275-078d0a25e009",
   "metadata": {},
   "outputs": [],
   "source": [
    "import tempfile"
   ]
  },
  {
   "cell_type": "code",
   "execution_count": 45,
   "id": "70b3561f-221b-4b4a-aaa3-28a884cd7f9d",
   "metadata": {},
   "outputs": [],
   "source": [
    "import tensorflow as tf"
   ]
  },
  {
   "cell_type": "code",
   "execution_count": 46,
   "id": "e4ddf1b5-115a-4311-a1e8-323ec31284a4",
   "metadata": {},
   "outputs": [
    {
     "name": "stdout",
     "output_type": "stream",
     "text": [
      "/tmp/tmpllspgjnb\n",
      "/tmp/tmpllspgjnb/azml_fractions_cluster_hpt\n"
     ]
    },
    {
     "name": "stderr",
     "output_type": "stream",
     "text": [
      "2022-09-29 11:01:44.329663: I tensorflow/core/platform/cpu_feature_guard.cc:151] This TensorFlow binary is optimized with oneAPI Deep Neural Network Library (oneDNN) to use the following CPU instructions in performance-critical operations:  SSE4.1 SSE4.2 AVX AVX2 FMA\n",
      "To enable them in other operations, rebuild TensorFlow with the appropriate compiler flags.\n"
     ]
    },
    {
     "data": {
      "text/plain": [
       "<keras.engine.functional.Functional at 0x7efebc0fa460>"
      ]
     },
     "execution_count": 46,
     "metadata": {},
     "output_type": "execute_result"
    }
   ],
   "source": [
    "with tempfile.TemporaryDirectory() as td1:\n",
    "    td_path = pathlib.Path(td1)\n",
    "    print(td_path)\n",
    "    prd_best_run.download_files(prefix=prd_model_name, output_directory=td1)\n",
    "    model_path = td_path / prd_model_name\n",
    "    print(model_path)\n",
    "    list(model_path.iterdir())\n",
    "    trained_model = tf.keras.models.load_model(model_path)\n",
    "trained_model"
   ]
  },
  {
   "cell_type": "code",
   "execution_count": 51,
   "id": "0c52199b-4b88-41b4-87f9-021bfdc518d7",
   "metadata": {},
   "outputs": [],
   "source": [
    "import importlib\n"
   ]
  },
  {
   "cell_type": "code",
   "execution_count": 57,
   "id": "63d3a1d7-22be-4e3e-ac47-46da69530c72",
   "metadata": {},
   "outputs": [
    {
     "data": {
      "text/plain": [
       "<module 'prd_pipeline' from '/mnt/batch/tasks/shared/LS_root/mounts/clusters/prd-ml-pipeline/code/Users/stephen.haddad/prd_fractional/fractions_model_pipeline/prd_pipeline.py'>"
      ]
     },
     "execution_count": 57,
     "metadata": {},
     "output_type": "execute_result"
    }
   ],
   "source": [
    "importlib.reload(prd_pipeline)"
   ]
  },
  {
   "cell_type": "code",
   "execution_count": 58,
   "id": "b0fcee75-5435-429c-8c41-544a3eee4271",
   "metadata": {},
   "outputs": [
    {
     "name": "stdout",
     "output_type": "stream",
     "text": [
      "Volume mount is not enabled. \n",
      "Falling back to dataflow mount.\n",
      "loading all event data\n",
      "CPU times: user 6.28 s, sys: 915 ms, total: 7.2 s\n",
      "Wall time: 14.1 s\n"
     ]
    }
   ],
   "source": [
    "%%time\n",
    "input_data = prd_pipeline.load_data(\n",
    "    prd_ws,\n",
    "    dataset_name=prd_azml_dataset_name\n",
    ")"
   ]
  },
  {
   "cell_type": "code",
   "execution_count": 59,
   "id": "03e35be4-6549-4c19-b5c0-7d26f89dad0a",
   "metadata": {},
   "outputs": [],
   "source": [
    "do_save_split = False"
   ]
  },
  {
   "cell_type": "code",
   "execution_count": 60,
   "id": "503cf704-38dd-4679-a32b-e8a6f0d9f32b",
   "metadata": {},
   "outputs": [
    {
     "name": "stdout",
     "output_type": "stream",
     "text": [
      "target has dims: 5\n",
      "dropping smallest bin: radar_fraction_in_band_instant_0.0\n",
      "getting profile columns\n",
      "{'nprof_features': 2, 'nheights': 33, 'nsinglvl_features': 0, 'nbands': 5}\n",
      "CPU times: user 1.06 s, sys: 930 ms, total: 1.99 s\n",
      "Wall time: 2.21 s\n"
     ]
    }
   ],
   "source": [
    "%%time\n",
    "if do_save_split:\n",
    "    data_splits, data_dims = prd_pipeline.preprocess_data(\n",
    "        input_data,\n",
    "        test_fraction=0.2,\n",
    "        feature_dict={'profile': profile_features, 'single_level': single_lvl_features,'target': target_parameter,},\n",
    "        test_savefn='tmp.csv',\n",
    "    )\n",
    "else:\n",
    "    data_splits, data_dims = prd_pipeline.preprocess_data(\n",
    "        input_data,\n",
    "        test_fraction=0.2,\n",
    "        feature_dict={'profile': profile_features, 'single_level': single_lvl_features,'target': target_parameter,},\n",
    "    )\n",
    "    "
   ]
  },
  {
   "cell_type": "code",
   "execution_count": 61,
   "id": "81a00910-3d2a-411f-9653-d45bfc16457f",
   "metadata": {},
   "outputs": [
    {
     "data": {
      "text/plain": [
       "array([[[ 1.24593207,  0.94569035],\n",
       "        [ 1.24593207,  0.96817307],\n",
       "        [ 1.24563983,  0.99333412],\n",
       "        ...,\n",
       "        [ 1.48791667,  1.94644632],\n",
       "        [ 1.50880768,  2.00976935],\n",
       "        [ 1.54712621,  2.08105149]],\n",
       "\n",
       "       [[ 1.14448783,  0.99757769],\n",
       "        [ 1.14448783,  1.00261662],\n",
       "        [ 1.14420951,  1.02742265],\n",
       "        ...,\n",
       "        [ 1.52299947,  1.98117967],\n",
       "        [ 1.53759727,  2.03270693],\n",
       "        [ 1.51815972,  2.12713304]],\n",
       "\n",
       "       [[ 1.26042389,  1.06676082],\n",
       "        [ 1.26042389,  1.07150371],\n",
       "        [ 1.26012966,  1.09559971],\n",
       "        ...,\n",
       "        [ 1.41137246,  1.9580241 ],\n",
       "        [ 1.41604101,  1.9638942 ],\n",
       "        [ 1.41516774,  2.01192916]],\n",
       "\n",
       "       ...,\n",
       "\n",
       "       [[-1.80463548, -1.11250763],\n",
       "        [-1.80463548, -1.15010504],\n",
       "        [-1.80450905, -1.22242037],\n",
       "        ...,\n",
       "        [-1.3123258 , -1.93211163],\n",
       "        [-1.45332854, -1.7749307 ],\n",
       "        [-1.42998588, -1.60547275]],\n",
       "\n",
       "       [[-1.99303169, -1.28546545],\n",
       "        [-1.99303169, -1.32232277],\n",
       "        [-1.9928794 , -1.39286302],\n",
       "        ...,\n",
       "        [-1.12415462, -1.90895606],\n",
       "        [-1.06946639, -1.86668101],\n",
       "        [-1.44929688, -1.69763586]],\n",
       "\n",
       "       [[-1.51479532, -1.26816966],\n",
       "        [-1.51479532, -1.305101  ],\n",
       "        [-1.51470867, -1.35877449],\n",
       "        ...,\n",
       "        [-0.83392447, -1.89737828],\n",
       "        [-1.15903422, -1.92402495],\n",
       "        [-1.2851534 , -1.90500285]]])"
      ]
     },
     "execution_count": 61,
     "metadata": {},
     "output_type": "execute_result"
    }
   ],
   "source": [
    "data_splits['X_train']"
   ]
  },
  {
   "cell_type": "markdown",
   "id": "f54bab5c-211e-4585-bd3e-c18789ca6e3a",
   "metadata": {},
   "source": [
    "We can also return information from each of the different hyperdrive child run"
   ]
  },
  {
   "cell_type": "code",
   "execution_count": 62,
   "id": "c016e102-90bd-45a9-8c7e-b8bb8d7d6ed1",
   "metadata": {},
   "outputs": [
    {
     "data": {
      "text/plain": [
       "array([[0.07449621, 0.17084315, 0.62800384, 0.12113631, 0.00552045],\n",
       "       [0.16235153, 0.24355742, 0.42113695, 0.14735422, 0.0255999 ],\n",
       "       [0.05635332, 0.26082215, 0.5709541 , 0.09801023, 0.01386014],\n",
       "       ...,\n",
       "       [0.6834262 , 0.14691615, 0.15181117, 0.01580195, 0.00204462],\n",
       "       [0.6414617 , 0.10684927, 0.21061496, 0.03631389, 0.00476021],\n",
       "       [0.6207515 , 0.12125029, 0.22463657, 0.03013871, 0.00322298]],\n",
       "      dtype=float32)"
      ]
     },
     "execution_count": 62,
     "metadata": {},
     "output_type": "execute_result"
    }
   ],
   "source": [
    "trained_model.predict(data_splits['X_val'])"
   ]
  },
  {
   "cell_type": "code",
   "execution_count": 33,
   "id": "73e0e925-cc04-414f-9f24-7b509e0c451e",
   "metadata": {},
   "outputs": [
    {
     "data": {
      "text/plain": [
       "[{'run_id': 'HD_137bff59-1a21-4445-9605-1f326007c23e_17',\n",
       "  'hyperparameters': '{\"--batch-size\": 128, \"--epochs\": 50, \"--learning-rate\": 0.001}',\n",
       "  'best_primary_metric': 0.3477984666824341,\n",
       "  'status': 'Completed'},\n",
       " {'run_id': 'HD_137bff59-1a21-4445-9605-1f326007c23e_2',\n",
       "  'hyperparameters': '{\"--batch-size\": 64, \"--epochs\": 100, \"--learning-rate\": 0.0001}',\n",
       "  'best_primary_metric': 0.37217044830322266,\n",
       "  'status': 'Completed'},\n",
       " {'run_id': 'HD_137bff59-1a21-4445-9605-1f326007c23e_11',\n",
       "  'hyperparameters': '{\"--batch-size\": 32, \"--epochs\": 50, \"--learning-rate\": 0.0001}',\n",
       "  'best_primary_metric': 0.3729400932788849,\n",
       "  'status': 'Completed'},\n",
       " {'run_id': 'HD_137bff59-1a21-4445-9605-1f326007c23e_7',\n",
       "  'hyperparameters': '{\"--batch-size\": 64, \"--epochs\": 20, \"--learning-rate\": 0.001}',\n",
       "  'best_primary_metric': 0.374253511428833,\n",
       "  'status': 'Completed'},\n",
       " {'run_id': 'HD_137bff59-1a21-4445-9605-1f326007c23e_6',\n",
       "  'hyperparameters': '{\"--batch-size\": 64, \"--epochs\": 20, \"--learning-rate\": 0.0001}',\n",
       "  'best_primary_metric': 0.394759863615036,\n",
       "  'status': 'Completed'},\n",
       " {'run_id': 'HD_137bff59-1a21-4445-9605-1f326007c23e_0',\n",
       "  'hyperparameters': '{\"--batch-size\": 64, \"--epochs\": 50, \"--learning-rate\": 0.0001}',\n",
       "  'best_primary_metric': 0.39512118697166443,\n",
       "  'status': 'Completed'},\n",
       " {'run_id': 'HD_137bff59-1a21-4445-9605-1f326007c23e_4',\n",
       "  'hyperparameters': '{\"--batch-size\": 128, \"--epochs\": 20, \"--learning-rate\": 0.0001}',\n",
       "  'best_primary_metric': 0.4039287865161896,\n",
       "  'status': 'Completed'},\n",
       " {'run_id': 'HD_137bff59-1a21-4445-9605-1f326007c23e_13',\n",
       "  'hyperparameters': '{\"--batch-size\": 128, \"--epochs\": 100, \"--learning-rate\": 0.01}',\n",
       "  'best_primary_metric': 0.4094114601612091,\n",
       "  'status': 'Completed'},\n",
       " {'run_id': 'HD_137bff59-1a21-4445-9605-1f326007c23e_9',\n",
       "  'hyperparameters': '{\"--batch-size\": 32, \"--epochs\": 10, \"--learning-rate\": 0.0001}',\n",
       "  'best_primary_metric': 0.41547659039497375,\n",
       "  'status': 'Completed'},\n",
       " {'run_id': 'HD_137bff59-1a21-4445-9605-1f326007c23e_1',\n",
       "  'hyperparameters': '{\"--batch-size\": 32, \"--epochs\": 20, \"--learning-rate\": 0.01}',\n",
       "  'best_primary_metric': 0.4184938371181488,\n",
       "  'status': 'Completed'},\n",
       " {'run_id': 'HD_137bff59-1a21-4445-9605-1f326007c23e_12',\n",
       "  'hyperparameters': '{\"--batch-size\": 128, \"--epochs\": 10, \"--learning-rate\": 0.01}',\n",
       "  'best_primary_metric': 0.4218674600124359,\n",
       "  'status': 'Completed'},\n",
       " {'run_id': 'HD_137bff59-1a21-4445-9605-1f326007c23e_14',\n",
       "  'hyperparameters': '{\"--batch-size\": 128, \"--epochs\": 10, \"--learning-rate\": 0.0001}',\n",
       "  'best_primary_metric': 0.424917608499527,\n",
       "  'status': 'Completed'},\n",
       " {'run_id': 'HD_137bff59-1a21-4445-9605-1f326007c23e_10',\n",
       "  'hyperparameters': '{\"--batch-size\": 32, \"--epochs\": 10, \"--learning-rate\": 0.01}',\n",
       "  'best_primary_metric': 0.43466490507125854,\n",
       "  'status': 'Completed'},\n",
       " {'run_id': 'HD_137bff59-1a21-4445-9605-1f326007c23e_15',\n",
       "  'hyperparameters': '{\"--batch-size\": 128, \"--epochs\": 20, \"--learning-rate\": 0.1}',\n",
       "  'best_primary_metric': 7.2281084060668945,\n",
       "  'status': 'Completed'},\n",
       " {'run_id': 'HD_137bff59-1a21-4445-9605-1f326007c23e_3',\n",
       "  'hyperparameters': '{\"--batch-size\": 64, \"--epochs\": 50, \"--learning-rate\": 0.1}',\n",
       "  'best_primary_metric': 7.4434814453125,\n",
       "  'status': 'Completed'},\n",
       " {'run_id': 'HD_137bff59-1a21-4445-9605-1f326007c23e_5',\n",
       "  'hyperparameters': '{\"--batch-size\": 64, \"--epochs\": 20, \"--learning-rate\": 0.1}',\n",
       "  'best_primary_metric': 7.50401496887207,\n",
       "  'status': 'Completed'},\n",
       " {'run_id': 'HD_137bff59-1a21-4445-9605-1f326007c23e_8',\n",
       "  'hyperparameters': '{\"--batch-size\": 128, \"--epochs\": 50, \"--learning-rate\": 0.1}',\n",
       "  'best_primary_metric': 7.741778373718262,\n",
       "  'status': 'Completed'},\n",
       " {'run_id': 'HD_137bff59-1a21-4445-9605-1f326007c23e_16',\n",
       "  'hyperparameters': '{\"--batch-size\": 64, \"--epochs\": 100, \"--learning-rate\": 0.1}',\n",
       "  'best_primary_metric': 7.932819843292236,\n",
       "  'status': 'Completed'}]"
      ]
     },
     "execution_count": 33,
     "metadata": {},
     "output_type": "execute_result"
    }
   ],
   "source": [
    "prd_run.get_children_sorted_by_primary_metric()"
   ]
  },
  {
   "cell_type": "code",
   "execution_count": 34,
   "id": "2d9bb4ee-1bfa-4c39-976e-4686172ac594",
   "metadata": {},
   "outputs": [
    {
     "data": {
      "text/plain": [
       "{'HD_137bff59-1a21-4445-9605-1f326007c23e_17': {'loss': 0.23863039910793304,\n",
       "  'accuracy': 0.7795819044113159,\n",
       "  'val_loss': 0.3477984666824341,\n",
       "  'val_accuracy': 0.7306534051895142},\n",
       " 'HD_137bff59-1a21-4445-9605-1f326007c23e_16': {'loss': 7.417075157165527,\n",
       "  'accuracy': 0.5864090919494629,\n",
       "  'val_loss': 7.932819843292236,\n",
       "  'val_accuracy': 0.5465838313102722},\n",
       " 'HD_137bff59-1a21-4445-9605-1f326007c23e_15': {'loss': 7.589364528656006,\n",
       "  'accuracy': 0.5704078674316406,\n",
       "  'val_loss': 7.2281084060668945,\n",
       "  'val_accuracy': 0.5965869426727295},\n",
       " 'HD_137bff59-1a21-4445-9605-1f326007c23e_14': {'loss': 0.39491021633148193,\n",
       "  'accuracy': 0.6904413104057312,\n",
       "  'val_loss': 0.424917608499527,\n",
       "  'val_accuracy': 0.6774212121963501},\n",
       " 'HD_137bff59-1a21-4445-9605-1f326007c23e_13': {'loss': 0.35052040219306946,\n",
       "  'accuracy': 0.7225698828697205,\n",
       "  'val_loss': 0.4094114601612091,\n",
       "  'val_accuracy': 0.6886098384857178},\n",
       " 'HD_137bff59-1a21-4445-9605-1f326007c23e_12': {'loss': 0.38068142533302307,\n",
       "  'accuracy': 0.697358250617981,\n",
       "  'val_loss': 0.4218674600124359,\n",
       "  'val_accuracy': 0.6808683276176453},\n",
       " 'HD_137bff59-1a21-4445-9605-1f326007c23e_4': {'loss': 0.387001633644104,\n",
       "  'accuracy': 0.6958295106887817,\n",
       "  'val_loss': 0.4039287865161896,\n",
       "  'val_accuracy': 0.6901465058326721},\n",
       " 'HD_137bff59-1a21-4445-9605-1f326007c23e_7': {'loss': 0.29913514852523804,\n",
       "  'accuracy': 0.7413971424102783,\n",
       "  'val_loss': 0.374253511428833,\n",
       "  'val_accuracy': 0.694473147392273},\n",
       " 'HD_137bff59-1a21-4445-9605-1f326007c23e_6': {'loss': 0.37388724088668823,\n",
       "  'accuracy': 0.6988562345504761,\n",
       "  'val_loss': 0.394759863615036,\n",
       "  'val_accuracy': 0.7008182406425476},\n",
       " 'HD_137bff59-1a21-4445-9605-1f326007c23e_0': {'loss': 0.338545560836792,\n",
       "  'accuracy': 0.7232252955436707,\n",
       "  'val_loss': 0.39512118697166443,\n",
       "  'val_accuracy': 0.6861110925674438},\n",
       " 'HD_137bff59-1a21-4445-9605-1f326007c23e_10': {'loss': 0.41937729716300964,\n",
       "  'accuracy': 0.6790469288825989,\n",
       "  'val_loss': 0.43466490507125854,\n",
       "  'val_accuracy': 0.6762129664421082},\n",
       " 'HD_137bff59-1a21-4445-9605-1f326007c23e_11': {'loss': 0.3256261646747589,\n",
       "  'accuracy': 0.7277113199234009,\n",
       "  'val_loss': 0.3729400932788849,\n",
       "  'val_accuracy': 0.7072944641113281},\n",
       " 'HD_137bff59-1a21-4445-9605-1f326007c23e_3': {'loss': 7.508174419403076,\n",
       "  'accuracy': 0.5735141038894653,\n",
       "  'val_loss': 7.4434814453125,\n",
       "  'val_accuracy': 0.5901980996131897},\n",
       " 'HD_137bff59-1a21-4445-9605-1f326007c23e_8': {'loss': 7.477607250213623,\n",
       "  'accuracy': 0.5782548189163208,\n",
       "  'val_loss': 7.741778373718262,\n",
       "  'val_accuracy': 0.5534787178039551},\n",
       " 'HD_137bff59-1a21-4445-9605-1f326007c23e_2': {'loss': 0.30823245644569397,\n",
       "  'accuracy': 0.7457146048545837,\n",
       "  'val_loss': 0.37217044830322266,\n",
       "  'val_accuracy': 0.6934782862663269},\n",
       " 'HD_137bff59-1a21-4445-9605-1f326007c23e_5': {'loss': 7.467984199523926,\n",
       "  'accuracy': 0.5772947072982788,\n",
       "  'val_loss': 7.50401496887207,\n",
       "  'val_accuracy': 0.5828157067298889},\n",
       " 'HD_137bff59-1a21-4445-9605-1f326007c23e_9': {'loss': 0.3820977509021759,\n",
       "  'accuracy': 0.7000038623809814,\n",
       "  'val_loss': 0.41547659039497375,\n",
       "  'val_accuracy': 0.6896849870681763},\n",
       " 'HD_137bff59-1a21-4445-9605-1f326007c23e_1': {'loss': 0.40663352608680725,\n",
       "  'accuracy': 0.694164514541626,\n",
       "  'val_loss': 0.4184938371181488,\n",
       "  'val_accuracy': 0.6747063994407654}}"
      ]
     },
     "execution_count": 34,
     "metadata": {},
     "output_type": "execute_result"
    }
   ],
   "source": [
    "prd_run.get_metrics()"
   ]
  },
  {
   "cell_type": "code",
   "execution_count": 35,
   "id": "b06ec2fa-2f05-4e13-aa11-4ac419e34fec",
   "metadata": {},
   "outputs": [
    {
     "data": {
      "text/plain": [
       "{'HD_137bff59-1a21-4445-9605-1f326007c23e_17': {'loss': 0.23863039910793304,\n",
       "  'accuracy': 0.7795819044113159,\n",
       "  'val_loss': 0.3477984666824341,\n",
       "  'val_accuracy': 0.7306534051895142},\n",
       " 'HD_137bff59-1a21-4445-9605-1f326007c23e_16': {'loss': 7.417075157165527,\n",
       "  'accuracy': 0.5864090919494629,\n",
       "  'val_loss': 7.932819843292236,\n",
       "  'val_accuracy': 0.5465838313102722},\n",
       " 'HD_137bff59-1a21-4445-9605-1f326007c23e_15': {'loss': 7.589364528656006,\n",
       "  'accuracy': 0.5704078674316406,\n",
       "  'val_loss': 7.2281084060668945,\n",
       "  'val_accuracy': 0.5965869426727295},\n",
       " 'HD_137bff59-1a21-4445-9605-1f326007c23e_14': {'loss': 0.39491021633148193,\n",
       "  'accuracy': 0.6904413104057312,\n",
       "  'val_loss': 0.424917608499527,\n",
       "  'val_accuracy': 0.6774212121963501},\n",
       " 'HD_137bff59-1a21-4445-9605-1f326007c23e_13': {'loss': 0.35052040219306946,\n",
       "  'accuracy': 0.7225698828697205,\n",
       "  'val_loss': 0.4094114601612091,\n",
       "  'val_accuracy': 0.6886098384857178},\n",
       " 'HD_137bff59-1a21-4445-9605-1f326007c23e_12': {'loss': 0.38068142533302307,\n",
       "  'accuracy': 0.697358250617981,\n",
       "  'val_loss': 0.4218674600124359,\n",
       "  'val_accuracy': 0.6808683276176453},\n",
       " 'HD_137bff59-1a21-4445-9605-1f326007c23e_4': {'loss': 0.387001633644104,\n",
       "  'accuracy': 0.6958295106887817,\n",
       "  'val_loss': 0.4039287865161896,\n",
       "  'val_accuracy': 0.6901465058326721},\n",
       " 'HD_137bff59-1a21-4445-9605-1f326007c23e_7': {'loss': 0.29913514852523804,\n",
       "  'accuracy': 0.7413971424102783,\n",
       "  'val_loss': 0.374253511428833,\n",
       "  'val_accuracy': 0.694473147392273},\n",
       " 'HD_137bff59-1a21-4445-9605-1f326007c23e_6': {'loss': 0.37388724088668823,\n",
       "  'accuracy': 0.6988562345504761,\n",
       "  'val_loss': 0.394759863615036,\n",
       "  'val_accuracy': 0.7008182406425476},\n",
       " 'HD_137bff59-1a21-4445-9605-1f326007c23e_0': {'loss': 0.338545560836792,\n",
       "  'accuracy': 0.7232252955436707,\n",
       "  'val_loss': 0.39512118697166443,\n",
       "  'val_accuracy': 0.6861110925674438},\n",
       " 'HD_137bff59-1a21-4445-9605-1f326007c23e_10': {'loss': 0.41937729716300964,\n",
       "  'accuracy': 0.6790469288825989,\n",
       "  'val_loss': 0.43466490507125854,\n",
       "  'val_accuracy': 0.6762129664421082},\n",
       " 'HD_137bff59-1a21-4445-9605-1f326007c23e_11': {'loss': 0.3256261646747589,\n",
       "  'accuracy': 0.7277113199234009,\n",
       "  'val_loss': 0.3729400932788849,\n",
       "  'val_accuracy': 0.7072944641113281},\n",
       " 'HD_137bff59-1a21-4445-9605-1f326007c23e_3': {'loss': 7.508174419403076,\n",
       "  'accuracy': 0.5735141038894653,\n",
       "  'val_loss': 7.4434814453125,\n",
       "  'val_accuracy': 0.5901980996131897},\n",
       " 'HD_137bff59-1a21-4445-9605-1f326007c23e_8': {'loss': 7.477607250213623,\n",
       "  'accuracy': 0.5782548189163208,\n",
       "  'val_loss': 7.741778373718262,\n",
       "  'val_accuracy': 0.5534787178039551},\n",
       " 'HD_137bff59-1a21-4445-9605-1f326007c23e_2': {'loss': 0.30823245644569397,\n",
       "  'accuracy': 0.7457146048545837,\n",
       "  'val_loss': 0.37217044830322266,\n",
       "  'val_accuracy': 0.6934782862663269},\n",
       " 'HD_137bff59-1a21-4445-9605-1f326007c23e_5': {'loss': 7.467984199523926,\n",
       "  'accuracy': 0.5772947072982788,\n",
       "  'val_loss': 7.50401496887207,\n",
       "  'val_accuracy': 0.5828157067298889},\n",
       " 'HD_137bff59-1a21-4445-9605-1f326007c23e_9': {'loss': 0.3820977509021759,\n",
       "  'accuracy': 0.7000038623809814,\n",
       "  'val_loss': 0.41547659039497375,\n",
       "  'val_accuracy': 0.6896849870681763},\n",
       " 'HD_137bff59-1a21-4445-9605-1f326007c23e_1': {'loss': 0.40663352608680725,\n",
       "  'accuracy': 0.694164514541626,\n",
       "  'val_loss': 0.4184938371181488,\n",
       "  'val_accuracy': 0.6747063994407654}}"
      ]
     },
     "execution_count": 35,
     "metadata": {},
     "output_type": "execute_result"
    }
   ],
   "source": [
    "prd_run.get_metrics()"
   ]
  },
  {
   "cell_type": "code",
   "execution_count": 36,
   "id": "c11a3bfe-a0b1-4369-acf2-6215f968d951",
   "metadata": {},
   "outputs": [
    {
     "data": {
      "text/plain": [
       "{'HD_137bff59-1a21-4445-9605-1f326007c23e_0': '{\"--batch-size\": 64, \"--epochs\": 50, \"--learning-rate\": 0.0001}',\n",
       " 'HD_137bff59-1a21-4445-9605-1f326007c23e_1': '{\"--batch-size\": 32, \"--epochs\": 20, \"--learning-rate\": 0.01}',\n",
       " 'HD_137bff59-1a21-4445-9605-1f326007c23e_2': '{\"--batch-size\": 64, \"--epochs\": 100, \"--learning-rate\": 0.0001}',\n",
       " 'HD_137bff59-1a21-4445-9605-1f326007c23e_3': '{\"--batch-size\": 64, \"--epochs\": 50, \"--learning-rate\": 0.1}',\n",
       " 'HD_137bff59-1a21-4445-9605-1f326007c23e_4': '{\"--batch-size\": 128, \"--epochs\": 20, \"--learning-rate\": 0.0001}',\n",
       " 'HD_137bff59-1a21-4445-9605-1f326007c23e_5': '{\"--batch-size\": 64, \"--epochs\": 20, \"--learning-rate\": 0.1}',\n",
       " 'HD_137bff59-1a21-4445-9605-1f326007c23e_6': '{\"--batch-size\": 64, \"--epochs\": 20, \"--learning-rate\": 0.0001}',\n",
       " 'HD_137bff59-1a21-4445-9605-1f326007c23e_7': '{\"--batch-size\": 64, \"--epochs\": 20, \"--learning-rate\": 0.001}',\n",
       " 'HD_137bff59-1a21-4445-9605-1f326007c23e_8': '{\"--batch-size\": 128, \"--epochs\": 50, \"--learning-rate\": 0.1}',\n",
       " 'HD_137bff59-1a21-4445-9605-1f326007c23e_9': '{\"--batch-size\": 32, \"--epochs\": 10, \"--learning-rate\": 0.0001}',\n",
       " 'HD_137bff59-1a21-4445-9605-1f326007c23e_10': '{\"--batch-size\": 32, \"--epochs\": 10, \"--learning-rate\": 0.01}',\n",
       " 'HD_137bff59-1a21-4445-9605-1f326007c23e_11': '{\"--batch-size\": 32, \"--epochs\": 50, \"--learning-rate\": 0.0001}',\n",
       " 'HD_137bff59-1a21-4445-9605-1f326007c23e_12': '{\"--batch-size\": 128, \"--epochs\": 10, \"--learning-rate\": 0.01}',\n",
       " 'HD_137bff59-1a21-4445-9605-1f326007c23e_13': '{\"--batch-size\": 128, \"--epochs\": 100, \"--learning-rate\": 0.01}',\n",
       " 'HD_137bff59-1a21-4445-9605-1f326007c23e_14': '{\"--batch-size\": 128, \"--epochs\": 10, \"--learning-rate\": 0.0001}',\n",
       " 'HD_137bff59-1a21-4445-9605-1f326007c23e_15': '{\"--batch-size\": 128, \"--epochs\": 20, \"--learning-rate\": 0.1}',\n",
       " 'HD_137bff59-1a21-4445-9605-1f326007c23e_16': '{\"--batch-size\": 64, \"--epochs\": 100, \"--learning-rate\": 0.1}',\n",
       " 'HD_137bff59-1a21-4445-9605-1f326007c23e_17': '{\"--batch-size\": 128, \"--epochs\": 50, \"--learning-rate\": 0.001}'}"
      ]
     },
     "execution_count": 36,
     "metadata": {},
     "output_type": "execute_result"
    }
   ],
   "source": [
    "prd_run.get_hyperparameters()"
   ]
  },
  {
   "cell_type": "code",
   "execution_count": 37,
   "id": "75d96c5e-8648-4b90-b326-3b9f8c22d0ad",
   "metadata": {},
   "outputs": [
    {
     "data": {
      "text/plain": [
       "{'HD_137bff59-1a21-4445-9605-1f326007c23e_0': '{\"--batch-size\": 64, \"--epochs\": 50, \"--learning-rate\": 0.0001}',\n",
       " 'HD_137bff59-1a21-4445-9605-1f326007c23e_1': '{\"--batch-size\": 32, \"--epochs\": 20, \"--learning-rate\": 0.01}',\n",
       " 'HD_137bff59-1a21-4445-9605-1f326007c23e_2': '{\"--batch-size\": 64, \"--epochs\": 100, \"--learning-rate\": 0.0001}',\n",
       " 'HD_137bff59-1a21-4445-9605-1f326007c23e_3': '{\"--batch-size\": 64, \"--epochs\": 50, \"--learning-rate\": 0.1}',\n",
       " 'HD_137bff59-1a21-4445-9605-1f326007c23e_4': '{\"--batch-size\": 128, \"--epochs\": 20, \"--learning-rate\": 0.0001}',\n",
       " 'HD_137bff59-1a21-4445-9605-1f326007c23e_5': '{\"--batch-size\": 64, \"--epochs\": 20, \"--learning-rate\": 0.1}',\n",
       " 'HD_137bff59-1a21-4445-9605-1f326007c23e_6': '{\"--batch-size\": 64, \"--epochs\": 20, \"--learning-rate\": 0.0001}',\n",
       " 'HD_137bff59-1a21-4445-9605-1f326007c23e_7': '{\"--batch-size\": 64, \"--epochs\": 20, \"--learning-rate\": 0.001}',\n",
       " 'HD_137bff59-1a21-4445-9605-1f326007c23e_8': '{\"--batch-size\": 128, \"--epochs\": 50, \"--learning-rate\": 0.1}',\n",
       " 'HD_137bff59-1a21-4445-9605-1f326007c23e_9': '{\"--batch-size\": 32, \"--epochs\": 10, \"--learning-rate\": 0.0001}',\n",
       " 'HD_137bff59-1a21-4445-9605-1f326007c23e_10': '{\"--batch-size\": 32, \"--epochs\": 10, \"--learning-rate\": 0.01}',\n",
       " 'HD_137bff59-1a21-4445-9605-1f326007c23e_11': '{\"--batch-size\": 32, \"--epochs\": 50, \"--learning-rate\": 0.0001}',\n",
       " 'HD_137bff59-1a21-4445-9605-1f326007c23e_12': '{\"--batch-size\": 128, \"--epochs\": 10, \"--learning-rate\": 0.01}',\n",
       " 'HD_137bff59-1a21-4445-9605-1f326007c23e_13': '{\"--batch-size\": 128, \"--epochs\": 100, \"--learning-rate\": 0.01}',\n",
       " 'HD_137bff59-1a21-4445-9605-1f326007c23e_14': '{\"--batch-size\": 128, \"--epochs\": 10, \"--learning-rate\": 0.0001}',\n",
       " 'HD_137bff59-1a21-4445-9605-1f326007c23e_15': '{\"--batch-size\": 128, \"--epochs\": 20, \"--learning-rate\": 0.1}',\n",
       " 'HD_137bff59-1a21-4445-9605-1f326007c23e_16': '{\"--batch-size\": 64, \"--epochs\": 100, \"--learning-rate\": 0.1}',\n",
       " 'HD_137bff59-1a21-4445-9605-1f326007c23e_17': '{\"--batch-size\": 128, \"--epochs\": 50, \"--learning-rate\": 0.001}'}"
      ]
     },
     "execution_count": 37,
     "metadata": {},
     "output_type": "execute_result"
    }
   ],
   "source": [
    "prd_run.get_hyperparameters()"
   ]
  },
  {
   "cell_type": "code",
   "execution_count": null,
   "id": "684d70c1-6498-4b52-b8ff-ec846db238ab",
   "metadata": {},
   "outputs": [],
   "source": []
  }
 ],
 "metadata": {
  "kernelspec": {
   "display_name": "PRd ML Training AzML",
   "language": "python",
   "name": "kernel_prd_ml"
  },
  "language_info": {
   "codemirror_mode": {
    "name": "ipython",
    "version": 3
   },
   "file_extension": ".py",
   "mimetype": "text/x-python",
   "name": "python",
   "nbconvert_exporter": "python",
   "pygments_lexer": "ipython3",
   "version": "3.8.13"
  }
 },
 "nbformat": 4,
 "nbformat_minor": 5
}
