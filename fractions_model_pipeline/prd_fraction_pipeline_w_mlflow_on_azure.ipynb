{
 "cells": [
  {
   "cell_type": "markdown",
   "id": "ebb682d2-0f94-43f9-8971-239a40ab19f5",
   "metadata": {},
   "source": [
    "# Model for predicting radar fraction with different intensity bands"
   ]
  },
  {
   "cell_type": "code",
   "execution_count": 1,
   "id": "preliminary-idaho",
   "metadata": {},
   "outputs": [],
   "source": [
    "import pandas as pd\n",
    "import numpy as np\n",
    "import pathlib\n",
    "import matplotlib.pyplot as plt"
   ]
  },
  {
   "cell_type": "code",
   "execution_count": 2,
   "id": "06959be2",
   "metadata": {},
   "outputs": [],
   "source": [
    "from sklearn.model_selection import train_test_split\n",
    "from sklearn.preprocessing import StandardScaler"
   ]
  },
  {
   "cell_type": "code",
   "execution_count": 3,
   "id": "8300679e-340d-4fa3-9c7c-b23dc2ca9935",
   "metadata": {},
   "outputs": [],
   "source": [
    "# %load_ext tensorboard"
   ]
  },
  {
   "cell_type": "code",
   "execution_count": 4,
   "id": "e40a4d6c",
   "metadata": {},
   "outputs": [],
   "source": [
    "import tensorflow as tf\n",
    "from tensorflow.keras.layers import Dense, Activation, Flatten\n",
    "from tensorflow.keras.layers import Conv1D, concatenate\n",
    "from tensorflow.keras.layers import ZeroPadding1D, Reshape, Input, Dropout, PReLU\n",
    "from tensorflow.keras.models import Sequential, Model"
   ]
  },
  {
   "cell_type": "code",
   "execution_count": 5,
   "id": "fb927817-9259-4eda-b835-de060914651f",
   "metadata": {},
   "outputs": [
    {
     "name": "stderr",
     "output_type": "stream",
     "text": [
      "2022/08/25 14:07:52 WARNING mlflow.utils.autologging_utils: You are using an unsupported version of tensorflow. If you encounter errors during autologging, try upgrading / downgrading tensorflow to a supported version, or try upgrading MLflow.\n"
     ]
    }
   ],
   "source": [
    "import mlflow\n",
    "mlflow.tensorflow.autolog()"
   ]
  },
  {
   "cell_type": "code",
   "execution_count": 6,
   "id": "e8be64f6-152c-4dc2-bdca-8bc8f292ec90",
   "metadata": {},
   "outputs": [],
   "source": [
    "import prd_pipeline"
   ]
  },
  {
   "cell_type": "code",
   "execution_count": 7,
   "id": "5b55f2dc-9d4e-49b4-9965-5d0a7d25d458",
   "metadata": {},
   "outputs": [],
   "source": [
    "import azureml.core\n",
    "from azureml.core import Workspace, Datastore, Dataset\n",
    "from azureml.core import Experiment\n",
    "\n",
    "prd_ws = Workspace.from_config()"
   ]
  },
  {
   "cell_type": "code",
   "execution_count": 8,
   "id": "d1145f9a-f0aa-4f19-9589-f5aa85c2606c",
   "metadata": {},
   "outputs": [],
   "source": [
    "mlflow.set_tracking_uri(prd_ws.get_mlflow_tracking_uri())"
   ]
  },
  {
   "cell_type": "code",
   "execution_count": 10,
   "id": "15ef9973-1466-4a42-b214-646ede49d6ad",
   "metadata": {},
   "outputs": [],
   "source": [
    "azure_dataset_name ='prd_merged_all_events_files'\n",
    "azure_experiment_name='prd_fraction_models'\n",
    "azure_env_name = 'prd_ml_cluster'\n",
    "cluster_name = 'mlops-test'"
   ]
  },
  {
   "cell_type": "code",
   "execution_count": 11,
   "id": "270e2027-fc87-4b05-8aea-f248982bbeef",
   "metadata": {},
   "outputs": [],
   "source": [
    "prd_model_name = 'azml_mlflow_20220504'"
   ]
  },
  {
   "cell_type": "markdown",
   "id": "wireless-investing",
   "metadata": {
    "tags": []
   },
   "source": [
    "### Load data"
   ]
  },
  {
   "cell_type": "code",
   "execution_count": 12,
   "id": "85382878-1d22-4deb-92b9-58946c4bf878",
   "metadata": {},
   "outputs": [],
   "source": [
    "target_parameter = 'rainfall_rate_composite'\n",
    "profile_features = ['air_temperature', 'relative_humidity']\n",
    "single_lvl_features = ['air_pressure_at_sea_level'] "
   ]
  },
  {
   "cell_type": "code",
   "execution_count": 13,
   "id": "ca91538b-db49-4463-9886-67b4d5f36b42",
   "metadata": {},
   "outputs": [
    {
     "ename": "AttributeError",
     "evalue": "'FileDataset' object has no attribute 'to_pandas_dataframe'",
     "output_type": "error",
     "traceback": [
      "\u001b[0;31m---------------------------------------------------------------------------\u001b[0m",
      "\u001b[0;31mAttributeError\u001b[0m                            Traceback (most recent call last)",
      "Input \u001b[0;32mIn [13]\u001b[0m, in \u001b[0;36m<cell line: 1>\u001b[0;34m()\u001b[0m\n\u001b[0;32m----> 1\u001b[0m input_data \u001b[38;5;241m=\u001b[39m \u001b[43mprd_pipeline\u001b[49m\u001b[38;5;241;43m.\u001b[39;49m\u001b[43mload_data\u001b[49m\u001b[43m(\u001b[49m\n\u001b[1;32m      2\u001b[0m \u001b[43m    \u001b[49m\u001b[43mprd_ws\u001b[49m\u001b[43m,\u001b[49m\n\u001b[1;32m      3\u001b[0m \u001b[43m    \u001b[49m\u001b[43mdataset_name\u001b[49m\u001b[38;5;241;43m=\u001b[39;49m\u001b[43mazure_dataset_name\u001b[49m\n\u001b[1;32m      4\u001b[0m \u001b[43m)\u001b[49m\n\u001b[1;32m      5\u001b[0m data_splits, data_dims \u001b[38;5;241m=\u001b[39m prd_pipeline\u001b[38;5;241m.\u001b[39mpreprocess_data(\n\u001b[1;32m      6\u001b[0m     input_data,\n\u001b[1;32m      7\u001b[0m     test_fraction\u001b[38;5;241m=\u001b[39m\u001b[38;5;241m0.2\u001b[39m,\n\u001b[1;32m      8\u001b[0m     feature_dict\u001b[38;5;241m=\u001b[39m{\u001b[38;5;124m'\u001b[39m\u001b[38;5;124mprofile\u001b[39m\u001b[38;5;124m'\u001b[39m: profile_features, \u001b[38;5;124m'\u001b[39m\u001b[38;5;124msingle_level\u001b[39m\u001b[38;5;124m'\u001b[39m: single_lvl_features,\u001b[38;5;124m'\u001b[39m\u001b[38;5;124mtarget\u001b[39m\u001b[38;5;124m'\u001b[39m: target_parameter,},\n\u001b[1;32m      9\u001b[0m     test_savefn\u001b[38;5;241m=\u001b[39m\u001b[38;5;124m'\u001b[39m\u001b[38;5;124mprd_test.csv\u001b[39m\u001b[38;5;124m'\u001b[39m  \u001b[38;5;66;03m# TODO: update filename!\u001b[39;00m\n\u001b[1;32m     10\u001b[0m )\n",
      "File \u001b[0;32m/mnt/batch/tasks/shared/LS_root/mounts/clusters/prd-ml-fractions/code/Users/hannah.brown/precip_rediagnosis/fractions_model_pipeline/prd_pipeline.py:92\u001b[0m, in \u001b[0;36mload_data\u001b[0;34m(current_ws, dataset_name)\u001b[0m\n\u001b[1;32m     88\u001b[0m \u001b[38;5;124;03m\"\"\"\u001b[39;00m\n\u001b[1;32m     89\u001b[0m \u001b[38;5;124;03mThis function loads data from AzureML storage and returns it as a pandas dataframe \u001b[39;00m\n\u001b[1;32m     90\u001b[0m \u001b[38;5;124;03m\"\"\"\u001b[39;00m\n\u001b[1;32m     91\u001b[0m dataset \u001b[38;5;241m=\u001b[39m azureml\u001b[38;5;241m.\u001b[39mcore\u001b[38;5;241m.\u001b[39mDataset\u001b[38;5;241m.\u001b[39mget_by_name(current_ws, name\u001b[38;5;241m=\u001b[39mdataset_name)\n\u001b[0;32m---> 92\u001b[0m input_data \u001b[38;5;241m=\u001b[39m \u001b[43mdataset\u001b[49m\u001b[38;5;241;43m.\u001b[39;49m\u001b[43mto_pandas_dataframe\u001b[49m()    \n\u001b[1;32m     93\u001b[0m \u001b[38;5;28;01mreturn\u001b[39;00m input_data\n",
      "\u001b[0;31mAttributeError\u001b[0m: 'FileDataset' object has no attribute 'to_pandas_dataframe'"
     ]
    }
   ],
   "source": [
    "# input_data = prd_pipeline.load_data(\n",
    "#     prd_ws,\n",
    "#     dataset_name=azure_dataset_name\n",
    "# )\n",
    "# data_splits, data_dims = prd_pipeline.preprocess_data(\n",
    "#     input_data,\n",
    "#     test_fraction=0.2,\n",
    "#     feature_dict={'profile': profile_features, 'single_level': single_lvl_features,'target': target_parameter,},\n",
    "#     test_savefn='prd_test.csv'  # TODO: update filename!\n",
    "# )\n"
   ]
  },
  {
   "cell_type": "code",
   "execution_count": null,
   "id": "af1aea44-3c03-4b6f-a4c8-504594f6ba29",
   "metadata": {},
   "outputs": [
    {
     "name": "stdout",
     "output_type": "stream",
     "text": [
      "Not mounting as a volume: ArgumentError(InvalidArgument { argument: \"arguments.path\", expected: \"Glob patterns inside the path are not supported by the volume mount.Path must be a direct path to the file or folder, or end with '/**' or '/**/*' to match the entire content of the volume.\", actual: \"REDACTED\" }). \n",
      "Falling back to dataflow mount.\n",
      "loading all data\n"
     ]
    }
   ],
   "source": [
    "prd_merged_file_dataset_name = 'prd_merged_all_events_files'\n",
    "train202208_dataset_all = azureml.core.Dataset.get_by_name(prd_ws, name=prd_merged_file_dataset_name)\n",
    "with train202208_dataset_all.mount() as mount1:\n",
    "    print('loading all data')\n",
    "    prd_path_list = [p1 for p1 in pathlib.Path(mount1.mount_point).rglob('*csv') ]\n",
    "    merged_df = pd.concat([pd.read_csv(p1) for p1 in prd_path_list])\n",
    "    \n",
    "test_fraction=0.2\n",
    "df_train, df_test = prd_pipeline.random_time_space_sample(merged_df, test_fraction=test_fraction, random_state=np.random.RandomState(), sampling_columns = ['time', 'latitude', 'longitude'])\n",
    "data_splits, data_dims_dict = prd_pipeline.preprocess_data(df_train, feature_dict, test_fraction=test_fraction/(1-test_fraction))"
   ]
  },
  {
   "cell_type": "code",
   "execution_count": null,
   "id": "295a1e7f-de99-4c44-98de-eeeaf8294dbd",
   "metadata": {},
   "outputs": [],
   "source": [
    "input_data[:2]"
   ]
  },
  {
   "cell_type": "code",
   "execution_count": null,
   "id": "f7aa31b1",
   "metadata": {},
   "outputs": [],
   "source": [
    "nprof_features = data_dims['nprof_features'] \n",
    "nheights = data_dims['nheights']\n",
    "nsinglvl_features = data_dims['nsinglvl_features']"
   ]
  },
  {
   "cell_type": "code",
   "execution_count": 14,
   "id": "7def4473-cb5d-401a-9d6b-671682dbddae",
   "metadata": {
    "tags": []
   },
   "outputs": [
    {
     "data": {
      "text/plain": [
       "'f1ebd4da-78ee-4b70-9d2c-5b9c5fb75ea9'"
      ]
     },
     "execution_count": 14,
     "metadata": {},
     "output_type": "execute_result"
    }
   ],
   "source": [
    "exp1 = mlflow.create_experiment('prd_exp_azml_mlflow')\n",
    "exp1"
   ]
  },
  {
   "cell_type": "code",
   "execution_count": 15,
   "id": "a8b3a87b-bdcd-49df-84c7-f37d8aa78004",
   "metadata": {},
   "outputs": [],
   "source": [
    "exp1 = mlflow.get_experiment(exp1)"
   ]
  },
  {
   "cell_type": "code",
   "execution_count": 16,
   "id": "a27fd2cd-ecda-4bee-82e3-13a6b876e3bf",
   "metadata": {},
   "outputs": [
    {
     "data": {
      "text/plain": [
       "<Experiment: artifact_location='', experiment_id='f1ebd4da-78ee-4b70-9d2c-5b9c5fb75ea9', lifecycle_stage='active', name='prd_exp_azml_mlflow', tags={}>"
      ]
     },
     "execution_count": 16,
     "metadata": {},
     "output_type": "execute_result"
    }
   ],
   "source": [
    "exp1"
   ]
  },
  {
   "cell_type": "code",
   "execution_count": 17,
   "id": "d7243f14-bdd5-4348-ad0e-bf8729197580",
   "metadata": {},
   "outputs": [],
   "source": [
    "import datetime\n",
    "log_dir = 'log/fit/' + datetime.datetime.now().strftime('%Y%m%d-%H%M%S')"
   ]
  },
  {
   "cell_type": "code",
   "execution_count": 18,
   "id": "91a2ab34-98b2-428a-ae55-4e04fda66df4",
   "metadata": {},
   "outputs": [],
   "source": [
    "tensorflow_callback = tf.keras.callbacks.TensorBoard(log_dir=log_dir, histogram_freq=1)\n",
    "\n",
    "# run tensorboard --logdir LOGDIRPATH from command line to launch "
   ]
  },
  {
   "cell_type": "code",
   "execution_count": 19,
   "id": "c7e7dd0b",
   "metadata": {},
   "outputs": [],
   "source": [
    "# plt.figure(figsize=(10, 8))\n",
    "# plt.scatter(data_splits['X_test'], y_pred, s=200, c='darkblue')\n",
    "# plt.gca().plot([0, 300], [0, 300], ls=\"--\", c=\".3\")\n",
    "# plt.xlabel('Actual 3hr precip accumulation value')\n",
    "# plt.ylabel('Predicted 3hr precip_accumulation value')\n",
    "# plt.show()"
   ]
  },
  {
   "cell_type": "code",
   "execution_count": 20,
   "id": "0669dad0-af4a-496e-83e4-280797bc2fc1",
   "metadata": {},
   "outputs": [],
   "source": [
    "import tempfile"
   ]
  },
  {
   "cell_type": "code",
   "execution_count": 25,
   "id": "18e0343a-b343-4fc3-8cf9-17678d970b9f",
   "metadata": {},
   "outputs": [
    {
     "name": "stdout",
     "output_type": "stream",
     "text": [
      "Model: \"model_1\"\n",
      "__________________________________________________________________________________________________\n",
      " Layer (type)                   Output Shape         Param #     Connected to                     \n",
      "==================================================================================================\n",
      " profile_input (InputLayer)     [(None, 33, 2)]      0           []                               \n",
      "                                                                                                  \n",
      " zero_padding1d_3 (ZeroPadding1  (None, 35, 2)       0           ['profile_input[0][0]']          \n",
      " D)                                                                                               \n",
      "                                                                                                  \n",
      " conv1d_3 (Conv1D)              (None, 33, 32)       192         ['zero_padding1d_3[0][0]']       \n",
      "                                                                                                  \n",
      " zero_padding1d_4 (ZeroPadding1  (None, 35, 32)      0           ['conv1d_3[0][0]']               \n",
      " D)                                                                                               \n",
      "                                                                                                  \n",
      " conv1d_4 (Conv1D)              (None, 33, 32)       3072        ['zero_padding1d_4[0][0]']       \n",
      "                                                                                                  \n",
      " zero_padding1d_5 (ZeroPadding1  (None, 35, 32)      0           ['conv1d_4[0][0]']               \n",
      " D)                                                                                               \n",
      "                                                                                                  \n",
      " conv1d_5 (Conv1D)              (None, 33, 32)       3072        ['zero_padding1d_5[0][0]']       \n",
      "                                                                                                  \n",
      " add_2 (Add)                    (None, 33, 32)       0           ['conv1d_5[0][0]',               \n",
      "                                                                  'conv1d_3[0][0]']               \n",
      "                                                                                                  \n",
      " flatten_2 (Flatten)            (None, 1056)         0           ['add_2[0][0]']                  \n",
      "                                                                                                  \n",
      " dense_3 (Dense)                (None, 66)           69696       ['flatten_2[0][0]']              \n",
      "                                                                                                  \n",
      " surf_input (InputLayer)        [(None, 1)]          0           []                               \n",
      "                                                                                                  \n",
      " flatten_3 (Flatten)            (None, 66)           0           ['profile_input[0][0]']          \n",
      "                                                                                                  \n",
      " concatenate_3 (Concatenate)    (None, 67)           0           ['dense_3[0][0]',                \n",
      "                                                                  'surf_input[0][0]']             \n",
      "                                                                                                  \n",
      " concatenate_2 (Concatenate)    (None, 67)           0           ['flatten_3[0][0]',              \n",
      "                                                                  'surf_input[0][0]']             \n",
      "                                                                                                  \n",
      " add_3 (Add)                    (None, 67)           0           ['concatenate_3[0][0]',          \n",
      "                                                                  'concatenate_2[0][0]']          \n",
      "                                                                                                  \n",
      " dense_4 (Dense)                (None, 1024)         68608       ['add_3[0][0]']                  \n",
      "                                                                                                  \n",
      " dense_5 (Dense)                (None, 1024)         1048576     ['dense_4[0][0]']                \n",
      "                                                                                                  \n",
      " main_output (Dense)            (None, 1)            1025        ['dense_5[0][0]']                \n",
      "                                                                                                  \n",
      "==================================================================================================\n",
      "Total params: 1,194,241\n",
      "Trainable params: 1,194,241\n",
      "Non-trainable params: 0\n",
      "__________________________________________________________________________________________________\n",
      "Epoch 1/50\n",
      "178/178 [==============================] - 3s 16ms/step - loss: 16.3634 - val_loss: 14.2281\n",
      "Epoch 2/50\n",
      "178/178 [==============================] - 2s 12ms/step - loss: 14.2012 - val_loss: 14.7862\n",
      "Epoch 3/50\n",
      "178/178 [==============================] - 2s 12ms/step - loss: 13.5766 - val_loss: 13.1872\n",
      "Epoch 4/50\n",
      "178/178 [==============================] - 2s 13ms/step - loss: 13.3607 - val_loss: 13.9135\n",
      "Epoch 5/50\n",
      "178/178 [==============================] - 2s 13ms/step - loss: 13.0023 - val_loss: 12.7141\n",
      "Epoch 6/50\n",
      "178/178 [==============================] - 2s 14ms/step - loss: 12.3321 - val_loss: 12.2938\n",
      "Epoch 7/50\n",
      "178/178 [==============================] - 2s 13ms/step - loss: 12.1320 - val_loss: 12.5546\n",
      "Epoch 8/50\n",
      "178/178 [==============================] - 2s 13ms/step - loss: 11.9757 - val_loss: 12.2795\n",
      "Epoch 9/50\n",
      "178/178 [==============================] - 2s 13ms/step - loss: 11.7262 - val_loss: 12.1360\n",
      "Epoch 10/50\n",
      "178/178 [==============================] - 2s 12ms/step - loss: 11.5931 - val_loss: 11.9480\n",
      "Epoch 11/50\n",
      "178/178 [==============================] - 2s 13ms/step - loss: 11.3986 - val_loss: 11.9115\n",
      "Epoch 12/50\n",
      "178/178 [==============================] - 2s 14ms/step - loss: 11.3169 - val_loss: 11.4994\n",
      "Epoch 13/50\n",
      "178/178 [==============================] - 2s 14ms/step - loss: 11.0819 - val_loss: 11.4254\n",
      "Epoch 14/50\n",
      "178/178 [==============================] - 2s 12ms/step - loss: 10.9874 - val_loss: 11.1316\n",
      "Epoch 15/50\n",
      "178/178 [==============================] - 2s 13ms/step - loss: 10.8845 - val_loss: 11.3996\n",
      "Epoch 16/50\n",
      "178/178 [==============================] - 2s 13ms/step - loss: 10.7358 - val_loss: 11.1189\n",
      "Epoch 17/50\n",
      "178/178 [==============================] - 2s 13ms/step - loss: 10.7632 - val_loss: 11.2832\n",
      "Epoch 18/50\n",
      "178/178 [==============================] - 2s 13ms/step - loss: 10.5798 - val_loss: 10.9352\n",
      "Epoch 19/50\n",
      "178/178 [==============================] - 2s 13ms/step - loss: 10.5006 - val_loss: 11.2902\n",
      "Epoch 20/50\n",
      "178/178 [==============================] - 2s 13ms/step - loss: 10.5780 - val_loss: 11.4656\n",
      "Epoch 21/50\n",
      "178/178 [==============================] - 2s 14ms/step - loss: 10.4337 - val_loss: 10.9828\n",
      "Epoch 22/50\n",
      "178/178 [==============================] - 2s 12ms/step - loss: 10.3233 - val_loss: 10.8864\n",
      "Epoch 23/50\n",
      "178/178 [==============================] - 2s 13ms/step - loss: 10.3287 - val_loss: 11.2739\n",
      "Epoch 24/50\n",
      "178/178 [==============================] - 2s 13ms/step - loss: 10.1746 - val_loss: 10.5475\n",
      "Epoch 25/50\n",
      "178/178 [==============================] - 2s 14ms/step - loss: 10.1650 - val_loss: 10.9128\n",
      "Epoch 26/50\n",
      "178/178 [==============================] - 2s 13ms/step - loss: 10.1421 - val_loss: 10.6880\n",
      "Epoch 27/50\n",
      "178/178 [==============================] - 2s 13ms/step - loss: 10.0291 - val_loss: 10.5786\n",
      "Epoch 28/50\n",
      "178/178 [==============================] - 2s 13ms/step - loss: 9.9380 - val_loss: 10.7413\n",
      "Epoch 29/50\n",
      "178/178 [==============================] - 2s 14ms/step - loss: 9.9205 - val_loss: 10.5686\n",
      "Epoch 30/50\n",
      "178/178 [==============================] - 2s 12ms/step - loss: 9.8739 - val_loss: 10.7338\n",
      "Epoch 31/50\n",
      "178/178 [==============================] - 2s 13ms/step - loss: 9.8351 - val_loss: 10.6887\n",
      "Epoch 32/50\n",
      "178/178 [==============================] - 2s 13ms/step - loss: 9.8227 - val_loss: 10.4241\n",
      "Epoch 33/50\n",
      "178/178 [==============================] - 2s 13ms/step - loss: 9.7075 - val_loss: 10.5327\n",
      "Epoch 34/50\n",
      "178/178 [==============================] - 2s 13ms/step - loss: 9.6549 - val_loss: 10.3698\n",
      "Epoch 35/50\n",
      "178/178 [==============================] - 2s 12ms/step - loss: 9.6473 - val_loss: 10.7036\n",
      "Epoch 36/50\n",
      "178/178 [==============================] - 2s 13ms/step - loss: 9.5627 - val_loss: 10.6799\n",
      "Epoch 37/50\n",
      "178/178 [==============================] - 2s 13ms/step - loss: 9.6368 - val_loss: 10.1232\n",
      "Epoch 38/50\n",
      "178/178 [==============================] - 2s 13ms/step - loss: 9.3841 - val_loss: 10.3076\n",
      "Epoch 39/50\n",
      "178/178 [==============================] - 2s 13ms/step - loss: 9.5072 - val_loss: 10.5319\n",
      "Epoch 40/50\n",
      "178/178 [==============================] - 2s 13ms/step - loss: 9.4182 - val_loss: 10.2786\n",
      "Epoch 41/50\n",
      "178/178 [==============================] - 2s 13ms/step - loss: 9.4501 - val_loss: 10.4559\n",
      "Epoch 42/50\n",
      "178/178 [==============================] - 2s 14ms/step - loss: 9.4805 - val_loss: 10.0742\n",
      "Epoch 43/50\n",
      "178/178 [==============================] - 2s 13ms/step - loss: 9.2376 - val_loss: 10.2703\n",
      "Epoch 44/50\n",
      "178/178 [==============================] - 2s 13ms/step - loss: 9.4378 - val_loss: 10.4375\n",
      "Epoch 45/50\n",
      "178/178 [==============================] - 2s 13ms/step - loss: 9.2868 - val_loss: 10.2434\n",
      "Epoch 46/50\n",
      "178/178 [==============================] - 2s 13ms/step - loss: 9.2412 - val_loss: 10.3630\n",
      "Epoch 47/50\n",
      "178/178 [==============================] - 2s 13ms/step - loss: 9.2241 - val_loss: 10.2569\n",
      "Epoch 48/50\n",
      "178/178 [==============================] - 2s 14ms/step - loss: 9.2163 - val_loss: 10.3647\n",
      "Epoch 49/50\n",
      "178/178 [==============================] - 2s 12ms/step - loss: 9.1142 - val_loss: 10.0445\n",
      "Epoch 50/50\n",
      "178/178 [==============================] - 2s 13ms/step - loss: 9.0913 - val_loss: 10.4243\n",
      "INFO:tensorflow:Assets written to: /tmp/tmpozd0xeoo/model/data/model/assets\n",
      "MAE: 10.424\n",
      "R-squared score: 0.771\n"
     ]
    },
    {
     "data": {
      "image/png": "[encoded data removed]",
      "text/plain": [
       "<Figure size 720x576 with 1 Axes>"
      ]
     },
     "metadata": {
      "needs_background": "light"
     },
     "output_type": "display_data"
    }
   ],
   "source": [
    "with mlflow.start_run(experiment_id=exp1.experiment_id) as current_run:\n",
    "    model = prd_pipeline.build_model(nprof_features, nheights, nsinglvl_features)\n",
    "    model.summary()\n",
    "    optimizer = tf.keras.optimizers.Adam(learning_rate=0.01)\n",
    "    model.compile(loss='mean_absolute_error', optimizer=optimizer)\n",
    "\n",
    "    history = model.fit(data_splits['X_train'], data_splits['y_train'], epochs=50, batch_size=128, validation_data=(data_splits['X_val'], data_splits['y_val']), verbose=True, callbacks=[tensorflow_callback])\n",
    "\n",
    "    y_pred = model.predict(data_splits['X_val'])\n",
    "    error = mean_absolute_error(data_splits['y_val'], y_pred)\n",
    "    print(f'MAE: {error:.3f}')\n",
    "    rsqrd = r2_score(data_splits['y_val'], y_pred)\n",
    "    print(f'R-squared score: {rsqrd:.3f}')\n",
    "    \n",
    "    mlflow.log_metric('MAE', error)\n",
    "    mlflow.log_metric('R-squared', rsqrd)\n",
    "    \n",
    "    fig1 = plt.figure(figsize=(10, 8))\n",
    "    ax1 = fig1.add_subplot(1,1,1)\n",
    "    ax1.scatter(data_splits['y_val'], y_pred, s=200, c='darkblue')\n",
    "    ax1.plot([0, 300], [0, 300], ls=\"--\", c=\".3\")\n",
    "    ax1.set_xlabel('Actual 3hr precip accumulation value')\n",
    "    ax1.set_ylabel('Predicted 3hr precip_accumulation value')\n",
    "#     with tempfile.TemporaryDirectory() as td1:\n",
    "        \n",
    "#         fig1.savefig(plot_out_path, bbox_inches='tight')\n",
    "    mlflow.log_figure(fig1,  'actual_predicted_precip_3hr.png')                   \n",
    "    # mlflow.log\n"
   ]
  },
  {
   "cell_type": "markdown",
   "id": "e739e218-21cf-4ae4-b357-5c226177002f",
   "metadata": {},
   "source": [
    "If we look at the experiment in AzureML GUI, we see that all the model parameters have been automatically logged, and the model has been saved by ML Flow ready for use in inference."
   ]
  },
  {
   "cell_type": "markdown",
   "id": "2f0fa07b",
   "metadata": {
    "tags": []
   },
   "source": [
    "## Evaluation"
   ]
  },
  {
   "cell_type": "code",
   "execution_count": 26,
   "id": "f4fe371a",
   "metadata": {},
   "outputs": [],
   "source": [
    "training_hist_df = pd.DataFrame(history.history)\n",
    "training_hist_df['epoch'] = history.epoch"
   ]
  },
  {
   "cell_type": "code",
   "execution_count": 27,
   "id": "2c7ec093",
   "metadata": {},
   "outputs": [
    {
     "data": {
      "image/png": "[encoded data removed]",
      "text/plain": [
       "<Figure size 720x576 with 1 Axes>"
      ]
     },
     "metadata": {
      "needs_background": "light"
     },
     "output_type": "display_data"
    }
   ],
   "source": [
    "plt.figure(figsize=(10, 8))\n",
    "plt.plot(training_hist_df.epoch, training_hist_df.loss, label='training')\n",
    "plt.plot(training_hist_df.epoch, training_hist_df.val_loss, c='g', label='validation')\n",
    "plt.legend()\n",
    "plt.ylabel('MAE [mm of precipitation]')\n",
    "plt.xlabel('epochs')\n",
    "plt.show()"
   ]
  },
  {
   "cell_type": "code",
   "execution_count": 28,
   "id": "9560e11a",
   "metadata": {},
   "outputs": [
    {
     "data": {
      "image/png": "[encoded data removed]",
      "text/plain": [
       "<Figure size 720x576 with 1 Axes>"
      ]
     },
     "metadata": {
      "needs_background": "light"
     },
     "output_type": "display_data"
    }
   ],
   "source": [
    "plt.figure(figsize=(10, 8))\n",
    "plt.hist(data_splits['y_val'], alpha=0.5, bins=40, label='Actual')\n",
    "plt.hist(y_pred, alpha=0.5, bins=40, label='Predicted')\n",
    "plt.legend()\n",
    "plt.show()"
   ]
  },
  {
   "cell_type": "code",
   "execution_count": null,
   "id": "197da54b-4b3d-45b0-8ba7-d91ca6839419",
   "metadata": {},
   "outputs": [],
   "source": []
  }
 ],
 "metadata": {
  "kernelspec": {
   "display_name": "Python 3 (ipykernel)",
   "language": "python",
   "name": "python3"
  },
  "language_info": {
   "codemirror_mode": {
    "name": "ipython",
    "version": 3
   },
   "file_extension": ".py",
   "mimetype": "text/x-python",
   "name": "python",
   "nbconvert_exporter": "python",
   "pygments_lexer": "ipython3",
   "version": "3.8.13"
  }
 },
 "nbformat": 4,
 "nbformat_minor": 5
}
